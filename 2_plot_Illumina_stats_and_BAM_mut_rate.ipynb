{
 "cells": [
  {
   "cell_type": "markdown",
   "id": "f3059ca6-c605-48c7-ab9c-90450b5cc07d",
   "metadata": {},
   "source": [
    "# QC and mut rate for Illumina data"
   ]
  },
  {
   "cell_type": "code",
   "execution_count": null,
   "id": "588a76d2-8c7e-4e02-a7d5-33d1731035a9",
   "metadata": {},
   "outputs": [],
   "source": [
    "#plotly libraries\n",
    "import plotly.express as px\n",
    "import plotly.colors as pc\n",
    "import plotly.graph_objects as go\n",
    "import plotly.io as pio\n",
    "import numpy as np\n",
    "\n",
    "import sklearn.metrics as metrics\n",
    "import pandas as pd\n",
    "from plotly.subplots import make_subplots\n",
    "import plotly.figure_factory as ff\n",
    "\n",
    "#default renderer (svg means very small file size, visibility on github, high quality, but requires sometimes setting height and width)\n",
    "pio.renderers.default = \"svg\"\n",
    "\n",
    "colors = [\"#363b3d\", \"#727b76\", \"#31a240\", \"#f93939\", \"#f79118\", \"#de7b06\", \"#9b308f\", \"#dc759b\"]\n",
    "#additional defaults\n",
    "px.defaults.color_discrete_sequence = [\"rgb(100,100,100)\"] + pc.qualitative.D3\n",
    "px.defaults.width=1000\n",
    "px.defaults.height=800\n",
    "\n",
    "#try setting this as default for histograms\n",
    "#fig.update_traces(marker_line_width=0.2)\n",
    "\n",
    "#set default template as \"simple_white\" (no background, no grid lines)\n",
    "pio.templates[\"simple_white\"].layout[\"yaxis\"][\"showgrid\"] = True\n",
    "pio.templates.default = \"simple_white\"\n",
    "\n",
    "colorscale = pc.sequential.Plasma\n",
    "print(colorscale)\n",
    "colorscale = [colorscale[0]] + colorscale[3:8]\n",
    "colorscale"
   ]
  },
  {
   "cell_type": "code",
   "execution_count": null,
   "id": "9214e8ef-a4df-46ca-be9a-d8816a8168ae",
   "metadata": {},
   "outputs": [],
   "source": [
    "data_folder = \"...\"\n"
   ]
  },
  {
   "cell_type": "code",
   "execution_count": null,
   "id": "7f4592ba-a891-48bf-86ed-02a0bce1ad6b",
   "metadata": {},
   "outputs": [],
   "source": [
    "import pandas as pd\n",
    "samplesheet = pd.read_excel(\"./samplesheet.xlsx\", engine=\"openpyxl\")\n",
    "samplesheet"
   ]
  },
  {
   "cell_type": "code",
   "execution_count": null,
   "id": "464499cf-4c39-417a-9db0-310d3db59187",
   "metadata": {},
   "outputs": [],
   "source": [
    "samples = samplesheet[\"Sample\"].values\n",
    "samples"
   ]
  },
  {
   "cell_type": "code",
   "execution_count": null,
   "id": "d5164e30-f363-471c-a5db-f13b71036ecd",
   "metadata": {},
   "outputs": [],
   "source": [
    "in_dir = f\"{data_folder}/fastq\"\n",
    "out_dir = f\"{data_folder}/fastq_stats\"\n",
    "\n",
    "os.makedirs(f\"{out_dir}\", exist_ok=True)\n",
    "\n",
    "num_threads = 1\n",
    "slurm = Slurm(\"stats\", {\"partition\" : \"cpu\", \"mem\" : \"10G\", \"cpus-per-task\" : num_threads, \"time\" : \"30\",\"mail-type\" : \"FAIL,INVALID_DEPEND\", \"mail-user\" : \"patrick.bohn@helmholtz-hiri.de\"})\n",
    "\n",
    "for sample in samples:\n",
    "    \n",
    "    commands = []\n",
    "    for read in [\"_1\", \"_2\"]:\n",
    "        for stat in [\"position_hist\"]:\n",
    "            fastq_infile = f\"{in_dir}/{sample}{read}.fq.gz\"\n",
    "            outfile = f\"{out_dir}/{sample}{read}\"\n",
    "            command = f\"python3 functions/calc_per_read.py -i {fastq_infile} -o {outfile} -s {stat}\"\n",
    "            commands.append(command)\n",
    "    #slurm.run(command)\n",
    "    slurm.run(\"\\n\".join(commands))\n",
    "\n",
    "    "
   ]
  },
  {
   "cell_type": "markdown",
   "id": "c8d74eb6-94ef-409d-98ac-ece0b05f3b97",
   "metadata": {},
   "source": [
    "## Calculate per read statistics for read1 and read2"
   ]
  },
  {
   "cell_type": "code",
   "execution_count": null,
   "id": "bd98d17d-3d7a-4e83-bda8-a56fb9e836da",
   "metadata": {},
   "outputs": [],
   "source": [
    "num_quality_scores = 40\n",
    "max_read_length = 150\n",
    "\n",
    "per_pos_hist_r1 = np.zeros((num_quality_scores,max_read_length), dtype=int)\n",
    "per_pos_hist_r2 = np.zeros((num_quality_scores,max_read_length), dtype=int)\n",
    "\n",
    "for sample in samples:#samples\n",
    "    \n",
    "    read = \"_1\"\n",
    "    outfile = f\"{out_dir}/{sample}{read}_read_quality_per_position_histogram.csv\"\n",
    "    tmp_per_pos_hist_r1 = np.genfromtxt(outfile)\n",
    "    \n",
    "    per_pos_hist_r1 = per_pos_hist_r1 + tmp_per_pos_hist_r1\n",
    "    \n",
    "    read = \"_2\"\n",
    "    outfile = f\"{out_dir}/{sample}{read}_read_quality_per_position_histogram.csv\"\n",
    "    tmp_per_pos_hist_r2 = np.genfromtxt(outfile)\n",
    "    \n",
    "    per_pos_hist_r2 = per_pos_hist_r2 + tmp_per_pos_hist_r2\n",
    "    \n",
    "    "
   ]
  },
  {
   "cell_type": "code",
   "execution_count": null,
   "id": "f4811daf-8470-464a-938c-7451ec6241cb",
   "metadata": {},
   "outputs": [],
   "source": [
    "#assumes histogram is 0-40\n",
    "def calc_median_qscore_from_hist(histogram):\n",
    "    total_n = np.sum(histogram)\n",
    "    \n",
    "    half_n = total_n/2\n",
    "    \n",
    "    for qscore in np.arange(0,40):\n",
    "        cum_n = np.sum(histogram[:qscore])\n",
    "        if cum_n > half_n:\n",
    "            return qscore -1\n",
    "\n",
    "def plot_per_pos_median_mean_cov(per_pos_hist):\n",
    "    coverage_per_pos = np.sum(per_pos_hist, axis=0)\n",
    "\n",
    "    qscores = np.arange(1,41)\n",
    "    error_prob_per_qscore = 10**(-qscores/10)\n",
    "\n",
    "    error_per_pos = per_pos_hist.T * error_prob_per_qscore\n",
    "    sum_error_per_pos = np.sum(error_per_pos, axis= 1)\n",
    "    mean_error_per_pos = sum_error_per_pos/coverage_per_pos\n",
    "    mean_qscore_per_pos = np.log10(mean_error_per_pos)*-10\n",
    "    \n",
    "    overall_error_prob = np.sum(error_per_pos) / np.sum(coverage_per_pos)\n",
    "    \n",
    "    overall_mean_qscore = np.log10(overall_error_prob)*-10\n",
    "    print(\"Overall mean error rate:\", overall_error_prob*100, \"%\")\n",
    "    print(\"Overall mean qscore:\", overall_mean_qscore)\n",
    "    \n",
    "    median_qscore_per_pos = np.apply_along_axis(calc_median_qscore_from_hist, 0, per_pos_hist)\n",
    "    fig = make_subplots(specs=[[{\"secondary_y\": True}]])\n",
    "    \n",
    "    positions = np.arange(per_pos_hist.shape[1])\n",
    "    fig.add_trace(go.Scattergl(x=positions, y=coverage_per_pos, name=\"coverage\", line_color=\"grey\"), secondary_y=True)\n",
    "    fig.add_trace(go.Scattergl(x=positions, y=mean_qscore_per_pos, name=\"mean_qscore\", line_color=\"green\"))\n",
    "    fig.add_trace(go.Scattergl(x=positions, y=median_qscore_per_pos, name=\"median_qscore\", line_color=\"blue\"))\n",
    "    \n",
    "    fig.update_yaxes(rangemode=\"tozero\", showgrid=False, secondary_y=True)\n",
    "    fig.update_yaxes(range=[10,40], dtick=2, secondary_y=False)\n",
    "    \n",
    "    fig.show()\n",
    "    return fig"
   ]
  },
  {
   "cell_type": "markdown",
   "id": "328b0082-96e5-4a02-b61a-b0863a1d553d",
   "metadata": {},
   "source": [
    "# Plot per read statistics"
   ]
  },
  {
   "cell_type": "code",
   "execution_count": null,
   "id": "c9cb5303-81e4-4328-9bf8-9f88039e652a",
   "metadata": {},
   "outputs": [],
   "source": [
    "plot_per_pos_median_mean_cov(per_pos_hist_r1)"
   ]
  },
  {
   "cell_type": "code",
   "execution_count": null,
   "id": "88b765c4-f9a6-4b90-93f4-7139154e80fa",
   "metadata": {},
   "outputs": [],
   "source": [
    "plot_per_pos_median_mean_cov(per_pos_hist_r2)"
   ]
  },
  {
   "cell_type": "code",
   "execution_count": null,
   "id": "d4f79a03-99fc-46aa-ba3f-1ad98d66953b",
   "metadata": {},
   "outputs": [],
   "source": [
    "plot_per_pos_median_mean_cov(per_pos_hist_r1 + per_pos_hist_r2).write_image(\"figures/illumina_per_position_qscore.svg\")"
   ]
  },
  {
   "cell_type": "code",
   "execution_count": null,
   "id": "f37fcb23-141c-40c5-95c1-2b454c089c90",
   "metadata": {},
   "outputs": [],
   "source": [
    "out_dir = f\"{data_folder}/fastq_stats\"\n",
    "\n",
    "read_median_histogram_r1 = np.array(40, dtype=int)\n",
    "read_median_histogram_r2 = np.array(40, dtype=int)\n",
    "for sample in samples:\n",
    "    \n",
    "\n",
    "    outfile = f\"{out_dir}/{sample}_1_read_median_histogram.csv\"\n",
    "    hist = np.genfromtxt(outfile, delimiter=\" \", dtype=int)\n",
    "    read_median_histogram_r1 = read_median_histogram_r1 + hist[0]\n",
    "    \n",
    "    outfile = f\"{out_dir}/{sample}_2_read_median_histogram.csv\"\n",
    "    hist = np.genfromtxt(outfile, delimiter=\" \", dtype=int)\n",
    "    read_median_histogram_r2 = read_median_histogram_r2 + hist[0]\n",
    "\n",
    "fig = go.Figure()\n",
    "fig.add_trace(go.Bar(y=hist[1], x=read_median_histogram_r1, name=\"r1\", marker_color=\"darkblue\",\n",
    "            orientation='h'))\n",
    "fig.add_trace(go.Bar(y=hist[1], x=read_median_histogram_r2, name=\"r2\", marker_color=\"blue\",\n",
    "            orientation='h'))\n",
    "fig.update_layout(title=\"Read median qscore histogram\", width=300, height=500)\n",
    "fig.update_yaxes(range = [10,40], dtick=1)\n",
    "fig.write_image(\"figures/illumina_median_qscore_per_read_distribution.svg\")\n",
    "fig.show()"
   ]
  },
  {
   "cell_type": "code",
   "execution_count": null,
   "id": "9cc80798-36fc-439c-a5b3-3e6456e19f91",
   "metadata": {},
   "outputs": [],
   "source": [
    "out_dir = f\"{data_folder}/fastq_stats\"\n",
    "\n",
    "read_median_histogram_r1 = np.array(40, dtype=int)\n",
    "read_median_histogram_r2 = np.array(40, dtype=int)\n",
    "for sample in samples:\n",
    "    \n",
    "\n",
    "    outfile = f\"{out_dir}/{sample}_1_read_mean_histogram.csv\"\n",
    "    hist = np.genfromtxt(outfile, delimiter=\" \")\n",
    "    read_median_histogram_r1 = read_median_histogram_r1 + hist[0]\n",
    "    \n",
    "    outfile = f\"{out_dir}/{sample}_2_read_mean_histogram.csv\"\n",
    "    hist = np.genfromtxt(outfile, delimiter=\" \")\n",
    "    read_median_histogram_r2 = read_median_histogram_r2 + hist[0]\n",
    "\n",
    "fig = go.Figure()\n",
    "fig.add_trace(go.Bar(y=hist[1], x=read_median_histogram_r1, name=\"r1\", marker_color=\"green\",\n",
    "            orientation='h'))\n",
    "fig.add_trace(go.Bar(y=hist[1], x=read_median_histogram_r2, name=\"r2\", marker_color=\"darkgreen\",\n",
    "            orientation='h'))\n",
    "fig.update_layout(title=\"Read mean qscore histogram\", width=300, height=500)\n",
    "fig.update_yaxes(range = [10,40], dtick=1)\n",
    "fig.write_image(\"figures/illumina_mean_qscore_per_read_distribution.svg\")\n",
    "fig.show()"
   ]
  },
  {
   "cell_type": "code",
   "execution_count": null,
   "id": "45edd16c-3f73-4c93-a077-66ce5491a882",
   "metadata": {},
   "outputs": [],
   "source": [
    "def gen_cumulative_hist(histogram, norm=None):\n",
    "    num_bins = len(histogram)\n",
    "    cum_histogram = np.zeros(num_bins)\n",
    "    \n",
    "    for bin_index in np.arange(num_bins):\n",
    "        cum_histogram[bin_index] = np.sum(histogram[:bin_index+1])\n",
    "        \n",
    "    if norm==\"percent\":\n",
    "        return 100* cum_histogram/np.sum(histogram)\n",
    "    else:\n",
    "        return cum_histogram"
   ]
  },
  {
   "cell_type": "code",
   "execution_count": null,
   "id": "37cea3e5-829e-4cd4-97f9-c7e1818935f2",
   "metadata": {},
   "outputs": [],
   "source": [
    "out_dir = f\"{data_folder}/fastq_stats\"\n",
    "\n",
    "read_median_histogram_r1 = np.array(40, dtype=int)\n",
    "read_median_histogram_r2 = np.array(40, dtype=int)\n",
    "for sample in samples:\n",
    "    \n",
    "\n",
    "    outfile = f\"{out_dir}/{sample}_1_read_mean_histogram.csv\"\n",
    "    hist = np.genfromtxt(outfile, delimiter=\" \")\n",
    "    read_median_histogram_r1 = read_median_histogram_r1 + hist[0]\n",
    "    \n",
    "    outfile = f\"{out_dir}/{sample}_2_read_mean_histogram.csv\"\n",
    "    hist = np.genfromtxt(outfile, delimiter=\" \")\n",
    "    read_median_histogram_r2 = read_median_histogram_r2 + hist[0]\n",
    "\n",
    "cum_read_mean_hist_r1 = gen_cumulative_hist(read_median_histogram_r1, norm=\"percent\")\n",
    "cum_read_mean_hist_r2 = gen_cumulative_hist(read_median_histogram_r2, norm=\"percent\")\n",
    "\n",
    "print(cum_read_mean_hist_r1)\n",
    "fig = go.Figure()\n",
    "fig.add_trace(go.Bar(x=hist[1], y=cum_read_mean_hist_r1, name=\"r1\", marker_color=\"darkblue\"))\n",
    "fig.add_trace(go.Bar(x=hist[1], y=cum_read_mean_hist_r2, name=\"r2\", marker_color=\"darkgreen\"))\n",
    "fig.update_layout(title=\"Cumulative read mean qscore histogram\", width=500, height=400)\n",
    "fig.update_yaxes(dtick=10)\n",
    "fig.update_xaxes(range=[10,40], dtick=1)\n",
    "fig.show()\n",
    "\n",
    "fig = go.Figure()\n",
    "fig.add_trace(go.Bar(x=hist[1], y=100-cum_read_mean_hist_r1, name=\"r1\", marker_color=\"darkblue\"))\n",
    "fig.add_trace(go.Bar(x=hist[1], y=100-cum_read_mean_hist_r2, name=\"r2\", marker_color=\"darkgreen\"))\n",
    "fig.update_layout(title=\"Inverse cumulative read mean qscore histogram\", width=600, height=400)\n",
    "fig.update_yaxes(dtick=10)\n",
    "fig.update_xaxes(range=[10,40], dtick=1)\n",
    "fig.show()"
   ]
  },
  {
   "cell_type": "code",
   "execution_count": 150,
   "id": "84231efc-b4a5-4668-a591-9c8b1c71bae5",
   "metadata": {},
   "outputs": [],
   "source": [
    "fqo = f\"{data_folder}/fastq_minq{minq}/{sample}\"\n",
    "read1_mean_fastq = np.genfromtxt(f\"{fqo}_mean_qscores_r1.csv\")\n",
    "read2_mean_fastq = np.genfromtxt(f\"{fqo}_mean_qscores_r2.csv\")\n",
    "histogram_r1 = np.histogram(read1_mean_fastq, range=[0,40], bins=40)\n",
    "histogram_r2 = np.histogram(read2_mean_fastq, range=[0,40], bins=40)"
   ]
  },
  {
   "cell_type": "code",
   "execution_count": null,
   "id": "11bcc12b-ee09-4b3d-a284-06083c9c10c2",
   "metadata": {},
   "outputs": [],
   "source": [
    "fig = go.Figure()\n",
    "fig.add_trace(go.Bar(x=histogram_r1[1], y=histogram_r1[0]))\n",
    "fig.add_trace(go.Bar(x=histogram_r2[1], y=histogram_r2[0]))"
   ]
  },
  {
   "cell_type": "markdown",
   "id": "27f074cf-eccf-4dc9-9470-cd2b05f3a4f8",
   "metadata": {},
   "source": [
    "# (optional) filter reads for minimal mean fastq score"
   ]
  },
  {
   "cell_type": "code",
   "execution_count": null,
   "id": "7d58c5d2-64fe-476c-9611-d3cb27b9bac3",
   "metadata": {},
   "outputs": [],
   "source": [
    "os.makedirs(f\"{data_folder}/{outdir}\", exist_ok=True)\n",
    "\n",
    "num_threads = 1\n",
    "slurm = Slurm(\"filter_fq\", {\"partition\" : \"cpu\", \"mem\" : \"10G\", \"cpus-per-task\" : num_threads, \"time\" : \"30\",\"mail-type\" : \"FAIL,INVALID_DEPEND\", \"mail-user\" : \"patrick.bohn@helmholtz-hiri.de\"})\n",
    "\n",
    "minq = \"33\"\n",
    "\n",
    "in_dir = f\"{data_folder}/fastq\"\n",
    "out_dir = f\"{data_folder}/fastq_minq{minq}\"\n",
    "\n",
    "for sample in samples:\n",
    "    R1 = f\"{in_dir}/{sample}_1.fq.gz\"\n",
    "    R2 = f\"{in_dir}/{sample}_2.fq.gz\"\n",
    "    O1 = f\"{out_dir}/{sample}_1.fq.gz\"\n",
    "    O2 = f\"{out_dir}/{sample}_2.fq.gz\"\n",
    "    \n",
    "    fqi = f\"{data_folder}/fastq_stats/{sample}\"\n",
    "    command = f\"python3 {os.getcwd()}/functions/filter_fastq.py -p -i1 {R1} -i2 {R2} -o1 {O1} -o2 {O2} -fqi {fqi} -m {minq}\"\n",
    "    #print(command)\n",
    "    slurm.run(command)"
   ]
  },
  {
   "cell_type": "markdown",
   "id": "d227dab5-978f-40e9-9f38-88d5a702ee7f",
   "metadata": {},
   "source": [
    "after filtering one has to re-align with bowtie (see 1_Illumina-DMS-MaP_workflow)"
   ]
  },
  {
   "cell_type": "markdown",
   "id": "78e05d53-9c4c-4b8b-9e05-9b503d102293",
   "metadata": {},
   "source": [
    "# Empricial mutation rates (perbase)\n",
    "\n",
    "Calculate empirical mean error rate (from bam files generated with LAST (Nanopore) or bowtie (Illumina)"
   ]
  },
  {
   "cell_type": "code",
   "execution_count": null,
   "id": "7e35ea2c-5b54-4dfd-b1cd-ed01c9679a00",
   "metadata": {},
   "outputs": [],
   "source": [
    "#calculate for in cell samples only\n",
    "samples = [sample for sample in samples if \"cell\" in sample]"
   ]
  },
  {
   "cell_type": "code",
   "execution_count": null,
   "id": "64a575b5-577c-4abc-a90f-357a58279aa0",
   "metadata": {},
   "outputs": [],
   "source": [
    "#specify path to perbase binary (we used v 0.8.5) https://github.com/sstadick/perbase/releases/tag/v0.8.5 \n",
    "perbase = \"...\"\n"
   ]
  },
  {
   "cell_type": "code",
   "execution_count": null,
   "id": "a133aa0b-5049-4f68-90ac-ce6a57870b34",
   "metadata": {},
   "outputs": [],
   "source": [
    "#note: includes per position Q22 filter (if below Q22, it is counted as N instead - will still count to total DEPTH)\n",
    "from slurmpy import Slurm\n",
    "\n",
    "pids = {}\n",
    "job_name = \"perbase\"\n",
    "num_threads = 10\n",
    "s = Slurm(job_name, {\"partition\" : \"cpu\", \"mem\" : \"10G\", \"cpus-per-task\" : num_threads, \"time\" : \"30\",  \"mail-user\" : \"patrick.bohn@helmholtz-hiri.de\"})\n",
    "pids[job_name] = {}\n",
    "os.makedirs(\"data/perbase\", exist_ok=True)\n",
    "\n",
    "reference_fasta = f\"{data_folder}/references/transcripts_PCR1/RT1_unspliced1.fa\"\n",
    "\n",
    "for sample in samples:\n",
    "    os.makedirs(f\"{data_folder}/perbase/{sample}/\", exist_ok=True)\n",
    "    output_path = f\"{data_folder}/perbase/{sample}/RT1_unspliced1.txt.gz\"\n",
    "    \n",
    "    #specify BAM files from bowtie\n",
    "    BAM_file =  f\"{data_folder}/bam/{sample}/RT1_unspliced1/{sample}.bam\"\n",
    "\n",
    "    command = f\"\"\"\n",
    "    {perbase} base-depth -Q 22 -t {num_threads} -r {reference_fasta} {BAM_file} | gzip > {output_path}\n",
    "    \"\"\"\n",
    "    pids[job_name][sample] = s.run(command)"
   ]
  },
  {
   "cell_type": "code",
   "execution_count": null,
   "id": "fecbae2f-ac47-49ef-9bb2-a244cdea0409",
   "metadata": {},
   "outputs": [],
   "source": [
    "import pandas as pd\n",
    "tmp_data = []\n",
    "\n",
    "for sample in samples:\n",
    "    output_path = f\"data/perbase/{sample}/RT1_unspliced1.txt.gz\"\n",
    "    try:\n",
    "        test_df = pd.read_csv(output_path, sep=\"\\t\")\n",
    "    except:\n",
    "        print(\"could not read in\", output_path)\n",
    "    test_df[\"sample\"] = sample\n",
    "    tmp_data.append(test_df)\n",
    "\n",
    "perbase_df = pd.concat(tmp_data)\n",
    "print(\"Total number of nt read in:\", perbase_df[\"DEPTH\"].sum())"
   ]
  },
  {
   "cell_type": "code",
   "execution_count": null,
   "id": "cd533b7a-816c-43c1-af5c-f15df5db55b9",
   "metadata": {},
   "outputs": [],
   "source": [
    "#remove N counts from total number (to calculate percentage)\n",
    "perbase_df[\"DEPTH\"] = perbase_df[\"DEPTH\"] - perbase_df[\"N\"]\n",
    "\n",
    "#pivot df so that we can calculate % values easily\n",
    "tmp_df = pd.melt(perbase_df, id_vars=[\"REF\", \"POS\", \"REF_BASE\", \"DEPTH\", \"NEAR_MAX_DEPTH\", \"sample\"], value_vars =[\"A\", \"C\", \"G\", \"T\", \"N\", \"INS\", \"DEL\", \"REF_SKIP\", \"FAIL\"], value_name=\"count\")\n",
    "pivot_df = tmp_df[tmp_df[\"variable\"] != \"N\"].copy()\n",
    "\n",
    "pivot_df[\"percent\"] = 100*pivot_df[\"count\"]/pivot_df[\"DEPTH\"]\n",
    "pivot_df.loc[pivot_df[\"DEPTH\"] <1, \"percent\"] = np.nan\n",
    "\n",
    "#convert all ref bases to upper to fix grouping\n",
    "pivot_df[\"REF_BASE\"] = pivot_df[\"REF_BASE\"].str.upper()\n",
    "\n",
    "#new column to easily filter out correct basecalls\n",
    "pivot_df[\"match\"] = pivot_df[\"REF_BASE\"] == pivot_df[\"variable\"]\n"
   ]
  },
  {
   "cell_type": "code",
   "execution_count": null,
   "id": "19c80081-f7c4-46c1-a263-950e062321d0",
   "metadata": {},
   "outputs": [],
   "source": [
    "#extract information from samples as separate columns for plotting; assumes sample as \"{replicate}_{RT_primer}_{DMS_conc}_{localization}\"\n",
    "\n",
    "pivot_df[\"replicate\"] = pivot_df[\"sample\"].apply(lambda x: x.split(\"_\")[0])\n",
    "pivot_df[\"conc\"] = pivot_df[\"sample\"].apply(lambda x: x.split(\"_\")[2])"
   ]
  },
  {
   "cell_type": "code",
   "execution_count": null,
   "id": "6a43fbd9-e2a4-441f-99de-05d852ccfbd7",
   "metadata": {},
   "outputs": [],
   "source": [
    "#ensures samples are always plotted in the same order when specifying as category_orders in plotly\n",
    "order_dict = {\"conc\" : [\"0mM\", \"8mM\", \"17mM\", \"34mM\", \"57mM\", \"85mM\"], \n",
    "              \"replicate\" : [\"Rep1\", \"Rep2\"],\n",
    "             \"REF_BASE\" : [\"A\", \"C\", \"G\", \"T\"],\n",
    "             \"variable\" : [\"A\", \"C\", \"G\", \"T\", \"INS\", \"DEL\", \"REF_SKIP\"]}"
   ]
  },
  {
   "cell_type": "code",
   "execution_count": null,
   "id": "ea6f3b82-119a-48b3-94e5-3f985607986a",
   "metadata": {},
   "outputs": [],
   "source": [
    "fig = px.box(pivot_df[(pivot_df[\"match\"]) & (pivot_df[\"DEPTH\"]>1000)], color=\"conc\",x=\"conc\",  y=\"percent\", category_orders = order_dict, color_discrete_sequence =colorscale)\n",
    "fig.update_yaxes(range=[80,100], dtick=2)\n",
    "fig.update_layout(height=400, width=500)\n",
    "fig.update_traces(marker_size=2)\n",
    "fig.show(renderer=\"svg\")"
   ]
  },
  {
   "cell_type": "code",
   "execution_count": null,
   "id": "2b075704-0287-4752-a4a3-f65836f97cae",
   "metadata": {},
   "outputs": [],
   "source": [
    "# Generate a new df to plot mismatch rates\n",
    "mismatch_df = pivot_df[(pivot_df[\"match\"])].copy()\n",
    "mismatch_df[\"percent\"] = 100- mismatch_df[\"percent\"]"
   ]
  },
  {
   "cell_type": "code",
   "execution_count": null,
   "id": "e224f106-8fe5-41df-a153-3fb17171db65",
   "metadata": {},
   "outputs": [],
   "source": [
    "fig = px.box(mismatch_df[mismatch_df[\"DEPTH\"]>1000], color=\"conc\",x=\"conc\",  y=\"percent\", category_orders = order_dict, color_discrete_sequence =colorscale)\n",
    "fig.update_yaxes(range=[0,15], dtick=1)\n",
    "fig.update_layout(height=400, width=500)\n",
    "fig.update_traces(marker_size=2)\n",
    "fig.write_image(f\"figures/illumina_mut_rate_box.svg\")\n",
    "fig.show(renderer=\"svg\")"
   ]
  },
  {
   "cell_type": "code",
   "execution_count": null,
   "id": "ba269f59-e435-4814-9c42-c0b5532a9639",
   "metadata": {},
   "outputs": [],
   "source": [
    "fig = px.box(mismatch_df[mismatch_df[\"DEPTH\"]>1000], facet_col=\"REF_BASE\", color=\"conc\",x=\"conc\",  y=\"percent\", category_orders = order_dict, color_discrete_sequence =colorscale)\n",
    "fig.update_yaxes(range=[0,15], dtick=1)\n",
    "fig.update_layout(height=400, width=800)\n",
    "fig.update_traces(marker_size=2)\n",
    "fig.write_image(f\"figures/illumina_mut_rate_per_nt_box.svg\")\n",
    "\n",
    "fig.show(renderer=\"svg\")"
   ]
  },
  {
   "cell_type": "code",
   "execution_count": null,
   "id": "bf646197-1afc-4eed-8fa2-979b29cf07c0",
   "metadata": {},
   "outputs": [],
   "source": [
    "fig = px.box(pivot_df[~pivot_df[\"match\"]], facet_col=\"REF_BASE\", color=\"variable\", x=\"conc\", y=\"percent_minus_control\", category_orders = order_dict)\n",
    "fig.update_traces(marker_size=1)\n",
    "fig.update_yaxes(range = [-0.1,5])\n",
    "fig.for_each_annotation(lambda a: a.update(text=a.text.split(\"=\")[-1]))\n",
    "fig.update_layout(height=400, width=1200)"
   ]
  },
  {
   "cell_type": "code",
   "execution_count": null,
   "id": "05d4abf6-b84b-4f57-9334-2149d0cc6b4d",
   "metadata": {},
   "outputs": [],
   "source": [
    "# calc mean and plot line chart"
   ]
  },
  {
   "cell_type": "code",
   "execution_count": null,
   "id": "afe1f81d-2137-4a71-adb4-7282483f91dd",
   "metadata": {},
   "outputs": [],
   "source": [
    "mean_df = pivot_df.groupby([\"conc\", \"REF_BASE\", \"variable\"]).agg({\"percent\" : [\"mean\"]}).reset_index()\n",
    "mean_df.columns = [\"conc\", \"REF_BASE\", \"variable\", \"percent\"]\n",
    "\n",
    "mean_df[\"conc\"] = pd.Categorical(mean_df[\"conc\"], categories = order_dict[\"conc\"], ordered=True)\n",
    "mean_df.sort_values(by=\"conc\", inplace=True)\n",
    "\n",
    "mean_df[\"conc\"] = mean_df[\"conc\"].apply(lambda x: int(x.split(\"mM\")[0]))"
   ]
  },
  {
   "cell_type": "code",
   "execution_count": null,
   "id": "02fdb158-7065-4600-b35b-92b4ecd0449a",
   "metadata": {},
   "outputs": [],
   "source": [
    "fig = px.line(mean_df, x=\"conc\", y=\"percent\", color=\"variable\", facet_col=\"REF_BASE\", category_orders = order_dict)\n",
    "fig.update_yaxes(range=[0,2], dtick=0.2)\n",
    "fig.update_xaxes(type=\"category\")\n",
    "fig.update_layout(height=400, width=800)\n",
    "#fig.write_image(f\"figures/illumina_comparison/mut_rates/{seq_platform}_mut_type_per_nt_line.svg\")\n",
    "fig.show()"
   ]
  },
  {
   "cell_type": "code",
   "execution_count": null,
   "id": "a03235e9-369f-443a-8856-658d33f34d49",
   "metadata": {},
   "outputs": [],
   "source": [
    "fig = px.line(mean_df, x=\"conc\", y=\"percent\", color=\"variable\", facet_col=\"REF_BASE\", category_orders = order_dict)\n",
    "fig.update_yaxes(type=\"log\", range=[-2.5,0.6])\n",
    "fig.update_xaxes(type=\"category\")\n",
    "fig.update_layout(height=400, width=800)\n",
    "fig.write_image(f\"figures/illumina_mut_type_per_nt_log_line.svg\")\n",
    "fig.show()"
   ]
  },
  {
   "cell_type": "code",
   "execution_count": null,
   "id": "12275863-ca06-4829-a990-d6392d42630b",
   "metadata": {},
   "outputs": [],
   "source": [
    "mean_df[\"match\"] = mean_df[\"REF_BASE\"] == mean_df[\"variable\"]\n",
    "mean_df[\"conc\"] = mean_df[\"conc\"].apply(lambda x: str(x) + \"mM\")"
   ]
  },
  {
   "cell_type": "code",
   "execution_count": null,
   "id": "759744de-e649-46d7-ac9e-1a5a8e888dc0",
   "metadata": {},
   "outputs": [],
   "source": [
    "fig = px.pie(mean_df[~mean_df[\"match\"]], values='percent', names='variable', facet_col=\"REF_BASE\", facet_row=\"conc\", category_orders = order_dict)\n",
    "fig.update_layout(height=1300, width=1000)\n",
    "fig.write_image(f\"figures/illumina_mut_type_per_nt_pie.svg\")\n",
    "fig.show()"
   ]
  },
  {
   "cell_type": "code",
   "execution_count": null,
   "id": "d610c599-7fcc-48fb-bb45-a040ef0e5f13",
   "metadata": {},
   "outputs": [],
   "source": []
  }
 ],
 "metadata": {
  "kernelspec": {
   "display_name": "Python 3 (ipykernel)",
   "language": "python",
   "name": "python3"
  },
  "language_info": {
   "codemirror_mode": {
    "name": "ipython",
    "version": 3
   },
   "file_extension": ".py",
   "mimetype": "text/x-python",
   "name": "python",
   "nbconvert_exporter": "python",
   "pygments_lexer": "ipython3",
   "version": "3.10.5"
  }
 },
 "nbformat": 4,
 "nbformat_minor": 5
}
