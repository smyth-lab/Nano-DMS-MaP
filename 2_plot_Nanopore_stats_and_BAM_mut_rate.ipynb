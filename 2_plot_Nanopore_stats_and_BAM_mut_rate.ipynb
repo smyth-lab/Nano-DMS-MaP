{
 "cells": [
  {
   "cell_type": "code",
   "execution_count": null,
   "id": "588a76d2-8c7e-4e02-a7d5-33d1731035a9",
   "metadata": {},
   "outputs": [],
   "source": [
    "#plotly libraries\n",
    "import plotly.express as px\n",
    "import plotly.colors as pc\n",
    "import plotly.graph_objects as go\n",
    "import plotly.io as pio\n",
    "import numpy as np\n",
    "\n",
    "import sklearn.metrics as metrics\n",
    "import pandas as pd\n",
    "from plotly.subplots import make_subplots\n",
    "import plotly.figure_factory as ff\n",
    "\n",
    "#default renderer (svg means very small file size, visibility on github, high quality, but requires sometimes setting height and width)\n",
    "pio.renderers.default = \"svg\"\n",
    "\n",
    "colors = [\"#363b3d\", \"#727b76\", \"#31a240\", \"#f93939\", \"#f79118\", \"#de7b06\", \"#9b308f\", \"#dc759b\"]\n",
    "#additional defaults\n",
    "px.defaults.color_discrete_sequence = [\"rgb(100,100,100)\"] + pc.qualitative.D3\n",
    "px.defaults.width=1000\n",
    "px.defaults.height=800\n",
    "\n",
    "#try setting this as default for histograms\n",
    "#fig.update_traces(marker_line_width=0.2)\n",
    "\n",
    "#set default template as \"simple_white\" (no background, no grid lines)\n",
    "pio.templates[\"simple_white\"].layout[\"yaxis\"][\"showgrid\"] = True\n",
    "pio.templates.default = \"simple_white\"\n",
    "\n",
    "colorscale = pc.sequential.Plasma\n",
    "print(colorscale)\n",
    "colorscale = [colorscale[0]] + colorscale[3:8]\n",
    "colorscale"
   ]
  },
  {
   "cell_type": "code",
   "execution_count": null,
   "id": "9214e8ef-a4df-46ca-be9a-d8816a8168ae",
   "metadata": {},
   "outputs": [],
   "source": [
    "#data_folder is the path to the data director, where different types of data are stored (fastq, bam, rna framework output, perbase, etc.)\n",
    "data_folder = \"...\"\n"
   ]
  },
  {
   "cell_type": "code",
   "execution_count": null,
   "id": "7f4592ba-a891-48bf-86ed-02a0bce1ad6b",
   "metadata": {},
   "outputs": [],
   "source": [
    "import pandas as pd\n",
    "samplesheet = pd.read_excel(\"samplesheet.xlsx\", engine=\"openpyxl\")\n",
    "samplesheet"
   ]
  },
  {
   "cell_type": "code",
   "execution_count": null,
   "id": "464499cf-4c39-417a-9db0-310d3db59187",
   "metadata": {},
   "outputs": [],
   "source": [
    "samples = samplesheet[\"sample\"].values\n",
    "samples"
   ]
  },
  {
   "cell_type": "code",
   "execution_count": null,
   "id": "bc377669-1d10-4cf3-af78-20fad494f0aa",
   "metadata": {},
   "outputs": [],
   "source": [
    "import os\n",
    "os.getcwd()"
   ]
  },
  {
   "cell_type": "markdown",
   "id": "3b98617d-3c1d-4c90-9fc4-79005fa35940",
   "metadata": {},
   "source": [
    "# Generating virtual gels"
   ]
  },
  {
   "cell_type": "code",
   "execution_count": null,
   "id": "d5164e30-f363-471c-a5db-f13b71036ecd",
   "metadata": {},
   "outputs": [],
   "source": [
    "from slurmpy import Slurm\n",
    "\n",
    "in_dir = f\"{data_folder}/fastq/\"\n",
    "out_dir = f\"{data_folder}/fastq_stats\"\n",
    "\n",
    "os.makedirs(f\"{out_dir}\", exist_ok=True)\n",
    "\n",
    "num_threads = 1\n",
    "slurm = Slurm(\"stats\", {\"partition\" : \"cpu\", \"mem\" : \"10G\", \"cpus-per-task\" : num_threads, \"time\" : \"30\",\"mail-type\" : \"FAIL,INVALID_DEPEND\", \"mail-user\" : \"patrick.bohn@helmholtz-hiri.de\"})\n",
    "\n",
    "for sample in samples:\n",
    "    \n",
    "    commands = []\n",
    "    for stat in [\"length\"]:\n",
    "        fastq_infile = f\"{in_dir}/{sample}.fastq.gz\"\n",
    "        outfile = f\"{out_dir}/{sample}\"\n",
    "        command = f\"python3 functions/calc_per_read.py -i {fastq_infile} -o {outfile} -s {stat}\"\n",
    "        commands.append(command)\n",
    "    #slurm.run(command)\n",
    "    slurm.run(\"\\n\".join(commands))\n",
    "\n",
    "    "
   ]
  },
  {
   "cell_type": "code",
   "execution_count": 177,
   "id": "2ab6f418-addb-40d5-a4e3-d39d68b74ac6",
   "metadata": {},
   "outputs": [],
   "source": [
    "out_dir = f\"{data_folder}/fastq_stats\"\n",
    "\n",
    "read_lengths = {}\n",
    "max_read_length = 0\n",
    "for sample in samples:\n",
    "    this_read_lengths = np.genfromtxt(f\"{out_dir}/{sample}_read_length.csv\")\n",
    "    read_lengths[sample] = this_read_lengths\n",
    "    this_max_read_length = np.max(this_read_lengths)\n",
    "    if this_max_read_length > max_read_length:\n",
    "        max_read_length = this_max_read_length"
   ]
  },
  {
   "cell_type": "code",
   "execution_count": null,
   "id": "799c567e-8134-4902-b6f5-2e2e9ee3ec01",
   "metadata": {},
   "outputs": [],
   "source": [
    "#read length histograms:\n",
    "def plot_virtual_gel(samples, sample_length_dists, max_read_length = 6000, binsize=1, counts=False, mass = False, norm_mass = True, height = 600, width=600, norm_percentile = 100, zmin=0, zmax=1, dtick=500):\n",
    "\n",
    "    nbins = int(max_read_length / binsize)\n",
    "    ticks = np.array(np.arange(1, 1+nbins)*binsize)\n",
    "\n",
    "    matrix = np.zeros((len(samples), int(max_read_length/binsize)))\n",
    "    print(matrix.shape)\n",
    "    sample_length_hists = {}\n",
    "    for row, sample in enumerate(samples):\n",
    "        read_length_hist = np.histogram(read_lengths[sample], bins = nbins, range=[1,1+max_read_length])[0]\n",
    "        sample_length_hists[sample] = read_length_hist\n",
    "        matrix[row, :] = read_length_hist\n",
    "        \n",
    "        \n",
    "    if counts:\n",
    "        fig = px.imshow(matrix.T, color_continuous_scale='gray_r', origin=\"lower\", aspect=\"auto\", x=samples, y=ticks)\n",
    "        fig.update_layout(title=\"Virtual gel with molar ratios\", width=width, height=height)\n",
    "        fig.show()\n",
    "    \n",
    "    weights = ticks+int(binsize/2)\n",
    "    weighted_matrix = weights*matrix\n",
    "    \n",
    "    if mass:\n",
    "\n",
    "        fig = px.imshow(weighted_matrix.T, color_continuous_scale='gray_r', origin=\"lower\", aspect=\"auto\", x=samples, y=ticks)\n",
    "        fig.update_layout(title=\"Virtual gel normalized by molecular mass (i.e. weight)\", width=width, height=height)\n",
    "        fig.show()\n",
    "    \n",
    "    if norm_mass:\n",
    "        weighted_norm_values = np.percentile(weighted_matrix, norm_percentile ,axis=1)\n",
    "        norm_weighted_matrix = weighted_matrix.T / weighted_norm_values\n",
    "\n",
    "        fig = px.imshow(norm_weighted_matrix, color_continuous_scale='gray_r', origin=\"lower\", aspect=\"auto\", x=samples, y=ticks, zmin=zmin, zmax=zmax)\n",
    "        fig.update_layout(title=\"Virtual gel normalized by molecular mass (i.e. weight) and between samples\", width=width, height=height)\n",
    "        fig.update_yaxes(dtick=dtick)\n",
    "        fig.show()\n"
   ]
  },
  {
   "cell_type": "code",
   "execution_count": null,
   "id": "7c3a6892-59b4-4cc9-822e-c38bde36cc0f",
   "metadata": {},
   "outputs": [],
   "source": [
    "plot_virtual_gel(samples, read_lengths, max_read_length = 1500, binsize=1, norm_mass=True, width=1200, norm_percentile = 100, dtick = 100, zmin=0.03)"
   ]
  },
  {
   "cell_type": "code",
   "execution_count": null,
   "id": "d4a88798-aec3-4b2c-ae5e-887fb2b6f686",
   "metadata": {},
   "outputs": [],
   "source": []
  },
  {
   "cell_type": "markdown",
   "id": "a0ec8247-610f-44d6-b413-e8f9348c5d71",
   "metadata": {},
   "source": [
    "# Generate per position quality score histogram"
   ]
  },
  {
   "cell_type": "code",
   "execution_count": null,
   "id": "394d53d8-42ab-46fc-83d8-2a541ea2a79e",
   "metadata": {},
   "outputs": [],
   "source": [
    "from slurmpy import Slurm\n",
    "\n",
    "in_dir = f\"{data_folder}/fastq/\"\n",
    "out_dir = f\"{data_folder}/fastq_stats\"\n",
    "\n",
    "max_readlength = 6000\n",
    "\n",
    "os.makedirs(f\"{out_dir}\", exist_ok=True)\n",
    "\n",
    "num_threads = 1\n",
    "slurm = Slurm(\"stats\", {\"partition\" : \"cpu\", \"mem\" : \"20G\", \"cpus-per-task\" : num_threads, \"time\" : \"30\",\"mail-type\" : \"FAIL,INVALID_DEPEND\", \"mail-user\" : \"patrick.bohn@helmholtz-hiri.de\"})\n",
    "\n",
    "for sample in samples:\n",
    "    \n",
    "    commands = []\n",
    "    for stat in [\"position_hist\"]:\n",
    "        fastq_infile = f\"{in_dir}/{sample}.fastq.gz\"\n",
    "        outfile = f\"{out_dir}/{sample}\"\n",
    "        command = f\"python3 functions/calc_per_read.py -i {fastq_infile} -o {outfile} -s {stat} -rl {max_readlength}\"\n",
    "        commands.append(command)\n",
    "    #slurm.run(command)\n",
    "    slurm.run(\"\\n\".join(commands))\n",
    "\n",
    "    "
   ]
  },
  {
   "cell_type": "code",
   "execution_count": null,
   "id": "bd98d17d-3d7a-4e83-bda8-a56fb9e836da",
   "metadata": {},
   "outputs": [],
   "source": [
    "per_pos_hist = np.zeros((40,max_readlength), dtype=int)\n",
    "\n",
    "for sample in samples:#samples\n",
    "    \n",
    "    outfile = f\"{out_dir}/{sample}_read_quality_per_position_histogram.csv\"\n",
    "    tmp_per_pos_hist = np.genfromtxt(outfile)\n",
    "    \n",
    "    per_pos_hist = per_pos_hist + tmp_per_pos_hist\n"
   ]
  },
  {
   "cell_type": "code",
   "execution_count": null,
   "id": "f4811daf-8470-464a-938c-7451ec6241cb",
   "metadata": {},
   "outputs": [],
   "source": [
    "#assumes histogram is 0-40\n",
    "def calc_median_qscore_from_hist(histogram):\n",
    "    total_n = np.sum(histogram)\n",
    "    \n",
    "    half_n = total_n/2\n",
    "    \n",
    "    for qscore in np.arange(0,40):\n",
    "        cum_n = np.sum(histogram[:qscore])\n",
    "        if cum_n > half_n:\n",
    "            return qscore -1\n",
    "\n",
    "def plot_per_pos_median_mean_cov(per_pos_hist):\n",
    "    coverage_per_pos = np.sum(per_pos_hist, axis=0)\n",
    "\n",
    "    qscores = np.arange(1,41)\n",
    "    error_prob_per_qscore = 10**(-qscores/10)\n",
    "\n",
    "    error_per_pos = per_pos_hist.T * error_prob_per_qscore\n",
    "    sum_error_per_pos = np.sum(error_per_pos, axis= 1)\n",
    "    mean_error_per_pos = sum_error_per_pos/coverage_per_pos\n",
    "    mean_qscore_per_pos = np.log10(mean_error_per_pos)*-10\n",
    "    \n",
    "    overall_error_prob = np.sum(error_per_pos) / np.sum(coverage_per_pos)\n",
    "    \n",
    "    overall_mean_qscore = np.log10(overall_error_prob)*-10\n",
    "    print(\"Overall mean error rate:\", overall_error_prob*100, \"%\")\n",
    "    print(\"Overall mean qscore:\", overall_mean_qscore)\n",
    "    \n",
    "    median_qscore_per_pos = np.apply_along_axis(calc_median_qscore_from_hist, 0, per_pos_hist)\n",
    "    fig = make_subplots(specs=[[{\"secondary_y\": True}]])\n",
    "    \n",
    "    positions = np.arange(per_pos_hist.shape[1])\n",
    "    fig.add_trace(go.Scattergl(x=positions, y=coverage_per_pos, name=\"coverage\", line_color=\"grey\"), secondary_y=True)\n",
    "    fig.add_trace(go.Scattergl(x=positions, y=mean_qscore_per_pos, name=\"mean_qscore\", line_color=\"green\"))\n",
    "    fig.add_trace(go.Scattergl(x=positions, y=median_qscore_per_pos, name=\"median_qscore\", line_color=\"blue\"))\n",
    "    \n",
    "    fig.update_yaxes(rangemode=\"tozero\", showgrid=False, secondary_y=True)\n",
    "    fig.update_yaxes(range=[10,40], dtick=2, secondary_y=False)\n",
    "    \n",
    "    fig.show()\n",
    "    return fig"
   ]
  },
  {
   "cell_type": "code",
   "execution_count": null,
   "id": "c9cb5303-81e4-4328-9bf8-9f88039e652a",
   "metadata": {},
   "outputs": [],
   "source": [
    "_ = plot_per_pos_median_mean_cov(per_pos_hist[:,:2000])"
   ]
  },
  {
   "cell_type": "code",
   "execution_count": null,
   "id": "6f92d26a-1b93-415a-b74c-9a18f4849be7",
   "metadata": {},
   "outputs": [],
   "source": [
    "#Total number of reads:\n",
    "np.sum(per_pos_hist[:,0])"
   ]
  },
  {
   "cell_type": "code",
   "execution_count": null,
   "id": "228e759e-d82c-4be2-a864-54ad67639091",
   "metadata": {},
   "outputs": [],
   "source": [
    "#Total number of bases:\n",
    "np.sum(per_pos_hist)"
   ]
  },
  {
   "cell_type": "markdown",
   "id": "328b0082-96e5-4a02-b61a-b0863a1d553d",
   "metadata": {
    "tags": []
   },
   "source": [
    "# Plot read statistics"
   ]
  },
  {
   "cell_type": "code",
   "execution_count": null,
   "id": "b9a7949c-f2c1-470a-8112-7b829766e093",
   "metadata": {},
   "outputs": [],
   "source": [
    "from slurmpy import Slurm\n",
    "\n",
    "in_dir = f\"{data_folder}/fastq/\"\n",
    "out_dir = f\"{data_folder}/fastq_stats\"\n",
    "\n",
    "max_readlength = 6000\n",
    "\n",
    "os.makedirs(f\"{out_dir}\", exist_ok=True)\n",
    "\n",
    "num_threads = 1\n",
    "slurm = Slurm(\"stats\", {\"partition\" : \"cpu\", \"mem\" : \"20G\", \"cpus-per-task\" : num_threads, \"time\" : \"30\",\"mail-type\" : \"FAIL,INVALID_DEPEND\", \"mail-user\" : \"patrick.bohn@helmholtz-hiri.de\"})\n",
    "\n",
    "for sample in samples:\n",
    "    \n",
    "    commands = []\n",
    "    for stat in [\"mean\", \"median\"]:\n",
    "        fastq_infile = f\"{in_dir}/Nanopore_HIV1_{sample}.fastq.gz\"\n",
    "        outfile = f\"{out_dir}/{sample}\"\n",
    "        command = f\"python3 functions/calc_per_read.py -i {fastq_infile} -o {outfile} -s {stat} -rl {max_readlength} --histogram\"\n",
    "        commands.append(command)\n",
    "    #slurm.run(command)\n",
    "    slurm.run(\"\\n\".join(commands))\n",
    "\n",
    "    "
   ]
  },
  {
   "cell_type": "code",
   "execution_count": null,
   "id": "f37fcb23-141c-40c5-95c1-2b454c089c90",
   "metadata": {},
   "outputs": [],
   "source": [
    "\n",
    "read_median_histogram = np.array(40, dtype=int)\n",
    "for sample in samples:\n",
    "    \n",
    "\n",
    "    outfile = f\"{out_dir}/{sample}_read_median_histogram.csv\"\n",
    "    hist = np.genfromtxt(outfile, delimiter=\" \", dtype=int)\n",
    "    read_median_histogram = read_median_histogram + hist[0]\n",
    "\n",
    "fig = go.Figure()\n",
    "fig.add_trace(go.Bar(y=hist[1], x=read_median_histogram, name=\"r1\", marker_color=\"darkblue\",\n",
    "            orientation='h'))\n",
    "\n",
    "fig.update_layout(title=\"Read median qscore histogram\", width=300, height=500)\n",
    "fig.update_yaxes(range = [10,40], dtick=1)\n",
    "#fig.write_image(\"figures/nanopore_median_qscore_per_read_distribution.svg\")\n",
    "fig.show()"
   ]
  },
  {
   "cell_type": "code",
   "execution_count": null,
   "id": "9cc80798-36fc-439c-a5b3-3e6456e19f91",
   "metadata": {},
   "outputs": [],
   "source": [
    "read_median_histogram_r1 = np.array(40, dtype=int)\n",
    "\n",
    "for sample in samples:\n",
    "    \n",
    "\n",
    "    outfile = f\"{out_dir}/{sample}_read_mean_histogram.csv\"\n",
    "    hist = np.genfromtxt(outfile, delimiter=\" \")\n",
    "    read_median_histogram_r1 = read_median_histogram_r1 + hist[0]\n",
    "\n",
    "\n",
    "fig = go.Figure()\n",
    "fig.add_trace(go.Bar(y=hist[1], x=read_median_histogram_r1, name=\"r1\", marker_color=\"green\",\n",
    "            orientation='h'))\n",
    "\n",
    "fig.update_layout(title=\"Read mean qscore histogram\", width=300, height=500)\n",
    "fig.update_yaxes(range = [10,40], dtick=1)\n",
    "#fig.write_image(\"figures/nanopore_mean_qscore_per_read_distribution.svg\")\n",
    "fig.show()"
   ]
  },
  {
   "cell_type": "markdown",
   "id": "78e05d53-9c4c-4b8b-9e05-9b503d102293",
   "metadata": {},
   "source": [
    "## Mean mutation rates (perbase)\n",
    "\n",
    "Calculate empirical mean error rate (from bam files generated with LAST (Nanopore) or bowtie (Illumina)"
   ]
  },
  {
   "cell_type": "code",
   "execution_count": null,
   "id": "7e35ea2c-5b54-4dfd-b1cd-ed01c9679a00",
   "metadata": {},
   "outputs": [],
   "source": [
    "#calculate for in cell samples only\n",
    "samples = [sample for sample in samples if \"cell\" in sample]"
   ]
  },
  {
   "cell_type": "code",
   "execution_count": null,
   "id": "64a575b5-577c-4abc-a90f-357a58279aa0",
   "metadata": {},
   "outputs": [],
   "source": [
    "#specify path to perbase binary (we used v 0.8.5) https://github.com/sstadick/perbase/releases/tag/v0.8.5 \n",
    "perbase = \"...\"\n"
   ]
  },
  {
   "cell_type": "code",
   "execution_count": null,
   "id": "a133aa0b-5049-4f68-90ac-ce6a57870b34",
   "metadata": {},
   "outputs": [],
   "source": [
    "#note: includes per position Q22 filter (if below Q22, it is counted as N instead - will still count to total DEPTH)\n",
    "from slurmpy import Slurm\n",
    "\n",
    "pids = {}\n",
    "job_name = \"perbase\"\n",
    "num_threads = 10\n",
    "s = Slurm(job_name, {\"partition\" : \"cpu\", \"mem\" : \"10G\", \"cpus-per-task\" : num_threads, \"time\" : \"30\",  \"mail-user\" : \"patrick.bohn@helmholtz-hiri.de\"})\n",
    "pids[job_name] = {}\n",
    "os.makedirs(f\"{data_folder}/perbase\", exist_ok=True)\n",
    "\n",
    "reference_fasta = f\"references/transcripts_PCR1/RT1_unspliced1.fa\"\n",
    "\n",
    "for sample in samples:\n",
    "    os.makedirs(f\"{data_folder}/perbase/{sample}/\", exist_ok=True)\n",
    "    output_path = f\"{data_folder}/perbase/{sample}/RT1_unspliced1.txt.gz\"\n",
    "    BAM_file =  f\"{data_folder}/bam/{sample}/RT1_unspliced1/LAST_MD_sorted.bam\"\n",
    "\n",
    "    command = f\"\"\"\n",
    "    {perbase} base-depth -Q 22 -t {num_threads} -r {reference_fasta} {BAM_file} | gzip > {output_path}\n",
    "    \"\"\"\n",
    "    pids[job_name][sample] = s.run(command)"
   ]
  },
  {
   "cell_type": "code",
   "execution_count": null,
   "id": "fecbae2f-ac47-49ef-9bb2-a244cdea0409",
   "metadata": {},
   "outputs": [],
   "source": [
    "import pandas as pd\n",
    "tmp_data = []\n",
    "\n",
    "for sample in samples:\n",
    "    output_path = f\"{data_folder}/perbase/{sample}/RT1_unspliced1.txt.gz\"\n",
    "    try:\n",
    "        test_df = pd.read_csv(output_path, sep=\"\\t\")\n",
    "    except:\n",
    "        print(\"could not read in\", output_path)\n",
    "    test_df[\"sample\"] = sample\n",
    "    tmp_data.append(test_df)\n",
    "\n",
    "perbase_df = pd.concat(tmp_data)\n",
    "print(\"Total number of nt read in:\", perbase_df[\"DEPTH\"].sum())"
   ]
  },
  {
   "cell_type": "code",
   "execution_count": null,
   "id": "cd533b7a-816c-43c1-af5c-f15df5db55b9",
   "metadata": {},
   "outputs": [],
   "source": [
    "#remove N counts from total number (to calculate percentage)\n",
    "perbase_df[\"DEPTH\"] = perbase_df[\"DEPTH\"] - perbase_df[\"N\"]\n",
    "\n",
    "#pivot df so that we can calculate % values easily\n",
    "tmp_df = pd.melt(perbase_df, id_vars=[\"REF\", \"POS\", \"REF_BASE\", \"DEPTH\", \"NEAR_MAX_DEPTH\", \"sample\"], value_vars =[\"A\", \"C\", \"G\", \"T\", \"N\", \"INS\", \"DEL\", \"REF_SKIP\", \"FAIL\"], value_name=\"count\")\n",
    "pivot_df = tmp_df[tmp_df[\"variable\"] != \"N\"].copy()\n",
    "pivot_df[\"percent\"] = 100*pivot_df[\"count\"]/pivot_df[\"DEPTH\"]\n",
    "pivot_df.loc[pivot_df[\"DEPTH\"] <1, \"percent\"] = np.nan\n",
    "\n",
    "#convert all ref bases to upper to fix grouping\n",
    "pivot_df[\"REF_BASE\"] = pivot_df[\"REF_BASE\"].str.upper()\n",
    "\n",
    "#new column to easily filter out correct basecalls\n",
    "pivot_df[\"match\"] = pivot_df[\"REF_BASE\"] == pivot_df[\"variable\"]\n"
   ]
  },
  {
   "cell_type": "code",
   "execution_count": null,
   "id": "19c80081-f7c4-46c1-a263-950e062321d0",
   "metadata": {},
   "outputs": [],
   "source": [
    "#extract information from samples as separate columns for plotting; assumes sample as \"{replicate}_{RT_primer}_{DMS_conc}_{localization}\"\n",
    "\n",
    "pivot_df[\"replicate\"] = pivot_df[\"sample\"].apply(lambda x: x.split(\"_\")[0])\n",
    "pivot_df[\"conc\"] = pivot_df[\"sample\"].apply(lambda x: x.split(\"_\")[2])"
   ]
  },
  {
   "cell_type": "code",
   "execution_count": null,
   "id": "6a43fbd9-e2a4-441f-99de-05d852ccfbd7",
   "metadata": {},
   "outputs": [],
   "source": [
    "#ensures samples are always plotted in the same order when specifying as category_orders in plotly\n",
    "order_dict = {\"conc\" : [\"0mM\", \"8mM\", \"17mM\", \"34mM\", \"57mM\", \"85mM\"], \n",
    "              \"replicate\" : [\"Rep1\", \"Rep2\"],\n",
    "             \"REF_BASE\" : [\"A\", \"C\", \"G\", \"T\"],\n",
    "             \"variable\" : [\"A\", \"C\", \"G\", \"T\", \"INS\", \"DEL\", \"REF_SKIP\"]}"
   ]
  },
  {
   "cell_type": "code",
   "execution_count": null,
   "id": "ea6f3b82-119a-48b3-94e5-3f985607986a",
   "metadata": {},
   "outputs": [],
   "source": [
    "fig = px.box(pivot_df[(pivot_df[\"match\"]) & (pivot_df[\"DEPTH\"]>1000)], color=\"conc\",x=\"conc\",  y=\"percent\", category_orders = order_dict, color_discrete_sequence =colorscale)\n",
    "fig.update_yaxes(range=[80,100], dtick=2)\n",
    "fig.update_layout(height=400, width=500)\n",
    "fig.update_traces(marker_size=2)\n",
    "fig.show(renderer=\"svg\")"
   ]
  },
  {
   "cell_type": "code",
   "execution_count": null,
   "id": "2b075704-0287-4752-a4a3-f65836f97cae",
   "metadata": {},
   "outputs": [],
   "source": [
    "# Generate a new df to plot mismatch rates\n",
    "mismatch_df = pivot_df[(pivot_df[\"match\"])].copy()\n",
    "mismatch_df[\"percent\"] = 100- mismatch_df[\"percent\"]"
   ]
  },
  {
   "cell_type": "code",
   "execution_count": null,
   "id": "e224f106-8fe5-41df-a153-3fb17171db65",
   "metadata": {},
   "outputs": [],
   "source": [
    "fig = px.box(mismatch_df[mismatch_df[\"DEPTH\"]>1000], color=\"conc\",x=\"conc\",  y=\"percent\", category_orders = order_dict, color_discrete_sequence =colorscale)\n",
    "fig.update_yaxes(range=[0,15], dtick=1)\n",
    "fig.update_layout(height=400, width=500)\n",
    "fig.update_traces(marker_size=2)\n",
    "fig.write_image(f\"figures/nanopore_mut_rate_box.svg\")\n",
    "fig.show(renderer=\"svg\")"
   ]
  },
  {
   "cell_type": "code",
   "execution_count": null,
   "id": "ba269f59-e435-4814-9c42-c0b5532a9639",
   "metadata": {},
   "outputs": [],
   "source": [
    "fig = px.box(mismatch_df[mismatch_df[\"DEPTH\"]>1000], facet_col=\"REF_BASE\", color=\"conc\",x=\"conc\",  y=\"percent\", category_orders = order_dict, color_discrete_sequence =colorscale)\n",
    "fig.update_yaxes(range=[0,15], dtick=1)\n",
    "fig.update_layout(height=400, width=800)\n",
    "fig.update_traces(marker_size=2)\n",
    "fig.write_image(f\"figures/nanopore_mut_rate_per_nt_box.svg\")\n",
    "\n",
    "fig.show(renderer=\"svg\")"
   ]
  },
  {
   "cell_type": "code",
   "execution_count": null,
   "id": "bf646197-1afc-4eed-8fa2-979b29cf07c0",
   "metadata": {},
   "outputs": [],
   "source": [
    "fig = px.box(pivot_df[~pivot_df[\"match\"]], facet_col=\"REF_BASE\", color=\"variable\", x=\"conc\", y=\"percent_minus_control\", category_orders = order_dict)\n",
    "fig.update_traces(marker_size=1)\n",
    "fig.update_yaxes(range = [-0.1,5])\n",
    "fig.for_each_annotation(lambda a: a.update(text=a.text.split(\"=\")[-1]))\n",
    "fig.update_layout(height=400, width=1200)"
   ]
  },
  {
   "cell_type": "code",
   "execution_count": null,
   "id": "05d4abf6-b84b-4f57-9334-2149d0cc6b4d",
   "metadata": {},
   "outputs": [],
   "source": [
    "# calc mean and plot line chart"
   ]
  },
  {
   "cell_type": "code",
   "execution_count": null,
   "id": "afe1f81d-2137-4a71-adb4-7282483f91dd",
   "metadata": {},
   "outputs": [],
   "source": [
    "mean_df = pivot_df.groupby([\"conc\", \"REF_BASE\", \"variable\"]).agg({\"percent\" : [\"mean\"]}).reset_index()\n",
    "mean_df.columns = [\"conc\", \"REF_BASE\", \"variable\", \"percent\"]\n",
    "\n",
    "mean_df[\"conc\"] = pd.Categorical(mean_df[\"conc\"], categories = order_dict[\"conc\"], ordered=True)\n",
    "mean_df.sort_values(by=\"conc\", inplace=True)\n",
    "\n",
    "mean_df[\"conc\"] = mean_df[\"conc\"].apply(lambda x: int(x.split(\"mM\")[0]))"
   ]
  },
  {
   "cell_type": "code",
   "execution_count": null,
   "id": "02fdb158-7065-4600-b35b-92b4ecd0449a",
   "metadata": {},
   "outputs": [],
   "source": [
    "fig = px.line(mean_df, x=\"conc\", y=\"percent\", color=\"variable\", facet_col=\"REF_BASE\", category_orders = order_dict)\n",
    "fig.update_yaxes(range=[0,2], dtick=0.2)\n",
    "fig.update_xaxes(type=\"category\")\n",
    "fig.update_layout(height=400, width=800)\n",
    "#fig.write_image(f\"figures/illumina_comparison/mut_rates/{seq_platform}_mut_type_per_nt_line.svg\")\n",
    "fig.show()"
   ]
  },
  {
   "cell_type": "code",
   "execution_count": null,
   "id": "a03235e9-369f-443a-8856-658d33f34d49",
   "metadata": {},
   "outputs": [],
   "source": [
    "fig = px.line(mean_df, x=\"conc\", y=\"percent\", color=\"variable\", facet_col=\"REF_BASE\", category_orders = order_dict)\n",
    "fig.update_yaxes(type=\"log\", range=[-2.5,0.6])\n",
    "fig.update_xaxes(type=\"category\")\n",
    "fig.update_layout(height=400, width=800)\n",
    "fig.write_image(f\"figures/nanopore_mut_type_per_nt_log_line.svg\")\n",
    "fig.show()"
   ]
  },
  {
   "cell_type": "code",
   "execution_count": null,
   "id": "12275863-ca06-4829-a990-d6392d42630b",
   "metadata": {},
   "outputs": [],
   "source": [
    "mean_df[\"match\"] = mean_df[\"REF_BASE\"] == mean_df[\"variable\"]\n",
    "mean_df[\"conc\"] = mean_df[\"conc\"].apply(lambda x: str(x) + \"mM\")"
   ]
  },
  {
   "cell_type": "code",
   "execution_count": null,
   "id": "759744de-e649-46d7-ac9e-1a5a8e888dc0",
   "metadata": {},
   "outputs": [],
   "source": [
    "fig = px.pie(mean_df[~mean_df[\"match\"]], values='percent', names='variable', facet_col=\"REF_BASE\", facet_row=\"conc\", category_orders = order_dict)\n",
    "fig.update_layout(height=1300, width=1000)\n",
    "fig.write_image(f\"figures/nanopore_mut_type_per_nt_pie.svg\")\n",
    "fig.show()"
   ]
  },
  {
   "cell_type": "code",
   "execution_count": null,
   "id": "d610c599-7fcc-48fb-bb45-a040ef0e5f13",
   "metadata": {},
   "outputs": [],
   "source": []
  }
 ],
 "metadata": {
  "kernelspec": {
   "display_name": "Python 3 (ipykernel)",
   "language": "python",
   "name": "python3"
  },
  "language_info": {
   "codemirror_mode": {
    "name": "ipython",
    "version": 3
   },
   "file_extension": ".py",
   "mimetype": "text/x-python",
   "name": "python",
   "nbconvert_exporter": "python",
   "pygments_lexer": "ipython3",
   "version": "3.10.5"
  }
 },
 "nbformat": 4,
 "nbformat_minor": 5
}
