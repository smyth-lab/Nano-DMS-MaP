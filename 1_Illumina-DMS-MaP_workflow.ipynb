{
 "cells": [
  {
   "cell_type": "markdown",
   "id": "ba35f16e-abdd-4540-81d1-41c509c25f2a",
   "metadata": {
    "tags": []
   },
   "source": [
    "# Jupyter Notebook to run Illumina DMS-MaP pipeline\n",
    "\n",
    "Note: Shell commands are all executed on Slurm cluster here. Adapt to specific needs if required. "
   ]
  },
  {
   "cell_type": "code",
   "execution_count": null,
   "id": "c38d7e51-950f-437b-bda6-29ab6e4c0360",
   "metadata": {},
   "outputs": [],
   "source": [
    "# folder structures:\n",
    "experiment/data/\n",
    "                fast5/      sample\n",
    "                fastq/      sample\n",
    "                bam/        sample\n",
    "                rf/         sample\n",
    "                perbase/    sample\n",
    "                eterna/     sample\n",
    "                \n",
    "experiment/references/\n",
    "                    .fa #(unspliced)\n",
    "                    .gtf #(isoform information), created with 0_create_gtf.ipynb\n",
    "                    .db #\"truth\" structure, required only for evaluation, e.g. ROC-AUC and BPS/PPV\n",
    "                    RT-PCR_transcripts/*.fa #individual fasta file for each isoform (generated with 0_create_gtf.ipynb)\n",
    "    "
   ]
  },
  {
   "cell_type": "markdown",
   "id": "362559c3-5979-4c5d-88b2-d23a510fa396",
   "metadata": {},
   "source": [
    "# Cutadapt"
   ]
  },
  {
   "cell_type": "code",
   "execution_count": null,
   "id": "fece7350-05ad-4194-bdef-12ca06cf8341",
   "metadata": {},
   "outputs": [],
   "source": []
  },
  {
   "cell_type": "markdown",
   "id": "15bc785b-c905-4632-8c47-dff0282d0275",
   "metadata": {},
   "source": [
    "# Align with bowtie"
   ]
  },
  {
   "cell_type": "code",
   "execution_count": null,
   "id": "3a251244-9543-4a9a-8a66-13b0e72f9b83",
   "metadata": {},
   "outputs": [],
   "source": [
    "#specify paths of bowtie and bowtie-build\n",
    "bowtie_tool = '...'\n",
    "bowtie_build_tool = '...'\n",
    "\n",
    "#specify fasta file and bowtie index file (to be generated below)\n",
    "fasta_file = f\"{os.getcwd()}/references/transcripts_PCR1/RT1_unspliced1.fa\"\n",
    "index_file = f\"{os.getcwd()}/references/transcripts_PCR1/RT1_unspliced1_bowtie.index\"\n",
    "\n",
    "#specify installed samtools binary (if installed via conda it is in miniconda3/envs/[...]/bin/samtools\"\n",
    "samtools_path = \"/home/pbohn/miniconda3/envs/nanodms/bin/samtools\""
   ]
  },
  {
   "cell_type": "code",
   "execution_count": null,
   "id": "029538d0-7a15-4c5f-a643-e03b7756f8b9",
   "metadata": {},
   "outputs": [],
   "source": [
    "# Build bowtie index\n",
    "\n",
    "command = f\"{bowtie_build_tool} {fasta_file} {index_file}\"\n",
    "!{command}"
   ]
  },
  {
   "cell_type": "code",
   "execution_count": null,
   "id": "65655c53-b557-434c-89d6-aec0a549922c",
   "metadata": {},
   "outputs": [],
   "source": [
    "# Align with bowtie\n",
    "\n",
    "num_threads = 5\n",
    "slurm_align = Slurm(\"bowtie\", {\"partition\" : \"cpu\", \"mem\" : \"5G\", \"cpus-per-task\" : num_threads, \"time\" : \"60\",\"mail-type\" : \"FAIL,INVALID_DEPEND\", \"mail-user\" : \"patrick.bohn@helmholtz-hiri.de\"})\n",
    "\n",
    "\n",
    "bowtie_outdir = f\"{data_folder}/bam_bowtie/{qscore}\"\n",
    "os.makedirs(bowtie_outdir, exist_ok=True)\n",
    "\n",
    "for sample in samples:\n",
    "\n",
    "    R1 = f\"{data_folder}/fastq/{sample}_1.fq.gz\"\n",
    "    R2 = f\"{data_folder}/fastq/{sample}_2.fq.gz\"\n",
    "    bam_outdir = f\"{bowtie_outdir}/{sample}/\"\n",
    "\n",
    "    command = f\"\"\"{bowtie_tool} -D 20 -R 3 -N 1 -L 15 -i S,1,0.50 -x {index_file} -1 {R1} -2 {R2} -S {bam_outdir}/{sample}.sam\n",
    "                {samtools_path} view -h -t {reference_fasta}.fai {bam_outdir}/{sample}.sam > {bam_outdir}/{sample}.bam\n",
    "                {samtools_path} calmd --output-fmt BAM --threads {num_threads} {bam_outdir}/{sample}.bam {reference_fasta} > {bam_outdir}/{sample}_MD.bam\n",
    "                {samtools_path} sort -O bam {bam_outdir}/{sample}_MD.bam > {bam_outdir}/{sample}_MD_sorted.bam\n",
    "                {samtools_path} index {bam_outdir}/{sample}_MD_sorted.bam\n",
    "                \"\"\"\n",
    "\n",
    "    slurm_align.run(command)\n"
   ]
  },
  {
   "cell_type": "markdown",
   "id": "41421e69-8921-4555-8a74-585b17836820",
   "metadata": {},
   "source": [
    "## RNA-Framework\n",
    "\n",
    "RNA-Framework version 2.8.0 was used for the paper. It is majorly written in perl. To run rfnorm the conda package \"perl-xml-libxml\" is required. "
   ]
  },
  {
   "cell_type": "code",
   "execution_count": null,
   "id": "1d33d8a8-b4bd-4b4b-844e-533a9155d402",
   "metadata": {},
   "outputs": [],
   "source": [
    "rf_dir = \"...\" #specify path to RNAFramework"
   ]
  },
  {
   "cell_type": "markdown",
   "id": "d033e534-7ac7-415a-bc1d-6c8af7a8d5b0",
   "metadata": {},
   "source": [
    "### rf-count"
   ]
  },
  {
   "cell_type": "code",
   "execution_count": null,
   "id": "ad00278c-6c29-4c3d-ac92-4c51b0bfa232",
   "metadata": {},
   "outputs": [],
   "source": [
    "os.makedirs(\"data/rfcount\", exist_ok=True)\n",
    "\n",
    "def rf_count(rf_dir, data_folder, sample, isoform, reference_fasta, pids, num_threads = 10):\n",
    "\n",
    "    slurm_rfcount = Slurm(\"rfcount\", {\"partition\" : \"cpu\", \"mem\" : \"2G\", \"cpus-per-task\" : num_threads, \"time\" : \"60\",\"mail-type\" : \"FAIL,INVALID_DEPEND\", \"mail-user\" : \"patrick.bohn@helmholtz-hiri.de\"})\n",
    "\n",
    "    commands = []\n",
    "    \n",
    "    bam_file = f\"{bowtie_outdir}/{sample}/{sample}_MD_sorted.bam\"\n",
    "    rc_outdir = f\"{data_folder}/rfcount/{sample}/\"\n",
    "    os.makedirs(rc_outdir, exist_ok=True)\n",
    "\n",
    "    #to run rf-count with different settings comment/uncomment commands (and adjust output_dir naming)\n",
    "    \n",
    "    commands.append(f\"{rf_dir}/rf-count -p {num_threads} -mf {primer_mask} -o {rc_outdir}/q22_eq10_ndni -ow -f {reference_fasta} -m -nd -ni -q 22 -eq 10 -mm {bam_file}\")\n",
    "    \n",
    "    #commands.append(f\"{rf_dir}/rf-count -p {num_threads} -mf {primer_mask} -o {rc_outdir}/q22_eq10 -ow -f {reference_fasta} -m -q 22 -eq 10 -mm {bam_file}\")\n",
    "    #commands.append(f\"{rf_dir}/rf-count -p {num_threads} -mf {primer_mask} -o {rc_outdir}/default -ow -f {reference_fasta} -m -mm {bam_file}\")\n",
    "    \n",
    "    command = \"\\n\".join(commands)\n",
    "    \n",
    "    pids[sample] = slurm_rfcount.run(command)\n",
    "    return pids"
   ]
  },
  {
   "cell_type": "code",
   "execution_count": null,
   "id": "0f5d65aa-e4c6-4f25-91ce-a46c91314af9",
   "metadata": {},
   "outputs": [],
   "source": [
    "pids = {}"
   ]
  },
  {
   "cell_type": "code",
   "execution_count": null,
   "id": "7516fc33-d038-4b36-a1c6-51390bb383fc",
   "metadata": {},
   "outputs": [],
   "source": [
    "primer_mask = f\"{data_folder}/references/mask_primers_PCR1_2_3.csv\"\n",
    "\n",
    "isoform = \"RT1_unspliced1\"\n",
    "for sample in samples:\n",
    "    pids[sample] = {}\n",
    "    reference_fasta = f\"{data_folder}/references/transcripts_PCR1/{isoform}.fa\"\n",
    "    pids = rf_count(rf_dir, data_folder, sample, isoform, reference_fasta, pids)"
   ]
  },
  {
   "cell_type": "code",
   "execution_count": null,
   "id": "262ce77f-d5d2-43dd-beec-3921a32477fd",
   "metadata": {},
   "outputs": [],
   "source": []
  },
  {
   "cell_type": "markdown",
   "id": "a8f5b62f-1f7a-4258-8d01-7ed3e9034768",
   "metadata": {},
   "source": [
    "### rf-norm"
   ]
  },
  {
   "cell_type": "code",
   "execution_count": null,
   "id": "6847b0af-634f-43de-acd5-448ebd0c662b",
   "metadata": {},
   "outputs": [],
   "source": [
    "rfnorm_outdir = f\"{data_folder}/rfnorm/\"\n",
    "os.makedirs(rfnorm_outdir, exist_ok=True)\n",
    "\n",
    "def rf_norm(rf_dir, data_folder, sample, control, isoform, num_threads = 10):\n",
    "    pids = {}\n",
    "    \n",
    "    slurm_rfnorm = Slurm(\"rfnorm\", {\"partition\" : \"cpu\", \"mem\" : \"2G\", \"cpus-per-task\" : num_threads, \"time\" : \"480\",\"mail-type\" : \"FAIL,INVALID_DEPEND\", \"mail-user\" : \"patrick.bohn@helmholtz-hiri.de\"})\n",
    "\n",
    "    commands = []\n",
    "    \n",
    "    #specify the different rf-count outdir names here\n",
    "    for option in [\"q22_eq10_ndni\"]: #[\"q22_eq10_ndni\", \"q22_eq10\", \"default\"]\n",
    "        \n",
    "        #running rfnorm with different reactive nt makes it easier to analyze them afterwards (e.g. for correlation analysis)\n",
    "        for reactive_nt in [\"AC\", \"ACT\"]: #[\"ACGT\", \"AC\", \"ACT\", \"G\"]\n",
    "\n",
    "            rc_file = f\"{data_folder}/rfcount/{sample}/{option}/{sample}_MD_sorted.rc\"\n",
    "            \n",
    "            control_rc_file = f\"{data_folder}/rfcount/{control}/{option}/{sample}_MD_sorted.rc\"\n",
    "            \n",
    "            rfnorm_outdir = f\"{data_folder}/rfnorm/{sample}/{option}_{reactive_nt}\"\n",
    "            \n",
    "            \n",
    "            #standard procedure is using Siegfried method, which normalizes against control sample. Control vs itself does not work here. \n",
    "            if sample != control:\n",
    "                os.makedirs(rfnorm_outdir, exist_ok=True)\n",
    "                commands.append(f\"{rf_dir}/rf-norm -p {num_threads} -t {rc_file} -u {control_rc_file} -o {rfnorm_outdir} --scoring-method 3 --norm-method 2 -rb {reactive_nt} --max-untreated-mut 0.05 --max-mutation-rate 0.2 --norm-independent -ow\")\n",
    "            \n",
    "            #To get raw reactivities (e.g. for evaluation of total (DMS) mutation rates or signal-to-noise calculation) use the following\n",
    "            \n",
    "            #rfnorm_outdir = f\"{data_folder}/rfnorm/{sample}/{isoform}/{option}_{reactive_nt}_raw\"\n",
    "            #os.makedirs(rfnorm_outdir, exist_ok=True)\n",
    "            #commands.append(f\"{rf_dir}/rf-norm -p {num_threads} -t {rc_file} -o {rfnorm_outdir} --scoring-method 4 -r -rb {reactive_nt} -ow\")\n",
    "\n",
    "    command = \"\\n\".join(commands)\n",
    "    \n",
    "    pid = slurm_rfnorm.run(command)\n",
    "    return pid"
   ]
  },
  {
   "cell_type": "code",
   "execution_count": null,
   "id": "d6d1167f-493a-4830-b4c1-7748e4b0b7e2",
   "metadata": {},
   "outputs": [],
   "source": [
    "for sample in samples:\n",
    "\n",
    "    #rf-norm with Siegfried requires a control sample. Here we assume the sample is structured as following: \n",
    "    #\"{replicate}_{RT_primer}_{DMS_conc}_{localization}\"\n",
    "    #adjust the list index if DMS_conc is at a different position\n",
    "\n",
    "    split_sample = sample.split(\"_\")\n",
    "    split_sample[2] = \"0mM\"\n",
    "    control = \"_\".join(split_sample)\n",
    "\n",
    "    pids[f\"rfnorm_{isoform}_{sample}\"] = rf_norm(rf_dir, data_folder, sample, control, isoform)"
   ]
  },
  {
   "cell_type": "markdown",
   "id": "f492ed4c-6674-4eec-a805-4b7846cca41c",
   "metadata": {},
   "source": [
    "### rf-correlate and rf-combine\n",
    "\n",
    "This step combines the data of multiple replicates. The correlation between those replicates (on A,C) is a key quality control metric, without it the interpretation of DMS reactivities is challenging. "
   ]
  },
  {
   "cell_type": "code",
   "execution_count": null,
   "id": "10745a88-108c-47ce-8800-09d9a9571fc5",
   "metadata": {
    "scrolled": true,
    "tags": []
   },
   "outputs": [],
   "source": [
    "os.makedirs(\"data/rfcombine\", exist_ok=True)\n",
    "num_threads = 1\n",
    "slurm_rfco = Slurm(\"rfco\", {\"partition\" : \"cpu\", \"mem\" : \"2G\", \"cpus-per-task\" : num_threads, \"time\" : \"10\",\"mail-type\" : \"FAIL,INVALID_DEPEND\", \"mail-user\" : \"patrick.bohn@helmholtz-hiri.de\"})\n",
    "\n",
    "\n",
    "for sample in samples:\n",
    "\n",
    "    #here we assume that our replicates are named \"Rep[n]\"\n",
    "\n",
    "    if (\"Rep1\" in sample):\n",
    "        commands = []\n",
    "\n",
    "        combined_sample = \"_\".join(sample.split(\"_\")[1:])\n",
    "        sample1 = sample\n",
    "        sample2 = sample.replace(\"Rep1\", \"Rep2\")\n",
    "        os.makedirs(f\"{data_folder}/rfcombine/{combined_sample}/{isoform}\", exist_ok=True)\n",
    "\n",
    "        #specify options again as used in rfcount_outdir \n",
    "        for option in [\"q22_eq10_ndni\"]: #[\"q22_eq10_ndni\", \"q22_eq10\", \"default\"]\n",
    "\n",
    "            #specify reactive_nt again as in rfnorm\n",
    "            for reactive_nt in [\"AC\", \"ACT\"]: #[\"ACGT\", \"AC\", \"ACT\", \"G\"]\n",
    "\n",
    "                #include \"_raw\" if rfnorm was also run with Zubradt (4)\n",
    "                for norm_option in [\"\"]: #[\"\", \"_raw\"]\n",
    "\n",
    "                    #assumes 2 replicates currently, extend if more\n",
    "                    xml1 = f\"{data_folder}/rfnorm/{sample1}/{option}_{reactive_nt}{norm_option}/{isoform}.xml\"\n",
    "                    xml2 = f\"{data_folder}/rfnorm/{sample2}/{option}_{reactive_nt}{norm_option}/{isoform}.xml\"\n",
    "\n",
    "                    if os.path.isfile(xml1) & os.path.isfile(xml2):\n",
    "\n",
    "                        xml_combined = f\"{data_folder}/rfcombine/{combined_sample}/{option}_{reactive_nt}{norm_option}/\"\n",
    "                        commands.append(f\"{rf_dir}/rf-combine -d 6 -o {xml_combined} -ow {xml1} {xml2}\")\n",
    "\n",
    "                        outfile = f\"{xml_combined}/correlation.csv\"\n",
    "\n",
    "                        commands.append(f\"{rf_dir}/rf-correlate -o {outfile} -ow {xml1} {xml2}\")\n",
    "        command = \"\\n\".join(commands)\n",
    "        slurm_rfco.run(command)"
   ]
  },
  {
   "cell_type": "markdown",
   "id": "42a52a2a-9eda-40f1-88f8-bcc09acb1d24",
   "metadata": {},
   "source": [
    "# Generate csv and bpseq from xml files\n",
    "\n",
    "RNA-Framework generates an xml file containing the sequence and reactivity scores. To facilitate easier processing with downstream tools, such as Varna and Eternafold, we provide functions to read in the xml file and generate standard csv and Eterna-/Contrafold compatible bpseq (https://github.com/eternagame/EternaFold#chemical-mapping) files. "
   ]
  },
  {
   "cell_type": "code",
   "execution_count": null,
   "id": "31caa184-dd26-4f2c-9219-e7d0befb1893",
   "metadata": {},
   "outputs": [],
   "source": [
    "import xml.etree.ElementTree as ET\n",
    "import numpy as np\n",
    "\n",
    "def read_in_xml(xml_file, sample, with_stdev = False):\n",
    "\n",
    "    tree = ET.parse(xml_file)\n",
    "    root = tree.getroot()\n",
    "    \n",
    "    transcript_id = root[0].attrib[\"id\"]\n",
    "    length = root[0].attrib[\"length\"]\n",
    "    sequence = root[0][0].text.replace(\"\\t\", \"\").replace(\"\\n\", \"\")\n",
    "    reactivity = np.array(root[0][1].text.replace(\"\\t\", \"\").replace(\"\\n\", \"\").split(\",\")).astype(float)\n",
    "    if with_stdev:\n",
    "        stdev = np.array(root[0][2].text.replace(\"\\t\", \"\").replace(\"\\n\", \"\").split(\",\")).astype(float)\n",
    "        return {\"sample\" : sample, \n",
    "            \"transcript_id\" : transcript_id,\n",
    "            \"length\" : length,\n",
    "            \"sequence\" : sequence, \n",
    "            \"reactivity\" : reactivity,\n",
    "            \"stdev\": stdev\n",
    "           }\n",
    "    else:\n",
    "        return {\"sample\" : sample, \n",
    "            \"transcript_id\" : transcript_id,\n",
    "            \"length\" : length,\n",
    "            \"sequence\" : sequence, \n",
    "            \"reactivity\" : reactivity\n",
    "           }\n",
    "    \n",
    "    \n",
    "def convert_xml_to_bpseq(xml_file,outfile):\n",
    "\n",
    "    tmp_data = read_in_xml(xml_file, \"\")\n",
    "\n",
    "    reactivities = tmp_data[\"reactivity\"]\n",
    "    sequence = list(tmp_data[\"sequence\"].replace(\"T\", \"U\"))\n",
    "    \n",
    "    reactivities = np.nan_to_num(reactivities, nan=-1.0)\n",
    "    with open(outfile, \"w+\") as out:\n",
    "        for i in np.arange(1,1+reactivities.shape[0]):\n",
    "            position = int(i)\n",
    "            line = f\"{position} {sequence[position-1]} e1 {reactivities[position-1]}\\n\"\n",
    "            out.write(line)\n",
    "            \n",
    "            \n",
    "#function to help predicting only part of an RNA isoform\n",
    "def convert_xml_to_bpseq_trimmed(xml_file,outfile, length):\n",
    "\n",
    "    tmp_data = read_in_xml(xml_file, \"\")\n",
    "\n",
    "    reactivities = tmp_data[\"reactivity\"][:length]\n",
    "    sequence = list(tmp_data[\"sequence\"].replace(\"T\", \"U\"))[:length]\n",
    "    \n",
    "    reactivities = np.nan_to_num(reactivities, nan=-1.0)\n",
    "    with open(outfile, \"w+\") as out:\n",
    "        for i in np.arange(1,1+reactivities.shape[0]):\n",
    "            position = int(i)\n",
    "            line = f\"{position} {sequence[position-1]} e1 {reactivities[position-1]}\\n\"\n",
    "            out.write(line)"
   ]
  },
  {
   "cell_type": "code",
   "execution_count": null,
   "id": "496f21c7-0a8b-4fd1-8165-589e3a9fb474",
   "metadata": {},
   "outputs": [],
   "source": [
    "# makes similar assumptions as rf-combine above\n",
    "#genrates a bp2seq file for use in Eternafold and a csv file for general use\n",
    "\n",
    "for sample in samples:\n",
    "    if (\"Rep1\" in sample):\n",
    "        combined_sample = \"_\".join(sample.split(\"_\")[1:])\n",
    "\n",
    "        for option in [\"q22_eq10_ndni\"]: #[\"q22_eq10_ndni\", \"q22_eq10\", \"default\"]\n",
    "            for reactive_nt in [\"AC\", \"ACT\"]: #[\"ACGT\", \"AC\", \"ACT\", \"G\"]\n",
    "                for norm_option in [\"\"]: #[\"\", \"_raw\"]\n",
    "\n",
    "                    xml_combined = f\"{data_folder}/rfcombine/{combined_sample}/{option}_{reactive_nt}{norm_option}/{isoform}.xml\"\n",
    "                    if os.path.isfile(xml_combined):\n",
    "                        file = read_in_xml(xml_combined, combined_sample)\n",
    "                        reactivities = file[\"reactivity\"]\n",
    "                        reactivities = np.nan_to_num(reactivities, nan = -1)\n",
    "                        reactivity_file = xml_combined.replace(\".xml\", \".csv\")\n",
    "                        np.savetxt(reactivity_file, reactivities, fmt=\"%6f\")\n",
    "                        bp_file = xml_combined.replace(\".xml\", \".bp2seq\")\n",
    "                        convert_xml_to_bpseq(xml_combined, bp_file)\n",
    "\n",
    "                        #lower part is optional, was used to predict HIV-1 unspliced 5' UTR folding\n",
    "                        length = 380\n",
    "                        bp_file = bp_file.replace(\".bp2seq\", f\"_{length}nt.bp2seq\")\n",
    "                        convert_xml_to_bpseq_trimmed(xml_combined,bp_file, length)"
   ]
  },
  {
   "cell_type": "code",
   "execution_count": null,
   "id": "c79169f8-23ef-43d0-88f9-83d2b8642458",
   "metadata": {},
   "outputs": [],
   "source": []
  }
 ],
 "metadata": {
  "kernelspec": {
   "display_name": "Python 3 (ipykernel)",
   "language": "python",
   "name": "python3"
  },
  "language_info": {
   "codemirror_mode": {
    "name": "ipython",
    "version": 3
   },
   "file_extension": ".py",
   "mimetype": "text/x-python",
   "name": "python",
   "nbconvert_exporter": "python",
   "pygments_lexer": "ipython3",
   "version": "3.10.5"
  }
 },
 "nbformat": 4,
 "nbformat_minor": 5
}
