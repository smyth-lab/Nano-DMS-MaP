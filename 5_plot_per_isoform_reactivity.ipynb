{
 "cells": [
  {
   "cell_type": "code",
   "execution_count": null,
   "id": "bbe49622-db55-4f5c-83f0-4dc1664db5ea",
   "metadata": {},
   "outputs": [],
   "source": [
    "import plotly.express as px\n",
    "import plotly.io as pio\n",
    "pio.templates.default = \"simple_white\"\n",
    "colorscale = px.colors.sequential.Plasma\n",
    "colorscale = [colorscale[0]] + colorscale[3:8]\n",
    "\n",
    "\n",
    "#for no gaps between histogram bars:\n",
    "#fig.update_traces(marker_line_width=0) \n",
    "#fig.for_each_annotation(lambda a: a.update(text=a.text.split(\"=\")[-1]))\n",
    "\n",
    "#plotly libraries\n",
    "import plotly.express as px\n",
    "import plotly.colors as pc\n",
    "import plotly.graph_objects as go\n",
    "import plotly.io as pio\n",
    "import os\n",
    "import pandas as pd\n",
    "import numpy as np\n",
    "\n",
    "\n",
    "#default renderer (svg means very small file size, visibility on github, high quality, but requires sometimes setting height and width)\n",
    "#pio.renderers.default = \"jupyterlab\"\n",
    "pio.renderers.default = \"svg\"\n",
    "colors = [\"#363b3d\", \"#727b76\", \"#31a240\", \"#f93939\", \"#f79118\", \"#de7b06\", \"#9b308f\", \"#dc759b\"]\n",
    "#additional defaults\n",
    "px.defaults.color_discrete_sequence = [\"rgb(100,100,100)\"] + pc.qualitative.D3\n",
    "px.defaults.width=1000\n",
    "px.defaults.height=500\n",
    "\n",
    "\n",
    "#try setting this as default for histograms\n",
    "#fig.update_traces(marker_line_width=0.2)\n",
    "\n",
    "#pio.templates[\"simple_white\"].layout.template.data.Histogram[\"marker_line_width\"] = 0.2\n",
    "\n",
    "\n",
    "#set default template as \"simple_white\" (no background, no grid lines)\n",
    "pio.templates[\"simple_white\"].layout[\"yaxis\"][\"showgrid\"] = True\n",
    "pio.templates[\"simple_white\"].layout[\"xaxis\"][\"showgrid\"] = True\n",
    "pio.templates.default = \"simple_white\""
   ]
  },
  {
   "cell_type": "code",
   "execution_count": null,
   "id": "58258a07-7296-48d8-9473-fc17a0066597",
   "metadata": {},
   "outputs": [],
   "source": [
    "import pandas as pd\n",
    "import numpy as np\n",
    "import os\n",
    "from Bio import SeqIO"
   ]
  },
  {
   "cell_type": "code",
   "execution_count": null,
   "id": "f738fa3c-11c2-4ed2-973c-aed9e74fa9d7",
   "metadata": {},
   "outputs": [],
   "source": [
    "isoforms = ['RT2_Tat6_RT3_Tat2',\n",
    " 'RT2_Env5_RT3_Nef3',\n",
    " 'RT2_Env10_RT3_Rev7',\n",
    " 'RT2_Vpr3_RT3_Vpr1',\n",
    " 'RT2_Tat5_RT3_Tat1',\n",
    " 'RT1_unspliced1',\n",
    " 'RT2_Env11_RT3_Rev8',\n",
    " 'RT2_Env13_RT3_Nef5',\n",
    " 'RT2_Env3_RT3_Rev2',\n",
    " 'RT2_Env9_RT3_Nef4',\n",
    " 'RT2_Env1_RT3_Nef2',\n",
    " 'RT2_Vif2_RT3_Vif1',\n",
    " 'RT2_Env2_RT3_Rev1']"
   ]
  },
  {
   "cell_type": "code",
   "execution_count": null,
   "id": "9df57954-bc9b-42cb-8d4c-6105872623a3",
   "metadata": {},
   "outputs": [],
   "source": [
    "samplesheet = pd.read_excel(\"samplesheet.xlsx\", engine=\"openpyxl\")"
   ]
  },
  {
   "cell_type": "code",
   "execution_count": null,
   "id": "8225f81f-e046-4e1d-8d6f-4dbd524f5f3c",
   "metadata": {},
   "outputs": [],
   "source": [
    "import numpy as np\n",
    "from Bio import SeqIO\n",
    "data = []\n",
    "\n",
    "\n",
    "option = \"q22_eq10_ndni\"\n",
    "reactive_nt = \"AC\"\n",
    "norm_option=\"\"\n",
    "\n",
    "for isoform in isoforms:\n",
    "    reactivity_dir = f\"{data_folder}/reactivities/{isoform}/{option}_{reactive_nt}{norm_option}\"\n",
    "\n",
    "    reactivities = [file for file in os.listdir(reactivity_dir) if \".csv\" in file]\n",
    "    for reactivity_file in reactivities:\n",
    "        #print(reactivity_file)\n",
    "        sample_name = reactivity_file.split(\".csv\")[0]\n",
    "        reactivity = np.loadtxt(f\"{reactivity_dir}/{reactivity_file}\").astype(\"float\")\n",
    "        for record in SeqIO.parse(f\"references/transcripts_PCR1_2_3/{isoform}.fa\", \"fasta\"):\n",
    "            sequence = list(record.seq)\n",
    "        data.append(\n",
    "        {\n",
    "            \"sample\" : sample_name,\n",
    "            \"DMS_conc\" : sample_name.split(\"_\")[1],\n",
    "            \"location\" : sample_name.split(\"_\")[2],\n",
    "            \"type\" : sample_name.split(\"_\")[3],\n",
    "            \"RT\" : sample_name.split(\"_\")[0],\n",
    "            \"isoform\" : isoform,\n",
    "            \"reactivity\" : reactivity,\n",
    "            \"sequence\" :sequence\n",
    "        }\n",
    "        )"
   ]
  },
  {
   "cell_type": "code",
   "execution_count": null,
   "id": "53330d82-3f43-44e0-8ec5-8047c7b19f88",
   "metadata": {},
   "outputs": [],
   "source": [
    "df = pd.DataFrame(data)\n",
    "df[\"RT_isoform_location\"] = df[\"RT\"] + \"_\" + df[\"isoform\"]\n",
    "df[\"RT_isoform_location\"] = df[\"RT\"] + \"_\" + df[\"isoform\"] + \"_\" + df[\"location\"]\n",
    "df[\"RT_isoform_treatment\"] = df[\"RT\"] + \"_\" + df[\"isoform\"] + \"_\" + df[\"type\"]"
   ]
  },
  {
   "cell_type": "markdown",
   "id": "6ff7f24c-afb0-4083-8ab1-6f6775f0892d",
   "metadata": {},
   "source": [
    "# Reactivity heatmap with clustering"
   ]
  },
  {
   "cell_type": "code",
   "execution_count": null,
   "id": "d254ffd7-28d9-4188-8e15-7d0b9fe96887",
   "metadata": {},
   "outputs": [],
   "source": [
    "from seaborn import clustermap\n",
    "import matplotlib.pyplot as plt"
   ]
  },
  {
   "cell_type": "code",
   "execution_count": null,
   "id": "52d126dd-5a4b-4536-9787-d369171f6778",
   "metadata": {},
   "outputs": [],
   "source": [
    "figure_dir = f\"{os.getcwd()}/figures/reactivities\"\n",
    "os.makedirs(figure_dir, exist_ok=True)"
   ]
  },
  {
   "cell_type": "code",
   "execution_count": null,
   "id": "03409b7e-f907-4dd5-bcbd-673fab37e2ae",
   "metadata": {
    "scrolled": true,
    "tags": []
   },
   "outputs": [],
   "source": [
    "reactive_nt = \"AC\"\n",
    "option = \"q22_eq10_ndni\"\n",
    "norm_option= \"\"\n",
    "\n",
    "for conc in [\"8mM\", \"17mM\", \"34mM\", \"57mM\", \"85mM\"]:\n",
    "    sub_df = df[df[\"DMS_conc\"] == conc]\n",
    "    isoform_names = df[\"RT_isoform_location\"].values\n",
    "    RTs = sub_df[\"RT\"].values\n",
    "    \n",
    "\n",
    "    ref = SeqIO.read(f\"{os.getcwd()}/references/RT1_unspliced1.fa\", \"fasta\")\n",
    "    sequence = np.array(list(ref.seq))\n",
    "\n",
    "    reactivity_matrix = np.full((len(sub_df), 289), fill_value=-1.0)\n",
    "    row = 0\n",
    "    sample_labels = []\n",
    "    \n",
    "    for i, (_, row) in enumerate(sub_df.iterrows()):\n",
    "        reactivity = np.nan_to_num(row[\"reactivity\"], nan=-1)\n",
    "        reactivity_matrix[i, :] = reactivity\n",
    "\n",
    "    \n",
    "    nonnan_positions = np.where(~np.any(reactivity_matrix<0, axis=0))[0]\n",
    "    nonnan_matrix = reactivity_matrix[:,nonnan_positions]\n",
    "    \n",
    "    nonnan_nt = seq[nonnan_positions]\n",
    "    \n",
    "    nt_labels = [f\"{nonnan_positions[i]}\\t{nonnan_nt[i]}\" for i in range(len(nonnan_positions))]\n",
    "\n",
    "    fig = clustermap(np.corrcoef(nonnan_matrix), xticklabels = [label.replace(\"\\t\", \" \") for label in isoform_names], yticklabels = [label.replace(\"\\t\", \" \") for label in isoform_names], method=\"single\", vmin=0.5, vmax=1)\n",
    "    plt.title(conc)\n",
    "    plt.savefig(f\"{figure_dir}/{conc}_{reactive_nt}_correlation.svg\")\n",
    "    \n",
    "    plt.show()\n",
    "    \n",
    "    ordered_isoform_names = np.array(isoform_names)[fig.dendrogram_row.reordered_ind]\n",
    "    \n",
    "    reordered_matrix = nonnan_matrix[fig.dendrogram_row.reordered_ind, :]\n",
    "\n",
    "    fig = px.imshow(reordered_matrix, y=ordered_isoform_names, x=nt_labels, zmin=0, aspect='auto', color_continuous_scale=\"RdBu_r\")\n",
    "    fig.update_layout(title=conc, height=100+33*len(ordered_isoform_names), width=14*len(nonnan_nt))\n",
    "    fig.update_xaxes(tickfont_size=11)\n",
    "    fig.write_image(f\"{figure_dir}/{conc}_{reactive_nt}_heatmap.svg\")\n",
    "    \n",
    "    fig.show(renderer=\"svg\")"
   ]
  },
  {
   "cell_type": "code",
   "execution_count": null,
   "id": "a0915916-ee57-4639-99e7-7af60c191baf",
   "metadata": {},
   "outputs": [],
   "source": []
  }
 ],
 "metadata": {
  "kernelspec": {
   "display_name": "Python 3 (ipykernel)",
   "language": "python",
   "name": "python3"
  },
  "language_info": {
   "codemirror_mode": {
    "name": "ipython",
    "version": 3
   },
   "file_extension": ".py",
   "mimetype": "text/x-python",
   "name": "python",
   "nbconvert_exporter": "python",
   "pygments_lexer": "ipython3",
   "version": "3.10.5"
  }
 },
 "nbformat": 4,
 "nbformat_minor": 5
}
