{
 "cells": [
  {
   "cell_type": "code",
   "execution_count": null,
   "id": "22393ef2-f594-49bf-99dd-7be6fb1812de",
   "metadata": {},
   "outputs": [],
   "source": [
    "#https://github.com/eternagame/EternaFold v1.3.1\n",
    "\n",
    "eternafold = \"/home/pbohn/tools/EternaFold/src/contrafold\"\n",
    "!{eternafold}"
   ]
  },
  {
   "cell_type": "code",
   "execution_count": null,
   "id": "35eb9f60-3137-48ed-a50c-ca6e33b7a129",
   "metadata": {},
   "outputs": [],
   "source": [
    "import pandas as pd\n",
    "samplesheet = pd.read_excel(\"./samplesheet.xlsx\", engine=\"openpyxl\")\n",
    "samples = samplesheet[\"Sample\"].values\n",
    "samples"
   ]
  },
  {
   "cell_type": "code",
   "execution_count": null,
   "id": "d7663288-46d9-4d62-8657-735e1cc9f99a",
   "metadata": {},
   "outputs": [],
   "source": [
    "data_folder = \"/vol/projects/pbohn/AnSo_DMS_MaP/_for_publication/1_US_default_and_optimization/data/\""
   ]
  },
  {
   "cell_type": "code",
   "execution_count": null,
   "id": "bce5aba7-c60f-49ad-b6b6-ae83fa25a6d8",
   "metadata": {},
   "outputs": [],
   "source": [
    "from slurmpy import Slurm\n",
    "\n",
    "import os\n",
    "os.makedirs(f\"{data_folder}/eterna\", exist_ok=True)\n",
    "\n",
    "num_threads = 1\n",
    "slurm_eterna = Slurm(\"eterna\", {\"partition\" : \"cpu\", \"mem\" : \"2G\", \"cpus-per-task\" : num_threads, \"time\" : \"30\",\"mail-type\" : \"FAIL,INVALID_DEPEND\", \"mail-user\" : \"patrick.bohn@helmholtz-hiri.de\"})\n",
    "\n",
    "\n",
    "\n",
    "for sample in samples:\n",
    "\n",
    "    if (\"Rep1\" in sample):\n",
    "        combined_sample = \"_\".join(sample.split(\"_\")[1:])\n",
    "        \n",
    "        for isoform in os.listdir(f\"{data_folder}/rfcombine/{combined_sample}\"):\n",
    "    \n",
    "            commands = []\n",
    "            for option in [\"q22_eq10_ndni\"]: #[\"q22_eq10_ndni\", \"q22_eq10\", \"default\"]\n",
    "                \n",
    "                for reactive_nt in [\"AC\", \"ACT\"]: # [\"ACGT\", \"AC\", \"ACT\", \"G\"]\n",
    "                    \n",
    "                    #predict RNA structure based on whole HIV 5' -UTR unspliced sequence (537 nt)\n",
    "                    bp_file = f\"{data_folder}/rfcombine/{combined_sample}/{isoform}/{option}_{reactive_nt}/{isoform}.bp2seq\"\n",
    "                    if os.path.isfile(bp_file):\n",
    "                        os.makedirs(f\"{data_folder}/eterna/{combined_sample}/{isoform}/{option}_{reactive_nt}\", exist_ok=True)\n",
    "                        eterna_outfile = f\"{data_folder}/eterna/{combined_sample}/{isoform}/{option}_{reactive_nt}/predict_{isoform}.eterna\"\n",
    "                        command = f\"{eternafold} predict {bp_file} --evidence --numdatasources 1 --params /home/pbohn/tools/EternaFold/parameters/EternaFoldParams_PLUS_POTENTIALS.v1 > {eterna_outfile}\"\n",
    "                        commands.append(command)\n",
    "                    \n",
    "                    \n",
    "                    #predict RNA structure based on first 380 nt sequence and data\n",
    "                    bp_file = f\"{data_folder}/rfcombine/{combined_sample}/{isoform}/{option}_{reactive_nt}/{isoform}_380nt.bp2seq\"\n",
    "                    if os.path.isfile(bp_file):\n",
    "                        os.makedirs(f\"{data_folder}/eterna/{combined_sample}/{isoform}/{option}_{reactive_nt}\", exist_ok=True)\n",
    "                        eterna_outfile = f\"{data_folder}/eterna/{combined_sample}/{isoform}/{option}_{reactive_nt}/predict_{isoform}_380nt.eterna\"\n",
    "                        command = f\"{eternafold} predict {bp_file} --evidence --numdatasources 1 --params /home/pbohn/tools/EternaFold/parameters/EternaFoldParams_PLUS_POTENTIALS.v1 > {eterna_outfile}\"\n",
    "                        commands.append(command)\n",
    "            slurm_eterna.run(\"\\n\".join(commands))\n",
    "            "
   ]
  },
  {
   "cell_type": "code",
   "execution_count": null,
   "id": "70da10b1-9b4d-491a-9bfc-575ba898bc87",
   "metadata": {},
   "outputs": [],
   "source": [
    "import xml.etree.ElementTree as ET\n",
    "import numpy as np\n",
    "\n",
    "def read_in_xml(xml_file, sample, with_stdev = False):\n",
    "\n",
    "    tree = ET.parse(xml_file)\n",
    "    root = tree.getroot()\n",
    "    \n",
    "    transcript_id = root[0].attrib[\"id\"]\n",
    "    length = root[0].attrib[\"length\"]\n",
    "    sequence = root[0][0].text.replace(\"\\t\", \"\").replace(\"\\n\", \"\")\n",
    "    reactivity = np.array(root[0][1].text.replace(\"\\t\", \"\").replace(\"\\n\", \"\").split(\",\")).astype(float)\n",
    "    if with_stdev:\n",
    "        stdev = np.array(root[0][2].text.replace(\"\\t\", \"\").replace(\"\\n\", \"\").split(\",\")).astype(float)\n",
    "        return {\"sample\" : sample, \n",
    "            \"transcript_id\" : transcript_id,\n",
    "            \"length\" : length,\n",
    "            \"sequence\" : sequence, \n",
    "            \"reactivity\" : reactivity,\n",
    "            \"stdev\": stdev\n",
    "           }\n",
    "    else:\n",
    "        return {\"sample\" : sample, \n",
    "            \"transcript_id\" : transcript_id,\n",
    "            \"length\" : length,\n",
    "            \"sequence\" : sequence, \n",
    "            \"reactivity\" : reactivity\n",
    "           }\n",
    "\n",
    "from sklearn.metrics import roc_auc_score\n",
    "\n",
    "def generate_db_from_eterna(eterna_outfile, sample, outdir, bp2seq_file, mode=\"sample\"):\n",
    "    db_files = []\n",
    "    \n",
    "    tmp_data = pd.read_csv(bp2seq_file, sep=\"\\s\", names = [\"sequence\", \"-\", \"reactivity\"])\n",
    "    reactivity = tmp_data[\"reactivity\"].values\n",
    "    sequence = tmp_data[\"sequence\"].values\n",
    "    \n",
    "    mask = reactivity == -1\n",
    "    reactivity = reactivity[~mask]\n",
    "    \n",
    "    if mode == \"sample\":\n",
    "        with open(eterna_outfile, \"r\") as infile:\n",
    "            for i, line in enumerate(infile):\n",
    "                structure = np.array(list(line.strip()))\n",
    "\n",
    "                rocauc = np.round(roc_auc_score(np.array(list(structure))[~mask] == \".\", reactivity),3)\n",
    "\n",
    "                with open(f\"{outdir}/{sample}_{i}.db\", \"w\") as outfile:\n",
    "                    outfile.write(f\">{sample}_{i}_ROCAUC{rocauc}\\n\")\n",
    "                    outfile.write(f\"{''.join(sequence)}\\n\")\n",
    "                    outfile.write(f\"{''.join(structure)}\")\n",
    "                db_files.append(f\"{outdir}/{sample}_{i}.db\")\n",
    "        return db_files\n",
    "    elif mode == \"predict\":\n",
    "        filename = f\"predict_{bp2seq_file.split('/')[-1].split('.')[0]}\"\n",
    "        with open(eterna_outfile, \"r\") as infile:\n",
    "\n",
    "            _, _, _, _, structure = infile.readlines()\n",
    "            structure = np.array(list(structure.strip()))\n",
    "            rocauc = np.round(roc_auc_score(np.array(list(structure))[~mask] == \".\", reactivity),3)\n",
    "\n",
    "            with open(f\"{outdir}/{filename}.db\", \"w\") as outfile:\n",
    "                outfile.write(f\">{sample}_predict_ROCAUC{rocauc}\\n\")\n",
    "                outfile.write(f\"{''.join(sequence)}\\n\")\n",
    "                outfile.write(f\"{''.join(structure)}\")\n",
    "            db_files.append(f\"{outdir}/{filename}.db\")\n",
    "            \n",
    "        return db_files\n",
    "    \n",
    "\n",
    "    \n",
    "#generate varna file for fast visualization of RNA structures (includes reactivity data and colormap)\n",
    "#to run varna one needs to copy/link the class file into the working directory\n",
    "#note: varna has a bug depending on localization setting of the computer where when opening .varna files with varna and then saving, the colormap is broken because the values, e.g. 1.000 is written as 1,000. To fix, manually open the file in a text editor and replace the , with .\n",
    "\n",
    "def generate_varna(db_file, reactivity_file, sample, varna_outprefix):\n",
    "    reactivities = read_in_xml(reactivity_file, \"\")[\"reactivity\"]\n",
    "    reactivities = np.nan_to_num(reactivities, nan=-1.0)\n",
    "    with open(db_file, \"r\") as infile:\n",
    "        title = infile.readline().strip()\n",
    "        sequence = infile.readline().strip().replace(\"T\", \"U\")\n",
    "        structure = infile.readline().strip()\n",
    "    \n",
    "    for algorithm in [\"radiate\", \"line\"]:\n",
    "        varna_outfile = f\"{varna_outprefix}_{algorithm}.varna\"\n",
    "        \n",
    "        colormap = '-1:#888888;0:#0000FF;0.5:#FFFFFF;1:#FF0000'\n",
    "        command = f'java -cp VARNAv3-93.jar fr.orsay.lri.varna.applications.VARNAcmd -algorithm {algorithm} -sequenceDBN \"{sequence}\" -structureDBN \"{structure}\" -o {varna_outfile} -colorMap \"{\";\".join(reactivities.astype(str))}\" -colorMapStyle \"{colormap}\" -title \"{title}\" -flat True'\n",
    "        #print(command)\n",
    "        !{command}\n",
    "    return"
   ]
  },
  {
   "cell_type": "code",
   "execution_count": null,
   "id": "ff659f91-1a85-4229-8065-9e5adbfc60ce",
   "metadata": {
    "scrolled": true,
    "tags": []
   },
   "outputs": [],
   "source": [
    "for sample in samples:\n",
    "\n",
    "    if (\"Rep1\" in sample):\n",
    "        combined_sample = \"_\".join(sample.split(\"_\")[1:])\n",
    "        \n",
    "        for isoform in os.listdir(f\"{data_folder}/rfcombine/{combined_sample}\"):\n",
    "\n",
    "            for option in [\"q22_eq10_ndni\", \"q22_eq10\", \"default\"]:\n",
    "                for reactive_nt in [\"ACGT\", \"AC\", \"ACT\", \"G\"]:\n",
    "                    \n",
    "                    eterna_outfile = f\"{data_folder}/eterna/{combined_sample}/{isoform}/{option}_{reactive_nt}/predict_{isoform}.eterna\"\n",
    "                    if os.path.isfile(eterna_outfile):\n",
    "                        \n",
    "                        db_outfolder = f\"{data_folder}/eterna/{combined_sample}/{isoform}/{option}_{reactive_nt}/\"\n",
    "                        bp2_file = f\"{data_folder}/rfcombine/{combined_sample}/{isoform}/{option}_{reactive_nt}/{isoform}.bp2seq\"\n",
    "                        xml_file = f\"{data_folder}/rfcombine/{combined_sample}/{isoform}/{option}_{reactive_nt}/{isoform}.xml\"\n",
    "                        \n",
    "                        db_files = generate_db_from_eterna(eterna_outfile, combined_sample, db_outfolder, bp2_file, mode = \"predict\")\n",
    "\n",
    "                        for db_file in db_files:\n",
    "                            varna_outprefix = f\"{db_outfolder}/{db_file.split('/')[-1].split('.db')[0]}\"\n",
    "                            generate_varna(db_file, xml_file, combined_sample, varna_outprefix)\n",
    "                            \n",
    "                    eterna_outfile = f\"{data_folder}/eterna/{combined_sample}/{isoform}/{option}_{reactive_nt}/predict_{isoform}_380nt.eterna\"\n",
    "                    if os.path.isfile(eterna_outfile):\n",
    "                        db_outfolder = f\"{data_folder}/eterna/{combined_sample}/{isoform}/{option}_{reactive_nt}/\"\n",
    "                        bp2_file = f\"{data_folder}/rfcombine/{combined_sample}/{isoform}/{option}_{reactive_nt}/{isoform}_380nt.bp2seq\"\n",
    "\n",
    "                        db_files = generate_db_from_eterna(eterna_outfile, combined_sample, db_outfolder, bp2_file, mode = \"predict\")\n",
    "\n",
    "                        for db_file in db_files:\n",
    "                            varna_outprefix = f\"{db_outfolder}/{db_file.split('/')[-1].split('.db')[0]}\"\n",
    "                            generate_varna(db_file, xml_file, combined_sample, varna_outprefix)"
   ]
  },
  {
   "cell_type": "markdown",
   "id": "4c791b3b-89cb-4cd0-a030-a810134bf6b6",
   "metadata": {},
   "source": [
    "# Calculate Base-pairing sensitivity and positive predictive value of predictions"
   ]
  },
  {
   "cell_type": "code",
   "execution_count": null,
   "id": "4000420c-2f7f-43f9-ac03-ab49ff29a6b3",
   "metadata": {},
   "outputs": [],
   "source": [
    "# Definition according to:\n",
    "# https://www.ncbi.nlm.nih.gov/pmc/articles/PMC1370608/\n",
    "\n",
    "#to calculate BPS and PPV we need to convert dot-bracket format to base-pairing format (i.e. we need to know which base is predicted to pair with which other base)\n",
    "\n",
    "import numpy as np\n",
    "\n",
    "def read_in_db(file):\n",
    "    with open(file, \"r\") as infile:\n",
    "        name, sequence, structure = infile.readlines()\n",
    "        name = name.replace(\">\", \"\")\n",
    "    return name.strip(), sequence.strip(), structure.strip()\n",
    "\n",
    "\n",
    "def convert_db_to_bp(db_structure, sequence):\n",
    "    positions = np.array(np.arange(len(db_structure)), dtype=int)+1\n",
    "    sequence = np.array(list(sequence.replace(\"T\", \"U\")))\n",
    "\n",
    "    db_structure = np.array(list(db_structure))\n",
    "    \n",
    "    open_bracket_index = np.where(db_structure == \"(\")[0]\n",
    "    closed_bracket_index = np.where(db_structure == \")\")[0]\n",
    "\n",
    "    unpaired = np.where(db_structure == \".\")[0]\n",
    "    \n",
    "    pk1_first_pairing = np.where(db_structure == \"[\")[0]\n",
    "    pk1_second_pairing = np.where(db_structure == \"]\")[0]\n",
    "    \n",
    "    pk2_first_pairing = np.where(db_structure == \"{\")[0]\n",
    "    pk2_second_pairing = np.where(db_structure == \"}\")[0]\n",
    "\n",
    "    if len(open_bracket_index) != len(closed_bracket_index):\n",
    "        print(\"Error: number of ( and ) is not equal\")\n",
    "        return\n",
    "    \n",
    "    basepairings = np.full(len(db_structure), fill_value = -1, dtype=int)\n",
    "    \n",
    "    for closed_bracket in closed_bracket_index:\n",
    "\n",
    "        matching_open_bracket = open_bracket_index[np.where(open_bracket_index < closed_bracket)][-1]\n",
    "        open_bracket_index = np.delete(open_bracket_index, np.where(open_bracket_index==matching_open_bracket)[0])\n",
    "        basepairings[matching_open_bracket] = closed_bracket\n",
    "        basepairings[closed_bracket] = matching_open_bracket\n",
    "        \n",
    "    for pk1_second in pk1_second_pairing:\n",
    "\n",
    "        matching_open_bracket = pk1_first_pairing[np.where(pk1_first_pairing < pk1_second)][-1]\n",
    "        pk1_first_pairing = np.delete(pk1_first_pairing, np.where(pk1_first_pairing==matching_open_bracket)[0])\n",
    "        basepairings[matching_open_bracket] = pk1_second\n",
    "        basepairings[pk1_second] = matching_open_bracket\n",
    "        \n",
    "    for pk2_second in pk1_second_pairing:\n",
    "\n",
    "        matching_open_bracket = pk2_first_pairing[np.where(pk2_first_pairing < pk2_second)][-1]\n",
    "        pk1_first_pairing = np.delete(pk2_first_pairing, np.where(pk2_first_pairing==matching_open_bracket)[0])\n",
    "        basepairings[matching_open_bracket] = pk2_second\n",
    "        basepairings[pk2_second] = matching_open_bracket\n",
    "    \n",
    "    #make basepairings 1-based\n",
    "    basepairings += 1\n",
    "\n",
    "    bpseq = np.array([positions, sequence, basepairings], dtype=str).T\n",
    "    \n",
    "    return bpseq #returns it back as 2D numpy array (dtype str)\n",
    "\n",
    "def calculate_BPS_PPV(true_bpseq, predicted_bpseq):\n",
    "    \n",
    "    true_length = len(true_bpseq)\n",
    "    if len(true_bpseq) != len(predicted_bpseq):\n",
    "        print(\"Length of known and predicted sequences does not match! Trimming predicted sequence\")\n",
    "    predicted_bpseq = predicted_bpseq[:true_length]\n",
    "    \n",
    "    true_bpseq = true_bpseq.T\n",
    "    #to not count basepairs twice, we only get those where the first base is pairing with a base downstream\n",
    "    true_basepair_indices = true_bpseq[2].astype(int) > true_bpseq[0].astype(int)\n",
    "    true_basepairs = set([\"_\".join(x) for x in true_bpseq.T[true_basepair_indices]])\n",
    "    \n",
    "    predicted_bpseq = predicted_bpseq.T\n",
    "    predicted_basepair_indices = predicted_bpseq[2].astype(int) > predicted_bpseq[0].astype(int)\n",
    "    predicted_basepairs = set([\"_\".join(x) for x in predicted_bpseq.T[predicted_basepair_indices]])\n",
    "    \n",
    "    \n",
    "    shared_bp = true_basepairs.intersection(predicted_basepairs)\n",
    "    num_shared = len(shared_bp)\n",
    "    total_num_known = len(true_basepairs)\n",
    "    total_num_predicted = len(predicted_basepairs)\n",
    "    \n",
    "    sensitivity = num_shared / total_num_known\n",
    "    ppv = num_shared / total_num_predicted\n",
    "\n",
    "    return sensitivity, ppv, shared_bp, num_shared, total_num_known, total_num_predicted"
   ]
  },
  {
   "cell_type": "code",
   "execution_count": null,
   "id": "79b724c4-6551-4d2b-9171-d653e5ad7a85",
   "metadata": {},
   "outputs": [],
   "source": [
    "_, seq, known_structure = read_in_db(f\"{data_folder}/references/dimer_canonical_wo_sl_at_210.db\")\n",
    "\n",
    "known_bpseq = convert_db_to_bp(known_structure, seq)"
   ]
  },
  {
   "cell_type": "markdown",
   "id": "f06a9597-41d5-4522-9167-6de11d6fcf08",
   "metadata": {},
   "source": [
    "### Calculate BPS and PPV"
   ]
  },
  {
   "cell_type": "code",
   "execution_count": null,
   "id": "88b7c19a-154d-4196-bc10-ee39810d9ff4",
   "metadata": {
    "scrolled": true,
    "tags": []
   },
   "outputs": [],
   "source": [
    "tmp_data = []\n",
    "\n",
    "isoform = \"RT1_unspliced1\"\n",
    "for sample in samples:\n",
    "\n",
    "    if (\"Rep1\" in sample):\n",
    "        combined_sample = \"_\".join(sample.split(\"_\")[1:])\n",
    "        \n",
    "        for option in [\"q22_eq10_ndni\"]: #[\"q22_eq10_ndni\", \"q22_eq10\", \"default\"]\n",
    "            for reactive_nt in [ \"AC\", \"ACT\"]: #[\"ACGT\", \"AC\", \"ACT\", \"G\"]\n",
    "                db_outfolder = f\"{data_folder}/eterna/{combined_sample}/{isoform}/{option}_{reactive_nt}/\"\n",
    "                    \n",
    "                db_file = f\"{db_outfolder}/predict_{isoform}.db\"\n",
    "                if os.path.isfile(db_file):\n",
    "                    \n",
    "                    \n",
    "                    _,seq,predicted_structure = read_in_db(db_file)\n",
    "                    predicted_bpseq = convert_db_to_bp(predicted_structure, seq)\n",
    "\n",
    "                    sensitivity, ppv, shared_bp, num_shared, total_num_known, total_num_predicted = calculate_BPS_PPV(known_bpseq, predicted_bpseq)\n",
    "                    name, _, _ = read_in_db(db_file)\n",
    "                    reactivity_roc_auc = float(name.split(\"ROCAUC\")[1])\n",
    "                    tmp_data.append({\"sample\" : combined_sample, \"option\" : option, \"reactive_nt\" : reactive_nt, \"sensitivity\" : sensitivity, \"ppv\" : ppv, \"shared_bp\" : shared_bp, \"num_shared\" : num_shared,  \"total_num_known\" : total_num_known, \"total_num_predicted\" : total_num_predicted, \"reactivity_ROCAUC_w_predicted\" : reactivity_roc_auc})"
   ]
  },
  {
   "cell_type": "code",
   "execution_count": null,
   "id": "ee5e8853-21ee-4748-a438-3e24ee2b3efa",
   "metadata": {},
   "outputs": [],
   "source": [
    "sens_ppv_df = pd.DataFrame(tmp_data)\n",
    "sens_ppv_df[\"conc\"] = sens_ppv_df[\"sample\"].apply(lambda x: x.split(\"_\")[1])\n",
    "sens_ppv_df[\"location\"] = sens_ppv_df[\"sample\"].apply(lambda x: x.split(\"_\")[2])"
   ]
  },
  {
   "cell_type": "markdown",
   "id": "a4348e77-f28e-4bf5-b2f6-727080f10f35",
   "metadata": {},
   "source": [
    "### Plot BPS and PPV"
   ]
  },
  {
   "cell_type": "code",
   "execution_count": null,
   "id": "c083794a-fb9e-4ec5-b8d0-1484150cdd14",
   "metadata": {},
   "outputs": [],
   "source": [
    "#plotly libraries\n",
    "import plotly.express as px\n",
    "import plotly.colors as pc\n",
    "import plotly.graph_objects as go\n",
    "import plotly.io as pio\n",
    "\n",
    "#default renderer (svg means very small file size, visibility on github, high quality, but requires sometimes setting height and width)\n",
    "pio.renderers.default = \"svg\"\n",
    "\n",
    "colors = [\"#363b3d\", \"#727b76\", \"#31a240\", \"#f93939\", \"#f79118\", \"#de7b06\", \"#9b308f\", \"#dc759b\"]\n",
    "#additional defaults\n",
    "px.defaults.color_discrete_sequence = [\"rgb(100,100,100)\"] + pc.qualitative.D3\n",
    "px.defaults.width=1000\n",
    "px.defaults.height=800\n",
    "\n",
    "#try setting this as default for histograms\n",
    "#fig.update_traces(marker_line_width=0.2)\n",
    "\n",
    "#set default template as \"simple_white\" (no background, no grid lines)\n",
    "pio.templates[\"simple_white\"].layout[\"yaxis\"][\"showgrid\"] = True\n",
    "pio.templates.default = \"simple_white\"\n",
    "\n",
    "import numpy as np\n",
    "\n",
    "import sklearn.metrics as metrics\n",
    "import plotly.express as px\n",
    "import plotly.graph_objects as go\n",
    "import pandas as pd\n",
    "from plotly.subplots import make_subplots\n",
    "import plotly.figure_factory as ff\n",
    "\n",
    "colorscale = pc.sequential.Plasma\n",
    "print(colorscale)\n",
    "colorscale = [colorscale[0]] + colorscale[3:8]\n",
    "colorscale"
   ]
  },
  {
   "cell_type": "code",
   "execution_count": null,
   "id": "7a5d6888-e746-4869-9ec7-1a3d2dc6851b",
   "metadata": {},
   "outputs": [],
   "source": [
    "fig = px.bar(sens_ppv_df, x=\"conc\", y=\"sensitivity\", barmode=\"group\", color=\"option\", facet_col=\"location\", facet_row=\"reactive_nt\")\n",
    "fig.update_yaxes(range=[0,1])\n",
    "fig.update_layout(height=600)"
   ]
  },
  {
   "cell_type": "code",
   "execution_count": null,
   "id": "d6f42991-2651-441e-aa9e-f7b545a517b4",
   "metadata": {},
   "outputs": [],
   "source": [
    "px.bar(sens_ppv_df, x=\"conc\", y=\"ppv\", color=\"option\", barmode=\"group\", facet_col=\"location\", facet_row=\"reactive_nt\")\n",
    "fig.update_yaxes(range=[0,1])\n",
    "fig.update_layout(height=600)"
   ]
  },
  {
   "cell_type": "code",
   "execution_count": null,
   "id": "c79f5a33-b7f0-45de-86e3-100225efec75",
   "metadata": {},
   "outputs": [],
   "source": [
    "fig = px.scatter(sens_ppv_df[sens_ppv_df[\"location\"]==\"cell\"], x=\"sensitivity\", y=\"ppv\", color=\"conc\", facet_row=\"option\", facet_col=\"reactive_nt\", color_discrete_sequence = colorscale)\n",
    "fig.update_yaxes(range=[0,1], dtick=0.2, mirror=True,showline=True)\n",
    "fig.update_xaxes(range=[0,1], dtick=0.2, showgrid=True, mirror=True,showline=True)\n",
    "fig.for_each_annotation(lambda a: a.update(text=a.text.split(\"=\")[-1]))\n",
    "fig.update_layout(height=600, width=800)\n",
    "fig.show()"
   ]
  },
  {
   "cell_type": "code",
   "execution_count": null,
   "id": "534a411b-474c-46bd-a672-33e89ce498a5",
   "metadata": {},
   "outputs": [],
   "source": [
    "fig = px.scatter(sens_ppv_df[sens_ppv_df[\"location\"]==\"cell\"], x=\"sensitivity\", y=\"ppv\", color=\"option\", facet_row=\"conc\", facet_col=\"reactive_nt\")\n",
    "fig.update_yaxes(range=[0,1], dtick=0.2, mirror=True,showline=True)\n",
    "fig.update_xaxes(range=[0,1], dtick=0.2, showgrid=True, mirror=True,showline=True)\n",
    "fig.for_each_annotation(lambda a: a.update(text=a.text.split(\"=\")[-1]))\n",
    "fig.update_layout(height=800, width=800)\n",
    "fig.show()"
   ]
  },
  {
   "cell_type": "code",
   "execution_count": null,
   "id": "8997529a-933d-43c5-951d-fee1a712832f",
   "metadata": {},
   "outputs": [],
   "source": [
    "fig = px.scatter(sens_ppv_df[sens_ppv_df[\"location\"]==\"cell\"], x=\"reactivity_ROCAUC_w_predicted\", y=\"ppv\", color=\"option\", facet_row=\"conc\", facet_col=\"reactive_nt\")\n",
    "fig.update_yaxes(range=[0,1], dtick=0.2, mirror=True,showline=True)\n",
    "fig.update_xaxes(range=[0,1], dtick=0.2, showgrid=True, mirror=True,showline=True)\n",
    "fig.for_each_annotation(lambda a: a.update(text=a.text.split(\"=\")[-1]))\n",
    "fig.update_layout(height=800, width=800)\n",
    "fig.show()"
   ]
  },
  {
   "cell_type": "code",
   "execution_count": null,
   "id": "6a045756-756a-4d55-b386-2fe6ac80047b",
   "metadata": {},
   "outputs": [],
   "source": [
    "fig = px.scatter(sens_ppv_df[sens_ppv_df[\"location\"]==\"cell\"], x=\"reactivity_ROCAUC_w_predicted\", y=\"sensitivity\", color=\"option\", facet_row=\"conc\", facet_col=\"reactive_nt\")\n",
    "fig.update_yaxes(range=[0,1], dtick=0.2, mirror=True,showline=True)\n",
    "fig.update_xaxes(range=[0,1], dtick=0.2, showgrid=True, mirror=True,showline=True)\n",
    "fig.for_each_annotation(lambda a: a.update(text=a.text.split(\"=\")[-1]))\n",
    "fig.update_layout(height=800, width=800)\n",
    "fig.show()"
   ]
  },
  {
   "cell_type": "code",
   "execution_count": null,
   "id": "fcac9ce6-b9f7-4dab-bfac-55a1e96b74be",
   "metadata": {},
   "outputs": [],
   "source": []
  },
  {
   "cell_type": "markdown",
   "id": "8b4fc138-8fd1-45e9-a173-3461251cca0a",
   "metadata": {},
   "source": [
    "# Plot prediction for first 380 nt"
   ]
  },
  {
   "cell_type": "code",
   "execution_count": 314,
   "id": "6489a5f3-4a5a-4b6d-9708-ed35308203d1",
   "metadata": {},
   "outputs": [],
   "source": [
    "_, seq, known_structure = read_in_db(f\"{data_folder}/references/dimer_canonical_wo_sl_at_210.db\")\n",
    "\n",
    "known_bpseq = convert_db_to_bp(known_structure, seq)"
   ]
  },
  {
   "cell_type": "code",
   "execution_count": null,
   "id": "73df3eaf-0b11-4c34-a9fe-c5bd7ee9e1b4",
   "metadata": {
    "scrolled": true,
    "tags": []
   },
   "outputs": [],
   "source": [
    "tmp_data = []\n",
    "\n",
    "isoform = \"RT1_unspliced1\"\n",
    "for sample in samples:\n",
    "\n",
    "    if (\"Rep1\" in sample):\n",
    "        combined_sample = \"_\".join(sample.split(\"_\")[1:])\n",
    "        \n",
    "        for option in [\"q22_eq10_ndni\"]: #[\"q22_eq10_ndni\", \"q22_eq10\", \"default\"]\n",
    "            for reactive_nt in [\"AC\", \"ACT\"]: #[\"ACGT\", \"AC\", \"ACT\", \"G\"]\n",
    "                db_outfolder = f\"{data_folder}/eterna/{combined_sample}/{isoform}/{option}_{reactive_nt}/\"\n",
    "                    \n",
    "                db_file = f\"{db_outfolder}/predict_{isoform}_380nt.db\"\n",
    "                if os.path.isfile(db_file):\n",
    "                    \n",
    "                    \n",
    "                    _,seq,predicted_structure = read_in_db(db_file)\n",
    "                    predicted_bpseq = convert_db_to_bp(predicted_structure, seq)\n",
    "\n",
    "                    sensitivity, ppv, shared_bp, num_shared, total_num_known, total_num_predicted = calculate_BPS_PPV(known_bpseq, predicted_bpseq)\n",
    "                    name, _, _ = read_in_db(db_file)\n",
    "                    reactivity_roc_auc = float(name.split(\"ROCAUC\")[1])\n",
    "                    tmp_data.append({\"sample\" : combined_sample, \"option\" : option, \"reactive_nt\" : reactive_nt, \"sensitivity\" : sensitivity, \"ppv\" : ppv, \"shared_bp\" : shared_bp, \"num_shared\" : num_shared,  \"total_num_known\" : total_num_known, \"total_num_predicted\" : total_num_predicted, \"reactivity_ROCAUC_w_predicted\" : reactivity_roc_auc})"
   ]
  },
  {
   "cell_type": "code",
   "execution_count": null,
   "id": "f6410afc-dee9-433c-b924-043f65a6f0c6",
   "metadata": {},
   "outputs": [],
   "source": [
    "sens_ppv_df = pd.DataFrame(tmp_data)\n",
    "sens_ppv_df[\"conc\"] = sens_ppv_df[\"sample\"].apply(lambda x: x.split(\"_\")[1])\n",
    "sens_ppv_df[\"location\"] = sens_ppv_df[\"sample\"].apply(lambda x: x.split(\"_\")[2])"
   ]
  },
  {
   "cell_type": "code",
   "execution_count": null,
   "id": "1144c060-7ff6-4c4f-8093-0afba8ecc710",
   "metadata": {},
   "outputs": [],
   "source": [
    "fig = px.bar(sens_ppv_df, x=\"conc\", y=\"sensitivity\", barmode=\"group\", color=\"option\", facet_col=\"location\", facet_row=\"reactive_nt\")\n",
    "fig.update_yaxes(range=[0,1])\n",
    "fig.update_layout(height=600)"
   ]
  },
  {
   "cell_type": "code",
   "execution_count": null,
   "id": "c1aa3fc4-7615-4168-9b46-c3f17dbf8c99",
   "metadata": {},
   "outputs": [],
   "source": [
    "fig = px.bar(sens_ppv_df, x=\"conc\", y=\"ppv\", color=\"option\", barmode=\"group\", facet_col=\"location\", facet_row=\"reactive_nt\")\n",
    "fig.update_yaxes(range=[0,1])\n",
    "fig.update_layout(height=600)"
   ]
  },
  {
   "cell_type": "code",
   "execution_count": null,
   "id": "e43f1691-0242-4212-9dc6-ebfa67d6e2f2",
   "metadata": {},
   "outputs": [],
   "source": [
    "fig = px.scatter(sens_ppv_df[sens_ppv_df[\"location\"]==\"cell\"], x=\"sensitivity\", y=\"ppv\", color=\"conc\", facet_row=\"option\", facet_col=\"reactive_nt\", color_discrete_sequence = colorscale[1:])\n",
    "fig.update_yaxes(range=[0,1], dtick=0.2, mirror=True,showline=True)\n",
    "fig.update_xaxes(range=[0,1], dtick=0.2, showgrid=True, mirror=True,showline=True)\n",
    "fig.for_each_annotation(lambda a: a.update(text=a.text.split(\"=\")[-1]))\n",
    "fig.update_layout(height=600, width=800)\n",
    "fig.show()"
   ]
  },
  {
   "cell_type": "code",
   "execution_count": null,
   "id": "b96016f9-54a9-4414-9dfa-12cda2f7b933",
   "metadata": {},
   "outputs": [],
   "source": [
    "fig = px.scatter(sens_ppv_df[sens_ppv_df[\"location\"]==\"cell\"], x=\"sensitivity\", y=\"ppv\", color=\"option\", facet_row=\"conc\", facet_col=\"reactive_nt\")\n",
    "fig.update_yaxes(range=[0,1], dtick=0.2, mirror=True,showline=True)\n",
    "fig.update_xaxes(range=[0,1], dtick=0.2, showgrid=True, mirror=True,showline=True)\n",
    "fig.for_each_annotation(lambda a: a.update(text=a.text.split(\"=\")[-1]))\n",
    "fig.update_layout(height=800, width=800)\n",
    "fig.show()"
   ]
  },
  {
   "cell_type": "code",
   "execution_count": null,
   "id": "b47d60eb-72eb-45ef-a09d-f41187dd8b3b",
   "metadata": {},
   "outputs": [],
   "source": [
    "fig = px.scatter(sens_ppv_df[(sens_ppv_df[\"location\"]==\"cell\") & (sens_ppv_df[\"option\"]==\"q22_eq10_ndni\")], x=\"sensitivity\", y=\"ppv\", color=\"reactive_nt\", facet_col=\"conc\")\n",
    "fig.update_yaxes(range=[0,1], dtick=0.2, mirror=True,showline=True)\n",
    "fig.update_xaxes(range=[0,1], dtick=0.2, showgrid=True, mirror=True,showline=True)\n",
    "fig.for_each_annotation(lambda a: a.update(text=a.text.split(\"=\")[-1]))\n",
    "fig.update_layout(height=300, width=1000)\n",
    "fig.show()"
   ]
  },
  {
   "cell_type": "code",
   "execution_count": null,
   "id": "3bf8cf75-0e86-4506-b90e-f8f78f0bfdae",
   "metadata": {},
   "outputs": [],
   "source": [
    "os.makedirs(\"figures\")"
   ]
  },
  {
   "cell_type": "code",
   "execution_count": null,
   "id": "dc12a289-3c28-460d-8fe2-351d86cf974a",
   "metadata": {},
   "outputs": [],
   "source": [
    "fig = px.scatter(sens_ppv_df[(sens_ppv_df[\"location\"]==\"cell\") & (sens_ppv_df[\"option\"]==\"q22_eq10_ndni\")], x=\"sensitivity\", y=\"ppv\",  range_color = [0.5,1],facet_col=\"reactive_nt\", color_discrete_sequence = colorscale, color=\"conc\")\n",
    "fig.update_yaxes(range=[0,1], dtick=0.2, mirror=True,showline=True)\n",
    "fig.update_xaxes(range=[0,1], dtick=0.2, showgrid=True, mirror=True,showline=True)\n",
    "fig.for_each_annotation(lambda a: a.update(text=a.text.split(\"=\")[-1]))\n",
    "fig.update_layout(height=300, width=900)\n",
    "fig.write_image(\"figures/sensitivity_ppv_q22_eq10_ndni_US_cell.svg\")\n",
    "fig.show()"
   ]
  },
  {
   "cell_type": "code",
   "execution_count": null,
   "id": "d45b2efa-3495-4e62-9963-9ca1cb8773a3",
   "metadata": {},
   "outputs": [],
   "source": [
    "import shutil\n",
    "shutil.make_archive(\"de_novo_eterna_folds_unspliced\", \"zip\", os.getcwd(), \"data/eterna/\")"
   ]
  }
 ],
 "metadata": {
  "kernelspec": {
   "display_name": "Python 3 (ipykernel)",
   "language": "python",
   "name": "python3"
  },
  "language_info": {
   "codemirror_mode": {
    "name": "ipython",
    "version": 3
   },
   "file_extension": ".py",
   "mimetype": "text/x-python",
   "name": "python",
   "nbconvert_exporter": "python",
   "pygments_lexer": "ipython3",
   "version": "3.10.5"
  }
 },
 "nbformat": 4,
 "nbformat_minor": 5
}
