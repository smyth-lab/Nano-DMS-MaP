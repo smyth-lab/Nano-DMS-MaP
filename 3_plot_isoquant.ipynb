{
 "cells": [
  {
   "cell_type": "code",
   "execution_count": null,
   "id": "5f1b6c1a-fea4-4f3c-b51b-596f02e63294",
   "metadata": {},
   "outputs": [],
   "source": [
    "#plotly libraries\n",
    "import plotly.express as px\n",
    "import plotly.colors as pc\n",
    "import plotly.graph_objects as go\n",
    "import plotly.io as pio\n",
    "\n",
    "\n",
    "#default renderer (svg means very small file size, visibility on github, high quality, but requires sometimes setting height and width)\n",
    "pio.renderers.default = \"svg\"\n",
    "\n",
    "colors = [\"#363b3d\", \"#727b76\", \"#31a240\", \"#f93939\", \"#f79118\", \"#de7b06\", \"#9b308f\", \"#dc759b\"]\n",
    "#additional defaults\n",
    "px.defaults.color_discrete_sequence = [\"rgb(100,100,100)\"] + pc.qualitative.D3\n",
    "px.defaults.width=1000\n",
    "px.defaults.height=800\n",
    "\n",
    "\n",
    "#try setting this as default for histograms\n",
    "#fig.update_traces(marker_line_width=0.2)\n",
    "\n",
    "#pio.templates[\"simple_white\"].layout.template.data.Histogram[\"marker_line_width\"] = 0.2\n",
    "\n",
    "\n",
    "#set default template as \"simple_white\" (no background, no grid lines)\n",
    "pio.templates[\"simple_white\"].layout[\"yaxis\"][\"showgrid\"] = True\n",
    "pio.templates.default = \"simple_white\"\n",
    "\n",
    "import numpy as np\n",
    "\n",
    "import sklearn.metrics as metrics\n",
    "import plotly.express as px\n",
    "import plotly.graph_objects as go\n",
    "import pandas as pd\n",
    "from plotly.subplots import make_subplots\n",
    "import plotly.figure_factory as ff\n",
    "\n",
    "colorscale = pc.sequential.Plasma\n",
    "print(colorscale)\n",
    "colorscale = [colorscale[0]] + colorscale[3:8]\n",
    "colorscale"
   ]
  },
  {
   "cell_type": "markdown",
   "id": "4eaa1008-c430-4b70-8aed-96d2f24947fe",
   "metadata": {},
   "source": [
    "# Plot isoforms per sample"
   ]
  },
  {
   "cell_type": "code",
   "execution_count": null,
   "id": "9cf4b8c0-a4eb-4708-ab7e-36d7e87155f3",
   "metadata": {},
   "outputs": [],
   "source": [
    "import os\n",
    "figure_dir = \"figures/isoform_expression\"\n",
    "os.makedirs(figure_dir, exist_ok=True)"
   ]
  },
  {
   "cell_type": "code",
   "execution_count": null,
   "id": "d8427a01-239c-412e-8b60-32d898bb2328",
   "metadata": {},
   "outputs": [],
   "source": [
    "\n",
    "isoforms = [\n",
    "    'RT1_unspliced1', \n",
    "    'RT2_unspliced2', \n",
    "    'RT2_Vif2_RT3_Vif1',\n",
    "    'RT2_Vif3_RT3_Vif6', \n",
    "    'RT2_Vif4_RT3_Vif9', \n",
    "    'RT2_Vif5_RT3_Vif8',\n",
    "    'RT2_Vif7', \n",
    "    \n",
    "    'RT2_Vpr3_RT3_Vpr1', \n",
    "    'RT2_Vpr4_RT3_Vpr2',\n",
    "       \n",
    "    'RT2_Env1_RT3_Nef2', \n",
    "    'RT2_Env9_RT3_Nef4', \n",
    "    'RT2_Env2_RT3_Rev1',\n",
    "    'RT2_Env3_RT3_Rev2', \n",
    "    'RT2_Env17_RT3_Nef9', \n",
    "    'RT2_Env5_RT3_Nef3',\n",
    "    'RT2_Env13_RT3_Nef5', \n",
    "    'RT2_Env18_RT3_Rev13', \n",
    "    'RT2_Env10_RT3_Rev7',\n",
    "    'RT2_Env19_RT3_Nef12', \n",
    "    'RT2_Env11_RT3_Rev8', \n",
    "    'RT2_Env14_RT3_Rev10',\n",
    "    'RT2_Env15_RT3_Rev11', \n",
    "    'RT2_Env12_RT3_Rev9', \n",
    "    'RT2_Env6_RT3_Rev4',\n",
    "    'RT2_Env7_RT3_Rev5', \n",
    "    'RT2_Env4_RT3_Rev3', \n",
    "    'RT2_Env8_RT3_Rev6',\n",
    "    'RT2_Env20_RT3_Nef11', \n",
    "    \n",
    "    'RT2_Tat5_RT3_Tat1', \n",
    "    'RT2_Tat6_RT3_Tat2',\n",
    "    'RT2_Tat7_RT3_Tat3', \n",
    "    'RT2_Tat8_RT3_Tat4', \n",
    "    'RT2_Tat12_RT3_Tat9',\n",
    "    'RT3_Tat10', \n",
    "    'RT3_Tat11', \n",
    "    'RT3_Tat13', \n",
    "    'RT3_Tat15', \n",
    "    'RT3_Tat16',\n",
    "    \n",
    "    'RT3_Rev12', \n",
    "    \n",
    "    'RT3_Nef16', \n",
    "    'RT3_Nef15', \n",
    "    'RT3_Nef19', \n",
    "    'RT3_Nef20',\n",
    "    'RT3_Nef22', \n",
    "    'RT3_Nef23', \n",
    "    \n",
    "    'RT3_sORF1', \n",
    "    'RT3_sORF3']\n",
    "\n",
    "\n",
    "isoform_colors_RT2 = {\n",
    "    \" \"  : \"white\",\n",
    "    \"unspliced\" : \"grey\",\n",
    " 'RT1_unspliced1': \"black\",\n",
    " 'RT2_unspliced2': \"black\",\n",
    "\n",
    " 'RT2_Env1_RT3_Nef2': \"rgb(26,82,118)\",\n",
    " 'RT2_Env2_RT3_Rev1': \"rgb(31,97,141)\",\n",
    " 'RT2_Env3_RT3_Rev2': \"rgb(36,113,163)\",\n",
    " 'RT2_Env4_RT3_Rev3': \"rgb(41,128,185)\", \n",
    " 'RT2_Env5_RT3_Nef3': \"rgb(84,153,199)\",\n",
    " 'RT2_Env6_RT3_Rev4': \"rgb(127,179,213)\",\n",
    " 'RT2_Env7_RT3_Rev5': \"rgb(169,204,227)\", \n",
    " 'RT2_Env8_RT3_Rev6': \"rgb(27,79,114)\",\n",
    " 'RT2_Env9_RT3_Nef4': \"rgb(33,97,140)\",\n",
    " 'RT2_Env10_RT3_Rev7': \"rgb(40,116,166)\",\n",
    " 'RT2_Env11_RT3_Rev8': \"rgb(46,134,163)\",\n",
    " 'RT2_Env12_RT3_Rev9': \"rgb(52,152,219)\", \n",
    " 'RT2_Env13_RT3_Nef5': \"rgb(93,173,226)\",\n",
    " 'RT2_Env14_RT3_Rev10': \"rgb(133,193,233)\",\n",
    " 'RT2_Env15_RT3_Rev11': \"rgb(174,214,241)\",\n",
    " 'RT2_Env17_RT3_Nef9': \"rgb(84,153,199)\",\n",
    " 'RT2_Env18_RT3_Rev13': \"rgb(127,179,213)\",\n",
    " 'RT2_Env19_RT3_Nef12': \"rgb(169,204,224)\",\n",
    " 'RT2_Env20_RT3_Nef11': \"rgb(174,214,241)\", \n",
    "    \n",
    " 'RT3_Nef16': \"grey\",\n",
    "    'RT3_Nef15': \"grey\", \n",
    "    'RT3_Nef19': \"grey\", \n",
    "    'RT3_Nef20': \"grey\",\n",
    "    'RT3_Nef22': \"grey\", \n",
    "    'RT3_Nef23': \"grey\", \n",
    "\n",
    "    'RT3_Rev12':\"grey\", \n",
    "\n",
    " 'RT2_Tat5_RT3_Tat1': \"rgb(207,87,161)\",\n",
    " 'RT2_Tat6_RT3_Tat2': \"rgb(217,144,188)\",\n",
    " 'RT2_Tat7_RT3_Tat3': \"rgb(237,206,228)\",\n",
    " 'RT2_Tat8_RT3_Tat4': \"rgb(221,168,200)\",\n",
    " 'RT2_Tat12_RT3_Tat9': \"rgb(229,186,216)\",\n",
    "\n",
    "    'RT3_Tat10': \"grey\", \n",
    "    'RT3_Tat11': \"grey\", \n",
    "    'RT3_Tat13': \"grey\", \n",
    "    'RT3_Tat15': \"grey\", \n",
    "    'RT3_Tat16': \"grey\",\n",
    "    \n",
    " 'RT2_Vif2_RT3_Vif1': \"rgb(96,22,135)\",\n",
    " 'RT2_Vif3_RT3_Vif6': \"rgb(141,74,176)\",\n",
    " 'RT2_Vif4_RT3_Vif9': \"rgb(170,89,212)\",\n",
    " 'RT2_Vif5_RT3_Vif8': \"rgb(204,108,255)\",\n",
    "    'RT2_Vif7':\"rgb(142,68,173)\",\n",
    "    \n",
    " 'RT2_Vpr3_RT3_Vpr1': \"rgb(168,30,45)\",\n",
    " 'RT2_Vpr4_RT3_Vpr2': \"rgb(192,98,106)\",\n",
    "\n",
    " 'RT3_sORF1': \"rgb(177,153,109)\",\n",
    " 'RT3_sORF3': \"rgb(157,138,109)\",\n",
    "}\n",
    "\n",
    "\n",
    "isoform_colors_RT3 = {\n",
    " 'RT1_unspliced1': \"black\",\n",
    " 'RT2_unspliced2': \"black\",\n",
    "\n",
    "    \"Nef\" : \"green\",\n",
    " 'RT2_Env1_RT3_Nef2': \"rgb(17,120,100)\",\n",
    " 'RT2_Env5_RT3_Nef3': \"rgb(20,143,119)\",\n",
    " 'RT2_Env9_RT3_Nef4': \"rgb(23,165,137)\",\n",
    " 'RT2_Env13_RT3_Nef5': \"rgb(26,188,156)\",\n",
    " 'RT2_Env17_RT3_Nef9': \"rgb(72,201,176)\",\n",
    " 'RT2_Env20_RT3_Nef11': \"rgb(118,215,196)\", \n",
    " 'RT2_Env19_RT3_Nef12': \"rgb(163,228,215)\",\n",
    " 'RT3_Nef15': \"rgb(29,131,72)\", \n",
    " 'RT3_Nef16': \"rgb(35,155,86)\",\n",
    " 'RT3_Nef19': \"rgb(40,180,99)\", \n",
    " 'RT3_Nef20': \"rgb(46,204,113)\",\n",
    " 'RT3_Nef22': \"rgb(88,214,141)\", \n",
    " 'RT3_Nef23': \"rgb(130,224,170)\", \n",
    "\n",
    " 'RT2_Env2_RT3_Rev1': \"rgb(147,81,22)\",\n",
    " 'RT2_Env3_RT3_Rev2': \"rgb(175,96,26)\",\n",
    " 'RT2_Env4_RT3_Rev3': \"rgb(202,111,30)\",\n",
    " 'RT2_Env6_RT3_Rev4': \"rgb(230,126,34)\",\n",
    " 'RT2_Env7_RT3_Rev5': \"rgb(235,152,78)\",\n",
    " 'RT2_Env8_RT3_Rev6': \"rgb(240,178,122)\",\n",
    " 'RT2_Env10_RT3_Rev7': \"rgb(185,119,14)\",\n",
    " 'RT2_Env11_RT3_Rev8': \"rgb(214,137,16)\",\n",
    " 'RT2_Env12_RT3_Rev9': \"rgb(243,156,18)\",\n",
    " 'RT2_Env14_RT3_Rev10': \"rgb(245,176,65)\",\n",
    " 'RT2_Env15_RT3_Rev11': \"rgb(248,180,113)\",\n",
    " 'RT3_Rev12': \"rgb(246,221,204)\", \n",
    " 'RT2_Env18_RT3_Rev13': \"rgb(250,215,160)\",\n",
    " \n",
    "    \n",
    " 'RT2_Tat5_RT3_Tat1': \"rgb(207,87,161)\",\n",
    " 'RT2_Tat6_RT3_Tat2': \"rgb(217,144,188)\",\n",
    " 'RT2_Tat7_RT3_Tat3': \"rgb(237,206,228)\",\n",
    " 'RT2_Tat8_RT3_Tat4': \"rgb(221,168,200)\",\n",
    " 'RT2_Tat12_RT3_Tat9': \"rgb(229,186,216)\",\n",
    "\n",
    " 'RT3_Tat10': \"rgb(240,98,146)\", \n",
    " 'RT3_Tat11': \"rgb(244,143,177)\", \n",
    " 'RT3_Tat13': \"rgb(248,187,208)\", \n",
    " 'RT3_Tat15': \"rgb(252,200,215)\", \n",
    " 'RT3_Tat16': \"rgb(252,228,236)\",\n",
    "    \n",
    " 'RT2_Vif2_RT3_Vif1': \"rgb(96,22,135)\",\n",
    " 'RT2_Vif3_RT3_Vif6': \"rgb(141,74,176)\",\n",
    " 'RT2_Vif4_RT3_Vif9': \"rgb(170,89,212)\",\n",
    " 'RT2_Vif5_RT3_Vif8': \"rgb(204,108,255)\",\n",
    " 'RT2_Vif7' : \"grey\",\n",
    " 'RT2_Vpr3_RT3_Vpr1': \"rgb(168,30,45)\",\n",
    " 'RT2_Vpr4_RT3_Vpr2': \"rgb(192,98,106)\",\n",
    "\n",
    " 'RT3_sORF1': \"rgb(177,153,109)\",\n",
    " 'RT3_sORF3': \"rgb(157,138,109)\",\n",
    "}"
   ]
  },
  {
   "cell_type": "code",
   "execution_count": null,
   "id": "ea5cf602-346a-46fb-bf2e-95a7ce21b31e",
   "metadata": {},
   "outputs": [],
   "source": [
    "order_dict = {\n",
    "    \"DMS_conc\" : [f\"{i}mM\" for i in [0,8,17,34,57,85]],\n",
    "    \"isoform\" : isoforms\n",
    "}"
   ]
  },
  {
   "cell_type": "markdown",
   "id": "7a634440-86e1-410d-ab99-d0a9c830d395",
   "metadata": {},
   "source": [
    "# Read in isoquant output"
   ]
  },
  {
   "cell_type": "code",
   "execution_count": null,
   "id": "871c5f65-cd31-472c-acee-3eb5be6aa7f7",
   "metadata": {},
   "outputs": [],
   "source": [
    "data_folder_rep1 = \"..\"\n",
    "data_folder_rep2 = \"..\""
   ]
  },
  {
   "cell_type": "code",
   "execution_count": null,
   "id": "25f7f4bb-e2a5-480b-8a31-1f2086046d45",
   "metadata": {},
   "outputs": [],
   "source": [
    "import pandas as pd\n",
    "samplesheet = pd.read_excel(\"./samplesheet.xlsx\", engine=\"openpyxl\")\n",
    "samplesheet\n",
    "samples = samplesheet[\"samples\"].values"
   ]
  },
  {
   "cell_type": "code",
   "execution_count": null,
   "id": "24aed74a-719b-4d1c-815e-10db780fe6dd",
   "metadata": {},
   "outputs": [],
   "source": [
    "def split_unique_name(df, unique_name_column = \"unique_name\"):\n",
    "    df[\"replicate\"] = df[unique_name_column].apply(lambda x: x.split(\"_\")[0])\n",
    "    df[\"RT\"] = df[unique_name_column].apply(lambda x: x.split(\"_\")[1])\n",
    "    df[\"DMS_conc\"] = df[unique_name_column].apply(lambda x: x.split(\"_\")[2])\n",
    "    df[\"location\"] = df[unique_name_column].apply(lambda x: x.split(\"_\")[3])\n",
    "    df[\"treatment\"] = df[unique_name_column].apply(lambda x: x.split(\"_\")[4])\n",
    "    df[\"RT_and_location\"] = df[\"RT\"].astype(str) + \"_\" + df[\"location\"]\n",
    "    df[\"rep_and_DMS\"] = df[\"replicate\"] + \"_\" + df[\"DMS_conc\"]\n",
    "    df[\"DMS_conc\"] = df[\"DMS_conc\"].astype(\"category\")\n",
    "    \n",
    "    return df"
   ]
  },
  {
   "cell_type": "code",
   "execution_count": null,
   "id": "f9b24816-9d9a-4e47-82b8-bc3a10e5496c",
   "metadata": {},
   "outputs": [],
   "source": [
    "rep1_read_assignments = []\n",
    "\n",
    "for sample in samples:\n",
    "    if \"Rep1\" in sample:\n",
    "        merged_transcript_file = f'{data_folder_rep1}/isoquant_out_allow_single_bc/{sample}/{sample}.read_assignments.tsv'\n",
    "        read_df = pd.read_csv(merged_transcript_file, sep=\"\\t\")\n",
    "        read_df[\"unique_name\"] = sample\n",
    "        rep1_read_assignments.append(read_df)\n",
    "    \n",
    "rep1_read_assignments = pd.concat(rep1_read_assignments)\n",
    "rep1_read_assignments.rename(columns={'#read_id':'read_id'}, inplace=True)\n",
    "rep1_read_assignments = split_unique_name(rep1_read_assignments, unique_name_column=\"unique_name\")"
   ]
  },
  {
   "cell_type": "code",
   "execution_count": null,
   "id": "877039e2-5b44-4d82-9d20-6b77698e1bbf",
   "metadata": {},
   "outputs": [],
   "source": [
    "rep2_read_assignments = []\n",
    "\n",
    "for sample in samples:\n",
    "    if \"Rep2\" in sample:\n",
    "        merged_transcript_file = f'{data_folder_rep2}/isoquant_out_allow_single_bc/{sample}/{sample}.read_assignments.tsv'\n",
    "        read_df = pd.read_csv(merged_transcript_file, sep=\"\\t\")\n",
    "        read_df[\"unique_name\"] = sample\n",
    "        rep2_read_assignments.append(read_df)\n",
    "    \n",
    "rep2_read_assignments = pd.concat(rep2_read_assignments)\n",
    "rep2_read_assignments.rename(columns={'#read_id':'read_id'}, inplace=True)\n",
    "rep2_read_assignments = split_unique_name(rep2_read_assignments, unique_name_column=\"unique_name\")"
   ]
  },
  {
   "cell_type": "code",
   "execution_count": null,
   "id": "388098a3-59a9-4c96-9a02-a132661e2ebf",
   "metadata": {},
   "outputs": [],
   "source": [
    "rep1_read_assignments.to_pickle(f\"{data_folder_rep1}/isoquant_out/read_assignments.pickle\")\n",
    "rep2_read_assignments.to_pickle(f\"{data_folder_rep2}/isoquant_out/read_assignments.pickle\")"
   ]
  },
  {
   "cell_type": "markdown",
   "id": "fd82cbb5-e4e4-4811-9340-29630b9a8abb",
   "metadata": {},
   "source": [
    "# Take per read information to calculate assignment types"
   ]
  },
  {
   "cell_type": "code",
   "execution_count": null,
   "id": "a534e1b7-b86d-4ec2-b6f9-80f700c8d1ae",
   "metadata": {},
   "outputs": [],
   "source": [
    "order = {\"assignment_type\" : [\"unique\", \"unique_minor_difference\", \"ambiguous\", \"inconsistent\", \"noninformative\"],\"treatment\":[\"native\", \"deprot\"], \"DMS_conc\" : [f\"{i}mM\" for i in [0,8,17,34,57,85]]}\n",
    "\n",
    "def split_unique_name(df, unique_name_column = \"unique_name\"):\n",
    "    df[\"replicate\"] = df[unique_name_column].apply(lambda x: x.split(\"_\")[0])\n",
    "    df[\"RT\"] = df[unique_name_column].apply(lambda x: x.split(\"_\")[1])\n",
    "    df[\"DMS_conc\"] = df[unique_name_column].apply(lambda x: x.split(\"_\")[2])\n",
    "    df[\"location\"] = df[unique_name_column].apply(lambda x: x.split(\"_\")[3])\n",
    "    df[\"treatment\"] = df[unique_name_column].apply(lambda x: x.split(\"_\")[4])\n",
    "    df[\"location_treatment\"] = df[\"location\"] + \"_\" + df[\"treatment\"]\n",
    "    df[\"RT_and_location\"] = df[\"RT\"].astype(str) + \"_\" + df[\"location\"]\n",
    "    df[\"rep_and_DMS\"] = df[\"replicate\"] + \"_\" + df[\"DMS_conc\"]\n",
    "    df[\"DMS_conc\"] = df[\"DMS_conc\"].astype(\"category\")\n",
    "    \n",
    "    return df"
   ]
  },
  {
   "cell_type": "code",
   "execution_count": null,
   "id": "d4e86c4f-b295-4d78-bc0e-ce68c80c3cbe",
   "metadata": {},
   "outputs": [],
   "source": [
    "#laod from disk if previously stored\n",
    "rep1_read_assignments = pd.read_pickle(f\"{data_folder_rep1}/isoquant_out/read_assignments.pickle\")\n",
    "rep2_read_assignments = pd.read_pickle(f\"{data_folder_rep2}/isoquant_out/read_assignments.pickle\")"
   ]
  },
  {
   "cell_type": "markdown",
   "id": "42dc7524-20da-4977-a13e-73f33d03060b",
   "metadata": {},
   "source": [
    "### Plot read assignments of rep 1"
   ]
  },
  {
   "cell_type": "code",
   "execution_count": null,
   "id": "afa1281d-1608-4bbc-9e1a-55d72ce67c78",
   "metadata": {},
   "outputs": [],
   "source": [
    "unique_reads_rep1 = rep1_read_assignments.drop_duplicates(subset=\"read_id\")\n",
    "value_counts_rep1 = unique_reads_rep1.groupby(\"unique_name\")[\"assignment_type\"].value_counts().reset_index(name=\"count\")\n",
    "value_counts_rep1 = split_unique_name(value_counts_rep1)\n",
    "\n",
    "count_dict = value_counts_rep1.groupby(\"unique_name\")[\"count\"].sum().to_dict()\n",
    "\n",
    "value_counts_rep1[\"percent\"] = value_counts_rep1.apply(lambda x: 100*x[\"count\"]/(count_dict[x[\"unique_name\"]]), axis=1)"
   ]
  },
  {
   "cell_type": "code",
   "execution_count": null,
   "id": "8ccb614a-5c58-440c-a7ff-43eaf5c13aa0",
   "metadata": {},
   "outputs": [],
   "source": [
    "fig = px.bar(value_counts_rep1, x=\"DMS_conc\", y=\"count\", facet_col=\"RT_and_location\", facet_row=\"treatment\", color=\"assignment_type\", barmode=\"stack\", category_orders=order)\n",
    "fig.update_yaxes(dtick=50000, showgrid=True)\n",
    "fig.update_traces(width=0.8, marker_line_width=1, marker_line_color=\"black\")\n",
    "fig.write_image(\"figures/isoform_expression/isoquant_classification_absolute_rep1.svg\", width=1000,height=400)\n",
    "fig.show(renderer=\"svg\", width=1000,height=400)"
   ]
  },
  {
   "cell_type": "code",
   "execution_count": null,
   "id": "9f686cad-1d75-4cd0-b74c-b9420af422eb",
   "metadata": {},
   "outputs": [],
   "source": [
    "fig = px.bar(value_counts_rep1, x=\"DMS_conc\", y=\"percent\", facet_col=\"RT_and_location\", facet_row=\"treatment\", color=\"assignment_type\", barmode=\"stack\", category_orders=order)\n",
    "fig.update_yaxes(dtick=20, showgrid=True)\n",
    "fig.update_traces(width=0.8, marker_line_width=1, marker_line_color=\"black\")\n",
    "fig.write_image(\"figures/isoform_expression/isoquant_classification_percent_rep1.svg\", width=1000,height=400)\n",
    "fig.show(renderer=\"svg\", width=1000,height=400)"
   ]
  },
  {
   "cell_type": "markdown",
   "id": "feafa202-6adc-4ca3-bbb3-abe8e1c5e465",
   "metadata": {},
   "source": [
    "### Plot read assignments of rep 2"
   ]
  },
  {
   "cell_type": "code",
   "execution_count": null,
   "id": "dc4adece-c5a3-4aed-818f-405d3677e9f7",
   "metadata": {},
   "outputs": [],
   "source": [
    "unique_reads_rep2 = rep2_read_assignments.drop_duplicates(subset=\"read_id\")\n",
    "\n",
    "value_counts_rep2 = unique_reads_rep2.groupby(\"unique_name\")[\"assignment_type\"].value_counts().reset_index(name=\"count\")\n",
    "value_counts_rep2 = split_unique_name(value_counts_rep2)\n",
    "count_dict = value_counts_rep2.groupby(\"unique_name\")[\"count\"].sum().to_dict()\n",
    "value_counts_rep2[\"percent\"] = value_counts_rep2.apply(lambda x: 100*x[\"count\"]/(count_dict[x[\"unique_name\"]]), axis=1)"
   ]
  },
  {
   "cell_type": "code",
   "execution_count": null,
   "id": "66b256f1-086f-4a9a-b174-1f3fbbd4d722",
   "metadata": {},
   "outputs": [],
   "source": [
    "fig = px.bar(value_counts_rep2, x=\"DMS_conc\", y=\"count\", facet_col=\"RT_and_location\", facet_row=\"treatment\", color=\"assignment_type\", barmode=\"stack\", category_orders=order)\n",
    "fig.update_yaxes(dtick=50000, showgrid=True)\n",
    "fig.update_traces(width=0.8, marker_line_width=1, marker_line_color=\"black\")\n",
    "fig.write_image(\"figures/isoform_expression/isoquant_classification_absolute_rep2.svg\", width=700,height=400)\n",
    "fig.show(renderer=\"svg\", width=700,height=400)"
   ]
  },
  {
   "cell_type": "code",
   "execution_count": null,
   "id": "2aa416fa-f95d-468d-81ec-72b96d23331f",
   "metadata": {},
   "outputs": [],
   "source": [
    "fig = px.bar(value_counts_rep2, x=\"DMS_conc\", y=\"percent\", facet_col=\"RT_and_location\", facet_row=\"treatment\", color=\"assignment_type\", barmode=\"stack\", category_orders=order)\n",
    "fig.update_yaxes(dtick=20, showgrid=True)\n",
    "fig.update_traces(width=0.8, marker_line_width=1, marker_line_color=\"black\")\n",
    "fig.write_image(\"figures/isoform_expression/isoquant_classification_percent_rep2.svg\", width=700,height=400)\n",
    "fig.show(renderer=\"svg\", width=700,height=400)"
   ]
  },
  {
   "cell_type": "markdown",
   "id": "98ef4dcd-6154-420c-9c88-a368adc66902",
   "metadata": {},
   "source": [
    "# Isoform expression correlation between replicates"
   ]
  },
  {
   "cell_type": "code",
   "execution_count": null,
   "id": "8da8503a-c20d-4ba3-9279-394a31265e63",
   "metadata": {},
   "outputs": [],
   "source": [
    "import os\n",
    "import pandas as pd\n",
    "import scipy.stats as stats\n",
    "import numpy as np\n",
    "os.getcwd()"
   ]
  },
  {
   "cell_type": "code",
   "execution_count": null,
   "id": "32769ef8-ba45-4e41-8ef0-d4da65fbc64a",
   "metadata": {},
   "outputs": [],
   "source": [
    "rep1 = value_counts_rep1\n",
    "rep2 = value_counts_rep2"
   ]
  },
  {
   "cell_type": "code",
   "execution_count": null,
   "id": "2eeca453-708f-43c3-81b2-d898f9ea3c7b",
   "metadata": {},
   "outputs": [],
   "source": [
    "rep1[\"name_wo_rep\"] = rep1[\"unique_name\"].apply(lambda x: x.split(\"Rep1_\")[1])\n",
    "rep2[\"name_wo_rep\"] = rep2[\"unique_name\"].apply(lambda x: x.split(\"Rep2_\")[1])\n",
    "rep1[\"name_wo_rep_w_isoform\"] = rep1[\"name_wo_rep\"].astype(str) + \"_\" +rep1[\"isoform_id\"].astype(str)\n",
    "rep2[\"name_wo_rep_w_isoform\"] = rep2[\"name_wo_rep\"].astype(str) +\"_\" +rep2[\"isoform_id\"].astype(str)"
   ]
  },
  {
   "cell_type": "code",
   "execution_count": null,
   "id": "ec02f317-a95e-47ba-ad82-34fc5b4b90fe",
   "metadata": {},
   "outputs": [],
   "source": [
    "import plotly.express as px\n",
    "import plotly.graph_objects as go\n",
    "import plotly.io as pio\n",
    "pio.templates.default = \"simple_white\"\n",
    "colorscale = px.colors.sequential.Plasma\n",
    "colorscale = [colorscale[0]] + colorscale[3:8]"
   ]
  },
  {
   "cell_type": "code",
   "execution_count": null,
   "id": "9915204c-c579-41a5-b1e4-235fe9c8b946",
   "metadata": {},
   "outputs": [],
   "source": [
    "def get_actual_protein(row):\n",
    "    try:\n",
    "        return row[f\"protein_{row['RT_rep1']}_rep1\"]\n",
    "    except:\n",
    "        return \"none\""
   ]
  },
  {
   "cell_type": "code",
   "execution_count": null,
   "id": "3ff329b6-d407-4a0e-a94d-54b6a87407d2",
   "metadata": {},
   "outputs": [],
   "source": [
    "order_dict[\"isoform_id\"] = list(isoform_colors_RT2.keys())\n",
    "fig = px.bar(rep1, x=\"DMS_conc\", facet_col =\"RT_and_location\", facet_row =\"treatment\", y=\"percent\", color=\"isoform_id\", barmode=\"stack\", category_orders=order_dict, color_discrete_map = isoform_colors_RT2)\n",
    "fig.update_traces(width=0.8, marker=dict(line_width=1, line_color=\"black\"))\n",
    "fig.write_image(f\"{figure_dir}/relative_expresion_rep1_color_RT2.svg\", width=1000,height=400)\n",
    "fig.show(renderer=\"svg\", width=1000,height=400)"
   ]
  },
  {
   "cell_type": "code",
   "execution_count": null,
   "id": "8cc85c86-178f-4d55-85bd-003fcca88f2b",
   "metadata": {},
   "outputs": [],
   "source": [
    "order_dict[\"isoform_id\"] = list(isoform_colors_RT2.keys())\n",
    "fig = px.bar(rep1, x=\"DMS_conc\", facet_col =\"RT_and_location\", facet_row =\"treatment\", y=\"count\", color=\"isoform_id\", barmode=\"stack\", category_orders=order_dict, color_discrete_map = isoform_colors_RT2)\n",
    "fig.update_traces(width=0.8, marker=dict(line_width=1, line_color=\"black\"))\n",
    "fig.update_yaxes(showgrid=True, dtick=25000, range=[0,230000])\n",
    "fig.write_image(f\"{figure_dir}/absolute_expresion_rep1_color_RT2.svg\", width=1000,height=600)\n",
    "fig.show(renderer=\"svg\", width=1000,height=600)"
   ]
  },
  {
   "cell_type": "code",
   "execution_count": null,
   "id": "fea5fafd-5caa-42a7-b0f9-e25bd24f65b2",
   "metadata": {},
   "outputs": [],
   "source": [
    "order_dict[\"isoform_id\"] = list(isoform_colors_RT2.keys())\n",
    "fig = px.bar(rep2, x=\"DMS_conc\", facet_col =\"RT_and_location\", facet_row =\"treatment\", y=\"percent\", color=\"isoform_id\", barmode=\"stack\", category_orders=order_dict, color_discrete_map = isoform_colors_RT2)\n",
    "fig.update_traces(width=0.8, marker=dict(line_width=1, line_color=\"black\"))\n",
    "fig.write_image(f\"{figure_dir}/relative_expresion_rep2_color_RT2.svg\", width=750,height=400)\n",
    "fig.show(renderer=\"svg\", width=750,height=400)"
   ]
  },
  {
   "cell_type": "code",
   "execution_count": null,
   "id": "b3d37a24-75e6-49c4-817a-4c936f2f460f",
   "metadata": {},
   "outputs": [],
   "source": [
    "order_dict[\"isoform_id\"] = list(isoform_colors_RT2.keys())\n",
    "fig = px.bar(rep2, x=\"DMS_conc\", facet_col =\"RT_and_location\", facet_row =\"treatment\", y=\"count\", color=\"isoform_id\", barmode=\"stack\", category_orders=order_dict, color_discrete_map = isoform_colors_RT2)\n",
    "fig.update_traces(width=0.8, marker=dict(line_width=1, line_color=\"black\"))\n",
    "fig.update_yaxes(showgrid=True, dtick=25000, range=[0,230000])\n",
    "fig.write_image(f\"{figure_dir}/absolute_expresion_rep2_color_RT2.svg\", width=750,height=600)\n",
    "fig.show(renderer=\"svg\", width=750,height=600)"
   ]
  },
  {
   "cell_type": "code",
   "execution_count": null,
   "id": "c2d7391a-c10b-4c5e-bb7a-f7c08dbf01a1",
   "metadata": {
    "scrolled": true,
    "tags": []
   },
   "outputs": [],
   "source": [
    "order_dict[\"isoform_id\"] = list(isoform_colors_RT2.keys())\n",
    "fig = px.bar(rep2, x=\"DMS_conc\", facet_col =\"RT_and_location\", facet_row =\"treatment\", y=\"percent\", color=\"isoform_id\", barmode=\"stack\", category_orders=order_dict, color_discrete_map = isoform_colors_RT2)\n",
    "fig.update_traces(width=0.8, marker=dict(line_width=1, line_color=\"black\"))\n",
    "fig.write_image(f\"{figure_dir}/relative_expresion_colorbar_color_RT2.svg\", width=400,height=3000)\n",
    "fig.show(renderer=\"svg\", width=400,height=3000)"
   ]
  },
  {
   "cell_type": "code",
   "execution_count": null,
   "id": "691f1fb8-a5f3-40a8-bf00-d442ce8fa9e2",
   "metadata": {},
   "outputs": [],
   "source": [
    "order_dict[\"isoform_id\"] = list(isoform_colors_RT3.keys())\n",
    "fig = px.bar(rep1, x=\"DMS_conc\", facet_col =\"RT_and_location\", facet_row =\"treatment\", y=\"percent\", color=\"isoform_id\", barmode=\"stack\", category_orders=order_dict, color_discrete_map = isoform_colors_RT3)\n",
    "fig.update_traces(width=0.8, marker=dict(line_width=1, line_color=\"black\"))\n",
    "fig.write_image(f\"{figure_dir}/relative_expresion_rep1_color_RT3.svg\", width=1000,height=400)\n",
    "fig.show(renderer=\"svg\", width=1000,height=400)"
   ]
  },
  {
   "cell_type": "code",
   "execution_count": null,
   "id": "ca580d26-831e-43af-8c25-7539fc943a71",
   "metadata": {},
   "outputs": [],
   "source": [
    "order_dict[\"isoform_id\"] = list(isoform_colors_RT3.keys())\n",
    "fig = px.bar(rep1, x=\"DMS_conc\", facet_col =\"RT_and_location\", facet_row =\"treatment\", y=\"count\", color=\"isoform_id\", barmode=\"stack\", category_orders=order_dict, color_discrete_map = isoform_colors_RT3)\n",
    "fig.update_traces(width=0.8, marker=dict(line_width=1, line_color=\"black\"))\n",
    "fig.update_yaxes(showgrid=True, dtick=25000, range=[0,230000])\n",
    "fig.write_image(f\"{figure_dir}/absolute_expresion_rep1_color_RT3.svg\", width=1000,height=600)\n",
    "fig.show(renderer=\"svg\", width=1000,height=600)"
   ]
  },
  {
   "cell_type": "code",
   "execution_count": null,
   "id": "085a532b-338c-4bc0-8d34-b56456b8532b",
   "metadata": {},
   "outputs": [],
   "source": [
    "order_dict[\"isoform_id\"] = list(isoform_colors_RT3.keys())\n",
    "fig = px.bar(rep2, x=\"DMS_conc\", facet_col =\"RT_and_location\", facet_row =\"treatment\", y=\"percent\", color=\"isoform_id\", barmode=\"stack\", category_orders=order_dict, color_discrete_map = isoform_colors_RT3)\n",
    "fig.update_traces(width=0.8, marker=dict(line_width=1, line_color=\"black\"))\n",
    "fig.write_image(f\"{figure_dir}/relative_expresion_rep2_color_RT3.svg\", width=750,height=400)\n",
    "fig.show(renderer=\"svg\", width=750,height=400)"
   ]
  },
  {
   "cell_type": "code",
   "execution_count": null,
   "id": "3d154c5f-5b69-4f3e-bdf4-8276d1c81acb",
   "metadata": {},
   "outputs": [],
   "source": [
    "order_dict[\"isoform_id\"] = list(isoform_colors_RT3.keys())\n",
    "fig = px.bar(rep2, x=\"DMS_conc\", facet_col =\"RT_and_location\", facet_row =\"treatment\", y=\"count\", color=\"isoform_id\", barmode=\"stack\", category_orders=order_dict, color_discrete_map = isoform_colors_RT3)\n",
    "fig.update_traces(width=0.8, marker=dict(line_width=1, line_color=\"black\"))\n",
    "fig.update_yaxes(showgrid=True, dtick=25000, range=[0,230000])\n",
    "fig.write_image(f\"{figure_dir}/absolute_expresion_rep2_color_RT3.svg\", width=750,height=600)\n",
    "fig.show(renderer=\"svg\", width=750,height=600)"
   ]
  },
  {
   "cell_type": "code",
   "execution_count": null,
   "id": "cbd99627-fb75-42d3-8e28-110decbd5f98",
   "metadata": {
    "scrolled": true,
    "tags": []
   },
   "outputs": [],
   "source": [
    "order_dict[\"isoform_id\"] = list(isoform_colors_RT3.keys())\n",
    "fig = px.bar(rep2, x=\"DMS_conc\", facet_col =\"RT_and_location\", facet_row =\"treatment\", y=\"percent\", color=\"isoform_id\", barmode=\"stack\", category_orders=order_dict, color_discrete_map = isoform_colors_RT3)\n",
    "fig.update_traces(width=0.8, marker=dict(line_width=1, line_color=\"black\"))\n",
    "fig.write_image(f\"{figure_dir}/relative_expresion_colorbar_color_RT3.svg\", width=400,height=3000)\n",
    "fig.show(renderer=\"svg\", width=400,height=3000)"
   ]
  },
  {
   "cell_type": "markdown",
   "id": "3ba94ff0-2ac2-4d4c-9a78-9265a8b51ebd",
   "metadata": {},
   "source": [
    "# Plot mean data from both replicates"
   ]
  },
  {
   "cell_type": "code",
   "execution_count": null,
   "id": "a376f5e6-2a9d-4d81-8aaf-e23055a1dc9c",
   "metadata": {},
   "outputs": [],
   "source": [
    "merged = rep1.merge(rep2, on=\"name_wo_rep_w_isoform\", how=\"left\",  suffixes=[\"_rep1\", \"_rep2\"])\n",
    "merged.dropna(inplace=True)"
   ]
  },
  {
   "cell_type": "code",
   "execution_count": null,
   "id": "1c47388e-a4bb-436b-aaa5-c38a2f7a887a",
   "metadata": {},
   "outputs": [],
   "source": [
    "merged[\"actual_protein\"] = merged.apply(lambda x: get_actual_protein(x), axis=1)"
   ]
  },
  {
   "cell_type": "code",
   "execution_count": null,
   "id": "1be27173-d0b7-4ec5-ba56-227f1d4d0321",
   "metadata": {},
   "outputs": [],
   "source": [
    "counts1 = merged[\"percent_rep1\"].values\n",
    "counts2 = merged[\"percent_rep2\"].values\n",
    "np.corrcoef(counts1, counts2)"
   ]
  },
  {
   "cell_type": "code",
   "execution_count": null,
   "id": "579c77be-2b4f-4098-a6be-d48bcc21928c",
   "metadata": {},
   "outputs": [],
   "source": [
    "merged[\"mean_percent\"] = merged.apply(lambda x: (x[\"percent_rep1\"] + x[\"percent_rep2\"])/2, axis=1)"
   ]
  },
  {
   "cell_type": "code",
   "execution_count": null,
   "id": "464752a1-c131-4c11-923a-30659b2adc5e",
   "metadata": {},
   "outputs": [],
   "source": [
    "fig = px.scatter(merged, x=\"percent_rep1\", y=\"percent_rep2\", color=\"actual_protein\", hover_data=[\"unique_name_rep1\", \"isoform_rep1\"])\n",
    "fig.add_trace(go.Scatter(x=[0,100], y=[0,100], mode=\"lines\", line_color=\"black\", line_width=2))\n",
    "fig.update_layout(title = \"Relative abundace of each isoform per sample for both replicates<br>R=0.994\")\n",
    "fig.update_traces(marker=dict(size=5, opacity=0.8,line=dict(width=1)))\n",
    "fig.update_xaxes(type=\"log\")\n",
    "fig.update_yaxes(type=\"log\")\n",
    "fig.write_image(\"figures/allow_single_bc_relative_abundace_correlation.svg\", width=500, height=400)\n",
    "fig.show(width=900, height=800)"
   ]
  },
  {
   "cell_type": "code",
   "execution_count": null,
   "id": "936bb62e-5854-47c6-aec9-ea0d001df7fd",
   "metadata": {},
   "outputs": [],
   "source": [
    "merged.to_pickle(\"merged_relative_abundances.pickle\")"
   ]
  },
  {
   "cell_type": "code",
   "execution_count": null,
   "id": "1f62f0fc-a1b3-455e-94b1-6eb52c9748e7",
   "metadata": {},
   "outputs": [],
   "source": [
    "order_dict[\"isoform_rep1\"] = list(isoform_colors_RT2.keys())\n",
    "order_dict[\"DMS_conc_rep1\"] = order_dict[\"DMS_conc\"]\n",
    "order_dict[\"treatment_rep1\"] = order_dict[\"treatment\"]\n",
    "fig = px.bar(merged, x=\"DMS_conc_rep1\", facet_col =\"RT_and_location_rep1\", facet_row =\"treatment_rep1\", y=\"mean_percent\", color=\"isoform_rep1\", barmode=\"stack\", category_orders=order_dict, color_discrete_map = isoform_colors_RT2)\n",
    "fig.update_traces(width=0.8, marker=dict(line_width=1, line_color=\"black\"))\n",
    "fig.write_image(f\"{figure_dir}/relative_expresion_mean_color_RT2.svg\", width=1000,height=400)\n",
    "fig.show(renderer=\"svg\", width=1000,height=400)"
   ]
  },
  {
   "cell_type": "code",
   "execution_count": null,
   "id": "d215629e-feb0-4c53-bc11-74fd5b05449e",
   "metadata": {},
   "outputs": [],
   "source": [
    "order_dict[\"isoform_rep1\"] = list(isoform_colors_RT3.keys())\n",
    "order_dict[\"DMS_conc_rep1\"] = order_dict[\"DMS_conc\"]\n",
    "order_dict[\"treatment_rep1\"] = order_dict[\"treatment\"]\n",
    "fig = px.bar(merged, x=\"DMS_conc_rep1\", facet_col =\"RT_and_location_rep1\", facet_row =\"treatment_rep1\", y=\"mean_percent\", color=\"isoform_rep1\", barmode=\"stack\", category_orders=order_dict, color_discrete_map = isoform_colors_RT3)\n",
    "fig.update_traces(width=0.8, marker=dict(line_width=1, line_color=\"black\"))\n",
    "fig.write_image(f\"{figure_dir}/relative_expresion_mean_color_RT3.svg\", width=1000,height=400)\n",
    "fig.show(renderer=\"svg\", width=1000,height=400)"
   ]
  },
  {
   "cell_type": "code",
   "execution_count": null,
   "id": "351e7149-3373-4a0a-9c6b-a45111fbaf85",
   "metadata": {},
   "outputs": [],
   "source": [
    "this_df = merged[merged[\"unique_name_rep1\"] == \"Rep1_RT1_0mM_cell_native\"]\n",
    "fig = px.sunburst(this_df, values=\"mean_percent\", path=[\"protein_RT1_rep1\", \"isoform_rep1\"], title=\"uniquely assigned reads per sample\", color=\"protein_RT1_rep1\",color_discrete_map = isoform_colors_RT2)\n",
    "#fig.update_traces(marker=dict(line=dict(width=0.1, color=\"black\")))\n",
    "#fig.update_layout(sort=True)\n",
    "#fig.update_xaxes(type=\"category\")\n",
    "\n",
    "fig.write_image(f\"{figure_dir}/sunburst_isoform_ratios_mean_RT1.svg\")\n",
    "fig.show()"
   ]
  },
  {
   "cell_type": "code",
   "execution_count": null,
   "id": "2f0846fc-ab38-49bb-aa61-2813fad26e00",
   "metadata": {},
   "outputs": [],
   "source": [
    "this_df = merged[merged[\"unique_name_rep1\"] == \"Rep1_RT2_0mM_cell_native\"]\n",
    "fig = px.sunburst(this_df, values=\"mean_percent\", path=[\"protein_RT2_rep1\", \"isoform_RT2_rep1\"], title=\"uniquely assigned reads per sample\", color=\"isoform_rep1\",color_discrete_map = isoform_colors_RT2)\n",
    "#fig.update_traces(marker=dict(line=dict(width=0.1, color=\"black\")))\n",
    "#fig.update_layout(sort=True)\n",
    "#fig.update_xaxes(type=\"category\")\n",
    "\n",
    "fig.write_image(f\"{figure_dir}/sunburst_isoform_ratios_mean_RT2.svg\")\n",
    "fig.show()"
   ]
  },
  {
   "cell_type": "code",
   "execution_count": null,
   "id": "7d7cc856-161c-4b19-b6c3-c13d0e8eabff",
   "metadata": {},
   "outputs": [],
   "source": [
    "this_df = merged[merged[\"unique_name_rep1\"] == \"Rep1_RT3_0mM_cell_native\"]\n",
    "fig = px.sunburst(this_df, values=\"mean_percent\", path=[\"protein_RT3_rep1\", \"isoform_RT3_rep1\"], title=\"uniquely assigned reads per sample\", color=\"isoform_rep1\",color_discrete_map = isoform_colors_RT3)\n",
    "#fig.update_traces(marker=dict(line=dict(width=0.1, color=\"black\")))\n",
    "#fig.update_layout(sort=True)\n",
    "#fig.update_xaxes(type=\"category\")\n",
    "fig.write_image(f\"{figure_dir}/sunburst_isoform_ratios_mean_RT3.svg\")\n",
    "fig.show()"
   ]
  },
  {
   "cell_type": "code",
   "execution_count": null,
   "id": "c20c2f8f-4720-46fb-8427-df4a51c7f05e",
   "metadata": {},
   "outputs": [],
   "source": [
    "gtf_df = pd.read_pickle(\"references/gtf_dataframe_PCR1_2_3.pickle\")\n",
    "gtf_df.rename(columns={\"isoform_name\" : \"isoform_id_rep1\"}, inplace=True)"
   ]
  },
  {
   "cell_type": "code",
   "execution_count": null,
   "id": "8285f5c0-e5b9-4247-a025-6f62b3cdff54",
   "metadata": {},
   "outputs": [],
   "source": [
    "merged = merged.merge(gtf_df, on=\"isoform_id_rep1\", how=\"left\")"
   ]
  },
  {
   "cell_type": "code",
   "execution_count": null,
   "id": "fb13f478-466e-4ce0-ade6-dd56515e0b6a",
   "metadata": {},
   "outputs": [],
   "source": [
    "def get_first_acceptor(splice_sites):\n",
    "    try:\n",
    "        return \"A\" + splice_sites[0].split(\"A\")[1]\n",
    "    except:\n",
    "        return \"none\"\n",
    "merged[\"first_acceptor\"] = merged[\"actual_splice_sites\"].apply(lambda x: get_first_acceptor(x))"
   ]
  },
  {
   "cell_type": "code",
   "execution_count": null,
   "id": "04e97037-9c91-4194-a310-50cef100317a",
   "metadata": {},
   "outputs": [],
   "source": [
    "this_df = merged[merged[\"unique_name_rep1\"] == \"Rep1_RT1_0mM_cell_native\"]\n",
    "fig = px.sunburst(this_df, values=\"mean_percent\", path=[\"first_acceptor\", \"isoform_rep1\"], title=\"uniquely assigned reads per sample\", color=\"protein_RT1_rep1\",color_discrete_map = isoform_colors_RT2)\n",
    "#fig.update_traces(marker=dict(line=dict(width=0.1, color=\"black\")))\n",
    "#fig.update_layout(sort=True)\n",
    "#fig.update_xaxes(type=\"category\")\n",
    "\n",
    "fig.write_image(f\"{figure_dir}/sunburst_isoform_ratios_by_first_acceptor_mean_RT1.svg\")\n",
    "fig.show()"
   ]
  },
  {
   "cell_type": "code",
   "execution_count": null,
   "id": "9b8489ef-2209-4690-8d6f-079ba8acabfd",
   "metadata": {},
   "outputs": [],
   "source": [
    "this_df = merged[merged[\"unique_name_rep1\"] == \"Rep1_RT2_0mM_cell_native\"]\n",
    "fig = px.sunburst(this_df, values=\"mean_percent\", path=[\"first_acceptor\", \"isoform_RT2_rep1\"], title=\"uniquely assigned reads per sample\", color=\"isoform_rep1\",color_discrete_map = isoform_colors_RT2)\n",
    "#fig.update_traces(marker=dict(line=dict(width=0.1, color=\"black\")))\n",
    "#fig.update_layout(sort=True)\n",
    "#fig.update_xaxes(type=\"category\")\n",
    "\n",
    "fig.write_image(f\"{figure_dir}/sunburst_isoform_ratios_by_first_acceptor_mean_RT2.svg\")\n",
    "fig.show()"
   ]
  },
  {
   "cell_type": "code",
   "execution_count": null,
   "id": "8381a859-b8f1-4da8-8b5f-c7ec245e5f18",
   "metadata": {},
   "outputs": [],
   "source": [
    "this_df = merged[merged[\"unique_name_rep1\"] == \"Rep1_RT3_0mM_cell_native\"]\n",
    "fig = px.sunburst(this_df, values=\"mean_percent\", path=[\"first_acceptor\", \"isoform_RT3_rep1\"], title=\"uniquely assigned reads per sample\", color=\"isoform_rep1\",color_discrete_map = isoform_colors_RT3)\n",
    "#fig.update_traces(marker=dict(line=dict(width=0.1, color=\"black\")))\n",
    "#fig.update_layout(sort=True)\n",
    "#fig.update_xaxes(type=\"category\")\n",
    "fig.write_image(f\"{figure_dir}/sunburst_isoform_ratios_by_first_acceptor_mean_RT3.svg\")\n",
    "fig.show()"
   ]
  },
  {
   "cell_type": "code",
   "execution_count": null,
   "id": "fe676a25-fe77-4868-ac7d-73c632d0a3ce",
   "metadata": {},
   "outputs": [],
   "source": [
    "protein_color_dict = {\n",
    "    \"unspliced\" : \"black\",\n",
    "    \"Env\" : \"rgb(58,108,207)\",\n",
    "    \"Nef\" : \"rgb(23,188,115)\",\n",
    "    \"Vpr\" : \"rgb(207,37,55)\",\n",
    "    \"Vif\" : \"rgb(161,77,196)\",\n",
    "    \"Tat\" : \"rgb(221,168,200)\",\n",
    "    \"Rev\" : \"rgb(230,126,34)\",\n",
    "    \"sORF\" : \"rgb(177,153,109)\",\n",
    "    \"-\" : \"grey\"\n",
    "}"
   ]
  },
  {
   "cell_type": "code",
   "execution_count": null,
   "id": "9415a0d7-495b-4a5f-815b-94a81dda9148",
   "metadata": {},
   "outputs": [],
   "source": [
    "merged.loc[(merged[\"actual_protein\"] == \" \"), \"actual_protein\"] = \"-\""
   ]
  },
  {
   "cell_type": "code",
   "execution_count": null,
   "id": "9950efa9-e95f-4d85-a2ba-23ad8f77197f",
   "metadata": {},
   "outputs": [],
   "source": [
    "merged[\"actual_protein\"].value_counts()"
   ]
  },
  {
   "cell_type": "code",
   "execution_count": null,
   "id": "4b63549a-243b-4c86-8772-5f1c9dde0bee",
   "metadata": {},
   "outputs": [],
   "source": [
    "np.corrcoef(merged[\"percent_rep1\"].values, merged[\"percent_rep2\"].values)"
   ]
  },
  {
   "cell_type": "code",
   "execution_count": null,
   "id": "6332af06-a9ba-429c-b316-0044093609e3",
   "metadata": {},
   "outputs": [],
   "source": [
    "fig = px.scatter(merged, render_mode=\"svg\", x=\"percent_rep1\", y=\"percent_rep2\", color=\"actual_protein\", category_orders={\"actual_protein\": list(protein_color_dict.keys())}, color_discrete_map = protein_color_dict, hover_data=[\"unique_name_rep1\", \"isoform_rep1\"])\n",
    "fig.add_trace(go.Scatter(x=[0,100], y=[0,100], mode=\"lines\", line_color=\"black\", line_width=2))\n",
    "fig.update_layout(title = \"Relative abundace of each isoform per sample for both replicates<br>R=0.994\")\n",
    "fig.update_traces(marker=dict(size=5,line=dict(width=1)))\n",
    "fig.update_xaxes(type=\"log\", showgrid=True)\n",
    "fig.update_yaxes(type=\"log\", showgrid=True)\n",
    "fig.write_image(f\"{figure_dir}/rep1_vs2_relative_abundace_correlation.svg\", width=500, height=400)\n",
    "fig.show(renderer=\"svg\", width=900, height=800)"
   ]
  },
  {
   "cell_type": "code",
   "execution_count": null,
   "id": "55e5a849-e5e5-4dc3-a6c7-9ba0a7fbc25f",
   "metadata": {},
   "outputs": [],
   "source": [
    "fig = px.scatter(merged, render_mode=\"svg\", x=\"percent_rep1\", y=\"percent_rep2\", color=\"DMS_conc_rep1\", category_orders={\"actual_protein\": list(protein_color_dict.keys())}, color_discrete_map = protein_color_dict, hover_data=[\"unique_name_rep1\", \"isoform_rep1\"])\n",
    "fig.add_trace(go.Scatter(x=[0,100], y=[0,100], mode=\"lines\", line_color=\"black\", line_width=2))\n",
    "fig.update_layout(title = \"Relative abundace of each isoform per sample for both replicates<br>R=0.994\")\n",
    "fig.update_traces(marker=dict(size=5,line=dict(width=1)))\n",
    "fig.update_xaxes(type=\"log\", showgrid=True)\n",
    "fig.update_yaxes(type=\"log\", showgrid=True)\n",
    "fig.write_image(f\"{figure_dir}/rep1_vs2_relative_abundace_correlation_color_DMS.svg\", width=500, height=400)\n",
    "fig.show(renderer=\"svg\", width=900, height=800)"
   ]
  },
  {
   "cell_type": "markdown",
   "id": "8142e1a9-65e9-478a-94c1-d11be7cc9289",
   "metadata": {},
   "source": [
    "# Correlation for isoforms with at least 1 % in both replicates"
   ]
  },
  {
   "cell_type": "code",
   "execution_count": null,
   "id": "41d4d270-b42e-49ec-bae6-7d7a41f5e630",
   "metadata": {},
   "outputs": [],
   "source": [
    "merged = pd.read_pickle(\"merged_relative_abundances.pickle\")"
   ]
  },
  {
   "cell_type": "code",
   "execution_count": null,
   "id": "3ef7cd8d-96f6-4c6b-b887-445676ff570c",
   "metadata": {},
   "outputs": [],
   "source": [
    "merged_filtered = merged[(merged[\"percent_rep1\"] > 1) & (merged[\"percent_rep2\"] > 1) ]"
   ]
  },
  {
   "cell_type": "code",
   "execution_count": null,
   "id": "c752b058-2e79-4e01-ac6e-d2d8595a4da8",
   "metadata": {},
   "outputs": [],
   "source": [
    "counts1 = merged_filtered[\"percent_rep1\"].values\n",
    "counts2 = merged_filtered[\"percent_rep2\"].values\n",
    "import numpy as np\n",
    "np.corrcoef(counts1, counts2)"
   ]
  },
  {
   "cell_type": "code",
   "execution_count": null,
   "id": "5ced83f2-d218-480e-9be2-6b7a9f62db4a",
   "metadata": {},
   "outputs": [],
   "source": [
    "stats.linregress(counts1, counts2)"
   ]
  },
  {
   "cell_type": "code",
   "execution_count": null,
   "id": "0984b88d-bb27-4caf-ba4b-7bd2f41589d0",
   "metadata": {},
   "outputs": [],
   "source": [
    "fig = px.scatter(merged_filtered, x=\"percent_rep1\", y=\"percent_rep2\", color=\"protein_RT2_rep1\", hover_data=[\"unique_name_rep1\", \"isoform_rep1\"])\n",
    "fig.add_trace(go.Scatter(x=[0,100], y=[0,100], mode=\"lines\", line_color=\"black\", line_width=2))\n",
    "fig.update_layout(title = \"Relative abundace of each isoform with at least 1% per sample for both replicates<br>R=0.993\")\n",
    "fig.write_image(\"relative_abundace_min1_correlation.svg\", width=900, height=800)\n",
    "fig.show(width=900, height=800)"
   ]
  },
  {
   "cell_type": "code",
   "execution_count": null,
   "id": "8f53c957-835d-4087-9051-a2f6bc615b78",
   "metadata": {},
   "outputs": [],
   "source": [
    "reformat_df = merged_filtered.groupby([\"name_wo_rep_rep1\", \"isoform_rep1\"])[[\"count_rep1\", \"count_rep2\"]].min().dropna().reset_index()\n",
    "reformat_df"
   ]
  },
  {
   "cell_type": "code",
   "execution_count": null,
   "id": "e22b16eb-fa31-46b7-b0da-9d770f527339",
   "metadata": {},
   "outputs": [],
   "source": [
    "reformat_df[\"count_rep1\"] = reformat_df[\"count_rep1\"].astype(int)\n",
    "reformat_df[\"count_rep2\"] = reformat_df[\"count_rep2\"].astype(int)"
   ]
  },
  {
   "cell_type": "code",
   "execution_count": null,
   "id": "42bd9e0b-57ad-4200-a601-2eb66f0b5347",
   "metadata": {},
   "outputs": [],
   "source": [
    "reformat_df[\"min_coverage\"] = reformat_df[[\"count_rep1\", \"count_rep2\"]].min(axis=1)"
   ]
  },
  {
   "cell_type": "code",
   "execution_count": null,
   "id": "0589f7e7-996e-4b17-8d7e-059c164362c0",
   "metadata": {},
   "outputs": [],
   "source": [
    "isoforms = sorted(np.unique(reformat_df[\"isoform_rep1\"].values))\n",
    "samples = sorted(np.unique(reformat_df[\"name_wo_rep_rep1\"].values))\n",
    "native_samples = [sample for sample in samples if \"native\" in sample]\n",
    "\n",
    "data = np.full((len(native_samples), len(isoforms)), 0)\n",
    "for row, barcode in enumerate(native_samples):\n",
    "    for col, isoform in enumerate(isoforms):\n",
    "        #print(barcode, isoform,  row, col)\n",
    "        try:\n",
    "            readcount = reformat_df[(reformat_df[\"name_wo_rep_rep1\"] == barcode) & (reformat_df[\"isoform_rep1\"] == isoform)][\"min_coverage\"]\n",
    "        except:\n",
    "            readcount = 0\n",
    "        #print(readcount)\n",
    "        try:\n",
    "            data[row, col] = readcount#\n",
    "        except:\n",
    "            continue\n"
   ]
  },
  {
   "cell_type": "code",
   "execution_count": null,
   "id": "2f8af0b5-7b3e-4ead-87a3-149764687c61",
   "metadata": {},
   "outputs": [],
   "source": [
    "import plotly.express as px\n",
    "#barcodes = [f\"barcode{str(i).zfill(2)}\" for i in range(1,53)]\n",
    "\n",
    "fig = px.imshow(data, x=isoforms, y=native_samples, zmax = 4000, color_continuous_scale=[(0.00, \"black\"), (200/4000, \"darkred\"), (500/4000, \"yellow\"),(2000/4000, \"yellow\"),  (3000/4000, \"lightgreen\"), (1, \"green\")], aspect=\"auto\", height=1000)\n",
    "fig.update_layout(title=\"Minimum coverage per isoform of both repeats<br> for all native samples\", coloraxis_colorbar=dict(tickvals = [0,200,500,1000,2000,4000], ticktext = [\"0\", \"200\", \"500\", \"1000\", \"2000\", \"4000\"]))#[0, 500/np.max(data), 1000/np.max(data), 1500/np.max(data), 3000/np.max(data), 6000/np.max(data)]\n",
    "fig.show()"
   ]
  },
  {
   "cell_type": "code",
   "execution_count": null,
   "id": "b14af0e5-b24b-4143-af66-f6850367e014",
   "metadata": {},
   "outputs": [],
   "source": [
    "isoforms = sorted(np.unique(reformat_df[\"isoform_rep1\"].values))\n",
    "samples = sorted(np.unique(reformat_df[\"name_wo_rep_rep1\"].values))\n",
    "deprot_samples = [sample for sample in samples if \"deprot\" in sample]\n",
    "\n",
    "data = np.full((len(deprot_samples), len(isoforms)), 0)\n",
    "for row, barcode in enumerate(deprot_samples):\n",
    "    for col, isoform in enumerate(isoforms):\n",
    "        #print(barcode, isoform,  row, col)\n",
    "        try:\n",
    "            readcount = reformat_df[(reformat_df[\"name_wo_rep_rep1\"] == barcode) & (reformat_df[\"isoform_rep1\"] == isoform)][\"min_coverage\"]\n",
    "        except:\n",
    "            readcount = 0\n",
    "        #print(readcount)\n",
    "        try:\n",
    "            data[row, col] = readcount#\n",
    "        except:\n",
    "            continue"
   ]
  },
  {
   "cell_type": "code",
   "execution_count": null,
   "id": "1ab3b80a-54be-48f8-8441-e84256a67536",
   "metadata": {},
   "outputs": [],
   "source": [
    "fig = px.imshow(data, x=isoforms, y=deprot_samples, zmax = 4000, color_continuous_scale=[(0.00, \"black\"), (200/4000, \"darkred\"), (500/4000, \"yellow\"),(2000/4000, \"yellow\"),  (3000/4000, \"lightgreen\"), (1, \"green\")], aspect=\"auto\", height=1000)\n",
    "fig.update_layout(title=\"Minimum coverage per isoform of both repeats<br> for all deproteinated samples\", coloraxis_colorbar=dict(tickvals = [0,200,500,1000,2000,4000], ticktext = [\"0\", \"200\", \"500\", \"1000\", \"2000\", \"4000\"]))#[0, 500/np.max(data), 1000/np.max(data), 1500/np.max(data), 3000/np.max(data), 6000/np.max(data)]\n",
    "fig.show()"
   ]
  },
  {
   "cell_type": "code",
   "execution_count": null,
   "id": "67459fae-c54a-4342-bd91-11ed2d2e5448",
   "metadata": {},
   "outputs": [],
   "source": [
    "isoforms = sorted(np.unique(reformat_df[\"isoform_rep1\"].values))\n",
    "samples = sorted(np.unique(reformat_df[\"name_wo_rep_rep1\"].values))\n",
    "cell_samples = [sample for sample in samples if \"cell\" in sample]\n",
    "\n",
    "data = np.full((len(cell_samples), len(isoforms)), 0)\n",
    "for row, barcode in enumerate(cell_samples):\n",
    "    for col, isoform in enumerate(isoforms):\n",
    "        #print(barcode, isoform,  row, col)\n",
    "        try:\n",
    "            readcount = reformat_df[(reformat_df[\"name_wo_rep_rep1\"] == barcode) & (reformat_df[\"isoform_rep1\"] == isoform)][\"min_coverage\"]\n",
    "        except:\n",
    "            readcount = 0\n",
    "        #print(readcount)\n",
    "        try:\n",
    "            data[row, col] = readcount#\n",
    "        except:\n",
    "            continue"
   ]
  },
  {
   "cell_type": "code",
   "execution_count": null,
   "id": "871a569f-cdc0-4e78-b4a7-fcf113be0c52",
   "metadata": {},
   "outputs": [],
   "source": [
    "fig = px.imshow(data, x=isoforms, y=cell_samples, zmax = 4000, color_continuous_scale=[(0.00, \"black\"), (200/4000, \"darkred\"), (500/4000, \"yellow\"),(2000/4000, \"yellow\"),  (3000/4000, \"lightgreen\"), (1, \"green\")], aspect=\"auto\", height=1000)\n",
    "fig.update_layout(title=\"Minimum coverage per isoform of both repeats<br> for all cell samples\", coloraxis_colorbar=dict(tickvals = [0,200,500,1000,2000,4000], ticktext = [\"0\", \"200\", \"500\", \"1000\", \"2000\", \"4000\"]))#[0, 500/np.max(data), 1000/np.max(data), 1500/np.max(data), 3000/np.max(data), 6000/np.max(data)]\n",
    "fig.show()"
   ]
  },
  {
   "cell_type": "code",
   "execution_count": null,
   "id": "cc1e88da-51b9-4b79-b46d-71ad3838b0cf",
   "metadata": {},
   "outputs": [],
   "source": [
    "isoforms = sorted(np.unique(reformat_df[\"isoform_rep1\"].values))\n",
    "samples = sorted(np.unique(reformat_df[\"name_wo_rep_rep1\"].values))\n",
    "virion_samples = [sample for sample in samples if \"virion\" in sample]\n",
    "\n",
    "data = np.full((len(virion_samples), len(isoforms)), 0)\n",
    "for row, barcode in enumerate(virion_samples):\n",
    "    for col, isoform in enumerate(isoforms):\n",
    "        #print(barcode, isoform,  row, col)\n",
    "        try:\n",
    "            readcount = reformat_df[(reformat_df[\"name_wo_rep_rep1\"] == barcode) & (reformat_df[\"isoform_rep1\"] == isoform)][\"min_coverage\"]\n",
    "        except:\n",
    "            readcount = 0\n",
    "        #print(readcount)\n",
    "        try:\n",
    "            data[row, col] = readcount#\n",
    "        except:\n",
    "            continue"
   ]
  },
  {
   "cell_type": "code",
   "execution_count": null,
   "id": "e23c8b15-1454-43cd-a569-4d6532e713b3",
   "metadata": {},
   "outputs": [],
   "source": [
    "fig = px.imshow(data, x=isoforms, y=virion_samples, zmax = 4000, color_continuous_scale=[(0.00, \"black\"), (200/4000, \"darkred\"), (500/4000, \"yellow\"),(2000/4000, \"yellow\"),  (3000/4000, \"lightgreen\"), (1, \"green\")], aspect=\"auto\", height=1000)\n",
    "fig.update_layout(title=\"Minimum coverage per isoform of both repeats<br> for all virion samples\", coloraxis_colorbar=dict(tickvals = [0,200,500,1000,2000,4000], ticktext = [\"0\", \"200\", \"500\", \"1000\", \"2000\", \"4000\"]))#[0, 500/np.max(data), 1000/np.max(data), 1500/np.max(data), 3000/np.max(data), 6000/np.max(data)]\n",
    "fig.show()"
   ]
  }
 ],
 "metadata": {
  "kernelspec": {
   "display_name": "Python 3 (ipykernel)",
   "language": "python",
   "name": "python3"
  },
  "language_info": {
   "codemirror_mode": {
    "name": "ipython",
    "version": 3
   },
   "file_extension": ".py",
   "mimetype": "text/x-python",
   "name": "python",
   "nbconvert_exporter": "python",
   "pygments_lexer": "ipython3",
   "version": "3.10.5"
  }
 },
 "nbformat": 4,
 "nbformat_minor": 5
}
