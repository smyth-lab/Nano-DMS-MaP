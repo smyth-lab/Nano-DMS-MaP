{
 "cells": [
  {
   "cell_type": "markdown",
   "id": "ba35f16e-abdd-4540-81d1-41c509c25f2a",
   "metadata": {
    "tags": []
   },
   "source": [
    "# Jupyter Notebook to run Nano-DMS-MaP pipeline\n",
    "\n",
    "Note: Shell commands are all executed on Slurm cluster here. Adapt to specific needs if required. "
   ]
  },
  {
   "cell_type": "code",
   "execution_count": null,
   "id": "c38d7e51-950f-437b-bda6-29ab6e4c0360",
   "metadata": {},
   "outputs": [],
   "source": [
    "# folder structures:\n",
    "experiment/data/\n",
    "                fast5/      sample\n",
    "                fastq/      sample\n",
    "                bam/        sample\n",
    "                rf/         sample\n",
    "                perbase/    sample\n",
    "                eterna/     sample\n",
    "                \n",
    "experiment/references/\n",
    "                    .fa #(unspliced)\n",
    "                    .gtf #(isoform information), created with 0_create_gtf.ipynb\n",
    "                    .db #\"truth\" structure, required only for evaluation, e.g. ROC-AUC and BPS/PPV\n",
    "                    RT-PCR_transcripts/*.fa #individual fasta file for each isoform (generated with 0_create_gtf.ipynb)\n",
    "    "
   ]
  },
  {
   "cell_type": "markdown",
   "id": "0338e4f3-efd3-4e7a-a79b-5355991cc209",
   "metadata": {},
   "source": [
    "## Basecalling"
   ]
  },
  {
   "cell_type": "code",
   "execution_count": null,
   "id": "e1f6aa09-f530-45db-9091-da6ef54e855b",
   "metadata": {},
   "outputs": [],
   "source": [
    "fast5_dir = f\"...\"\n",
    "fastq_dir = f\"...\"\n",
    "guppy = \"...\" #used guppy 6.1.4\n",
    "command = f\"{guppy} -x cuda:0 --do_read_splitting --trim_barcodes --trim_adapters --min_qscore 10 --trim_strategy dna  -c dna_r10.4_e8.1_sup.cfg --barcode_kits SQK-NBD112-96 -i {fast5_dir} -s {fastq_dir}\"\n",
    "\n",
    "#Note: for the current Kit 14 chemistry update the config file to r10.4.1 e8.2\n",
    "#!{command}"
   ]
  },
  {
   "cell_type": "markdown",
   "id": "a0e0a2f4-ec7f-4961-9eaa-6aba2608b7af",
   "metadata": {
    "tags": []
   },
   "source": [
    "# Sort Fastq files (from barcode to sample)"
   ]
  },
  {
   "cell_type": "code",
   "execution_count": null,
   "id": "248ac39d-aedc-4ab7-bccd-48c391c5fec8",
   "metadata": {},
   "outputs": [],
   "source": [
    "#use an excel (xlsx) sheet for samples, with required columns \"Sample\", samples must not contain spaces\n",
    "\n",
    "import pandas as pd\n",
    "samplesheet = pd.read_excel(\"./samplesheet.xlsx\", engine=\"openpyxl\")\n",
    "samplesheet"
   ]
  },
  {
   "cell_type": "code",
   "execution_count": null,
   "id": "815bb696-e42f-4fe0-b597-789170b35813",
   "metadata": {},
   "outputs": [],
   "source": [
    "samples = samplesheet[\"Sample\"].values\n",
    "samples"
   ]
  },
  {
   "cell_type": "markdown",
   "id": "282c0154-5915-463a-9a52-e2408c3c3bd7",
   "metadata": {},
   "source": [
    "## Isoquant"
   ]
  },
  {
   "cell_type": "code",
   "execution_count": null,
   "id": "80989416-ef2b-4ee2-a1cd-6090e67a812f",
   "metadata": {},
   "outputs": [],
   "source": [
    "# Isoquant (https://www.nature.com/articles/s41587-022-01565-y) attempts to assign each read to a specific isoform. \n",
    "# A fasta reference of the unspliced genome and a GTF file to name the transcripts is required. The GTF file is based on https://retrovirology.biomedcentral.com/articles/10.1186/s12977-020-00533-1,\n",
    "# but modified (in 0.create_gtf.ipynb) to include the PCR primer workflow"
   ]
  },
  {
   "cell_type": "code",
   "execution_count": 36,
   "id": "f4417923-c6b1-4180-bf09-108d2625c9be",
   "metadata": {},
   "outputs": [],
   "source": [
    "!mkdir data/references"
   ]
  },
  {
   "cell_type": "code",
   "execution_count": 1,
   "id": "b86621ff-4ec6-41a2-978b-9b8fed0d6dbe",
   "metadata": {},
   "outputs": [],
   "source": [
    "!cp /vol/projects/pbohn/AnSo_DMS_MaP/references/HIVNL43_all_iso_PCR1_2_3.gtf references/"
   ]
  },
  {
   "cell_type": "code",
   "execution_count": 2,
   "id": "5aa0f003-527d-4903-84fd-e1765c9dc3f4",
   "metadata": {},
   "outputs": [],
   "source": [
    "!cp /vol/projects/pbohn/AnSo_DMS_MaP/references/p12_HIVNL43.fa references/"
   ]
  },
  {
   "cell_type": "code",
   "execution_count": null,
   "id": "74b8176d-f7cf-4cf3-b280-f02d9453673e",
   "metadata": {},
   "outputs": [],
   "source": [
    "#specify absolute path to data folder\n",
    "data_folder = \"...\"\n"
   ]
  },
  {
   "cell_type": "code",
   "execution_count": null,
   "id": "40f61beb-4745-4fe1-b3a4-409af0109e82",
   "metadata": {},
   "outputs": [],
   "source": [
    "#Isoquant Version 2.0\n",
    "#specify Isoquant.py location from https://github.com/ablab/IsoQuant\n",
    "isoquant = \".../IsoQuant/isoquant.py\"\n",
    "gtf_file = f\"{os.getcwd()}/references/HIVNL43_all_iso_PCR1_2_3.gtf\"\n",
    "ref_file = f\"{os.getcwd()}/references/p12_HIVNL43.fa\""
   ]
  },
  {
   "cell_type": "code",
   "execution_count": null,
   "id": "a240c057-bcc1-4930-b549-fdd1e4bf2c35",
   "metadata": {},
   "outputs": [],
   "source": [
    "from slurmpy import Slurm\n",
    "\n",
    "samples = sorted(samples)\n",
    "\n",
    "job_name = \"isoquant\"\n",
    "num_threads = 5\n",
    "s = Slurm(job_name, {\"partition\" : \"cpu\", \"mem\" : \"10G\", \"cpus-per-task\" : num_threads, \"time\" : \"240\",  \"mail-user\" : \"patrick.bohn@helmholtz-hiri.de\"})\n",
    "\n",
    "output_folder = f\"{data_folder}/isoquant/\"\n",
    "os.makedirs(output_folder, exist_ok=True)\n",
    "\n",
    "with open(output_folder + \"fastq_list.txt\", \"w\") as outfile:\n",
    "    for sample in samples:\n",
    "        \n",
    "        #adjust fastq file name if named differently\n",
    "        fastq_file = f\"{data_folder}/fastq/{sample}/merged.fastq\"\n",
    "        \n",
    "        outfile.write(f\"{fastq_file}:{sample}\\n\\n\")\n",
    "command = f\"{isoquant} -d nanopore -g {gtf_file} -r {ref_file} --fastq_list {output_folder}fastq_list.txt -l {' '.join(samples)} --stranded none -t {num_threads} -o {output_folder} --clean_start --fl_data\"\n",
    "s.run(command)"
   ]
  },
  {
   "cell_type": "markdown",
   "id": "2283e3b0-129d-458d-a86f-5c24bbdf55c2",
   "metadata": {},
   "source": [
    "### Sort per isoform\n",
    "\n",
    "After Isoquant finishes successfully, the following script will take the read to isoform assignments and sort into individual fastq files"
   ]
  },
  {
   "cell_type": "code",
   "execution_count": null,
   "id": "95b0b1b0-3dbb-4658-8e2c-cf25443230a3",
   "metadata": {},
   "outputs": [],
   "source": [
    "# Reading in read_to_isoform assignemnts of each sample into a dataframe\n",
    "\n",
    "import pandas as pd\n",
    "\n",
    "all_read_assignments_df = []\n",
    "\n",
    "for sample in samples:\n",
    "    merged_transcript_file = f\"{data_folder}/isoquant/{sample}/{sample}.read_assignments.tsv\"\n",
    "    read_df = pd.read_csv(merged_transcript_file, sep=\"\\t\")\n",
    "    read_df[\"unique_name\"] = sample\n",
    "    all_read_assignments_df.append(read_df)\n",
    "all_read_assignments_df = pd.concat(all_read_assignments_df)\n",
    "all_read_assignments_df.rename(columns={'#read_id':'read_id'}, inplace=True)\n",
    "\n",
    "#store df for loading in other notebooks\n",
    "all_read_assignments_df.to_pickle(f\"{data_folder}/isoquant/read_assignments.pickle\")\n",
    "\n",
    "unique_mapped_reads_df = all_read_assignments_df[all_read_assignments_df[\"assignment_type\"].isin([\"unique\", \"unique_minor_difference\"])].copy()\n",
    "unique_mapped_reads_df[\"unique_name\"] = unique_mapped_reads_df[\"unique_name\"].astype(\"category\")\n"
   ]
  },
  {
   "cell_type": "code",
   "execution_count": null,
   "id": "2717f29b-fb13-4ac9-8f07-b3d4f204e013",
   "metadata": {},
   "outputs": [],
   "source": [
    "# Prints out total number each isoform occured. For plotting see 2_Plot_Isoquant.ipynb\n",
    "unique_mapped_reads_df[\"isoform_id\"].value_counts()"
   ]
  },
  {
   "cell_type": "code",
   "execution_count": null,
   "id": "17e00ebb-7e13-4617-a4e9-03086db2ebbc",
   "metadata": {},
   "outputs": [],
   "source": [
    "import numpy as np\n",
    "\n",
    "isoforms = np.unique(unique_mapped_reads_df[\"isoform_id\"].values)\n",
    "print(\"Detected\", len(isoforms), \"isoforms\")"
   ]
  },
  {
   "cell_type": "code",
   "execution_count": null,
   "id": "7d6b27bb-490f-4f6a-b3d7-533b0d058445",
   "metadata": {},
   "outputs": [],
   "source": [
    "#Sorting reads by isoform\n",
    "\n",
    "from Bio import SeqIO\n",
    "\n",
    "fastq_dir = f\"{data_folder}/fastq/\"\n",
    "\n",
    "read_dict = unique_mapped_reads_df[[\"read_id\", \"isoform_id\"]].set_index(\"read_id\").to_dict()[\"isoform_id\"]\n",
    "\n",
    "for sample in samples:\n",
    "    fastq_out = f\"{data_folder}/fastq/{sample}/by_isoform/\"\n",
    "    os.makedirs(fastq_out, exist_ok=True)\n",
    "    \n",
    "    input_fastq_file = f'{data_folder}/fastq/{sample}/merged.fastq'\n",
    "    \n",
    "    output_files = {}\n",
    "    sorted_reads = {}\n",
    "    for isoform in isoforms:\n",
    "        output_files[isoform] = open(f'{fastq_out}/{isoform}.fastq', \"w\")\n",
    "        sorted_reads[isoform] = []\n",
    "        \n",
    "    not_sorted = 0\n",
    "    for record in SeqIO.parse(input_fastq_file, \"fastq\"):\n",
    "        try:\n",
    "            sorted_reads[read_dict[record.id]].append(record)\n",
    "            \n",
    "        except:\n",
    "            not_sorted +=1\n",
    "    \n",
    "    for isoform in isoforms:\n",
    "        SeqIO.write(sorted_reads[isoform], output_files[isoform], \"fastq\")\n",
    "        output_files[isoform].close()"
   ]
  },
  {
   "cell_type": "markdown",
   "id": "cd3bf3ac-aa5f-41cd-807e-0e2118339b85",
   "metadata": {},
   "source": [
    "## Alignment"
   ]
  },
  {
   "cell_type": "code",
   "execution_count": null,
   "id": "4d052d0f-85a8-42ea-bda3-aad3b0de3e19",
   "metadata": {},
   "outputs": [],
   "source": [
    "last_bin_dir = \".../last-1409/bin\" #specifies path of folder containing lastdb, lastal etc. (ends in \"/bin\")\n",
    "reference_dir = f\"references/transcripts_PCR1\" #folder that contains references of individual isoforms (generated by 0._GTF_preprocess.ipynb)\n",
    "samtools_path = \".../envs/nanodms/bin/samtools\" #path to samtools binary"
   ]
  },
  {
   "cell_type": "code",
   "execution_count": null,
   "id": "a5bd51f9-b483-437f-8533-a167d475b5ad",
   "metadata": {},
   "outputs": [],
   "source": [
    "pids = {}\n",
    "\n",
    "num_threads = 10\n",
    "\n",
    "slurm_train = Slurm(\"LAST_train\", {\"partition\" : \"cpu\", \"mem\" : \"5G\", \"cpus-per-task\" : num_threads, \"time\" : \"10\",\"mail-type\" : \"FAIL,INVALID_DEPEND\", \"mail-user\" : \"patrick.bohn@helmholtz-hiri.de\"})\n",
    "slurm_align = Slurm(\"LAST_align\", {\"partition\" : \"cpu\", \"mem\" : \"5G\", \"cpus-per-task\" : num_threads, \"time\" : \"60\",\"mail-type\" : \"FAIL,INVALID_DEPEND\", \"mail-user\" : \"patrick.bohn@helmholtz-hiri.de\"})\n",
    "\n",
    "os.makedirs(f\"{data_folder}/bam\", exist_ok=True)\n",
    "\n",
    "#index reference\n",
    "#generate last db file of fasta\n",
    "for isoform in isoforms:\n",
    "    reference_fasta = f\"{reference_dir}/{isoform}.fa\"\n",
    "    !samtools faidx {reference_fasta}\n",
    "    \n",
    "    last_reference_prefix = f\"{reference_dir}/{isoform}_LAST\"\n",
    "    !{last_bin_dir}/lastdb {last_reference_prefix} {reference_fasta}\n",
    "\n",
    "    for sample in samples:\n",
    "        bam_outdir = f\"{data_folder}/bam/{sample}/{isoform}\"\n",
    "        fastq_file = f\"{data_folder}/fastq/{sample}/by_isoform/{isoform}.fastq\"\n",
    "        \n",
    "        os.makedirs(bam_outdir, exist_ok=True)\n",
    "        #train LAST\n",
    "        command = f\"\"\"\n",
    "        {last_bin_dir}/last-train -Q0 -P {num_threads} {last_reference_prefix} {fastq_file} > {bam_outdir}/LAST_train.par\n",
    "        \"\"\"\n",
    "        #slurm\n",
    "        train_pid = slurm_train.run(command)\n",
    "        #align LAST\n",
    "        #slurm\n",
    "        command = f\"\"\"\n",
    "        {last_bin_dir}/lastal -Qkeep -P {num_threads} -p {bam_outdir}/LAST_train.par -m20 {last_reference_prefix} {fastq_file} | {last_bin_dir}/last-split -m1 > {bam_outdir}/LAST.maf\n",
    "        {last_bin_dir}/maf-convert -j1e6 psl {bam_outdir}/LAST.maf > {bam_outdir}/LAST.psl\n",
    "        {last_bin_dir}/maf-convert sam {bam_outdir}/LAST.maf > {bam_outdir}/LAST.sam\n",
    "        {samtools_path} view -h -t {reference_fasta}.fai {bam_outdir}/LAST.sam > {bam_outdir}/LAST.bam\n",
    "        {samtools_path} calmd --output-fmt BAM --threads {num_threads} {bam_outdir}/LAST.bam {reference_fasta} > {bam_outdir}/LAST_MD.bam\n",
    "        {samtools_path} sort -O bam {bam_outdir}/LAST_MD.bam > {bam_outdir}/LAST_MD_sorted.bam\n",
    "        {samtools_path} index {bam_outdir}/LAST_MD_sorted.bam\n",
    "        \"\"\"\n",
    "        pids[f\"{isoform}_{sample}\"] = slurm_align.run(command, depends_on = [train_pid])"
   ]
  },
  {
   "cell_type": "markdown",
   "id": "41421e69-8921-4555-8a74-585b17836820",
   "metadata": {},
   "source": [
    "## RNA-Framework\n",
    "\n",
    "RNA-Framework version 2.8.0 was used for the paper. It is majorly written in perl. To run rfnorm the conda package \"perl-xml-libxml\" is required. "
   ]
  },
  {
   "cell_type": "code",
   "execution_count": null,
   "id": "1d33d8a8-b4bd-4b4b-844e-533a9155d402",
   "metadata": {},
   "outputs": [],
   "source": [
    "rf_dir = \".../RNAFramework\" #specify path to RNAFramework"
   ]
  },
  {
   "cell_type": "markdown",
   "id": "d033e534-7ac7-415a-bc1d-6c8af7a8d5b0",
   "metadata": {},
   "source": [
    "### rf-count"
   ]
  },
  {
   "cell_type": "code",
   "execution_count": null,
   "id": "ad00278c-6c29-4c3d-ac92-4c51b0bfa232",
   "metadata": {},
   "outputs": [],
   "source": [
    "os.makedirs(\"data/rfcount\", exist_ok=True)\n",
    "\n",
    "def rf_count(rf_dir, data_folder, sample, isoform, reference_fasta, pids, num_threads = 10):\n",
    "\n",
    "    slurm_rfcount = Slurm(\"rfcount\", {\"partition\" : \"cpu\", \"mem\" : \"2G\", \"cpus-per-task\" : num_threads, \"time\" : \"60\",\"mail-type\" : \"FAIL,INVALID_DEPEND\", \"mail-user\" : \"patrick.bohn@helmholtz-hiri.de\"})\n",
    "\n",
    "    commands = []\n",
    "    \n",
    "    bam_file = f\"{data_folder}/bam/{sample}/{isoform}/LAST_MD_sorted.bam\"\n",
    "    rc_outdir = f\"{data_folder}/rfcount/{sample}/{isoform}/\"\n",
    "    os.makedirs(rc_outdir, exist_ok=True)\n",
    "\n",
    "    #to run rf-count with different settings comment/uncomment commands (and adjust output_dir naming)\n",
    "    \n",
    "    commands.append(f\"{rf_dir}/rf-count -p {num_threads} -mf {primer_mask} -o {rc_outdir}/q22_eq10_ndni -ow -f {reference_fasta} -m -nd -ni -q 22 -eq 10 -mm {bam_file}\")\n",
    "    \n",
    "    #commands.append(f\"{rf_dir}/rf-count -p {num_threads} -mf {primer_mask} -o {rc_outdir}/q22_eq10 -ow -f {reference_fasta} -m -q 22 -eq 10 -mm {bam_file}\")\n",
    "    #commands.append(f\"{rf_dir}/rf-count -p {num_threads} -mf {primer_mask} -o {rc_outdir}/default -ow -f {reference_fasta} -m -mm {bam_file}\")\n",
    "    \n",
    "    command = \"\\n\".join(commands)\n",
    "    \n",
    "    pids[sample] = slurm_rfcount.run(command)\n",
    "    return pids"
   ]
  },
  {
   "cell_type": "code",
   "execution_count": null,
   "id": "7516fc33-d038-4b36-a1c6-51390bb383fc",
   "metadata": {},
   "outputs": [],
   "source": [
    "primer_mask = f\"{data_folder}/references/mask_primers_PCR1_2_3.csv\"\n",
    "for sample in samples:\n",
    "    pids[sample] = {}\n",
    "    for isoform in isoforms:\n",
    "        reference_fasta = f\"{data_folder}/references/transcripts_PCR1/{isoform}.fa\"\n",
    "        \n",
    "        pids = rf_count(rf_dir, data_folder, sample, isoform, reference_fasta, pids)"
   ]
  },
  {
   "cell_type": "code",
   "execution_count": null,
   "id": "262ce77f-d5d2-43dd-beec-3921a32477fd",
   "metadata": {},
   "outputs": [],
   "source": []
  },
  {
   "cell_type": "markdown",
   "id": "a8f5b62f-1f7a-4258-8d01-7ed3e9034768",
   "metadata": {},
   "source": [
    "### rf-norm"
   ]
  },
  {
   "cell_type": "code",
   "execution_count": null,
   "id": "6847b0af-634f-43de-acd5-448ebd0c662b",
   "metadata": {},
   "outputs": [],
   "source": [
    "rfnorm_outdir = f\"{data_folder}/rfnorm/\"\n",
    "os.makedirs(rfnorm_outdir, exist_ok=True)\n",
    "\n",
    "\n",
    "\n",
    "def rf_norm(rf_dir, data_folder, sample, control, isoform, num_threads = 10):\n",
    "    pids = {}\n",
    "    \n",
    "    slurm_rfnorm = Slurm(\"rfnorm\", {\"partition\" : \"cpu\", \"mem\" : \"2G\", \"cpus-per-task\" : num_threads, \"time\" : \"480\",\"mail-type\" : \"FAIL,INVALID_DEPEND\", \"mail-user\" : \"patrick.bohn@helmholtz-hiri.de\"})\n",
    "\n",
    "    commands = []\n",
    "    \n",
    "    #specify the different rf-count outdir names here\n",
    "    for option in [\"q22_eq10_ndni\"]: #[\"q22_eq10_ndni\", \"q22_eq10\", \"default\"]\n",
    "        \n",
    "        #running rfnorm with different reactive nt makes it easier to analyze them afterwards (e.g. for correlation analysis)\n",
    "        for reactive_nt in [\"AC\", \"ACT\"]: #[\"ACGT\", \"AC\", \"ACT\", \"G\"]\n",
    "\n",
    "            rc_file = f\"{data_folder}/rfcount/{sample}/{isoform}/{option}/LAST_MD_sorted.rc\"\n",
    "            \n",
    "            control_rc_file = f\"{data_folder}/rfcount/{control}/{isoform}/{option}/LAST_MD_sorted.rc\"\n",
    "            \n",
    "            rfnorm_outdir = f\"{data_folder}/rfnorm/{sample}/{isoform}/{option}_{reactive_nt}\"\n",
    "            \n",
    "            \n",
    "            #standard procedure is using Siegfried method, which normalizes against control sample. Control vs itself does not work here. \n",
    "            if sample != control:\n",
    "                os.makedirs(rfnorm_outdir, exist_ok=True)\n",
    "                commands.append(f\"{rf_dir}/rf-norm -p {num_threads} -t {rc_file} -u {control_rc_file} -o {rfnorm_outdir} --scoring-method 3 --norm-method 2 -rb {reactive_nt} --max-untreated-mut 0.05 --max-mutation-rate 0.2 --norm-independent -ow\")\n",
    "            \n",
    "            #To get raw reactivities (e.g. for evaluation of total (DMS) mutation rates or signal-to-noise calculation) use the following\n",
    "            \n",
    "            #rfnorm_outdir = f\"{data_folder}/rfnorm/{sample}/{isoform}/{option}_{reactive_nt}_raw\"\n",
    "            #os.makedirs(rfnorm_outdir, exist_ok=True)\n",
    "            #commands.append(f\"{rf_dir}/rf-norm -p {num_threads} -t {rc_file} -o {rfnorm_outdir} --scoring-method 4 -r -rb {reactive_nt} -ow\")\n",
    "\n",
    "    command = \"\\n\".join(commands)\n",
    "    \n",
    "    pid = slurm_rfnorm.run(command)\n",
    "    return pid"
   ]
  },
  {
   "cell_type": "code",
   "execution_count": null,
   "id": "d6d1167f-493a-4830-b4c1-7748e4b0b7e2",
   "metadata": {},
   "outputs": [],
   "source": [
    "for isoform in isoforms:\n",
    "    for sample in samples:\n",
    "        \n",
    "        #rf-norm with Siegfried requires a control sample. Here we assume the sample is structured as following: \n",
    "        #\"{replicate}_{RT_primer}_{DMS_conc}_{localization}\"\n",
    "        #adjust the list index if DMS_conc is at a different position\n",
    "        \n",
    "        split_sample = sample.split(\"_\")\n",
    "        split_sample[2] = \"0mM\"\n",
    "        control = \"_\".join(split_sample)\n",
    "        \n",
    "        pids[f\"rfnorm_{isoform}_{sample}\"] = rf_norm(rf_dir, data_folder, sample, control, isoform)"
   ]
  },
  {
   "cell_type": "markdown",
   "id": "f492ed4c-6674-4eec-a805-4b7846cca41c",
   "metadata": {},
   "source": [
    "### rf-correlate and rf-combine\n",
    "\n",
    "This step combines the data of multiple replicates. The correlation between those replicates (on A,C) is a key quality control metric, without it the interpretation of DMS reactivities is challenging. "
   ]
  },
  {
   "cell_type": "code",
   "execution_count": null,
   "id": "10745a88-108c-47ce-8800-09d9a9571fc5",
   "metadata": {
    "scrolled": true,
    "tags": []
   },
   "outputs": [],
   "source": [
    "os.makedirs(f\"{data_folder}/rfcombine\", exist_ok=True)\n",
    "num_threads = 1\n",
    "slurm_rfco = Slurm(\"rfco\", {\"partition\" : \"cpu\", \"mem\" : \"2G\", \"cpus-per-task\" : num_threads, \"time\" : \"10\",\"mail-type\" : \"FAIL,INVALID_DEPEND\", \"mail-user\" : \"patrick.bohn@helmholtz-hiri.de\"})\n",
    "\n",
    "\n",
    "for isoform in isoforms:\n",
    "    for sample in samples:\n",
    "        \n",
    "        #here we assume that our replicates are named \"Rep[n]\"\n",
    "        \n",
    "        if (\"Rep1\" in sample):\n",
    "            commands = []\n",
    "            \n",
    "            combined_sample = \"_\".join(sample.split(\"_\")[1:])\n",
    "            sample1 = sample\n",
    "            sample2 = sample.replace(\"Rep1\", \"Rep2\")\n",
    "            os.makedirs(f\"{data_folder}/rfcombine/{combined_sample}/{isoform}\", exist_ok=True)\n",
    "            \n",
    "            #specify options again as used in rfcount_outdir \n",
    "            for option in [\"q22_eq10_ndni\"]: #[\"q22_eq10_ndni\", \"q22_eq10\", \"default\"]\n",
    "                \n",
    "                #specify reactive_nt again as in rfnorm\n",
    "                for reactive_nt in [\"AC\", \"ACT\"]: #[\"ACGT\", \"AC\", \"ACT\", \"G\"]\n",
    "                    \n",
    "                    #include \"_raw\" if rfnorm was also run with Zubradt (4)\n",
    "                    for norm_option in [\"\"]: #[\"\", \"_raw\"]\n",
    "                        \n",
    "                        #assumes 2 replicates currently, extend if more\n",
    "                        xml1 = f\"{data_folder}/rfnorm/{sample1}/{isoform}/{option}_{reactive_nt}{norm_option}/{isoform}.xml\"\n",
    "                        xml2 = f\"{data_folder}/rfnorm/{sample2}/{isoform}/{option}_{reactive_nt}{norm_option}/{isoform}.xml\"\n",
    "                        \n",
    "                        if os.path.isfile(xml1) & os.path.isfile(xml2):\n",
    "                        \n",
    "                            xml_combined = f\"{data_folder}/rfcombine/{combined_sample}/{isoform}/{option}_{reactive_nt}{norm_option}/\"\n",
    "                            commands.append(f\"{rf_dir}/rf-combine -d 6 -o {xml_combined} -ow {xml1} {xml2}\")\n",
    "\n",
    "                            outfile = f\"{xml_combined}/correlation.csv\"\n",
    "\n",
    "                            commands.append(f\"{rf_dir}/rf-correlate -o {outfile} -ow {xml1} {xml2}\")\n",
    "            command = \"\\n\".join(commands)\n",
    "            slurm_rfco.run(command)"
   ]
  },
  {
   "cell_type": "markdown",
   "id": "42a52a2a-9eda-40f1-88f8-bcc09acb1d24",
   "metadata": {},
   "source": [
    "# Generate csv and bpseq from xml files\n",
    "\n",
    "RNA-Framework generates an xml file containing the sequence and reactivity scores. To facilitate easier processing with downstream tools, such as Varna and Eternafold, we provide functions to read in the xml file and generate standard csv and Eterna-/Contrafold compatible bpseq (https://github.com/eternagame/EternaFold#chemical-mapping) files. "
   ]
  },
  {
   "cell_type": "code",
   "execution_count": null,
   "id": "31caa184-dd26-4f2c-9219-e7d0befb1893",
   "metadata": {},
   "outputs": [],
   "source": [
    "import xml.etree.ElementTree as ET\n",
    "import numpy as np\n",
    "\n",
    "def read_in_xml(xml_file, sample, with_stdev = False):\n",
    "\n",
    "    tree = ET.parse(xml_file)\n",
    "    root = tree.getroot()\n",
    "    \n",
    "    transcript_id = root[0].attrib[\"id\"]\n",
    "    length = root[0].attrib[\"length\"]\n",
    "    sequence = root[0][0].text.replace(\"\\t\", \"\").replace(\"\\n\", \"\")\n",
    "    reactivity = np.array(root[0][1].text.replace(\"\\t\", \"\").replace(\"\\n\", \"\").split(\",\")).astype(float)\n",
    "    if with_stdev:\n",
    "        stdev = np.array(root[0][2].text.replace(\"\\t\", \"\").replace(\"\\n\", \"\").split(\",\")).astype(float)\n",
    "        return {\"sample\" : sample, \n",
    "            \"transcript_id\" : transcript_id,\n",
    "            \"length\" : length,\n",
    "            \"sequence\" : sequence, \n",
    "            \"reactivity\" : reactivity,\n",
    "            \"stdev\": stdev\n",
    "           }\n",
    "    else:\n",
    "        return {\"sample\" : sample, \n",
    "            \"transcript_id\" : transcript_id,\n",
    "            \"length\" : length,\n",
    "            \"sequence\" : sequence, \n",
    "            \"reactivity\" : reactivity\n",
    "           }\n",
    "    \n",
    "    \n",
    "def convert_xml_to_bpseq(xml_file,outfile):\n",
    "\n",
    "    tmp_data = read_in_xml(xml_file, \"\")\n",
    "\n",
    "    reactivities = tmp_data[\"reactivity\"]\n",
    "    sequence = list(tmp_data[\"sequence\"].replace(\"T\", \"U\"))\n",
    "    \n",
    "    reactivities = np.nan_to_num(reactivities, nan=-1.0)\n",
    "    with open(outfile, \"w+\") as out:\n",
    "        for i in np.arange(1,1+reactivities.shape[0]):\n",
    "            position = int(i)\n",
    "            line = f\"{position} {sequence[position-1]} e1 {reactivities[position-1]}\\n\"\n",
    "            out.write(line)\n",
    "            \n",
    "            \n",
    "#function to help predicting only part of an RNA isoform\n",
    "def convert_xml_to_bpseq_trimmed(xml_file,outfile, length):\n",
    "\n",
    "    tmp_data = read_in_xml(xml_file, \"\")\n",
    "\n",
    "    reactivities = tmp_data[\"reactivity\"][:length]\n",
    "    sequence = list(tmp_data[\"sequence\"].replace(\"T\", \"U\"))[:length]\n",
    "    \n",
    "    reactivities = np.nan_to_num(reactivities, nan=-1.0)\n",
    "    with open(outfile, \"w+\") as out:\n",
    "        for i in np.arange(1,1+reactivities.shape[0]):\n",
    "            position = int(i)\n",
    "            line = f\"{position} {sequence[position-1]} e1 {reactivities[position-1]}\\n\"\n",
    "            out.write(line)"
   ]
  },
  {
   "cell_type": "code",
   "execution_count": null,
   "id": "496f21c7-0a8b-4fd1-8165-589e3a9fb474",
   "metadata": {},
   "outputs": [],
   "source": [
    "# makes similar assumptions as rf-combine above\n",
    "reactivity_dir = f\"{data_folder}/reactivities\"\n",
    "os.makedirs(reactivity_dir, exist_ok=True)\n",
    "\n",
    "for isoform in isoforms:\n",
    "    isoform_reactivity_dir = f\"{reactivity_dir}/{isoform}\"\n",
    "    os.makedirs(isoform_reactivity_dir, exist_ok=True)\n",
    "    for sample in samples:\n",
    "        if (\"Rep1\" in sample):\n",
    "            combined_sample = \"_\".join(sample.split(\"_\")[1:])\n",
    "\n",
    "            for option in [\"q22_eq10_ndni\"]: #[\"q22_eq10_ndni\", \"q22_eq10\", \"default\"]\n",
    "                for reactive_nt in [\"AC\", \"ACT\"]: #[\"ACGT\", \"AC\", \"ACT\", \"G\"]\n",
    "                    for norm_option in [\"\"]: #[\"\", \"_raw\"]\n",
    "                        os.makedirs(f\"{isoform_reactivity_dir}/{isoform}/{option}_{reactive_nt}{norm_option}\", exist_ok=True)\n",
    "                        xml_combined = f\"{data_folder}/rfcombine/{combined_sample}/{isoform}/{option}_{reactive_nt}{norm_option}/{isoform}.xml\"\n",
    "                        if os.path.isfile(xml_combined):\n",
    "                            file = read_in_xml(xml_combined, combined_sample)\n",
    "                            reactivities = file[\"reactivity\"]\n",
    "                            reactivities = np.nan_to_num(reactivities, nan = -1)\n",
    "                            reactivity_file = xml_combined.replace(\".xml\", \".csv\")\n",
    "                            np.savetxt(reactivity_file, reactivities, fmt=\"%6f\")\n",
    "                            bp_file = xml_combined.replace(\".xml\", \".bp2seq\")\n",
    "                            convert_xml_to_bpseq(xml_combined, bp_file)\n",
    "                            !cp {reactivity_file} {isoform_reactivity_dir}/{isoform}/{option}_{reactive_nt}{norm_option}/{combined_sample}.csv\n",
    "                            #lower part is optional, was used to predict HIV-1 unspliced 5' UTR folding\n",
    "                            length = 380\n",
    "                            bp_file = bp_file.replace(\".bp2seq\", f\"_{length}nt.bp2seq\")\n",
    "                            convert_xml_to_bpseq_trimmed(xml_combined,bp_file, length)"
   ]
  },
  {
   "cell_type": "code",
   "execution_count": null,
   "id": "c79169f8-23ef-43d0-88f9-83d2b8642458",
   "metadata": {},
   "outputs": [],
   "source": []
  }
 ],
 "metadata": {
  "kernelspec": {
   "display_name": "Python 3 (ipykernel)",
   "language": "python",
   "name": "python3"
  },
  "language_info": {
   "codemirror_mode": {
    "name": "ipython",
    "version": 3
   },
   "file_extension": ".py",
   "mimetype": "text/x-python",
   "name": "python",
   "nbconvert_exporter": "python",
   "pygments_lexer": "ipython3",
   "version": "3.10.5"
  }
 },
 "nbformat": 4,
 "nbformat_minor": 5
}
