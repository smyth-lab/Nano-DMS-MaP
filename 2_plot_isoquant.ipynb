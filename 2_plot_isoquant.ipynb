{
 "cells": [
  {
   "cell_type": "code",
   "execution_count": 1,
   "id": "5f1b6c1a-fea4-4f3c-b51b-596f02e63294",
   "metadata": {},
   "outputs": [],
   "source": [
    "#plotly libraries\n",
    "import plotly.express as px\n",
    "import plotly.colors as pc\n",
    "import plotly.graph_objects as go\n",
    "import plotly.io as pio\n",
    "\n",
    "\n",
    "#default renderer (svg means very small file size, visibility on github, high quality, but requires sometimes setting height and width)\n",
    "pio.renderers.default = \"svg\"\n",
    "\n",
    "colors = [\"#363b3d\", \"#727b76\", \"#31a240\", \"#f93939\", \"#f79118\", \"#de7b06\", \"#9b308f\", \"#dc759b\"]\n",
    "#additional defaults\n",
    "px.defaults.color_discrete_sequence = [\"rgb(100,100,100)\"] + pc.qualitative.D3\n",
    "px.defaults.width=800\n",
    "px.defaults.height=600\n",
    "\n",
    "#set default template as \"simple_white\" (no background, no grid lines)\n",
    "pio.templates[\"simple_white\"].layout[\"yaxis\"][\"showgrid\"] = True\n",
    "pio.templates.default = \"simple_white\"\n",
    "\n",
    "import numpy as np\n",
    "\n",
    "import sklearn.metrics as metrics\n",
    "import plotly.express as px\n",
    "import plotly.graph_objects as go\n",
    "import pandas as pd\n",
    "from plotly.subplots import make_subplots\n",
    "import plotly.figure_factory as ff\n",
    "\n",
    "colorscale = pc.sequential.Plasma\n",
    "colorscale = [colorscale[0]] + colorscale[3:8]"
   ]
  },
  {
   "cell_type": "markdown",
   "id": "4eaa1008-c430-4b70-8aed-96d2f24947fe",
   "metadata": {},
   "source": [
    "# Plot isoforms per sample"
   ]
  },
  {
   "cell_type": "code",
   "execution_count": 2,
   "id": "9cf4b8c0-a4eb-4708-ab7e-36d7e87155f3",
   "metadata": {},
   "outputs": [],
   "source": [
    "import os\n",
    "figure_dir = \"figures/isoform_expression\"\n",
    "os.makedirs(figure_dir, exist_ok=True)"
   ]
  },
  {
   "cell_type": "code",
   "execution_count": 3,
   "id": "d8427a01-239c-412e-8b60-32d898bb2328",
   "metadata": {},
   "outputs": [],
   "source": [
    "\n",
    "isoforms = [\n",
    "    'RT1_unspliced1', \n",
    "    'RT2_unspliced2', \n",
    "    'RT2_Vif2_RT3_Vif1',\n",
    "    'RT2_Vif3_RT3_Vif6', \n",
    "    'RT2_Vif4_RT3_Vif9', \n",
    "    'RT2_Vif5_RT3_Vif8',\n",
    "    'RT2_Vif7', \n",
    "    \n",
    "    'RT2_Vpr3_RT3_Vpr1', \n",
    "    'RT2_Vpr4_RT3_Vpr2',\n",
    "       \n",
    "    'RT2_Env1_RT3_Nef2', \n",
    "    'RT2_Env9_RT3_Nef4', \n",
    "    'RT2_Env2_RT3_Rev1',\n",
    "    'RT2_Env3_RT3_Rev2', \n",
    "    'RT2_Env17_RT3_Nef9', \n",
    "    'RT2_Env5_RT3_Nef3',\n",
    "    'RT2_Env13_RT3_Nef5', \n",
    "    'RT2_Env18_RT3_Rev13', \n",
    "    'RT2_Env10_RT3_Rev7',\n",
    "    'RT2_Env19_RT3_Nef12', \n",
    "    'RT2_Env11_RT3_Rev8', \n",
    "    'RT2_Env14_RT3_Rev10',\n",
    "    'RT2_Env15_RT3_Rev11', \n",
    "    'RT2_Env12_RT3_Rev9', \n",
    "    'RT2_Env6_RT3_Rev4',\n",
    "    'RT2_Env7_RT3_Rev5', \n",
    "    'RT2_Env4_RT3_Rev3', \n",
    "    'RT2_Env8_RT3_Rev6',\n",
    "    'RT2_Env20_RT3_Nef11', \n",
    "    \n",
    "    'RT2_Tat5_RT3_Tat1', \n",
    "    'RT2_Tat6_RT3_Tat2',\n",
    "    'RT2_Tat7_RT3_Tat3', \n",
    "    'RT2_Tat8_RT3_Tat4', \n",
    "    'RT2_Tat12_RT3_Tat9',\n",
    "    'RT3_Tat10', \n",
    "    'RT3_Tat11', \n",
    "    'RT3_Tat13', \n",
    "    'RT3_Tat15', \n",
    "    'RT3_Tat16',\n",
    "    \n",
    "    'RT3_Rev12', \n",
    "    \n",
    "    'RT3_Nef16', \n",
    "    'RT3_Nef15', \n",
    "    'RT3_Nef19', \n",
    "    'RT3_Nef20',\n",
    "    'RT3_Nef22', \n",
    "    'RT3_Nef23', \n",
    "    \n",
    "    'RT3_sORF1', \n",
    "    'RT3_sORF3']\n",
    "\n",
    "\n",
    "isoform_colors_RT2 = {\n",
    "    \" \"  : \"white\",\n",
    "    \"unspliced\" : \"grey\",\n",
    " 'RT1_unspliced1': \"black\",\n",
    " 'RT2_unspliced2': \"black\",\n",
    "\n",
    " 'RT2_Env1_RT3_Nef2': \"rgb(26,82,118)\",\n",
    " 'RT2_Env2_RT3_Rev1': \"rgb(31,97,141)\",\n",
    " 'RT2_Env3_RT3_Rev2': \"rgb(36,113,163)\",\n",
    " 'RT2_Env4_RT3_Rev3': \"rgb(41,128,185)\", \n",
    " 'RT2_Env5_RT3_Nef3': \"rgb(84,153,199)\",\n",
    " 'RT2_Env6_RT3_Rev4': \"rgb(127,179,213)\",\n",
    " 'RT2_Env7_RT3_Rev5': \"rgb(169,204,227)\", \n",
    " 'RT2_Env8_RT3_Rev6': \"rgb(27,79,114)\",\n",
    " 'RT2_Env9_RT3_Nef4': \"rgb(33,97,140)\",\n",
    " 'RT2_Env10_RT3_Rev7': \"rgb(40,116,166)\",\n",
    " 'RT2_Env11_RT3_Rev8': \"rgb(46,134,163)\",\n",
    " 'RT2_Env12_RT3_Rev9': \"rgb(52,152,219)\", \n",
    " 'RT2_Env13_RT3_Nef5': \"rgb(93,173,226)\",\n",
    " 'RT2_Env14_RT3_Rev10': \"rgb(133,193,233)\",\n",
    " 'RT2_Env15_RT3_Rev11': \"rgb(174,214,241)\",\n",
    " 'RT2_Env17_RT3_Nef9': \"rgb(84,153,199)\",\n",
    " 'RT2_Env18_RT3_Rev13': \"rgb(127,179,213)\",\n",
    " 'RT2_Env19_RT3_Nef12': \"rgb(169,204,224)\",\n",
    " 'RT2_Env20_RT3_Nef11': \"rgb(174,214,241)\", \n",
    "    \n",
    " 'RT3_Nef16': \"grey\",\n",
    "    'RT3_Nef15': \"grey\", \n",
    "    'RT3_Nef19': \"grey\", \n",
    "    'RT3_Nef20': \"grey\",\n",
    "    'RT3_Nef22': \"grey\", \n",
    "    'RT3_Nef23': \"grey\", \n",
    "\n",
    "    'RT3_Rev12':\"grey\", \n",
    "\n",
    " 'RT2_Tat5_RT3_Tat1': \"rgb(207,87,161)\",\n",
    " 'RT2_Tat6_RT3_Tat2': \"rgb(217,144,188)\",\n",
    " 'RT2_Tat7_RT3_Tat3': \"rgb(237,206,228)\",\n",
    " 'RT2_Tat8_RT3_Tat4': \"rgb(221,168,200)\",\n",
    " 'RT2_Tat12_RT3_Tat9': \"rgb(229,186,216)\",\n",
    "\n",
    "    'RT3_Tat10': \"grey\", \n",
    "    'RT3_Tat11': \"grey\", \n",
    "    'RT3_Tat13': \"grey\", \n",
    "    'RT3_Tat15': \"grey\", \n",
    "    'RT3_Tat16': \"grey\",\n",
    "    \n",
    " 'RT2_Vif2_RT3_Vif1': \"rgb(96,22,135)\",\n",
    " 'RT2_Vif3_RT3_Vif6': \"rgb(141,74,176)\",\n",
    " 'RT2_Vif4_RT3_Vif9': \"rgb(170,89,212)\",\n",
    " 'RT2_Vif5_RT3_Vif8': \"rgb(204,108,255)\",\n",
    "    'RT2_Vif7':\"rgb(142,68,173)\",\n",
    "    \n",
    " 'RT2_Vpr3_RT3_Vpr1': \"rgb(168,30,45)\",\n",
    " 'RT2_Vpr4_RT3_Vpr2': \"rgb(192,98,106)\",\n",
    "\n",
    " 'RT3_sORF1': \"rgb(177,153,109)\",\n",
    " 'RT3_sORF3': \"rgb(157,138,109)\",\n",
    "}\n",
    "\n",
    "\n",
    "isoform_colors_RT3 = {\n",
    " 'RT1_unspliced1': \"black\",\n",
    " 'RT2_unspliced2': \"black\",\n",
    "\n",
    "    \"Nef\" : \"green\",\n",
    " 'RT2_Env1_RT3_Nef2': \"rgb(17,120,100)\",\n",
    " 'RT2_Env5_RT3_Nef3': \"rgb(20,143,119)\",\n",
    " 'RT2_Env9_RT3_Nef4': \"rgb(23,165,137)\",\n",
    " 'RT2_Env13_RT3_Nef5': \"rgb(26,188,156)\",\n",
    " 'RT2_Env17_RT3_Nef9': \"rgb(72,201,176)\",\n",
    " 'RT2_Env20_RT3_Nef11': \"rgb(118,215,196)\", \n",
    " 'RT2_Env19_RT3_Nef12': \"rgb(163,228,215)\",\n",
    " 'RT3_Nef15': \"rgb(29,131,72)\", \n",
    " 'RT3_Nef16': \"rgb(35,155,86)\",\n",
    " 'RT3_Nef19': \"rgb(40,180,99)\", \n",
    " 'RT3_Nef20': \"rgb(46,204,113)\",\n",
    " 'RT3_Nef22': \"rgb(88,214,141)\", \n",
    " 'RT3_Nef23': \"rgb(130,224,170)\", \n",
    "\n",
    " 'RT2_Env2_RT3_Rev1': \"rgb(147,81,22)\",\n",
    " 'RT2_Env3_RT3_Rev2': \"rgb(175,96,26)\",\n",
    " 'RT2_Env4_RT3_Rev3': \"rgb(202,111,30)\",\n",
    " 'RT2_Env6_RT3_Rev4': \"rgb(230,126,34)\",\n",
    " 'RT2_Env7_RT3_Rev5': \"rgb(235,152,78)\",\n",
    " 'RT2_Env8_RT3_Rev6': \"rgb(240,178,122)\",\n",
    " 'RT2_Env10_RT3_Rev7': \"rgb(185,119,14)\",\n",
    " 'RT2_Env11_RT3_Rev8': \"rgb(214,137,16)\",\n",
    " 'RT2_Env12_RT3_Rev9': \"rgb(243,156,18)\",\n",
    " 'RT2_Env14_RT3_Rev10': \"rgb(245,176,65)\",\n",
    " 'RT2_Env15_RT3_Rev11': \"rgb(248,180,113)\",\n",
    " 'RT3_Rev12': \"rgb(246,221,204)\", \n",
    " 'RT2_Env18_RT3_Rev13': \"rgb(250,215,160)\",\n",
    " \n",
    "    \n",
    " 'RT2_Tat5_RT3_Tat1': \"rgb(207,87,161)\",\n",
    " 'RT2_Tat6_RT3_Tat2': \"rgb(217,144,188)\",\n",
    " 'RT2_Tat7_RT3_Tat3': \"rgb(237,206,228)\",\n",
    " 'RT2_Tat8_RT3_Tat4': \"rgb(221,168,200)\",\n",
    " 'RT2_Tat12_RT3_Tat9': \"rgb(229,186,216)\",\n",
    "\n",
    " 'RT3_Tat10': \"rgb(240,98,146)\", \n",
    " 'RT3_Tat11': \"rgb(244,143,177)\", \n",
    " 'RT3_Tat13': \"rgb(248,187,208)\", \n",
    " 'RT3_Tat15': \"rgb(252,200,215)\", \n",
    " 'RT3_Tat16': \"rgb(252,228,236)\",\n",
    "    \n",
    " 'RT2_Vif2_RT3_Vif1': \"rgb(96,22,135)\",\n",
    " 'RT2_Vif3_RT3_Vif6': \"rgb(141,74,176)\",\n",
    " 'RT2_Vif4_RT3_Vif9': \"rgb(170,89,212)\",\n",
    " 'RT2_Vif5_RT3_Vif8': \"rgb(204,108,255)\",\n",
    " 'RT2_Vif7' : \"grey\",\n",
    " 'RT2_Vpr3_RT3_Vpr1': \"rgb(168,30,45)\",\n",
    " 'RT2_Vpr4_RT3_Vpr2': \"rgb(192,98,106)\",\n",
    "\n",
    " 'RT3_sORF1': \"rgb(177,153,109)\",\n",
    " 'RT3_sORF3': \"rgb(157,138,109)\",\n",
    "}"
   ]
  },
  {
   "cell_type": "code",
   "execution_count": 4,
   "id": "ea5cf602-346a-46fb-bf2e-95a7ce21b31e",
   "metadata": {},
   "outputs": [],
   "source": [
    "order_dict = {\n",
    "    \"DMS_conc\" : [f\"{i}mM\" for i in [0,8,17,34,57,85]],\n",
    "    \"isoform\" : isoforms\n",
    "}"
   ]
  },
  {
   "cell_type": "code",
   "execution_count": 5,
   "id": "ca8db971-b30a-46fb-a7e3-c426cedd4fb7",
   "metadata": {},
   "outputs": [],
   "source": [
    "data_folder = f\"{os.getcwd()}/data\""
   ]
  },
  {
   "cell_type": "markdown",
   "id": "36b6238e-e4b7-42d8-aa90-6a1faba2b2cd",
   "metadata": {},
   "source": [
    "# Get sample names"
   ]
  },
  {
   "cell_type": "code",
   "execution_count": 6,
   "id": "25f7f4bb-e2a5-480b-8a31-1f2086046d45",
   "metadata": {},
   "outputs": [
    {
     "data": {
      "text/plain": [
       "array(['Nanopore_HIV1_Rep1_RT-US_0mM_cell',\n",
       "       'Nanopore_HIV1_Rep1_RT-US_57mM_cell',\n",
       "       'Nanopore_HIV1_Rep1_RT-US_85mM_cell',\n",
       "       'Nanopore_HIV1_Rep2_RT-US_0mM_cell',\n",
       "       'Nanopore_HIV1_Rep2_RT-US_57mM_cell',\n",
       "       'Nanopore_HIV1_Rep2_RT-US_85mM_cell',\n",
       "       'Nanopore_HIV1_Rep1_RT-FS_0mM_cell',\n",
       "       'Nanopore_HIV1_Rep1_RT-FS_57mM_cell',\n",
       "       'Nanopore_HIV1_Rep1_RT-FS_85mM_cell',\n",
       "       'Nanopore_HIV1_Rep2_RT-FS_0mM_cell',\n",
       "       'Nanopore_HIV1_Rep2_RT-FS_57mM_cell',\n",
       "       'Nanopore_HIV1_Rep2_RT-FS_85mM_cell'], dtype=object)"
      ]
     },
     "execution_count": 6,
     "metadata": {},
     "output_type": "execute_result"
    }
   ],
   "source": [
    "import pandas as pd\n",
    "samplesheet = pd.read_excel(\"Samplesheet_example.xlsx\", engine=\"openpyxl\")\n",
    "samples = samplesheet[\"sample\"].values\n",
    "samples"
   ]
  },
  {
   "cell_type": "code",
   "execution_count": 8,
   "id": "24aed74a-719b-4d1c-815e-10db780fe6dd",
   "metadata": {},
   "outputs": [],
   "source": [
    "# adjust this function to your naming scheme. Splitting the name into its separate parts allows for straightforward plotting of comparisons\n",
    "\n",
    "def split_unique_name(df, unique_name_column = \"unique_name\"):\n",
    "    df[\"replicate\"] = df[unique_name_column].apply(lambda x: x.split(\"_\")[2])\n",
    "    df[\"RT\"] = df[unique_name_column].apply(lambda x: x.split(\"_\")[3])\n",
    "    df[\"DMS_conc\"] = df[unique_name_column].apply(lambda x: x.split(\"_\")[4])\n",
    "    df[\"rep_and_DMS\"] = df[\"replicate\"] + \"_\" + df[\"DMS_conc\"]\n",
    "    df[\"RT_and_DMS\"] = df[\"RT\"] + \"_\" + df[\"DMS_conc\"]\n",
    "    df[\"DMS_conc\"] = df[\"DMS_conc\"].astype(\"category\")\n",
    "    \n",
    "    return df"
   ]
  },
  {
   "cell_type": "markdown",
   "id": "7a634440-86e1-410d-ab99-d0a9c830d395",
   "metadata": {},
   "source": [
    "# Read in isoquant output"
   ]
  },
  {
   "cell_type": "code",
   "execution_count": 9,
   "id": "5bc0c1a1-d55a-42a1-b916-810418fe4401",
   "metadata": {},
   "outputs": [],
   "source": [
    "# reading in from isoquant output\n",
    "tmp_data = []\n",
    "for sample in samples:\n",
    "    tmp_df = pd.read_csv(f\"{data_folder}/isoquant/{sample}/{sample}.read_assignments.tsv\", sep=\"\\t\", skiprows=2)\n",
    "    tmp_df[\"sample\"] = sample\n",
    "    tmp_data.append(tmp_df)\n",
    "read_assignment_df = pd.concat(tmp_data)"
   ]
  },
  {
   "cell_type": "code",
   "execution_count": 10,
   "id": "e50967af-6117-4761-b579-39bb0021807c",
   "metadata": {},
   "outputs": [],
   "source": [
    "read_assignment_df = read_assignment_df.rename(columns={\"#read_id\" :\"read_id\"})"
   ]
  },
  {
   "cell_type": "code",
   "execution_count": 11,
   "id": "45b88083-a25b-4e5c-91c4-9e6c8636a84f",
   "metadata": {},
   "outputs": [],
   "source": [
    "# To decrease time it takes to load data you can store the dataframe on disk\n",
    "\n",
    "#this is the dataframe that is used in notebook 1\n",
    "read_assignment_df.to_pickle(f\"{data_folder}/isoquant/read_assignments.pickle.gz\")"
   ]
  },
  {
   "cell_type": "code",
   "execution_count": 13,
   "id": "f9b24816-9d9a-4e47-82b8-bc3a10e5496c",
   "metadata": {},
   "outputs": [],
   "source": [
    "# if already stored on disk\n",
    "read_assignment_df = pd.read_pickle(f\"{data_folder}/isoquant/read_assignments.pickle.gz\")"
   ]
  },
  {
   "cell_type": "markdown",
   "id": "fd82cbb5-e4e4-4811-9340-29630b9a8abb",
   "metadata": {},
   "source": [
    "# Take per read information to calculate assignment types"
   ]
  },
  {
   "cell_type": "code",
   "execution_count": 89,
   "id": "a534e1b7-b86d-4ec2-b6f9-80f700c8d1ae",
   "metadata": {},
   "outputs": [],
   "source": [
    "order = {\"assignment_type\" : [\"unique\", \"unique_minor_difference\", \"ambiguous\", \"inconsistent\", \"noninformative\"],\n",
    "         \"DMS_conc\" : [f\"{i}mM\" for i in [0,8,17,34,57,85]]}\n"
   ]
  },
  {
   "cell_type": "markdown",
   "id": "42dc7524-20da-4977-a13e-73f33d03060b",
   "metadata": {},
   "source": [
    "## Plot individual read assignments"
   ]
  },
  {
   "cell_type": "code",
   "execution_count": 104,
   "id": "afa1281d-1608-4bbc-9e1a-55d72ce67c78",
   "metadata": {},
   "outputs": [],
   "source": [
    "# it is important here to drop duplicates of read_id + assignment_type, because ambigously assigned reads appear multiple times\n",
    "\n",
    "assignment_counts = read_assignment_df[[\"read_id\", \"assignment_type\", \"sample\"]].drop_duplicates().groupby(\"sample\")[\"assignment_type\"].value_counts().reset_index(name=\"count\")\n",
    "assignment_counts = split_unique_name(assignment_counts, unique_name_column = \"sample\")\n",
    "total_count_dict = assignment_counts.groupby(\"sample\")[\"count\"].sum().to_dict()\n",
    "\n",
    "assignment_counts[\"percent\"] = assignment_counts.apply(lambda x: 100*x[\"count\"]/(total_count_dict[x[\"sample\"]]), axis=1)"
   ]
  },
  {
   "cell_type": "code",
   "execution_count": 105,
   "id": "628b2f95-37fc-41d7-b8a5-81ea589eb4c5",
   "metadata": {},
   "outputs": [],
   "source": [
    "os.makedirs(\"figures/isoform_expression\", exist_ok=True)"
   ]
  },
  {
   "cell_type": "code",
   "execution_count": 106,
   "id": "8ccb614a-5c58-440c-a7ff-43eaf5c13aa0",
   "metadata": {},
   "outputs": [
    {
     "data": {
      "image/svg+xml": [
       "<svg class=\"main-svg\" xmlns=\"http://www.w3.org/2000/svg\" xmlns:xlink=\"http://www.w3.org/1999/xlink\" width=\"600\" height=\"400\" style=\"\" viewBox=\"0 0 600 400\"><rect x=\"0\" y=\"0\" width=\"600\" height=\"400\" style=\"fill: rgb(255, 255, 255); fill-opacity: 1;\"/><defs id=\"defs-1aa160\"><g class=\"clips\"><clipPath id=\"clip1aa160xyplot\" class=\"plotclip\"><rect width=\"158.76\" height=\"213\"/></clipPath><clipPath id=\"clip1aa160x2y2plot\" class=\"plotclip\"><rect width=\"158.76\" height=\"213\"/></clipPath><clipPath class=\"axesclip\" id=\"clip1aa160x\"><rect x=\"80\" y=\"0\" width=\"158.76\" height=\"400\"/></clipPath><clipPath class=\"axesclip\" id=\"clip1aa160y\"><rect x=\"0\" y=\"60\" width=\"600\" height=\"213\"/></clipPath><clipPath class=\"axesclip\" id=\"clip1aa160xy\"><rect x=\"80\" y=\"60\" width=\"158.76\" height=\"213\"/></clipPath><clipPath class=\"axesclip\" id=\"clip1aa160y2\"><rect x=\"0\" y=\"60\" width=\"600\" height=\"213\"/></clipPath><clipPath class=\"axesclip\" id=\"clip1aa160xy2\"><rect x=\"80\" y=\"60\" width=\"158.76\" height=\"213\"/></clipPath><clipPath class=\"axesclip\" id=\"clip1aa160x2\"><rect x=\"245.24\" y=\"0\" width=\"158.76\" height=\"400\"/></clipPath><clipPath class=\"axesclip\" id=\"clip1aa160x2y\"><rect x=\"245.24\" y=\"60\" width=\"158.76\" height=\"213\"/></clipPath><clipPath class=\"axesclip\" id=\"clip1aa160x2y2\"><rect x=\"245.24\" y=\"60\" width=\"158.76\" height=\"213\"/></clipPath></g><g class=\"gradients\"/><g class=\"patterns\"/></defs><g class=\"bglayer\"/><g class=\"layer-below\"><g class=\"imagelayer\"/><g class=\"shapelayer\"/></g><g class=\"cartesianlayer\"><g class=\"subplot xy\"><g class=\"layer-subplot\"><g class=\"shapelayer\"/><g class=\"imagelayer\"/></g><g class=\"minor-gridlayer\"><g class=\"x\"/><g class=\"y\"/></g><g class=\"gridlayer\"><g class=\"x\"/><g class=\"y\"><path class=\"ygrid crisp\" transform=\"translate(0,227.61)\" d=\"M80,0h158.76\" style=\"stroke: rgb(232, 232, 232); stroke-opacity: 1; stroke-width: 1px;\"/><path class=\"ygrid crisp\" transform=\"translate(0,182.22)\" d=\"M80,0h158.76\" style=\"stroke: rgb(232, 232, 232); stroke-opacity: 1; stroke-width: 1px;\"/><path class=\"ygrid crisp\" transform=\"translate(0,136.82999999999998)\" d=\"M80,0h158.76\" style=\"stroke: rgb(232, 232, 232); stroke-opacity: 1; stroke-width: 1px;\"/><path class=\"ygrid crisp\" transform=\"translate(0,91.43)\" d=\"M80,0h158.76\" style=\"stroke: rgb(232, 232, 232); stroke-opacity: 1; stroke-width: 1px;\"/></g></g><g class=\"zerolinelayer\"/><path class=\"xlines-below\"/><path class=\"ylines-below\"/><g class=\"overlines-below\"/><g class=\"xaxislayer-below\"/><g class=\"yaxislayer-below\"/><g class=\"overaxes-below\"/><g class=\"plot\" transform=\"translate(80,60)\" clip-path=\"url(#clip1aa160xyplot)\"><g class=\"barlayer mlayer\"><g class=\"trace bars\" shape-rendering=\"crispEdges\" style=\"opacity: 1;\"><g class=\"points\"><g class=\"point\"><path d=\"M2.65,213V102.59H23.81V213Z\" style=\"vector-effect: non-scaling-stroke; opacity: 1; stroke-width: 1px; fill: rgb(100, 100, 100); fill-opacity: 1; stroke: rgb(0, 0, 0); stroke-opacity: 1;\"/></g><g class=\"point\"><path d=\"M29.11,213V61.71H50.27V213Z\" style=\"vector-effect: non-scaling-stroke; opacity: 1; stroke-width: 1px; fill: rgb(100, 100, 100); fill-opacity: 1; stroke: rgb(0, 0, 0); stroke-opacity: 1;\"/></g><g class=\"point\"><path d=\"M55.57,213V48.61H76.73V213Z\" style=\"vector-effect: non-scaling-stroke; opacity: 1; stroke-width: 1px; fill: rgb(100, 100, 100); fill-opacity: 1; stroke: rgb(0, 0, 0); stroke-opacity: 1;\"/></g><g class=\"point\"><path d=\"M82.03,213V181.92H103.19V213Z\" style=\"vector-effect: non-scaling-stroke; opacity: 1; stroke-width: 1px; fill: rgb(100, 100, 100); fill-opacity: 1; stroke: rgb(0, 0, 0); stroke-opacity: 1;\"/></g><g class=\"point\"><path d=\"M108.49,213V170.93H129.65V213Z\" style=\"vector-effect: non-scaling-stroke; opacity: 1; stroke-width: 1px; fill: rgb(100, 100, 100); fill-opacity: 1; stroke: rgb(0, 0, 0); stroke-opacity: 1;\"/></g><g class=\"point\"><path d=\"M134.95,213V148.26H156.11V213Z\" style=\"vector-effect: non-scaling-stroke; opacity: 1; stroke-width: 1px; fill: rgb(100, 100, 100); fill-opacity: 1; stroke: rgb(0, 0, 0); stroke-opacity: 1;\"/></g></g></g><g class=\"trace bars\" shape-rendering=\"crispEdges\" style=\"opacity: 1;\"><g class=\"points\"><g class=\"point\"><path d=\"M2.65,102.59V101.7H23.81V102.59Z\" style=\"vector-effect: non-scaling-stroke; opacity: 1; stroke-width: 1px; fill: rgb(31, 119, 180); fill-opacity: 1; stroke: rgb(0, 0, 0); stroke-opacity: 1;\"/></g><g class=\"point\"><path d=\"M29.11,61.71V60.81H50.27V61.71Z\" style=\"vector-effect: non-scaling-stroke; opacity: 1; stroke-width: 1px; fill: rgb(31, 119, 180); fill-opacity: 1; stroke: rgb(0, 0, 0); stroke-opacity: 1;\"/></g><g class=\"point\"><path d=\"M55.57,48.61V47.63H76.73V48.61Z\" style=\"vector-effect: non-scaling-stroke; opacity: 1; stroke-width: 1px; fill: rgb(31, 119, 180); fill-opacity: 1; stroke: rgb(0, 0, 0); stroke-opacity: 1;\"/></g><g class=\"point\"><path d=\"M82.03,181.92V181.82H103.19V181.92Z\" style=\"vector-effect: non-scaling-stroke; opacity: 1; stroke-width: 1px; fill: rgb(31, 119, 180); fill-opacity: 1; stroke: rgb(0, 0, 0); stroke-opacity: 1;\"/></g><g class=\"point\"><path d=\"M108.49,170.93V170.85H129.65V170.93Z\" style=\"vector-effect: non-scaling-stroke; opacity: 1; stroke-width: 1px; fill: rgb(31, 119, 180); fill-opacity: 1; stroke: rgb(0, 0, 0); stroke-opacity: 1;\"/></g><g class=\"point\"><path d=\"M134.95,148.26V148.18H156.11V148.26Z\" style=\"vector-effect: non-scaling-stroke; opacity: 1; stroke-width: 1px; fill: rgb(31, 119, 180); fill-opacity: 1; stroke: rgb(0, 0, 0); stroke-opacity: 1;\"/></g></g></g><g class=\"trace bars\" shape-rendering=\"crispEdges\" style=\"opacity: 1;\"><g class=\"points\"><g class=\"point\"><path d=\"M2.65,101.7V80.71H23.81V101.7Z\" style=\"vector-effect: non-scaling-stroke; opacity: 1; stroke-width: 1px; fill: rgb(255, 127, 14); fill-opacity: 1; stroke: rgb(0, 0, 0); stroke-opacity: 1;\"/></g><g class=\"point\"><path d=\"M29.11,60.81V32.66H50.27V60.81Z\" style=\"vector-effect: non-scaling-stroke; opacity: 1; stroke-width: 1px; fill: rgb(255, 127, 14); fill-opacity: 1; stroke: rgb(0, 0, 0); stroke-opacity: 1;\"/></g><g class=\"point\"><path d=\"M55.57,47.63V14.74H76.73V47.63Z\" style=\"vector-effect: non-scaling-stroke; opacity: 1; stroke-width: 1px; fill: rgb(255, 127, 14); fill-opacity: 1; stroke: rgb(0, 0, 0); stroke-opacity: 1;\"/></g><g class=\"point\"><path d=\"M82.03,181.82V179.3H103.19V181.82Z\" style=\"vector-effect: non-scaling-stroke; opacity: 1; stroke-width: 1px; fill: rgb(255, 127, 14); fill-opacity: 1; stroke: rgb(0, 0, 0); stroke-opacity: 1;\"/></g><g class=\"point\"><path d=\"M108.49,170.85V168.58H129.65V170.85Z\" style=\"vector-effect: non-scaling-stroke; opacity: 1; stroke-width: 1px; fill: rgb(255, 127, 14); fill-opacity: 1; stroke: rgb(0, 0, 0); stroke-opacity: 1;\"/></g><g class=\"point\"><path d=\"M134.95,148.18V144.63H156.11V148.18Z\" style=\"vector-effect: non-scaling-stroke; opacity: 1; stroke-width: 1px; fill: rgb(255, 127, 14); fill-opacity: 1; stroke: rgb(0, 0, 0); stroke-opacity: 1;\"/></g></g></g><g class=\"trace bars\" shape-rendering=\"crispEdges\" style=\"opacity: 1;\"><g class=\"points\"><g class=\"point\"><path d=\"M2.65,80.71V77.16H23.81V80.71Z\" style=\"vector-effect: non-scaling-stroke; opacity: 1; stroke-width: 1px; fill: rgb(44, 160, 44); fill-opacity: 1; stroke: rgb(0, 0, 0); stroke-opacity: 1;\"/></g><g class=\"point\"><path d=\"M29.11,32.66V29.15H50.27V32.66Z\" style=\"vector-effect: non-scaling-stroke; opacity: 1; stroke-width: 1px; fill: rgb(44, 160, 44); fill-opacity: 1; stroke: rgb(0, 0, 0); stroke-opacity: 1;\"/></g><g class=\"point\"><path d=\"M55.57,14.74V11.52H76.73V14.74Z\" style=\"vector-effect: non-scaling-stroke; opacity: 1; stroke-width: 1px; fill: rgb(44, 160, 44); fill-opacity: 1; stroke: rgb(0, 0, 0); stroke-opacity: 1;\"/></g><g class=\"point\"><path d=\"M82.03,179.3V175.71H103.19V179.3Z\" style=\"vector-effect: non-scaling-stroke; opacity: 1; stroke-width: 1px; fill: rgb(44, 160, 44); fill-opacity: 1; stroke: rgb(0, 0, 0); stroke-opacity: 1;\"/></g><g class=\"point\"><path d=\"M108.49,168.58V166.29H129.65V168.58Z\" style=\"vector-effect: non-scaling-stroke; opacity: 1; stroke-width: 1px; fill: rgb(44, 160, 44); fill-opacity: 1; stroke: rgb(0, 0, 0); stroke-opacity: 1;\"/></g><g class=\"point\"><path d=\"M134.95,144.63V141.83H156.11V144.63Z\" style=\"vector-effect: non-scaling-stroke; opacity: 1; stroke-width: 1px; fill: rgb(44, 160, 44); fill-opacity: 1; stroke: rgb(0, 0, 0); stroke-opacity: 1;\"/></g></g></g><g class=\"trace bars\" shape-rendering=\"crispEdges\" style=\"opacity: 1;\"><g class=\"points\"><g class=\"point\"><path d=\"M2.65,77.16V70.99H23.81V77.16Z\" style=\"vector-effect: non-scaling-stroke; opacity: 1; stroke-width: 1px; fill: rgb(214, 39, 40); fill-opacity: 1; stroke: rgb(0, 0, 0); stroke-opacity: 1;\"/></g><g class=\"point\"><path d=\"M29.11,29.15V27.89H50.27V29.15Z\" style=\"vector-effect: non-scaling-stroke; opacity: 1; stroke-width: 1px; fill: rgb(214, 39, 40); fill-opacity: 1; stroke: rgb(0, 0, 0); stroke-opacity: 1;\"/></g><g class=\"point\"><path d=\"M55.57,11.52V10.73H76.73V11.52Z\" style=\"vector-effect: non-scaling-stroke; opacity: 1; stroke-width: 1px; fill: rgb(214, 39, 40); fill-opacity: 1; stroke: rgb(0, 0, 0); stroke-opacity: 1;\"/></g><g class=\"point\"><path d=\"M82.03,175.71V173.36H103.19V175.71Z\" style=\"vector-effect: non-scaling-stroke; opacity: 1; stroke-width: 1px; fill: rgb(214, 39, 40); fill-opacity: 1; stroke: rgb(0, 0, 0); stroke-opacity: 1;\"/></g><g class=\"point\"><path d=\"M108.49,166.29V165.69H129.65V166.29Z\" style=\"vector-effect: non-scaling-stroke; opacity: 1; stroke-width: 1px; fill: rgb(214, 39, 40); fill-opacity: 1; stroke: rgb(0, 0, 0); stroke-opacity: 1;\"/></g><g class=\"point\"><path d=\"M134.95,141.83V141.35H156.11V141.83Z\" style=\"vector-effect: non-scaling-stroke; opacity: 1; stroke-width: 1px; fill: rgb(214, 39, 40); fill-opacity: 1; stroke: rgb(0, 0, 0); stroke-opacity: 1;\"/></g></g></g></g></g><g class=\"overplot\"/><path class=\"xlines-above crisp\" d=\"M79,273.5H238.76\" style=\"fill: none; stroke-width: 1px; stroke: rgb(36, 36, 36); stroke-opacity: 1;\"/><path class=\"ylines-above crisp\" d=\"M79.5,60V273\" style=\"fill: none; stroke-width: 1px; stroke: rgb(36, 36, 36); stroke-opacity: 1;\"/><g class=\"overlines-above\"/><g class=\"xaxislayer-above\"><path class=\"xtick ticks crisp\" d=\"M0,274v5\" transform=\"translate(93.23,0)\" style=\"stroke: rgb(68, 68, 68); stroke-opacity: 1; stroke-width: 1px;\"/><path class=\"xtick ticks crisp\" d=\"M0,274v5\" transform=\"translate(119.69,0)\" style=\"stroke: rgb(68, 68, 68); stroke-opacity: 1; stroke-width: 1px;\"/><path class=\"xtick ticks crisp\" d=\"M0,274v5\" transform=\"translate(146.15,0)\" style=\"stroke: rgb(68, 68, 68); stroke-opacity: 1; stroke-width: 1px;\"/><path class=\"xtick ticks crisp\" d=\"M0,274v5\" transform=\"translate(172.61,0)\" style=\"stroke: rgb(68, 68, 68); stroke-opacity: 1; stroke-width: 1px;\"/><path class=\"xtick ticks crisp\" d=\"M0,274v5\" transform=\"translate(199.07,0)\" style=\"stroke: rgb(68, 68, 68); stroke-opacity: 1; stroke-width: 1px;\"/><path class=\"xtick ticks crisp\" d=\"M0,274v5\" transform=\"translate(225.53,0)\" style=\"stroke: rgb(68, 68, 68); stroke-opacity: 1; stroke-width: 1px;\"/><g class=\"xtick\"><text text-anchor=\"start\" x=\"0\" y=\"293.4\" transform=\"translate(93.23,0) rotate(90,0,287.4)\" style=\"font-family: 'Open Sans', verdana, arial, sans-serif; font-size: 12px; fill: rgb(36, 36, 36); fill-opacity: 1; white-space: pre; opacity: 1;\">RT-FS_0mM</text></g><g class=\"xtick\"><text text-anchor=\"start\" x=\"0\" y=\"293.4\" transform=\"translate(119.69,0) rotate(90,0,287.4)\" style=\"font-family: 'Open Sans', verdana, arial, sans-serif; font-size: 12px; fill: rgb(36, 36, 36); fill-opacity: 1; white-space: pre; opacity: 1;\">RT-FS_57mM</text></g><g class=\"xtick\"><text text-anchor=\"start\" x=\"0\" y=\"293.4\" transform=\"translate(146.15,0) rotate(90,0,287.4)\" style=\"font-family: 'Open Sans', verdana, arial, sans-serif; font-size: 12px; fill: rgb(36, 36, 36); fill-opacity: 1; white-space: pre; opacity: 1;\">RT-FS_85mM</text></g><g class=\"xtick\"><text text-anchor=\"start\" x=\"0\" y=\"293.4\" transform=\"translate(172.61,0) rotate(90,0,287.4)\" style=\"font-family: 'Open Sans', verdana, arial, sans-serif; font-size: 12px; fill: rgb(36, 36, 36); fill-opacity: 1; white-space: pre; opacity: 1;\">RT-US_0mM</text></g><g class=\"xtick\"><text text-anchor=\"start\" x=\"0\" y=\"293.4\" transform=\"translate(199.07,0) rotate(90,0,287.4)\" style=\"font-family: 'Open Sans', verdana, arial, sans-serif; font-size: 12px; fill: rgb(36, 36, 36); fill-opacity: 1; white-space: pre; opacity: 1;\">RT-US_57mM</text></g><g class=\"xtick\"><text text-anchor=\"start\" x=\"0\" y=\"293.4\" transform=\"translate(225.53,0) rotate(90,0,287.4)\" style=\"font-family: 'Open Sans', verdana, arial, sans-serif; font-size: 12px; fill: rgb(36, 36, 36); fill-opacity: 1; white-space: pre; opacity: 1;\">RT-US_85mM</text></g></g><g class=\"yaxislayer-above\"><path class=\"ytick ticks crisp\" d=\"M79,0h-5\" transform=\"translate(0,273)\" style=\"stroke: rgb(68, 68, 68); stroke-opacity: 1; stroke-width: 1px;\"/><path class=\"ytick ticks crisp\" d=\"M79,0h-5\" transform=\"translate(0,227.61)\" style=\"stroke: rgb(68, 68, 68); stroke-opacity: 1; stroke-width: 1px;\"/><path class=\"ytick ticks crisp\" d=\"M79,0h-5\" transform=\"translate(0,182.22)\" style=\"stroke: rgb(68, 68, 68); stroke-opacity: 1; stroke-width: 1px;\"/><path class=\"ytick ticks crisp\" d=\"M79,0h-5\" transform=\"translate(0,136.82999999999998)\" style=\"stroke: rgb(68, 68, 68); stroke-opacity: 1; stroke-width: 1px;\"/><path class=\"ytick ticks crisp\" d=\"M79,0h-5\" transform=\"translate(0,91.43)\" style=\"stroke: rgb(68, 68, 68); stroke-opacity: 1; stroke-width: 1px;\"/><g class=\"ytick\"><text text-anchor=\"end\" x=\"71.6\" y=\"4.199999999999999\" transform=\"translate(0,273)\" style=\"font-family: 'Open Sans', verdana, arial, sans-serif; font-size: 12px; fill: rgb(36, 36, 36); fill-opacity: 1; white-space: pre; opacity: 1;\">0</text></g><g class=\"ytick\"><text text-anchor=\"end\" x=\"71.6\" y=\"4.199999999999999\" style=\"font-family: 'Open Sans', verdana, arial, sans-serif; font-size: 12px; fill: rgb(36, 36, 36); fill-opacity: 1; white-space: pre; opacity: 1;\" transform=\"translate(0,227.61)\">50k</text></g><g class=\"ytick\"><text text-anchor=\"end\" x=\"71.6\" y=\"4.199999999999999\" style=\"font-family: 'Open Sans', verdana, arial, sans-serif; font-size: 12px; fill: rgb(36, 36, 36); fill-opacity: 1; white-space: pre; opacity: 1;\" transform=\"translate(0,182.22)\">100k</text></g><g class=\"ytick\"><text text-anchor=\"end\" x=\"71.6\" y=\"4.199999999999999\" style=\"font-family: 'Open Sans', verdana, arial, sans-serif; font-size: 12px; fill: rgb(36, 36, 36); fill-opacity: 1; white-space: pre; opacity: 1;\" transform=\"translate(0,136.82999999999998)\">150k</text></g><g class=\"ytick\"><text text-anchor=\"end\" x=\"71.6\" y=\"4.199999999999999\" style=\"font-family: 'Open Sans', verdana, arial, sans-serif; font-size: 12px; fill: rgb(36, 36, 36); fill-opacity: 1; white-space: pre; opacity: 1;\" transform=\"translate(0,91.43)\">200k</text></g></g><g class=\"overaxes-above\"/></g><g class=\"subplot x2y2\"><g class=\"layer-subplot\"><g class=\"shapelayer\"/><g class=\"imagelayer\"/></g><g class=\"minor-gridlayer\"><g class=\"x2\"/><g class=\"y2\"/></g><g class=\"gridlayer\"><g class=\"x2\"/><g class=\"y2\"><path class=\"y2grid crisp\" transform=\"translate(0,227.61)\" d=\"M245.24,0h158.76\" style=\"stroke: rgb(232, 232, 232); stroke-opacity: 1; stroke-width: 1px;\"/><path class=\"y2grid crisp\" transform=\"translate(0,182.22)\" d=\"M245.24,0h158.76\" style=\"stroke: rgb(232, 232, 232); stroke-opacity: 1; stroke-width: 1px;\"/><path class=\"y2grid crisp\" transform=\"translate(0,136.82999999999998)\" d=\"M245.24,0h158.76\" style=\"stroke: rgb(232, 232, 232); stroke-opacity: 1; stroke-width: 1px;\"/><path class=\"y2grid crisp\" transform=\"translate(0,91.43)\" d=\"M245.24,0h158.76\" style=\"stroke: rgb(232, 232, 232); stroke-opacity: 1; stroke-width: 1px;\"/></g></g><g class=\"zerolinelayer\"/><path class=\"xlines-below\"/><path class=\"ylines-below\"/><g class=\"overlines-below\"/><g class=\"xaxislayer-below\"/><g class=\"yaxislayer-below\"/><g class=\"overaxes-below\"/><g class=\"plot\" transform=\"translate(245.24,60)\" clip-path=\"url(#clip1aa160x2y2plot)\"><g class=\"barlayer mlayer\"><g class=\"trace bars\" shape-rendering=\"crispEdges\" style=\"opacity: 1;\"><g class=\"points\"><g class=\"point\"><path d=\"M2.65,213V130.04H23.81V213Z\" style=\"vector-effect: non-scaling-stroke; opacity: 1; stroke-width: 1px; fill: rgb(100, 100, 100); fill-opacity: 1; stroke: rgb(0, 0, 0); stroke-opacity: 1;\"/></g><g class=\"point\"><path d=\"M29.11,213V64.43H50.27V213Z\" style=\"vector-effect: non-scaling-stroke; opacity: 1; stroke-width: 1px; fill: rgb(100, 100, 100); fill-opacity: 1; stroke: rgb(0, 0, 0); stroke-opacity: 1;\"/></g><g class=\"point\"><path d=\"M55.57,213V39.12H76.73V213Z\" style=\"vector-effect: non-scaling-stroke; opacity: 1; stroke-width: 1px; fill: rgb(100, 100, 100); fill-opacity: 1; stroke: rgb(0, 0, 0); stroke-opacity: 1;\"/></g><g class=\"point\"><path d=\"M82.03,213V127.98H103.19V213Z\" style=\"vector-effect: non-scaling-stroke; opacity: 1; stroke-width: 1px; fill: rgb(100, 100, 100); fill-opacity: 1; stroke: rgb(0, 0, 0); stroke-opacity: 1;\"/></g><g class=\"point\"><path d=\"M108.49,213V155.33H129.65V213Z\" style=\"vector-effect: non-scaling-stroke; opacity: 1; stroke-width: 1px; fill: rgb(100, 100, 100); fill-opacity: 1; stroke: rgb(0, 0, 0); stroke-opacity: 1;\"/></g><g class=\"point\"><path d=\"M134.95,213V133.28H156.11V213Z\" style=\"vector-effect: non-scaling-stroke; opacity: 1; stroke-width: 1px; fill: rgb(100, 100, 100); fill-opacity: 1; stroke: rgb(0, 0, 0); stroke-opacity: 1;\"/></g></g></g><g class=\"trace bars\" shape-rendering=\"crispEdges\" style=\"opacity: 1;\"><g class=\"points\"><g class=\"point\"><path d=\"M2.65,130.04V128.01H23.81V130.04Z\" style=\"vector-effect: non-scaling-stroke; opacity: 1; stroke-width: 1px; fill: rgb(31, 119, 180); fill-opacity: 1; stroke: rgb(0, 0, 0); stroke-opacity: 1;\"/></g><g class=\"point\"><path d=\"M29.11,64.43V63.36H50.27V64.43Z\" style=\"vector-effect: non-scaling-stroke; opacity: 1; stroke-width: 1px; fill: rgb(31, 119, 180); fill-opacity: 1; stroke: rgb(0, 0, 0); stroke-opacity: 1;\"/></g><g class=\"point\"><path d=\"M55.57,39.12V37.96H76.73V39.12Z\" style=\"vector-effect: non-scaling-stroke; opacity: 1; stroke-width: 1px; fill: rgb(31, 119, 180); fill-opacity: 1; stroke: rgb(0, 0, 0); stroke-opacity: 1;\"/></g><g class=\"point\"><path d=\"M82.03,127.98V127.77H103.19V127.98Z\" style=\"vector-effect: non-scaling-stroke; opacity: 1; stroke-width: 1px; fill: rgb(31, 119, 180); fill-opacity: 1; stroke: rgb(0, 0, 0); stroke-opacity: 1;\"/></g><g class=\"point\"><path d=\"M108.49,155.33V155.1H129.65V155.33Z\" style=\"vector-effect: non-scaling-stroke; opacity: 1; stroke-width: 1px; fill: rgb(31, 119, 180); fill-opacity: 1; stroke: rgb(0, 0, 0); stroke-opacity: 1;\"/></g><g class=\"point\"><path d=\"M134.95,133.28V133.11H156.11V133.28Z\" style=\"vector-effect: non-scaling-stroke; opacity: 1; stroke-width: 1px; fill: rgb(31, 119, 180); fill-opacity: 1; stroke: rgb(0, 0, 0); stroke-opacity: 1;\"/></g></g></g><g class=\"trace bars\" shape-rendering=\"crispEdges\" style=\"opacity: 1;\"><g class=\"points\"><g class=\"point\"><path d=\"M2.65,128.01V91.69H23.81V128.01Z\" style=\"vector-effect: non-scaling-stroke; opacity: 1; stroke-width: 1px; fill: rgb(255, 127, 14); fill-opacity: 1; stroke: rgb(0, 0, 0); stroke-opacity: 1;\"/></g><g class=\"point\"><path d=\"M29.11,63.36V41.46H50.27V63.36Z\" style=\"vector-effect: non-scaling-stroke; opacity: 1; stroke-width: 1px; fill: rgb(255, 127, 14); fill-opacity: 1; stroke: rgb(0, 0, 0); stroke-opacity: 1;\"/></g><g class=\"point\"><path d=\"M55.57,37.96V15.54H76.73V37.96Z\" style=\"vector-effect: non-scaling-stroke; opacity: 1; stroke-width: 1px; fill: rgb(255, 127, 14); fill-opacity: 1; stroke: rgb(0, 0, 0); stroke-opacity: 1;\"/></g><g class=\"point\"><path d=\"M82.03,127.77V124.53H103.19V127.77Z\" style=\"vector-effect: non-scaling-stroke; opacity: 1; stroke-width: 1px; fill: rgb(255, 127, 14); fill-opacity: 1; stroke: rgb(0, 0, 0); stroke-opacity: 1;\"/></g><g class=\"point\"><path d=\"M108.49,155.1V149.26H129.65V155.1Z\" style=\"vector-effect: non-scaling-stroke; opacity: 1; stroke-width: 1px; fill: rgb(255, 127, 14); fill-opacity: 1; stroke: rgb(0, 0, 0); stroke-opacity: 1;\"/></g><g class=\"point\"><path d=\"M134.95,133.11V126.15H156.11V133.11Z\" style=\"vector-effect: non-scaling-stroke; opacity: 1; stroke-width: 1px; fill: rgb(255, 127, 14); fill-opacity: 1; stroke: rgb(0, 0, 0); stroke-opacity: 1;\"/></g></g></g><g class=\"trace bars\" shape-rendering=\"crispEdges\" style=\"opacity: 1;\"><g class=\"points\"><g class=\"point\"><path d=\"M2.65,91.69V86.66H23.81V91.69Z\" style=\"vector-effect: non-scaling-stroke; opacity: 1; stroke-width: 1px; fill: rgb(44, 160, 44); fill-opacity: 1; stroke: rgb(0, 0, 0); stroke-opacity: 1;\"/></g><g class=\"point\"><path d=\"M29.11,41.46V37.1H50.27V41.46Z\" style=\"vector-effect: non-scaling-stroke; opacity: 1; stroke-width: 1px; fill: rgb(44, 160, 44); fill-opacity: 1; stroke: rgb(0, 0, 0); stroke-opacity: 1;\"/></g><g class=\"point\"><path d=\"M55.57,15.54V11.4H76.73V15.54Z\" style=\"vector-effect: non-scaling-stroke; opacity: 1; stroke-width: 1px; fill: rgb(44, 160, 44); fill-opacity: 1; stroke: rgb(0, 0, 0); stroke-opacity: 1;\"/></g><g class=\"point\"><path d=\"M82.03,124.53V119.18H103.19V124.53Z\" style=\"vector-effect: non-scaling-stroke; opacity: 1; stroke-width: 1px; fill: rgb(44, 160, 44); fill-opacity: 1; stroke: rgb(0, 0, 0); stroke-opacity: 1;\"/></g><g class=\"point\"><path d=\"M108.49,149.26V145.49H129.65V149.26Z\" style=\"vector-effect: non-scaling-stroke; opacity: 1; stroke-width: 1px; fill: rgb(44, 160, 44); fill-opacity: 1; stroke: rgb(0, 0, 0); stroke-opacity: 1;\"/></g><g class=\"point\"><path d=\"M134.95,126.15V121.74H156.11V126.15Z\" style=\"vector-effect: non-scaling-stroke; opacity: 1; stroke-width: 1px; fill: rgb(44, 160, 44); fill-opacity: 1; stroke: rgb(0, 0, 0); stroke-opacity: 1;\"/></g></g></g><g class=\"trace bars\" shape-rendering=\"crispEdges\" style=\"opacity: 1;\"><g class=\"points\"><g class=\"point\"><path d=\"M2.65,86.66V81.04H23.81V86.66Z\" style=\"vector-effect: non-scaling-stroke; opacity: 1; stroke-width: 1px; fill: rgb(214, 39, 40); fill-opacity: 1; stroke: rgb(0, 0, 0); stroke-opacity: 1;\"/></g><g class=\"point\"><path d=\"M29.11,37.1V35.73H50.27V37.1Z\" style=\"vector-effect: non-scaling-stroke; opacity: 1; stroke-width: 1px; fill: rgb(214, 39, 40); fill-opacity: 1; stroke: rgb(0, 0, 0); stroke-opacity: 1;\"/></g><g class=\"point\"><path d=\"M55.57,11.4V10.65H76.73V11.4Z\" style=\"vector-effect: non-scaling-stroke; opacity: 1; stroke-width: 1px; fill: rgb(214, 39, 40); fill-opacity: 1; stroke: rgb(0, 0, 0); stroke-opacity: 1;\"/></g><g class=\"point\"><path d=\"M82.03,119.18V115.61H103.19V119.18Z\" style=\"vector-effect: non-scaling-stroke; opacity: 1; stroke-width: 1px; fill: rgb(214, 39, 40); fill-opacity: 1; stroke: rgb(0, 0, 0); stroke-opacity: 1;\"/></g><g class=\"point\"><path d=\"M108.49,145.49V144.56H129.65V145.49Z\" style=\"vector-effect: non-scaling-stroke; opacity: 1; stroke-width: 1px; fill: rgb(214, 39, 40); fill-opacity: 1; stroke: rgb(0, 0, 0); stroke-opacity: 1;\"/></g><g class=\"point\"><path d=\"M134.95,121.74V120.8H156.11V121.74Z\" style=\"vector-effect: non-scaling-stroke; opacity: 1; stroke-width: 1px; fill: rgb(214, 39, 40); fill-opacity: 1; stroke: rgb(0, 0, 0); stroke-opacity: 1;\"/></g></g></g></g></g><g class=\"overplot\"/><path class=\"xlines-above crisp\" d=\"M244.24,273.5H404\" style=\"fill: none; stroke-width: 1px; stroke: rgb(36, 36, 36); stroke-opacity: 1;\"/><path class=\"ylines-above crisp\" d=\"M244.74,60V273\" style=\"fill: none; stroke-width: 1px; stroke: rgb(36, 36, 36); stroke-opacity: 1;\"/><g class=\"overlines-above\"/><g class=\"xaxislayer-above\"><path class=\"x2tick ticks crisp\" d=\"M0,274v5\" transform=\"translate(258.47,0)\" style=\"stroke: rgb(68, 68, 68); stroke-opacity: 1; stroke-width: 1px;\"/><path class=\"x2tick ticks crisp\" d=\"M0,274v5\" transform=\"translate(284.93,0)\" style=\"stroke: rgb(68, 68, 68); stroke-opacity: 1; stroke-width: 1px;\"/><path class=\"x2tick ticks crisp\" d=\"M0,274v5\" transform=\"translate(311.39,0)\" style=\"stroke: rgb(68, 68, 68); stroke-opacity: 1; stroke-width: 1px;\"/><path class=\"x2tick ticks crisp\" d=\"M0,274v5\" transform=\"translate(337.85,0)\" style=\"stroke: rgb(68, 68, 68); stroke-opacity: 1; stroke-width: 1px;\"/><path class=\"x2tick ticks crisp\" d=\"M0,274v5\" transform=\"translate(364.31,0)\" style=\"stroke: rgb(68, 68, 68); stroke-opacity: 1; stroke-width: 1px;\"/><path class=\"x2tick ticks crisp\" d=\"M0,274v5\" transform=\"translate(390.77,0)\" style=\"stroke: rgb(68, 68, 68); stroke-opacity: 1; stroke-width: 1px;\"/><g class=\"x2tick\"><text text-anchor=\"start\" x=\"0\" y=\"293.4\" transform=\"translate(258.47,0) rotate(90,0,287.4)\" style=\"font-family: 'Open Sans', verdana, arial, sans-serif; font-size: 12px; fill: rgb(36, 36, 36); fill-opacity: 1; white-space: pre; opacity: 1;\">RT-FS_0mM</text></g><g class=\"x2tick\"><text text-anchor=\"start\" x=\"0\" y=\"293.4\" transform=\"translate(284.93,0) rotate(90,0,287.4)\" style=\"font-family: 'Open Sans', verdana, arial, sans-serif; font-size: 12px; fill: rgb(36, 36, 36); fill-opacity: 1; white-space: pre; opacity: 1;\">RT-FS_57mM</text></g><g class=\"x2tick\"><text text-anchor=\"start\" x=\"0\" y=\"293.4\" transform=\"translate(311.39,0) rotate(90,0,287.4)\" style=\"font-family: 'Open Sans', verdana, arial, sans-serif; font-size: 12px; fill: rgb(36, 36, 36); fill-opacity: 1; white-space: pre; opacity: 1;\">RT-FS_85mM</text></g><g class=\"x2tick\"><text text-anchor=\"start\" x=\"0\" y=\"293.4\" transform=\"translate(337.85,0) rotate(90,0,287.4)\" style=\"font-family: 'Open Sans', verdana, arial, sans-serif; font-size: 12px; fill: rgb(36, 36, 36); fill-opacity: 1; white-space: pre; opacity: 1;\">RT-US_0mM</text></g><g class=\"x2tick\"><text text-anchor=\"start\" x=\"0\" y=\"293.4\" transform=\"translate(364.31,0) rotate(90,0,287.4)\" style=\"font-family: 'Open Sans', verdana, arial, sans-serif; font-size: 12px; fill: rgb(36, 36, 36); fill-opacity: 1; white-space: pre; opacity: 1;\">RT-US_57mM</text></g><g class=\"x2tick\"><text text-anchor=\"start\" x=\"0\" y=\"293.4\" transform=\"translate(390.77,0) rotate(90,0,287.4)\" style=\"font-family: 'Open Sans', verdana, arial, sans-serif; font-size: 12px; fill: rgb(36, 36, 36); fill-opacity: 1; white-space: pre; opacity: 1;\">RT-US_85mM</text></g></g><g class=\"yaxislayer-above\"><path class=\"y2tick ticks crisp\" d=\"M244.24,0h-5\" transform=\"translate(0,273)\" style=\"stroke: rgb(68, 68, 68); stroke-opacity: 1; stroke-width: 1px;\"/><path class=\"y2tick ticks crisp\" d=\"M244.24,0h-5\" transform=\"translate(0,227.61)\" style=\"stroke: rgb(68, 68, 68); stroke-opacity: 1; stroke-width: 1px;\"/><path class=\"y2tick ticks crisp\" d=\"M244.24,0h-5\" transform=\"translate(0,182.22)\" style=\"stroke: rgb(68, 68, 68); stroke-opacity: 1; stroke-width: 1px;\"/><path class=\"y2tick ticks crisp\" d=\"M244.24,0h-5\" transform=\"translate(0,136.82999999999998)\" style=\"stroke: rgb(68, 68, 68); stroke-opacity: 1; stroke-width: 1px;\"/><path class=\"y2tick ticks crisp\" d=\"M244.24,0h-5\" transform=\"translate(0,91.43)\" style=\"stroke: rgb(68, 68, 68); stroke-opacity: 1; stroke-width: 1px;\"/></g><g class=\"overaxes-above\"/></g></g><g class=\"polarlayer\"/><g class=\"smithlayer\"/><g class=\"ternarylayer\"/><g class=\"geolayer\"/><g class=\"funnelarealayer\"/><g class=\"pielayer\"/><g class=\"iciclelayer\"/><g class=\"treemaplayer\"/><g class=\"sunburstlayer\"/><g class=\"glimages\"/><defs id=\"topdefs-1aa160\"><g class=\"clips\"/><clipPath id=\"legend1aa160\"><rect width=\"178\" height=\"124\" x=\"0\" y=\"0\"/></clipPath></defs><g class=\"layer-above\"><g class=\"imagelayer\"/><g class=\"shapelayer\"/></g><g class=\"infolayer\"><g class=\"legend\" pointer-events=\"all\" transform=\"translate(410.48,60)\"><rect class=\"bg\" shape-rendering=\"crispEdges\" width=\"178\" height=\"124\" x=\"0\" y=\"0\" style=\"stroke: rgb(68, 68, 68); stroke-opacity: 1; fill: rgb(255, 255, 255); fill-opacity: 1; stroke-width: 0px;\"/><g class=\"scrollbox\" transform=\"\" clip-path=\"url(#legend1aa160)\"><text class=\"legendtitletext\" text-anchor=\"start\" x=\"2\" y=\"18.2\" style=\"font-family: 'Open Sans', verdana, arial, sans-serif; font-size: 14px; fill: rgb(36, 36, 36); fill-opacity: 1; white-space: pre;\">assignment_type</text><g class=\"groups\" transform=\"\"><g class=\"traces\" transform=\"translate(0,32.7)\" style=\"opacity: 1;\"><text class=\"legendtext\" text-anchor=\"start\" x=\"40\" y=\"4.680000000000001\" style=\"font-family: 'Open Sans', verdana, arial, sans-serif; font-size: 12px; fill: rgb(36, 36, 36); fill-opacity: 1; white-space: pre;\">unique</text><g class=\"layers\" style=\"opacity: 1;\"><g class=\"legendfill\"/><g class=\"legendlines\"/><g class=\"legendsymbols\"><g class=\"legendpoints\"><path class=\"legendundefined\" d=\"M6,6H-6V-6H6Z\" transform=\"translate(20,0)\" style=\"stroke-width: 1px; fill: rgb(100, 100, 100); fill-opacity: 1; stroke: rgb(0, 0, 0); stroke-opacity: 1;\"/></g></g></g><rect class=\"legendtoggle\" x=\"0\" y=\"-9.5\" width=\"172.203125\" height=\"19\" style=\"fill: rgb(0, 0, 0); fill-opacity: 0;\"/></g></g><g class=\"groups\" transform=\"\"><g class=\"traces\" transform=\"translate(0,51.7)\" style=\"opacity: 1;\"><text class=\"legendtext\" text-anchor=\"start\" x=\"40\" y=\"4.680000000000001\" style=\"font-family: 'Open Sans', verdana, arial, sans-serif; font-size: 12px; fill: rgb(36, 36, 36); fill-opacity: 1; white-space: pre;\">unique_minor_difference</text><g class=\"layers\" style=\"opacity: 1;\"><g class=\"legendfill\"/><g class=\"legendlines\"/><g class=\"legendsymbols\"><g class=\"legendpoints\"><path class=\"legendundefined\" d=\"M6,6H-6V-6H6Z\" transform=\"translate(20,0)\" style=\"stroke-width: 1px; fill: rgb(31, 119, 180); fill-opacity: 1; stroke: rgb(0, 0, 0); stroke-opacity: 1;\"/></g></g></g><rect class=\"legendtoggle\" x=\"0\" y=\"-9.5\" width=\"172.203125\" height=\"19\" style=\"fill: rgb(0, 0, 0); fill-opacity: 0;\"/></g></g><g class=\"groups\" transform=\"\"><g class=\"traces\" transform=\"translate(0,70.7)\" style=\"opacity: 1;\"><text class=\"legendtext\" text-anchor=\"start\" x=\"40\" y=\"4.680000000000001\" style=\"font-family: 'Open Sans', verdana, arial, sans-serif; font-size: 12px; fill: rgb(36, 36, 36); fill-opacity: 1; white-space: pre;\">ambiguous</text><g class=\"layers\" style=\"opacity: 1;\"><g class=\"legendfill\"/><g class=\"legendlines\"/><g class=\"legendsymbols\"><g class=\"legendpoints\"><path class=\"legendundefined\" d=\"M6,6H-6V-6H6Z\" transform=\"translate(20,0)\" style=\"stroke-width: 1px; fill: rgb(255, 127, 14); fill-opacity: 1; stroke: rgb(0, 0, 0); stroke-opacity: 1;\"/></g></g></g><rect class=\"legendtoggle\" x=\"0\" y=\"-9.5\" width=\"172.203125\" height=\"19\" style=\"fill: rgb(0, 0, 0); fill-opacity: 0;\"/></g></g><g class=\"groups\" transform=\"\"><g class=\"traces\" transform=\"translate(0,89.7)\" style=\"opacity: 1;\"><text class=\"legendtext\" text-anchor=\"start\" x=\"40\" y=\"4.680000000000001\" style=\"font-family: 'Open Sans', verdana, arial, sans-serif; font-size: 12px; fill: rgb(36, 36, 36); fill-opacity: 1; white-space: pre;\">inconsistent</text><g class=\"layers\" style=\"opacity: 1;\"><g class=\"legendfill\"/><g class=\"legendlines\"/><g class=\"legendsymbols\"><g class=\"legendpoints\"><path class=\"legendundefined\" d=\"M6,6H-6V-6H6Z\" transform=\"translate(20,0)\" style=\"stroke-width: 1px; fill: rgb(44, 160, 44); fill-opacity: 1; stroke: rgb(0, 0, 0); stroke-opacity: 1;\"/></g></g></g><rect class=\"legendtoggle\" x=\"0\" y=\"-9.5\" width=\"172.203125\" height=\"19\" style=\"fill: rgb(0, 0, 0); fill-opacity: 0;\"/></g></g><g class=\"groups\" transform=\"\"><g class=\"traces\" transform=\"translate(0,108.7)\" style=\"opacity: 1;\"><text class=\"legendtext\" text-anchor=\"start\" x=\"40\" y=\"4.680000000000001\" style=\"font-family: 'Open Sans', verdana, arial, sans-serif; font-size: 12px; fill: rgb(36, 36, 36); fill-opacity: 1; white-space: pre;\">noninformative</text><g class=\"layers\" style=\"opacity: 1;\"><g class=\"legendfill\"/><g class=\"legendlines\"/><g class=\"legendsymbols\"><g class=\"legendpoints\"><path class=\"legendundefined\" d=\"M6,6H-6V-6H6Z\" transform=\"translate(20,0)\" style=\"stroke-width: 1px; fill: rgb(214, 39, 40); fill-opacity: 1; stroke: rgb(0, 0, 0); stroke-opacity: 1;\"/></g></g></g><rect class=\"legendtoggle\" x=\"0\" y=\"-9.5\" width=\"172.203125\" height=\"19\" style=\"fill: rgb(0, 0, 0); fill-opacity: 0;\"/></g></g></g><rect class=\"scrollbar\" rx=\"20\" ry=\"3\" width=\"0\" height=\"0\" x=\"0\" y=\"0\" style=\"fill: rgb(128, 139, 164); fill-opacity: 1;\"/></g><g class=\"g-gtitle\"/><g class=\"g-xtitle\"><text class=\"xtitle\" x=\"159.38\" y=\"388.012890625\" text-anchor=\"middle\" style=\"font-family: 'Open Sans', verdana, arial, sans-serif; font-size: 14px; fill: rgb(36, 36, 36); opacity: 1; font-weight: normal; white-space: pre;\">RT_and_DMS</text></g><g class=\"g-x2title\"><text class=\"x2title\" x=\"324.62\" y=\"388.012890625\" text-anchor=\"middle\" style=\"font-family: 'Open Sans', verdana, arial, sans-serif; font-size: 14px; fill: rgb(36, 36, 36); opacity: 1; font-weight: normal; white-space: pre;\">RT_and_DMS</text></g><g class=\"g-ytitle\"><text class=\"ytitle\" transform=\"rotate(-90,20.778125000000003,166.5)\" x=\"20.778125000000003\" y=\"166.5\" text-anchor=\"middle\" style=\"font-family: 'Open Sans', verdana, arial, sans-serif; font-size: 14px; fill: rgb(36, 36, 36); opacity: 1; font-weight: normal; white-space: pre;\">count</text></g><g class=\"g-y2title\"/><g class=\"annotation\" data-index=\"0\" style=\"opacity: 1;\"><g class=\"annotation-text-g\" transform=\"rotate(0,159.38,51)\"><g class=\"cursor-pointer\" transform=\"translate(117,42)\"><rect class=\"bg\" x=\"0.5\" y=\"0.5\" width=\"84\" height=\"17\" style=\"stroke-width: 1px; stroke: rgb(0, 0, 0); stroke-opacity: 0; fill: rgb(0, 0, 0); fill-opacity: 0;\"/><text class=\"annotation-text\" text-anchor=\"middle\" x=\"42.53125\" y=\"13\" style=\"font-family: 'Open Sans', verdana, arial, sans-serif; font-size: 12px; fill: rgb(36, 36, 36); fill-opacity: 1; white-space: pre;\">replicate=Rep1</text></g></g></g><g class=\"annotation\" data-index=\"1\" style=\"opacity: 1;\"><g class=\"annotation-text-g\" transform=\"rotate(0,324.62,51)\"><g class=\"cursor-pointer\" transform=\"translate(282,42)\"><rect class=\"bg\" x=\"0.5\" y=\"0.5\" width=\"84\" height=\"17\" style=\"stroke-width: 1px; stroke: rgb(0, 0, 0); stroke-opacity: 0; fill: rgb(0, 0, 0); fill-opacity: 0;\"/><text class=\"annotation-text\" text-anchor=\"middle\" x=\"42.53125\" y=\"13\" style=\"font-family: 'Open Sans', verdana, arial, sans-serif; font-size: 12px; fill: rgb(36, 36, 36); fill-opacity: 1; white-space: pre;\">replicate=Rep2</text></g></g></g></g></svg>"
      ]
     },
     "metadata": {},
     "output_type": "display_data"
    }
   ],
   "source": [
    "fig = px.bar(assignment_counts, x=\"RT_and_DMS\", y=\"count\", facet_col=\"replicate\", color=\"assignment_type\", barmode=\"stack\", category_orders=order)\n",
    "fig.update_yaxes(dtick=50000, showgrid=True)\n",
    "fig.update_traces(width=0.8, marker_line_width=1, marker_line_color=\"black\")\n",
    "fig.update_layout(width=600, height=400)\n",
    "fig.write_image(f\"{figure_dir}/isoquant_classification_absolute.svg\")\n",
    "fig.show(renderer=\"svg\", width=600,height=400)"
   ]
  },
  {
   "cell_type": "code",
   "execution_count": 107,
   "id": "6327cc10-9076-4989-a88f-6469732b0eb2",
   "metadata": {},
   "outputs": [
    {
     "data": {
      "image/svg+xml": [
       "<svg class=\"main-svg\" xmlns=\"http://www.w3.org/2000/svg\" xmlns:xlink=\"http://www.w3.org/1999/xlink\" width=\"600\" height=\"400\" style=\"\" viewBox=\"0 0 600 400\"><rect x=\"0\" y=\"0\" width=\"600\" height=\"400\" style=\"fill: rgb(255, 255, 255); fill-opacity: 1;\"/><defs id=\"defs-500d73\"><g class=\"clips\"><clipPath id=\"clip500d73xyplot\" class=\"plotclip\"><rect width=\"158.76\" height=\"213\"/></clipPath><clipPath id=\"clip500d73x2y2plot\" class=\"plotclip\"><rect width=\"158.76\" height=\"213\"/></clipPath><clipPath class=\"axesclip\" id=\"clip500d73x\"><rect x=\"80\" y=\"0\" width=\"158.76\" height=\"400\"/></clipPath><clipPath class=\"axesclip\" id=\"clip500d73y\"><rect x=\"0\" y=\"60\" width=\"600\" height=\"213\"/></clipPath><clipPath class=\"axesclip\" id=\"clip500d73xy\"><rect x=\"80\" y=\"60\" width=\"158.76\" height=\"213\"/></clipPath><clipPath class=\"axesclip\" id=\"clip500d73y2\"><rect x=\"0\" y=\"60\" width=\"600\" height=\"213\"/></clipPath><clipPath class=\"axesclip\" id=\"clip500d73xy2\"><rect x=\"80\" y=\"60\" width=\"158.76\" height=\"213\"/></clipPath><clipPath class=\"axesclip\" id=\"clip500d73x2\"><rect x=\"245.24\" y=\"0\" width=\"158.76\" height=\"400\"/></clipPath><clipPath class=\"axesclip\" id=\"clip500d73x2y\"><rect x=\"245.24\" y=\"60\" width=\"158.76\" height=\"213\"/></clipPath><clipPath class=\"axesclip\" id=\"clip500d73x2y2\"><rect x=\"245.24\" y=\"60\" width=\"158.76\" height=\"213\"/></clipPath></g><g class=\"gradients\"/><g class=\"patterns\"/></defs><g class=\"bglayer\"/><g class=\"layer-below\"><g class=\"imagelayer\"/><g class=\"shapelayer\"/></g><g class=\"cartesianlayer\"><g class=\"subplot xy\"><g class=\"layer-subplot\"><g class=\"shapelayer\"/><g class=\"imagelayer\"/></g><g class=\"minor-gridlayer\"><g class=\"x\"/><g class=\"y\"/></g><g class=\"gridlayer\"><g class=\"x\"/><g class=\"y\"><path class=\"ygrid crisp\" transform=\"translate(0,232.53)\" d=\"M80,0h158.76\" style=\"stroke: rgb(232, 232, 232); stroke-opacity: 1; stroke-width: 1px;\"/><path class=\"ygrid crisp\" transform=\"translate(0,192.06)\" d=\"M80,0h158.76\" style=\"stroke: rgb(232, 232, 232); stroke-opacity: 1; stroke-width: 1px;\"/><path class=\"ygrid crisp\" transform=\"translate(0,151.59)\" d=\"M80,0h158.76\" style=\"stroke: rgb(232, 232, 232); stroke-opacity: 1; stroke-width: 1px;\"/><path class=\"ygrid crisp\" transform=\"translate(0,111.12)\" d=\"M80,0h158.76\" style=\"stroke: rgb(232, 232, 232); stroke-opacity: 1; stroke-width: 1px;\"/><path class=\"ygrid crisp\" transform=\"translate(0,70.65)\" d=\"M80,0h158.76\" style=\"stroke: rgb(232, 232, 232); stroke-opacity: 1; stroke-width: 1px;\"/></g></g><g class=\"zerolinelayer\"/><path class=\"xlines-below\"/><path class=\"ylines-below\"/><g class=\"overlines-below\"/><g class=\"xaxislayer-below\"/><g class=\"yaxislayer-below\"/><g class=\"overaxes-below\"/><g class=\"plot\" transform=\"translate(80,60)\" clip-path=\"url(#clip500d73xyplot)\"><g class=\"barlayer mlayer\"><g class=\"trace bars\" shape-rendering=\"crispEdges\" style=\"opacity: 1;\"><g class=\"points\"><g class=\"point\"><path d=\"M2.65,213V55.67H23.81V213Z\" style=\"vector-effect: non-scaling-stroke; opacity: 1; stroke-width: 0.5px; fill: rgb(100, 100, 100); fill-opacity: 1; stroke: rgb(0, 0, 0); stroke-opacity: 1;\"/></g><g class=\"point\"><path d=\"M29.11,213V47.62H50.27V213Z\" style=\"vector-effect: non-scaling-stroke; opacity: 1; stroke-width: 0.5px; fill: rgb(100, 100, 100); fill-opacity: 1; stroke: rgb(0, 0, 0); stroke-opacity: 1;\"/></g><g class=\"point\"><path d=\"M55.57,213V48.55H76.73V213Z\" style=\"vector-effect: non-scaling-stroke; opacity: 1; stroke-width: 0.5px; fill: rgb(100, 100, 100); fill-opacity: 1; stroke: rgb(0, 0, 0); stroke-opacity: 1;\"/></g><g class=\"point\"><path d=\"M82.03,213V54.35H103.19V213Z\" style=\"vector-effect: non-scaling-stroke; opacity: 1; stroke-width: 0.5px; fill: rgb(100, 100, 100); fill-opacity: 1; stroke: rgb(0, 0, 0); stroke-opacity: 1;\"/></g><g class=\"point\"><path d=\"M108.49,213V33.03H129.65V213Z\" style=\"vector-effect: non-scaling-stroke; opacity: 1; stroke-width: 0.5px; fill: rgb(100, 100, 100); fill-opacity: 1; stroke: rgb(0, 0, 0); stroke-opacity: 1;\"/></g><g class=\"point\"><path d=\"M134.95,213V30.16H156.11V213Z\" style=\"vector-effect: non-scaling-stroke; opacity: 1; stroke-width: 0.5px; fill: rgb(100, 100, 100); fill-opacity: 1; stroke: rgb(0, 0, 0); stroke-opacity: 1;\"/></g></g></g><g class=\"trace bars\" shape-rendering=\"crispEdges\" style=\"opacity: 1;\"><g class=\"points\"><g class=\"point\"><path d=\"M2.65,55.67V54.4H23.81V55.67Z\" style=\"vector-effect: non-scaling-stroke; opacity: 1; stroke-width: 0.5px; fill: rgb(31, 119, 180); fill-opacity: 1; stroke: rgb(0, 0, 0); stroke-opacity: 1;\"/></g><g class=\"point\"><path d=\"M29.11,47.62V46.64H50.27V47.62Z\" style=\"vector-effect: non-scaling-stroke; opacity: 1; stroke-width: 0.5px; fill: rgb(31, 119, 180); fill-opacity: 1; stroke: rgb(0, 0, 0); stroke-opacity: 1;\"/></g><g class=\"point\"><path d=\"M55.57,48.55V47.57H76.73V48.55Z\" style=\"vector-effect: non-scaling-stroke; opacity: 1; stroke-width: 0.5px; fill: rgb(31, 119, 180); fill-opacity: 1; stroke: rgb(0, 0, 0); stroke-opacity: 1;\"/></g><g class=\"point\"><path d=\"M82.03,54.35V53.84H103.19V54.35Z\" style=\"vector-effect: non-scaling-stroke; opacity: 1; stroke-width: 0.5px; fill: rgb(31, 119, 180); fill-opacity: 1; stroke: rgb(0, 0, 0); stroke-opacity: 1;\"/></g><g class=\"point\"><path d=\"M108.49,33.03V32.72H129.65V33.03Z\" style=\"vector-effect: non-scaling-stroke; opacity: 1; stroke-width: 0.5px; fill: rgb(31, 119, 180); fill-opacity: 1; stroke: rgb(0, 0, 0); stroke-opacity: 1;\"/></g><g class=\"point\"><path d=\"M134.95,30.16V29.94H156.11V30.16Z\" style=\"vector-effect: non-scaling-stroke; opacity: 1; stroke-width: 0.5px; fill: rgb(31, 119, 180); fill-opacity: 1; stroke: rgb(0, 0, 0); stroke-opacity: 1;\"/></g></g></g><g class=\"trace bars\" shape-rendering=\"crispEdges\" style=\"opacity: 1;\"><g class=\"points\"><g class=\"point\"><path d=\"M2.65,54.4V24.51H23.81V54.4Z\" style=\"vector-effect: non-scaling-stroke; opacity: 1; stroke-width: 0.5px; fill: rgb(255, 127, 14); fill-opacity: 1; stroke: rgb(0, 0, 0); stroke-opacity: 1;\"/></g><g class=\"point\"><path d=\"M29.11,46.64V15.86H50.27V46.64Z\" style=\"vector-effect: non-scaling-stroke; opacity: 1; stroke-width: 0.5px; fill: rgb(255, 127, 14); fill-opacity: 1; stroke: rgb(0, 0, 0); stroke-opacity: 1;\"/></g><g class=\"point\"><path d=\"M55.57,47.57V14.66H76.73V47.57Z\" style=\"vector-effect: non-scaling-stroke; opacity: 1; stroke-width: 0.5px; fill: rgb(255, 127, 14); fill-opacity: 1; stroke: rgb(0, 0, 0); stroke-opacity: 1;\"/></g><g class=\"point\"><path d=\"M82.03,53.84V40.96H103.19V53.84Z\" style=\"vector-effect: non-scaling-stroke; opacity: 1; stroke-width: 0.5px; fill: rgb(255, 127, 14); fill-opacity: 1; stroke: rgb(0, 0, 0); stroke-opacity: 1;\"/></g><g class=\"point\"><path d=\"M108.49,32.72V22.99H129.65V32.72Z\" style=\"vector-effect: non-scaling-stroke; opacity: 1; stroke-width: 0.5px; fill: rgb(255, 127, 14); fill-opacity: 1; stroke: rgb(0, 0, 0); stroke-opacity: 1;\"/></g><g class=\"point\"><path d=\"M134.95,29.94V19.92H156.11V29.94Z\" style=\"vector-effect: non-scaling-stroke; opacity: 1; stroke-width: 0.5px; fill: rgb(255, 127, 14); fill-opacity: 1; stroke: rgb(0, 0, 0); stroke-opacity: 1;\"/></g></g></g><g class=\"trace bars\" shape-rendering=\"crispEdges\" style=\"opacity: 1;\"><g class=\"points\"><g class=\"point\"><path d=\"M2.65,24.51V19.45H23.81V24.51Z\" style=\"vector-effect: non-scaling-stroke; opacity: 1; stroke-width: 0.5px; fill: rgb(44, 160, 44); fill-opacity: 1; stroke: rgb(0, 0, 0); stroke-opacity: 1;\"/></g><g class=\"point\"><path d=\"M29.11,15.86V12.03H50.27V15.86Z\" style=\"vector-effect: non-scaling-stroke; opacity: 1; stroke-width: 0.5px; fill: rgb(44, 160, 44); fill-opacity: 1; stroke: rgb(0, 0, 0); stroke-opacity: 1;\"/></g><g class=\"point\"><path d=\"M55.57,14.66V11.44H76.73V14.66Z\" style=\"vector-effect: non-scaling-stroke; opacity: 1; stroke-width: 0.5px; fill: rgb(44, 160, 44); fill-opacity: 1; stroke: rgb(0, 0, 0); stroke-opacity: 1;\"/></g><g class=\"point\"><path d=\"M82.03,40.96V22.64H103.19V40.96Z\" style=\"vector-effect: non-scaling-stroke; opacity: 1; stroke-width: 0.5px; fill: rgb(44, 160, 44); fill-opacity: 1; stroke: rgb(0, 0, 0); stroke-opacity: 1;\"/></g><g class=\"point\"><path d=\"M108.49,22.99V13.22H129.65V22.99Z\" style=\"vector-effect: non-scaling-stroke; opacity: 1; stroke-width: 0.5px; fill: rgb(44, 160, 44); fill-opacity: 1; stroke: rgb(0, 0, 0); stroke-opacity: 1;\"/></g><g class=\"point\"><path d=\"M134.95,19.92V11.98H156.11V19.92Z\" style=\"vector-effect: non-scaling-stroke; opacity: 1; stroke-width: 0.5px; fill: rgb(44, 160, 44); fill-opacity: 1; stroke: rgb(0, 0, 0); stroke-opacity: 1;\"/></g></g></g><g class=\"trace bars\" shape-rendering=\"crispEdges\" style=\"opacity: 1;\"><g class=\"points\"><g class=\"point\"><path d=\"M2.65,19.45V10.65H23.81V19.45Z\" style=\"vector-effect: non-scaling-stroke; opacity: 1; stroke-width: 0.5px; fill: rgb(214, 39, 40); fill-opacity: 1; stroke: rgb(0, 0, 0); stroke-opacity: 1;\"/></g><g class=\"point\"><path d=\"M29.11,12.03V10.65H50.27V12.03Z\" style=\"vector-effect: non-scaling-stroke; opacity: 1; stroke-width: 0.5px; fill: rgb(214, 39, 40); fill-opacity: 1; stroke: rgb(0, 0, 0); stroke-opacity: 1;\"/></g><g class=\"point\"><path d=\"M55.57,11.44V10.65H76.73V11.44Z\" style=\"vector-effect: non-scaling-stroke; opacity: 1; stroke-width: 0.5px; fill: rgb(214, 39, 40); fill-opacity: 1; stroke: rgb(0, 0, 0); stroke-opacity: 1;\"/></g><g class=\"point\"><path d=\"M82.03,22.64V10.65H103.19V22.64Z\" style=\"vector-effect: non-scaling-stroke; opacity: 1; stroke-width: 0.5px; fill: rgb(214, 39, 40); fill-opacity: 1; stroke: rgb(0, 0, 0); stroke-opacity: 1;\"/></g><g class=\"point\"><path d=\"M108.49,13.22V10.65H129.65V13.22Z\" style=\"vector-effect: non-scaling-stroke; opacity: 1; stroke-width: 0.5px; fill: rgb(214, 39, 40); fill-opacity: 1; stroke: rgb(0, 0, 0); stroke-opacity: 1;\"/></g><g class=\"point\"><path d=\"M134.95,11.98V10.65H156.11V11.98Z\" style=\"vector-effect: non-scaling-stroke; opacity: 1; stroke-width: 0.5px; fill: rgb(214, 39, 40); fill-opacity: 1; stroke: rgb(0, 0, 0); stroke-opacity: 1;\"/></g></g></g></g></g><g class=\"overplot\"/><path class=\"xlines-above crisp\" d=\"M79,273.5H238.76\" style=\"fill: none; stroke-width: 1px; stroke: rgb(36, 36, 36); stroke-opacity: 1;\"/><path class=\"ylines-above crisp\" d=\"M79.5,60V273\" style=\"fill: none; stroke-width: 1px; stroke: rgb(36, 36, 36); stroke-opacity: 1;\"/><g class=\"overlines-above\"/><g class=\"xaxislayer-above\"><path class=\"xtick ticks crisp\" d=\"M0,274v5\" transform=\"translate(93.23,0)\" style=\"stroke: rgb(68, 68, 68); stroke-opacity: 1; stroke-width: 1px;\"/><path class=\"xtick ticks crisp\" d=\"M0,274v5\" transform=\"translate(119.69,0)\" style=\"stroke: rgb(68, 68, 68); stroke-opacity: 1; stroke-width: 1px;\"/><path class=\"xtick ticks crisp\" d=\"M0,274v5\" transform=\"translate(146.15,0)\" style=\"stroke: rgb(68, 68, 68); stroke-opacity: 1; stroke-width: 1px;\"/><path class=\"xtick ticks crisp\" d=\"M0,274v5\" transform=\"translate(172.61,0)\" style=\"stroke: rgb(68, 68, 68); stroke-opacity: 1; stroke-width: 1px;\"/><path class=\"xtick ticks crisp\" d=\"M0,274v5\" transform=\"translate(199.07,0)\" style=\"stroke: rgb(68, 68, 68); stroke-opacity: 1; stroke-width: 1px;\"/><path class=\"xtick ticks crisp\" d=\"M0,274v5\" transform=\"translate(225.53,0)\" style=\"stroke: rgb(68, 68, 68); stroke-opacity: 1; stroke-width: 1px;\"/><g class=\"xtick\"><text text-anchor=\"start\" x=\"0\" y=\"293.4\" transform=\"translate(93.23,0) rotate(90,0,287.4)\" style=\"font-family: 'Open Sans', verdana, arial, sans-serif; font-size: 12px; fill: rgb(36, 36, 36); fill-opacity: 1; white-space: pre; opacity: 1;\">RT-FS_0mM</text></g><g class=\"xtick\"><text text-anchor=\"start\" x=\"0\" y=\"293.4\" transform=\"translate(119.69,0) rotate(90,0,287.4)\" style=\"font-family: 'Open Sans', verdana, arial, sans-serif; font-size: 12px; fill: rgb(36, 36, 36); fill-opacity: 1; white-space: pre; opacity: 1;\">RT-FS_57mM</text></g><g class=\"xtick\"><text text-anchor=\"start\" x=\"0\" y=\"293.4\" transform=\"translate(146.15,0) rotate(90,0,287.4)\" style=\"font-family: 'Open Sans', verdana, arial, sans-serif; font-size: 12px; fill: rgb(36, 36, 36); fill-opacity: 1; white-space: pre; opacity: 1;\">RT-FS_85mM</text></g><g class=\"xtick\"><text text-anchor=\"start\" x=\"0\" y=\"293.4\" transform=\"translate(172.61,0) rotate(90,0,287.4)\" style=\"font-family: 'Open Sans', verdana, arial, sans-serif; font-size: 12px; fill: rgb(36, 36, 36); fill-opacity: 1; white-space: pre; opacity: 1;\">RT-US_0mM</text></g><g class=\"xtick\"><text text-anchor=\"start\" x=\"0\" y=\"293.4\" transform=\"translate(199.07,0) rotate(90,0,287.4)\" style=\"font-family: 'Open Sans', verdana, arial, sans-serif; font-size: 12px; fill: rgb(36, 36, 36); fill-opacity: 1; white-space: pre; opacity: 1;\">RT-US_57mM</text></g><g class=\"xtick\"><text text-anchor=\"start\" x=\"0\" y=\"293.4\" transform=\"translate(225.53,0) rotate(90,0,287.4)\" style=\"font-family: 'Open Sans', verdana, arial, sans-serif; font-size: 12px; fill: rgb(36, 36, 36); fill-opacity: 1; white-space: pre; opacity: 1;\">RT-US_85mM</text></g></g><g class=\"yaxislayer-above\"><path class=\"ytick ticks crisp\" d=\"M79,0h-5\" transform=\"translate(0,273)\" style=\"stroke: rgb(68, 68, 68); stroke-opacity: 1; stroke-width: 1px;\"/><path class=\"ytick ticks crisp\" d=\"M79,0h-5\" transform=\"translate(0,232.53)\" style=\"stroke: rgb(68, 68, 68); stroke-opacity: 1; stroke-width: 1px;\"/><path class=\"ytick ticks crisp\" d=\"M79,0h-5\" transform=\"translate(0,192.06)\" style=\"stroke: rgb(68, 68, 68); stroke-opacity: 1; stroke-width: 1px;\"/><path class=\"ytick ticks crisp\" d=\"M79,0h-5\" transform=\"translate(0,151.59)\" style=\"stroke: rgb(68, 68, 68); stroke-opacity: 1; stroke-width: 1px;\"/><path class=\"ytick ticks crisp\" d=\"M79,0h-5\" transform=\"translate(0,111.12)\" style=\"stroke: rgb(68, 68, 68); stroke-opacity: 1; stroke-width: 1px;\"/><path class=\"ytick ticks crisp\" d=\"M79,0h-5\" transform=\"translate(0,70.65)\" style=\"stroke: rgb(68, 68, 68); stroke-opacity: 1; stroke-width: 1px;\"/><g class=\"ytick\"><text text-anchor=\"end\" x=\"71.6\" y=\"4.199999999999999\" transform=\"translate(0,273)\" style=\"font-family: 'Open Sans', verdana, arial, sans-serif; font-size: 12px; fill: rgb(36, 36, 36); fill-opacity: 1; white-space: pre; opacity: 1;\">0</text></g><g class=\"ytick\"><text text-anchor=\"end\" x=\"71.6\" y=\"4.199999999999999\" style=\"font-family: 'Open Sans', verdana, arial, sans-serif; font-size: 12px; fill: rgb(36, 36, 36); fill-opacity: 1; white-space: pre; opacity: 1;\" transform=\"translate(0,232.53)\">20</text></g><g class=\"ytick\"><text text-anchor=\"end\" x=\"71.6\" y=\"4.199999999999999\" style=\"font-family: 'Open Sans', verdana, arial, sans-serif; font-size: 12px; fill: rgb(36, 36, 36); fill-opacity: 1; white-space: pre; opacity: 1;\" transform=\"translate(0,192.06)\">40</text></g><g class=\"ytick\"><text text-anchor=\"end\" x=\"71.6\" y=\"4.199999999999999\" style=\"font-family: 'Open Sans', verdana, arial, sans-serif; font-size: 12px; fill: rgb(36, 36, 36); fill-opacity: 1; white-space: pre; opacity: 1;\" transform=\"translate(0,151.59)\">60</text></g><g class=\"ytick\"><text text-anchor=\"end\" x=\"71.6\" y=\"4.199999999999999\" style=\"font-family: 'Open Sans', verdana, arial, sans-serif; font-size: 12px; fill: rgb(36, 36, 36); fill-opacity: 1; white-space: pre; opacity: 1;\" transform=\"translate(0,111.12)\">80</text></g><g class=\"ytick\"><text text-anchor=\"end\" x=\"71.6\" y=\"4.199999999999999\" style=\"font-family: 'Open Sans', verdana, arial, sans-serif; font-size: 12px; fill: rgb(36, 36, 36); fill-opacity: 1; white-space: pre; opacity: 1;\" transform=\"translate(0,70.65)\">100</text></g></g><g class=\"overaxes-above\"/></g><g class=\"subplot x2y2\"><g class=\"layer-subplot\"><g class=\"shapelayer\"/><g class=\"imagelayer\"/></g><g class=\"minor-gridlayer\"><g class=\"x2\"/><g class=\"y2\"/></g><g class=\"gridlayer\"><g class=\"x2\"/><g class=\"y2\"><path class=\"y2grid crisp\" transform=\"translate(0,232.53)\" d=\"M245.24,0h158.76\" style=\"stroke: rgb(232, 232, 232); stroke-opacity: 1; stroke-width: 1px;\"/><path class=\"y2grid crisp\" transform=\"translate(0,192.06)\" d=\"M245.24,0h158.76\" style=\"stroke: rgb(232, 232, 232); stroke-opacity: 1; stroke-width: 1px;\"/><path class=\"y2grid crisp\" transform=\"translate(0,151.59)\" d=\"M245.24,0h158.76\" style=\"stroke: rgb(232, 232, 232); stroke-opacity: 1; stroke-width: 1px;\"/><path class=\"y2grid crisp\" transform=\"translate(0,111.12)\" d=\"M245.24,0h158.76\" style=\"stroke: rgb(232, 232, 232); stroke-opacity: 1; stroke-width: 1px;\"/><path class=\"y2grid crisp\" transform=\"translate(0,70.65)\" d=\"M245.24,0h158.76\" style=\"stroke: rgb(232, 232, 232); stroke-opacity: 1; stroke-width: 1px;\"/></g></g><g class=\"zerolinelayer\"/><path class=\"xlines-below\"/><path class=\"ylines-below\"/><g class=\"overlines-below\"/><g class=\"xaxislayer-below\"/><g class=\"yaxislayer-below\"/><g class=\"overaxes-below\"/><g class=\"plot\" transform=\"translate(245.24,60)\" clip-path=\"url(#clip500d73x2y2plot)\"><g class=\"barlayer mlayer\"><g class=\"trace bars\" shape-rendering=\"crispEdges\" style=\"opacity: 1;\"><g class=\"points\"><g class=\"point\"><path d=\"M2.65,213V85.79H23.81V213Z\" style=\"vector-effect: non-scaling-stroke; opacity: 1; stroke-width: 0.5px; fill: rgb(100, 100, 100); fill-opacity: 1; stroke: rgb(0, 0, 0); stroke-opacity: 1;\"/></g><g class=\"point\"><path d=\"M29.11,213V43.41H50.27V213Z\" style=\"vector-effect: non-scaling-stroke; opacity: 1; stroke-width: 0.5px; fill: rgb(100, 100, 100); fill-opacity: 1; stroke: rgb(0, 0, 0); stroke-opacity: 1;\"/></g><g class=\"point\"><path d=\"M55.57,213V39.12H76.73V213Z\" style=\"vector-effect: non-scaling-stroke; opacity: 1; stroke-width: 0.5px; fill: rgb(100, 100, 100); fill-opacity: 1; stroke: rgb(0, 0, 0); stroke-opacity: 1;\"/></g><g class=\"point\"><path d=\"M82.03,213V36.36H103.19V213Z\" style=\"vector-effect: non-scaling-stroke; opacity: 1; stroke-width: 0.5px; fill: rgb(100, 100, 100); fill-opacity: 1; stroke: rgb(0, 0, 0); stroke-opacity: 1;\"/></g><g class=\"point\"><path d=\"M108.49,213V42.51H129.65V213Z\" style=\"vector-effect: non-scaling-stroke; opacity: 1; stroke-width: 0.5px; fill: rgb(100, 100, 100); fill-opacity: 1; stroke: rgb(0, 0, 0); stroke-opacity: 1;\"/></g><g class=\"point\"><path d=\"M134.95,213V38.04H156.11V213Z\" style=\"vector-effect: non-scaling-stroke; opacity: 1; stroke-width: 0.5px; fill: rgb(100, 100, 100); fill-opacity: 1; stroke: rgb(0, 0, 0); stroke-opacity: 1;\"/></g></g></g><g class=\"trace bars\" shape-rendering=\"crispEdges\" style=\"opacity: 1;\"><g class=\"points\"><g class=\"point\"><path d=\"M2.65,85.79V82.68H23.81V85.79Z\" style=\"vector-effect: non-scaling-stroke; opacity: 1; stroke-width: 0.5px; fill: rgb(31, 119, 180); fill-opacity: 1; stroke: rgb(0, 0, 0); stroke-opacity: 1;\"/></g><g class=\"point\"><path d=\"M29.11,43.41V42.19H50.27V43.41Z\" style=\"vector-effect: non-scaling-stroke; opacity: 1; stroke-width: 0.5px; fill: rgb(31, 119, 180); fill-opacity: 1; stroke: rgb(0, 0, 0); stroke-opacity: 1;\"/></g><g class=\"point\"><path d=\"M55.57,39.12V37.96H76.73V39.12Z\" style=\"vector-effect: non-scaling-stroke; opacity: 1; stroke-width: 0.5px; fill: rgb(31, 119, 180); fill-opacity: 1; stroke: rgb(0, 0, 0); stroke-opacity: 1;\"/></g><g class=\"point\"><path d=\"M82.03,36.36V35.92H103.19V36.36Z\" style=\"vector-effect: non-scaling-stroke; opacity: 1; stroke-width: 0.5px; fill: rgb(31, 119, 180); fill-opacity: 1; stroke: rgb(0, 0, 0); stroke-opacity: 1;\"/></g><g class=\"point\"><path d=\"M108.49,42.51V41.82H129.65V42.51Z\" style=\"vector-effect: non-scaling-stroke; opacity: 1; stroke-width: 0.5px; fill: rgb(31, 119, 180); fill-opacity: 1; stroke: rgb(0, 0, 0); stroke-opacity: 1;\"/></g><g class=\"point\"><path d=\"M134.95,38.04V37.66H156.11V38.04Z\" style=\"vector-effect: non-scaling-stroke; opacity: 1; stroke-width: 0.5px; fill: rgb(31, 119, 180); fill-opacity: 1; stroke: rgb(0, 0, 0); stroke-opacity: 1;\"/></g></g></g><g class=\"trace bars\" shape-rendering=\"crispEdges\" style=\"opacity: 1;\"><g class=\"points\"><g class=\"point\"><path d=\"M2.65,82.68V26.98H23.81V82.68Z\" style=\"vector-effect: non-scaling-stroke; opacity: 1; stroke-width: 0.5px; fill: rgb(255, 127, 14); fill-opacity: 1; stroke: rgb(0, 0, 0); stroke-opacity: 1;\"/></g><g class=\"point\"><path d=\"M29.11,42.19V17.2H50.27V42.19Z\" style=\"vector-effect: non-scaling-stroke; opacity: 1; stroke-width: 0.5px; fill: rgb(255, 127, 14); fill-opacity: 1; stroke: rgb(0, 0, 0); stroke-opacity: 1;\"/></g><g class=\"point\"><path d=\"M55.57,37.96V15.54H76.73V37.96Z\" style=\"vector-effect: non-scaling-stroke; opacity: 1; stroke-width: 0.5px; fill: rgb(255, 127, 14); fill-opacity: 1; stroke: rgb(0, 0, 0); stroke-opacity: 1;\"/></g><g class=\"point\"><path d=\"M82.03,35.92V29.19H103.19V35.92Z\" style=\"vector-effect: non-scaling-stroke; opacity: 1; stroke-width: 0.5px; fill: rgb(255, 127, 14); fill-opacity: 1; stroke: rgb(0, 0, 0); stroke-opacity: 1;\"/></g><g class=\"point\"><path d=\"M108.49,41.82V24.57H129.65V41.82Z\" style=\"vector-effect: non-scaling-stroke; opacity: 1; stroke-width: 0.5px; fill: rgb(255, 127, 14); fill-opacity: 1; stroke: rgb(0, 0, 0); stroke-opacity: 1;\"/></g><g class=\"point\"><path d=\"M134.95,37.66V22.39H156.11V37.66Z\" style=\"vector-effect: non-scaling-stroke; opacity: 1; stroke-width: 0.5px; fill: rgb(255, 127, 14); fill-opacity: 1; stroke: rgb(0, 0, 0); stroke-opacity: 1;\"/></g></g></g><g class=\"trace bars\" shape-rendering=\"crispEdges\" style=\"opacity: 1;\"><g class=\"points\"><g class=\"point\"><path d=\"M2.65,26.98V19.27H23.81V26.98Z\" style=\"vector-effect: non-scaling-stroke; opacity: 1; stroke-width: 0.5px; fill: rgb(44, 160, 44); fill-opacity: 1; stroke: rgb(0, 0, 0); stroke-opacity: 1;\"/></g><g class=\"point\"><path d=\"M29.11,17.2V12.22H50.27V17.2Z\" style=\"vector-effect: non-scaling-stroke; opacity: 1; stroke-width: 0.5px; fill: rgb(44, 160, 44); fill-opacity: 1; stroke: rgb(0, 0, 0); stroke-opacity: 1;\"/></g><g class=\"point\"><path d=\"M55.57,15.54V11.4H76.73V15.54Z\" style=\"vector-effect: non-scaling-stroke; opacity: 1; stroke-width: 0.5px; fill: rgb(44, 160, 44); fill-opacity: 1; stroke: rgb(0, 0, 0); stroke-opacity: 1;\"/></g><g class=\"point\"><path d=\"M82.03,29.19V18.07H103.19V29.19Z\" style=\"vector-effect: non-scaling-stroke; opacity: 1; stroke-width: 0.5px; fill: rgb(44, 160, 44); fill-opacity: 1; stroke: rgb(0, 0, 0); stroke-opacity: 1;\"/></g><g class=\"point\"><path d=\"M108.49,24.57V13.43H129.65V24.57Z\" style=\"vector-effect: non-scaling-stroke; opacity: 1; stroke-width: 0.5px; fill: rgb(44, 160, 44); fill-opacity: 1; stroke: rgb(0, 0, 0); stroke-opacity: 1;\"/></g><g class=\"point\"><path d=\"M134.95,22.39V12.7H156.11V22.39Z\" style=\"vector-effect: non-scaling-stroke; opacity: 1; stroke-width: 0.5px; fill: rgb(44, 160, 44); fill-opacity: 1; stroke: rgb(0, 0, 0); stroke-opacity: 1;\"/></g></g></g><g class=\"trace bars\" shape-rendering=\"crispEdges\" style=\"opacity: 1;\"><g class=\"points\"><g class=\"point\"><path d=\"M2.65,19.27V10.65H23.81V19.27Z\" style=\"vector-effect: non-scaling-stroke; opacity: 1; stroke-width: 0.5px; fill: rgb(214, 39, 40); fill-opacity: 1; stroke: rgb(0, 0, 0); stroke-opacity: 1;\"/></g><g class=\"point\"><path d=\"M29.11,12.22V10.65H50.27V12.22Z\" style=\"vector-effect: non-scaling-stroke; opacity: 1; stroke-width: 0.5px; fill: rgb(214, 39, 40); fill-opacity: 1; stroke: rgb(0, 0, 0); stroke-opacity: 1;\"/></g><g class=\"point\"><path d=\"M55.57,11.4V10.65H76.73V11.4Z\" style=\"vector-effect: non-scaling-stroke; opacity: 1; stroke-width: 0.5px; fill: rgb(214, 39, 40); fill-opacity: 1; stroke: rgb(0, 0, 0); stroke-opacity: 1;\"/></g><g class=\"point\"><path d=\"M82.03,18.07V10.65H103.19V18.07Z\" style=\"vector-effect: non-scaling-stroke; opacity: 1; stroke-width: 0.5px; fill: rgb(214, 39, 40); fill-opacity: 1; stroke: rgb(0, 0, 0); stroke-opacity: 1;\"/></g><g class=\"point\"><path d=\"M108.49,13.43V10.65H129.65V13.43Z\" style=\"vector-effect: non-scaling-stroke; opacity: 1; stroke-width: 0.5px; fill: rgb(214, 39, 40); fill-opacity: 1; stroke: rgb(0, 0, 0); stroke-opacity: 1;\"/></g><g class=\"point\"><path d=\"M134.95,12.7V10.65H156.11V12.7Z\" style=\"vector-effect: non-scaling-stroke; opacity: 1; stroke-width: 0.5px; fill: rgb(214, 39, 40); fill-opacity: 1; stroke: rgb(0, 0, 0); stroke-opacity: 1;\"/></g></g></g></g></g><g class=\"overplot\"/><path class=\"xlines-above crisp\" d=\"M244.24,273.5H404\" style=\"fill: none; stroke-width: 1px; stroke: rgb(36, 36, 36); stroke-opacity: 1;\"/><path class=\"ylines-above crisp\" d=\"M244.74,60V273\" style=\"fill: none; stroke-width: 1px; stroke: rgb(36, 36, 36); stroke-opacity: 1;\"/><g class=\"overlines-above\"/><g class=\"xaxislayer-above\"><path class=\"x2tick ticks crisp\" d=\"M0,274v5\" transform=\"translate(258.47,0)\" style=\"stroke: rgb(68, 68, 68); stroke-opacity: 1; stroke-width: 1px;\"/><path class=\"x2tick ticks crisp\" d=\"M0,274v5\" transform=\"translate(284.93,0)\" style=\"stroke: rgb(68, 68, 68); stroke-opacity: 1; stroke-width: 1px;\"/><path class=\"x2tick ticks crisp\" d=\"M0,274v5\" transform=\"translate(311.39,0)\" style=\"stroke: rgb(68, 68, 68); stroke-opacity: 1; stroke-width: 1px;\"/><path class=\"x2tick ticks crisp\" d=\"M0,274v5\" transform=\"translate(337.85,0)\" style=\"stroke: rgb(68, 68, 68); stroke-opacity: 1; stroke-width: 1px;\"/><path class=\"x2tick ticks crisp\" d=\"M0,274v5\" transform=\"translate(364.31,0)\" style=\"stroke: rgb(68, 68, 68); stroke-opacity: 1; stroke-width: 1px;\"/><path class=\"x2tick ticks crisp\" d=\"M0,274v5\" transform=\"translate(390.77,0)\" style=\"stroke: rgb(68, 68, 68); stroke-opacity: 1; stroke-width: 1px;\"/><g class=\"x2tick\"><text text-anchor=\"start\" x=\"0\" y=\"293.4\" transform=\"translate(258.47,0) rotate(90,0,287.4)\" style=\"font-family: 'Open Sans', verdana, arial, sans-serif; font-size: 12px; fill: rgb(36, 36, 36); fill-opacity: 1; white-space: pre; opacity: 1;\">RT-FS_0mM</text></g><g class=\"x2tick\"><text text-anchor=\"start\" x=\"0\" y=\"293.4\" transform=\"translate(284.93,0) rotate(90,0,287.4)\" style=\"font-family: 'Open Sans', verdana, arial, sans-serif; font-size: 12px; fill: rgb(36, 36, 36); fill-opacity: 1; white-space: pre; opacity: 1;\">RT-FS_57mM</text></g><g class=\"x2tick\"><text text-anchor=\"start\" x=\"0\" y=\"293.4\" transform=\"translate(311.39,0) rotate(90,0,287.4)\" style=\"font-family: 'Open Sans', verdana, arial, sans-serif; font-size: 12px; fill: rgb(36, 36, 36); fill-opacity: 1; white-space: pre; opacity: 1;\">RT-FS_85mM</text></g><g class=\"x2tick\"><text text-anchor=\"start\" x=\"0\" y=\"293.4\" transform=\"translate(337.85,0) rotate(90,0,287.4)\" style=\"font-family: 'Open Sans', verdana, arial, sans-serif; font-size: 12px; fill: rgb(36, 36, 36); fill-opacity: 1; white-space: pre; opacity: 1;\">RT-US_0mM</text></g><g class=\"x2tick\"><text text-anchor=\"start\" x=\"0\" y=\"293.4\" transform=\"translate(364.31,0) rotate(90,0,287.4)\" style=\"font-family: 'Open Sans', verdana, arial, sans-serif; font-size: 12px; fill: rgb(36, 36, 36); fill-opacity: 1; white-space: pre; opacity: 1;\">RT-US_57mM</text></g><g class=\"x2tick\"><text text-anchor=\"start\" x=\"0\" y=\"293.4\" transform=\"translate(390.77,0) rotate(90,0,287.4)\" style=\"font-family: 'Open Sans', verdana, arial, sans-serif; font-size: 12px; fill: rgb(36, 36, 36); fill-opacity: 1; white-space: pre; opacity: 1;\">RT-US_85mM</text></g></g><g class=\"yaxislayer-above\"><path class=\"y2tick ticks crisp\" d=\"M244.24,0h-5\" transform=\"translate(0,273)\" style=\"stroke: rgb(68, 68, 68); stroke-opacity: 1; stroke-width: 1px;\"/><path class=\"y2tick ticks crisp\" d=\"M244.24,0h-5\" transform=\"translate(0,232.53)\" style=\"stroke: rgb(68, 68, 68); stroke-opacity: 1; stroke-width: 1px;\"/><path class=\"y2tick ticks crisp\" d=\"M244.24,0h-5\" transform=\"translate(0,192.06)\" style=\"stroke: rgb(68, 68, 68); stroke-opacity: 1; stroke-width: 1px;\"/><path class=\"y2tick ticks crisp\" d=\"M244.24,0h-5\" transform=\"translate(0,151.59)\" style=\"stroke: rgb(68, 68, 68); stroke-opacity: 1; stroke-width: 1px;\"/><path class=\"y2tick ticks crisp\" d=\"M244.24,0h-5\" transform=\"translate(0,111.12)\" style=\"stroke: rgb(68, 68, 68); stroke-opacity: 1; stroke-width: 1px;\"/><path class=\"y2tick ticks crisp\" d=\"M244.24,0h-5\" transform=\"translate(0,70.65)\" style=\"stroke: rgb(68, 68, 68); stroke-opacity: 1; stroke-width: 1px;\"/></g><g class=\"overaxes-above\"/></g></g><g class=\"polarlayer\"/><g class=\"smithlayer\"/><g class=\"ternarylayer\"/><g class=\"geolayer\"/><g class=\"funnelarealayer\"/><g class=\"pielayer\"/><g class=\"iciclelayer\"/><g class=\"treemaplayer\"/><g class=\"sunburstlayer\"/><g class=\"glimages\"/><defs id=\"topdefs-500d73\"><g class=\"clips\"/><clipPath id=\"legend500d73\"><rect width=\"178\" height=\"124\" x=\"0\" y=\"0\"/></clipPath></defs><g class=\"layer-above\"><g class=\"imagelayer\"/><g class=\"shapelayer\"/></g><g class=\"infolayer\"><g class=\"legend\" pointer-events=\"all\" transform=\"translate(410.48,60)\"><rect class=\"bg\" shape-rendering=\"crispEdges\" width=\"178\" height=\"124\" x=\"0\" y=\"0\" style=\"stroke: rgb(68, 68, 68); stroke-opacity: 1; fill: rgb(255, 255, 255); fill-opacity: 1; stroke-width: 0px;\"/><g class=\"scrollbox\" transform=\"\" clip-path=\"url(#legend500d73)\"><text class=\"legendtitletext\" text-anchor=\"start\" x=\"2\" y=\"18.2\" style=\"font-family: 'Open Sans', verdana, arial, sans-serif; font-size: 14px; fill: rgb(36, 36, 36); fill-opacity: 1; white-space: pre;\">assignment_type</text><g class=\"groups\" transform=\"\"><g class=\"traces\" transform=\"translate(0,32.7)\" style=\"opacity: 1;\"><text class=\"legendtext\" text-anchor=\"start\" x=\"40\" y=\"4.680000000000001\" style=\"font-family: 'Open Sans', verdana, arial, sans-serif; font-size: 12px; fill: rgb(36, 36, 36); fill-opacity: 1; white-space: pre;\">unique</text><g class=\"layers\" style=\"opacity: 1;\"><g class=\"legendfill\"/><g class=\"legendlines\"/><g class=\"legendsymbols\"><g class=\"legendpoints\"><path class=\"legendundefined\" d=\"M6,6H-6V-6H6Z\" transform=\"translate(20,0)\" style=\"stroke-width: 0.5px; fill: rgb(100, 100, 100); fill-opacity: 1; stroke: rgb(0, 0, 0); stroke-opacity: 1;\"/></g></g></g><rect class=\"legendtoggle\" x=\"0\" y=\"-9.5\" width=\"172.203125\" height=\"19\" style=\"fill: rgb(0, 0, 0); fill-opacity: 0;\"/></g></g><g class=\"groups\" transform=\"\"><g class=\"traces\" transform=\"translate(0,51.7)\" style=\"opacity: 1;\"><text class=\"legendtext\" text-anchor=\"start\" x=\"40\" y=\"4.680000000000001\" style=\"font-family: 'Open Sans', verdana, arial, sans-serif; font-size: 12px; fill: rgb(36, 36, 36); fill-opacity: 1; white-space: pre;\">unique_minor_difference</text><g class=\"layers\" style=\"opacity: 1;\"><g class=\"legendfill\"/><g class=\"legendlines\"/><g class=\"legendsymbols\"><g class=\"legendpoints\"><path class=\"legendundefined\" d=\"M6,6H-6V-6H6Z\" transform=\"translate(20,0)\" style=\"stroke-width: 0.5px; fill: rgb(31, 119, 180); fill-opacity: 1; stroke: rgb(0, 0, 0); stroke-opacity: 1;\"/></g></g></g><rect class=\"legendtoggle\" x=\"0\" y=\"-9.5\" width=\"172.203125\" height=\"19\" style=\"fill: rgb(0, 0, 0); fill-opacity: 0;\"/></g></g><g class=\"groups\" transform=\"\"><g class=\"traces\" transform=\"translate(0,70.7)\" style=\"opacity: 1;\"><text class=\"legendtext\" text-anchor=\"start\" x=\"40\" y=\"4.680000000000001\" style=\"font-family: 'Open Sans', verdana, arial, sans-serif; font-size: 12px; fill: rgb(36, 36, 36); fill-opacity: 1; white-space: pre;\">ambiguous</text><g class=\"layers\" style=\"opacity: 1;\"><g class=\"legendfill\"/><g class=\"legendlines\"/><g class=\"legendsymbols\"><g class=\"legendpoints\"><path class=\"legendundefined\" d=\"M6,6H-6V-6H6Z\" transform=\"translate(20,0)\" style=\"stroke-width: 0.5px; fill: rgb(255, 127, 14); fill-opacity: 1; stroke: rgb(0, 0, 0); stroke-opacity: 1;\"/></g></g></g><rect class=\"legendtoggle\" x=\"0\" y=\"-9.5\" width=\"172.203125\" height=\"19\" style=\"fill: rgb(0, 0, 0); fill-opacity: 0;\"/></g></g><g class=\"groups\" transform=\"\"><g class=\"traces\" transform=\"translate(0,89.7)\" style=\"opacity: 1;\"><text class=\"legendtext\" text-anchor=\"start\" x=\"40\" y=\"4.680000000000001\" style=\"font-family: 'Open Sans', verdana, arial, sans-serif; font-size: 12px; fill: rgb(36, 36, 36); fill-opacity: 1; white-space: pre;\">inconsistent</text><g class=\"layers\" style=\"opacity: 1;\"><g class=\"legendfill\"/><g class=\"legendlines\"/><g class=\"legendsymbols\"><g class=\"legendpoints\"><path class=\"legendundefined\" d=\"M6,6H-6V-6H6Z\" transform=\"translate(20,0)\" style=\"stroke-width: 0.5px; fill: rgb(44, 160, 44); fill-opacity: 1; stroke: rgb(0, 0, 0); stroke-opacity: 1;\"/></g></g></g><rect class=\"legendtoggle\" x=\"0\" y=\"-9.5\" width=\"172.203125\" height=\"19\" style=\"fill: rgb(0, 0, 0); fill-opacity: 0;\"/></g></g><g class=\"groups\" transform=\"\"><g class=\"traces\" transform=\"translate(0,108.7)\" style=\"opacity: 1;\"><text class=\"legendtext\" text-anchor=\"start\" x=\"40\" y=\"4.680000000000001\" style=\"font-family: 'Open Sans', verdana, arial, sans-serif; font-size: 12px; fill: rgb(36, 36, 36); fill-opacity: 1; white-space: pre;\">noninformative</text><g class=\"layers\" style=\"opacity: 1;\"><g class=\"legendfill\"/><g class=\"legendlines\"/><g class=\"legendsymbols\"><g class=\"legendpoints\"><path class=\"legendundefined\" d=\"M6,6H-6V-6H6Z\" transform=\"translate(20,0)\" style=\"stroke-width: 0.5px; fill: rgb(214, 39, 40); fill-opacity: 1; stroke: rgb(0, 0, 0); stroke-opacity: 1;\"/></g></g></g><rect class=\"legendtoggle\" x=\"0\" y=\"-9.5\" width=\"172.203125\" height=\"19\" style=\"fill: rgb(0, 0, 0); fill-opacity: 0;\"/></g></g></g><rect class=\"scrollbar\" rx=\"20\" ry=\"3\" width=\"0\" height=\"0\" x=\"0\" y=\"0\" style=\"fill: rgb(128, 139, 164); fill-opacity: 1;\"/></g><g class=\"g-gtitle\"/><g class=\"g-xtitle\"><text class=\"xtitle\" x=\"159.38\" y=\"388.012890625\" text-anchor=\"middle\" style=\"font-family: 'Open Sans', verdana, arial, sans-serif; font-size: 14px; fill: rgb(36, 36, 36); opacity: 1; font-weight: normal; white-space: pre;\">RT_and_DMS</text></g><g class=\"g-x2title\"><text class=\"x2title\" x=\"324.62\" y=\"388.012890625\" text-anchor=\"middle\" style=\"font-family: 'Open Sans', verdana, arial, sans-serif; font-size: 14px; fill: rgb(36, 36, 36); opacity: 1; font-weight: normal; white-space: pre;\">RT_and_DMS</text></g><g class=\"g-ytitle\"><text class=\"ytitle\" transform=\"rotate(-90,26.778125000000003,166.5)\" x=\"26.778125000000003\" y=\"166.5\" text-anchor=\"middle\" style=\"font-family: 'Open Sans', verdana, arial, sans-serif; font-size: 14px; fill: rgb(36, 36, 36); opacity: 1; font-weight: normal; white-space: pre;\">percent</text></g><g class=\"g-y2title\"/><g class=\"annotation\" data-index=\"0\" style=\"opacity: 1;\"><g class=\"annotation-text-g\" transform=\"rotate(0,159.38,51)\"><g class=\"cursor-pointer\" transform=\"translate(117,42)\"><rect class=\"bg\" x=\"0.5\" y=\"0.5\" width=\"84\" height=\"17\" style=\"stroke-width: 1px; stroke: rgb(0, 0, 0); stroke-opacity: 0; fill: rgb(0, 0, 0); fill-opacity: 0;\"/><text class=\"annotation-text\" text-anchor=\"middle\" x=\"42.53125\" y=\"13\" style=\"font-family: 'Open Sans', verdana, arial, sans-serif; font-size: 12px; fill: rgb(36, 36, 36); fill-opacity: 1; white-space: pre;\">replicate=Rep1</text></g></g></g><g class=\"annotation\" data-index=\"1\" style=\"opacity: 1;\"><g class=\"annotation-text-g\" transform=\"rotate(0,324.62,51)\"><g class=\"cursor-pointer\" transform=\"translate(282,42)\"><rect class=\"bg\" x=\"0.5\" y=\"0.5\" width=\"84\" height=\"17\" style=\"stroke-width: 1px; stroke: rgb(0, 0, 0); stroke-opacity: 0; fill: rgb(0, 0, 0); fill-opacity: 0;\"/><text class=\"annotation-text\" text-anchor=\"middle\" x=\"42.53125\" y=\"13\" style=\"font-family: 'Open Sans', verdana, arial, sans-serif; font-size: 12px; fill: rgb(36, 36, 36); fill-opacity: 1; white-space: pre;\">replicate=Rep2</text></g></g></g></g></svg>"
      ]
     },
     "metadata": {},
     "output_type": "display_data"
    }
   ],
   "source": [
    "fig = px.bar(assignment_counts, x=\"RT_and_DMS\", y=\"percent\", facet_col=\"replicate\", color=\"assignment_type\", barmode=\"stack\", category_orders=order)\n",
    "fig.update_yaxes(dtick=20, showgrid=True)\n",
    "fig.update_layout(width=600, height=400)\n",
    "fig.update_traces(width=0.8, marker_line_width=0.5, marker_line_color=\"black\")\n",
    "fig.write_image(f\"{figure_dir}/isoquant_classification_percent.svg\")\n",
    "fig.show(renderer=\"svg\")"
   ]
  },
  {
   "cell_type": "markdown",
   "id": "f70fd922-dad5-4da6-9f5a-19574826c20f",
   "metadata": {},
   "source": [
    "# Relative isoform expression for uniquely assigned isoforms"
   ]
  },
  {
   "cell_type": "code",
   "execution_count": 108,
   "id": "c6e46cfa-d41b-47bc-8a57-f806ba60ea16",
   "metadata": {},
   "outputs": [],
   "source": [
    "unique_assignment_df = read_assignment_df[read_assignment_df[\"assignment_type\"].isin([\"unique\", \"unique_minor_difference\"])]\n",
    "isoform_count_df = unique_assignment_df.groupby(\"sample\")[\"isoform_id\"].value_counts().reset_index(name=\"count\")\n",
    "isoform_count_df = split_unique_name(isoform_count_df, unique_name_column = \"sample\")"
   ]
  },
  {
   "cell_type": "code",
   "execution_count": 120,
   "id": "2bdc11c5-a259-4f5b-8941-beb5770665b1",
   "metadata": {},
   "outputs": [],
   "source": [
    "# This export is critical for use in the workflow because it is used to identify isoforms that have a minimum amount of reads assigned. \n",
    "\n",
    "isoform_count_df.to_pickle(f\"{data_folder}/isoquant/read_counts.pickle\")"
   ]
  },
  {
   "cell_type": "code",
   "execution_count": 117,
   "id": "f13f34f7-aa64-4cc5-8318-3778aa846aee",
   "metadata": {},
   "outputs": [
    {
     "data": {
      "image/svg+xml": [
       "<svg class=\"main-svg\" xmlns=\"http://www.w3.org/2000/svg\" xmlns:xlink=\"http://www.w3.org/1999/xlink\" width=\"600\" height=\"400\" style=\"\" viewBox=\"0 0 600 400\"><rect x=\"0\" y=\"0\" width=\"600\" height=\"400\" style=\"fill: rgb(255, 255, 255); fill-opacity: 1;\"/><defs id=\"defs-6b7065\"><g class=\"clips\"><clipPath id=\"clip6b7065xyplot\" class=\"plotclip\"><rect width=\"158.27\" height=\"213\"/></clipPath><clipPath id=\"clip6b7065x2y2plot\" class=\"plotclip\"><rect width=\"158.27\" height=\"213\"/></clipPath><clipPath class=\"axesclip\" id=\"clip6b7065x\"><rect x=\"80\" y=\"0\" width=\"158.27\" height=\"400\"/></clipPath><clipPath class=\"axesclip\" id=\"clip6b7065y\"><rect x=\"0\" y=\"60\" width=\"600\" height=\"213\"/></clipPath><clipPath class=\"axesclip\" id=\"clip6b7065xy\"><rect x=\"80\" y=\"60\" width=\"158.27\" height=\"213\"/></clipPath><clipPath class=\"axesclip\" id=\"clip6b7065y2\"><rect x=\"0\" y=\"60\" width=\"600\" height=\"213\"/></clipPath><clipPath class=\"axesclip\" id=\"clip6b7065xy2\"><rect x=\"80\" y=\"60\" width=\"158.27\" height=\"213\"/></clipPath><clipPath class=\"axesclip\" id=\"clip6b7065x2\"><rect x=\"244.73\" y=\"0\" width=\"158.27\" height=\"400\"/></clipPath><clipPath class=\"axesclip\" id=\"clip6b7065x2y\"><rect x=\"244.73\" y=\"60\" width=\"158.27\" height=\"213\"/></clipPath><clipPath class=\"axesclip\" id=\"clip6b7065x2y2\"><rect x=\"244.73\" y=\"60\" width=\"158.27\" height=\"213\"/></clipPath></g><g class=\"gradients\"/><g class=\"patterns\"/></defs><g class=\"bglayer\"/><g class=\"layer-below\"><g class=\"imagelayer\"/><g class=\"shapelayer\"/></g><g class=\"cartesianlayer\"><g class=\"subplot xy\"><g class=\"layer-subplot\"><g class=\"shapelayer\"/><g class=\"imagelayer\"/></g><g class=\"minor-gridlayer\"><g class=\"x\"/><g class=\"y\"/></g><g class=\"gridlayer\"><g class=\"x\"/><g class=\"y\"><path class=\"ygrid crisp\" transform=\"translate(0,220.53)\" d=\"M80,0h158.27\" style=\"stroke: rgb(232, 232, 232); stroke-opacity: 1; stroke-width: 1px;\"/><path class=\"ygrid crisp\" transform=\"translate(0,168.05)\" d=\"M80,0h158.27\" style=\"stroke: rgb(232, 232, 232); stroke-opacity: 1; stroke-width: 1px;\"/><path class=\"ygrid crisp\" transform=\"translate(0,115.58)\" d=\"M80,0h158.27\" style=\"stroke: rgb(232, 232, 232); stroke-opacity: 1; stroke-width: 1px;\"/><path class=\"ygrid crisp\" transform=\"translate(0,63.11)\" d=\"M80,0h158.27\" style=\"stroke: rgb(232, 232, 232); stroke-opacity: 1; stroke-width: 1px;\"/></g></g><g class=\"zerolinelayer\"/><path class=\"xlines-below\"/><path class=\"ylines-below\"/><g class=\"overlines-below\"/><g class=\"xaxislayer-below\"/><g class=\"yaxislayer-below\"/><g class=\"overaxes-below\"/><g class=\"plot\" transform=\"translate(80,60)\" clip-path=\"url(#clip6b7065xyplot)\"><g class=\"barlayer mlayer\"><g class=\"trace bars\" style=\"opacity: 1;\"><g class=\"points\"><g class=\"point\"><path d=\"M2.64,213V212.68H23.74V213Z\" style=\"vector-effect: non-scaling-stroke; opacity: 1; stroke-width: 0.5px; fill: rgb(0, 0, 0); fill-opacity: 1; stroke: rgb(0, 0, 0); stroke-opacity: 1;\"/></g><g class=\"point\"><path d=\"M29.02,213V212.48H50.12V213Z\" style=\"vector-effect: non-scaling-stroke; opacity: 1; stroke-width: 0.5px; fill: rgb(0, 0, 0); fill-opacity: 1; stroke: rgb(0, 0, 0); stroke-opacity: 1;\"/></g><g class=\"point\"><path d=\"M55.39,213V212.47H76.5V213Z\" style=\"vector-effect: non-scaling-stroke; opacity: 1; stroke-width: 0.5px; fill: rgb(0, 0, 0); fill-opacity: 1; stroke: rgb(0, 0, 0); stroke-opacity: 1;\"/></g><g class=\"point\"><path d=\"M81.77,213V177.66H102.88V213Z\" style=\"vector-effect: non-scaling-stroke; opacity: 1; stroke-width: 0.5px; fill: rgb(0, 0, 0); fill-opacity: 1; stroke: rgb(0, 0, 0); stroke-opacity: 1;\"/></g><g class=\"point\"><path d=\"M108.15,213V164.67H129.25V213Z\" style=\"vector-effect: non-scaling-stroke; opacity: 1; stroke-width: 0.5px; fill: rgb(0, 0, 0); fill-opacity: 1; stroke: rgb(0, 0, 0); stroke-opacity: 1;\"/></g><g class=\"point\"><path d=\"M134.53,213V138.55H155.63V213Z\" style=\"vector-effect: non-scaling-stroke; opacity: 1; stroke-width: 0.5px; fill: rgb(0, 0, 0); fill-opacity: 1; stroke: rgb(0, 0, 0); stroke-opacity: 1;\"/></g></g></g><g class=\"trace bars\" style=\"opacity: 1;\"><g class=\"points\"><g class=\"point\"><path d=\"M2.64,212.68V212.63H23.74V212.68Z\" style=\"vector-effect: non-scaling-stroke; opacity: 1; stroke-width: 0.5px; fill: rgb(0, 0, 0); fill-opacity: 1; stroke: rgb(0, 0, 0); stroke-opacity: 1;\"/></g><g class=\"point\"><path d=\"M29.02,212.48V212.45H50.12V212.48Z\" style=\"vector-effect: non-scaling-stroke; opacity: 1; stroke-width: 0.5px; fill: rgb(0, 0, 0); fill-opacity: 1; stroke: rgb(0, 0, 0); stroke-opacity: 1;\"/></g><g class=\"point\"><path d=\"M55.39,212.47V212.42H76.5V212.47Z\" style=\"vector-effect: non-scaling-stroke; opacity: 1; stroke-width: 0.5px; fill: rgb(0, 0, 0); fill-opacity: 1; stroke: rgb(0, 0, 0); stroke-opacity: 1;\"/></g><g class=\"point\"><path d=\"M81.77,177.66V177.46H102.88V177.66Z\" style=\"vector-effect: non-scaling-stroke; opacity: 1; stroke-width: 0.5px; fill: rgb(0, 0, 0); fill-opacity: 1; stroke: rgb(0, 0, 0); stroke-opacity: 1;\"/></g><g class=\"point\"><path d=\"M108.15,164.67V164.61H129.25V164.67Z\" style=\"vector-effect: non-scaling-stroke; opacity: 1; stroke-width: 0.5px; fill: rgb(0, 0, 0); fill-opacity: 1; stroke: rgb(0, 0, 0); stroke-opacity: 1;\"/></g><g class=\"point\"><path d=\"M134.53,138.55V138.49H155.63V138.55Z\" style=\"vector-effect: non-scaling-stroke; opacity: 1; stroke-width: 0.5px; fill: rgb(0, 0, 0); fill-opacity: 1; stroke: rgb(0, 0, 0); stroke-opacity: 1;\"/></g></g></g><g class=\"trace bars\" style=\"opacity: 1;\"><g class=\"points\"><g class=\"point\"><path d=\"M2.64,212.63V192.71H23.74V212.63Z\" style=\"vector-effect: non-scaling-stroke; opacity: 1; stroke-width: 0.5px; fill: rgb(17, 120, 100); fill-opacity: 1; stroke: rgb(0, 0, 0); stroke-opacity: 1;\"/></g><g class=\"point\"><path d=\"M29.02,212.45V186.46H50.12V212.45Z\" style=\"vector-effect: non-scaling-stroke; opacity: 1; stroke-width: 0.5px; fill: rgb(17, 120, 100); fill-opacity: 1; stroke: rgb(0, 0, 0); stroke-opacity: 1;\"/></g><g class=\"point\"><path d=\"M55.39,212.42V183.01H76.5V212.42Z\" style=\"vector-effect: non-scaling-stroke; opacity: 1; stroke-width: 0.5px; fill: rgb(17, 120, 100); fill-opacity: 1; stroke: rgb(0, 0, 0); stroke-opacity: 1;\"/></g><g class=\"point\"><path d=\"M81.77,177.46V177.46H102.88V177.46Z\" style=\"vector-effect: non-scaling-stroke; opacity: 1; stroke-width: 0.5px; fill: rgb(17, 120, 100); fill-opacity: 1; stroke: rgb(0, 0, 0); stroke-opacity: 1;\"/></g><g class=\"point\"><path d=\"M108.15,164.61V164.6H129.25V164.61Z\" style=\"vector-effect: non-scaling-stroke; opacity: 1; stroke-width: 0.5px; fill: rgb(17, 120, 100); fill-opacity: 1; stroke: rgb(0, 0, 0); stroke-opacity: 1;\"/></g><g class=\"point\"><path d=\"M134.53,138.49V138.48H155.63V138.49Z\" style=\"vector-effect: non-scaling-stroke; opacity: 1; stroke-width: 0.5px; fill: rgb(17, 120, 100); fill-opacity: 1; stroke: rgb(0, 0, 0); stroke-opacity: 1;\"/></g></g></g><g class=\"trace bars\" style=\"opacity: 1;\"><g class=\"points\"><g class=\"point\"><path d=\"M2.64,192.71V178.31H23.74V192.71Z\" style=\"vector-effect: non-scaling-stroke; opacity: 1; stroke-width: 0.5px; fill: rgb(20, 143, 119); fill-opacity: 1; stroke: rgb(0, 0, 0); stroke-opacity: 1;\"/></g><g class=\"point\"><path d=\"M29.02,186.46V165.78H50.12V186.46Z\" style=\"vector-effect: non-scaling-stroke; opacity: 1; stroke-width: 0.5px; fill: rgb(20, 143, 119); fill-opacity: 1; stroke: rgb(0, 0, 0); stroke-opacity: 1;\"/></g><g class=\"point\"><path d=\"M55.39,183.01V159.63H76.5V183.01Z\" style=\"vector-effect: non-scaling-stroke; opacity: 1; stroke-width: 0.5px; fill: rgb(20, 143, 119); fill-opacity: 1; stroke: rgb(0, 0, 0); stroke-opacity: 1;\"/></g><g class=\"point\"><path d=\"M81.77,177.46V177.45H102.88V177.46Z\" style=\"vector-effect: non-scaling-stroke; opacity: 1; stroke-width: 0.5px; fill: rgb(20, 143, 119); fill-opacity: 1; stroke: rgb(0, 0, 0); stroke-opacity: 1;\"/></g><g class=\"point\"><path d=\"M108.15,164.6V164.6H129.25V164.6Z\" style=\"vector-effect: non-scaling-stroke; opacity: 1; stroke-width: 0.5px; fill: rgb(20, 143, 119); fill-opacity: 1; stroke: rgb(0, 0, 0); stroke-opacity: 1;\"/></g><g class=\"point\"><path d=\"M134.53,138.48V138.47H155.63V138.48Z\" style=\"vector-effect: non-scaling-stroke; opacity: 1; stroke-width: 0.5px; fill: rgb(20, 143, 119); fill-opacity: 1; stroke: rgb(0, 0, 0); stroke-opacity: 1;\"/></g></g></g><g class=\"trace bars\" style=\"opacity: 1;\"><g class=\"points\"><g class=\"point\"><path d=\"M2.64,178.31V156.59H23.74V178.31Z\" style=\"vector-effect: non-scaling-stroke; opacity: 1; stroke-width: 0.5px; fill: rgb(23, 165, 137); fill-opacity: 1; stroke: rgb(0, 0, 0); stroke-opacity: 1;\"/></g><g class=\"point\"><path d=\"M29.02,165.78V134.9H50.12V165.78Z\" style=\"vector-effect: non-scaling-stroke; opacity: 1; stroke-width: 0.5px; fill: rgb(23, 165, 137); fill-opacity: 1; stroke: rgb(0, 0, 0); stroke-opacity: 1;\"/></g><g class=\"point\"><path d=\"M55.39,159.63V125.74H76.5V159.63Z\" style=\"vector-effect: non-scaling-stroke; opacity: 1; stroke-width: 0.5px; fill: rgb(23, 165, 137); fill-opacity: 1; stroke: rgb(0, 0, 0); stroke-opacity: 1;\"/></g><g class=\"point\"><path d=\"M81.77,177.45V177.43H102.88V177.45Z\" style=\"vector-effect: non-scaling-stroke; opacity: 1; stroke-width: 0.5px; fill: rgb(23, 165, 137); fill-opacity: 1; stroke: rgb(0, 0, 0); stroke-opacity: 1;\"/></g><g class=\"point\"><path d=\"M108.15,164.6V164.59H129.25V164.6Z\" style=\"vector-effect: non-scaling-stroke; opacity: 1; stroke-width: 0.5px; fill: rgb(23, 165, 137); fill-opacity: 1; stroke: rgb(0, 0, 0); stroke-opacity: 1;\"/></g><g class=\"point\"><path d=\"M134.53,138.47V138.45H155.63V138.47Z\" style=\"vector-effect: non-scaling-stroke; opacity: 1; stroke-width: 0.5px; fill: rgb(23, 165, 137); fill-opacity: 1; stroke: rgb(0, 0, 0); stroke-opacity: 1;\"/></g></g></g><g class=\"trace bars\" style=\"opacity: 1;\"><g class=\"points\"><g class=\"point\"><path d=\"M2.64,156.59V140.43H23.74V156.59Z\" style=\"vector-effect: non-scaling-stroke; opacity: 1; stroke-width: 0.5px; fill: rgb(26, 188, 156); fill-opacity: 1; stroke: rgb(0, 0, 0); stroke-opacity: 1;\"/></g><g class=\"point\"><path d=\"M29.02,134.9V110.77H50.12V134.9Z\" style=\"vector-effect: non-scaling-stroke; opacity: 1; stroke-width: 0.5px; fill: rgb(26, 188, 156); fill-opacity: 1; stroke: rgb(0, 0, 0); stroke-opacity: 1;\"/></g><g class=\"point\"><path d=\"M55.39,125.74V99.82H76.5V125.74Z\" style=\"vector-effect: non-scaling-stroke; opacity: 1; stroke-width: 0.5px; fill: rgb(26, 188, 156); fill-opacity: 1; stroke: rgb(0, 0, 0); stroke-opacity: 1;\"/></g><g class=\"point\"><path d=\"M81.77,177.43V177.34H102.88V177.43Z\" style=\"vector-effect: non-scaling-stroke; opacity: 1; stroke-width: 0.5px; fill: rgb(26, 188, 156); fill-opacity: 1; stroke: rgb(0, 0, 0); stroke-opacity: 1;\"/></g><g class=\"point\"><path d=\"M108.15,164.59V164.53H129.25V164.59Z\" style=\"vector-effect: non-scaling-stroke; opacity: 1; stroke-width: 0.5px; fill: rgb(26, 188, 156); fill-opacity: 1; stroke: rgb(0, 0, 0); stroke-opacity: 1;\"/></g><g class=\"point\"><path d=\"M134.53,138.45V138.37H155.63V138.45Z\" style=\"vector-effect: non-scaling-stroke; opacity: 1; stroke-width: 0.5px; fill: rgb(26, 188, 156); fill-opacity: 1; stroke: rgb(0, 0, 0); stroke-opacity: 1;\"/></g></g></g><g class=\"trace bars\" style=\"opacity: 1;\"><g class=\"points\"><g class=\"point\"><path d=\"M2.64,140.43V139.91H23.74V140.43Z\" style=\"vector-effect: non-scaling-stroke; opacity: 1; stroke-width: 0.5px; fill: rgb(72, 201, 176); fill-opacity: 1; stroke: rgb(0, 0, 0); stroke-opacity: 1;\"/></g><g class=\"point\"><path d=\"M29.02,110.77V110.09H50.12V110.77Z\" style=\"vector-effect: non-scaling-stroke; opacity: 1; stroke-width: 0.5px; fill: rgb(72, 201, 176); fill-opacity: 1; stroke: rgb(0, 0, 0); stroke-opacity: 1;\"/></g><g class=\"point\"><path d=\"M55.39,99.82V99.04H76.5V99.82Z\" style=\"vector-effect: non-scaling-stroke; opacity: 1; stroke-width: 0.5px; fill: rgb(72, 201, 176); fill-opacity: 1; stroke: rgb(0, 0, 0); stroke-opacity: 1;\"/></g></g></g><g class=\"trace bars\" style=\"opacity: 1;\"><g class=\"points\"><g class=\"point\"><path d=\"M2.64,139.91V139.54H23.74V139.91Z\" style=\"vector-effect: non-scaling-stroke; opacity: 1; stroke-width: 0.5px; fill: rgb(118, 215, 196); fill-opacity: 1; stroke: rgb(0, 0, 0); stroke-opacity: 1;\"/></g><g class=\"point\"><path d=\"M29.02,110.09V109.56H50.12V110.09Z\" style=\"vector-effect: non-scaling-stroke; opacity: 1; stroke-width: 0.5px; fill: rgb(118, 215, 196); fill-opacity: 1; stroke: rgb(0, 0, 0); stroke-opacity: 1;\"/></g><g class=\"point\"><path d=\"M55.39,99.04V98.4H76.5V99.04Z\" style=\"vector-effect: non-scaling-stroke; opacity: 1; stroke-width: 0.5px; fill: rgb(118, 215, 196); fill-opacity: 1; stroke: rgb(0, 0, 0); stroke-opacity: 1;\"/></g></g></g><g class=\"trace bars\" style=\"opacity: 1;\"><g class=\"points\"><g class=\"point\"><path d=\"M2.64,139.54V139.49H23.74V139.54Z\" style=\"vector-effect: non-scaling-stroke; opacity: 1; stroke-width: 0.5px; fill: rgb(163, 228, 215); fill-opacity: 1; stroke: rgb(0, 0, 0); stroke-opacity: 1;\"/></g><g class=\"point\"><path d=\"M29.02,109.56V109.47H50.12V109.56Z\" style=\"vector-effect: non-scaling-stroke; opacity: 1; stroke-width: 0.5px; fill: rgb(163, 228, 215); fill-opacity: 1; stroke: rgb(0, 0, 0); stroke-opacity: 1;\"/></g><g class=\"point\"><path d=\"M55.39,98.4V98.3H76.5V98.4Z\" style=\"vector-effect: non-scaling-stroke; opacity: 1; stroke-width: 0.5px; fill: rgb(163, 228, 215); fill-opacity: 1; stroke: rgb(0, 0, 0); stroke-opacity: 1;\"/></g></g></g><g class=\"trace bars\" style=\"opacity: 1;\"><g class=\"points\"><g class=\"point\"><path d=\"M2.64,139.49V139.41H23.74V139.49Z\" style=\"vector-effect: non-scaling-stroke; opacity: 1; stroke-width: 0.5px; fill: rgb(29, 131, 72); fill-opacity: 1; stroke: rgb(0, 0, 0); stroke-opacity: 1;\"/></g><g class=\"point\"><path d=\"M29.02,109.47V109.31H50.12V109.47Z\" style=\"vector-effect: non-scaling-stroke; opacity: 1; stroke-width: 0.5px; fill: rgb(29, 131, 72); fill-opacity: 1; stroke: rgb(0, 0, 0); stroke-opacity: 1;\"/></g><g class=\"point\"><path d=\"M55.39,98.3V98.12H76.5V98.3Z\" style=\"vector-effect: non-scaling-stroke; opacity: 1; stroke-width: 0.5px; fill: rgb(29, 131, 72); fill-opacity: 1; stroke: rgb(0, 0, 0); stroke-opacity: 1;\"/></g></g></g><g class=\"trace bars\" style=\"opacity: 1;\"><g class=\"points\"><g class=\"point\"><path d=\"M2.64,139.41V139.41H23.74V139.41Z\" style=\"vector-effect: non-scaling-stroke; opacity: 1; stroke-width: 0.5px; fill: rgb(35, 155, 86); fill-opacity: 1; stroke: rgb(0, 0, 0); stroke-opacity: 1;\"/></g><g class=\"point\"><path d=\"M29.02,109.31V109.3H50.12V109.31Z\" style=\"vector-effect: non-scaling-stroke; opacity: 1; stroke-width: 0.5px; fill: rgb(35, 155, 86); fill-opacity: 1; stroke: rgb(0, 0, 0); stroke-opacity: 1;\"/></g><g class=\"point\"><path d=\"M55.39,98.12V98.12H76.5V98.12Z\" style=\"vector-effect: non-scaling-stroke; opacity: 1; stroke-width: 0.5px; fill: rgb(35, 155, 86); fill-opacity: 1; stroke: rgb(0, 0, 0); stroke-opacity: 1;\"/></g></g></g><g class=\"trace bars\" style=\"opacity: 1;\"><g class=\"points\"><g class=\"point\"><path d=\"M2.64,139.41V139.23H23.74V139.41Z\" style=\"vector-effect: non-scaling-stroke; opacity: 1; stroke-width: 0.5px; fill: rgb(40, 180, 99); fill-opacity: 1; stroke: rgb(0, 0, 0); stroke-opacity: 1;\"/></g><g class=\"point\"><path d=\"M29.02,109.3V109.02H50.12V109.3Z\" style=\"vector-effect: non-scaling-stroke; opacity: 1; stroke-width: 0.5px; fill: rgb(40, 180, 99); fill-opacity: 1; stroke: rgb(0, 0, 0); stroke-opacity: 1;\"/></g><g class=\"point\"><path d=\"M55.39,98.12V97.8H76.5V98.12Z\" style=\"vector-effect: non-scaling-stroke; opacity: 1; stroke-width: 0.5px; fill: rgb(40, 180, 99); fill-opacity: 1; stroke: rgb(0, 0, 0); stroke-opacity: 1;\"/></g></g></g><g class=\"trace bars\" style=\"opacity: 1;\"><g class=\"points\"><g class=\"point\"><path d=\"M2.64,139.23V139.16H23.74V139.23Z\" style=\"vector-effect: non-scaling-stroke; opacity: 1; stroke-width: 0.5px; fill: rgb(46, 204, 113); fill-opacity: 1; stroke: rgb(0, 0, 0); stroke-opacity: 1;\"/></g><g class=\"point\"><path d=\"M29.02,109.02V108.89H50.12V109.02Z\" style=\"vector-effect: non-scaling-stroke; opacity: 1; stroke-width: 0.5px; fill: rgb(46, 204, 113); fill-opacity: 1; stroke: rgb(0, 0, 0); stroke-opacity: 1;\"/></g><g class=\"point\"><path d=\"M55.39,97.8V97.67H76.5V97.8Z\" style=\"vector-effect: non-scaling-stroke; opacity: 1; stroke-width: 0.5px; fill: rgb(46, 204, 113); fill-opacity: 1; stroke: rgb(0, 0, 0); stroke-opacity: 1;\"/></g></g></g><g class=\"trace bars\" style=\"opacity: 1;\"><g class=\"points\"><g class=\"point\"><path d=\"M2.64,139.16V139.11H23.74V139.16Z\" style=\"vector-effect: non-scaling-stroke; opacity: 1; stroke-width: 0.5px; fill: rgb(88, 214, 141); fill-opacity: 1; stroke: rgb(0, 0, 0); stroke-opacity: 1;\"/></g><g class=\"point\"><path d=\"M29.02,108.89V108.81H50.12V108.89Z\" style=\"vector-effect: non-scaling-stroke; opacity: 1; stroke-width: 0.5px; fill: rgb(88, 214, 141); fill-opacity: 1; stroke: rgb(0, 0, 0); stroke-opacity: 1;\"/></g><g class=\"point\"><path d=\"M55.39,97.67V97.56H76.5V97.67Z\" style=\"vector-effect: non-scaling-stroke; opacity: 1; stroke-width: 0.5px; fill: rgb(88, 214, 141); fill-opacity: 1; stroke: rgb(0, 0, 0); stroke-opacity: 1;\"/></g></g></g><g class=\"trace bars\" style=\"opacity: 1;\"><g class=\"points\"><g class=\"point\"><path d=\"M2.64,139.11V139.1H23.74V139.11Z\" style=\"vector-effect: non-scaling-stroke; opacity: 1; stroke-width: 0.5px; fill: rgb(130, 224, 170); fill-opacity: 1; stroke: rgb(0, 0, 0); stroke-opacity: 1;\"/></g><g class=\"point\"><path d=\"M29.02,108.81V108.8H50.12V108.81Z\" style=\"vector-effect: non-scaling-stroke; opacity: 1; stroke-width: 0.5px; fill: rgb(130, 224, 170); fill-opacity: 1; stroke: rgb(0, 0, 0); stroke-opacity: 1;\"/></g><g class=\"point\"><path d=\"M55.39,97.56V97.54H76.5V97.56Z\" style=\"vector-effect: non-scaling-stroke; opacity: 1; stroke-width: 0.5px; fill: rgb(130, 224, 170); fill-opacity: 1; stroke: rgb(0, 0, 0); stroke-opacity: 1;\"/></g></g></g><g class=\"trace bars\" style=\"opacity: 1;\"><g class=\"points\"><g class=\"point\"><path d=\"M2.64,139.1V133.56H23.74V139.1Z\" style=\"vector-effect: non-scaling-stroke; opacity: 1; stroke-width: 0.5px; fill: rgb(147, 81, 22); fill-opacity: 1; stroke: rgb(0, 0, 0); stroke-opacity: 1;\"/></g><g class=\"point\"><path d=\"M29.02,108.8V100.77H50.12V108.8Z\" style=\"vector-effect: non-scaling-stroke; opacity: 1; stroke-width: 0.5px; fill: rgb(147, 81, 22); fill-opacity: 1; stroke: rgb(0, 0, 0); stroke-opacity: 1;\"/></g><g class=\"point\"><path d=\"M55.39,97.54V88.49H76.5V97.54Z\" style=\"vector-effect: non-scaling-stroke; opacity: 1; stroke-width: 0.5px; fill: rgb(147, 81, 22); fill-opacity: 1; stroke: rgb(0, 0, 0); stroke-opacity: 1;\"/></g><g class=\"point\"><path d=\"M81.77,177.34V177.33H102.88V177.34Z\" style=\"vector-effect: non-scaling-stroke; opacity: 1; stroke-width: 0.5px; fill: rgb(147, 81, 22); fill-opacity: 1; stroke: rgb(0, 0, 0); stroke-opacity: 1;\"/></g><g class=\"point\"><path d=\"M108.15,164.53V164.52H129.25V164.53Z\" style=\"vector-effect: non-scaling-stroke; opacity: 1; stroke-width: 0.5px; fill: rgb(147, 81, 22); fill-opacity: 1; stroke: rgb(0, 0, 0); stroke-opacity: 1;\"/></g><g class=\"point\"><path d=\"M134.53,138.37V138.36H155.63V138.37Z\" style=\"vector-effect: non-scaling-stroke; opacity: 1; stroke-width: 0.5px; fill: rgb(147, 81, 22); fill-opacity: 1; stroke: rgb(0, 0, 0); stroke-opacity: 1;\"/></g></g></g><g class=\"trace bars\" style=\"opacity: 1;\"><g class=\"points\"><g class=\"point\"><path d=\"M2.64,133.56V127.36H23.74V133.56Z\" style=\"vector-effect: non-scaling-stroke; opacity: 1; stroke-width: 0.5px; fill: rgb(175, 96, 26); fill-opacity: 1; stroke: rgb(0, 0, 0); stroke-opacity: 1;\"/></g><g class=\"point\"><path d=\"M29.02,100.77V92.57H50.12V100.77Z\" style=\"vector-effect: non-scaling-stroke; opacity: 1; stroke-width: 0.5px; fill: rgb(175, 96, 26); fill-opacity: 1; stroke: rgb(0, 0, 0); stroke-opacity: 1;\"/></g><g class=\"point\"><path d=\"M55.39,88.49V79.21H76.5V88.49Z\" style=\"vector-effect: non-scaling-stroke; opacity: 1; stroke-width: 0.5px; fill: rgb(175, 96, 26); fill-opacity: 1; stroke: rgb(0, 0, 0); stroke-opacity: 1;\"/></g><g class=\"point\"><path d=\"M81.77,177.33V177.33H102.88V177.33Z\" style=\"vector-effect: non-scaling-stroke; opacity: 1; stroke-width: 0.5px; fill: rgb(175, 96, 26); fill-opacity: 1; stroke: rgb(0, 0, 0); stroke-opacity: 1;\"/></g><g class=\"point\"><path d=\"M108.15,164.52V164.51H129.25V164.52Z\" style=\"vector-effect: non-scaling-stroke; opacity: 1; stroke-width: 0.5px; fill: rgb(175, 96, 26); fill-opacity: 1; stroke: rgb(0, 0, 0); stroke-opacity: 1;\"/></g><g class=\"point\"><path d=\"M134.53,138.36V138.35H155.63V138.36Z\" style=\"vector-effect: non-scaling-stroke; opacity: 1; stroke-width: 0.5px; fill: rgb(175, 96, 26); fill-opacity: 1; stroke: rgb(0, 0, 0); stroke-opacity: 1;\"/></g></g></g><g class=\"trace bars\" style=\"opacity: 1;\"><g class=\"points\"><g class=\"point\"><path d=\"M2.64,127.36V126.17H23.74V127.36Z\" style=\"vector-effect: non-scaling-stroke; opacity: 1; stroke-width: 0.5px; fill: rgb(202, 111, 30); fill-opacity: 1; stroke: rgb(0, 0, 0); stroke-opacity: 1;\"/></g><g class=\"point\"><path d=\"M29.02,92.57V90.83H50.12V92.57Z\" style=\"vector-effect: non-scaling-stroke; opacity: 1; stroke-width: 0.5px; fill: rgb(202, 111, 30); fill-opacity: 1; stroke: rgb(0, 0, 0); stroke-opacity: 1;\"/></g><g class=\"point\"><path d=\"M55.39,79.21V77.22H76.5V79.21Z\" style=\"vector-effect: non-scaling-stroke; opacity: 1; stroke-width: 0.5px; fill: rgb(202, 111, 30); fill-opacity: 1; stroke: rgb(0, 0, 0); stroke-opacity: 1;\"/></g><g class=\"point\"><path d=\"M81.77,177.33V177.32H102.88V177.33Z\" style=\"vector-effect: non-scaling-stroke; opacity: 1; stroke-width: 0.5px; fill: rgb(202, 111, 30); fill-opacity: 1; stroke: rgb(0, 0, 0); stroke-opacity: 1;\"/></g><g class=\"point\"><path d=\"M108.15,164.51V164.51H129.25V164.51Z\" style=\"vector-effect: non-scaling-stroke; opacity: 1; stroke-width: 0.5px; fill: rgb(202, 111, 30); fill-opacity: 1; stroke: rgb(0, 0, 0); stroke-opacity: 1;\"/></g><g class=\"point\"><path d=\"M134.53,138.35V138.35H155.63V138.35Z\" style=\"vector-effect: non-scaling-stroke; opacity: 1; stroke-width: 0.5px; fill: rgb(202, 111, 30); fill-opacity: 1; stroke: rgb(0, 0, 0); stroke-opacity: 1;\"/></g></g></g><g class=\"trace bars\" style=\"opacity: 1;\"><g class=\"points\"><g class=\"point\"><path d=\"M2.64,126.17V125.33H23.74V126.17Z\" style=\"vector-effect: non-scaling-stroke; opacity: 1; stroke-width: 0.5px; fill: rgb(230, 126, 34); fill-opacity: 1; stroke: rgb(0, 0, 0); stroke-opacity: 1;\"/></g><g class=\"point\"><path d=\"M29.02,90.83V89.44H50.12V90.83Z\" style=\"vector-effect: non-scaling-stroke; opacity: 1; stroke-width: 0.5px; fill: rgb(230, 126, 34); fill-opacity: 1; stroke: rgb(0, 0, 0); stroke-opacity: 1;\"/></g><g class=\"point\"><path d=\"M55.39,77.22V75.71H76.5V77.22Z\" style=\"vector-effect: non-scaling-stroke; opacity: 1; stroke-width: 0.5px; fill: rgb(230, 126, 34); fill-opacity: 1; stroke: rgb(0, 0, 0); stroke-opacity: 1;\"/></g><g class=\"point\"><path d=\"M81.77,177.32V177.32H102.88V177.32Z\" style=\"vector-effect: non-scaling-stroke; opacity: 1; stroke-width: 0.5px; fill: rgb(230, 126, 34); fill-opacity: 1; stroke: rgb(0, 0, 0); stroke-opacity: 1;\"/></g><g class=\"point\"><path d=\"M108.15,164.51V164.51H129.25V164.51Z\" style=\"vector-effect: non-scaling-stroke; opacity: 1; stroke-width: 0.5px; fill: rgb(230, 126, 34); fill-opacity: 1; stroke: rgb(0, 0, 0); stroke-opacity: 1;\"/></g><g class=\"point\"><path d=\"M134.53,138.35V138.35H155.63V138.35Z\" style=\"vector-effect: non-scaling-stroke; opacity: 1; stroke-width: 0.5px; fill: rgb(230, 126, 34); fill-opacity: 1; stroke: rgb(0, 0, 0); stroke-opacity: 1;\"/></g></g></g><g class=\"trace bars\" style=\"opacity: 1;\"><g class=\"points\"><g class=\"point\"><path d=\"M2.64,125.33V124.62H23.74V125.33Z\" style=\"vector-effect: non-scaling-stroke; opacity: 1; stroke-width: 0.5px; fill: rgb(235, 152, 78); fill-opacity: 1; stroke: rgb(0, 0, 0); stroke-opacity: 1;\"/></g><g class=\"point\"><path d=\"M29.02,89.44V88.37H50.12V89.44Z\" style=\"vector-effect: non-scaling-stroke; opacity: 1; stroke-width: 0.5px; fill: rgb(235, 152, 78); fill-opacity: 1; stroke: rgb(0, 0, 0); stroke-opacity: 1;\"/></g><g class=\"point\"><path d=\"M55.39,75.71V74.42H76.5V75.71Z\" style=\"vector-effect: non-scaling-stroke; opacity: 1; stroke-width: 0.5px; fill: rgb(235, 152, 78); fill-opacity: 1; stroke: rgb(0, 0, 0); stroke-opacity: 1;\"/></g></g></g><g class=\"trace bars\" style=\"opacity: 1;\"><g class=\"points\"><g class=\"point\"><path d=\"M2.64,124.62V124.5H23.74V124.62Z\" style=\"vector-effect: non-scaling-stroke; opacity: 1; stroke-width: 0.5px; fill: rgb(240, 178, 122); fill-opacity: 1; stroke: rgb(0, 0, 0); stroke-opacity: 1;\"/></g><g class=\"point\"><path d=\"M29.02,88.37V88.17H50.12V88.37Z\" style=\"vector-effect: non-scaling-stroke; opacity: 1; stroke-width: 0.5px; fill: rgb(240, 178, 122); fill-opacity: 1; stroke: rgb(0, 0, 0); stroke-opacity: 1;\"/></g><g class=\"point\"><path d=\"M55.39,74.42V74.19H76.5V74.42Z\" style=\"vector-effect: non-scaling-stroke; opacity: 1; stroke-width: 0.5px; fill: rgb(240, 178, 122); fill-opacity: 1; stroke: rgb(0, 0, 0); stroke-opacity: 1;\"/></g></g></g><g class=\"trace bars\" style=\"opacity: 1;\"><g class=\"points\"><g class=\"point\"><path d=\"M2.64,124.5V120.3H23.74V124.5Z\" style=\"vector-effect: non-scaling-stroke; opacity: 1; stroke-width: 0.5px; fill: rgb(185, 119, 14); fill-opacity: 1; stroke: rgb(0, 0, 0); stroke-opacity: 1;\"/></g><g class=\"point\"><path d=\"M29.02,88.17V81.97H50.12V88.17Z\" style=\"vector-effect: non-scaling-stroke; opacity: 1; stroke-width: 0.5px; fill: rgb(185, 119, 14); fill-opacity: 1; stroke: rgb(0, 0, 0); stroke-opacity: 1;\"/></g><g class=\"point\"><path d=\"M55.39,74.19V67.46H76.5V74.19Z\" style=\"vector-effect: non-scaling-stroke; opacity: 1; stroke-width: 0.5px; fill: rgb(185, 119, 14); fill-opacity: 1; stroke: rgb(0, 0, 0); stroke-opacity: 1;\"/></g><g class=\"point\"><path d=\"M81.77,177.32V177.32H102.88V177.32Z\" style=\"vector-effect: non-scaling-stroke; opacity: 1; stroke-width: 0.5px; fill: rgb(185, 119, 14); fill-opacity: 1; stroke: rgb(0, 0, 0); stroke-opacity: 1;\"/></g><g class=\"point\"><path d=\"M108.15,164.51V164.5H129.25V164.51Z\" style=\"vector-effect: non-scaling-stroke; opacity: 1; stroke-width: 0.5px; fill: rgb(185, 119, 14); fill-opacity: 1; stroke: rgb(0, 0, 0); stroke-opacity: 1;\"/></g><g class=\"point\"><path d=\"M134.53,138.35V138.34H155.63V138.35Z\" style=\"vector-effect: non-scaling-stroke; opacity: 1; stroke-width: 0.5px; fill: rgb(185, 119, 14); fill-opacity: 1; stroke: rgb(0, 0, 0); stroke-opacity: 1;\"/></g></g></g><g class=\"trace bars\" style=\"opacity: 1;\"><g class=\"points\"><g class=\"point\"><path d=\"M2.64,120.3V117.12H23.74V120.3Z\" style=\"vector-effect: non-scaling-stroke; opacity: 1; stroke-width: 0.5px; fill: rgb(214, 137, 16); fill-opacity: 1; stroke: rgb(0, 0, 0); stroke-opacity: 1;\"/></g><g class=\"point\"><path d=\"M29.02,81.97V77.23H50.12V81.97Z\" style=\"vector-effect: non-scaling-stroke; opacity: 1; stroke-width: 0.5px; fill: rgb(214, 137, 16); fill-opacity: 1; stroke: rgb(0, 0, 0); stroke-opacity: 1;\"/></g><g class=\"point\"><path d=\"M55.39,67.46V62.59H76.5V67.46Z\" style=\"vector-effect: non-scaling-stroke; opacity: 1; stroke-width: 0.5px; fill: rgb(214, 137, 16); fill-opacity: 1; stroke: rgb(0, 0, 0); stroke-opacity: 1;\"/></g><g class=\"point\"><path d=\"M81.77,177.32V177.31H102.88V177.32Z\" style=\"vector-effect: non-scaling-stroke; opacity: 1; stroke-width: 0.5px; fill: rgb(214, 137, 16); fill-opacity: 1; stroke: rgb(0, 0, 0); stroke-opacity: 1;\"/></g><g class=\"point\"><path d=\"M108.15,164.5V164.5H129.25V164.5Z\" style=\"vector-effect: non-scaling-stroke; opacity: 1; stroke-width: 0.5px; fill: rgb(214, 137, 16); fill-opacity: 1; stroke: rgb(0, 0, 0); stroke-opacity: 1;\"/></g><g class=\"point\"><path d=\"M134.53,138.34V138.33H155.63V138.34Z\" style=\"vector-effect: non-scaling-stroke; opacity: 1; stroke-width: 0.5px; fill: rgb(214, 137, 16); fill-opacity: 1; stroke: rgb(0, 0, 0); stroke-opacity: 1;\"/></g></g></g><g class=\"trace bars\" style=\"opacity: 1;\"><g class=\"points\"><g class=\"point\"><path d=\"M2.64,117.12V116.5H23.74V117.12Z\" style=\"vector-effect: non-scaling-stroke; opacity: 1; stroke-width: 0.5px; fill: rgb(243, 156, 18); fill-opacity: 1; stroke: rgb(0, 0, 0); stroke-opacity: 1;\"/></g><g class=\"point\"><path d=\"M29.02,77.23V76.29H50.12V77.23Z\" style=\"vector-effect: non-scaling-stroke; opacity: 1; stroke-width: 0.5px; fill: rgb(243, 156, 18); fill-opacity: 1; stroke: rgb(0, 0, 0); stroke-opacity: 1;\"/></g><g class=\"point\"><path d=\"M55.39,62.59V61.66H76.5V62.59Z\" style=\"vector-effect: non-scaling-stroke; opacity: 1; stroke-width: 0.5px; fill: rgb(243, 156, 18); fill-opacity: 1; stroke: rgb(0, 0, 0); stroke-opacity: 1;\"/></g><g class=\"point\"><path d=\"M81.77,177.31V177.31H102.88V177.31Z\" style=\"vector-effect: non-scaling-stroke; opacity: 1; stroke-width: 0.5px; fill: rgb(243, 156, 18); fill-opacity: 1; stroke: rgb(0, 0, 0); stroke-opacity: 1;\"/></g><g class=\"point\"><path d=\"M108.15,164.5V164.49H129.25V164.5Z\" style=\"vector-effect: non-scaling-stroke; opacity: 1; stroke-width: 0.5px; fill: rgb(243, 156, 18); fill-opacity: 1; stroke: rgb(0, 0, 0); stroke-opacity: 1;\"/></g><g class=\"point\"><path d=\"M134.53,138.33V138.33H155.63V138.33Z\" style=\"vector-effect: non-scaling-stroke; opacity: 1; stroke-width: 0.5px; fill: rgb(243, 156, 18); fill-opacity: 1; stroke: rgb(0, 0, 0); stroke-opacity: 1;\"/></g></g></g><g class=\"trace bars\" style=\"opacity: 1;\"><g class=\"points\"><g class=\"point\"><path d=\"M2.64,116.5V113.97H23.74V116.5Z\" style=\"vector-effect: non-scaling-stroke; opacity: 1; stroke-width: 0.5px; fill: rgb(245, 176, 65); fill-opacity: 1; stroke: rgb(0, 0, 0); stroke-opacity: 1;\"/></g><g class=\"point\"><path d=\"M29.02,76.29V72.33H50.12V76.29Z\" style=\"vector-effect: non-scaling-stroke; opacity: 1; stroke-width: 0.5px; fill: rgb(245, 176, 65); fill-opacity: 1; stroke: rgb(0, 0, 0); stroke-opacity: 1;\"/></g><g class=\"point\"><path d=\"M55.39,61.66V57.38H76.5V61.66Z\" style=\"vector-effect: non-scaling-stroke; opacity: 1; stroke-width: 0.5px; fill: rgb(245, 176, 65); fill-opacity: 1; stroke: rgb(0, 0, 0); stroke-opacity: 1;\"/></g><g class=\"point\"><path d=\"M81.77,177.31V177.31H102.88V177.31Z\" style=\"vector-effect: non-scaling-stroke; opacity: 1; stroke-width: 0.5px; fill: rgb(245, 176, 65); fill-opacity: 1; stroke: rgb(0, 0, 0); stroke-opacity: 1;\"/></g><g class=\"point\"><path d=\"M108.15,164.49V164.49H129.25V164.49Z\" style=\"vector-effect: non-scaling-stroke; opacity: 1; stroke-width: 0.5px; fill: rgb(245, 176, 65); fill-opacity: 1; stroke: rgb(0, 0, 0); stroke-opacity: 1;\"/></g><g class=\"point\"><path d=\"M134.53,138.33V138.32H155.63V138.33Z\" style=\"vector-effect: non-scaling-stroke; opacity: 1; stroke-width: 0.5px; fill: rgb(245, 176, 65); fill-opacity: 1; stroke: rgb(0, 0, 0); stroke-opacity: 1;\"/></g></g></g><g class=\"trace bars\" style=\"opacity: 1;\"><g class=\"points\"><g class=\"point\"><path d=\"M2.64,113.97V111.81H23.74V113.97Z\" style=\"vector-effect: non-scaling-stroke; opacity: 1; stroke-width: 0.5px; fill: rgb(248, 180, 113); fill-opacity: 1; stroke: rgb(0, 0, 0); stroke-opacity: 1;\"/></g><g class=\"point\"><path d=\"M29.02,72.33V69.08H50.12V72.33Z\" style=\"vector-effect: non-scaling-stroke; opacity: 1; stroke-width: 0.5px; fill: rgb(248, 180, 113); fill-opacity: 1; stroke: rgb(0, 0, 0); stroke-opacity: 1;\"/></g><g class=\"point\"><path d=\"M55.39,57.38V54.11H76.5V57.38Z\" style=\"vector-effect: non-scaling-stroke; opacity: 1; stroke-width: 0.5px; fill: rgb(248, 180, 113); fill-opacity: 1; stroke: rgb(0, 0, 0); stroke-opacity: 1;\"/></g><g class=\"point\"><path d=\"M81.77,177.31V177.3H102.88V177.31Z\" style=\"vector-effect: non-scaling-stroke; opacity: 1; stroke-width: 0.5px; fill: rgb(248, 180, 113); fill-opacity: 1; stroke: rgb(0, 0, 0); stroke-opacity: 1;\"/></g><g class=\"point\"><path d=\"M108.15,164.49V164.49H129.25V164.49Z\" style=\"vector-effect: non-scaling-stroke; opacity: 1; stroke-width: 0.5px; fill: rgb(248, 180, 113); fill-opacity: 1; stroke: rgb(0, 0, 0); stroke-opacity: 1;\"/></g><g class=\"point\"><path d=\"M134.53,138.32V138.32H155.63V138.32Z\" style=\"vector-effect: non-scaling-stroke; opacity: 1; stroke-width: 0.5px; fill: rgb(248, 180, 113); fill-opacity: 1; stroke: rgb(0, 0, 0); stroke-opacity: 1;\"/></g></g></g><g class=\"trace bars\" style=\"opacity: 1;\"><g class=\"points\"><g class=\"point\"><path d=\"M2.64,111.81V111.3H23.74V111.81Z\" style=\"vector-effect: non-scaling-stroke; opacity: 1; stroke-width: 0.5px; fill: rgb(246, 221, 204); fill-opacity: 1; stroke: rgb(0, 0, 0); stroke-opacity: 1;\"/></g><g class=\"point\"><path d=\"M29.02,69.08V68.28H50.12V69.08Z\" style=\"vector-effect: non-scaling-stroke; opacity: 1; stroke-width: 0.5px; fill: rgb(246, 221, 204); fill-opacity: 1; stroke: rgb(0, 0, 0); stroke-opacity: 1;\"/></g><g class=\"point\"><path d=\"M55.39,54.11V53.28H76.5V54.11Z\" style=\"vector-effect: non-scaling-stroke; opacity: 1; stroke-width: 0.5px; fill: rgb(246, 221, 204); fill-opacity: 1; stroke: rgb(0, 0, 0); stroke-opacity: 1;\"/></g><g class=\"point\"><path d=\"M108.15,164.49V164.49H129.25V164.49Z\" style=\"vector-effect: non-scaling-stroke; opacity: 1; stroke-width: 0.5px; fill: rgb(246, 221, 204); fill-opacity: 1; stroke: rgb(0, 0, 0); stroke-opacity: 1;\"/></g><g class=\"point\"><path d=\"M134.53,138.32V138.31H155.63V138.32Z\" style=\"vector-effect: non-scaling-stroke; opacity: 1; stroke-width: 0.5px; fill: rgb(246, 221, 204); fill-opacity: 1; stroke: rgb(0, 0, 0); stroke-opacity: 1;\"/></g></g></g><g class=\"trace bars\" style=\"opacity: 1;\"><g class=\"points\"><g class=\"point\"><path d=\"M2.64,111.3V111.26H23.74V111.3Z\" style=\"vector-effect: non-scaling-stroke; opacity: 1; stroke-width: 0.5px; fill: rgb(250, 215, 160); fill-opacity: 1; stroke: rgb(0, 0, 0); stroke-opacity: 1;\"/></g><g class=\"point\"><path d=\"M29.02,68.28V68.21H50.12V68.28Z\" style=\"vector-effect: non-scaling-stroke; opacity: 1; stroke-width: 0.5px; fill: rgb(250, 215, 160); fill-opacity: 1; stroke: rgb(0, 0, 0); stroke-opacity: 1;\"/></g><g class=\"point\"><path d=\"M55.39,53.28V53.22H76.5V53.28Z\" style=\"vector-effect: non-scaling-stroke; opacity: 1; stroke-width: 0.5px; fill: rgb(250, 215, 160); fill-opacity: 1; stroke: rgb(0, 0, 0); stroke-opacity: 1;\"/></g></g></g><g class=\"trace bars\" style=\"opacity: 1;\"><g class=\"points\"><g class=\"point\"><path d=\"M2.64,111.26V104.68H23.74V111.26Z\" style=\"vector-effect: non-scaling-stroke; opacity: 1; stroke-width: 0.5px; fill: rgb(207, 87, 161); fill-opacity: 1; stroke: rgb(0, 0, 0); stroke-opacity: 1;\"/></g><g class=\"point\"><path d=\"M29.02,68.21V60.08H50.12V68.21Z\" style=\"vector-effect: non-scaling-stroke; opacity: 1; stroke-width: 0.5px; fill: rgb(207, 87, 161); fill-opacity: 1; stroke: rgb(0, 0, 0); stroke-opacity: 1;\"/></g><g class=\"point\"><path d=\"M55.39,53.22V44.54H76.5V53.22Z\" style=\"vector-effect: non-scaling-stroke; opacity: 1; stroke-width: 0.5px; fill: rgb(207, 87, 161); fill-opacity: 1; stroke: rgb(0, 0, 0); stroke-opacity: 1;\"/></g><g class=\"point\"><path d=\"M81.77,177.3V177.29H102.88V177.3Z\" style=\"vector-effect: non-scaling-stroke; opacity: 1; stroke-width: 0.5px; fill: rgb(207, 87, 161); fill-opacity: 1; stroke: rgb(0, 0, 0); stroke-opacity: 1;\"/></g><g class=\"point\"><path d=\"M108.15,164.49V164.47H129.25V164.49Z\" style=\"vector-effect: non-scaling-stroke; opacity: 1; stroke-width: 0.5px; fill: rgb(207, 87, 161); fill-opacity: 1; stroke: rgb(0, 0, 0); stroke-opacity: 1;\"/></g><g class=\"point\"><path d=\"M134.53,138.31V138.3H155.63V138.31Z\" style=\"vector-effect: non-scaling-stroke; opacity: 1; stroke-width: 0.5px; fill: rgb(207, 87, 161); fill-opacity: 1; stroke: rgb(0, 0, 0); stroke-opacity: 1;\"/></g></g></g><g class=\"trace bars\" style=\"opacity: 1;\"><g class=\"points\"><g class=\"point\"><path d=\"M2.64,104.68V95.56H23.74V104.68Z\" style=\"vector-effect: non-scaling-stroke; opacity: 1; stroke-width: 0.5px; fill: rgb(217, 144, 188); fill-opacity: 1; stroke: rgb(0, 0, 0); stroke-opacity: 1;\"/></g><g class=\"point\"><path d=\"M29.02,60.08V48.59H50.12V60.08Z\" style=\"vector-effect: non-scaling-stroke; opacity: 1; stroke-width: 0.5px; fill: rgb(217, 144, 188); fill-opacity: 1; stroke: rgb(0, 0, 0); stroke-opacity: 1;\"/></g><g class=\"point\"><path d=\"M55.39,44.54V32.76H76.5V44.54Z\" style=\"vector-effect: non-scaling-stroke; opacity: 1; stroke-width: 0.5px; fill: rgb(217, 144, 188); fill-opacity: 1; stroke: rgb(0, 0, 0); stroke-opacity: 1;\"/></g><g class=\"point\"><path d=\"M81.77,177.29V177.27H102.88V177.29Z\" style=\"vector-effect: non-scaling-stroke; opacity: 1; stroke-width: 0.5px; fill: rgb(217, 144, 188); fill-opacity: 1; stroke: rgb(0, 0, 0); stroke-opacity: 1;\"/></g><g class=\"point\"><path d=\"M108.15,164.47V164.46H129.25V164.47Z\" style=\"vector-effect: non-scaling-stroke; opacity: 1; stroke-width: 0.5px; fill: rgb(217, 144, 188); fill-opacity: 1; stroke: rgb(0, 0, 0); stroke-opacity: 1;\"/></g><g class=\"point\"><path d=\"M134.53,138.3V138.28H155.63V138.3Z\" style=\"vector-effect: non-scaling-stroke; opacity: 1; stroke-width: 0.5px; fill: rgb(217, 144, 188); fill-opacity: 1; stroke: rgb(0, 0, 0); stroke-opacity: 1;\"/></g></g></g><g class=\"trace bars\" style=\"opacity: 1;\"><g class=\"points\"><g class=\"point\"><path d=\"M2.64,95.56V92.6H23.74V95.56Z\" style=\"vector-effect: non-scaling-stroke; opacity: 1; stroke-width: 0.5px; fill: rgb(237, 206, 228); fill-opacity: 1; stroke: rgb(0, 0, 0); stroke-opacity: 1;\"/></g><g class=\"point\"><path d=\"M29.02,48.59V44.82H50.12V48.59Z\" style=\"vector-effect: non-scaling-stroke; opacity: 1; stroke-width: 0.5px; fill: rgb(237, 206, 228); fill-opacity: 1; stroke: rgb(0, 0, 0); stroke-opacity: 1;\"/></g><g class=\"point\"><path d=\"M55.39,32.76V29H76.5V32.76Z\" style=\"vector-effect: non-scaling-stroke; opacity: 1; stroke-width: 0.5px; fill: rgb(237, 206, 228); fill-opacity: 1; stroke: rgb(0, 0, 0); stroke-opacity: 1;\"/></g><g class=\"point\"><path d=\"M81.77,177.27V177.26H102.88V177.27Z\" style=\"vector-effect: non-scaling-stroke; opacity: 1; stroke-width: 0.5px; fill: rgb(237, 206, 228); fill-opacity: 1; stroke: rgb(0, 0, 0); stroke-opacity: 1;\"/></g><g class=\"point\"><path d=\"M108.15,164.46V164.44H129.25V164.46Z\" style=\"vector-effect: non-scaling-stroke; opacity: 1; stroke-width: 0.5px; fill: rgb(237, 206, 228); fill-opacity: 1; stroke: rgb(0, 0, 0); stroke-opacity: 1;\"/></g><g class=\"point\"><path d=\"M134.53,138.28V138.26H155.63V138.28Z\" style=\"vector-effect: non-scaling-stroke; opacity: 1; stroke-width: 0.5px; fill: rgb(237, 206, 228); fill-opacity: 1; stroke: rgb(0, 0, 0); stroke-opacity: 1;\"/></g></g></g><g class=\"trace bars\" style=\"opacity: 1;\"><g class=\"points\"><g class=\"point\"><path d=\"M2.64,92.6V89.79H23.74V92.6Z\" style=\"vector-effect: non-scaling-stroke; opacity: 1; stroke-width: 0.5px; fill: rgb(221, 168, 200); fill-opacity: 1; stroke: rgb(0, 0, 0); stroke-opacity: 1;\"/></g><g class=\"point\"><path d=\"M29.02,44.82V41.08H50.12V44.82Z\" style=\"vector-effect: non-scaling-stroke; opacity: 1; stroke-width: 0.5px; fill: rgb(221, 168, 200); fill-opacity: 1; stroke: rgb(0, 0, 0); stroke-opacity: 1;\"/></g><g class=\"point\"><path d=\"M55.39,29V25.28H76.5V29Z\" style=\"vector-effect: non-scaling-stroke; opacity: 1; stroke-width: 0.5px; fill: rgb(221, 168, 200); fill-opacity: 1; stroke: rgb(0, 0, 0); stroke-opacity: 1;\"/></g><g class=\"point\"><path d=\"M81.77,177.26V177.25H102.88V177.26Z\" style=\"vector-effect: non-scaling-stroke; opacity: 1; stroke-width: 0.5px; fill: rgb(221, 168, 200); fill-opacity: 1; stroke: rgb(0, 0, 0); stroke-opacity: 1;\"/></g><g class=\"point\"><path d=\"M108.15,164.44V164.43H129.25V164.44Z\" style=\"vector-effect: non-scaling-stroke; opacity: 1; stroke-width: 0.5px; fill: rgb(221, 168, 200); fill-opacity: 1; stroke: rgb(0, 0, 0); stroke-opacity: 1;\"/></g><g class=\"point\"><path d=\"M134.53,138.26V138.25H155.63V138.26Z\" style=\"vector-effect: non-scaling-stroke; opacity: 1; stroke-width: 0.5px; fill: rgb(221, 168, 200); fill-opacity: 1; stroke: rgb(0, 0, 0); stroke-opacity: 1;\"/></g></g></g><g class=\"trace bars\" style=\"opacity: 1;\"><g class=\"points\"><g class=\"point\"><path d=\"M2.64,89.79V89.75H23.74V89.79Z\" style=\"vector-effect: non-scaling-stroke; opacity: 1; stroke-width: 0.5px; fill: rgb(229, 186, 216); fill-opacity: 1; stroke: rgb(0, 0, 0); stroke-opacity: 1;\"/></g><g class=\"point\"><path d=\"M29.02,41.08V41.01H50.12V41.08Z\" style=\"vector-effect: non-scaling-stroke; opacity: 1; stroke-width: 0.5px; fill: rgb(229, 186, 216); fill-opacity: 1; stroke: rgb(0, 0, 0); stroke-opacity: 1;\"/></g><g class=\"point\"><path d=\"M55.39,25.28V25.22H76.5V25.28Z\" style=\"vector-effect: non-scaling-stroke; opacity: 1; stroke-width: 0.5px; fill: rgb(229, 186, 216); fill-opacity: 1; stroke: rgb(0, 0, 0); stroke-opacity: 1;\"/></g></g></g><g class=\"trace bars\" style=\"opacity: 1;\"><g class=\"points\"><g class=\"point\"><path d=\"M2.64,89.75V89.71H23.74V89.75Z\" style=\"vector-effect: non-scaling-stroke; opacity: 1; stroke-width: 0.5px; fill: rgb(240, 98, 146); fill-opacity: 1; stroke: rgb(0, 0, 0); stroke-opacity: 1;\"/></g><g class=\"point\"><path d=\"M29.02,41.01V40.95H50.12V41.01Z\" style=\"vector-effect: non-scaling-stroke; opacity: 1; stroke-width: 0.5px; fill: rgb(240, 98, 146); fill-opacity: 1; stroke: rgb(0, 0, 0); stroke-opacity: 1;\"/></g><g class=\"point\"><path d=\"M55.39,25.22V25.15H76.5V25.22Z\" style=\"vector-effect: non-scaling-stroke; opacity: 1; stroke-width: 0.5px; fill: rgb(240, 98, 146); fill-opacity: 1; stroke: rgb(0, 0, 0); stroke-opacity: 1;\"/></g></g></g><g class=\"trace bars\" style=\"opacity: 1;\"><g class=\"points\"><g class=\"point\"><path d=\"M2.64,89.71V89.66H23.74V89.71Z\" style=\"vector-effect: non-scaling-stroke; opacity: 1; stroke-width: 0.5px; fill: rgb(244, 143, 177); fill-opacity: 1; stroke: rgb(0, 0, 0); stroke-opacity: 1;\"/></g><g class=\"point\"><path d=\"M29.02,40.95V40.88H50.12V40.95Z\" style=\"vector-effect: non-scaling-stroke; opacity: 1; stroke-width: 0.5px; fill: rgb(244, 143, 177); fill-opacity: 1; stroke: rgb(0, 0, 0); stroke-opacity: 1;\"/></g><g class=\"point\"><path d=\"M55.39,25.15V25.06H76.5V25.15Z\" style=\"vector-effect: non-scaling-stroke; opacity: 1; stroke-width: 0.5px; fill: rgb(244, 143, 177); fill-opacity: 1; stroke: rgb(0, 0, 0); stroke-opacity: 1;\"/></g><g class=\"point\"><path d=\"M81.77,177.25V177.24H102.88V177.25Z\" style=\"vector-effect: non-scaling-stroke; opacity: 1; stroke-width: 0.5px; fill: rgb(244, 143, 177); fill-opacity: 1; stroke: rgb(0, 0, 0); stroke-opacity: 1;\"/></g><g class=\"point\"><path d=\"M108.15,164.43V164.43H129.25V164.43Z\" style=\"vector-effect: non-scaling-stroke; opacity: 1; stroke-width: 0.5px; fill: rgb(244, 143, 177); fill-opacity: 1; stroke: rgb(0, 0, 0); stroke-opacity: 1;\"/></g><g class=\"point\"><path d=\"M134.53,138.25V138.24H155.63V138.25Z\" style=\"vector-effect: non-scaling-stroke; opacity: 1; stroke-width: 0.5px; fill: rgb(244, 143, 177); fill-opacity: 1; stroke: rgb(0, 0, 0); stroke-opacity: 1;\"/></g></g></g><g class=\"trace bars\" style=\"opacity: 1;\"><g class=\"points\"><g class=\"point\"><path d=\"M2.64,89.66V89.62H23.74V89.66Z\" style=\"vector-effect: non-scaling-stroke; opacity: 1; stroke-width: 0.5px; fill: rgb(248, 187, 208); fill-opacity: 1; stroke: rgb(0, 0, 0); stroke-opacity: 1;\"/></g><g class=\"point\"><path d=\"M29.02,40.88V40.83H50.12V40.88Z\" style=\"vector-effect: non-scaling-stroke; opacity: 1; stroke-width: 0.5px; fill: rgb(248, 187, 208); fill-opacity: 1; stroke: rgb(0, 0, 0); stroke-opacity: 1;\"/></g><g class=\"point\"><path d=\"M55.39,25.06V25.01H76.5V25.06Z\" style=\"vector-effect: non-scaling-stroke; opacity: 1; stroke-width: 0.5px; fill: rgb(248, 187, 208); fill-opacity: 1; stroke: rgb(0, 0, 0); stroke-opacity: 1;\"/></g><g class=\"point\"><path d=\"M108.15,164.43V164.43H129.25V164.43Z\" style=\"vector-effect: non-scaling-stroke; opacity: 1; stroke-width: 0.5px; fill: rgb(248, 187, 208); fill-opacity: 1; stroke: rgb(0, 0, 0); stroke-opacity: 1;\"/></g></g></g><g class=\"trace bars\" style=\"opacity: 1;\"><g class=\"points\"><g class=\"point\"><path d=\"M2.64,89.62V89.57H23.74V89.62Z\" style=\"vector-effect: non-scaling-stroke; opacity: 1; stroke-width: 0.5px; fill: rgb(252, 200, 215); fill-opacity: 1; stroke: rgb(0, 0, 0); stroke-opacity: 1;\"/></g><g class=\"point\"><path d=\"M29.02,40.83V40.76H50.12V40.83Z\" style=\"vector-effect: non-scaling-stroke; opacity: 1; stroke-width: 0.5px; fill: rgb(252, 200, 215); fill-opacity: 1; stroke: rgb(0, 0, 0); stroke-opacity: 1;\"/></g><g class=\"point\"><path d=\"M55.39,25.01V24.93H76.5V25.01Z\" style=\"vector-effect: non-scaling-stroke; opacity: 1; stroke-width: 0.5px; fill: rgb(252, 200, 215); fill-opacity: 1; stroke: rgb(0, 0, 0); stroke-opacity: 1;\"/></g><g class=\"point\"><path d=\"M134.53,138.24V138.24H155.63V138.24Z\" style=\"vector-effect: non-scaling-stroke; opacity: 1; stroke-width: 0.5px; fill: rgb(252, 200, 215); fill-opacity: 1; stroke: rgb(0, 0, 0); stroke-opacity: 1;\"/></g></g></g><g class=\"trace bars\" style=\"opacity: 1;\"><g class=\"points\"><g class=\"point\"><path d=\"M2.64,89.57V89.56H23.74V89.57Z\" style=\"vector-effect: non-scaling-stroke; opacity: 1; stroke-width: 0.5px; fill: rgb(252, 228, 236); fill-opacity: 1; stroke: rgb(0, 0, 0); stroke-opacity: 1;\"/></g><g class=\"point\"><path d=\"M29.02,40.76V40.74H50.12V40.76Z\" style=\"vector-effect: non-scaling-stroke; opacity: 1; stroke-width: 0.5px; fill: rgb(252, 228, 236); fill-opacity: 1; stroke: rgb(0, 0, 0); stroke-opacity: 1;\"/></g><g class=\"point\"><path d=\"M55.39,24.93V24.91H76.5V24.93Z\" style=\"vector-effect: non-scaling-stroke; opacity: 1; stroke-width: 0.5px; fill: rgb(252, 228, 236); fill-opacity: 1; stroke: rgb(0, 0, 0); stroke-opacity: 1;\"/></g></g></g><g class=\"trace bars\" style=\"opacity: 1;\"><g class=\"points\"><g class=\"point\"><path d=\"M2.64,89.56V89.11H23.74V89.56Z\" style=\"vector-effect: non-scaling-stroke; opacity: 1; stroke-width: 0.5px; fill: rgb(96, 22, 135); fill-opacity: 1; stroke: rgb(0, 0, 0); stroke-opacity: 1;\"/></g><g class=\"point\"><path d=\"M29.02,40.74V40.59H50.12V40.74Z\" style=\"vector-effect: non-scaling-stroke; opacity: 1; stroke-width: 0.5px; fill: rgb(96, 22, 135); fill-opacity: 1; stroke: rgb(0, 0, 0); stroke-opacity: 1;\"/></g><g class=\"point\"><path d=\"M55.39,24.91V24.84H76.5V24.91Z\" style=\"vector-effect: non-scaling-stroke; opacity: 1; stroke-width: 0.5px; fill: rgb(96, 22, 135); fill-opacity: 1; stroke: rgb(0, 0, 0); stroke-opacity: 1;\"/></g><g class=\"point\"><path d=\"M81.77,177.24V177.12H102.88V177.24Z\" style=\"vector-effect: non-scaling-stroke; opacity: 1; stroke-width: 0.5px; fill: rgb(96, 22, 135); fill-opacity: 1; stroke: rgb(0, 0, 0); stroke-opacity: 1;\"/></g><g class=\"point\"><path d=\"M108.15,164.43V164.39H129.25V164.43Z\" style=\"vector-effect: non-scaling-stroke; opacity: 1; stroke-width: 0.5px; fill: rgb(96, 22, 135); fill-opacity: 1; stroke: rgb(0, 0, 0); stroke-opacity: 1;\"/></g><g class=\"point\"><path d=\"M134.53,138.24V138.2H155.63V138.24Z\" style=\"vector-effect: non-scaling-stroke; opacity: 1; stroke-width: 0.5px; fill: rgb(96, 22, 135); fill-opacity: 1; stroke: rgb(0, 0, 0); stroke-opacity: 1;\"/></g></g></g><g class=\"trace bars\" style=\"opacity: 1;\"><g class=\"points\"><g class=\"point\"><path d=\"M29.02,40.59V40.59H50.12V40.59Z\" style=\"vector-effect: non-scaling-stroke; opacity: 1; stroke-width: 0.5px; fill: rgb(141, 74, 176); fill-opacity: 1; stroke: rgb(0, 0, 0); stroke-opacity: 1;\"/></g><g class=\"point\"><path d=\"M55.39,24.84V24.83H76.5V24.84Z\" style=\"vector-effect: non-scaling-stroke; opacity: 1; stroke-width: 0.5px; fill: rgb(141, 74, 176); fill-opacity: 1; stroke: rgb(0, 0, 0); stroke-opacity: 1;\"/></g><g class=\"point\"><path d=\"M81.77,177.12V177.12H102.88V177.12Z\" style=\"vector-effect: non-scaling-stroke; opacity: 1; stroke-width: 0.5px; fill: rgb(141, 74, 176); fill-opacity: 1; stroke: rgb(0, 0, 0); stroke-opacity: 1;\"/></g><g class=\"point\"><path d=\"M108.15,164.39V164.39H129.25V164.39Z\" style=\"vector-effect: non-scaling-stroke; opacity: 1; stroke-width: 0.5px; fill: rgb(141, 74, 176); fill-opacity: 1; stroke: rgb(0, 0, 0); stroke-opacity: 1;\"/></g></g></g><g class=\"trace bars\" style=\"opacity: 1;\"><g class=\"points\"><g class=\"point\"><path d=\"M2.64,89.11V89.1H23.74V89.11Z\" style=\"vector-effect: non-scaling-stroke; opacity: 1; stroke-width: 0.5px; fill: rgb(170, 89, 212); fill-opacity: 1; stroke: rgb(0, 0, 0); stroke-opacity: 1;\"/></g><g class=\"point\"><path d=\"M29.02,40.59V40.59H50.12V40.59Z\" style=\"vector-effect: non-scaling-stroke; opacity: 1; stroke-width: 0.5px; fill: rgb(170, 89, 212); fill-opacity: 1; stroke: rgb(0, 0, 0); stroke-opacity: 1;\"/></g><g class=\"point\"><path d=\"M55.39,24.83V24.83H76.5V24.83Z\" style=\"vector-effect: non-scaling-stroke; opacity: 1; stroke-width: 0.5px; fill: rgb(170, 89, 212); fill-opacity: 1; stroke: rgb(0, 0, 0); stroke-opacity: 1;\"/></g><g class=\"point\"><path d=\"M81.77,177.12V177.12H102.88V177.12Z\" style=\"vector-effect: non-scaling-stroke; opacity: 1; stroke-width: 0.5px; fill: rgb(170, 89, 212); fill-opacity: 1; stroke: rgb(0, 0, 0); stroke-opacity: 1;\"/></g><g class=\"point\"><path d=\"M134.53,138.2V138.2H155.63V138.2Z\" style=\"vector-effect: non-scaling-stroke; opacity: 1; stroke-width: 0.5px; fill: rgb(170, 89, 212); fill-opacity: 1; stroke: rgb(0, 0, 0); stroke-opacity: 1;\"/></g></g></g><g class=\"trace bars\" style=\"opacity: 1;\"><g class=\"points\"><g class=\"point\"><path d=\"M2.64,89.1V89.1H23.74V89.1Z\" style=\"vector-effect: non-scaling-stroke; opacity: 1; stroke-width: 0.5px; fill: rgb(204, 108, 255); fill-opacity: 1; stroke: rgb(0, 0, 0); stroke-opacity: 1;\"/></g><g class=\"point\"><path d=\"M29.02,40.59V40.58H50.12V40.59Z\" style=\"vector-effect: non-scaling-stroke; opacity: 1; stroke-width: 0.5px; fill: rgb(204, 108, 255); fill-opacity: 1; stroke: rgb(0, 0, 0); stroke-opacity: 1;\"/></g><g class=\"point\"><path d=\"M55.39,24.83V24.82H76.5V24.83Z\" style=\"vector-effect: non-scaling-stroke; opacity: 1; stroke-width: 0.5px; fill: rgb(204, 108, 255); fill-opacity: 1; stroke: rgb(0, 0, 0); stroke-opacity: 1;\"/></g><g class=\"point\"><path d=\"M81.77,177.12V177.12H102.88V177.12Z\" style=\"vector-effect: non-scaling-stroke; opacity: 1; stroke-width: 0.5px; fill: rgb(204, 108, 255); fill-opacity: 1; stroke: rgb(0, 0, 0); stroke-opacity: 1;\"/></g></g></g><g class=\"trace bars\" style=\"opacity: 1;\"><g class=\"points\"><g class=\"point\"><path d=\"M2.64,89.1V89.1H23.74V89.1Z\" style=\"vector-effect: non-scaling-stroke; opacity: 1; stroke-width: 0.5px; fill: rgb(128, 128, 128); fill-opacity: 1; stroke: rgb(0, 0, 0); stroke-opacity: 1;\"/></g><g class=\"point\"><path d=\"M29.02,40.58V40.58H50.12V40.58Z\" style=\"vector-effect: non-scaling-stroke; opacity: 1; stroke-width: 0.5px; fill: rgb(128, 128, 128); fill-opacity: 1; stroke: rgb(0, 0, 0); stroke-opacity: 1;\"/></g><g class=\"point\"><path d=\"M55.39,24.82V24.82H76.5V24.82Z\" style=\"vector-effect: non-scaling-stroke; opacity: 1; stroke-width: 0.5px; fill: rgb(128, 128, 128); fill-opacity: 1; stroke: rgb(0, 0, 0); stroke-opacity: 1;\"/></g><g class=\"point\"><path d=\"M108.15,164.39V164.39H129.25V164.39Z\" style=\"vector-effect: non-scaling-stroke; opacity: 1; stroke-width: 0.5px; fill: rgb(128, 128, 128); fill-opacity: 1; stroke: rgb(0, 0, 0); stroke-opacity: 1;\"/></g></g></g><g class=\"trace bars\" style=\"opacity: 1;\"><g class=\"points\"><g class=\"point\"><path d=\"M2.64,89.1V86.34H23.74V89.1Z\" style=\"vector-effect: non-scaling-stroke; opacity: 1; stroke-width: 0.5px; fill: rgb(168, 30, 45); fill-opacity: 1; stroke: rgb(0, 0, 0); stroke-opacity: 1;\"/></g><g class=\"point\"><path d=\"M29.02,40.58V38.89H50.12V40.58Z\" style=\"vector-effect: non-scaling-stroke; opacity: 1; stroke-width: 0.5px; fill: rgb(168, 30, 45); fill-opacity: 1; stroke: rgb(0, 0, 0); stroke-opacity: 1;\"/></g><g class=\"point\"><path d=\"M55.39,24.82V23.54H76.5V24.82Z\" style=\"vector-effect: non-scaling-stroke; opacity: 1; stroke-width: 0.5px; fill: rgb(168, 30, 45); fill-opacity: 1; stroke: rgb(0, 0, 0); stroke-opacity: 1;\"/></g><g class=\"point\"><path d=\"M81.77,177.12V177.03H102.88V177.12Z\" style=\"vector-effect: non-scaling-stroke; opacity: 1; stroke-width: 0.5px; fill: rgb(168, 30, 45); fill-opacity: 1; stroke: rgb(0, 0, 0); stroke-opacity: 1;\"/></g><g class=\"point\"><path d=\"M108.15,164.39V164.32H129.25V164.39Z\" style=\"vector-effect: non-scaling-stroke; opacity: 1; stroke-width: 0.5px; fill: rgb(168, 30, 45); fill-opacity: 1; stroke: rgb(0, 0, 0); stroke-opacity: 1;\"/></g><g class=\"point\"><path d=\"M134.53,138.2V138.12H155.63V138.2Z\" style=\"vector-effect: non-scaling-stroke; opacity: 1; stroke-width: 0.5px; fill: rgb(168, 30, 45); fill-opacity: 1; stroke: rgb(0, 0, 0); stroke-opacity: 1;\"/></g></g></g><g class=\"trace bars\" style=\"opacity: 1;\"><g class=\"points\"><g class=\"point\"><path d=\"M2.64,86.34V85.06H23.74V86.34Z\" style=\"vector-effect: non-scaling-stroke; opacity: 1; stroke-width: 0.5px; fill: rgb(192, 98, 106); fill-opacity: 1; stroke: rgb(0, 0, 0); stroke-opacity: 1;\"/></g><g class=\"point\"><path d=\"M29.02,38.89V38.02H50.12V38.89Z\" style=\"vector-effect: non-scaling-stroke; opacity: 1; stroke-width: 0.5px; fill: rgb(192, 98, 106); fill-opacity: 1; stroke: rgb(0, 0, 0); stroke-opacity: 1;\"/></g><g class=\"point\"><path d=\"M55.39,23.54V22.76H76.5V23.54Z\" style=\"vector-effect: non-scaling-stroke; opacity: 1; stroke-width: 0.5px; fill: rgb(192, 98, 106); fill-opacity: 1; stroke: rgb(0, 0, 0); stroke-opacity: 1;\"/></g><g class=\"point\"><path d=\"M81.77,177.03V176.99H102.88V177.03Z\" style=\"vector-effect: non-scaling-stroke; opacity: 1; stroke-width: 0.5px; fill: rgb(192, 98, 106); fill-opacity: 1; stroke: rgb(0, 0, 0); stroke-opacity: 1;\"/></g><g class=\"point\"><path d=\"M108.15,164.32V164.29H129.25V164.32Z\" style=\"vector-effect: non-scaling-stroke; opacity: 1; stroke-width: 0.5px; fill: rgb(192, 98, 106); fill-opacity: 1; stroke: rgb(0, 0, 0); stroke-opacity: 1;\"/></g><g class=\"point\"><path d=\"M134.53,138.12V138.09H155.63V138.12Z\" style=\"vector-effect: non-scaling-stroke; opacity: 1; stroke-width: 0.5px; fill: rgb(192, 98, 106); fill-opacity: 1; stroke: rgb(0, 0, 0); stroke-opacity: 1;\"/></g></g></g><g class=\"trace bars\" style=\"opacity: 1;\"><g class=\"points\"><g class=\"point\"><path d=\"M2.64,85.06V84.71H23.74V85.06Z\" style=\"vector-effect: non-scaling-stroke; opacity: 1; stroke-width: 0.5px; fill: rgb(177, 153, 109); fill-opacity: 1; stroke: rgb(0, 0, 0); stroke-opacity: 1;\"/></g><g class=\"point\"><path d=\"M29.02,38.02V37.6H50.12V38.02Z\" style=\"vector-effect: non-scaling-stroke; opacity: 1; stroke-width: 0.5px; fill: rgb(177, 153, 109); fill-opacity: 1; stroke: rgb(0, 0, 0); stroke-opacity: 1;\"/></g><g class=\"point\"><path d=\"M55.39,22.76V22.33H76.5V22.76Z\" style=\"vector-effect: non-scaling-stroke; opacity: 1; stroke-width: 0.5px; fill: rgb(177, 153, 109); fill-opacity: 1; stroke: rgb(0, 0, 0); stroke-opacity: 1;\"/></g><g class=\"point\"><path d=\"M81.77,176.99V176.99H102.88V176.99Z\" style=\"vector-effect: non-scaling-stroke; opacity: 1; stroke-width: 0.5px; fill: rgb(177, 153, 109); fill-opacity: 1; stroke: rgb(0, 0, 0); stroke-opacity: 1;\"/></g><g class=\"point\"><path d=\"M108.15,164.29V164.29H129.25V164.29Z\" style=\"vector-effect: non-scaling-stroke; opacity: 1; stroke-width: 0.5px; fill: rgb(177, 153, 109); fill-opacity: 1; stroke: rgb(0, 0, 0); stroke-opacity: 1;\"/></g><g class=\"point\"><path d=\"M134.53,138.09V138.08H155.63V138.09Z\" style=\"vector-effect: non-scaling-stroke; opacity: 1; stroke-width: 0.5px; fill: rgb(177, 153, 109); fill-opacity: 1; stroke: rgb(0, 0, 0); stroke-opacity: 1;\"/></g></g></g><g class=\"trace bars\" style=\"opacity: 1;\"><g class=\"points\"><g class=\"point\"><path d=\"M2.64,84.71V84.33H23.74V84.71Z\" style=\"vector-effect: non-scaling-stroke; opacity: 1; stroke-width: 0.5px; fill: rgb(157, 138, 109); fill-opacity: 1; stroke: rgb(0, 0, 0); stroke-opacity: 1;\"/></g><g class=\"point\"><path d=\"M29.02,37.6V37.07H50.12V37.6Z\" style=\"vector-effect: non-scaling-stroke; opacity: 1; stroke-width: 0.5px; fill: rgb(157, 138, 109); fill-opacity: 1; stroke: rgb(0, 0, 0); stroke-opacity: 1;\"/></g><g class=\"point\"><path d=\"M55.39,22.33V21.83H76.5V22.33Z\" style=\"vector-effect: non-scaling-stroke; opacity: 1; stroke-width: 0.5px; fill: rgb(157, 138, 109); fill-opacity: 1; stroke: rgb(0, 0, 0); stroke-opacity: 1;\"/></g><g class=\"point\"><path d=\"M81.77,176.99V176.96H102.88V176.99Z\" style=\"vector-effect: non-scaling-stroke; opacity: 1; stroke-width: 0.5px; fill: rgb(157, 138, 109); fill-opacity: 1; stroke: rgb(0, 0, 0); stroke-opacity: 1;\"/></g><g class=\"point\"><path d=\"M108.15,164.29V164.28H129.25V164.29Z\" style=\"vector-effect: non-scaling-stroke; opacity: 1; stroke-width: 0.5px; fill: rgb(157, 138, 109); fill-opacity: 1; stroke: rgb(0, 0, 0); stroke-opacity: 1;\"/></g><g class=\"point\"><path d=\"M134.53,138.08V138.07H155.63V138.08Z\" style=\"vector-effect: non-scaling-stroke; opacity: 1; stroke-width: 0.5px; fill: rgb(157, 138, 109); fill-opacity: 1; stroke: rgb(0, 0, 0); stroke-opacity: 1;\"/></g></g></g></g></g><g class=\"overplot\"/><path class=\"xlines-above crisp\" d=\"M79,273.5H238.27\" style=\"fill: none; stroke-width: 1px; stroke: rgb(36, 36, 36); stroke-opacity: 1;\"/><path class=\"ylines-above crisp\" d=\"M79.5,60V273\" style=\"fill: none; stroke-width: 1px; stroke: rgb(36, 36, 36); stroke-opacity: 1;\"/><g class=\"overlines-above\"/><g class=\"xaxislayer-above\"><path class=\"xtick ticks crisp\" d=\"M0,274v5\" transform=\"translate(93.19,0)\" style=\"stroke: rgb(68, 68, 68); stroke-opacity: 1; stroke-width: 1px;\"/><path class=\"xtick ticks crisp\" d=\"M0,274v5\" transform=\"translate(119.57,0)\" style=\"stroke: rgb(68, 68, 68); stroke-opacity: 1; stroke-width: 1px;\"/><path class=\"xtick ticks crisp\" d=\"M0,274v5\" transform=\"translate(145.95,0)\" style=\"stroke: rgb(68, 68, 68); stroke-opacity: 1; stroke-width: 1px;\"/><path class=\"xtick ticks crisp\" d=\"M0,274v5\" transform=\"translate(172.32,0)\" style=\"stroke: rgb(68, 68, 68); stroke-opacity: 1; stroke-width: 1px;\"/><path class=\"xtick ticks crisp\" d=\"M0,274v5\" transform=\"translate(198.7,0)\" style=\"stroke: rgb(68, 68, 68); stroke-opacity: 1; stroke-width: 1px;\"/><path class=\"xtick ticks crisp\" d=\"M0,274v5\" transform=\"translate(225.08,0)\" style=\"stroke: rgb(68, 68, 68); stroke-opacity: 1; stroke-width: 1px;\"/><g class=\"xtick\"><text text-anchor=\"start\" x=\"0\" y=\"293.4\" transform=\"translate(93.19,0) rotate(90,0,287.4)\" style=\"font-family: 'Open Sans', verdana, arial, sans-serif; font-size: 12px; fill: rgb(36, 36, 36); fill-opacity: 1; white-space: pre; opacity: 1;\">RT-FS_0mM</text></g><g class=\"xtick\"><text text-anchor=\"start\" x=\"0\" y=\"293.4\" transform=\"translate(119.57,0) rotate(90,0,287.4)\" style=\"font-family: 'Open Sans', verdana, arial, sans-serif; font-size: 12px; fill: rgb(36, 36, 36); fill-opacity: 1; white-space: pre; opacity: 1;\">RT-FS_57mM</text></g><g class=\"xtick\"><text text-anchor=\"start\" x=\"0\" y=\"293.4\" transform=\"translate(145.95,0) rotate(90,0,287.4)\" style=\"font-family: 'Open Sans', verdana, arial, sans-serif; font-size: 12px; fill: rgb(36, 36, 36); fill-opacity: 1; white-space: pre; opacity: 1;\">RT-FS_85mM</text></g><g class=\"xtick\"><text text-anchor=\"start\" x=\"0\" y=\"293.4\" transform=\"translate(172.32,0) rotate(90,0,287.4)\" style=\"font-family: 'Open Sans', verdana, arial, sans-serif; font-size: 12px; fill: rgb(36, 36, 36); fill-opacity: 1; white-space: pre; opacity: 1;\">RT-US_0mM</text></g><g class=\"xtick\"><text text-anchor=\"start\" x=\"0\" y=\"293.4\" transform=\"translate(198.7,0) rotate(90,0,287.4)\" style=\"font-family: 'Open Sans', verdana, arial, sans-serif; font-size: 12px; fill: rgb(36, 36, 36); fill-opacity: 1; white-space: pre; opacity: 1;\">RT-US_57mM</text></g><g class=\"xtick\"><text text-anchor=\"start\" x=\"0\" y=\"293.4\" transform=\"translate(225.08,0) rotate(90,0,287.4)\" style=\"font-family: 'Open Sans', verdana, arial, sans-serif; font-size: 12px; fill: rgb(36, 36, 36); fill-opacity: 1; white-space: pre; opacity: 1;\">RT-US_85mM</text></g></g><g class=\"yaxislayer-above\"><path class=\"ytick ticks crisp\" d=\"M79,0h-5\" transform=\"translate(0,273)\" style=\"stroke: rgb(68, 68, 68); stroke-opacity: 1; stroke-width: 1px;\"/><path class=\"ytick ticks crisp\" d=\"M79,0h-5\" transform=\"translate(0,220.53)\" style=\"stroke: rgb(68, 68, 68); stroke-opacity: 1; stroke-width: 1px;\"/><path class=\"ytick ticks crisp\" d=\"M79,0h-5\" transform=\"translate(0,168.05)\" style=\"stroke: rgb(68, 68, 68); stroke-opacity: 1; stroke-width: 1px;\"/><path class=\"ytick ticks crisp\" d=\"M79,0h-5\" transform=\"translate(0,115.58)\" style=\"stroke: rgb(68, 68, 68); stroke-opacity: 1; stroke-width: 1px;\"/><path class=\"ytick ticks crisp\" d=\"M79,0h-5\" transform=\"translate(0,63.11)\" style=\"stroke: rgb(68, 68, 68); stroke-opacity: 1; stroke-width: 1px;\"/><g class=\"ytick\"><text text-anchor=\"end\" x=\"71.6\" y=\"4.199999999999999\" transform=\"translate(0,273)\" style=\"font-family: 'Open Sans', verdana, arial, sans-serif; font-size: 12px; fill: rgb(36, 36, 36); fill-opacity: 1; white-space: pre; opacity: 1;\">0</text></g><g class=\"ytick\"><text text-anchor=\"end\" x=\"71.6\" y=\"4.199999999999999\" style=\"font-family: 'Open Sans', verdana, arial, sans-serif; font-size: 12px; fill: rgb(36, 36, 36); fill-opacity: 1; white-space: pre; opacity: 1;\" transform=\"translate(0,220.53)\">50k</text></g><g class=\"ytick\"><text text-anchor=\"end\" x=\"71.6\" y=\"4.199999999999999\" style=\"font-family: 'Open Sans', verdana, arial, sans-serif; font-size: 12px; fill: rgb(36, 36, 36); fill-opacity: 1; white-space: pre; opacity: 1;\" transform=\"translate(0,168.05)\">100k</text></g><g class=\"ytick\"><text text-anchor=\"end\" x=\"71.6\" y=\"4.199999999999999\" style=\"font-family: 'Open Sans', verdana, arial, sans-serif; font-size: 12px; fill: rgb(36, 36, 36); fill-opacity: 1; white-space: pre; opacity: 1;\" transform=\"translate(0,115.58)\">150k</text></g><g class=\"ytick\"><text text-anchor=\"end\" x=\"71.6\" y=\"4.199999999999999\" style=\"font-family: 'Open Sans', verdana, arial, sans-serif; font-size: 12px; fill: rgb(36, 36, 36); fill-opacity: 1; white-space: pre; opacity: 1;\" transform=\"translate(0,63.11)\">200k</text></g></g><g class=\"overaxes-above\"/></g><g class=\"subplot x2y2\"><g class=\"layer-subplot\"><g class=\"shapelayer\"/><g class=\"imagelayer\"/></g><g class=\"minor-gridlayer\"><g class=\"x2\"/><g class=\"y2\"/></g><g class=\"gridlayer\"><g class=\"x2\"/><g class=\"y2\"><path class=\"y2grid crisp\" transform=\"translate(0,220.53)\" d=\"M244.73,0h158.27\" style=\"stroke: rgb(232, 232, 232); stroke-opacity: 1; stroke-width: 1px;\"/><path class=\"y2grid crisp\" transform=\"translate(0,168.05)\" d=\"M244.73,0h158.27\" style=\"stroke: rgb(232, 232, 232); stroke-opacity: 1; stroke-width: 1px;\"/><path class=\"y2grid crisp\" transform=\"translate(0,115.58)\" d=\"M244.73,0h158.27\" style=\"stroke: rgb(232, 232, 232); stroke-opacity: 1; stroke-width: 1px;\"/><path class=\"y2grid crisp\" transform=\"translate(0,63.11)\" d=\"M244.73,0h158.27\" style=\"stroke: rgb(232, 232, 232); stroke-opacity: 1; stroke-width: 1px;\"/></g></g><g class=\"zerolinelayer\"/><path class=\"xlines-below\"/><path class=\"ylines-below\"/><g class=\"overlines-below\"/><g class=\"xaxislayer-below\"/><g class=\"yaxislayer-below\"/><g class=\"overaxes-below\"/><g class=\"plot\" transform=\"translate(244.73,60)\" clip-path=\"url(#clip6b7065x2y2plot)\"><g class=\"barlayer mlayer\"><g class=\"trace bars\" style=\"opacity: 1;\"><g class=\"points\"><g class=\"point\"><path d=\"M2.64,213V212.87H23.74V213Z\" style=\"vector-effect: non-scaling-stroke; opacity: 1; stroke-width: 0.5px; fill: rgb(0, 0, 0); fill-opacity: 1; stroke: rgb(0, 0, 0); stroke-opacity: 1;\"/></g><g class=\"point\"><path d=\"M29.02,213V212.65H50.12V213Z\" style=\"vector-effect: non-scaling-stroke; opacity: 1; stroke-width: 0.5px; fill: rgb(0, 0, 0); fill-opacity: 1; stroke: rgb(0, 0, 0); stroke-opacity: 1;\"/></g><g class=\"point\"><path d=\"M55.39,213V212.65H76.5V213Z\" style=\"vector-effect: non-scaling-stroke; opacity: 1; stroke-width: 0.5px; fill: rgb(0, 0, 0); fill-opacity: 1; stroke: rgb(0, 0, 0); stroke-opacity: 1;\"/></g><g class=\"point\"><path d=\"M81.77,213V116.35H102.88V213Z\" style=\"vector-effect: non-scaling-stroke; opacity: 1; stroke-width: 0.5px; fill: rgb(0, 0, 0); fill-opacity: 1; stroke: rgb(0, 0, 0); stroke-opacity: 1;\"/></g><g class=\"point\"><path d=\"M108.15,213V147.11H129.25V213Z\" style=\"vector-effect: non-scaling-stroke; opacity: 1; stroke-width: 0.5px; fill: rgb(0, 0, 0); fill-opacity: 1; stroke: rgb(0, 0, 0); stroke-opacity: 1;\"/></g><g class=\"point\"><path d=\"M134.53,213V121.42H155.63V213Z\" style=\"vector-effect: non-scaling-stroke; opacity: 1; stroke-width: 0.5px; fill: rgb(0, 0, 0); fill-opacity: 1; stroke: rgb(0, 0, 0); stroke-opacity: 1;\"/></g></g></g><g class=\"trace bars\" style=\"opacity: 1;\"><g class=\"points\"><g class=\"point\"><path d=\"M2.64,212.87V212.61H23.74V212.87Z\" style=\"vector-effect: non-scaling-stroke; opacity: 1; stroke-width: 0.5px; fill: rgb(0, 0, 0); fill-opacity: 1; stroke: rgb(0, 0, 0); stroke-opacity: 1;\"/></g><g class=\"point\"><path d=\"M29.02,212.65V212.62H50.12V212.65Z\" style=\"vector-effect: non-scaling-stroke; opacity: 1; stroke-width: 0.5px; fill: rgb(0, 0, 0); fill-opacity: 1; stroke: rgb(0, 0, 0); stroke-opacity: 1;\"/></g><g class=\"point\"><path d=\"M55.39,212.65V212.59H76.5V212.65Z\" style=\"vector-effect: non-scaling-stroke; opacity: 1; stroke-width: 0.5px; fill: rgb(0, 0, 0); fill-opacity: 1; stroke: rgb(0, 0, 0); stroke-opacity: 1;\"/></g><g class=\"point\"><path d=\"M81.77,116.35V115.6H102.88V116.35Z\" style=\"vector-effect: non-scaling-stroke; opacity: 1; stroke-width: 0.5px; fill: rgb(0, 0, 0); fill-opacity: 1; stroke: rgb(0, 0, 0); stroke-opacity: 1;\"/></g><g class=\"point\"><path d=\"M108.15,147.11V147.05H129.25V147.11Z\" style=\"vector-effect: non-scaling-stroke; opacity: 1; stroke-width: 0.5px; fill: rgb(0, 0, 0); fill-opacity: 1; stroke: rgb(0, 0, 0); stroke-opacity: 1;\"/></g><g class=\"point\"><path d=\"M134.53,121.42V121.36H155.63V121.42Z\" style=\"vector-effect: non-scaling-stroke; opacity: 1; stroke-width: 0.5px; fill: rgb(0, 0, 0); fill-opacity: 1; stroke: rgb(0, 0, 0); stroke-opacity: 1;\"/></g></g></g><g class=\"trace bars\" style=\"opacity: 1;\"><g class=\"points\"><g class=\"point\"><path d=\"M2.64,212.61V202.33H23.74V212.61Z\" style=\"vector-effect: non-scaling-stroke; opacity: 1; stroke-width: 0.5px; fill: rgb(17, 120, 100); fill-opacity: 1; stroke: rgb(0, 0, 0); stroke-opacity: 1;\"/></g><g class=\"point\"><path d=\"M29.02,212.62V192.63H50.12V212.62Z\" style=\"vector-effect: non-scaling-stroke; opacity: 1; stroke-width: 0.5px; fill: rgb(17, 120, 100); fill-opacity: 1; stroke: rgb(0, 0, 0); stroke-opacity: 1;\"/></g><g class=\"point\"><path d=\"M55.39,212.59V189.9H76.5V212.59Z\" style=\"vector-effect: non-scaling-stroke; opacity: 1; stroke-width: 0.5px; fill: rgb(17, 120, 100); fill-opacity: 1; stroke: rgb(0, 0, 0); stroke-opacity: 1;\"/></g><g class=\"point\"><path d=\"M81.77,115.6V115.59H102.88V115.6Z\" style=\"vector-effect: non-scaling-stroke; opacity: 1; stroke-width: 0.5px; fill: rgb(17, 120, 100); fill-opacity: 1; stroke: rgb(0, 0, 0); stroke-opacity: 1;\"/></g><g class=\"point\"><path d=\"M108.15,147.05V147.04H129.25V147.05Z\" style=\"vector-effect: non-scaling-stroke; opacity: 1; stroke-width: 0.5px; fill: rgb(17, 120, 100); fill-opacity: 1; stroke: rgb(0, 0, 0); stroke-opacity: 1;\"/></g><g class=\"point\"><path d=\"M134.53,121.36V121.36H155.63V121.36Z\" style=\"vector-effect: non-scaling-stroke; opacity: 1; stroke-width: 0.5px; fill: rgb(17, 120, 100); fill-opacity: 1; stroke: rgb(0, 0, 0); stroke-opacity: 1;\"/></g></g></g><g class=\"trace bars\" style=\"opacity: 1;\"><g class=\"points\"><g class=\"point\"><path d=\"M2.64,202.33V193.66H23.74V202.33Z\" style=\"vector-effect: non-scaling-stroke; opacity: 1; stroke-width: 0.5px; fill: rgb(20, 143, 119); fill-opacity: 1; stroke: rgb(0, 0, 0); stroke-opacity: 1;\"/></g><g class=\"point\"><path d=\"M29.02,192.63V174.07H50.12V192.63Z\" style=\"vector-effect: non-scaling-stroke; opacity: 1; stroke-width: 0.5px; fill: rgb(20, 143, 119); fill-opacity: 1; stroke: rgb(0, 0, 0); stroke-opacity: 1;\"/></g><g class=\"point\"><path d=\"M55.39,189.9V167.47H76.5V189.9Z\" style=\"vector-effect: non-scaling-stroke; opacity: 1; stroke-width: 0.5px; fill: rgb(20, 143, 119); fill-opacity: 1; stroke: rgb(0, 0, 0); stroke-opacity: 1;\"/></g><g class=\"point\"><path d=\"M81.77,115.59V115.58H102.88V115.59Z\" style=\"vector-effect: non-scaling-stroke; opacity: 1; stroke-width: 0.5px; fill: rgb(20, 143, 119); fill-opacity: 1; stroke: rgb(0, 0, 0); stroke-opacity: 1;\"/></g><g class=\"point\"><path d=\"M108.15,147.04V147.04H129.25V147.04Z\" style=\"vector-effect: non-scaling-stroke; opacity: 1; stroke-width: 0.5px; fill: rgb(20, 143, 119); fill-opacity: 1; stroke: rgb(0, 0, 0); stroke-opacity: 1;\"/></g><g class=\"point\"><path d=\"M134.53,121.36V121.35H155.63V121.36Z\" style=\"vector-effect: non-scaling-stroke; opacity: 1; stroke-width: 0.5px; fill: rgb(20, 143, 119); fill-opacity: 1; stroke: rgb(0, 0, 0); stroke-opacity: 1;\"/></g></g></g><g class=\"trace bars\" style=\"opacity: 1;\"><g class=\"points\"><g class=\"point\"><path d=\"M2.64,193.66V178.11H23.74V193.66Z\" style=\"vector-effect: non-scaling-stroke; opacity: 1; stroke-width: 0.5px; fill: rgb(23, 165, 137); fill-opacity: 1; stroke: rgb(0, 0, 0); stroke-opacity: 1;\"/></g><g class=\"point\"><path d=\"M29.02,174.07V145.1H50.12V174.07Z\" style=\"vector-effect: non-scaling-stroke; opacity: 1; stroke-width: 0.5px; fill: rgb(23, 165, 137); fill-opacity: 1; stroke: rgb(0, 0, 0); stroke-opacity: 1;\"/></g><g class=\"point\"><path d=\"M55.39,167.47V132.44H76.5V167.47Z\" style=\"vector-effect: non-scaling-stroke; opacity: 1; stroke-width: 0.5px; fill: rgb(23, 165, 137); fill-opacity: 1; stroke: rgb(0, 0, 0); stroke-opacity: 1;\"/></g><g class=\"point\"><path d=\"M81.77,115.58V115.58H102.88V115.58Z\" style=\"vector-effect: non-scaling-stroke; opacity: 1; stroke-width: 0.5px; fill: rgb(23, 165, 137); fill-opacity: 1; stroke: rgb(0, 0, 0); stroke-opacity: 1;\"/></g><g class=\"point\"><path d=\"M108.15,147.04V147.02H129.25V147.04Z\" style=\"vector-effect: non-scaling-stroke; opacity: 1; stroke-width: 0.5px; fill: rgb(23, 165, 137); fill-opacity: 1; stroke: rgb(0, 0, 0); stroke-opacity: 1;\"/></g><g class=\"point\"><path d=\"M134.53,121.35V121.34H155.63V121.35Z\" style=\"vector-effect: non-scaling-stroke; opacity: 1; stroke-width: 0.5px; fill: rgb(23, 165, 137); fill-opacity: 1; stroke: rgb(0, 0, 0); stroke-opacity: 1;\"/></g></g></g><g class=\"trace bars\" style=\"opacity: 1;\"><g class=\"points\"><g class=\"point\"><path d=\"M2.64,178.11V164.83H23.74V178.11Z\" style=\"vector-effect: non-scaling-stroke; opacity: 1; stroke-width: 0.5px; fill: rgb(26, 188, 156); fill-opacity: 1; stroke: rgb(0, 0, 0); stroke-opacity: 1;\"/></g><g class=\"point\"><path d=\"M29.02,145.1V118.84H50.12V145.1Z\" style=\"vector-effect: non-scaling-stroke; opacity: 1; stroke-width: 0.5px; fill: rgb(26, 188, 156); fill-opacity: 1; stroke: rgb(0, 0, 0); stroke-opacity: 1;\"/></g><g class=\"point\"><path d=\"M55.39,132.44V101.51H76.5V132.44Z\" style=\"vector-effect: non-scaling-stroke; opacity: 1; stroke-width: 0.5px; fill: rgb(26, 188, 156); fill-opacity: 1; stroke: rgb(0, 0, 0); stroke-opacity: 1;\"/></g><g class=\"point\"><path d=\"M81.77,115.58V115.42H102.88V115.58Z\" style=\"vector-effect: non-scaling-stroke; opacity: 1; stroke-width: 0.5px; fill: rgb(26, 188, 156); fill-opacity: 1; stroke: rgb(0, 0, 0); stroke-opacity: 1;\"/></g><g class=\"point\"><path d=\"M108.15,147.02V146.74H129.25V147.02Z\" style=\"vector-effect: non-scaling-stroke; opacity: 1; stroke-width: 0.5px; fill: rgb(26, 188, 156); fill-opacity: 1; stroke: rgb(0, 0, 0); stroke-opacity: 1;\"/></g><g class=\"point\"><path d=\"M134.53,121.34V121.14H155.63V121.34Z\" style=\"vector-effect: non-scaling-stroke; opacity: 1; stroke-width: 0.5px; fill: rgb(26, 188, 156); fill-opacity: 1; stroke: rgb(0, 0, 0); stroke-opacity: 1;\"/></g></g></g><g class=\"trace bars\" style=\"opacity: 1;\"><g class=\"points\"><g class=\"point\"><path d=\"M2.64,164.83V164.54H23.74V164.83Z\" style=\"vector-effect: non-scaling-stroke; opacity: 1; stroke-width: 0.5px; fill: rgb(72, 201, 176); fill-opacity: 1; stroke: rgb(0, 0, 0); stroke-opacity: 1;\"/></g><g class=\"point\"><path d=\"M29.02,118.84V118.36H50.12V118.84Z\" style=\"vector-effect: non-scaling-stroke; opacity: 1; stroke-width: 0.5px; fill: rgb(72, 201, 176); fill-opacity: 1; stroke: rgb(0, 0, 0); stroke-opacity: 1;\"/></g><g class=\"point\"><path d=\"M55.39,101.51V100.99H76.5V101.51Z\" style=\"vector-effect: non-scaling-stroke; opacity: 1; stroke-width: 0.5px; fill: rgb(72, 201, 176); fill-opacity: 1; stroke: rgb(0, 0, 0); stroke-opacity: 1;\"/></g><g class=\"point\"><path d=\"M134.53,121.14V121.14H155.63V121.14Z\" style=\"vector-effect: non-scaling-stroke; opacity: 1; stroke-width: 0.5px; fill: rgb(72, 201, 176); fill-opacity: 1; stroke: rgb(0, 0, 0); stroke-opacity: 1;\"/></g></g></g><g class=\"trace bars\" style=\"opacity: 1;\"><g class=\"points\"><g class=\"point\"><path d=\"M2.64,164.54V164.43H23.74V164.54Z\" style=\"vector-effect: non-scaling-stroke; opacity: 1; stroke-width: 0.5px; fill: rgb(118, 215, 196); fill-opacity: 1; stroke: rgb(0, 0, 0); stroke-opacity: 1;\"/></g><g class=\"point\"><path d=\"M29.02,118.36V117.86H50.12V118.36Z\" style=\"vector-effect: non-scaling-stroke; opacity: 1; stroke-width: 0.5px; fill: rgb(118, 215, 196); fill-opacity: 1; stroke: rgb(0, 0, 0); stroke-opacity: 1;\"/></g><g class=\"point\"><path d=\"M55.39,100.99V100.43H76.5V100.99Z\" style=\"vector-effect: non-scaling-stroke; opacity: 1; stroke-width: 0.5px; fill: rgb(118, 215, 196); fill-opacity: 1; stroke: rgb(0, 0, 0); stroke-opacity: 1;\"/></g></g></g><g class=\"trace bars\" style=\"opacity: 1;\"><g class=\"points\"><g class=\"point\"><path d=\"M2.64,164.43V164.4H23.74V164.43Z\" style=\"vector-effect: non-scaling-stroke; opacity: 1; stroke-width: 0.5px; fill: rgb(163, 228, 215); fill-opacity: 1; stroke: rgb(0, 0, 0); stroke-opacity: 1;\"/></g><g class=\"point\"><path d=\"M29.02,117.86V117.8H50.12V117.86Z\" style=\"vector-effect: non-scaling-stroke; opacity: 1; stroke-width: 0.5px; fill: rgb(163, 228, 215); fill-opacity: 1; stroke: rgb(0, 0, 0); stroke-opacity: 1;\"/></g><g class=\"point\"><path d=\"M55.39,100.43V100.34H76.5V100.43Z\" style=\"vector-effect: non-scaling-stroke; opacity: 1; stroke-width: 0.5px; fill: rgb(163, 228, 215); fill-opacity: 1; stroke: rgb(0, 0, 0); stroke-opacity: 1;\"/></g></g></g><g class=\"trace bars\" style=\"opacity: 1;\"><g class=\"points\"><g class=\"point\"><path d=\"M2.64,164.4V164.37H23.74V164.4Z\" style=\"vector-effect: non-scaling-stroke; opacity: 1; stroke-width: 0.5px; fill: rgb(29, 131, 72); fill-opacity: 1; stroke: rgb(0, 0, 0); stroke-opacity: 1;\"/></g><g class=\"point\"><path d=\"M29.02,117.8V117.7H50.12V117.8Z\" style=\"vector-effect: non-scaling-stroke; opacity: 1; stroke-width: 0.5px; fill: rgb(29, 131, 72); fill-opacity: 1; stroke: rgb(0, 0, 0); stroke-opacity: 1;\"/></g><g class=\"point\"><path d=\"M55.39,100.34V100.23H76.5V100.34Z\" style=\"vector-effect: non-scaling-stroke; opacity: 1; stroke-width: 0.5px; fill: rgb(29, 131, 72); fill-opacity: 1; stroke: rgb(0, 0, 0); stroke-opacity: 1;\"/></g><g class=\"point\"><path d=\"M108.15,146.74V146.74H129.25V146.74Z\" style=\"vector-effect: non-scaling-stroke; opacity: 1; stroke-width: 0.5px; fill: rgb(29, 131, 72); fill-opacity: 1; stroke: rgb(0, 0, 0); stroke-opacity: 1;\"/></g></g></g><g class=\"trace bars\" style=\"opacity: 1;\"><g class=\"points\"><g class=\"point\"><path d=\"M2.64,164.37V164.37H23.74V164.37Z\" style=\"vector-effect: non-scaling-stroke; opacity: 1; stroke-width: 0.5px; fill: rgb(35, 155, 86); fill-opacity: 1; stroke: rgb(0, 0, 0); stroke-opacity: 1;\"/></g><g class=\"point\"><path d=\"M55.39,100.23V100.22H76.5V100.23Z\" style=\"vector-effect: non-scaling-stroke; opacity: 1; stroke-width: 0.5px; fill: rgb(35, 155, 86); fill-opacity: 1; stroke: rgb(0, 0, 0); stroke-opacity: 1;\"/></g><g class=\"point\"><path d=\"M134.53,121.14V121.14H155.63V121.14Z\" style=\"vector-effect: non-scaling-stroke; opacity: 1; stroke-width: 0.5px; fill: rgb(35, 155, 86); fill-opacity: 1; stroke: rgb(0, 0, 0); stroke-opacity: 1;\"/></g></g></g><g class=\"trace bars\" style=\"opacity: 1;\"><g class=\"points\"><g class=\"point\"><path d=\"M2.64,164.37V164.31H23.74V164.37Z\" style=\"vector-effect: non-scaling-stroke; opacity: 1; stroke-width: 0.5px; fill: rgb(40, 180, 99); fill-opacity: 1; stroke: rgb(0, 0, 0); stroke-opacity: 1;\"/></g><g class=\"point\"><path d=\"M29.02,117.7V117.49H50.12V117.7Z\" style=\"vector-effect: non-scaling-stroke; opacity: 1; stroke-width: 0.5px; fill: rgb(40, 180, 99); fill-opacity: 1; stroke: rgb(0, 0, 0); stroke-opacity: 1;\"/></g><g class=\"point\"><path d=\"M55.39,100.22V99.94H76.5V100.22Z\" style=\"vector-effect: non-scaling-stroke; opacity: 1; stroke-width: 0.5px; fill: rgb(40, 180, 99); fill-opacity: 1; stroke: rgb(0, 0, 0); stroke-opacity: 1;\"/></g><g class=\"point\"><path d=\"M81.77,115.42V115.42H102.88V115.42Z\" style=\"vector-effect: non-scaling-stroke; opacity: 1; stroke-width: 0.5px; fill: rgb(40, 180, 99); fill-opacity: 1; stroke: rgb(0, 0, 0); stroke-opacity: 1;\"/></g></g></g><g class=\"trace bars\" style=\"opacity: 1;\"><g class=\"points\"><g class=\"point\"><path d=\"M2.64,164.31V164.28H23.74V164.31Z\" style=\"vector-effect: non-scaling-stroke; opacity: 1; stroke-width: 0.5px; fill: rgb(46, 204, 113); fill-opacity: 1; stroke: rgb(0, 0, 0); stroke-opacity: 1;\"/></g><g class=\"point\"><path d=\"M29.02,117.49V117.41H50.12V117.49Z\" style=\"vector-effect: non-scaling-stroke; opacity: 1; stroke-width: 0.5px; fill: rgb(46, 204, 113); fill-opacity: 1; stroke: rgb(0, 0, 0); stroke-opacity: 1;\"/></g><g class=\"point\"><path d=\"M55.39,99.94V99.83H76.5V99.94Z\" style=\"vector-effect: non-scaling-stroke; opacity: 1; stroke-width: 0.5px; fill: rgb(46, 204, 113); fill-opacity: 1; stroke: rgb(0, 0, 0); stroke-opacity: 1;\"/></g><g class=\"point\"><path d=\"M81.77,115.42V115.42H102.88V115.42Z\" style=\"vector-effect: non-scaling-stroke; opacity: 1; stroke-width: 0.5px; fill: rgb(46, 204, 113); fill-opacity: 1; stroke: rgb(0, 0, 0); stroke-opacity: 1;\"/></g></g></g><g class=\"trace bars\" style=\"opacity: 1;\"><g class=\"points\"><g class=\"point\"><path d=\"M2.64,164.28V164.24H23.74V164.28Z\" style=\"vector-effect: non-scaling-stroke; opacity: 1; stroke-width: 0.5px; fill: rgb(88, 214, 141); fill-opacity: 1; stroke: rgb(0, 0, 0); stroke-opacity: 1;\"/></g><g class=\"point\"><path d=\"M29.02,117.41V117.34H50.12V117.41Z\" style=\"vector-effect: non-scaling-stroke; opacity: 1; stroke-width: 0.5px; fill: rgb(88, 214, 141); fill-opacity: 1; stroke: rgb(0, 0, 0); stroke-opacity: 1;\"/></g><g class=\"point\"><path d=\"M55.39,99.83V99.75H76.5V99.83Z\" style=\"vector-effect: non-scaling-stroke; opacity: 1; stroke-width: 0.5px; fill: rgb(88, 214, 141); fill-opacity: 1; stroke: rgb(0, 0, 0); stroke-opacity: 1;\"/></g></g></g><g class=\"trace bars\" style=\"opacity: 1;\"><g class=\"points\"><g class=\"point\"><path d=\"M29.02,117.34V117.33H50.12V117.34Z\" style=\"vector-effect: non-scaling-stroke; opacity: 1; stroke-width: 0.5px; fill: rgb(130, 224, 170); fill-opacity: 1; stroke: rgb(0, 0, 0); stroke-opacity: 1;\"/></g><g class=\"point\"><path d=\"M55.39,99.75V99.73H76.5V99.75Z\" style=\"vector-effect: non-scaling-stroke; opacity: 1; stroke-width: 0.5px; fill: rgb(130, 224, 170); fill-opacity: 1; stroke: rgb(0, 0, 0); stroke-opacity: 1;\"/></g></g></g><g class=\"trace bars\" style=\"opacity: 1;\"><g class=\"points\"><g class=\"point\"><path d=\"M2.64,164.24V161.25H23.74V164.24Z\" style=\"vector-effect: non-scaling-stroke; opacity: 1; stroke-width: 0.5px; fill: rgb(147, 81, 22); fill-opacity: 1; stroke: rgb(0, 0, 0); stroke-opacity: 1;\"/></g><g class=\"point\"><path d=\"M29.02,117.33V110.22H50.12V117.33Z\" style=\"vector-effect: non-scaling-stroke; opacity: 1; stroke-width: 0.5px; fill: rgb(147, 81, 22); fill-opacity: 1; stroke: rgb(0, 0, 0); stroke-opacity: 1;\"/></g><g class=\"point\"><path d=\"M55.39,99.73V91.28H76.5V99.73Z\" style=\"vector-effect: non-scaling-stroke; opacity: 1; stroke-width: 0.5px; fill: rgb(147, 81, 22); fill-opacity: 1; stroke: rgb(0, 0, 0); stroke-opacity: 1;\"/></g><g class=\"point\"><path d=\"M81.77,115.42V115.42H102.88V115.42Z\" style=\"vector-effect: non-scaling-stroke; opacity: 1; stroke-width: 0.5px; fill: rgb(147, 81, 22); fill-opacity: 1; stroke: rgb(0, 0, 0); stroke-opacity: 1;\"/></g><g class=\"point\"><path d=\"M108.15,146.74V146.73H129.25V146.74Z\" style=\"vector-effect: non-scaling-stroke; opacity: 1; stroke-width: 0.5px; fill: rgb(147, 81, 22); fill-opacity: 1; stroke: rgb(0, 0, 0); stroke-opacity: 1;\"/></g><g class=\"point\"><path d=\"M134.53,121.14V121.14H155.63V121.14Z\" style=\"vector-effect: non-scaling-stroke; opacity: 1; stroke-width: 0.5px; fill: rgb(147, 81, 22); fill-opacity: 1; stroke: rgb(0, 0, 0); stroke-opacity: 1;\"/></g></g></g><g class=\"trace bars\" style=\"opacity: 1;\"><g class=\"points\"><g class=\"point\"><path d=\"M2.64,161.25V157.24H23.74V161.25Z\" style=\"vector-effect: non-scaling-stroke; opacity: 1; stroke-width: 0.5px; fill: rgb(175, 96, 26); fill-opacity: 1; stroke: rgb(0, 0, 0); stroke-opacity: 1;\"/></g><g class=\"point\"><path d=\"M29.02,110.22V102.97H50.12V110.22Z\" style=\"vector-effect: non-scaling-stroke; opacity: 1; stroke-width: 0.5px; fill: rgb(175, 96, 26); fill-opacity: 1; stroke: rgb(0, 0, 0); stroke-opacity: 1;\"/></g><g class=\"point\"><path d=\"M55.39,91.28V83.19H76.5V91.28Z\" style=\"vector-effect: non-scaling-stroke; opacity: 1; stroke-width: 0.5px; fill: rgb(175, 96, 26); fill-opacity: 1; stroke: rgb(0, 0, 0); stroke-opacity: 1;\"/></g><g class=\"point\"><path d=\"M81.77,115.42V115.42H102.88V115.42Z\" style=\"vector-effect: non-scaling-stroke; opacity: 1; stroke-width: 0.5px; fill: rgb(175, 96, 26); fill-opacity: 1; stroke: rgb(0, 0, 0); stroke-opacity: 1;\"/></g><g class=\"point\"><path d=\"M108.15,146.73V146.73H129.25V146.73Z\" style=\"vector-effect: non-scaling-stroke; opacity: 1; stroke-width: 0.5px; fill: rgb(175, 96, 26); fill-opacity: 1; stroke: rgb(0, 0, 0); stroke-opacity: 1;\"/></g><g class=\"point\"><path d=\"M134.53,121.14V121.13H155.63V121.14Z\" style=\"vector-effect: non-scaling-stroke; opacity: 1; stroke-width: 0.5px; fill: rgb(175, 96, 26); fill-opacity: 1; stroke: rgb(0, 0, 0); stroke-opacity: 1;\"/></g></g></g><g class=\"trace bars\" style=\"opacity: 1;\"><g class=\"points\"><g class=\"point\"><path d=\"M2.64,157.24V156.52H23.74V157.24Z\" style=\"vector-effect: non-scaling-stroke; opacity: 1; stroke-width: 0.5px; fill: rgb(202, 111, 30); fill-opacity: 1; stroke: rgb(0, 0, 0); stroke-opacity: 1;\"/></g><g class=\"point\"><path d=\"M29.02,102.97V101.59H50.12V102.97Z\" style=\"vector-effect: non-scaling-stroke; opacity: 1; stroke-width: 0.5px; fill: rgb(202, 111, 30); fill-opacity: 1; stroke: rgb(0, 0, 0); stroke-opacity: 1;\"/></g><g class=\"point\"><path d=\"M55.39,83.19V81.5H76.5V83.19Z\" style=\"vector-effect: non-scaling-stroke; opacity: 1; stroke-width: 0.5px; fill: rgb(202, 111, 30); fill-opacity: 1; stroke: rgb(0, 0, 0); stroke-opacity: 1;\"/></g><g class=\"point\"><path d=\"M81.77,115.42V115.41H102.88V115.42Z\" style=\"vector-effect: non-scaling-stroke; opacity: 1; stroke-width: 0.5px; fill: rgb(202, 111, 30); fill-opacity: 1; stroke: rgb(0, 0, 0); stroke-opacity: 1;\"/></g><g class=\"point\"><path d=\"M134.53,121.13V121.11H155.63V121.13Z\" style=\"vector-effect: non-scaling-stroke; opacity: 1; stroke-width: 0.5px; fill: rgb(202, 111, 30); fill-opacity: 1; stroke: rgb(0, 0, 0); stroke-opacity: 1;\"/></g></g></g><g class=\"trace bars\" style=\"opacity: 1;\"><g class=\"points\"><g class=\"point\"><path d=\"M2.64,156.52V156.1H23.74V156.52Z\" style=\"vector-effect: non-scaling-stroke; opacity: 1; stroke-width: 0.5px; fill: rgb(230, 126, 34); fill-opacity: 1; stroke: rgb(0, 0, 0); stroke-opacity: 1;\"/></g><g class=\"point\"><path d=\"M29.02,101.59V100.12H50.12V101.59Z\" style=\"vector-effect: non-scaling-stroke; opacity: 1; stroke-width: 0.5px; fill: rgb(230, 126, 34); fill-opacity: 1; stroke: rgb(0, 0, 0); stroke-opacity: 1;\"/></g><g class=\"point\"><path d=\"M55.39,81.5V79.8H76.5V81.5Z\" style=\"vector-effect: non-scaling-stroke; opacity: 1; stroke-width: 0.5px; fill: rgb(230, 126, 34); fill-opacity: 1; stroke: rgb(0, 0, 0); stroke-opacity: 1;\"/></g><g class=\"point\"><path d=\"M108.15,146.73V146.73H129.25V146.73Z\" style=\"vector-effect: non-scaling-stroke; opacity: 1; stroke-width: 0.5px; fill: rgb(230, 126, 34); fill-opacity: 1; stroke: rgb(0, 0, 0); stroke-opacity: 1;\"/></g><g class=\"point\"><path d=\"M134.53,121.11V121.11H155.63V121.11Z\" style=\"vector-effect: non-scaling-stroke; opacity: 1; stroke-width: 0.5px; fill: rgb(230, 126, 34); fill-opacity: 1; stroke: rgb(0, 0, 0); stroke-opacity: 1;\"/></g></g></g><g class=\"trace bars\" style=\"opacity: 1;\"><g class=\"points\"><g class=\"point\"><path d=\"M2.64,156.1V155.67H23.74V156.1Z\" style=\"vector-effect: non-scaling-stroke; opacity: 1; stroke-width: 0.5px; fill: rgb(235, 152, 78); fill-opacity: 1; stroke: rgb(0, 0, 0); stroke-opacity: 1;\"/></g><g class=\"point\"><path d=\"M29.02,100.12V98.99H50.12V100.12Z\" style=\"vector-effect: non-scaling-stroke; opacity: 1; stroke-width: 0.5px; fill: rgb(235, 152, 78); fill-opacity: 1; stroke: rgb(0, 0, 0); stroke-opacity: 1;\"/></g><g class=\"point\"><path d=\"M55.39,79.8V78.48H76.5V79.8Z\" style=\"vector-effect: non-scaling-stroke; opacity: 1; stroke-width: 0.5px; fill: rgb(235, 152, 78); fill-opacity: 1; stroke: rgb(0, 0, 0); stroke-opacity: 1;\"/></g><g class=\"point\"><path d=\"M108.15,146.73V146.72H129.25V146.73Z\" style=\"vector-effect: non-scaling-stroke; opacity: 1; stroke-width: 0.5px; fill: rgb(235, 152, 78); fill-opacity: 1; stroke: rgb(0, 0, 0); stroke-opacity: 1;\"/></g></g></g><g class=\"trace bars\" style=\"opacity: 1;\"><g class=\"points\"><g class=\"point\"><path d=\"M2.64,155.67V155.6H23.74V155.67Z\" style=\"vector-effect: non-scaling-stroke; opacity: 1; stroke-width: 0.5px; fill: rgb(240, 178, 122); fill-opacity: 1; stroke: rgb(0, 0, 0); stroke-opacity: 1;\"/></g><g class=\"point\"><path d=\"M29.02,98.99V98.79H50.12V98.99Z\" style=\"vector-effect: non-scaling-stroke; opacity: 1; stroke-width: 0.5px; fill: rgb(240, 178, 122); fill-opacity: 1; stroke: rgb(0, 0, 0); stroke-opacity: 1;\"/></g><g class=\"point\"><path d=\"M55.39,78.48V78.26H76.5V78.48Z\" style=\"vector-effect: non-scaling-stroke; opacity: 1; stroke-width: 0.5px; fill: rgb(240, 178, 122); fill-opacity: 1; stroke: rgb(0, 0, 0); stroke-opacity: 1;\"/></g></g></g><g class=\"trace bars\" style=\"opacity: 1;\"><g class=\"points\"><g class=\"point\"><path d=\"M2.64,155.6V152.35H23.74V155.6Z\" style=\"vector-effect: non-scaling-stroke; opacity: 1; stroke-width: 0.5px; fill: rgb(185, 119, 14); fill-opacity: 1; stroke: rgb(0, 0, 0); stroke-opacity: 1;\"/></g><g class=\"point\"><path d=\"M29.02,98.79V91.84H50.12V98.79Z\" style=\"vector-effect: non-scaling-stroke; opacity: 1; stroke-width: 0.5px; fill: rgb(185, 119, 14); fill-opacity: 1; stroke: rgb(0, 0, 0); stroke-opacity: 1;\"/></g><g class=\"point\"><path d=\"M55.39,78.26V69.74H76.5V78.26Z\" style=\"vector-effect: non-scaling-stroke; opacity: 1; stroke-width: 0.5px; fill: rgb(185, 119, 14); fill-opacity: 1; stroke: rgb(0, 0, 0); stroke-opacity: 1;\"/></g><g class=\"point\"><path d=\"M81.77,115.41V115.4H102.88V115.41Z\" style=\"vector-effect: non-scaling-stroke; opacity: 1; stroke-width: 0.5px; fill: rgb(185, 119, 14); fill-opacity: 1; stroke: rgb(0, 0, 0); stroke-opacity: 1;\"/></g><g class=\"point\"><path d=\"M108.15,146.72V146.72H129.25V146.72Z\" style=\"vector-effect: non-scaling-stroke; opacity: 1; stroke-width: 0.5px; fill: rgb(185, 119, 14); fill-opacity: 1; stroke: rgb(0, 0, 0); stroke-opacity: 1;\"/></g><g class=\"point\"><path d=\"M134.53,121.11V121.11H155.63V121.11Z\" style=\"vector-effect: non-scaling-stroke; opacity: 1; stroke-width: 0.5px; fill: rgb(185, 119, 14); fill-opacity: 1; stroke: rgb(0, 0, 0); stroke-opacity: 1;\"/></g></g></g><g class=\"trace bars\" style=\"opacity: 1;\"><g class=\"points\"><g class=\"point\"><path d=\"M2.64,152.35V149.61H23.74V152.35Z\" style=\"vector-effect: non-scaling-stroke; opacity: 1; stroke-width: 0.5px; fill: rgb(214, 137, 16); fill-opacity: 1; stroke: rgb(0, 0, 0); stroke-opacity: 1;\"/></g><g class=\"point\"><path d=\"M29.02,91.84V86.68H50.12V91.84Z\" style=\"vector-effect: non-scaling-stroke; opacity: 1; stroke-width: 0.5px; fill: rgb(214, 137, 16); fill-opacity: 1; stroke: rgb(0, 0, 0); stroke-opacity: 1;\"/></g><g class=\"point\"><path d=\"M55.39,69.74V63.51H76.5V69.74Z\" style=\"vector-effect: non-scaling-stroke; opacity: 1; stroke-width: 0.5px; fill: rgb(214, 137, 16); fill-opacity: 1; stroke: rgb(0, 0, 0); stroke-opacity: 1;\"/></g><g class=\"point\"><path d=\"M81.77,115.4V115.4H102.88V115.4Z\" style=\"vector-effect: non-scaling-stroke; opacity: 1; stroke-width: 0.5px; fill: rgb(214, 137, 16); fill-opacity: 1; stroke: rgb(0, 0, 0); stroke-opacity: 1;\"/></g><g class=\"point\"><path d=\"M108.15,146.72V146.72H129.25V146.72Z\" style=\"vector-effect: non-scaling-stroke; opacity: 1; stroke-width: 0.5px; fill: rgb(214, 137, 16); fill-opacity: 1; stroke: rgb(0, 0, 0); stroke-opacity: 1;\"/></g><g class=\"point\"><path d=\"M134.53,121.11V121.11H155.63V121.11Z\" style=\"vector-effect: non-scaling-stroke; opacity: 1; stroke-width: 0.5px; fill: rgb(214, 137, 16); fill-opacity: 1; stroke: rgb(0, 0, 0); stroke-opacity: 1;\"/></g></g></g><g class=\"trace bars\" style=\"opacity: 1;\"><g class=\"points\"><g class=\"point\"><path d=\"M2.64,149.61V149.1H23.74V149.61Z\" style=\"vector-effect: non-scaling-stroke; opacity: 1; stroke-width: 0.5px; fill: rgb(243, 156, 18); fill-opacity: 1; stroke: rgb(0, 0, 0); stroke-opacity: 1;\"/></g><g class=\"point\"><path d=\"M29.02,86.68V85.49H50.12V86.68Z\" style=\"vector-effect: non-scaling-stroke; opacity: 1; stroke-width: 0.5px; fill: rgb(243, 156, 18); fill-opacity: 1; stroke: rgb(0, 0, 0); stroke-opacity: 1;\"/></g><g class=\"point\"><path d=\"M55.39,63.51V62.11H76.5V63.51Z\" style=\"vector-effect: non-scaling-stroke; opacity: 1; stroke-width: 0.5px; fill: rgb(243, 156, 18); fill-opacity: 1; stroke: rgb(0, 0, 0); stroke-opacity: 1;\"/></g><g class=\"point\"><path d=\"M81.77,115.4V115.39H102.88V115.4Z\" style=\"vector-effect: non-scaling-stroke; opacity: 1; stroke-width: 0.5px; fill: rgb(243, 156, 18); fill-opacity: 1; stroke: rgb(0, 0, 0); stroke-opacity: 1;\"/></g><g class=\"point\"><path d=\"M134.53,121.11V121.11H155.63V121.11Z\" style=\"vector-effect: non-scaling-stroke; opacity: 1; stroke-width: 0.5px; fill: rgb(243, 156, 18); fill-opacity: 1; stroke: rgb(0, 0, 0); stroke-opacity: 1;\"/></g></g></g><g class=\"trace bars\" style=\"opacity: 1;\"><g class=\"points\"><g class=\"point\"><path d=\"M2.64,149.1V146.94H23.74V149.1Z\" style=\"vector-effect: non-scaling-stroke; opacity: 1; stroke-width: 0.5px; fill: rgb(245, 176, 65); fill-opacity: 1; stroke: rgb(0, 0, 0); stroke-opacity: 1;\"/></g><g class=\"point\"><path d=\"M29.02,85.49V80.26H50.12V85.49Z\" style=\"vector-effect: non-scaling-stroke; opacity: 1; stroke-width: 0.5px; fill: rgb(245, 176, 65); fill-opacity: 1; stroke: rgb(0, 0, 0); stroke-opacity: 1;\"/></g><g class=\"point\"><path d=\"M55.39,62.11V55.96H76.5V62.11Z\" style=\"vector-effect: non-scaling-stroke; opacity: 1; stroke-width: 0.5px; fill: rgb(245, 176, 65); fill-opacity: 1; stroke: rgb(0, 0, 0); stroke-opacity: 1;\"/></g><g class=\"point\"><path d=\"M81.77,115.39V115.39H102.88V115.39Z\" style=\"vector-effect: non-scaling-stroke; opacity: 1; stroke-width: 0.5px; fill: rgb(245, 176, 65); fill-opacity: 1; stroke: rgb(0, 0, 0); stroke-opacity: 1;\"/></g><g class=\"point\"><path d=\"M108.15,146.72V146.71H129.25V146.72Z\" style=\"vector-effect: non-scaling-stroke; opacity: 1; stroke-width: 0.5px; fill: rgb(245, 176, 65); fill-opacity: 1; stroke: rgb(0, 0, 0); stroke-opacity: 1;\"/></g><g class=\"point\"><path d=\"M134.53,121.11V121.07H155.63V121.11Z\" style=\"vector-effect: non-scaling-stroke; opacity: 1; stroke-width: 0.5px; fill: rgb(245, 176, 65); fill-opacity: 1; stroke: rgb(0, 0, 0); stroke-opacity: 1;\"/></g></g></g><g class=\"trace bars\" style=\"opacity: 1;\"><g class=\"points\"><g class=\"point\"><path d=\"M2.64,146.94V144.59H23.74V146.94Z\" style=\"vector-effect: non-scaling-stroke; opacity: 1; stroke-width: 0.5px; fill: rgb(248, 180, 113); fill-opacity: 1; stroke: rgb(0, 0, 0); stroke-opacity: 1;\"/></g><g class=\"point\"><path d=\"M29.02,80.26V76.06H50.12V80.26Z\" style=\"vector-effect: non-scaling-stroke; opacity: 1; stroke-width: 0.5px; fill: rgb(248, 180, 113); fill-opacity: 1; stroke: rgb(0, 0, 0); stroke-opacity: 1;\"/></g><g class=\"point\"><path d=\"M55.39,55.96V50.85H76.5V55.96Z\" style=\"vector-effect: non-scaling-stroke; opacity: 1; stroke-width: 0.5px; fill: rgb(248, 180, 113); fill-opacity: 1; stroke: rgb(0, 0, 0); stroke-opacity: 1;\"/></g><g class=\"point\"><path d=\"M81.77,115.39V115.38H102.88V115.39Z\" style=\"vector-effect: non-scaling-stroke; opacity: 1; stroke-width: 0.5px; fill: rgb(248, 180, 113); fill-opacity: 1; stroke: rgb(0, 0, 0); stroke-opacity: 1;\"/></g><g class=\"point\"><path d=\"M108.15,146.71V146.68H129.25V146.71Z\" style=\"vector-effect: non-scaling-stroke; opacity: 1; stroke-width: 0.5px; fill: rgb(248, 180, 113); fill-opacity: 1; stroke: rgb(0, 0, 0); stroke-opacity: 1;\"/></g><g class=\"point\"><path d=\"M134.53,121.07V121.05H155.63V121.07Z\" style=\"vector-effect: non-scaling-stroke; opacity: 1; stroke-width: 0.5px; fill: rgb(248, 180, 113); fill-opacity: 1; stroke: rgb(0, 0, 0); stroke-opacity: 1;\"/></g></g></g><g class=\"trace bars\" style=\"opacity: 1;\"><g class=\"points\"><g class=\"point\"><path d=\"M2.64,144.59V144.06H23.74V144.59Z\" style=\"vector-effect: non-scaling-stroke; opacity: 1; stroke-width: 0.5px; fill: rgb(246, 221, 204); fill-opacity: 1; stroke: rgb(0, 0, 0); stroke-opacity: 1;\"/></g><g class=\"point\"><path d=\"M29.02,76.06V74.79H50.12V76.06Z\" style=\"vector-effect: non-scaling-stroke; opacity: 1; stroke-width: 0.5px; fill: rgb(246, 221, 204); fill-opacity: 1; stroke: rgb(0, 0, 0); stroke-opacity: 1;\"/></g><g class=\"point\"><path d=\"M55.39,50.85V49.3H76.5V50.85Z\" style=\"vector-effect: non-scaling-stroke; opacity: 1; stroke-width: 0.5px; fill: rgb(246, 221, 204); fill-opacity: 1; stroke: rgb(0, 0, 0); stroke-opacity: 1;\"/></g><g class=\"point\"><path d=\"M81.77,115.38V115.38H102.88V115.38Z\" style=\"vector-effect: non-scaling-stroke; opacity: 1; stroke-width: 0.5px; fill: rgb(246, 221, 204); fill-opacity: 1; stroke: rgb(0, 0, 0); stroke-opacity: 1;\"/></g><g class=\"point\"><path d=\"M108.15,146.68V146.68H129.25V146.68Z\" style=\"vector-effect: non-scaling-stroke; opacity: 1; stroke-width: 0.5px; fill: rgb(246, 221, 204); fill-opacity: 1; stroke: rgb(0, 0, 0); stroke-opacity: 1;\"/></g><g class=\"point\"><path d=\"M134.53,121.05V121.05H155.63V121.05Z\" style=\"vector-effect: non-scaling-stroke; opacity: 1; stroke-width: 0.5px; fill: rgb(246, 221, 204); fill-opacity: 1; stroke: rgb(0, 0, 0); stroke-opacity: 1;\"/></g></g></g><g class=\"trace bars\" style=\"opacity: 1;\"><g class=\"points\"><g class=\"point\"><path d=\"M2.64,144.06V144.04H23.74V144.06Z\" style=\"vector-effect: non-scaling-stroke; opacity: 1; stroke-width: 0.5px; fill: rgb(250, 215, 160); fill-opacity: 1; stroke: rgb(0, 0, 0); stroke-opacity: 1;\"/></g><g class=\"point\"><path d=\"M29.02,74.79V74.73H50.12V74.79Z\" style=\"vector-effect: non-scaling-stroke; opacity: 1; stroke-width: 0.5px; fill: rgb(250, 215, 160); fill-opacity: 1; stroke: rgb(0, 0, 0); stroke-opacity: 1;\"/></g><g class=\"point\"><path d=\"M55.39,49.3V49.23H76.5V49.3Z\" style=\"vector-effect: non-scaling-stroke; opacity: 1; stroke-width: 0.5px; fill: rgb(250, 215, 160); fill-opacity: 1; stroke: rgb(0, 0, 0); stroke-opacity: 1;\"/></g><g class=\"point\"><path d=\"M134.53,121.05V121.05H155.63V121.05Z\" style=\"vector-effect: non-scaling-stroke; opacity: 1; stroke-width: 0.5px; fill: rgb(250, 215, 160); fill-opacity: 1; stroke: rgb(0, 0, 0); stroke-opacity: 1;\"/></g></g></g><g class=\"trace bars\" style=\"opacity: 1;\"><g class=\"points\"><g class=\"point\"><path d=\"M2.64,144.04V138.67H23.74V144.04Z\" style=\"vector-effect: non-scaling-stroke; opacity: 1; stroke-width: 0.5px; fill: rgb(207, 87, 161); fill-opacity: 1; stroke: rgb(0, 0, 0); stroke-opacity: 1;\"/></g><g class=\"point\"><path d=\"M29.02,74.73V68.35H50.12V74.73Z\" style=\"vector-effect: non-scaling-stroke; opacity: 1; stroke-width: 0.5px; fill: rgb(207, 87, 161); fill-opacity: 1; stroke: rgb(0, 0, 0); stroke-opacity: 1;\"/></g><g class=\"point\"><path d=\"M55.39,49.23V42.38H76.5V49.23Z\" style=\"vector-effect: non-scaling-stroke; opacity: 1; stroke-width: 0.5px; fill: rgb(207, 87, 161); fill-opacity: 1; stroke: rgb(0, 0, 0); stroke-opacity: 1;\"/></g><g class=\"point\"><path d=\"M81.77,115.38V115.36H102.88V115.38Z\" style=\"vector-effect: non-scaling-stroke; opacity: 1; stroke-width: 0.5px; fill: rgb(207, 87, 161); fill-opacity: 1; stroke: rgb(0, 0, 0); stroke-opacity: 1;\"/></g><g class=\"point\"><path d=\"M108.15,146.68V146.66H129.25V146.68Z\" style=\"vector-effect: non-scaling-stroke; opacity: 1; stroke-width: 0.5px; fill: rgb(207, 87, 161); fill-opacity: 1; stroke: rgb(0, 0, 0); stroke-opacity: 1;\"/></g><g class=\"point\"><path d=\"M134.53,121.05V121.04H155.63V121.05Z\" style=\"vector-effect: non-scaling-stroke; opacity: 1; stroke-width: 0.5px; fill: rgb(207, 87, 161); fill-opacity: 1; stroke: rgb(0, 0, 0); stroke-opacity: 1;\"/></g></g></g><g class=\"trace bars\" style=\"opacity: 1;\"><g class=\"points\"><g class=\"point\"><path d=\"M2.64,138.67V128.91H23.74V138.67Z\" style=\"vector-effect: non-scaling-stroke; opacity: 1; stroke-width: 0.5px; fill: rgb(217, 144, 188); fill-opacity: 1; stroke: rgb(0, 0, 0); stroke-opacity: 1;\"/></g><g class=\"point\"><path d=\"M29.02,68.35V55.28H50.12V68.35Z\" style=\"vector-effect: non-scaling-stroke; opacity: 1; stroke-width: 0.5px; fill: rgb(217, 144, 188); fill-opacity: 1; stroke: rgb(0, 0, 0); stroke-opacity: 1;\"/></g><g class=\"point\"><path d=\"M55.39,42.38V27.41H76.5V42.38Z\" style=\"vector-effect: non-scaling-stroke; opacity: 1; stroke-width: 0.5px; fill: rgb(217, 144, 188); fill-opacity: 1; stroke: rgb(0, 0, 0); stroke-opacity: 1;\"/></g><g class=\"point\"><path d=\"M81.77,115.36V115.33H102.88V115.36Z\" style=\"vector-effect: non-scaling-stroke; opacity: 1; stroke-width: 0.5px; fill: rgb(217, 144, 188); fill-opacity: 1; stroke: rgb(0, 0, 0); stroke-opacity: 1;\"/></g><g class=\"point\"><path d=\"M108.15,146.66V146.61H129.25V146.66Z\" style=\"vector-effect: non-scaling-stroke; opacity: 1; stroke-width: 0.5px; fill: rgb(217, 144, 188); fill-opacity: 1; stroke: rgb(0, 0, 0); stroke-opacity: 1;\"/></g><g class=\"point\"><path d=\"M134.53,121.04V121.02H155.63V121.04Z\" style=\"vector-effect: non-scaling-stroke; opacity: 1; stroke-width: 0.5px; fill: rgb(217, 144, 188); fill-opacity: 1; stroke: rgb(0, 0, 0); stroke-opacity: 1;\"/></g></g></g><g class=\"trace bars\" style=\"opacity: 1;\"><g class=\"points\"><g class=\"point\"><path d=\"M2.64,128.91V125.05H23.74V128.91Z\" style=\"vector-effect: non-scaling-stroke; opacity: 1; stroke-width: 0.5px; fill: rgb(237, 206, 228); fill-opacity: 1; stroke: rgb(0, 0, 0); stroke-opacity: 1;\"/></g><g class=\"point\"><path d=\"M29.02,55.28V50.01H50.12V55.28Z\" style=\"vector-effect: non-scaling-stroke; opacity: 1; stroke-width: 0.5px; fill: rgb(237, 206, 228); fill-opacity: 1; stroke: rgb(0, 0, 0); stroke-opacity: 1;\"/></g><g class=\"point\"><path d=\"M55.39,27.41V20.99H76.5V27.41Z\" style=\"vector-effect: non-scaling-stroke; opacity: 1; stroke-width: 0.5px; fill: rgb(237, 206, 228); fill-opacity: 1; stroke: rgb(0, 0, 0); stroke-opacity: 1;\"/></g><g class=\"point\"><path d=\"M81.77,115.33V115.31H102.88V115.33Z\" style=\"vector-effect: non-scaling-stroke; opacity: 1; stroke-width: 0.5px; fill: rgb(237, 206, 228); fill-opacity: 1; stroke: rgb(0, 0, 0); stroke-opacity: 1;\"/></g><g class=\"point\"><path d=\"M108.15,146.61V146.6H129.25V146.61Z\" style=\"vector-effect: non-scaling-stroke; opacity: 1; stroke-width: 0.5px; fill: rgb(237, 206, 228); fill-opacity: 1; stroke: rgb(0, 0, 0); stroke-opacity: 1;\"/></g><g class=\"point\"><path d=\"M134.53,121.02V120.99H155.63V121.02Z\" style=\"vector-effect: non-scaling-stroke; opacity: 1; stroke-width: 0.5px; fill: rgb(237, 206, 228); fill-opacity: 1; stroke: rgb(0, 0, 0); stroke-opacity: 1;\"/></g></g></g><g class=\"trace bars\" style=\"opacity: 1;\"><g class=\"points\"><g class=\"point\"><path d=\"M2.64,125.05V121.18H23.74V125.05Z\" style=\"vector-effect: non-scaling-stroke; opacity: 1; stroke-width: 0.5px; fill: rgb(221, 168, 200); fill-opacity: 1; stroke: rgb(0, 0, 0); stroke-opacity: 1;\"/></g><g class=\"point\"><path d=\"M29.02,50.01V43.97H50.12V50.01Z\" style=\"vector-effect: non-scaling-stroke; opacity: 1; stroke-width: 0.5px; fill: rgb(221, 168, 200); fill-opacity: 1; stroke: rgb(0, 0, 0); stroke-opacity: 1;\"/></g><g class=\"point\"><path d=\"M55.39,20.99V14.08H76.5V20.99Z\" style=\"vector-effect: non-scaling-stroke; opacity: 1; stroke-width: 0.5px; fill: rgb(221, 168, 200); fill-opacity: 1; stroke: rgb(0, 0, 0); stroke-opacity: 1;\"/></g><g class=\"point\"><path d=\"M81.77,115.31V115.29H102.88V115.31Z\" style=\"vector-effect: non-scaling-stroke; opacity: 1; stroke-width: 0.5px; fill: rgb(221, 168, 200); fill-opacity: 1; stroke: rgb(0, 0, 0); stroke-opacity: 1;\"/></g><g class=\"point\"><path d=\"M108.15,146.6V146.57H129.25V146.6Z\" style=\"vector-effect: non-scaling-stroke; opacity: 1; stroke-width: 0.5px; fill: rgb(221, 168, 200); fill-opacity: 1; stroke: rgb(0, 0, 0); stroke-opacity: 1;\"/></g><g class=\"point\"><path d=\"M134.53,120.99V120.95H155.63V120.99Z\" style=\"vector-effect: non-scaling-stroke; opacity: 1; stroke-width: 0.5px; fill: rgb(221, 168, 200); fill-opacity: 1; stroke: rgb(0, 0, 0); stroke-opacity: 1;\"/></g></g></g><g class=\"trace bars\" style=\"opacity: 1;\"><g class=\"points\"><g class=\"point\"><path d=\"M2.64,121.18V121.16H23.74V121.18Z\" style=\"vector-effect: non-scaling-stroke; opacity: 1; stroke-width: 0.5px; fill: rgb(229, 186, 216); fill-opacity: 1; stroke: rgb(0, 0, 0); stroke-opacity: 1;\"/></g><g class=\"point\"><path d=\"M29.02,43.97V43.92H50.12V43.97Z\" style=\"vector-effect: non-scaling-stroke; opacity: 1; stroke-width: 0.5px; fill: rgb(229, 186, 216); fill-opacity: 1; stroke: rgb(0, 0, 0); stroke-opacity: 1;\"/></g><g class=\"point\"><path d=\"M55.39,14.08V14.02H76.5V14.08Z\" style=\"vector-effect: non-scaling-stroke; opacity: 1; stroke-width: 0.5px; fill: rgb(229, 186, 216); fill-opacity: 1; stroke: rgb(0, 0, 0); stroke-opacity: 1;\"/></g></g></g><g class=\"trace bars\" style=\"opacity: 1;\"><g class=\"points\"><g class=\"point\"><path d=\"M2.64,121.16V121.13H23.74V121.16Z\" style=\"vector-effect: non-scaling-stroke; opacity: 1; stroke-width: 0.5px; fill: rgb(240, 98, 146); fill-opacity: 1; stroke: rgb(0, 0, 0); stroke-opacity: 1;\"/></g><g class=\"point\"><path d=\"M29.02,43.92V43.84H50.12V43.92Z\" style=\"vector-effect: non-scaling-stroke; opacity: 1; stroke-width: 0.5px; fill: rgb(240, 98, 146); fill-opacity: 1; stroke: rgb(0, 0, 0); stroke-opacity: 1;\"/></g><g class=\"point\"><path d=\"M55.39,14.02V13.91H76.5V14.02Z\" style=\"vector-effect: non-scaling-stroke; opacity: 1; stroke-width: 0.5px; fill: rgb(240, 98, 146); fill-opacity: 1; stroke: rgb(0, 0, 0); stroke-opacity: 1;\"/></g></g></g><g class=\"trace bars\" style=\"opacity: 1;\"><g class=\"points\"><g class=\"point\"><path d=\"M2.64,121.13V121.06H23.74V121.13Z\" style=\"vector-effect: non-scaling-stroke; opacity: 1; stroke-width: 0.5px; fill: rgb(244, 143, 177); fill-opacity: 1; stroke: rgb(0, 0, 0); stroke-opacity: 1;\"/></g><g class=\"point\"><path d=\"M29.02,43.84V43.75H50.12V43.84Z\" style=\"vector-effect: non-scaling-stroke; opacity: 1; stroke-width: 0.5px; fill: rgb(244, 143, 177); fill-opacity: 1; stroke: rgb(0, 0, 0); stroke-opacity: 1;\"/></g><g class=\"point\"><path d=\"M55.39,13.91V13.8H76.5V13.91Z\" style=\"vector-effect: non-scaling-stroke; opacity: 1; stroke-width: 0.5px; fill: rgb(244, 143, 177); fill-opacity: 1; stroke: rgb(0, 0, 0); stroke-opacity: 1;\"/></g><g class=\"point\"><path d=\"M81.77,115.29V115.28H102.88V115.29Z\" style=\"vector-effect: non-scaling-stroke; opacity: 1; stroke-width: 0.5px; fill: rgb(244, 143, 177); fill-opacity: 1; stroke: rgb(0, 0, 0); stroke-opacity: 1;\"/></g><g class=\"point\"><path d=\"M108.15,146.57V146.56H129.25V146.57Z\" style=\"vector-effect: non-scaling-stroke; opacity: 1; stroke-width: 0.5px; fill: rgb(244, 143, 177); fill-opacity: 1; stroke: rgb(0, 0, 0); stroke-opacity: 1;\"/></g><g class=\"point\"><path d=\"M134.53,120.95V120.94H155.63V120.95Z\" style=\"vector-effect: non-scaling-stroke; opacity: 1; stroke-width: 0.5px; fill: rgb(244, 143, 177); fill-opacity: 1; stroke: rgb(0, 0, 0); stroke-opacity: 1;\"/></g></g></g><g class=\"trace bars\" style=\"opacity: 1;\"><g class=\"points\"><g class=\"point\"><path d=\"M2.64,121.06V121.03H23.74V121.06Z\" style=\"vector-effect: non-scaling-stroke; opacity: 1; stroke-width: 0.5px; fill: rgb(248, 187, 208); fill-opacity: 1; stroke: rgb(0, 0, 0); stroke-opacity: 1;\"/></g><g class=\"point\"><path d=\"M29.02,43.75V43.69H50.12V43.75Z\" style=\"vector-effect: non-scaling-stroke; opacity: 1; stroke-width: 0.5px; fill: rgb(248, 187, 208); fill-opacity: 1; stroke: rgb(0, 0, 0); stroke-opacity: 1;\"/></g><g class=\"point\"><path d=\"M55.39,13.8V13.73H76.5V13.8Z\" style=\"vector-effect: non-scaling-stroke; opacity: 1; stroke-width: 0.5px; fill: rgb(248, 187, 208); fill-opacity: 1; stroke: rgb(0, 0, 0); stroke-opacity: 1;\"/></g></g></g><g class=\"trace bars\" style=\"opacity: 1;\"><g class=\"points\"><g class=\"point\"><path d=\"M2.64,121.03V121.01H23.74V121.03Z\" style=\"vector-effect: non-scaling-stroke; opacity: 1; stroke-width: 0.5px; fill: rgb(252, 200, 215); fill-opacity: 1; stroke: rgb(0, 0, 0); stroke-opacity: 1;\"/></g><g class=\"point\"><path d=\"M29.02,43.69V43.59H50.12V43.69Z\" style=\"vector-effect: non-scaling-stroke; opacity: 1; stroke-width: 0.5px; fill: rgb(252, 200, 215); fill-opacity: 1; stroke: rgb(0, 0, 0); stroke-opacity: 1;\"/></g><g class=\"point\"><path d=\"M55.39,13.73V13.64H76.5V13.73Z\" style=\"vector-effect: non-scaling-stroke; opacity: 1; stroke-width: 0.5px; fill: rgb(252, 200, 215); fill-opacity: 1; stroke: rgb(0, 0, 0); stroke-opacity: 1;\"/></g><g class=\"point\"><path d=\"M108.15,146.56V146.56H129.25V146.56Z\" style=\"vector-effect: non-scaling-stroke; opacity: 1; stroke-width: 0.5px; fill: rgb(252, 200, 215); fill-opacity: 1; stroke: rgb(0, 0, 0); stroke-opacity: 1;\"/></g></g></g><g class=\"trace bars\" style=\"opacity: 1;\"><g class=\"points\"><g class=\"point\"><path d=\"M2.64,121.01V121H23.74V121.01Z\" style=\"vector-effect: non-scaling-stroke; opacity: 1; stroke-width: 0.5px; fill: rgb(252, 228, 236); fill-opacity: 1; stroke: rgb(0, 0, 0); stroke-opacity: 1;\"/></g><g class=\"point\"><path d=\"M29.02,43.59V43.57H50.12V43.59Z\" style=\"vector-effect: non-scaling-stroke; opacity: 1; stroke-width: 0.5px; fill: rgb(252, 228, 236); fill-opacity: 1; stroke: rgb(0, 0, 0); stroke-opacity: 1;\"/></g><g class=\"point\"><path d=\"M55.39,13.64V13.62H76.5V13.64Z\" style=\"vector-effect: non-scaling-stroke; opacity: 1; stroke-width: 0.5px; fill: rgb(252, 228, 236); fill-opacity: 1; stroke: rgb(0, 0, 0); stroke-opacity: 1;\"/></g><g class=\"point\"><path d=\"M81.77,115.28V115.28H102.88V115.28Z\" style=\"vector-effect: non-scaling-stroke; opacity: 1; stroke-width: 0.5px; fill: rgb(252, 228, 236); fill-opacity: 1; stroke: rgb(0, 0, 0); stroke-opacity: 1;\"/></g></g></g><g class=\"trace bars\" style=\"opacity: 1;\"><g class=\"points\"><g class=\"point\"><path d=\"M2.64,121V119.96H23.74V121Z\" style=\"vector-effect: non-scaling-stroke; opacity: 1; stroke-width: 0.5px; fill: rgb(96, 22, 135); fill-opacity: 1; stroke: rgb(0, 0, 0); stroke-opacity: 1;\"/></g><g class=\"point\"><path d=\"M29.02,43.57V43.45H50.12V43.57Z\" style=\"vector-effect: non-scaling-stroke; opacity: 1; stroke-width: 0.5px; fill: rgb(96, 22, 135); fill-opacity: 1; stroke: rgb(0, 0, 0); stroke-opacity: 1;\"/></g><g class=\"point\"><path d=\"M55.39,13.62V13.56H76.5V13.62Z\" style=\"vector-effect: non-scaling-stroke; opacity: 1; stroke-width: 0.5px; fill: rgb(96, 22, 135); fill-opacity: 1; stroke: rgb(0, 0, 0); stroke-opacity: 1;\"/></g><g class=\"point\"><path d=\"M81.77,115.28V114.82H102.88V115.28Z\" style=\"vector-effect: non-scaling-stroke; opacity: 1; stroke-width: 0.5px; fill: rgb(96, 22, 135); fill-opacity: 1; stroke: rgb(0, 0, 0); stroke-opacity: 1;\"/></g><g class=\"point\"><path d=\"M108.15,146.56V146.42H129.25V146.56Z\" style=\"vector-effect: non-scaling-stroke; opacity: 1; stroke-width: 0.5px; fill: rgb(96, 22, 135); fill-opacity: 1; stroke: rgb(0, 0, 0); stroke-opacity: 1;\"/></g><g class=\"point\"><path d=\"M134.53,120.94V120.89H155.63V120.94Z\" style=\"vector-effect: non-scaling-stroke; opacity: 1; stroke-width: 0.5px; fill: rgb(96, 22, 135); fill-opacity: 1; stroke: rgb(0, 0, 0); stroke-opacity: 1;\"/></g></g></g><g class=\"trace bars\" style=\"opacity: 1;\"><g class=\"points\"><g class=\"point\"><path d=\"M2.64,119.96V119.95H23.74V119.96Z\" style=\"vector-effect: non-scaling-stroke; opacity: 1; stroke-width: 0.5px; fill: rgb(141, 74, 176); fill-opacity: 1; stroke: rgb(0, 0, 0); stroke-opacity: 1;\"/></g><g class=\"point\"><path d=\"M29.02,43.45V43.45H50.12V43.45Z\" style=\"vector-effect: non-scaling-stroke; opacity: 1; stroke-width: 0.5px; fill: rgb(141, 74, 176); fill-opacity: 1; stroke: rgb(0, 0, 0); stroke-opacity: 1;\"/></g><g class=\"point\"><path d=\"M55.39,13.56V13.55H76.5V13.56Z\" style=\"vector-effect: non-scaling-stroke; opacity: 1; stroke-width: 0.5px; fill: rgb(141, 74, 176); fill-opacity: 1; stroke: rgb(0, 0, 0); stroke-opacity: 1;\"/></g><g class=\"point\"><path d=\"M108.15,146.42V146.41H129.25V146.42Z\" style=\"vector-effect: non-scaling-stroke; opacity: 1; stroke-width: 0.5px; fill: rgb(141, 74, 176); fill-opacity: 1; stroke: rgb(0, 0, 0); stroke-opacity: 1;\"/></g><g class=\"point\"><path d=\"M134.53,120.89V120.89H155.63V120.89Z\" style=\"vector-effect: non-scaling-stroke; opacity: 1; stroke-width: 0.5px; fill: rgb(141, 74, 176); fill-opacity: 1; stroke: rgb(0, 0, 0); stroke-opacity: 1;\"/></g></g></g><g class=\"trace bars\" style=\"opacity: 1;\"><g class=\"points\"><g class=\"point\"><path d=\"M2.64,119.95V119.95H23.74V119.95Z\" style=\"vector-effect: non-scaling-stroke; opacity: 1; stroke-width: 0.5px; fill: rgb(170, 89, 212); fill-opacity: 1; stroke: rgb(0, 0, 0); stroke-opacity: 1;\"/></g><g class=\"point\"><path d=\"M29.02,43.45V43.45H50.12V43.45Z\" style=\"vector-effect: non-scaling-stroke; opacity: 1; stroke-width: 0.5px; fill: rgb(170, 89, 212); fill-opacity: 1; stroke: rgb(0, 0, 0); stroke-opacity: 1;\"/></g><g class=\"point\"><path d=\"M55.39,13.55V13.55H76.5V13.55Z\" style=\"vector-effect: non-scaling-stroke; opacity: 1; stroke-width: 0.5px; fill: rgb(170, 89, 212); fill-opacity: 1; stroke: rgb(0, 0, 0); stroke-opacity: 1;\"/></g><g class=\"point\"><path d=\"M81.77,114.82V114.82H102.88V114.82Z\" style=\"vector-effect: non-scaling-stroke; opacity: 1; stroke-width: 0.5px; fill: rgb(170, 89, 212); fill-opacity: 1; stroke: rgb(0, 0, 0); stroke-opacity: 1;\"/></g><g class=\"point\"><path d=\"M108.15,146.41V146.41H129.25V146.41Z\" style=\"vector-effect: non-scaling-stroke; opacity: 1; stroke-width: 0.5px; fill: rgb(170, 89, 212); fill-opacity: 1; stroke: rgb(0, 0, 0); stroke-opacity: 1;\"/></g></g></g><g class=\"trace bars\" style=\"opacity: 1;\"><g class=\"points\"><g class=\"point\"><path d=\"M2.64,119.95V119.94H23.74V119.95Z\" style=\"vector-effect: non-scaling-stroke; opacity: 1; stroke-width: 0.5px; fill: rgb(204, 108, 255); fill-opacity: 1; stroke: rgb(0, 0, 0); stroke-opacity: 1;\"/></g><g class=\"point\"><path d=\"M29.02,43.45V43.44H50.12V43.45Z\" style=\"vector-effect: non-scaling-stroke; opacity: 1; stroke-width: 0.5px; fill: rgb(204, 108, 255); fill-opacity: 1; stroke: rgb(0, 0, 0); stroke-opacity: 1;\"/></g><g class=\"point\"><path d=\"M55.39,13.55V13.55H76.5V13.55Z\" style=\"vector-effect: non-scaling-stroke; opacity: 1; stroke-width: 0.5px; fill: rgb(204, 108, 255); fill-opacity: 1; stroke: rgb(0, 0, 0); stroke-opacity: 1;\"/></g><g class=\"point\"><path d=\"M81.77,114.82V114.82H102.88V114.82Z\" style=\"vector-effect: non-scaling-stroke; opacity: 1; stroke-width: 0.5px; fill: rgb(204, 108, 255); fill-opacity: 1; stroke: rgb(0, 0, 0); stroke-opacity: 1;\"/></g><g class=\"point\"><path d=\"M108.15,146.41V146.41H129.25V146.41Z\" style=\"vector-effect: non-scaling-stroke; opacity: 1; stroke-width: 0.5px; fill: rgb(204, 108, 255); fill-opacity: 1; stroke: rgb(0, 0, 0); stroke-opacity: 1;\"/></g><g class=\"point\"><path d=\"M134.53,120.89V120.89H155.63V120.89Z\" style=\"vector-effect: non-scaling-stroke; opacity: 1; stroke-width: 0.5px; fill: rgb(204, 108, 255); fill-opacity: 1; stroke: rgb(0, 0, 0); stroke-opacity: 1;\"/></g></g></g><g class=\"trace bars\" style=\"opacity: 1;\"><g class=\"points\"><g class=\"point\"><path d=\"M2.64,119.94V119.93H23.74V119.94Z\" style=\"vector-effect: non-scaling-stroke; opacity: 1; stroke-width: 0.5px; fill: rgb(128, 128, 128); fill-opacity: 1; stroke: rgb(0, 0, 0); stroke-opacity: 1;\"/></g><g class=\"point\"><path d=\"M29.02,43.44V43.44H50.12V43.44Z\" style=\"vector-effect: non-scaling-stroke; opacity: 1; stroke-width: 0.5px; fill: rgb(128, 128, 128); fill-opacity: 1; stroke: rgb(0, 0, 0); stroke-opacity: 1;\"/></g><g class=\"point\"><path d=\"M55.39,13.55V13.54H76.5V13.55Z\" style=\"vector-effect: non-scaling-stroke; opacity: 1; stroke-width: 0.5px; fill: rgb(128, 128, 128); fill-opacity: 1; stroke: rgb(0, 0, 0); stroke-opacity: 1;\"/></g></g></g><g class=\"trace bars\" style=\"opacity: 1;\"><g class=\"points\"><g class=\"point\"><path d=\"M2.64,119.93V117.57H23.74V119.93Z\" style=\"vector-effect: non-scaling-stroke; opacity: 1; stroke-width: 0.5px; fill: rgb(168, 30, 45); fill-opacity: 1; stroke: rgb(0, 0, 0); stroke-opacity: 1;\"/></g><g class=\"point\"><path d=\"M29.02,43.44V42.33H50.12V43.44Z\" style=\"vector-effect: non-scaling-stroke; opacity: 1; stroke-width: 0.5px; fill: rgb(168, 30, 45); fill-opacity: 1; stroke: rgb(0, 0, 0); stroke-opacity: 1;\"/></g><g class=\"point\"><path d=\"M55.39,13.54V12.69H76.5V13.54Z\" style=\"vector-effect: non-scaling-stroke; opacity: 1; stroke-width: 0.5px; fill: rgb(168, 30, 45); fill-opacity: 1; stroke: rgb(0, 0, 0); stroke-opacity: 1;\"/></g><g class=\"point\"><path d=\"M81.77,114.82V114.61H102.88V114.82Z\" style=\"vector-effect: non-scaling-stroke; opacity: 1; stroke-width: 0.5px; fill: rgb(168, 30, 45); fill-opacity: 1; stroke: rgb(0, 0, 0); stroke-opacity: 1;\"/></g><g class=\"point\"><path d=\"M108.15,146.41V146.23H129.25V146.41Z\" style=\"vector-effect: non-scaling-stroke; opacity: 1; stroke-width: 0.5px; fill: rgb(168, 30, 45); fill-opacity: 1; stroke: rgb(0, 0, 0); stroke-opacity: 1;\"/></g><g class=\"point\"><path d=\"M134.53,120.89V120.74H155.63V120.89Z\" style=\"vector-effect: non-scaling-stroke; opacity: 1; stroke-width: 0.5px; fill: rgb(168, 30, 45); fill-opacity: 1; stroke: rgb(0, 0, 0); stroke-opacity: 1;\"/></g></g></g><g class=\"trace bars\" style=\"opacity: 1;\"><g class=\"points\"><g class=\"point\"><path d=\"M2.64,117.57V116.36H23.74V117.57Z\" style=\"vector-effect: non-scaling-stroke; opacity: 1; stroke-width: 0.5px; fill: rgb(192, 98, 106); fill-opacity: 1; stroke: rgb(0, 0, 0); stroke-opacity: 1;\"/></g><g class=\"point\"><path d=\"M29.02,42.33V41.48H50.12V42.33Z\" style=\"vector-effect: non-scaling-stroke; opacity: 1; stroke-width: 0.5px; fill: rgb(192, 98, 106); fill-opacity: 1; stroke: rgb(0, 0, 0); stroke-opacity: 1;\"/></g><g class=\"point\"><path d=\"M55.39,12.69V12.01H76.5V12.69Z\" style=\"vector-effect: non-scaling-stroke; opacity: 1; stroke-width: 0.5px; fill: rgb(192, 98, 106); fill-opacity: 1; stroke: rgb(0, 0, 0); stroke-opacity: 1;\"/></g><g class=\"point\"><path d=\"M81.77,114.61V114.53H102.88V114.61Z\" style=\"vector-effect: non-scaling-stroke; opacity: 1; stroke-width: 0.5px; fill: rgb(192, 98, 106); fill-opacity: 1; stroke: rgb(0, 0, 0); stroke-opacity: 1;\"/></g><g class=\"point\"><path d=\"M108.15,146.23V146.13H129.25V146.23Z\" style=\"vector-effect: non-scaling-stroke; opacity: 1; stroke-width: 0.5px; fill: rgb(192, 98, 106); fill-opacity: 1; stroke: rgb(0, 0, 0); stroke-opacity: 1;\"/></g><g class=\"point\"><path d=\"M134.53,120.74V120.69H155.63V120.74Z\" style=\"vector-effect: non-scaling-stroke; opacity: 1; stroke-width: 0.5px; fill: rgb(192, 98, 106); fill-opacity: 1; stroke: rgb(0, 0, 0); stroke-opacity: 1;\"/></g></g></g><g class=\"trace bars\" style=\"opacity: 1;\"><g class=\"points\"><g class=\"point\"><path d=\"M2.64,116.36V116H23.74V116.36Z\" style=\"vector-effect: non-scaling-stroke; opacity: 1; stroke-width: 0.5px; fill: rgb(177, 153, 109); fill-opacity: 1; stroke: rgb(0, 0, 0); stroke-opacity: 1;\"/></g><g class=\"point\"><path d=\"M29.02,41.48V40.98H50.12V41.48Z\" style=\"vector-effect: non-scaling-stroke; opacity: 1; stroke-width: 0.5px; fill: rgb(177, 153, 109); fill-opacity: 1; stroke: rgb(0, 0, 0); stroke-opacity: 1;\"/></g><g class=\"point\"><path d=\"M55.39,12.01V11.58H76.5V12.01Z\" style=\"vector-effect: non-scaling-stroke; opacity: 1; stroke-width: 0.5px; fill: rgb(177, 153, 109); fill-opacity: 1; stroke: rgb(0, 0, 0); stroke-opacity: 1;\"/></g><g class=\"point\"><path d=\"M81.77,114.53V114.53H102.88V114.53Z\" style=\"vector-effect: non-scaling-stroke; opacity: 1; stroke-width: 0.5px; fill: rgb(177, 153, 109); fill-opacity: 1; stroke: rgb(0, 0, 0); stroke-opacity: 1;\"/></g><g class=\"point\"><path d=\"M108.15,146.13V146.13H129.25V146.13Z\" style=\"vector-effect: non-scaling-stroke; opacity: 1; stroke-width: 0.5px; fill: rgb(177, 153, 109); fill-opacity: 1; stroke: rgb(0, 0, 0); stroke-opacity: 1;\"/></g><g class=\"point\"><path d=\"M134.53,120.69V120.68H155.63V120.69Z\" style=\"vector-effect: non-scaling-stroke; opacity: 1; stroke-width: 0.5px; fill: rgb(177, 153, 109); fill-opacity: 1; stroke: rgb(0, 0, 0); stroke-opacity: 1;\"/></g></g></g><g class=\"trace bars\" style=\"opacity: 1;\"><g class=\"points\"><g class=\"point\"><path d=\"M2.64,116V114.75H23.74V116Z\" style=\"vector-effect: non-scaling-stroke; opacity: 1; stroke-width: 0.5px; fill: rgb(157, 138, 109); fill-opacity: 1; stroke: rgb(0, 0, 0); stroke-opacity: 1;\"/></g><g class=\"point\"><path d=\"M29.02,40.98V40.01H50.12V40.98Z\" style=\"vector-effect: non-scaling-stroke; opacity: 1; stroke-width: 0.5px; fill: rgb(157, 138, 109); fill-opacity: 1; stroke: rgb(0, 0, 0); stroke-opacity: 1;\"/></g><g class=\"point\"><path d=\"M55.39,11.58V10.65H76.5V11.58Z\" style=\"vector-effect: non-scaling-stroke; opacity: 1; stroke-width: 0.5px; fill: rgb(157, 138, 109); fill-opacity: 1; stroke: rgb(0, 0, 0); stroke-opacity: 1;\"/></g><g class=\"point\"><path d=\"M81.77,114.53V114.47H102.88V114.53Z\" style=\"vector-effect: non-scaling-stroke; opacity: 1; stroke-width: 0.5px; fill: rgb(157, 138, 109); fill-opacity: 1; stroke: rgb(0, 0, 0); stroke-opacity: 1;\"/></g><g class=\"point\"><path d=\"M108.15,146.13V146.07H129.25V146.13Z\" style=\"vector-effect: non-scaling-stroke; opacity: 1; stroke-width: 0.5px; fill: rgb(157, 138, 109); fill-opacity: 1; stroke: rgb(0, 0, 0); stroke-opacity: 1;\"/></g><g class=\"point\"><path d=\"M134.53,120.68V120.65H155.63V120.68Z\" style=\"vector-effect: non-scaling-stroke; opacity: 1; stroke-width: 0.5px; fill: rgb(157, 138, 109); fill-opacity: 1; stroke: rgb(0, 0, 0); stroke-opacity: 1;\"/></g></g></g></g></g><g class=\"overplot\"/><path class=\"xlines-above crisp\" d=\"M243.73,273.5H403\" style=\"fill: none; stroke-width: 1px; stroke: rgb(36, 36, 36); stroke-opacity: 1;\"/><path class=\"ylines-above crisp\" d=\"M244.23,60V273\" style=\"fill: none; stroke-width: 1px; stroke: rgb(36, 36, 36); stroke-opacity: 1;\"/><g class=\"overlines-above\"/><g class=\"xaxislayer-above\"><path class=\"x2tick ticks crisp\" d=\"M0,274v5\" transform=\"translate(257.92,0)\" style=\"stroke: rgb(68, 68, 68); stroke-opacity: 1; stroke-width: 1px;\"/><path class=\"x2tick ticks crisp\" d=\"M0,274v5\" transform=\"translate(284.3,0)\" style=\"stroke: rgb(68, 68, 68); stroke-opacity: 1; stroke-width: 1px;\"/><path class=\"x2tick ticks crisp\" d=\"M0,274v5\" transform=\"translate(310.68,0)\" style=\"stroke: rgb(68, 68, 68); stroke-opacity: 1; stroke-width: 1px;\"/><path class=\"x2tick ticks crisp\" d=\"M0,274v5\" transform=\"translate(337.04999999999995,0)\" style=\"stroke: rgb(68, 68, 68); stroke-opacity: 1; stroke-width: 1px;\"/><path class=\"x2tick ticks crisp\" d=\"M0,274v5\" transform=\"translate(363.43,0)\" style=\"stroke: rgb(68, 68, 68); stroke-opacity: 1; stroke-width: 1px;\"/><path class=\"x2tick ticks crisp\" d=\"M0,274v5\" transform=\"translate(389.81,0)\" style=\"stroke: rgb(68, 68, 68); stroke-opacity: 1; stroke-width: 1px;\"/><g class=\"x2tick\"><text text-anchor=\"start\" x=\"0\" y=\"293.4\" transform=\"translate(257.92,0) rotate(90,0,287.4)\" style=\"font-family: 'Open Sans', verdana, arial, sans-serif; font-size: 12px; fill: rgb(36, 36, 36); fill-opacity: 1; white-space: pre; opacity: 1;\">RT-FS_0mM</text></g><g class=\"x2tick\"><text text-anchor=\"start\" x=\"0\" y=\"293.4\" transform=\"translate(284.3,0) rotate(90,0,287.4)\" style=\"font-family: 'Open Sans', verdana, arial, sans-serif; font-size: 12px; fill: rgb(36, 36, 36); fill-opacity: 1; white-space: pre; opacity: 1;\">RT-FS_57mM</text></g><g class=\"x2tick\"><text text-anchor=\"start\" x=\"0\" y=\"293.4\" transform=\"translate(310.68,0) rotate(90,0,287.4)\" style=\"font-family: 'Open Sans', verdana, arial, sans-serif; font-size: 12px; fill: rgb(36, 36, 36); fill-opacity: 1; white-space: pre; opacity: 1;\">RT-FS_85mM</text></g><g class=\"x2tick\"><text text-anchor=\"start\" x=\"0\" y=\"293.4\" transform=\"translate(337.04999999999995,0) rotate(90,0,287.4)\" style=\"font-family: 'Open Sans', verdana, arial, sans-serif; font-size: 12px; fill: rgb(36, 36, 36); fill-opacity: 1; white-space: pre; opacity: 1;\">RT-US_0mM</text></g><g class=\"x2tick\"><text text-anchor=\"start\" x=\"0\" y=\"293.4\" transform=\"translate(363.43,0) rotate(90,0,287.4)\" style=\"font-family: 'Open Sans', verdana, arial, sans-serif; font-size: 12px; fill: rgb(36, 36, 36); fill-opacity: 1; white-space: pre; opacity: 1;\">RT-US_57mM</text></g><g class=\"x2tick\"><text text-anchor=\"start\" x=\"0\" y=\"293.4\" transform=\"translate(389.81,0) rotate(90,0,287.4)\" style=\"font-family: 'Open Sans', verdana, arial, sans-serif; font-size: 12px; fill: rgb(36, 36, 36); fill-opacity: 1; white-space: pre; opacity: 1;\">RT-US_85mM</text></g></g><g class=\"yaxislayer-above\"><path class=\"y2tick ticks crisp\" d=\"M243.73,0h-5\" transform=\"translate(0,273)\" style=\"stroke: rgb(68, 68, 68); stroke-opacity: 1; stroke-width: 1px;\"/><path class=\"y2tick ticks crisp\" d=\"M243.73,0h-5\" transform=\"translate(0,220.53)\" style=\"stroke: rgb(68, 68, 68); stroke-opacity: 1; stroke-width: 1px;\"/><path class=\"y2tick ticks crisp\" d=\"M243.73,0h-5\" transform=\"translate(0,168.05)\" style=\"stroke: rgb(68, 68, 68); stroke-opacity: 1; stroke-width: 1px;\"/><path class=\"y2tick ticks crisp\" d=\"M243.73,0h-5\" transform=\"translate(0,115.58)\" style=\"stroke: rgb(68, 68, 68); stroke-opacity: 1; stroke-width: 1px;\"/><path class=\"y2tick ticks crisp\" d=\"M243.73,0h-5\" transform=\"translate(0,63.11)\" style=\"stroke: rgb(68, 68, 68); stroke-opacity: 1; stroke-width: 1px;\"/></g><g class=\"overaxes-above\"/></g></g><g class=\"polarlayer\"/><g class=\"smithlayer\"/><g class=\"ternarylayer\"/><g class=\"geolayer\"/><g class=\"funnelarealayer\"/><g class=\"pielayer\"/><g class=\"iciclelayer\"/><g class=\"treemaplayer\"/><g class=\"sunburstlayer\"/><g class=\"glimages\"/><defs id=\"topdefs-6b7065\"><g class=\"clips\"/><clipPath id=\"legend6b7065\"><rect width=\"179\" height=\"213\" x=\"0\" y=\"0\"/></clipPath></defs><g class=\"layer-above\"><g class=\"imagelayer\"/><g class=\"shapelayer\"/></g><g class=\"infolayer\"><g class=\"legend\" pointer-events=\"all\" transform=\"translate(409.46,60)\"><rect class=\"bg\" shape-rendering=\"crispEdges\" width=\"179\" height=\"213\" x=\"0\" y=\"0\" style=\"stroke: rgb(68, 68, 68); stroke-opacity: 1; fill: rgb(255, 255, 255); fill-opacity: 1; stroke-width: 0px;\"/><g class=\"scrollbox\" transform=\"\" clip-path=\"url(#legend6b7065)\"><text class=\"legendtitletext\" text-anchor=\"start\" x=\"2\" y=\"18.2\" style=\"font-family: 'Open Sans', verdana, arial, sans-serif; font-size: 14px; fill: rgb(36, 36, 36); fill-opacity: 1; white-space: pre;\">isoform_id</text><g class=\"groups\" transform=\"\"><g class=\"traces\" transform=\"translate(0,32.7)\" style=\"opacity: 1;\"><text class=\"legendtext\" text-anchor=\"start\" x=\"40\" y=\"4.680000000000001\" style=\"font-family: 'Open Sans', verdana, arial, sans-serif; font-size: 12px; fill: rgb(36, 36, 36); fill-opacity: 1; white-space: pre;\">RT1_unspliced1</text><g class=\"layers\" style=\"opacity: 1;\"><g class=\"legendfill\"/><g class=\"legendlines\"/><g class=\"legendsymbols\"><g class=\"legendpoints\"><path class=\"legendundefined\" d=\"M6,6H-6V-6H6Z\" transform=\"translate(20,0)\" style=\"stroke-width: 0.5px; fill: rgb(0, 0, 0); fill-opacity: 1; stroke: rgb(0, 0, 0); stroke-opacity: 1;\"/></g></g></g><rect class=\"legendtoggle\" x=\"0\" y=\"-9.5\" width=\"173.96875\" height=\"19\" style=\"fill: rgb(0, 0, 0); fill-opacity: 0;\"/></g></g><g class=\"groups\" transform=\"\"><g class=\"traces\" transform=\"translate(0,51.7)\" style=\"opacity: 1;\"><text class=\"legendtext\" text-anchor=\"start\" x=\"40\" y=\"4.680000000000001\" style=\"font-family: 'Open Sans', verdana, arial, sans-serif; font-size: 12px; fill: rgb(36, 36, 36); fill-opacity: 1; white-space: pre;\">RT2_unspliced2</text><g class=\"layers\" style=\"opacity: 1;\"><g class=\"legendfill\"/><g class=\"legendlines\"/><g class=\"legendsymbols\"><g class=\"legendpoints\"><path class=\"legendundefined\" d=\"M6,6H-6V-6H6Z\" transform=\"translate(20,0)\" style=\"stroke-width: 0.5px; fill: rgb(0, 0, 0); fill-opacity: 1; stroke: rgb(0, 0, 0); stroke-opacity: 1;\"/></g></g></g><rect class=\"legendtoggle\" x=\"0\" y=\"-9.5\" width=\"173.96875\" height=\"19\" style=\"fill: rgb(0, 0, 0); fill-opacity: 0;\"/></g></g><g class=\"groups\" transform=\"\"><g class=\"traces\" transform=\"translate(0,70.7)\" style=\"opacity: 1;\"><text class=\"legendtext\" text-anchor=\"start\" x=\"40\" y=\"4.680000000000001\" style=\"font-family: 'Open Sans', verdana, arial, sans-serif; font-size: 12px; fill: rgb(36, 36, 36); fill-opacity: 1; white-space: pre;\">RT2_Env1_RT3_Nef2</text><g class=\"layers\" style=\"opacity: 1;\"><g class=\"legendfill\"/><g class=\"legendlines\"/><g class=\"legendsymbols\"><g class=\"legendpoints\"><path class=\"legendundefined\" d=\"M6,6H-6V-6H6Z\" transform=\"translate(20,0)\" style=\"stroke-width: 0.5px; fill: rgb(17, 120, 100); fill-opacity: 1; stroke: rgb(0, 0, 0); stroke-opacity: 1;\"/></g></g></g><rect class=\"legendtoggle\" x=\"0\" y=\"-9.5\" width=\"173.96875\" height=\"19\" style=\"fill: rgb(0, 0, 0); fill-opacity: 0;\"/></g></g><g class=\"groups\" transform=\"\"><g class=\"traces\" transform=\"translate(0,89.7)\" style=\"opacity: 1;\"><text class=\"legendtext\" text-anchor=\"start\" x=\"40\" y=\"4.680000000000001\" style=\"font-family: 'Open Sans', verdana, arial, sans-serif; font-size: 12px; fill: rgb(36, 36, 36); fill-opacity: 1; white-space: pre;\">RT2_Env5_RT3_Nef3</text><g class=\"layers\" style=\"opacity: 1;\"><g class=\"legendfill\"/><g class=\"legendlines\"/><g class=\"legendsymbols\"><g class=\"legendpoints\"><path class=\"legendundefined\" d=\"M6,6H-6V-6H6Z\" transform=\"translate(20,0)\" style=\"stroke-width: 0.5px; fill: rgb(20, 143, 119); fill-opacity: 1; stroke: rgb(0, 0, 0); stroke-opacity: 1;\"/></g></g></g><rect class=\"legendtoggle\" x=\"0\" y=\"-9.5\" width=\"173.96875\" height=\"19\" style=\"fill: rgb(0, 0, 0); fill-opacity: 0;\"/></g></g><g class=\"groups\" transform=\"\"><g class=\"traces\" transform=\"translate(0,108.7)\" style=\"opacity: 1;\"><text class=\"legendtext\" text-anchor=\"start\" x=\"40\" y=\"4.680000000000001\" style=\"font-family: 'Open Sans', verdana, arial, sans-serif; font-size: 12px; fill: rgb(36, 36, 36); fill-opacity: 1; white-space: pre;\">RT2_Env9_RT3_Nef4</text><g class=\"layers\" style=\"opacity: 1;\"><g class=\"legendfill\"/><g class=\"legendlines\"/><g class=\"legendsymbols\"><g class=\"legendpoints\"><path class=\"legendundefined\" d=\"M6,6H-6V-6H6Z\" transform=\"translate(20,0)\" style=\"stroke-width: 0.5px; fill: rgb(23, 165, 137); fill-opacity: 1; stroke: rgb(0, 0, 0); stroke-opacity: 1;\"/></g></g></g><rect class=\"legendtoggle\" x=\"0\" y=\"-9.5\" width=\"173.96875\" height=\"19\" style=\"fill: rgb(0, 0, 0); fill-opacity: 0;\"/></g></g><g class=\"groups\" transform=\"\"><g class=\"traces\" transform=\"translate(0,127.7)\" style=\"opacity: 1;\"><text class=\"legendtext\" text-anchor=\"start\" x=\"40\" y=\"4.680000000000001\" style=\"font-family: 'Open Sans', verdana, arial, sans-serif; font-size: 12px; fill: rgb(36, 36, 36); fill-opacity: 1; white-space: pre;\">RT2_Env13_RT3_Nef5</text><g class=\"layers\" style=\"opacity: 1;\"><g class=\"legendfill\"/><g class=\"legendlines\"/><g class=\"legendsymbols\"><g class=\"legendpoints\"><path class=\"legendundefined\" d=\"M6,6H-6V-6H6Z\" transform=\"translate(20,0)\" style=\"stroke-width: 0.5px; fill: rgb(26, 188, 156); fill-opacity: 1; stroke: rgb(0, 0, 0); stroke-opacity: 1;\"/></g></g></g><rect class=\"legendtoggle\" x=\"0\" y=\"-9.5\" width=\"173.96875\" height=\"19\" style=\"fill: rgb(0, 0, 0); fill-opacity: 0;\"/></g></g><g class=\"groups\" transform=\"\"><g class=\"traces\" transform=\"translate(0,146.7)\" style=\"opacity: 1;\"><text class=\"legendtext\" text-anchor=\"start\" x=\"40\" y=\"4.680000000000001\" style=\"font-family: 'Open Sans', verdana, arial, sans-serif; font-size: 12px; fill: rgb(36, 36, 36); fill-opacity: 1; white-space: pre;\">RT2_Env17_RT3_Nef9</text><g class=\"layers\" style=\"opacity: 1;\"><g class=\"legendfill\"/><g class=\"legendlines\"/><g class=\"legendsymbols\"><g class=\"legendpoints\"><path class=\"legendundefined\" d=\"M6,6H-6V-6H6Z\" transform=\"translate(20,0)\" style=\"stroke-width: 0.5px; fill: rgb(72, 201, 176); fill-opacity: 1; stroke: rgb(0, 0, 0); stroke-opacity: 1;\"/></g></g></g><rect class=\"legendtoggle\" x=\"0\" y=\"-9.5\" width=\"173.96875\" height=\"19\" style=\"fill: rgb(0, 0, 0); fill-opacity: 0;\"/></g></g><g class=\"groups\" transform=\"\"><g class=\"traces\" transform=\"translate(0,165.7)\" style=\"opacity: 1;\"><text class=\"legendtext\" text-anchor=\"start\" x=\"40\" y=\"4.680000000000001\" style=\"font-family: 'Open Sans', verdana, arial, sans-serif; font-size: 12px; fill: rgb(36, 36, 36); fill-opacity: 1; white-space: pre;\">RT2_Env20_RT3_Nef11</text><g class=\"layers\" style=\"opacity: 1;\"><g class=\"legendfill\"/><g class=\"legendlines\"/><g class=\"legendsymbols\"><g class=\"legendpoints\"><path class=\"legendundefined\" d=\"M6,6H-6V-6H6Z\" transform=\"translate(20,0)\" style=\"stroke-width: 0.5px; fill: rgb(118, 215, 196); fill-opacity: 1; stroke: rgb(0, 0, 0); stroke-opacity: 1;\"/></g></g></g><rect class=\"legendtoggle\" x=\"0\" y=\"-9.5\" width=\"173.96875\" height=\"19\" style=\"fill: rgb(0, 0, 0); fill-opacity: 0;\"/></g></g><g class=\"groups\" transform=\"\"><g class=\"traces\" transform=\"translate(0,184.7)\" style=\"opacity: 1;\"><text class=\"legendtext\" text-anchor=\"start\" x=\"40\" y=\"4.680000000000001\" style=\"font-family: 'Open Sans', verdana, arial, sans-serif; font-size: 12px; fill: rgb(36, 36, 36); fill-opacity: 1; white-space: pre;\">RT2_Env19_RT3_Nef12</text><g class=\"layers\" style=\"opacity: 1;\"><g class=\"legendfill\"/><g class=\"legendlines\"/><g class=\"legendsymbols\"><g class=\"legendpoints\"><path class=\"legendundefined\" d=\"M6,6H-6V-6H6Z\" transform=\"translate(20,0)\" style=\"stroke-width: 0.5px; fill: rgb(163, 228, 215); fill-opacity: 1; stroke: rgb(0, 0, 0); stroke-opacity: 1;\"/></g></g></g><rect class=\"legendtoggle\" x=\"0\" y=\"-9.5\" width=\"173.96875\" height=\"19\" style=\"fill: rgb(0, 0, 0); fill-opacity: 0;\"/></g></g><g class=\"groups\" transform=\"\"><g class=\"traces\" transform=\"translate(0,203.7)\" style=\"opacity: 1;\"><text class=\"legendtext\" text-anchor=\"start\" x=\"40\" y=\"4.680000000000001\" style=\"font-family: 'Open Sans', verdana, arial, sans-serif; font-size: 12px; fill: rgb(36, 36, 36); fill-opacity: 1; white-space: pre;\">RT3_Nef15</text><g class=\"layers\" style=\"opacity: 1;\"><g class=\"legendfill\"/><g class=\"legendlines\"/><g class=\"legendsymbols\"><g class=\"legendpoints\"><path class=\"legendundefined\" d=\"M6,6H-6V-6H6Z\" transform=\"translate(20,0)\" style=\"stroke-width: 0.5px; fill: rgb(29, 131, 72); fill-opacity: 1; stroke: rgb(0, 0, 0); stroke-opacity: 1;\"/></g></g></g><rect class=\"legendtoggle\" x=\"0\" y=\"-9.5\" width=\"173.96875\" height=\"19\" style=\"fill: rgb(0, 0, 0); fill-opacity: 0;\"/></g></g><g class=\"groups\" transform=\"\"><g class=\"traces\" transform=\"translate(0,222.7)\" style=\"opacity: 1;\"><text class=\"legendtext\" text-anchor=\"start\" x=\"40\" y=\"4.680000000000001\" style=\"font-family: 'Open Sans', verdana, arial, sans-serif; font-size: 12px; fill: rgb(36, 36, 36); fill-opacity: 1; white-space: pre;\">RT3_Nef16</text><g class=\"layers\" style=\"opacity: 1;\"><g class=\"legendfill\"/><g class=\"legendlines\"/><g class=\"legendsymbols\"><g class=\"legendpoints\"><path class=\"legendundefined\" d=\"M6,6H-6V-6H6Z\" transform=\"translate(20,0)\" style=\"stroke-width: 0.5px; fill: rgb(35, 155, 86); fill-opacity: 1; stroke: rgb(0, 0, 0); stroke-opacity: 1;\"/></g></g></g><rect class=\"legendtoggle\" x=\"0\" y=\"-9.5\" width=\"173.96875\" height=\"19\" style=\"fill: rgb(0, 0, 0); fill-opacity: 0;\"/></g></g><g class=\"groups\" transform=\"\"><g class=\"traces\" transform=\"translate(0,241.7)\" style=\"opacity: 1;\"><text class=\"legendtext\" text-anchor=\"start\" x=\"40\" y=\"4.680000000000001\" style=\"font-family: 'Open Sans', verdana, arial, sans-serif; font-size: 12px; fill: rgb(36, 36, 36); fill-opacity: 1; white-space: pre;\">RT3_Nef19</text><g class=\"layers\" style=\"opacity: 1;\"><g class=\"legendfill\"/><g class=\"legendlines\"/><g class=\"legendsymbols\"><g class=\"legendpoints\"><path class=\"legendundefined\" d=\"M6,6H-6V-6H6Z\" transform=\"translate(20,0)\" style=\"stroke-width: 0.5px; fill: rgb(40, 180, 99); fill-opacity: 1; stroke: rgb(0, 0, 0); stroke-opacity: 1;\"/></g></g></g><rect class=\"legendtoggle\" x=\"0\" y=\"-9.5\" width=\"173.96875\" height=\"19\" style=\"fill: rgb(0, 0, 0); fill-opacity: 0;\"/></g></g><g class=\"groups\" transform=\"\"><g class=\"traces\" transform=\"translate(0,260.7)\" style=\"opacity: 1;\"><text class=\"legendtext\" text-anchor=\"start\" x=\"40\" y=\"4.680000000000001\" style=\"font-family: 'Open Sans', verdana, arial, sans-serif; font-size: 12px; fill: rgb(36, 36, 36); fill-opacity: 1; white-space: pre;\">RT3_Nef20</text><g class=\"layers\" style=\"opacity: 1;\"><g class=\"legendfill\"/><g class=\"legendlines\"/><g class=\"legendsymbols\"><g class=\"legendpoints\"><path class=\"legendundefined\" d=\"M6,6H-6V-6H6Z\" transform=\"translate(20,0)\" style=\"stroke-width: 0.5px; fill: rgb(46, 204, 113); fill-opacity: 1; stroke: rgb(0, 0, 0); stroke-opacity: 1;\"/></g></g></g><rect class=\"legendtoggle\" x=\"0\" y=\"-9.5\" width=\"173.96875\" height=\"19\" style=\"fill: rgb(0, 0, 0); fill-opacity: 0;\"/></g></g><g class=\"groups\" transform=\"\"><g class=\"traces\" transform=\"translate(0,279.7)\" style=\"opacity: 1;\"><text class=\"legendtext\" text-anchor=\"start\" x=\"40\" y=\"4.680000000000001\" style=\"font-family: 'Open Sans', verdana, arial, sans-serif; font-size: 12px; fill: rgb(36, 36, 36); fill-opacity: 1; white-space: pre;\">RT3_Nef22</text><g class=\"layers\" style=\"opacity: 1;\"><g class=\"legendfill\"/><g class=\"legendlines\"/><g class=\"legendsymbols\"><g class=\"legendpoints\"><path class=\"legendundefined\" d=\"M6,6H-6V-6H6Z\" transform=\"translate(20,0)\" style=\"stroke-width: 0.5px; fill: rgb(88, 214, 141); fill-opacity: 1; stroke: rgb(0, 0, 0); stroke-opacity: 1;\"/></g></g></g><rect class=\"legendtoggle\" x=\"0\" y=\"-9.5\" width=\"173.96875\" height=\"19\" style=\"fill: rgb(0, 0, 0); fill-opacity: 0;\"/></g></g><g class=\"groups\" transform=\"\"><g class=\"traces\" transform=\"translate(0,298.7)\" style=\"opacity: 1;\"><text class=\"legendtext\" text-anchor=\"start\" x=\"40\" y=\"4.680000000000001\" style=\"font-family: 'Open Sans', verdana, arial, sans-serif; font-size: 12px; fill: rgb(36, 36, 36); fill-opacity: 1; white-space: pre;\">RT3_Nef23</text><g class=\"layers\" style=\"opacity: 1;\"><g class=\"legendfill\"/><g class=\"legendlines\"/><g class=\"legendsymbols\"><g class=\"legendpoints\"><path class=\"legendundefined\" d=\"M6,6H-6V-6H6Z\" transform=\"translate(20,0)\" style=\"stroke-width: 0.5px; fill: rgb(130, 224, 170); fill-opacity: 1; stroke: rgb(0, 0, 0); stroke-opacity: 1;\"/></g></g></g><rect class=\"legendtoggle\" x=\"0\" y=\"-9.5\" width=\"173.96875\" height=\"19\" style=\"fill: rgb(0, 0, 0); fill-opacity: 0;\"/></g></g><g class=\"groups\" transform=\"\"><g class=\"traces\" transform=\"translate(0,317.7)\" style=\"opacity: 1;\"><text class=\"legendtext\" text-anchor=\"start\" x=\"40\" y=\"4.680000000000001\" style=\"font-family: 'Open Sans', verdana, arial, sans-serif; font-size: 12px; fill: rgb(36, 36, 36); fill-opacity: 1; white-space: pre;\">RT2_Env2_RT3_Rev1</text><g class=\"layers\" style=\"opacity: 1;\"><g class=\"legendfill\"/><g class=\"legendlines\"/><g class=\"legendsymbols\"><g class=\"legendpoints\"><path class=\"legendundefined\" d=\"M6,6H-6V-6H6Z\" transform=\"translate(20,0)\" style=\"stroke-width: 0.5px; fill: rgb(147, 81, 22); fill-opacity: 1; stroke: rgb(0, 0, 0); stroke-opacity: 1;\"/></g></g></g><rect class=\"legendtoggle\" x=\"0\" y=\"-9.5\" width=\"173.96875\" height=\"19\" style=\"fill: rgb(0, 0, 0); fill-opacity: 0;\"/></g></g><g class=\"groups\" transform=\"\"><g class=\"traces\" transform=\"translate(0,336.7)\" style=\"opacity: 1;\"><text class=\"legendtext\" text-anchor=\"start\" x=\"40\" y=\"4.680000000000001\" style=\"font-family: 'Open Sans', verdana, arial, sans-serif; font-size: 12px; fill: rgb(36, 36, 36); fill-opacity: 1; white-space: pre;\">RT2_Env3_RT3_Rev2</text><g class=\"layers\" style=\"opacity: 1;\"><g class=\"legendfill\"/><g class=\"legendlines\"/><g class=\"legendsymbols\"><g class=\"legendpoints\"><path class=\"legendundefined\" d=\"M6,6H-6V-6H6Z\" transform=\"translate(20,0)\" style=\"stroke-width: 0.5px; fill: rgb(175, 96, 26); fill-opacity: 1; stroke: rgb(0, 0, 0); stroke-opacity: 1;\"/></g></g></g><rect class=\"legendtoggle\" x=\"0\" y=\"-9.5\" width=\"173.96875\" height=\"19\" style=\"fill: rgb(0, 0, 0); fill-opacity: 0;\"/></g></g><g class=\"groups\" transform=\"\"><g class=\"traces\" transform=\"translate(0,355.7)\" style=\"opacity: 1;\"><text class=\"legendtext\" text-anchor=\"start\" x=\"40\" y=\"4.680000000000001\" style=\"font-family: 'Open Sans', verdana, arial, sans-serif; font-size: 12px; fill: rgb(36, 36, 36); fill-opacity: 1; white-space: pre;\">RT2_Env4_RT3_Rev3</text><g class=\"layers\" style=\"opacity: 1;\"><g class=\"legendfill\"/><g class=\"legendlines\"/><g class=\"legendsymbols\"><g class=\"legendpoints\"><path class=\"legendundefined\" d=\"M6,6H-6V-6H6Z\" transform=\"translate(20,0)\" style=\"stroke-width: 0.5px; fill: rgb(202, 111, 30); fill-opacity: 1; stroke: rgb(0, 0, 0); stroke-opacity: 1;\"/></g></g></g><rect class=\"legendtoggle\" x=\"0\" y=\"-9.5\" width=\"173.96875\" height=\"19\" style=\"fill: rgb(0, 0, 0); fill-opacity: 0;\"/></g></g><g class=\"groups\" transform=\"\"><g class=\"traces\" transform=\"translate(0,374.7)\" style=\"opacity: 1;\"><text class=\"legendtext\" text-anchor=\"start\" x=\"40\" y=\"4.680000000000001\" style=\"font-family: 'Open Sans', verdana, arial, sans-serif; font-size: 12px; fill: rgb(36, 36, 36); fill-opacity: 1; white-space: pre;\">RT2_Env6_RT3_Rev4</text><g class=\"layers\" style=\"opacity: 1;\"><g class=\"legendfill\"/><g class=\"legendlines\"/><g class=\"legendsymbols\"><g class=\"legendpoints\"><path class=\"legendundefined\" d=\"M6,6H-6V-6H6Z\" transform=\"translate(20,0)\" style=\"stroke-width: 0.5px; fill: rgb(230, 126, 34); fill-opacity: 1; stroke: rgb(0, 0, 0); stroke-opacity: 1;\"/></g></g></g><rect class=\"legendtoggle\" x=\"0\" y=\"-9.5\" width=\"173.96875\" height=\"19\" style=\"fill: rgb(0, 0, 0); fill-opacity: 0;\"/></g></g><g class=\"groups\" transform=\"\"><g class=\"traces\" transform=\"translate(0,393.7)\" style=\"opacity: 1;\"><text class=\"legendtext\" text-anchor=\"start\" x=\"40\" y=\"4.680000000000001\" style=\"font-family: 'Open Sans', verdana, arial, sans-serif; font-size: 12px; fill: rgb(36, 36, 36); fill-opacity: 1; white-space: pre;\">RT2_Env7_RT3_Rev5</text><g class=\"layers\" style=\"opacity: 1;\"><g class=\"legendfill\"/><g class=\"legendlines\"/><g class=\"legendsymbols\"><g class=\"legendpoints\"><path class=\"legendundefined\" d=\"M6,6H-6V-6H6Z\" transform=\"translate(20,0)\" style=\"stroke-width: 0.5px; fill: rgb(235, 152, 78); fill-opacity: 1; stroke: rgb(0, 0, 0); stroke-opacity: 1;\"/></g></g></g><rect class=\"legendtoggle\" x=\"0\" y=\"-9.5\" width=\"173.96875\" height=\"19\" style=\"fill: rgb(0, 0, 0); fill-opacity: 0;\"/></g></g><g class=\"groups\" transform=\"\"><g class=\"traces\" transform=\"translate(0,412.7)\" style=\"opacity: 1;\"><text class=\"legendtext\" text-anchor=\"start\" x=\"40\" y=\"4.680000000000001\" style=\"font-family: 'Open Sans', verdana, arial, sans-serif; font-size: 12px; fill: rgb(36, 36, 36); fill-opacity: 1; white-space: pre;\">RT2_Env8_RT3_Rev6</text><g class=\"layers\" style=\"opacity: 1;\"><g class=\"legendfill\"/><g class=\"legendlines\"/><g class=\"legendsymbols\"><g class=\"legendpoints\"><path class=\"legendundefined\" d=\"M6,6H-6V-6H6Z\" transform=\"translate(20,0)\" style=\"stroke-width: 0.5px; fill: rgb(240, 178, 122); fill-opacity: 1; stroke: rgb(0, 0, 0); stroke-opacity: 1;\"/></g></g></g><rect class=\"legendtoggle\" x=\"0\" y=\"-9.5\" width=\"173.96875\" height=\"19\" style=\"fill: rgb(0, 0, 0); fill-opacity: 0;\"/></g></g><g class=\"groups\" transform=\"\"><g class=\"traces\" transform=\"translate(0,431.7)\" style=\"opacity: 1;\"><text class=\"legendtext\" text-anchor=\"start\" x=\"40\" y=\"4.680000000000001\" style=\"font-family: 'Open Sans', verdana, arial, sans-serif; font-size: 12px; fill: rgb(36, 36, 36); fill-opacity: 1; white-space: pre;\">RT2_Env10_RT3_Rev7</text><g class=\"layers\" style=\"opacity: 1;\"><g class=\"legendfill\"/><g class=\"legendlines\"/><g class=\"legendsymbols\"><g class=\"legendpoints\"><path class=\"legendundefined\" d=\"M6,6H-6V-6H6Z\" transform=\"translate(20,0)\" style=\"stroke-width: 0.5px; fill: rgb(185, 119, 14); fill-opacity: 1; stroke: rgb(0, 0, 0); stroke-opacity: 1;\"/></g></g></g><rect class=\"legendtoggle\" x=\"0\" y=\"-9.5\" width=\"173.96875\" height=\"19\" style=\"fill: rgb(0, 0, 0); fill-opacity: 0;\"/></g></g><g class=\"groups\" transform=\"\"><g class=\"traces\" transform=\"translate(0,450.7)\" style=\"opacity: 1;\"><text class=\"legendtext\" text-anchor=\"start\" x=\"40\" y=\"4.680000000000001\" style=\"font-family: 'Open Sans', verdana, arial, sans-serif; font-size: 12px; fill: rgb(36, 36, 36); fill-opacity: 1; white-space: pre;\">RT2_Env11_RT3_Rev8</text><g class=\"layers\" style=\"opacity: 1;\"><g class=\"legendfill\"/><g class=\"legendlines\"/><g class=\"legendsymbols\"><g class=\"legendpoints\"><path class=\"legendundefined\" d=\"M6,6H-6V-6H6Z\" transform=\"translate(20,0)\" style=\"stroke-width: 0.5px; fill: rgb(214, 137, 16); fill-opacity: 1; stroke: rgb(0, 0, 0); stroke-opacity: 1;\"/></g></g></g><rect class=\"legendtoggle\" x=\"0\" y=\"-9.5\" width=\"173.96875\" height=\"19\" style=\"fill: rgb(0, 0, 0); fill-opacity: 0;\"/></g></g><g class=\"groups\" transform=\"\"><g class=\"traces\" transform=\"translate(0,469.7)\" style=\"opacity: 1;\"><text class=\"legendtext\" text-anchor=\"start\" x=\"40\" y=\"4.680000000000001\" style=\"font-family: 'Open Sans', verdana, arial, sans-serif; font-size: 12px; fill: rgb(36, 36, 36); fill-opacity: 1; white-space: pre;\">RT2_Env12_RT3_Rev9</text><g class=\"layers\" style=\"opacity: 1;\"><g class=\"legendfill\"/><g class=\"legendlines\"/><g class=\"legendsymbols\"><g class=\"legendpoints\"><path class=\"legendundefined\" d=\"M6,6H-6V-6H6Z\" transform=\"translate(20,0)\" style=\"stroke-width: 0.5px; fill: rgb(243, 156, 18); fill-opacity: 1; stroke: rgb(0, 0, 0); stroke-opacity: 1;\"/></g></g></g><rect class=\"legendtoggle\" x=\"0\" y=\"-9.5\" width=\"173.96875\" height=\"19\" style=\"fill: rgb(0, 0, 0); fill-opacity: 0;\"/></g></g><g class=\"groups\" transform=\"\"><g class=\"traces\" transform=\"translate(0,488.7)\" style=\"opacity: 1;\"><text class=\"legendtext\" text-anchor=\"start\" x=\"40\" y=\"4.680000000000001\" style=\"font-family: 'Open Sans', verdana, arial, sans-serif; font-size: 12px; fill: rgb(36, 36, 36); fill-opacity: 1; white-space: pre;\">RT2_Env14_RT3_Rev10</text><g class=\"layers\" style=\"opacity: 1;\"><g class=\"legendfill\"/><g class=\"legendlines\"/><g class=\"legendsymbols\"><g class=\"legendpoints\"><path class=\"legendundefined\" d=\"M6,6H-6V-6H6Z\" transform=\"translate(20,0)\" style=\"stroke-width: 0.5px; fill: rgb(245, 176, 65); fill-opacity: 1; stroke: rgb(0, 0, 0); stroke-opacity: 1;\"/></g></g></g><rect class=\"legendtoggle\" x=\"0\" y=\"-9.5\" width=\"173.96875\" height=\"19\" style=\"fill: rgb(0, 0, 0); fill-opacity: 0;\"/></g></g><g class=\"groups\" transform=\"\"><g class=\"traces\" transform=\"translate(0,507.7)\" style=\"opacity: 1;\"><text class=\"legendtext\" text-anchor=\"start\" x=\"40\" y=\"4.680000000000001\" style=\"font-family: 'Open Sans', verdana, arial, sans-serif; font-size: 12px; fill: rgb(36, 36, 36); fill-opacity: 1; white-space: pre;\">RT2_Env15_RT3_Rev11</text><g class=\"layers\" style=\"opacity: 1;\"><g class=\"legendfill\"/><g class=\"legendlines\"/><g class=\"legendsymbols\"><g class=\"legendpoints\"><path class=\"legendundefined\" d=\"M6,6H-6V-6H6Z\" transform=\"translate(20,0)\" style=\"stroke-width: 0.5px; fill: rgb(248, 180, 113); fill-opacity: 1; stroke: rgb(0, 0, 0); stroke-opacity: 1;\"/></g></g></g><rect class=\"legendtoggle\" x=\"0\" y=\"-9.5\" width=\"173.96875\" height=\"19\" style=\"fill: rgb(0, 0, 0); fill-opacity: 0;\"/></g></g><g class=\"groups\" transform=\"\"><g class=\"traces\" transform=\"translate(0,526.7)\" style=\"opacity: 1;\"><text class=\"legendtext\" text-anchor=\"start\" x=\"40\" y=\"4.680000000000001\" style=\"font-family: 'Open Sans', verdana, arial, sans-serif; font-size: 12px; fill: rgb(36, 36, 36); fill-opacity: 1; white-space: pre;\">RT3_Rev12</text><g class=\"layers\" style=\"opacity: 1;\"><g class=\"legendfill\"/><g class=\"legendlines\"/><g class=\"legendsymbols\"><g class=\"legendpoints\"><path class=\"legendundefined\" d=\"M6,6H-6V-6H6Z\" transform=\"translate(20,0)\" style=\"stroke-width: 0.5px; fill: rgb(246, 221, 204); fill-opacity: 1; stroke: rgb(0, 0, 0); stroke-opacity: 1;\"/></g></g></g><rect class=\"legendtoggle\" x=\"0\" y=\"-9.5\" width=\"173.96875\" height=\"19\" style=\"fill: rgb(0, 0, 0); fill-opacity: 0;\"/></g></g><g class=\"groups\" transform=\"\"><g class=\"traces\" transform=\"translate(0,545.7)\" style=\"opacity: 1;\"><text class=\"legendtext\" text-anchor=\"start\" x=\"40\" y=\"4.680000000000001\" style=\"font-family: 'Open Sans', verdana, arial, sans-serif; font-size: 12px; fill: rgb(36, 36, 36); fill-opacity: 1; white-space: pre;\">RT2_Env18_RT3_Rev13</text><g class=\"layers\" style=\"opacity: 1;\"><g class=\"legendfill\"/><g class=\"legendlines\"/><g class=\"legendsymbols\"><g class=\"legendpoints\"><path class=\"legendundefined\" d=\"M6,6H-6V-6H6Z\" transform=\"translate(20,0)\" style=\"stroke-width: 0.5px; fill: rgb(250, 215, 160); fill-opacity: 1; stroke: rgb(0, 0, 0); stroke-opacity: 1;\"/></g></g></g><rect class=\"legendtoggle\" x=\"0\" y=\"-9.5\" width=\"173.96875\" height=\"19\" style=\"fill: rgb(0, 0, 0); fill-opacity: 0;\"/></g></g><g class=\"groups\" transform=\"\"><g class=\"traces\" transform=\"translate(0,564.7)\" style=\"opacity: 1;\"><text class=\"legendtext\" text-anchor=\"start\" x=\"40\" y=\"4.680000000000001\" style=\"font-family: 'Open Sans', verdana, arial, sans-serif; font-size: 12px; fill: rgb(36, 36, 36); fill-opacity: 1; white-space: pre;\">RT2_Tat5_RT3_Tat1</text><g class=\"layers\" style=\"opacity: 1;\"><g class=\"legendfill\"/><g class=\"legendlines\"/><g class=\"legendsymbols\"><g class=\"legendpoints\"><path class=\"legendundefined\" d=\"M6,6H-6V-6H6Z\" transform=\"translate(20,0)\" style=\"stroke-width: 0.5px; fill: rgb(207, 87, 161); fill-opacity: 1; stroke: rgb(0, 0, 0); stroke-opacity: 1;\"/></g></g></g><rect class=\"legendtoggle\" x=\"0\" y=\"-9.5\" width=\"173.96875\" height=\"19\" style=\"fill: rgb(0, 0, 0); fill-opacity: 0;\"/></g></g><g class=\"groups\" transform=\"\"><g class=\"traces\" transform=\"translate(0,583.7)\" style=\"opacity: 1;\"><text class=\"legendtext\" text-anchor=\"start\" x=\"40\" y=\"4.680000000000001\" style=\"font-family: 'Open Sans', verdana, arial, sans-serif; font-size: 12px; fill: rgb(36, 36, 36); fill-opacity: 1; white-space: pre;\">RT2_Tat6_RT3_Tat2</text><g class=\"layers\" style=\"opacity: 1;\"><g class=\"legendfill\"/><g class=\"legendlines\"/><g class=\"legendsymbols\"><g class=\"legendpoints\"><path class=\"legendundefined\" d=\"M6,6H-6V-6H6Z\" transform=\"translate(20,0)\" style=\"stroke-width: 0.5px; fill: rgb(217, 144, 188); fill-opacity: 1; stroke: rgb(0, 0, 0); stroke-opacity: 1;\"/></g></g></g><rect class=\"legendtoggle\" x=\"0\" y=\"-9.5\" width=\"173.96875\" height=\"19\" style=\"fill: rgb(0, 0, 0); fill-opacity: 0;\"/></g></g><g class=\"groups\" transform=\"\"><g class=\"traces\" transform=\"translate(0,602.7)\" style=\"opacity: 1;\"><text class=\"legendtext\" text-anchor=\"start\" x=\"40\" y=\"4.680000000000001\" style=\"font-family: 'Open Sans', verdana, arial, sans-serif; font-size: 12px; fill: rgb(36, 36, 36); fill-opacity: 1; white-space: pre;\">RT2_Tat7_RT3_Tat3</text><g class=\"layers\" style=\"opacity: 1;\"><g class=\"legendfill\"/><g class=\"legendlines\"/><g class=\"legendsymbols\"><g class=\"legendpoints\"><path class=\"legendundefined\" d=\"M6,6H-6V-6H6Z\" transform=\"translate(20,0)\" style=\"stroke-width: 0.5px; fill: rgb(237, 206, 228); fill-opacity: 1; stroke: rgb(0, 0, 0); stroke-opacity: 1;\"/></g></g></g><rect class=\"legendtoggle\" x=\"0\" y=\"-9.5\" width=\"173.96875\" height=\"19\" style=\"fill: rgb(0, 0, 0); fill-opacity: 0;\"/></g></g><g class=\"groups\" transform=\"\"><g class=\"traces\" transform=\"translate(0,621.7)\" style=\"opacity: 1;\"><text class=\"legendtext\" text-anchor=\"start\" x=\"40\" y=\"4.680000000000001\" style=\"font-family: 'Open Sans', verdana, arial, sans-serif; font-size: 12px; fill: rgb(36, 36, 36); fill-opacity: 1; white-space: pre;\">RT2_Tat8_RT3_Tat4</text><g class=\"layers\" style=\"opacity: 1;\"><g class=\"legendfill\"/><g class=\"legendlines\"/><g class=\"legendsymbols\"><g class=\"legendpoints\"><path class=\"legendundefined\" d=\"M6,6H-6V-6H6Z\" transform=\"translate(20,0)\" style=\"stroke-width: 0.5px; fill: rgb(221, 168, 200); fill-opacity: 1; stroke: rgb(0, 0, 0); stroke-opacity: 1;\"/></g></g></g><rect class=\"legendtoggle\" x=\"0\" y=\"-9.5\" width=\"173.96875\" height=\"19\" style=\"fill: rgb(0, 0, 0); fill-opacity: 0;\"/></g></g><g class=\"groups\" transform=\"\"><g class=\"traces\" transform=\"translate(0,640.7)\" style=\"opacity: 1;\"><text class=\"legendtext\" text-anchor=\"start\" x=\"40\" y=\"4.680000000000001\" style=\"font-family: 'Open Sans', verdana, arial, sans-serif; font-size: 12px; fill: rgb(36, 36, 36); fill-opacity: 1; white-space: pre;\">RT2_Tat12_RT3_Tat9</text><g class=\"layers\" style=\"opacity: 1;\"><g class=\"legendfill\"/><g class=\"legendlines\"/><g class=\"legendsymbols\"><g class=\"legendpoints\"><path class=\"legendundefined\" d=\"M6,6H-6V-6H6Z\" transform=\"translate(20,0)\" style=\"stroke-width: 0.5px; fill: rgb(229, 186, 216); fill-opacity: 1; stroke: rgb(0, 0, 0); stroke-opacity: 1;\"/></g></g></g><rect class=\"legendtoggle\" x=\"0\" y=\"-9.5\" width=\"173.96875\" height=\"19\" style=\"fill: rgb(0, 0, 0); fill-opacity: 0;\"/></g></g><g class=\"groups\" transform=\"\"><g class=\"traces\" transform=\"translate(0,659.7)\" style=\"opacity: 1;\"><text class=\"legendtext\" text-anchor=\"start\" x=\"40\" y=\"4.680000000000001\" style=\"font-family: 'Open Sans', verdana, arial, sans-serif; font-size: 12px; fill: rgb(36, 36, 36); fill-opacity: 1; white-space: pre;\">RT3_Tat10</text><g class=\"layers\" style=\"opacity: 1;\"><g class=\"legendfill\"/><g class=\"legendlines\"/><g class=\"legendsymbols\"><g class=\"legendpoints\"><path class=\"legendundefined\" d=\"M6,6H-6V-6H6Z\" transform=\"translate(20,0)\" style=\"stroke-width: 0.5px; fill: rgb(240, 98, 146); fill-opacity: 1; stroke: rgb(0, 0, 0); stroke-opacity: 1;\"/></g></g></g><rect class=\"legendtoggle\" x=\"0\" y=\"-9.5\" width=\"173.96875\" height=\"19\" style=\"fill: rgb(0, 0, 0); fill-opacity: 0;\"/></g></g><g class=\"groups\" transform=\"\"><g class=\"traces\" transform=\"translate(0,678.7)\" style=\"opacity: 1;\"><text class=\"legendtext\" text-anchor=\"start\" x=\"40\" y=\"4.680000000000001\" style=\"font-family: 'Open Sans', verdana, arial, sans-serif; font-size: 12px; fill: rgb(36, 36, 36); fill-opacity: 1; white-space: pre;\">RT3_Tat11</text><g class=\"layers\" style=\"opacity: 1;\"><g class=\"legendfill\"/><g class=\"legendlines\"/><g class=\"legendsymbols\"><g class=\"legendpoints\"><path class=\"legendundefined\" d=\"M6,6H-6V-6H6Z\" transform=\"translate(20,0)\" style=\"stroke-width: 0.5px; fill: rgb(244, 143, 177); fill-opacity: 1; stroke: rgb(0, 0, 0); stroke-opacity: 1;\"/></g></g></g><rect class=\"legendtoggle\" x=\"0\" y=\"-9.5\" width=\"173.96875\" height=\"19\" style=\"fill: rgb(0, 0, 0); fill-opacity: 0;\"/></g></g><g class=\"groups\" transform=\"\"><g class=\"traces\" transform=\"translate(0,697.7)\" style=\"opacity: 1;\"><text class=\"legendtext\" text-anchor=\"start\" x=\"40\" y=\"4.680000000000001\" style=\"font-family: 'Open Sans', verdana, arial, sans-serif; font-size: 12px; fill: rgb(36, 36, 36); fill-opacity: 1; white-space: pre;\">RT3_Tat13</text><g class=\"layers\" style=\"opacity: 1;\"><g class=\"legendfill\"/><g class=\"legendlines\"/><g class=\"legendsymbols\"><g class=\"legendpoints\"><path class=\"legendundefined\" d=\"M6,6H-6V-6H6Z\" transform=\"translate(20,0)\" style=\"stroke-width: 0.5px; fill: rgb(248, 187, 208); fill-opacity: 1; stroke: rgb(0, 0, 0); stroke-opacity: 1;\"/></g></g></g><rect class=\"legendtoggle\" x=\"0\" y=\"-9.5\" width=\"173.96875\" height=\"19\" style=\"fill: rgb(0, 0, 0); fill-opacity: 0;\"/></g></g><g class=\"groups\" transform=\"\"><g class=\"traces\" transform=\"translate(0,716.7)\" style=\"opacity: 1;\"><text class=\"legendtext\" text-anchor=\"start\" x=\"40\" y=\"4.680000000000001\" style=\"font-family: 'Open Sans', verdana, arial, sans-serif; font-size: 12px; fill: rgb(36, 36, 36); fill-opacity: 1; white-space: pre;\">RT3_Tat15</text><g class=\"layers\" style=\"opacity: 1;\"><g class=\"legendfill\"/><g class=\"legendlines\"/><g class=\"legendsymbols\"><g class=\"legendpoints\"><path class=\"legendundefined\" d=\"M6,6H-6V-6H6Z\" transform=\"translate(20,0)\" style=\"stroke-width: 0.5px; fill: rgb(252, 200, 215); fill-opacity: 1; stroke: rgb(0, 0, 0); stroke-opacity: 1;\"/></g></g></g><rect class=\"legendtoggle\" x=\"0\" y=\"-9.5\" width=\"173.96875\" height=\"19\" style=\"fill: rgb(0, 0, 0); fill-opacity: 0;\"/></g></g><g class=\"groups\" transform=\"\"><g class=\"traces\" transform=\"translate(0,735.7)\" style=\"opacity: 1;\"><text class=\"legendtext\" text-anchor=\"start\" x=\"40\" y=\"4.680000000000001\" style=\"font-family: 'Open Sans', verdana, arial, sans-serif; font-size: 12px; fill: rgb(36, 36, 36); fill-opacity: 1; white-space: pre;\">RT3_Tat16</text><g class=\"layers\" style=\"opacity: 1;\"><g class=\"legendfill\"/><g class=\"legendlines\"/><g class=\"legendsymbols\"><g class=\"legendpoints\"><path class=\"legendundefined\" d=\"M6,6H-6V-6H6Z\" transform=\"translate(20,0)\" style=\"stroke-width: 0.5px; fill: rgb(252, 228, 236); fill-opacity: 1; stroke: rgb(0, 0, 0); stroke-opacity: 1;\"/></g></g></g><rect class=\"legendtoggle\" x=\"0\" y=\"-9.5\" width=\"173.96875\" height=\"19\" style=\"fill: rgb(0, 0, 0); fill-opacity: 0;\"/></g></g><g class=\"groups\" transform=\"\"><g class=\"traces\" transform=\"translate(0,754.7)\" style=\"opacity: 1;\"><text class=\"legendtext\" text-anchor=\"start\" x=\"40\" y=\"4.680000000000001\" style=\"font-family: 'Open Sans', verdana, arial, sans-serif; font-size: 12px; fill: rgb(36, 36, 36); fill-opacity: 1; white-space: pre;\">RT2_Vif2_RT3_Vif1</text><g class=\"layers\" style=\"opacity: 1;\"><g class=\"legendfill\"/><g class=\"legendlines\"/><g class=\"legendsymbols\"><g class=\"legendpoints\"><path class=\"legendundefined\" d=\"M6,6H-6V-6H6Z\" transform=\"translate(20,0)\" style=\"stroke-width: 0.5px; fill: rgb(96, 22, 135); fill-opacity: 1; stroke: rgb(0, 0, 0); stroke-opacity: 1;\"/></g></g></g><rect class=\"legendtoggle\" x=\"0\" y=\"-9.5\" width=\"173.96875\" height=\"19\" style=\"fill: rgb(0, 0, 0); fill-opacity: 0;\"/></g></g><g class=\"groups\" transform=\"\"><g class=\"traces\" transform=\"translate(0,773.7)\" style=\"opacity: 1;\"><text class=\"legendtext\" text-anchor=\"start\" x=\"40\" y=\"4.680000000000001\" style=\"font-family: 'Open Sans', verdana, arial, sans-serif; font-size: 12px; fill: rgb(36, 36, 36); fill-opacity: 1; white-space: pre;\">RT2_Vif3_RT3_Vif6</text><g class=\"layers\" style=\"opacity: 1;\"><g class=\"legendfill\"/><g class=\"legendlines\"/><g class=\"legendsymbols\"><g class=\"legendpoints\"><path class=\"legendundefined\" d=\"M6,6H-6V-6H6Z\" transform=\"translate(20,0)\" style=\"stroke-width: 0.5px; fill: rgb(141, 74, 176); fill-opacity: 1; stroke: rgb(0, 0, 0); stroke-opacity: 1;\"/></g></g></g><rect class=\"legendtoggle\" x=\"0\" y=\"-9.5\" width=\"173.96875\" height=\"19\" style=\"fill: rgb(0, 0, 0); fill-opacity: 0;\"/></g></g><g class=\"groups\" transform=\"\"><g class=\"traces\" transform=\"translate(0,792.7)\" style=\"opacity: 1;\"><text class=\"legendtext\" text-anchor=\"start\" x=\"40\" y=\"4.680000000000001\" style=\"font-family: 'Open Sans', verdana, arial, sans-serif; font-size: 12px; fill: rgb(36, 36, 36); fill-opacity: 1; white-space: pre;\">RT2_Vif4_RT3_Vif9</text><g class=\"layers\" style=\"opacity: 1;\"><g class=\"legendfill\"/><g class=\"legendlines\"/><g class=\"legendsymbols\"><g class=\"legendpoints\"><path class=\"legendundefined\" d=\"M6,6H-6V-6H6Z\" transform=\"translate(20,0)\" style=\"stroke-width: 0.5px; fill: rgb(170, 89, 212); fill-opacity: 1; stroke: rgb(0, 0, 0); stroke-opacity: 1;\"/></g></g></g><rect class=\"legendtoggle\" x=\"0\" y=\"-9.5\" width=\"173.96875\" height=\"19\" style=\"fill: rgb(0, 0, 0); fill-opacity: 0;\"/></g></g><g class=\"groups\" transform=\"\"><g class=\"traces\" transform=\"translate(0,811.7)\" style=\"opacity: 1;\"><text class=\"legendtext\" text-anchor=\"start\" x=\"40\" y=\"4.680000000000001\" style=\"font-family: 'Open Sans', verdana, arial, sans-serif; font-size: 12px; fill: rgb(36, 36, 36); fill-opacity: 1; white-space: pre;\">RT2_Vif5_RT3_Vif8</text><g class=\"layers\" style=\"opacity: 1;\"><g class=\"legendfill\"/><g class=\"legendlines\"/><g class=\"legendsymbols\"><g class=\"legendpoints\"><path class=\"legendundefined\" d=\"M6,6H-6V-6H6Z\" transform=\"translate(20,0)\" style=\"stroke-width: 0.5px; fill: rgb(204, 108, 255); fill-opacity: 1; stroke: rgb(0, 0, 0); stroke-opacity: 1;\"/></g></g></g><rect class=\"legendtoggle\" x=\"0\" y=\"-9.5\" width=\"173.96875\" height=\"19\" style=\"fill: rgb(0, 0, 0); fill-opacity: 0;\"/></g></g><g class=\"groups\" transform=\"\"><g class=\"traces\" transform=\"translate(0,830.7)\" style=\"opacity: 1;\"><text class=\"legendtext\" text-anchor=\"start\" x=\"40\" y=\"4.680000000000001\" style=\"font-family: 'Open Sans', verdana, arial, sans-serif; font-size: 12px; fill: rgb(36, 36, 36); fill-opacity: 1; white-space: pre;\">RT2_Vif7</text><g class=\"layers\" style=\"opacity: 1;\"><g class=\"legendfill\"/><g class=\"legendlines\"/><g class=\"legendsymbols\"><g class=\"legendpoints\"><path class=\"legendundefined\" d=\"M6,6H-6V-6H6Z\" transform=\"translate(20,0)\" style=\"stroke-width: 0.5px; fill: rgb(128, 128, 128); fill-opacity: 1; stroke: rgb(0, 0, 0); stroke-opacity: 1;\"/></g></g></g><rect class=\"legendtoggle\" x=\"0\" y=\"-9.5\" width=\"173.96875\" height=\"19\" style=\"fill: rgb(0, 0, 0); fill-opacity: 0;\"/></g></g><g class=\"groups\" transform=\"\"><g class=\"traces\" transform=\"translate(0,849.7)\" style=\"opacity: 1;\"><text class=\"legendtext\" text-anchor=\"start\" x=\"40\" y=\"4.680000000000001\" style=\"font-family: 'Open Sans', verdana, arial, sans-serif; font-size: 12px; fill: rgb(36, 36, 36); fill-opacity: 1; white-space: pre;\">RT2_Vpr3_RT3_Vpr1</text><g class=\"layers\" style=\"opacity: 1;\"><g class=\"legendfill\"/><g class=\"legendlines\"/><g class=\"legendsymbols\"><g class=\"legendpoints\"><path class=\"legendundefined\" d=\"M6,6H-6V-6H6Z\" transform=\"translate(20,0)\" style=\"stroke-width: 0.5px; fill: rgb(168, 30, 45); fill-opacity: 1; stroke: rgb(0, 0, 0); stroke-opacity: 1;\"/></g></g></g><rect class=\"legendtoggle\" x=\"0\" y=\"-9.5\" width=\"173.96875\" height=\"19\" style=\"fill: rgb(0, 0, 0); fill-opacity: 0;\"/></g></g><g class=\"groups\" transform=\"\"><g class=\"traces\" transform=\"translate(0,868.7)\" style=\"opacity: 1;\"><text class=\"legendtext\" text-anchor=\"start\" x=\"40\" y=\"4.680000000000001\" style=\"font-family: 'Open Sans', verdana, arial, sans-serif; font-size: 12px; fill: rgb(36, 36, 36); fill-opacity: 1; white-space: pre;\">RT2_Vpr4_RT3_Vpr2</text><g class=\"layers\" style=\"opacity: 1;\"><g class=\"legendfill\"/><g class=\"legendlines\"/><g class=\"legendsymbols\"><g class=\"legendpoints\"><path class=\"legendundefined\" d=\"M6,6H-6V-6H6Z\" transform=\"translate(20,0)\" style=\"stroke-width: 0.5px; fill: rgb(192, 98, 106); fill-opacity: 1; stroke: rgb(0, 0, 0); stroke-opacity: 1;\"/></g></g></g><rect class=\"legendtoggle\" x=\"0\" y=\"-9.5\" width=\"173.96875\" height=\"19\" style=\"fill: rgb(0, 0, 0); fill-opacity: 0;\"/></g></g><g class=\"groups\" transform=\"\"><g class=\"traces\" transform=\"translate(0,887.7)\" style=\"opacity: 1;\"><text class=\"legendtext\" text-anchor=\"start\" x=\"40\" y=\"4.680000000000001\" style=\"font-family: 'Open Sans', verdana, arial, sans-serif; font-size: 12px; fill: rgb(36, 36, 36); fill-opacity: 1; white-space: pre;\">RT3_sORF1</text><g class=\"layers\" style=\"opacity: 1;\"><g class=\"legendfill\"/><g class=\"legendlines\"/><g class=\"legendsymbols\"><g class=\"legendpoints\"><path class=\"legendundefined\" d=\"M6,6H-6V-6H6Z\" transform=\"translate(20,0)\" style=\"stroke-width: 0.5px; fill: rgb(177, 153, 109); fill-opacity: 1; stroke: rgb(0, 0, 0); stroke-opacity: 1;\"/></g></g></g><rect class=\"legendtoggle\" x=\"0\" y=\"-9.5\" width=\"173.96875\" height=\"19\" style=\"fill: rgb(0, 0, 0); fill-opacity: 0;\"/></g></g><g class=\"groups\" transform=\"\"><g class=\"traces\" transform=\"translate(0,906.7)\" style=\"opacity: 1;\"><text class=\"legendtext\" text-anchor=\"start\" x=\"40\" y=\"4.680000000000001\" style=\"font-family: 'Open Sans', verdana, arial, sans-serif; font-size: 12px; fill: rgb(36, 36, 36); fill-opacity: 1; white-space: pre;\">RT3_sORF3</text><g class=\"layers\" style=\"opacity: 1;\"><g class=\"legendfill\"/><g class=\"legendlines\"/><g class=\"legendsymbols\"><g class=\"legendpoints\"><path class=\"legendundefined\" d=\"M6,6H-6V-6H6Z\" transform=\"translate(20,0)\" style=\"stroke-width: 0.5px; fill: rgb(157, 138, 109); fill-opacity: 1; stroke: rgb(0, 0, 0); stroke-opacity: 1;\"/></g></g></g><rect class=\"legendtoggle\" x=\"0\" y=\"-9.5\" width=\"173.96875\" height=\"19\" style=\"fill: rgb(0, 0, 0); fill-opacity: 0;\"/></g></g></g><rect class=\"scrollbar\" rx=\"20\" ry=\"3\" width=\"0\" height=\"0\" x=\"0\" y=\"0\" style=\"fill: rgb(128, 139, 164); fill-opacity: 1;\"/></g><g class=\"g-gtitle\"/><g class=\"g-xtitle\"><text class=\"xtitle\" x=\"159.135\" y=\"388.012890625\" text-anchor=\"middle\" style=\"font-family: 'Open Sans', verdana, arial, sans-serif; font-size: 14px; fill: rgb(36, 36, 36); opacity: 1; font-weight: normal; white-space: pre;\">RT_and_DMS</text></g><g class=\"g-x2title\"><text class=\"x2title\" x=\"323.865\" y=\"388.012890625\" text-anchor=\"middle\" style=\"font-family: 'Open Sans', verdana, arial, sans-serif; font-size: 14px; fill: rgb(36, 36, 36); opacity: 1; font-weight: normal; white-space: pre;\">RT_and_DMS</text></g><g class=\"g-ytitle\"><text class=\"ytitle\" transform=\"rotate(-90,20.778125000000003,166.5)\" x=\"20.778125000000003\" y=\"166.5\" text-anchor=\"middle\" style=\"font-family: 'Open Sans', verdana, arial, sans-serif; font-size: 14px; fill: rgb(36, 36, 36); opacity: 1; font-weight: normal; white-space: pre;\">count</text></g><g class=\"g-y2title\"/><g class=\"annotation\" data-index=\"0\" style=\"opacity: 1;\"><g class=\"annotation-text-g\" transform=\"rotate(0,159.135,51)\"><g class=\"cursor-pointer\" transform=\"translate(117,42)\"><rect class=\"bg\" x=\"0.5\" y=\"0.5\" width=\"84\" height=\"17\" style=\"stroke-width: 1px; stroke: rgb(0, 0, 0); stroke-opacity: 0; fill: rgb(0, 0, 0); fill-opacity: 0;\"/><text class=\"annotation-text\" text-anchor=\"middle\" x=\"42.53125\" y=\"13\" style=\"font-family: 'Open Sans', verdana, arial, sans-serif; font-size: 12px; fill: rgb(36, 36, 36); fill-opacity: 1; white-space: pre;\">replicate=Rep1</text></g></g></g><g class=\"annotation\" data-index=\"1\" style=\"opacity: 1;\"><g class=\"annotation-text-g\" transform=\"rotate(0,323.865,51)\"><g class=\"cursor-pointer\" transform=\"translate(281,42)\"><rect class=\"bg\" x=\"0.5\" y=\"0.5\" width=\"84\" height=\"17\" style=\"stroke-width: 1px; stroke: rgb(0, 0, 0); stroke-opacity: 0; fill: rgb(0, 0, 0); fill-opacity: 0;\"/><text class=\"annotation-text\" text-anchor=\"middle\" x=\"42.53125\" y=\"13\" style=\"font-family: 'Open Sans', verdana, arial, sans-serif; font-size: 12px; fill: rgb(36, 36, 36); fill-opacity: 1; white-space: pre;\">replicate=Rep2</text></g></g></g></g></svg>"
      ]
     },
     "metadata": {},
     "output_type": "display_data"
    }
   ],
   "source": [
    "order_dict[\"isoform_id\"] = list(isoform_colors_RT3.keys())\n",
    "fig = px.bar(isoform_count_df, x=\"RT_and_DMS\",facet_col=\"replicate\",  y=\"count\", color=\"isoform_id\", category_orders=order_dict, color_discrete_map = isoform_colors_RT3)\n",
    "fig.update_layout(width=600, height=400)\n",
    "fig.update_traces(width=0.8, marker_line_width=0.5, marker_line_color=\"black\")\n",
    "fig.write_image(f\"{figure_dir}/isoquant_isoform_count.svg\")\n",
    "fig.show()"
   ]
  },
  {
   "cell_type": "code",
   "execution_count": 118,
   "id": "e12a2bf8-3036-4372-a253-7a26b3fbe170",
   "metadata": {},
   "outputs": [
    {
     "data": {
      "application/vnd.plotly.v1+json": {
       "config": {
        "plotlyServerURL": "https://plot.ly"
       },
       "data": [
        {
         "alignmentgroup": "True",
         "bingroup": "x",
         "histfunc": "sum",
         "hovertemplate": "isoform_id=RT1_unspliced1<br>replicate=Rep1<br>RT_and_DMS=%{x}<br>sum of count (normalized as percent)=%{y}<extra></extra>",
         "legendgroup": "RT1_unspliced1",
         "marker": {
          "color": "black",
          "line": {
           "color": "black",
           "width": 0.5
          },
          "pattern": {
           "shape": ""
          }
         },
         "name": "RT1_unspliced1",
         "offsetgroup": "RT1_unspliced1",
         "orientation": "v",
         "showlegend": true,
         "type": "histogram",
         "x": [
          "RT-FS_0mM",
          "RT-FS_57mM",
          "RT-FS_85mM",
          "RT-US_0mM",
          "RT-US_57mM",
          "RT-US_85mM"
         ],
         "xaxis": "x",
         "y": [
          302,
          495,
          505,
          33675,
          46055,
          70941
         ],
         "yaxis": "y"
        },
        {
         "alignmentgroup": "True",
         "bingroup": "x",
         "histfunc": "sum",
         "hovertemplate": "isoform_id=RT1_unspliced1<br>replicate=Rep2<br>RT_and_DMS=%{x}<br>sum of count (normalized as percent)=%{y}<extra></extra>",
         "legendgroup": "RT1_unspliced1",
         "marker": {
          "color": "black",
          "line": {
           "color": "black",
           "width": 0.5
          },
          "pattern": {
           "shape": ""
          }
         },
         "name": "RT1_unspliced1",
         "offsetgroup": "RT1_unspliced1",
         "orientation": "v",
         "showlegend": false,
         "type": "histogram",
         "x": [
          "RT-FS_0mM",
          "RT-FS_57mM",
          "RT-FS_85mM",
          "RT-US_0mM",
          "RT-US_57mM",
          "RT-US_85mM"
         ],
         "xaxis": "x2",
         "y": [
          126,
          335,
          337,
          92092,
          62781,
          87262
         ],
         "yaxis": "y2"
        },
        {
         "alignmentgroup": "True",
         "bingroup": "x",
         "histfunc": "sum",
         "hovertemplate": "isoform_id=RT2_unspliced2<br>replicate=Rep1<br>RT_and_DMS=%{x}<br>sum of count (normalized as percent)=%{y}<extra></extra>",
         "legendgroup": "RT2_unspliced2",
         "marker": {
          "color": "black",
          "line": {
           "color": "black",
           "width": 0.5
          },
          "pattern": {
           "shape": ""
          }
         },
         "name": "RT2_unspliced2",
         "offsetgroup": "RT2_unspliced2",
         "orientation": "v",
         "showlegend": true,
         "type": "histogram",
         "x": [
          "RT-FS_0mM",
          "RT-FS_57mM",
          "RT-FS_85mM",
          "RT-US_0mM",
          "RT-US_57mM",
          "RT-US_85mM"
         ],
         "xaxis": "x",
         "y": [
          53,
          27,
          43,
          186,
          54,
          54
         ],
         "yaxis": "y"
        },
        {
         "alignmentgroup": "True",
         "bingroup": "x",
         "histfunc": "sum",
         "hovertemplate": "isoform_id=RT2_unspliced2<br>replicate=Rep2<br>RT_and_DMS=%{x}<br>sum of count (normalized as percent)=%{y}<extra></extra>",
         "legendgroup": "RT2_unspliced2",
         "marker": {
          "color": "black",
          "line": {
           "color": "black",
           "width": 0.5
          },
          "pattern": {
           "shape": ""
          }
         },
         "name": "RT2_unspliced2",
         "offsetgroup": "RT2_unspliced2",
         "orientation": "v",
         "showlegend": false,
         "type": "histogram",
         "x": [
          "RT-FS_0mM",
          "RT-FS_57mM",
          "RT-FS_85mM",
          "RT-US_0mM",
          "RT-US_57mM",
          "RT-US_85mM"
         ],
         "xaxis": "x2",
         "y": [
          246,
          24,
          52,
          722,
          62,
          60
         ],
         "yaxis": "y2"
        },
        {
         "alignmentgroup": "True",
         "bingroup": "x",
         "histfunc": "sum",
         "hovertemplate": "isoform_id=RT2_Env1_RT3_Nef2<br>replicate=Rep1<br>RT_and_DMS=%{x}<br>sum of count (normalized as percent)=%{y}<extra></extra>",
         "legendgroup": "RT2_Env1_RT3_Nef2",
         "marker": {
          "color": "rgb(17,120,100)",
          "line": {
           "color": "black",
           "width": 0.5
          },
          "pattern": {
           "shape": ""
          }
         },
         "name": "RT2_Env1_RT3_Nef2",
         "offsetgroup": "RT2_Env1_RT3_Nef2",
         "orientation": "v",
         "showlegend": true,
         "type": "histogram",
         "x": [
          "RT-FS_0mM",
          "RT-FS_57mM",
          "RT-FS_85mM",
          "RT-US_0mM",
          "RT-US_57mM",
          "RT-US_85mM"
         ],
         "xaxis": "x",
         "y": [
          18977,
          24770,
          28024,
          8,
          9,
          12
         ],
         "yaxis": "y"
        },
        {
         "alignmentgroup": "True",
         "bingroup": "x",
         "histfunc": "sum",
         "hovertemplate": "isoform_id=RT2_Env1_RT3_Nef2<br>replicate=Rep2<br>RT_and_DMS=%{x}<br>sum of count (normalized as percent)=%{y}<extra></extra>",
         "legendgroup": "RT2_Env1_RT3_Nef2",
         "marker": {
          "color": "rgb(17,120,100)",
          "line": {
           "color": "black",
           "width": 0.5
          },
          "pattern": {
           "shape": ""
          }
         },
         "name": "RT2_Env1_RT3_Nef2",
         "offsetgroup": "RT2_Env1_RT3_Nef2",
         "orientation": "v",
         "showlegend": false,
         "type": "histogram",
         "x": [
          "RT-FS_0mM",
          "RT-FS_57mM",
          "RT-FS_85mM",
          "RT-US_0mM",
          "RT-US_57mM",
          "RT-US_85mM"
         ],
         "xaxis": "x2",
         "y": [
          9799,
          19051,
          21625,
          9,
          6,
          2
         ],
         "yaxis": "y2"
        },
        {
         "alignmentgroup": "True",
         "bingroup": "x",
         "histfunc": "sum",
         "hovertemplate": "isoform_id=RT2_Env5_RT3_Nef3<br>replicate=Rep1<br>RT_and_DMS=%{x}<br>sum of count (normalized as percent)=%{y}<extra></extra>",
         "legendgroup": "RT2_Env5_RT3_Nef3",
         "marker": {
          "color": "rgb(20,143,119)",
          "line": {
           "color": "black",
           "width": 0.5
          },
          "pattern": {
           "shape": ""
          }
         },
         "name": "RT2_Env5_RT3_Nef3",
         "offsetgroup": "RT2_Env5_RT3_Nef3",
         "orientation": "v",
         "showlegend": true,
         "type": "histogram",
         "x": [
          "RT-FS_0mM",
          "RT-FS_57mM",
          "RT-FS_85mM",
          "RT-US_0mM",
          "RT-US_57mM",
          "RT-US_85mM"
         ],
         "xaxis": "x",
         "y": [
          13724,
          19707,
          22279,
          3,
          1,
          6
         ],
         "yaxis": "y"
        },
        {
         "alignmentgroup": "True",
         "bingroup": "x",
         "histfunc": "sum",
         "hovertemplate": "isoform_id=RT2_Env5_RT3_Nef3<br>replicate=Rep2<br>RT_and_DMS=%{x}<br>sum of count (normalized as percent)=%{y}<extra></extra>",
         "legendgroup": "RT2_Env5_RT3_Nef3",
         "marker": {
          "color": "rgb(20,143,119)",
          "line": {
           "color": "black",
           "width": 0.5
          },
          "pattern": {
           "shape": ""
          }
         },
         "name": "RT2_Env5_RT3_Nef3",
         "offsetgroup": "RT2_Env5_RT3_Nef3",
         "orientation": "v",
         "showlegend": false,
         "type": "histogram",
         "x": [
          "RT-FS_0mM",
          "RT-FS_57mM",
          "RT-FS_85mM",
          "RT-US_0mM",
          "RT-US_57mM",
          "RT-US_85mM"
         ],
         "xaxis": "x2",
         "y": [
          8257,
          17682,
          21371,
          2,
          6,
          2
         ],
         "yaxis": "y2"
        },
        {
         "alignmentgroup": "True",
         "bingroup": "x",
         "histfunc": "sum",
         "hovertemplate": "isoform_id=RT2_Env9_RT3_Nef4<br>replicate=Rep1<br>RT_and_DMS=%{x}<br>sum of count (normalized as percent)=%{y}<extra></extra>",
         "legendgroup": "RT2_Env9_RT3_Nef4",
         "marker": {
          "color": "rgb(23,165,137)",
          "line": {
           "color": "black",
           "width": 0.5
          },
          "pattern": {
           "shape": ""
          }
         },
         "name": "RT2_Env9_RT3_Nef4",
         "offsetgroup": "RT2_Env9_RT3_Nef4",
         "orientation": "v",
         "showlegend": true,
         "type": "histogram",
         "x": [
          "RT-FS_0mM",
          "RT-FS_57mM",
          "RT-FS_85mM",
          "RT-US_0mM",
          "RT-US_57mM",
          "RT-US_85mM"
         ],
         "xaxis": "x",
         "y": [
          20700,
          29416,
          32293,
          17,
          14,
          24
         ],
         "yaxis": "y"
        },
        {
         "alignmentgroup": "True",
         "bingroup": "x",
         "histfunc": "sum",
         "hovertemplate": "isoform_id=RT2_Env9_RT3_Nef4<br>replicate=Rep2<br>RT_and_DMS=%{x}<br>sum of count (normalized as percent)=%{y}<extra></extra>",
         "legendgroup": "RT2_Env9_RT3_Nef4",
         "marker": {
          "color": "rgb(23,165,137)",
          "line": {
           "color": "black",
           "width": 0.5
          },
          "pattern": {
           "shape": ""
          }
         },
         "name": "RT2_Env9_RT3_Nef4",
         "offsetgroup": "RT2_Env9_RT3_Nef4",
         "orientation": "v",
         "showlegend": false,
         "type": "histogram",
         "x": [
          "RT-FS_0mM",
          "RT-FS_57mM",
          "RT-FS_85mM",
          "RT-US_0mM",
          "RT-US_57mM",
          "RT-US_85mM"
         ],
         "xaxis": "x2",
         "y": [
          14821,
          27612,
          33381,
          8,
          14,
          12
         ],
         "yaxis": "y2"
        },
        {
         "alignmentgroup": "True",
         "bingroup": "x",
         "histfunc": "sum",
         "hovertemplate": "isoform_id=RT2_Env13_RT3_Nef5<br>replicate=Rep1<br>RT_and_DMS=%{x}<br>sum of count (normalized as percent)=%{y}<extra></extra>",
         "legendgroup": "RT2_Env13_RT3_Nef5",
         "marker": {
          "color": "rgb(26,188,156)",
          "line": {
           "color": "black",
           "width": 0.5
          },
          "pattern": {
           "shape": ""
          }
         },
         "name": "RT2_Env13_RT3_Nef5",
         "offsetgroup": "RT2_Env13_RT3_Nef5",
         "orientation": "v",
         "showlegend": true,
         "type": "histogram",
         "x": [
          "RT-FS_0mM",
          "RT-FS_57mM",
          "RT-FS_85mM",
          "RT-US_0mM",
          "RT-US_57mM",
          "RT-US_85mM"
         ],
         "xaxis": "x",
         "y": [
          15393,
          23000,
          24702,
          90,
          57,
          80
         ],
         "yaxis": "y"
        },
        {
         "alignmentgroup": "True",
         "bingroup": "x",
         "histfunc": "sum",
         "hovertemplate": "isoform_id=RT2_Env13_RT3_Nef5<br>replicate=Rep2<br>RT_and_DMS=%{x}<br>sum of count (normalized as percent)=%{y}<extra></extra>",
         "legendgroup": "RT2_Env13_RT3_Nef5",
         "marker": {
          "color": "rgb(26,188,156)",
          "line": {
           "color": "black",
           "width": 0.5
          },
          "pattern": {
           "shape": ""
          }
         },
         "name": "RT2_Env13_RT3_Nef5",
         "offsetgroup": "RT2_Env13_RT3_Nef5",
         "orientation": "v",
         "showlegend": false,
         "type": "histogram",
         "x": [
          "RT-FS_0mM",
          "RT-FS_57mM",
          "RT-FS_85mM",
          "RT-US_0mM",
          "RT-US_57mM",
          "RT-US_85mM"
         ],
         "xaxis": "x2",
         "y": [
          12649,
          25019,
          29470,
          145,
          271,
          188
         ],
         "yaxis": "y2"
        },
        {
         "alignmentgroup": "True",
         "bingroup": "x",
         "histfunc": "sum",
         "hovertemplate": "isoform_id=RT2_Env17_RT3_Nef9<br>replicate=Rep1<br>RT_and_DMS=%{x}<br>sum of count (normalized as percent)=%{y}<extra></extra>",
         "legendgroup": "RT2_Env17_RT3_Nef9",
         "marker": {
          "color": "rgb(72,201,176)",
          "line": {
           "color": "black",
           "width": 0.5
          },
          "pattern": {
           "shape": ""
          }
         },
         "name": "RT2_Env17_RT3_Nef9",
         "offsetgroup": "RT2_Env17_RT3_Nef9",
         "orientation": "v",
         "showlegend": true,
         "type": "histogram",
         "x": [
          "RT-FS_0mM",
          "RT-FS_57mM",
          "RT-FS_85mM"
         ],
         "xaxis": "x",
         "y": [
          497,
          645,
          747
         ],
         "yaxis": "y"
        },
        {
         "alignmentgroup": "True",
         "bingroup": "x",
         "histfunc": "sum",
         "hovertemplate": "isoform_id=RT2_Env17_RT3_Nef9<br>replicate=Rep2<br>RT_and_DMS=%{x}<br>sum of count (normalized as percent)=%{y}<extra></extra>",
         "legendgroup": "RT2_Env17_RT3_Nef9",
         "marker": {
          "color": "rgb(72,201,176)",
          "line": {
           "color": "black",
           "width": 0.5
          },
          "pattern": {
           "shape": ""
          }
         },
         "name": "RT2_Env17_RT3_Nef9",
         "offsetgroup": "RT2_Env17_RT3_Nef9",
         "orientation": "v",
         "showlegend": false,
         "type": "histogram",
         "x": [
          "RT-FS_0mM",
          "RT-FS_57mM",
          "RT-FS_85mM",
          "RT-US_85mM"
         ],
         "xaxis": "x2",
         "y": [
          276,
          459,
          499,
          1
         ],
         "yaxis": "y2"
        },
        {
         "alignmentgroup": "True",
         "bingroup": "x",
         "histfunc": "sum",
         "hovertemplate": "isoform_id=RT2_Env20_RT3_Nef11<br>replicate=Rep1<br>RT_and_DMS=%{x}<br>sum of count (normalized as percent)=%{y}<extra></extra>",
         "legendgroup": "RT2_Env20_RT3_Nef11",
         "marker": {
          "color": "rgb(118,215,196)",
          "line": {
           "color": "black",
           "width": 0.5
          },
          "pattern": {
           "shape": ""
          }
         },
         "name": "RT2_Env20_RT3_Nef11",
         "offsetgroup": "RT2_Env20_RT3_Nef11",
         "orientation": "v",
         "showlegend": true,
         "type": "histogram",
         "x": [
          "RT-FS_0mM",
          "RT-FS_57mM",
          "RT-FS_85mM"
         ],
         "xaxis": "x",
         "y": [
          351,
          508,
          603
         ],
         "yaxis": "y"
        },
        {
         "alignmentgroup": "True",
         "bingroup": "x",
         "histfunc": "sum",
         "hovertemplate": "isoform_id=RT2_Env20_RT3_Nef11<br>replicate=Rep2<br>RT_and_DMS=%{x}<br>sum of count (normalized as percent)=%{y}<extra></extra>",
         "legendgroup": "RT2_Env20_RT3_Nef11",
         "marker": {
          "color": "rgb(118,215,196)",
          "line": {
           "color": "black",
           "width": 0.5
          },
          "pattern": {
           "shape": ""
          }
         },
         "name": "RT2_Env20_RT3_Nef11",
         "offsetgroup": "RT2_Env20_RT3_Nef11",
         "orientation": "v",
         "showlegend": false,
         "type": "histogram",
         "x": [
          "RT-FS_0mM",
          "RT-FS_57mM",
          "RT-FS_85mM"
         ],
         "xaxis": "x2",
         "y": [
          106,
          478,
          534
         ],
         "yaxis": "y2"
        },
        {
         "alignmentgroup": "True",
         "bingroup": "x",
         "histfunc": "sum",
         "hovertemplate": "isoform_id=RT2_Env19_RT3_Nef12<br>replicate=Rep1<br>RT_and_DMS=%{x}<br>sum of count (normalized as percent)=%{y}<extra></extra>",
         "legendgroup": "RT2_Env19_RT3_Nef12",
         "marker": {
          "color": "rgb(163,228,215)",
          "line": {
           "color": "black",
           "width": 0.5
          },
          "pattern": {
           "shape": ""
          }
         },
         "name": "RT2_Env19_RT3_Nef12",
         "offsetgroup": "RT2_Env19_RT3_Nef12",
         "orientation": "v",
         "showlegend": true,
         "type": "histogram",
         "x": [
          "RT-FS_0mM",
          "RT-FS_57mM",
          "RT-FS_85mM"
         ],
         "xaxis": "x",
         "y": [
          52,
          84,
          102
         ],
         "yaxis": "y"
        },
        {
         "alignmentgroup": "True",
         "bingroup": "x",
         "histfunc": "sum",
         "hovertemplate": "isoform_id=RT2_Env19_RT3_Nef12<br>replicate=Rep2<br>RT_and_DMS=%{x}<br>sum of count (normalized as percent)=%{y}<extra></extra>",
         "legendgroup": "RT2_Env19_RT3_Nef12",
         "marker": {
          "color": "rgb(163,228,215)",
          "line": {
           "color": "black",
           "width": 0.5
          },
          "pattern": {
           "shape": ""
          }
         },
         "name": "RT2_Env19_RT3_Nef12",
         "offsetgroup": "RT2_Env19_RT3_Nef12",
         "orientation": "v",
         "showlegend": false,
         "type": "histogram",
         "x": [
          "RT-FS_0mM",
          "RT-FS_57mM",
          "RT-FS_85mM"
         ],
         "xaxis": "x2",
         "y": [
          29,
          57,
          79
         ],
         "yaxis": "y2"
        },
        {
         "alignmentgroup": "True",
         "bingroup": "x",
         "histfunc": "sum",
         "hovertemplate": "isoform_id=RT3_Nef15<br>replicate=Rep1<br>RT_and_DMS=%{x}<br>sum of count (normalized as percent)=%{y}<extra></extra>",
         "legendgroup": "RT3_Nef15",
         "marker": {
          "color": "rgb(29,131,72)",
          "line": {
           "color": "black",
           "width": 0.5
          },
          "pattern": {
           "shape": ""
          }
         },
         "name": "RT3_Nef15",
         "offsetgroup": "RT3_Nef15",
         "orientation": "v",
         "showlegend": true,
         "type": "histogram",
         "x": [
          "RT-FS_0mM",
          "RT-FS_57mM",
          "RT-FS_85mM"
         ],
         "xaxis": "x",
         "y": [
          70,
          152,
          168
         ],
         "yaxis": "y"
        },
        {
         "alignmentgroup": "True",
         "bingroup": "x",
         "histfunc": "sum",
         "hovertemplate": "isoform_id=RT3_Nef15<br>replicate=Rep2<br>RT_and_DMS=%{x}<br>sum of count (normalized as percent)=%{y}<extra></extra>",
         "legendgroup": "RT3_Nef15",
         "marker": {
          "color": "rgb(29,131,72)",
          "line": {
           "color": "black",
           "width": 0.5
          },
          "pattern": {
           "shape": ""
          }
         },
         "name": "RT3_Nef15",
         "offsetgroup": "RT3_Nef15",
         "orientation": "v",
         "showlegend": false,
         "type": "histogram",
         "x": [
          "RT-FS_0mM",
          "RT-FS_57mM",
          "RT-FS_85mM",
          "RT-US_57mM"
         ],
         "xaxis": "x2",
         "y": [
          31,
          96,
          111,
          1
         ],
         "yaxis": "y2"
        },
        {
         "alignmentgroup": "True",
         "bingroup": "x",
         "histfunc": "sum",
         "hovertemplate": "isoform_id=RT3_Nef16<br>replicate=Rep1<br>RT_and_DMS=%{x}<br>sum of count (normalized as percent)=%{y}<extra></extra>",
         "legendgroup": "RT3_Nef16",
         "marker": {
          "color": "rgb(35,155,86)",
          "line": {
           "color": "black",
           "width": 0.5
          },
          "pattern": {
           "shape": ""
          }
         },
         "name": "RT3_Nef16",
         "offsetgroup": "RT3_Nef16",
         "orientation": "v",
         "showlegend": true,
         "type": "histogram",
         "x": [
          "RT-FS_0mM",
          "RT-FS_57mM",
          "RT-FS_85mM"
         ],
         "xaxis": "x",
         "y": [
          1,
          4,
          1
         ],
         "yaxis": "y"
        },
        {
         "alignmentgroup": "True",
         "bingroup": "x",
         "histfunc": "sum",
         "hovertemplate": "isoform_id=RT3_Nef16<br>replicate=Rep2<br>RT_and_DMS=%{x}<br>sum of count (normalized as percent)=%{y}<extra></extra>",
         "legendgroup": "RT3_Nef16",
         "marker": {
          "color": "rgb(35,155,86)",
          "line": {
           "color": "black",
           "width": 0.5
          },
          "pattern": {
           "shape": ""
          }
         },
         "name": "RT3_Nef16",
         "offsetgroup": "RT3_Nef16",
         "orientation": "v",
         "showlegend": false,
         "type": "histogram",
         "x": [
          "RT-FS_0mM",
          "RT-FS_85mM",
          "RT-US_85mM"
         ],
         "xaxis": "x2",
         "y": [
          1,
          1,
          1
         ],
         "yaxis": "y2"
        },
        {
         "alignmentgroup": "True",
         "bingroup": "x",
         "histfunc": "sum",
         "hovertemplate": "isoform_id=RT3_Nef19<br>replicate=Rep1<br>RT_and_DMS=%{x}<br>sum of count (normalized as percent)=%{y}<extra></extra>",
         "legendgroup": "RT3_Nef19",
         "marker": {
          "color": "rgb(40,180,99)",
          "line": {
           "color": "black",
           "width": 0.5
          },
          "pattern": {
           "shape": ""
          }
         },
         "name": "RT3_Nef19",
         "offsetgroup": "RT3_Nef19",
         "orientation": "v",
         "showlegend": true,
         "type": "histogram",
         "x": [
          "RT-FS_0mM",
          "RT-FS_57mM",
          "RT-FS_85mM"
         ],
         "xaxis": "x",
         "y": [
          171,
          272,
          306
         ],
         "yaxis": "y"
        },
        {
         "alignmentgroup": "True",
         "bingroup": "x",
         "histfunc": "sum",
         "hovertemplate": "isoform_id=RT3_Nef19<br>replicate=Rep2<br>RT_and_DMS=%{x}<br>sum of count (normalized as percent)=%{y}<extra></extra>",
         "legendgroup": "RT3_Nef19",
         "marker": {
          "color": "rgb(40,180,99)",
          "line": {
           "color": "black",
           "width": 0.5
          },
          "pattern": {
           "shape": ""
          }
         },
         "name": "RT3_Nef19",
         "offsetgroup": "RT3_Nef19",
         "orientation": "v",
         "showlegend": false,
         "type": "histogram",
         "x": [
          "RT-FS_0mM",
          "RT-FS_57mM",
          "RT-FS_85mM",
          "RT-US_0mM"
         ],
         "xaxis": "x2",
         "y": [
          54,
          198,
          276,
          1
         ],
         "yaxis": "y2"
        },
        {
         "alignmentgroup": "True",
         "bingroup": "x",
         "histfunc": "sum",
         "hovertemplate": "isoform_id=RT3_Nef20<br>replicate=Rep1<br>RT_and_DMS=%{x}<br>sum of count (normalized as percent)=%{y}<extra></extra>",
         "legendgroup": "RT3_Nef20",
         "marker": {
          "color": "rgb(46,204,113)",
          "line": {
           "color": "black",
           "width": 0.5
          },
          "pattern": {
           "shape": ""
          }
         },
         "name": "RT3_Nef20",
         "offsetgroup": "RT3_Nef20",
         "orientation": "v",
         "showlegend": true,
         "type": "histogram",
         "x": [
          "RT-FS_0mM",
          "RT-FS_57mM",
          "RT-FS_85mM"
         ],
         "xaxis": "x",
         "y": [
          66,
          125,
          122
         ],
         "yaxis": "y"
        },
        {
         "alignmentgroup": "True",
         "bingroup": "x",
         "histfunc": "sum",
         "hovertemplate": "isoform_id=RT3_Nef20<br>replicate=Rep2<br>RT_and_DMS=%{x}<br>sum of count (normalized as percent)=%{y}<extra></extra>",
         "legendgroup": "RT3_Nef20",
         "marker": {
          "color": "rgb(46,204,113)",
          "line": {
           "color": "black",
           "width": 0.5
          },
          "pattern": {
           "shape": ""
          }
         },
         "name": "RT3_Nef20",
         "offsetgroup": "RT3_Nef20",
         "orientation": "v",
         "showlegend": false,
         "type": "histogram",
         "x": [
          "RT-FS_0mM",
          "RT-FS_57mM",
          "RT-FS_85mM",
          "RT-US_0mM"
         ],
         "xaxis": "x2",
         "y": [
          32,
          74,
          102,
          1
         ],
         "yaxis": "y2"
        },
        {
         "alignmentgroup": "True",
         "bingroup": "x",
         "histfunc": "sum",
         "hovertemplate": "isoform_id=RT3_Nef22<br>replicate=Rep1<br>RT_and_DMS=%{x}<br>sum of count (normalized as percent)=%{y}<extra></extra>",
         "legendgroup": "RT3_Nef22",
         "marker": {
          "color": "rgb(88,214,141)",
          "line": {
           "color": "black",
           "width": 0.5
          },
          "pattern": {
           "shape": ""
          }
         },
         "name": "RT3_Nef22",
         "offsetgroup": "RT3_Nef22",
         "orientation": "v",
         "showlegend": true,
         "type": "histogram",
         "x": [
          "RT-FS_0mM",
          "RT-FS_57mM",
          "RT-FS_85mM"
         ],
         "xaxis": "x",
         "y": [
          54,
          76,
          108
         ],
         "yaxis": "y"
        },
        {
         "alignmentgroup": "True",
         "bingroup": "x",
         "histfunc": "sum",
         "hovertemplate": "isoform_id=RT3_Nef22<br>replicate=Rep2<br>RT_and_DMS=%{x}<br>sum of count (normalized as percent)=%{y}<extra></extra>",
         "legendgroup": "RT3_Nef22",
         "marker": {
          "color": "rgb(88,214,141)",
          "line": {
           "color": "black",
           "width": 0.5
          },
          "pattern": {
           "shape": ""
          }
         },
         "name": "RT3_Nef22",
         "offsetgroup": "RT3_Nef22",
         "orientation": "v",
         "showlegend": false,
         "type": "histogram",
         "x": [
          "RT-FS_0mM",
          "RT-FS_57mM",
          "RT-FS_85mM"
         ],
         "xaxis": "x2",
         "y": [
          35,
          68,
          78
         ],
         "yaxis": "y2"
        },
        {
         "alignmentgroup": "True",
         "bingroup": "x",
         "histfunc": "sum",
         "hovertemplate": "isoform_id=RT3_Nef23<br>replicate=Rep1<br>RT_and_DMS=%{x}<br>sum of count (normalized as percent)=%{y}<extra></extra>",
         "legendgroup": "RT3_Nef23",
         "marker": {
          "color": "rgb(130,224,170)",
          "line": {
           "color": "black",
           "width": 0.5
          },
          "pattern": {
           "shape": ""
          }
         },
         "name": "RT3_Nef23",
         "offsetgroup": "RT3_Nef23",
         "orientation": "v",
         "showlegend": true,
         "type": "histogram",
         "x": [
          "RT-FS_0mM",
          "RT-FS_57mM",
          "RT-FS_85mM"
         ],
         "xaxis": "x",
         "y": [
          8,
          6,
          13
         ],
         "yaxis": "y"
        },
        {
         "alignmentgroup": "True",
         "bingroup": "x",
         "histfunc": "sum",
         "hovertemplate": "isoform_id=RT3_Nef23<br>replicate=Rep2<br>RT_and_DMS=%{x}<br>sum of count (normalized as percent)=%{y}<extra></extra>",
         "legendgroup": "RT3_Nef23",
         "marker": {
          "color": "rgb(130,224,170)",
          "line": {
           "color": "black",
           "width": 0.5
          },
          "pattern": {
           "shape": ""
          }
         },
         "name": "RT3_Nef23",
         "offsetgroup": "RT3_Nef23",
         "orientation": "v",
         "showlegend": false,
         "type": "histogram",
         "x": [
          "RT-FS_57mM",
          "RT-FS_85mM"
         ],
         "xaxis": "x2",
         "y": [
          7,
          11
         ],
         "yaxis": "y2"
        },
        {
         "alignmentgroup": "True",
         "bingroup": "x",
         "histfunc": "sum",
         "hovertemplate": "isoform_id=RT2_Env2_RT3_Rev1<br>replicate=Rep1<br>RT_and_DMS=%{x}<br>sum of count (normalized as percent)=%{y}<extra></extra>",
         "legendgroup": "RT2_Env2_RT3_Rev1",
         "marker": {
          "color": "rgb(147,81,22)",
          "line": {
           "color": "black",
           "width": 0.5
          },
          "pattern": {
           "shape": ""
          }
         },
         "name": "RT2_Env2_RT3_Rev1",
         "offsetgroup": "RT2_Env2_RT3_Rev1",
         "orientation": "v",
         "showlegend": true,
         "type": "histogram",
         "x": [
          "RT-FS_0mM",
          "RT-FS_57mM",
          "RT-FS_85mM",
          "RT-US_0mM",
          "RT-US_57mM",
          "RT-US_85mM"
         ],
         "xaxis": "x",
         "y": [
          5275,
          7656,
          8627,
          8,
          7,
          6
         ],
         "yaxis": "y"
        },
        {
         "alignmentgroup": "True",
         "bingroup": "x",
         "histfunc": "sum",
         "hovertemplate": "isoform_id=RT2_Env2_RT3_Rev1<br>replicate=Rep2<br>RT_and_DMS=%{x}<br>sum of count (normalized as percent)=%{y}<extra></extra>",
         "legendgroup": "RT2_Env2_RT3_Rev1",
         "marker": {
          "color": "rgb(147,81,22)",
          "line": {
           "color": "black",
           "width": 0.5
          },
          "pattern": {
           "shape": ""
          }
         },
         "name": "RT2_Env2_RT3_Rev1",
         "offsetgroup": "RT2_Env2_RT3_Rev1",
         "orientation": "v",
         "showlegend": false,
         "type": "histogram",
         "x": [
          "RT-FS_0mM",
          "RT-FS_57mM",
          "RT-FS_85mM",
          "RT-US_0mM",
          "RT-US_57mM",
          "RT-US_85mM"
         ],
         "xaxis": "x2",
         "y": [
          2849,
          6773,
          8059,
          2,
          4,
          1
         ],
         "yaxis": "y2"
        },
        {
         "alignmentgroup": "True",
         "bingroup": "x",
         "histfunc": "sum",
         "hovertemplate": "isoform_id=RT2_Env3_RT3_Rev2<br>replicate=Rep1<br>RT_and_DMS=%{x}<br>sum of count (normalized as percent)=%{y}<extra></extra>",
         "legendgroup": "RT2_Env3_RT3_Rev2",
         "marker": {
          "color": "rgb(175,96,26)",
          "line": {
           "color": "black",
           "width": 0.5
          },
          "pattern": {
           "shape": ""
          }
         },
         "name": "RT2_Env3_RT3_Rev2",
         "offsetgroup": "RT2_Env3_RT3_Rev2",
         "orientation": "v",
         "showlegend": true,
         "type": "histogram",
         "x": [
          "RT-FS_0mM",
          "RT-FS_57mM",
          "RT-FS_85mM",
          "RT-US_0mM",
          "RT-US_57mM",
          "RT-US_85mM"
         ],
         "xaxis": "x",
         "y": [
          5914,
          7812,
          8843,
          4,
          3,
          7
         ],
         "yaxis": "y"
        },
        {
         "alignmentgroup": "True",
         "bingroup": "x",
         "histfunc": "sum",
         "hovertemplate": "isoform_id=RT2_Env3_RT3_Rev2<br>replicate=Rep2<br>RT_and_DMS=%{x}<br>sum of count (normalized as percent)=%{y}<extra></extra>",
         "legendgroup": "RT2_Env3_RT3_Rev2",
         "marker": {
          "color": "rgb(175,96,26)",
          "line": {
           "color": "black",
           "width": 0.5
          },
          "pattern": {
           "shape": ""
          }
         },
         "name": "RT2_Env3_RT3_Rev2",
         "offsetgroup": "RT2_Env3_RT3_Rev2",
         "orientation": "v",
         "showlegend": false,
         "type": "histogram",
         "x": [
          "RT-FS_0mM",
          "RT-FS_57mM",
          "RT-FS_85mM",
          "RT-US_0mM",
          "RT-US_57mM",
          "RT-US_85mM"
         ],
         "xaxis": "x2",
         "y": [
          3824,
          6911,
          7703,
          2,
          4,
          7
         ],
         "yaxis": "y2"
        },
        {
         "alignmentgroup": "True",
         "bingroup": "x",
         "histfunc": "sum",
         "hovertemplate": "isoform_id=RT2_Env4_RT3_Rev3<br>replicate=Rep1<br>RT_and_DMS=%{x}<br>sum of count (normalized as percent)=%{y}<extra></extra>",
         "legendgroup": "RT2_Env4_RT3_Rev3",
         "marker": {
          "color": "rgb(202,111,30)",
          "line": {
           "color": "black",
           "width": 0.5
          },
          "pattern": {
           "shape": ""
          }
         },
         "name": "RT2_Env4_RT3_Rev3",
         "offsetgroup": "RT2_Env4_RT3_Rev3",
         "orientation": "v",
         "showlegend": true,
         "type": "histogram",
         "x": [
          "RT-FS_0mM",
          "RT-FS_57mM",
          "RT-FS_85mM",
          "RT-US_0mM",
          "RT-US_57mM",
          "RT-US_85mM"
         ],
         "xaxis": "x",
         "y": [
          1129,
          1659,
          1896,
          4,
          6,
          4
         ],
         "yaxis": "y"
        },
        {
         "alignmentgroup": "True",
         "bingroup": "x",
         "histfunc": "sum",
         "hovertemplate": "isoform_id=RT2_Env4_RT3_Rev3<br>replicate=Rep2<br>RT_and_DMS=%{x}<br>sum of count (normalized as percent)=%{y}<extra></extra>",
         "legendgroup": "RT2_Env4_RT3_Rev3",
         "marker": {
          "color": "rgb(202,111,30)",
          "line": {
           "color": "black",
           "width": 0.5
          },
          "pattern": {
           "shape": ""
          }
         },
         "name": "RT2_Env4_RT3_Rev3",
         "offsetgroup": "RT2_Env4_RT3_Rev3",
         "orientation": "v",
         "showlegend": false,
         "type": "histogram",
         "x": [
          "RT-FS_0mM",
          "RT-FS_57mM",
          "RT-FS_85mM",
          "RT-US_0mM",
          "RT-US_85mM"
         ],
         "xaxis": "x2",
         "y": [
          680,
          1312,
          1617,
          10,
          23
         ],
         "yaxis": "y2"
        },
        {
         "alignmentgroup": "True",
         "bingroup": "x",
         "histfunc": "sum",
         "hovertemplate": "isoform_id=RT2_Env6_RT3_Rev4<br>replicate=Rep1<br>RT_and_DMS=%{x}<br>sum of count (normalized as percent)=%{y}<extra></extra>",
         "legendgroup": "RT2_Env6_RT3_Rev4",
         "marker": {
          "color": "rgb(230,126,34)",
          "line": {
           "color": "black",
           "width": 0.5
          },
          "pattern": {
           "shape": ""
          }
         },
         "name": "RT2_Env6_RT3_Rev4",
         "offsetgroup": "RT2_Env6_RT3_Rev4",
         "orientation": "v",
         "showlegend": true,
         "type": "histogram",
         "x": [
          "RT-FS_0mM",
          "RT-FS_57mM",
          "RT-FS_85mM",
          "RT-US_0mM",
          "RT-US_57mM",
          "RT-US_85mM"
         ],
         "xaxis": "x",
         "y": [
          805,
          1319,
          1440,
          2,
          1,
          2
         ],
         "yaxis": "y"
        },
        {
         "alignmentgroup": "True",
         "bingroup": "x",
         "histfunc": "sum",
         "hovertemplate": "isoform_id=RT2_Env6_RT3_Rev4<br>replicate=Rep2<br>RT_and_DMS=%{x}<br>sum of count (normalized as percent)=%{y}<extra></extra>",
         "legendgroup": "RT2_Env6_RT3_Rev4",
         "marker": {
          "color": "rgb(230,126,34)",
          "line": {
           "color": "black",
           "width": 0.5
          },
          "pattern": {
           "shape": ""
          }
         },
         "name": "RT2_Env6_RT3_Rev4",
         "offsetgroup": "RT2_Env6_RT3_Rev4",
         "orientation": "v",
         "showlegend": false,
         "type": "histogram",
         "x": [
          "RT-FS_0mM",
          "RT-FS_57mM",
          "RT-FS_85mM",
          "RT-US_57mM",
          "RT-US_85mM"
         ],
         "xaxis": "x2",
         "y": [
          404,
          1404,
          1613,
          2,
          1
         ],
         "yaxis": "y2"
        },
        {
         "alignmentgroup": "True",
         "bingroup": "x",
         "histfunc": "sum",
         "hovertemplate": "isoform_id=RT2_Env7_RT3_Rev5<br>replicate=Rep1<br>RT_and_DMS=%{x}<br>sum of count (normalized as percent)=%{y}<extra></extra>",
         "legendgroup": "RT2_Env7_RT3_Rev5",
         "marker": {
          "color": "rgb(235,152,78)",
          "line": {
           "color": "black",
           "width": 0.5
          },
          "pattern": {
           "shape": ""
          }
         },
         "name": "RT2_Env7_RT3_Rev5",
         "offsetgroup": "RT2_Env7_RT3_Rev5",
         "orientation": "v",
         "showlegend": true,
         "type": "histogram",
         "x": [
          "RT-FS_0mM",
          "RT-FS_57mM",
          "RT-FS_85mM"
         ],
         "xaxis": "x",
         "y": [
          672,
          1023,
          1226
         ],
         "yaxis": "y"
        },
        {
         "alignmentgroup": "True",
         "bingroup": "x",
         "histfunc": "sum",
         "hovertemplate": "isoform_id=RT2_Env7_RT3_Rev5<br>replicate=Rep2<br>RT_and_DMS=%{x}<br>sum of count (normalized as percent)=%{y}<extra></extra>",
         "legendgroup": "RT2_Env7_RT3_Rev5",
         "marker": {
          "color": "rgb(235,152,78)",
          "line": {
           "color": "black",
           "width": 0.5
          },
          "pattern": {
           "shape": ""
          }
         },
         "name": "RT2_Env7_RT3_Rev5",
         "offsetgroup": "RT2_Env7_RT3_Rev5",
         "orientation": "v",
         "showlegend": false,
         "type": "histogram",
         "x": [
          "RT-FS_0mM",
          "RT-FS_57mM",
          "RT-FS_85mM",
          "RT-US_57mM"
         ],
         "xaxis": "x2",
         "y": [
          409,
          1074,
          1258,
          1
         ],
         "yaxis": "y2"
        },
        {
         "alignmentgroup": "True",
         "bingroup": "x",
         "histfunc": "sum",
         "hovertemplate": "isoform_id=RT2_Env8_RT3_Rev6<br>replicate=Rep1<br>RT_and_DMS=%{x}<br>sum of count (normalized as percent)=%{y}<extra></extra>",
         "legendgroup": "RT2_Env8_RT3_Rev6",
         "marker": {
          "color": "rgb(240,178,122)",
          "line": {
           "color": "black",
           "width": 0.5
          },
          "pattern": {
           "shape": ""
          }
         },
         "name": "RT2_Env8_RT3_Rev6",
         "offsetgroup": "RT2_Env8_RT3_Rev6",
         "orientation": "v",
         "showlegend": true,
         "type": "histogram",
         "x": [
          "RT-FS_0mM",
          "RT-FS_57mM",
          "RT-FS_85mM"
         ],
         "xaxis": "x",
         "y": [
          118,
          190,
          218
         ],
         "yaxis": "y"
        },
        {
         "alignmentgroup": "True",
         "bingroup": "x",
         "histfunc": "sum",
         "hovertemplate": "isoform_id=RT2_Env8_RT3_Rev6<br>replicate=Rep2<br>RT_and_DMS=%{x}<br>sum of count (normalized as percent)=%{y}<extra></extra>",
         "legendgroup": "RT2_Env8_RT3_Rev6",
         "marker": {
          "color": "rgb(240,178,122)",
          "line": {
           "color": "black",
           "width": 0.5
          },
          "pattern": {
           "shape": ""
          }
         },
         "name": "RT2_Env8_RT3_Rev6",
         "offsetgroup": "RT2_Env8_RT3_Rev6",
         "orientation": "v",
         "showlegend": false,
         "type": "histogram",
         "x": [
          "RT-FS_0mM",
          "RT-FS_57mM",
          "RT-FS_85mM"
         ],
         "xaxis": "x2",
         "y": [
          68,
          190,
          212
         ],
         "yaxis": "y2"
        },
        {
         "alignmentgroup": "True",
         "bingroup": "x",
         "histfunc": "sum",
         "hovertemplate": "isoform_id=RT2_Env10_RT3_Rev7<br>replicate=Rep1<br>RT_and_DMS=%{x}<br>sum of count (normalized as percent)=%{y}<extra></extra>",
         "legendgroup": "RT2_Env10_RT3_Rev7",
         "marker": {
          "color": "rgb(185,119,14)",
          "line": {
           "color": "black",
           "width": 0.5
          },
          "pattern": {
           "shape": ""
          }
         },
         "name": "RT2_Env10_RT3_Rev7",
         "offsetgroup": "RT2_Env10_RT3_Rev7",
         "orientation": "v",
         "showlegend": true,
         "type": "histogram",
         "x": [
          "RT-FS_0mM",
          "RT-FS_57mM",
          "RT-FS_85mM",
          "RT-US_0mM",
          "RT-US_57mM",
          "RT-US_85mM"
         ],
         "xaxis": "x",
         "y": [
          3995,
          5907,
          6411,
          3,
          9,
          6
         ],
         "yaxis": "y"
        },
        {
         "alignmentgroup": "True",
         "bingroup": "x",
         "histfunc": "sum",
         "hovertemplate": "isoform_id=RT2_Env10_RT3_Rev7<br>replicate=Rep2<br>RT_and_DMS=%{x}<br>sum of count (normalized as percent)=%{y}<extra></extra>",
         "legendgroup": "RT2_Env10_RT3_Rev7",
         "marker": {
          "color": "rgb(185,119,14)",
          "line": {
           "color": "black",
           "width": 0.5
          },
          "pattern": {
           "shape": ""
          }
         },
         "name": "RT2_Env10_RT3_Rev7",
         "offsetgroup": "RT2_Env10_RT3_Rev7",
         "orientation": "v",
         "showlegend": false,
         "type": "histogram",
         "x": [
          "RT-FS_0mM",
          "RT-FS_57mM",
          "RT-FS_85mM",
          "RT-US_0mM",
          "RT-US_57mM",
          "RT-US_85mM"
         ],
         "xaxis": "x2",
         "y": [
          3091,
          6628,
          8119,
          2,
          1,
          1
         ],
         "yaxis": "y2"
        },
        {
         "alignmentgroup": "True",
         "bingroup": "x",
         "histfunc": "sum",
         "hovertemplate": "isoform_id=RT2_Env11_RT3_Rev8<br>replicate=Rep1<br>RT_and_DMS=%{x}<br>sum of count (normalized as percent)=%{y}<extra></extra>",
         "legendgroup": "RT2_Env11_RT3_Rev8",
         "marker": {
          "color": "rgb(214,137,16)",
          "line": {
           "color": "black",
           "width": 0.5
          },
          "pattern": {
           "shape": ""
          }
         },
         "name": "RT2_Env11_RT3_Rev8",
         "offsetgroup": "RT2_Env11_RT3_Rev8",
         "orientation": "v",
         "showlegend": true,
         "type": "histogram",
         "x": [
          "RT-FS_0mM",
          "RT-FS_57mM",
          "RT-FS_85mM",
          "RT-US_0mM",
          "RT-US_57mM",
          "RT-US_85mM"
         ],
         "xaxis": "x",
         "y": [
          3036,
          4518,
          4648,
          4,
          1,
          11
         ],
         "yaxis": "y"
        },
        {
         "alignmentgroup": "True",
         "bingroup": "x",
         "histfunc": "sum",
         "hovertemplate": "isoform_id=RT2_Env11_RT3_Rev8<br>replicate=Rep2<br>RT_and_DMS=%{x}<br>sum of count (normalized as percent)=%{y}<extra></extra>",
         "legendgroup": "RT2_Env11_RT3_Rev8",
         "marker": {
          "color": "rgb(214,137,16)",
          "line": {
           "color": "black",
           "width": 0.5
          },
          "pattern": {
           "shape": ""
          }
         },
         "name": "RT2_Env11_RT3_Rev8",
         "offsetgroup": "RT2_Env11_RT3_Rev8",
         "orientation": "v",
         "showlegend": false,
         "type": "histogram",
         "x": [
          "RT-FS_0mM",
          "RT-FS_57mM",
          "RT-FS_85mM",
          "RT-US_0mM",
          "RT-US_57mM",
          "RT-US_85mM"
         ],
         "xaxis": "x2",
         "y": [
          2612,
          4911,
          5933,
          8,
          1,
          1
         ],
         "yaxis": "y2"
        },
        {
         "alignmentgroup": "True",
         "bingroup": "x",
         "histfunc": "sum",
         "hovertemplate": "isoform_id=RT2_Env12_RT3_Rev9<br>replicate=Rep1<br>RT_and_DMS=%{x}<br>sum of count (normalized as percent)=%{y}<extra></extra>",
         "legendgroup": "RT2_Env12_RT3_Rev9",
         "marker": {
          "color": "rgb(243,156,18)",
          "line": {
           "color": "black",
           "width": 0.5
          },
          "pattern": {
           "shape": ""
          }
         },
         "name": "RT2_Env12_RT3_Rev9",
         "offsetgroup": "RT2_Env12_RT3_Rev9",
         "orientation": "v",
         "showlegend": true,
         "type": "histogram",
         "x": [
          "RT-FS_0mM",
          "RT-FS_57mM",
          "RT-FS_85mM",
          "RT-US_0mM",
          "RT-US_57mM",
          "RT-US_85mM"
         ],
         "xaxis": "x",
         "y": [
          588,
          897,
          879,
          2,
          3,
          2
         ],
         "yaxis": "y"
        },
        {
         "alignmentgroup": "True",
         "bingroup": "x",
         "histfunc": "sum",
         "hovertemplate": "isoform_id=RT2_Env12_RT3_Rev9<br>replicate=Rep2<br>RT_and_DMS=%{x}<br>sum of count (normalized as percent)=%{y}<extra></extra>",
         "legendgroup": "RT2_Env12_RT3_Rev9",
         "marker": {
          "color": "rgb(243,156,18)",
          "line": {
           "color": "black",
           "width": 0.5
          },
          "pattern": {
           "shape": ""
          }
         },
         "name": "RT2_Env12_RT3_Rev9",
         "offsetgroup": "RT2_Env12_RT3_Rev9",
         "orientation": "v",
         "showlegend": false,
         "type": "histogram",
         "x": [
          "RT-FS_0mM",
          "RT-FS_57mM",
          "RT-FS_85mM",
          "RT-US_0mM",
          "RT-US_85mM"
         ],
         "xaxis": "x2",
         "y": [
          491,
          1138,
          1339,
          2,
          1
         ],
         "yaxis": "y2"
        },
        {
         "alignmentgroup": "True",
         "bingroup": "x",
         "histfunc": "sum",
         "hovertemplate": "isoform_id=RT2_Env14_RT3_Rev10<br>replicate=Rep1<br>RT_and_DMS=%{x}<br>sum of count (normalized as percent)=%{y}<extra></extra>",
         "legendgroup": "RT2_Env14_RT3_Rev10",
         "marker": {
          "color": "rgb(245,176,65)",
          "line": {
           "color": "black",
           "width": 0.5
          },
          "pattern": {
           "shape": ""
          }
         },
         "name": "RT2_Env14_RT3_Rev10",
         "offsetgroup": "RT2_Env14_RT3_Rev10",
         "orientation": "v",
         "showlegend": true,
         "type": "histogram",
         "x": [
          "RT-FS_0mM",
          "RT-FS_57mM",
          "RT-FS_85mM",
          "RT-US_0mM",
          "RT-US_57mM",
          "RT-US_85mM"
         ],
         "xaxis": "x",
         "y": [
          2416,
          3776,
          4082,
          2,
          2,
          6
         ],
         "yaxis": "y"
        },
        {
         "alignmentgroup": "True",
         "bingroup": "x",
         "histfunc": "sum",
         "hovertemplate": "isoform_id=RT2_Env14_RT3_Rev10<br>replicate=Rep2<br>RT_and_DMS=%{x}<br>sum of count (normalized as percent)=%{y}<extra></extra>",
         "legendgroup": "RT2_Env14_RT3_Rev10",
         "marker": {
          "color": "rgb(245,176,65)",
          "line": {
           "color": "black",
           "width": 0.5
          },
          "pattern": {
           "shape": ""
          }
         },
         "name": "RT2_Env14_RT3_Rev10",
         "offsetgroup": "RT2_Env14_RT3_Rev10",
         "orientation": "v",
         "showlegend": false,
         "type": "histogram",
         "x": [
          "RT-FS_0mM",
          "RT-FS_57mM",
          "RT-FS_85mM",
          "RT-US_0mM",
          "RT-US_57mM",
          "RT-US_85mM"
         ],
         "xaxis": "x2",
         "y": [
          2060,
          4984,
          5859,
          3,
          13,
          31
         ],
         "yaxis": "y2"
        },
        {
         "alignmentgroup": "True",
         "bingroup": "x",
         "histfunc": "sum",
         "hovertemplate": "isoform_id=RT2_Env15_RT3_Rev11<br>replicate=Rep1<br>RT_and_DMS=%{x}<br>sum of count (normalized as percent)=%{y}<extra></extra>",
         "legendgroup": "RT2_Env15_RT3_Rev11",
         "marker": {
          "color": "rgb(248,180,113)",
          "line": {
           "color": "black",
           "width": 0.5
          },
          "pattern": {
           "shape": ""
          }
         },
         "name": "RT2_Env15_RT3_Rev11",
         "offsetgroup": "RT2_Env15_RT3_Rev11",
         "orientation": "v",
         "showlegend": true,
         "type": "histogram",
         "x": [
          "RT-FS_0mM",
          "RT-FS_57mM",
          "RT-FS_85mM",
          "RT-US_0mM",
          "RT-US_57mM",
          "RT-US_85mM"
         ],
         "xaxis": "x",
         "y": [
          2050,
          3094,
          3117,
          6,
          4,
          4
         ],
         "yaxis": "y"
        },
        {
         "alignmentgroup": "True",
         "bingroup": "x",
         "histfunc": "sum",
         "hovertemplate": "isoform_id=RT2_Env15_RT3_Rev11<br>replicate=Rep2<br>RT_and_DMS=%{x}<br>sum of count (normalized as percent)=%{y}<extra></extra>",
         "legendgroup": "RT2_Env15_RT3_Rev11",
         "marker": {
          "color": "rgb(248,180,113)",
          "line": {
           "color": "black",
           "width": 0.5
          },
          "pattern": {
           "shape": ""
          }
         },
         "name": "RT2_Env15_RT3_Rev11",
         "offsetgroup": "RT2_Env15_RT3_Rev11",
         "orientation": "v",
         "showlegend": false,
         "type": "histogram",
         "x": [
          "RT-FS_0mM",
          "RT-FS_57mM",
          "RT-FS_85mM",
          "RT-US_0mM",
          "RT-US_57mM",
          "RT-US_85mM"
         ],
         "xaxis": "x2",
         "y": [
          2231,
          4002,
          4870,
          7,
          23,
          21
         ],
         "yaxis": "y2"
        },
        {
         "alignmentgroup": "True",
         "bingroup": "x",
         "histfunc": "sum",
         "hovertemplate": "isoform_id=RT3_Rev12<br>replicate=Rep1<br>RT_and_DMS=%{x}<br>sum of count (normalized as percent)=%{y}<extra></extra>",
         "legendgroup": "RT3_Rev12",
         "marker": {
          "color": "rgb(246,221,204)",
          "line": {
           "color": "black",
           "width": 0.5
          },
          "pattern": {
           "shape": ""
          }
         },
         "name": "RT3_Rev12",
         "offsetgroup": "RT3_Rev12",
         "orientation": "v",
         "showlegend": true,
         "type": "histogram",
         "x": [
          "RT-FS_0mM",
          "RT-FS_57mM",
          "RT-FS_85mM",
          "RT-US_57mM",
          "RT-US_85mM"
         ],
         "xaxis": "x",
         "y": [
          492,
          759,
          790,
          2,
          4
         ],
         "yaxis": "y"
        },
        {
         "alignmentgroup": "True",
         "bingroup": "x",
         "histfunc": "sum",
         "hovertemplate": "isoform_id=RT3_Rev12<br>replicate=Rep2<br>RT_and_DMS=%{x}<br>sum of count (normalized as percent)=%{y}<extra></extra>",
         "legendgroup": "RT3_Rev12",
         "marker": {
          "color": "rgb(246,221,204)",
          "line": {
           "color": "black",
           "width": 0.5
          },
          "pattern": {
           "shape": ""
          }
         },
         "name": "RT3_Rev12",
         "offsetgroup": "RT3_Rev12",
         "orientation": "v",
         "showlegend": false,
         "type": "histogram",
         "x": [
          "RT-FS_0mM",
          "RT-FS_57mM",
          "RT-FS_85mM",
          "RT-US_0mM",
          "RT-US_57mM",
          "RT-US_85mM"
         ],
         "xaxis": "x2",
         "y": [
          509,
          1211,
          1474,
          6,
          9,
          1
         ],
         "yaxis": "y2"
        },
        {
         "alignmentgroup": "True",
         "bingroup": "x",
         "histfunc": "sum",
         "hovertemplate": "isoform_id=RT2_Env18_RT3_Rev13<br>replicate=Rep1<br>RT_and_DMS=%{x}<br>sum of count (normalized as percent)=%{y}<extra></extra>",
         "legendgroup": "RT2_Env18_RT3_Rev13",
         "marker": {
          "color": "rgb(250,215,160)",
          "line": {
           "color": "black",
           "width": 0.5
          },
          "pattern": {
           "shape": ""
          }
         },
         "name": "RT2_Env18_RT3_Rev13",
         "offsetgroup": "RT2_Env18_RT3_Rev13",
         "orientation": "v",
         "showlegend": true,
         "type": "histogram",
         "x": [
          "RT-FS_0mM",
          "RT-FS_57mM",
          "RT-FS_85mM"
         ],
         "xaxis": "x",
         "y": [
          32,
          68,
          58
         ],
         "yaxis": "y"
        },
        {
         "alignmentgroup": "True",
         "bingroup": "x",
         "histfunc": "sum",
         "hovertemplate": "isoform_id=RT2_Env18_RT3_Rev13<br>replicate=Rep2<br>RT_and_DMS=%{x}<br>sum of count (normalized as percent)=%{y}<extra></extra>",
         "legendgroup": "RT2_Env18_RT3_Rev13",
         "marker": {
          "color": "rgb(250,215,160)",
          "line": {
           "color": "black",
           "width": 0.5
          },
          "pattern": {
           "shape": ""
          }
         },
         "name": "RT2_Env18_RT3_Rev13",
         "offsetgroup": "RT2_Env18_RT3_Rev13",
         "orientation": "v",
         "showlegend": false,
         "type": "histogram",
         "x": [
          "RT-FS_0mM",
          "RT-FS_57mM",
          "RT-FS_85mM",
          "RT-US_85mM"
         ],
         "xaxis": "x2",
         "y": [
          18,
          53,
          67,
          1
         ],
         "yaxis": "y2"
        },
        {
         "alignmentgroup": "True",
         "bingroup": "x",
         "histfunc": "sum",
         "hovertemplate": "isoform_id=RT2_Tat5_RT3_Tat1<br>replicate=Rep1<br>RT_and_DMS=%{x}<br>sum of count (normalized as percent)=%{y}<extra></extra>",
         "legendgroup": "RT2_Tat5_RT3_Tat1",
         "marker": {
          "color": "rgb(207,87,161)",
          "line": {
           "color": "black",
           "width": 0.5
          },
          "pattern": {
           "shape": ""
          }
         },
         "name": "RT2_Tat5_RT3_Tat1",
         "offsetgroup": "RT2_Tat5_RT3_Tat1",
         "orientation": "v",
         "showlegend": true,
         "type": "histogram",
         "x": [
          "RT-FS_0mM",
          "RT-FS_57mM",
          "RT-FS_85mM",
          "RT-US_0mM",
          "RT-US_57mM",
          "RT-US_85mM"
         ],
         "xaxis": "x",
         "y": [
          6270,
          7747,
          8270,
          15,
          10,
          13
         ],
         "yaxis": "y"
        },
        {
         "alignmentgroup": "True",
         "bingroup": "x",
         "histfunc": "sum",
         "hovertemplate": "isoform_id=RT2_Tat5_RT3_Tat1<br>replicate=Rep2<br>RT_and_DMS=%{x}<br>sum of count (normalized as percent)=%{y}<extra></extra>",
         "legendgroup": "RT2_Tat5_RT3_Tat1",
         "marker": {
          "color": "rgb(207,87,161)",
          "line": {
           "color": "black",
           "width": 0.5
          },
          "pattern": {
           "shape": ""
          }
         },
         "name": "RT2_Tat5_RT3_Tat1",
         "offsetgroup": "RT2_Tat5_RT3_Tat1",
         "orientation": "v",
         "showlegend": false,
         "type": "histogram",
         "x": [
          "RT-FS_0mM",
          "RT-FS_57mM",
          "RT-FS_85mM",
          "RT-US_0mM",
          "RT-US_57mM",
          "RT-US_85mM"
         ],
         "xaxis": "x2",
         "y": [
          5119,
          6079,
          6525,
          13,
          15,
          7
         ],
         "yaxis": "y2"
        },
        {
         "alignmentgroup": "True",
         "bingroup": "x",
         "histfunc": "sum",
         "hovertemplate": "isoform_id=RT2_Tat6_RT3_Tat2<br>replicate=Rep1<br>RT_and_DMS=%{x}<br>sum of count (normalized as percent)=%{y}<extra></extra>",
         "legendgroup": "RT2_Tat6_RT3_Tat2",
         "marker": {
          "color": "rgb(217,144,188)",
          "line": {
           "color": "black",
           "width": 0.5
          },
          "pattern": {
           "shape": ""
          }
         },
         "name": "RT2_Tat6_RT3_Tat2",
         "offsetgroup": "RT2_Tat6_RT3_Tat2",
         "orientation": "v",
         "showlegend": true,
         "type": "histogram",
         "x": [
          "RT-FS_0mM",
          "RT-FS_57mM",
          "RT-FS_85mM",
          "RT-US_0mM",
          "RT-US_57mM",
          "RT-US_85mM"
         ],
         "xaxis": "x",
         "y": [
          8692,
          10949,
          11224,
          18,
          19,
          19
         ],
         "yaxis": "y"
        },
        {
         "alignmentgroup": "True",
         "bingroup": "x",
         "histfunc": "sum",
         "hovertemplate": "isoform_id=RT2_Tat6_RT3_Tat2<br>replicate=Rep2<br>RT_and_DMS=%{x}<br>sum of count (normalized as percent)=%{y}<extra></extra>",
         "legendgroup": "RT2_Tat6_RT3_Tat2",
         "marker": {
          "color": "rgb(217,144,188)",
          "line": {
           "color": "black",
           "width": 0.5
          },
          "pattern": {
           "shape": ""
          }
         },
         "name": "RT2_Tat6_RT3_Tat2",
         "offsetgroup": "RT2_Tat6_RT3_Tat2",
         "orientation": "v",
         "showlegend": false,
         "type": "histogram",
         "x": [
          "RT-FS_0mM",
          "RT-FS_57mM",
          "RT-FS_85mM",
          "RT-US_0mM",
          "RT-US_57mM",
          "RT-US_85mM"
         ],
         "xaxis": "x2",
         "y": [
          9300,
          12458,
          14272,
          28,
          47,
          22
         ],
         "yaxis": "y2"
        },
        {
         "alignmentgroup": "True",
         "bingroup": "x",
         "histfunc": "sum",
         "hovertemplate": "isoform_id=RT2_Tat7_RT3_Tat3<br>replicate=Rep1<br>RT_and_DMS=%{x}<br>sum of count (normalized as percent)=%{y}<extra></extra>",
         "legendgroup": "RT2_Tat7_RT3_Tat3",
         "marker": {
          "color": "rgb(237,206,228)",
          "line": {
           "color": "black",
           "width": 0.5
          },
          "pattern": {
           "shape": ""
          }
         },
         "name": "RT2_Tat7_RT3_Tat3",
         "offsetgroup": "RT2_Tat7_RT3_Tat3",
         "orientation": "v",
         "showlegend": true,
         "type": "histogram",
         "x": [
          "RT-FS_0mM",
          "RT-FS_57mM",
          "RT-FS_85mM",
          "RT-US_0mM",
          "RT-US_57mM",
          "RT-US_85mM"
         ],
         "xaxis": "x",
         "y": [
          2826,
          3596,
          3585,
          13,
          11,
          13
         ],
         "yaxis": "y"
        },
        {
         "alignmentgroup": "True",
         "bingroup": "x",
         "histfunc": "sum",
         "hovertemplate": "isoform_id=RT2_Tat7_RT3_Tat3<br>replicate=Rep2<br>RT_and_DMS=%{x}<br>sum of count (normalized as percent)=%{y}<extra></extra>",
         "legendgroup": "RT2_Tat7_RT3_Tat3",
         "marker": {
          "color": "rgb(237,206,228)",
          "line": {
           "color": "black",
           "width": 0.5
          },
          "pattern": {
           "shape": ""
          }
         },
         "name": "RT2_Tat7_RT3_Tat3",
         "offsetgroup": "RT2_Tat7_RT3_Tat3",
         "orientation": "v",
         "showlegend": false,
         "type": "histogram",
         "x": [
          "RT-FS_0mM",
          "RT-FS_57mM",
          "RT-FS_85mM",
          "RT-US_0mM",
          "RT-US_57mM",
          "RT-US_85mM"
         ],
         "xaxis": "x2",
         "y": [
          3679,
          5019,
          6112,
          18,
          13,
          24
         ],
         "yaxis": "y2"
        },
        {
         "alignmentgroup": "True",
         "bingroup": "x",
         "histfunc": "sum",
         "hovertemplate": "isoform_id=RT2_Tat8_RT3_Tat4<br>replicate=Rep1<br>RT_and_DMS=%{x}<br>sum of count (normalized as percent)=%{y}<extra></extra>",
         "legendgroup": "RT2_Tat8_RT3_Tat4",
         "marker": {
          "color": "rgb(221,168,200)",
          "line": {
           "color": "black",
           "width": 0.5
          },
          "pattern": {
           "shape": ""
          }
         },
         "name": "RT2_Tat8_RT3_Tat4",
         "offsetgroup": "RT2_Tat8_RT3_Tat4",
         "orientation": "v",
         "showlegend": true,
         "type": "histogram",
         "x": [
          "RT-FS_0mM",
          "RT-FS_57mM",
          "RT-FS_85mM",
          "RT-US_0mM",
          "RT-US_57mM",
          "RT-US_85mM"
         ],
         "xaxis": "x",
         "y": [
          2674,
          3560,
          3539,
          9,
          10,
          14
         ],
         "yaxis": "y"
        },
        {
         "alignmentgroup": "True",
         "bingroup": "x",
         "histfunc": "sum",
         "hovertemplate": "isoform_id=RT2_Tat8_RT3_Tat4<br>replicate=Rep2<br>RT_and_DMS=%{x}<br>sum of count (normalized as percent)=%{y}<extra></extra>",
         "legendgroup": "RT2_Tat8_RT3_Tat4",
         "marker": {
          "color": "rgb(221,168,200)",
          "line": {
           "color": "black",
           "width": 0.5
          },
          "pattern": {
           "shape": ""
          }
         },
         "name": "RT2_Tat8_RT3_Tat4",
         "offsetgroup": "RT2_Tat8_RT3_Tat4",
         "orientation": "v",
         "showlegend": false,
         "type": "histogram",
         "x": [
          "RT-FS_0mM",
          "RT-FS_57mM",
          "RT-FS_85mM",
          "RT-US_0mM",
          "RT-US_57mM",
          "RT-US_85mM"
         ],
         "xaxis": "x2",
         "y": [
          3682,
          5754,
          6585,
          22,
          21,
          41
         ],
         "yaxis": "y2"
        },
        {
         "alignmentgroup": "True",
         "bingroup": "x",
         "histfunc": "sum",
         "hovertemplate": "isoform_id=RT2_Tat12_RT3_Tat9<br>replicate=Rep1<br>RT_and_DMS=%{x}<br>sum of count (normalized as percent)=%{y}<extra></extra>",
         "legendgroup": "RT2_Tat12_RT3_Tat9",
         "marker": {
          "color": "rgb(229,186,216)",
          "line": {
           "color": "black",
           "width": 0.5
          },
          "pattern": {
           "shape": ""
          }
         },
         "name": "RT2_Tat12_RT3_Tat9",
         "offsetgroup": "RT2_Tat12_RT3_Tat9",
         "orientation": "v",
         "showlegend": true,
         "type": "histogram",
         "x": [
          "RT-FS_0mM",
          "RT-FS_57mM",
          "RT-FS_85mM"
         ],
         "xaxis": "x",
         "y": [
          38,
          66,
          61
         ],
         "yaxis": "y"
        },
        {
         "alignmentgroup": "True",
         "bingroup": "x",
         "histfunc": "sum",
         "hovertemplate": "isoform_id=RT2_Tat12_RT3_Tat9<br>replicate=Rep2<br>RT_and_DMS=%{x}<br>sum of count (normalized as percent)=%{y}<extra></extra>",
         "legendgroup": "RT2_Tat12_RT3_Tat9",
         "marker": {
          "color": "rgb(229,186,216)",
          "line": {
           "color": "black",
           "width": 0.5
          },
          "pattern": {
           "shape": ""
          }
         },
         "name": "RT2_Tat12_RT3_Tat9",
         "offsetgroup": "RT2_Tat12_RT3_Tat9",
         "orientation": "v",
         "showlegend": false,
         "type": "histogram",
         "x": [
          "RT-FS_0mM",
          "RT-FS_57mM",
          "RT-FS_85mM"
         ],
         "xaxis": "x2",
         "y": [
          25,
          48,
          61
         ],
         "yaxis": "y2"
        },
        {
         "alignmentgroup": "True",
         "bingroup": "x",
         "histfunc": "sum",
         "hovertemplate": "isoform_id=RT3_Tat10<br>replicate=Rep1<br>RT_and_DMS=%{x}<br>sum of count (normalized as percent)=%{y}<extra></extra>",
         "legendgroup": "RT3_Tat10",
         "marker": {
          "color": "rgb(240,98,146)",
          "line": {
           "color": "black",
           "width": 0.5
          },
          "pattern": {
           "shape": ""
          }
         },
         "name": "RT3_Tat10",
         "offsetgroup": "RT3_Tat10",
         "orientation": "v",
         "showlegend": true,
         "type": "histogram",
         "x": [
          "RT-FS_0mM",
          "RT-FS_57mM",
          "RT-FS_85mM"
         ],
         "xaxis": "x",
         "y": [
          39,
          60,
          62
         ],
         "yaxis": "y"
        },
        {
         "alignmentgroup": "True",
         "bingroup": "x",
         "histfunc": "sum",
         "hovertemplate": "isoform_id=RT3_Tat10<br>replicate=Rep2<br>RT_and_DMS=%{x}<br>sum of count (normalized as percent)=%{y}<extra></extra>",
         "legendgroup": "RT3_Tat10",
         "marker": {
          "color": "rgb(240,98,146)",
          "line": {
           "color": "black",
           "width": 0.5
          },
          "pattern": {
           "shape": ""
          }
         },
         "name": "RT3_Tat10",
         "offsetgroup": "RT3_Tat10",
         "orientation": "v",
         "showlegend": false,
         "type": "histogram",
         "x": [
          "RT-FS_0mM",
          "RT-FS_57mM",
          "RT-FS_85mM"
         ],
         "xaxis": "x2",
         "y": [
          29,
          74,
          97
         ],
         "yaxis": "y2"
        },
        {
         "alignmentgroup": "True",
         "bingroup": "x",
         "histfunc": "sum",
         "hovertemplate": "isoform_id=RT3_Tat11<br>replicate=Rep1<br>RT_and_DMS=%{x}<br>sum of count (normalized as percent)=%{y}<extra></extra>",
         "legendgroup": "RT3_Tat11",
         "marker": {
          "color": "rgb(244,143,177)",
          "line": {
           "color": "black",
           "width": 0.5
          },
          "pattern": {
           "shape": ""
          }
         },
         "name": "RT3_Tat11",
         "offsetgroup": "RT3_Tat11",
         "orientation": "v",
         "showlegend": true,
         "type": "histogram",
         "x": [
          "RT-FS_0mM",
          "RT-FS_57mM",
          "RT-FS_85mM",
          "RT-US_0mM",
          "RT-US_57mM",
          "RT-US_85mM"
         ],
         "xaxis": "x",
         "y": [
          51,
          61,
          90,
          4,
          1,
          5
         ],
         "yaxis": "y"
        },
        {
         "alignmentgroup": "True",
         "bingroup": "x",
         "histfunc": "sum",
         "hovertemplate": "isoform_id=RT3_Tat11<br>replicate=Rep2<br>RT_and_DMS=%{x}<br>sum of count (normalized as percent)=%{y}<extra></extra>",
         "legendgroup": "RT3_Tat11",
         "marker": {
          "color": "rgb(244,143,177)",
          "line": {
           "color": "black",
           "width": 0.5
          },
          "pattern": {
           "shape": ""
          }
         },
         "name": "RT3_Tat11",
         "offsetgroup": "RT3_Tat11",
         "orientation": "v",
         "showlegend": false,
         "type": "histogram",
         "x": [
          "RT-FS_0mM",
          "RT-FS_57mM",
          "RT-FS_85mM",
          "RT-US_0mM",
          "RT-US_57mM",
          "RT-US_85mM"
         ],
         "xaxis": "x2",
         "y": [
          61,
          89,
          111,
          14,
          15,
          12
         ],
         "yaxis": "y2"
        },
        {
         "alignmentgroup": "True",
         "bingroup": "x",
         "histfunc": "sum",
         "hovertemplate": "isoform_id=RT3_Tat13<br>replicate=Rep1<br>RT_and_DMS=%{x}<br>sum of count (normalized as percent)=%{y}<extra></extra>",
         "legendgroup": "RT3_Tat13",
         "marker": {
          "color": "rgb(248,187,208)",
          "line": {
           "color": "black",
           "width": 0.5
          },
          "pattern": {
           "shape": ""
          }
         },
         "name": "RT3_Tat13",
         "offsetgroup": "RT3_Tat13",
         "orientation": "v",
         "showlegend": true,
         "type": "histogram",
         "x": [
          "RT-FS_0mM",
          "RT-FS_57mM",
          "RT-FS_85mM",
          "RT-US_57mM"
         ],
         "xaxis": "x",
         "y": [
          36,
          48,
          46,
          1
         ],
         "yaxis": "y"
        },
        {
         "alignmentgroup": "True",
         "bingroup": "x",
         "histfunc": "sum",
         "hovertemplate": "isoform_id=RT3_Tat13<br>replicate=Rep2<br>RT_and_DMS=%{x}<br>sum of count (normalized as percent)=%{y}<extra></extra>",
         "legendgroup": "RT3_Tat13",
         "marker": {
          "color": "rgb(248,187,208)",
          "line": {
           "color": "black",
           "width": 0.5
          },
          "pattern": {
           "shape": ""
          }
         },
         "name": "RT3_Tat13",
         "offsetgroup": "RT3_Tat13",
         "orientation": "v",
         "showlegend": false,
         "type": "histogram",
         "x": [
          "RT-FS_0mM",
          "RT-FS_57mM",
          "RT-FS_85mM"
         ],
         "xaxis": "x2",
         "y": [
          28,
          57,
          62
         ],
         "yaxis": "y2"
        },
        {
         "alignmentgroup": "True",
         "bingroup": "x",
         "histfunc": "sum",
         "hovertemplate": "isoform_id=RT3_Tat15<br>replicate=Rep1<br>RT_and_DMS=%{x}<br>sum of count (normalized as percent)=%{y}<extra></extra>",
         "legendgroup": "RT3_Tat15",
         "marker": {
          "color": "rgb(252,200,215)",
          "line": {
           "color": "black",
           "width": 0.5
          },
          "pattern": {
           "shape": ""
          }
         },
         "name": "RT3_Tat15",
         "offsetgroup": "RT3_Tat15",
         "orientation": "v",
         "showlegend": true,
         "type": "histogram",
         "x": [
          "RT-FS_0mM",
          "RT-FS_57mM",
          "RT-FS_85mM",
          "RT-US_85mM"
         ],
         "xaxis": "x",
         "y": [
          42,
          74,
          78,
          1
         ],
         "yaxis": "y"
        },
        {
         "alignmentgroup": "True",
         "bingroup": "x",
         "histfunc": "sum",
         "hovertemplate": "isoform_id=RT3_Tat15<br>replicate=Rep2<br>RT_and_DMS=%{x}<br>sum of count (normalized as percent)=%{y}<extra></extra>",
         "legendgroup": "RT3_Tat15",
         "marker": {
          "color": "rgb(252,200,215)",
          "line": {
           "color": "black",
           "width": 0.5
          },
          "pattern": {
           "shape": ""
          }
         },
         "name": "RT3_Tat15",
         "offsetgroup": "RT3_Tat15",
         "orientation": "v",
         "showlegend": false,
         "type": "histogram",
         "x": [
          "RT-FS_0mM",
          "RT-FS_57mM",
          "RT-FS_85mM",
          "RT-US_57mM"
         ],
         "xaxis": "x2",
         "y": [
          25,
          96,
          88,
          1
         ],
         "yaxis": "y2"
        },
        {
         "alignmentgroup": "True",
         "bingroup": "x",
         "histfunc": "sum",
         "hovertemplate": "isoform_id=RT3_Tat16<br>replicate=Rep1<br>RT_and_DMS=%{x}<br>sum of count (normalized as percent)=%{y}<extra></extra>",
         "legendgroup": "RT3_Tat16",
         "marker": {
          "color": "rgb(252,228,236)",
          "line": {
           "color": "black",
           "width": 0.5
          },
          "pattern": {
           "shape": ""
          }
         },
         "name": "RT3_Tat16",
         "offsetgroup": "RT3_Tat16",
         "orientation": "v",
         "showlegend": true,
         "type": "histogram",
         "x": [
          "RT-FS_0mM",
          "RT-FS_57mM",
          "RT-FS_85mM"
         ],
         "xaxis": "x",
         "y": [
          16,
          18,
          22
         ],
         "yaxis": "y"
        },
        {
         "alignmentgroup": "True",
         "bingroup": "x",
         "histfunc": "sum",
         "hovertemplate": "isoform_id=RT3_Tat16<br>replicate=Rep2<br>RT_and_DMS=%{x}<br>sum of count (normalized as percent)=%{y}<extra></extra>",
         "legendgroup": "RT3_Tat16",
         "marker": {
          "color": "rgb(252,228,236)",
          "line": {
           "color": "black",
           "width": 0.5
          },
          "pattern": {
           "shape": ""
          }
         },
         "name": "RT3_Tat16",
         "offsetgroup": "RT3_Tat16",
         "orientation": "v",
         "showlegend": false,
         "type": "histogram",
         "x": [
          "RT-FS_0mM",
          "RT-FS_57mM",
          "RT-FS_85mM",
          "RT-US_0mM"
         ],
         "xaxis": "x2",
         "y": [
          11,
          18,
          23,
          1
         ],
         "yaxis": "y2"
        },
        {
         "alignmentgroup": "True",
         "bingroup": "x",
         "histfunc": "sum",
         "hovertemplate": "isoform_id=RT2_Vif2_RT3_Vif1<br>replicate=Rep1<br>RT_and_DMS=%{x}<br>sum of count (normalized as percent)=%{y}<extra></extra>",
         "legendgroup": "RT2_Vif2_RT3_Vif1",
         "marker": {
          "color": "rgb(96,22,135)",
          "line": {
           "color": "black",
           "width": 0.5
          },
          "pattern": {
           "shape": ""
          }
         },
         "name": "RT2_Vif2_RT3_Vif1",
         "offsetgroup": "RT2_Vif2_RT3_Vif1",
         "orientation": "v",
         "showlegend": true,
         "type": "histogram",
         "x": [
          "RT-FS_0mM",
          "RT-FS_57mM",
          "RT-FS_85mM",
          "RT-US_0mM",
          "RT-US_57mM",
          "RT-US_85mM"
         ],
         "xaxis": "x",
         "y": [
          429,
          137,
          68,
          112,
          41,
          42
         ],
         "yaxis": "y"
        },
        {
         "alignmentgroup": "True",
         "bingroup": "x",
         "histfunc": "sum",
         "hovertemplate": "isoform_id=RT2_Vif2_RT3_Vif1<br>replicate=Rep2<br>RT_and_DMS=%{x}<br>sum of count (normalized as percent)=%{y}<extra></extra>",
         "legendgroup": "RT2_Vif2_RT3_Vif1",
         "marker": {
          "color": "rgb(96,22,135)",
          "line": {
           "color": "black",
           "width": 0.5
          },
          "pattern": {
           "shape": ""
          }
         },
         "name": "RT2_Vif2_RT3_Vif1",
         "offsetgroup": "RT2_Vif2_RT3_Vif1",
         "orientation": "v",
         "showlegend": false,
         "type": "histogram",
         "x": [
          "RT-FS_0mM",
          "RT-FS_57mM",
          "RT-FS_85mM",
          "RT-US_0mM",
          "RT-US_57mM",
          "RT-US_85mM"
         ],
         "xaxis": "x2",
         "y": [
          986,
          115,
          57,
          430,
          134,
          41
         ],
         "yaxis": "y2"
        },
        {
         "alignmentgroup": "True",
         "bingroup": "x",
         "histfunc": "sum",
         "hovertemplate": "isoform_id=RT2_Vif3_RT3_Vif6<br>replicate=Rep1<br>RT_and_DMS=%{x}<br>sum of count (normalized as percent)=%{y}<extra></extra>",
         "legendgroup": "RT2_Vif3_RT3_Vif6",
         "marker": {
          "color": "rgb(141,74,176)",
          "line": {
           "color": "black",
           "width": 0.5
          },
          "pattern": {
           "shape": ""
          }
         },
         "name": "RT2_Vif3_RT3_Vif6",
         "offsetgroup": "RT2_Vif3_RT3_Vif6",
         "orientation": "v",
         "showlegend": true,
         "type": "histogram",
         "x": [
          "RT-FS_57mM",
          "RT-FS_85mM",
          "RT-US_0mM",
          "RT-US_57mM"
         ],
         "xaxis": "x",
         "y": [
          1,
          3,
          2,
          1
         ],
         "yaxis": "y"
        },
        {
         "alignmentgroup": "True",
         "bingroup": "x",
         "histfunc": "sum",
         "hovertemplate": "isoform_id=RT2_Vif3_RT3_Vif6<br>replicate=Rep2<br>RT_and_DMS=%{x}<br>sum of count (normalized as percent)=%{y}<extra></extra>",
         "legendgroup": "RT2_Vif3_RT3_Vif6",
         "marker": {
          "color": "rgb(141,74,176)",
          "line": {
           "color": "black",
           "width": 0.5
          },
          "pattern": {
           "shape": ""
          }
         },
         "name": "RT2_Vif3_RT3_Vif6",
         "offsetgroup": "RT2_Vif3_RT3_Vif6",
         "orientation": "v",
         "showlegend": false,
         "type": "histogram",
         "x": [
          "RT-FS_0mM",
          "RT-FS_57mM",
          "RT-FS_85mM",
          "RT-US_57mM",
          "RT-US_85mM"
         ],
         "xaxis": "x2",
         "y": [
          10,
          2,
          2,
          3,
          3
         ],
         "yaxis": "y2"
        },
        {
         "alignmentgroup": "True",
         "bingroup": "x",
         "histfunc": "sum",
         "hovertemplate": "isoform_id=RT2_Vif4_RT3_Vif9<br>replicate=Rep1<br>RT_and_DMS=%{x}<br>sum of count (normalized as percent)=%{y}<extra></extra>",
         "legendgroup": "RT2_Vif4_RT3_Vif9",
         "marker": {
          "color": "rgb(170,89,212)",
          "line": {
           "color": "black",
           "width": 0.5
          },
          "pattern": {
           "shape": ""
          }
         },
         "name": "RT2_Vif4_RT3_Vif9",
         "offsetgroup": "RT2_Vif4_RT3_Vif9",
         "orientation": "v",
         "showlegend": true,
         "type": "histogram",
         "x": [
          "RT-FS_0mM",
          "RT-FS_57mM",
          "RT-FS_85mM",
          "RT-US_0mM",
          "RT-US_85mM"
         ],
         "xaxis": "x",
         "y": [
          3,
          3,
          4,
          1,
          2
         ],
         "yaxis": "y"
        },
        {
         "alignmentgroup": "True",
         "bingroup": "x",
         "histfunc": "sum",
         "hovertemplate": "isoform_id=RT2_Vif4_RT3_Vif9<br>replicate=Rep2<br>RT_and_DMS=%{x}<br>sum of count (normalized as percent)=%{y}<extra></extra>",
         "legendgroup": "RT2_Vif4_RT3_Vif9",
         "marker": {
          "color": "rgb(170,89,212)",
          "line": {
           "color": "black",
           "width": 0.5
          },
          "pattern": {
           "shape": ""
          }
         },
         "name": "RT2_Vif4_RT3_Vif9",
         "offsetgroup": "RT2_Vif4_RT3_Vif9",
         "orientation": "v",
         "showlegend": false,
         "type": "histogram",
         "x": [
          "RT-FS_0mM",
          "RT-FS_57mM",
          "RT-FS_85mM",
          "RT-US_0mM",
          "RT-US_57mM"
         ],
         "xaxis": "x2",
         "y": [
          6,
          3,
          1,
          2,
          1
         ],
         "yaxis": "y2"
        },
        {
         "alignmentgroup": "True",
         "bingroup": "x",
         "histfunc": "sum",
         "hovertemplate": "isoform_id=RT2_Vif5_RT3_Vif8<br>replicate=Rep1<br>RT_and_DMS=%{x}<br>sum of count (normalized as percent)=%{y}<extra></extra>",
         "legendgroup": "RT2_Vif5_RT3_Vif8",
         "marker": {
          "color": "rgb(204,108,255)",
          "line": {
           "color": "black",
           "width": 0.5
          },
          "pattern": {
           "shape": ""
          }
         },
         "name": "RT2_Vif5_RT3_Vif8",
         "offsetgroup": "RT2_Vif5_RT3_Vif8",
         "orientation": "v",
         "showlegend": true,
         "type": "histogram",
         "x": [
          "RT-FS_0mM",
          "RT-FS_57mM",
          "RT-FS_85mM",
          "RT-US_0mM"
         ],
         "xaxis": "x",
         "y": [
          1,
          5,
          4,
          1
         ],
         "yaxis": "y"
        },
        {
         "alignmentgroup": "True",
         "bingroup": "x",
         "histfunc": "sum",
         "hovertemplate": "isoform_id=RT2_Vif5_RT3_Vif8<br>replicate=Rep2<br>RT_and_DMS=%{x}<br>sum of count (normalized as percent)=%{y}<extra></extra>",
         "legendgroup": "RT2_Vif5_RT3_Vif8",
         "marker": {
          "color": "rgb(204,108,255)",
          "line": {
           "color": "black",
           "width": 0.5
          },
          "pattern": {
           "shape": ""
          }
         },
         "name": "RT2_Vif5_RT3_Vif8",
         "offsetgroup": "RT2_Vif5_RT3_Vif8",
         "orientation": "v",
         "showlegend": false,
         "type": "histogram",
         "x": [
          "RT-FS_0mM",
          "RT-FS_57mM",
          "RT-FS_85mM",
          "RT-US_0mM",
          "RT-US_57mM",
          "RT-US_85mM"
         ],
         "xaxis": "x2",
         "y": [
          8,
          3,
          4,
          2,
          3,
          2
         ],
         "yaxis": "y2"
        },
        {
         "alignmentgroup": "True",
         "bingroup": "x",
         "histfunc": "sum",
         "hovertemplate": "isoform_id=RT2_Vif7<br>replicate=Rep1<br>RT_and_DMS=%{x}<br>sum of count (normalized as percent)=%{y}<extra></extra>",
         "legendgroup": "RT2_Vif7",
         "marker": {
          "color": "grey",
          "line": {
           "color": "black",
           "width": 0.5
          },
          "pattern": {
           "shape": ""
          }
         },
         "name": "RT2_Vif7",
         "offsetgroup": "RT2_Vif7",
         "orientation": "v",
         "showlegend": true,
         "type": "histogram",
         "x": [
          "RT-FS_0mM",
          "RT-FS_57mM",
          "RT-FS_85mM",
          "RT-US_57mM"
         ],
         "xaxis": "x",
         "y": [
          5,
          4,
          3,
          1
         ],
         "yaxis": "y"
        },
        {
         "alignmentgroup": "True",
         "bingroup": "x",
         "histfunc": "sum",
         "hovertemplate": "isoform_id=RT2_Vif7<br>replicate=Rep2<br>RT_and_DMS=%{x}<br>sum of count (normalized as percent)=%{y}<extra></extra>",
         "legendgroup": "RT2_Vif7",
         "marker": {
          "color": "grey",
          "line": {
           "color": "black",
           "width": 0.5
          },
          "pattern": {
           "shape": ""
          }
         },
         "name": "RT2_Vif7",
         "offsetgroup": "RT2_Vif7",
         "orientation": "v",
         "showlegend": false,
         "type": "histogram",
         "x": [
          "RT-FS_0mM",
          "RT-FS_57mM",
          "RT-FS_85mM"
         ],
         "xaxis": "x2",
         "y": [
          3,
          6,
          5
         ],
         "yaxis": "y2"
        },
        {
         "alignmentgroup": "True",
         "bingroup": "x",
         "histfunc": "sum",
         "hovertemplate": "isoform_id=RT2_Vpr3_RT3_Vpr1<br>replicate=Rep1<br>RT_and_DMS=%{x}<br>sum of count (normalized as percent)=%{y}<extra></extra>",
         "legendgroup": "RT2_Vpr3_RT3_Vpr1",
         "marker": {
          "color": "rgb(168,30,45)",
          "line": {
           "color": "black",
           "width": 0.5
          },
          "pattern": {
           "shape": ""
          }
         },
         "name": "RT2_Vpr3_RT3_Vpr1",
         "offsetgroup": "RT2_Vpr3_RT3_Vpr1",
         "orientation": "v",
         "showlegend": true,
         "type": "histogram",
         "x": [
          "RT-FS_0mM",
          "RT-FS_57mM",
          "RT-FS_85mM",
          "RT-US_0mM",
          "RT-US_57mM",
          "RT-US_85mM"
         ],
         "xaxis": "x",
         "y": [
          2628,
          1609,
          1216,
          89,
          66,
          72
         ],
         "yaxis": "y"
        },
        {
         "alignmentgroup": "True",
         "bingroup": "x",
         "histfunc": "sum",
         "hovertemplate": "isoform_id=RT2_Vpr3_RT3_Vpr1<br>replicate=Rep2<br>RT_and_DMS=%{x}<br>sum of count (normalized as percent)=%{y}<extra></extra>",
         "legendgroup": "RT2_Vpr3_RT3_Vpr1",
         "marker": {
          "color": "rgb(168,30,45)",
          "line": {
           "color": "black",
           "width": 0.5
          },
          "pattern": {
           "shape": ""
          }
         },
         "name": "RT2_Vpr3_RT3_Vpr1",
         "offsetgroup": "RT2_Vpr3_RT3_Vpr1",
         "orientation": "v",
         "showlegend": false,
         "type": "histogram",
         "x": [
          "RT-FS_0mM",
          "RT-FS_57mM",
          "RT-FS_85mM",
          "RT-US_0mM",
          "RT-US_57mM",
          "RT-US_85mM"
         ],
         "xaxis": "x2",
         "y": [
          2252,
          1057,
          817,
          198,
          168,
          147
         ],
         "yaxis": "y2"
        },
        {
         "alignmentgroup": "True",
         "bingroup": "x",
         "histfunc": "sum",
         "hovertemplate": "isoform_id=RT2_Vpr4_RT3_Vpr2<br>replicate=Rep1<br>RT_and_DMS=%{x}<br>sum of count (normalized as percent)=%{y}<extra></extra>",
         "legendgroup": "RT2_Vpr4_RT3_Vpr2",
         "marker": {
          "color": "rgb(192,98,106)",
          "line": {
           "color": "black",
           "width": 0.5
          },
          "pattern": {
           "shape": ""
          }
         },
         "name": "RT2_Vpr4_RT3_Vpr2",
         "offsetgroup": "RT2_Vpr4_RT3_Vpr2",
         "orientation": "v",
         "showlegend": true,
         "type": "histogram",
         "x": [
          "RT-FS_0mM",
          "RT-FS_57mM",
          "RT-FS_85mM",
          "RT-US_0mM",
          "RT-US_57mM",
          "RT-US_85mM"
         ],
         "xaxis": "x",
         "y": [
          1219,
          830,
          745,
          31,
          27,
          32
         ],
         "yaxis": "y"
        },
        {
         "alignmentgroup": "True",
         "bingroup": "x",
         "histfunc": "sum",
         "hovertemplate": "isoform_id=RT2_Vpr4_RT3_Vpr2<br>replicate=Rep2<br>RT_and_DMS=%{x}<br>sum of count (normalized as percent)=%{y}<extra></extra>",
         "legendgroup": "RT2_Vpr4_RT3_Vpr2",
         "marker": {
          "color": "rgb(192,98,106)",
          "line": {
           "color": "black",
           "width": 0.5
          },
          "pattern": {
           "shape": ""
          }
         },
         "name": "RT2_Vpr4_RT3_Vpr2",
         "offsetgroup": "RT2_Vpr4_RT3_Vpr2",
         "orientation": "v",
         "showlegend": false,
         "type": "histogram",
         "x": [
          "RT-FS_0mM",
          "RT-FS_57mM",
          "RT-FS_85mM",
          "RT-US_0mM",
          "RT-US_57mM",
          "RT-US_85mM"
         ],
         "xaxis": "x2",
         "y": [
          1150,
          806,
          642,
          77,
          98,
          44
         ],
         "yaxis": "y2"
        },
        {
         "alignmentgroup": "True",
         "bingroup": "x",
         "histfunc": "sum",
         "hovertemplate": "isoform_id=RT3_sORF1<br>replicate=Rep1<br>RT_and_DMS=%{x}<br>sum of count (normalized as percent)=%{y}<extra></extra>",
         "legendgroup": "RT3_sORF1",
         "marker": {
          "color": "rgb(177,153,109)",
          "line": {
           "color": "black",
           "width": 0.5
          },
          "pattern": {
           "shape": ""
          }
         },
         "name": "RT3_sORF1",
         "offsetgroup": "RT3_sORF1",
         "orientation": "v",
         "showlegend": true,
         "type": "histogram",
         "x": [
          "RT-FS_0mM",
          "RT-FS_57mM",
          "RT-FS_85mM",
          "RT-US_0mM",
          "RT-US_57mM",
          "RT-US_85mM"
         ],
         "xaxis": "x",
         "y": [
          333,
          403,
          408,
          2,
          3,
          3
         ],
         "yaxis": "y"
        },
        {
         "alignmentgroup": "True",
         "bingroup": "x",
         "histfunc": "sum",
         "hovertemplate": "isoform_id=RT3_sORF1<br>replicate=Rep2<br>RT_and_DMS=%{x}<br>sum of count (normalized as percent)=%{y}<extra></extra>",
         "legendgroup": "RT3_sORF1",
         "marker": {
          "color": "rgb(177,153,109)",
          "line": {
           "color": "black",
           "width": 0.5
          },
          "pattern": {
           "shape": ""
          }
         },
         "name": "RT3_sORF1",
         "offsetgroup": "RT3_sORF1",
         "orientation": "v",
         "showlegend": false,
         "type": "histogram",
         "x": [
          "RT-FS_0mM",
          "RT-FS_57mM",
          "RT-FS_85mM",
          "RT-US_0mM",
          "RT-US_57mM",
          "RT-US_85mM"
         ],
         "xaxis": "x2",
         "y": [
          343,
          478,
          413,
          3,
          4,
          5
         ],
         "yaxis": "y2"
        },
        {
         "alignmentgroup": "True",
         "bingroup": "x",
         "histfunc": "sum",
         "hovertemplate": "isoform_id=RT3_sORF3<br>replicate=Rep1<br>RT_and_DMS=%{x}<br>sum of count (normalized as percent)=%{y}<extra></extra>",
         "legendgroup": "RT3_sORF3",
         "marker": {
          "color": "rgb(157,138,109)",
          "line": {
           "color": "black",
           "width": 0.5
          },
          "pattern": {
           "shape": ""
          }
         },
         "name": "RT3_sORF3",
         "offsetgroup": "RT3_sORF3",
         "orientation": "v",
         "showlegend": true,
         "type": "histogram",
         "x": [
          "RT-FS_0mM",
          "RT-FS_57mM",
          "RT-FS_85mM",
          "RT-US_0mM",
          "RT-US_57mM",
          "RT-US_85mM"
         ],
         "xaxis": "x",
         "y": [
          361,
          502,
          477,
          35,
          7,
          14
         ],
         "yaxis": "y"
        },
        {
         "alignmentgroup": "True",
         "bingroup": "x",
         "histfunc": "sum",
         "hovertemplate": "isoform_id=RT3_sORF3<br>replicate=Rep2<br>RT_and_DMS=%{x}<br>sum of count (normalized as percent)=%{y}<extra></extra>",
         "legendgroup": "RT3_sORF3",
         "marker": {
          "color": "rgb(157,138,109)",
          "line": {
           "color": "black",
           "width": 0.5
          },
          "pattern": {
           "shape": ""
          }
         },
         "name": "RT3_sORF3",
         "offsetgroup": "RT3_sORF3",
         "orientation": "v",
         "showlegend": false,
         "type": "histogram",
         "x": [
          "RT-FS_0mM",
          "RT-FS_57mM",
          "RT-FS_85mM",
          "RT-US_0mM",
          "RT-US_57mM",
          "RT-US_85mM"
         ],
         "xaxis": "x2",
         "y": [
          1193,
          924,
          886,
          55,
          57,
          36
         ],
         "yaxis": "y2"
        }
       ],
       "layout": {
        "annotations": [
         {
          "font": {},
          "showarrow": false,
          "text": "replicate=Rep1",
          "x": 0.245,
          "xanchor": "center",
          "xref": "paper",
          "y": 1,
          "yanchor": "bottom",
          "yref": "paper"
         },
         {
          "font": {},
          "showarrow": false,
          "text": "replicate=Rep2",
          "x": 0.755,
          "xanchor": "center",
          "xref": "paper",
          "y": 1,
          "yanchor": "bottom",
          "yref": "paper"
         }
        ],
        "barmode": "relative",
        "barnorm": "percent",
        "height": 400,
        "legend": {
         "title": {
          "text": "isoform_id"
         },
         "tracegroupgap": 0
        },
        "margin": {
         "t": 60
        },
        "template": {
         "data": {
          "bar": [
           {
            "error_x": {
             "color": "rgb(36,36,36)"
            },
            "error_y": {
             "color": "rgb(36,36,36)"
            },
            "marker": {
             "line": {
              "color": "white",
              "width": 0.5
             },
             "pattern": {
              "fillmode": "overlay",
              "size": 10,
              "solidity": 0.2
             }
            },
            "type": "bar"
           }
          ],
          "barpolar": [
           {
            "marker": {
             "line": {
              "color": "white",
              "width": 0.5
             },
             "pattern": {
              "fillmode": "overlay",
              "size": 10,
              "solidity": 0.2
             }
            },
            "type": "barpolar"
           }
          ],
          "carpet": [
           {
            "aaxis": {
             "endlinecolor": "rgb(36,36,36)",
             "gridcolor": "white",
             "linecolor": "white",
             "minorgridcolor": "white",
             "startlinecolor": "rgb(36,36,36)"
            },
            "baxis": {
             "endlinecolor": "rgb(36,36,36)",
             "gridcolor": "white",
             "linecolor": "white",
             "minorgridcolor": "white",
             "startlinecolor": "rgb(36,36,36)"
            },
            "type": "carpet"
           }
          ],
          "choropleth": [
           {
            "colorbar": {
             "outlinewidth": 1,
             "tickcolor": "rgb(36,36,36)",
             "ticks": "outside"
            },
            "type": "choropleth"
           }
          ],
          "contour": [
           {
            "colorbar": {
             "outlinewidth": 1,
             "tickcolor": "rgb(36,36,36)",
             "ticks": "outside"
            },
            "colorscale": [
             [
              0,
              "#440154"
             ],
             [
              0.1111111111111111,
              "#482878"
             ],
             [
              0.2222222222222222,
              "#3e4989"
             ],
             [
              0.3333333333333333,
              "#31688e"
             ],
             [
              0.4444444444444444,
              "#26828e"
             ],
             [
              0.5555555555555556,
              "#1f9e89"
             ],
             [
              0.6666666666666666,
              "#35b779"
             ],
             [
              0.7777777777777778,
              "#6ece58"
             ],
             [
              0.8888888888888888,
              "#b5de2b"
             ],
             [
              1,
              "#fde725"
             ]
            ],
            "type": "contour"
           }
          ],
          "contourcarpet": [
           {
            "colorbar": {
             "outlinewidth": 1,
             "tickcolor": "rgb(36,36,36)",
             "ticks": "outside"
            },
            "type": "contourcarpet"
           }
          ],
          "heatmap": [
           {
            "colorbar": {
             "outlinewidth": 1,
             "tickcolor": "rgb(36,36,36)",
             "ticks": "outside"
            },
            "colorscale": [
             [
              0,
              "#440154"
             ],
             [
              0.1111111111111111,
              "#482878"
             ],
             [
              0.2222222222222222,
              "#3e4989"
             ],
             [
              0.3333333333333333,
              "#31688e"
             ],
             [
              0.4444444444444444,
              "#26828e"
             ],
             [
              0.5555555555555556,
              "#1f9e89"
             ],
             [
              0.6666666666666666,
              "#35b779"
             ],
             [
              0.7777777777777778,
              "#6ece58"
             ],
             [
              0.8888888888888888,
              "#b5de2b"
             ],
             [
              1,
              "#fde725"
             ]
            ],
            "type": "heatmap"
           }
          ],
          "heatmapgl": [
           {
            "colorbar": {
             "outlinewidth": 1,
             "tickcolor": "rgb(36,36,36)",
             "ticks": "outside"
            },
            "colorscale": [
             [
              0,
              "#440154"
             ],
             [
              0.1111111111111111,
              "#482878"
             ],
             [
              0.2222222222222222,
              "#3e4989"
             ],
             [
              0.3333333333333333,
              "#31688e"
             ],
             [
              0.4444444444444444,
              "#26828e"
             ],
             [
              0.5555555555555556,
              "#1f9e89"
             ],
             [
              0.6666666666666666,
              "#35b779"
             ],
             [
              0.7777777777777778,
              "#6ece58"
             ],
             [
              0.8888888888888888,
              "#b5de2b"
             ],
             [
              1,
              "#fde725"
             ]
            ],
            "type": "heatmapgl"
           }
          ],
          "histogram": [
           {
            "marker": {
             "line": {
              "color": "white",
              "width": 0.6
             }
            },
            "type": "histogram"
           }
          ],
          "histogram2d": [
           {
            "colorbar": {
             "outlinewidth": 1,
             "tickcolor": "rgb(36,36,36)",
             "ticks": "outside"
            },
            "colorscale": [
             [
              0,
              "#440154"
             ],
             [
              0.1111111111111111,
              "#482878"
             ],
             [
              0.2222222222222222,
              "#3e4989"
             ],
             [
              0.3333333333333333,
              "#31688e"
             ],
             [
              0.4444444444444444,
              "#26828e"
             ],
             [
              0.5555555555555556,
              "#1f9e89"
             ],
             [
              0.6666666666666666,
              "#35b779"
             ],
             [
              0.7777777777777778,
              "#6ece58"
             ],
             [
              0.8888888888888888,
              "#b5de2b"
             ],
             [
              1,
              "#fde725"
             ]
            ],
            "type": "histogram2d"
           }
          ],
          "histogram2dcontour": [
           {
            "colorbar": {
             "outlinewidth": 1,
             "tickcolor": "rgb(36,36,36)",
             "ticks": "outside"
            },
            "colorscale": [
             [
              0,
              "#440154"
             ],
             [
              0.1111111111111111,
              "#482878"
             ],
             [
              0.2222222222222222,
              "#3e4989"
             ],
             [
              0.3333333333333333,
              "#31688e"
             ],
             [
              0.4444444444444444,
              "#26828e"
             ],
             [
              0.5555555555555556,
              "#1f9e89"
             ],
             [
              0.6666666666666666,
              "#35b779"
             ],
             [
              0.7777777777777778,
              "#6ece58"
             ],
             [
              0.8888888888888888,
              "#b5de2b"
             ],
             [
              1,
              "#fde725"
             ]
            ],
            "type": "histogram2dcontour"
           }
          ],
          "mesh3d": [
           {
            "colorbar": {
             "outlinewidth": 1,
             "tickcolor": "rgb(36,36,36)",
             "ticks": "outside"
            },
            "type": "mesh3d"
           }
          ],
          "parcoords": [
           {
            "line": {
             "colorbar": {
              "outlinewidth": 1,
              "tickcolor": "rgb(36,36,36)",
              "ticks": "outside"
             }
            },
            "type": "parcoords"
           }
          ],
          "pie": [
           {
            "automargin": true,
            "type": "pie"
           }
          ],
          "scatter": [
           {
            "fillpattern": {
             "fillmode": "overlay",
             "size": 10,
             "solidity": 0.2
            },
            "type": "scatter"
           }
          ],
          "scatter3d": [
           {
            "line": {
             "colorbar": {
              "outlinewidth": 1,
              "tickcolor": "rgb(36,36,36)",
              "ticks": "outside"
             }
            },
            "marker": {
             "colorbar": {
              "outlinewidth": 1,
              "tickcolor": "rgb(36,36,36)",
              "ticks": "outside"
             }
            },
            "type": "scatter3d"
           }
          ],
          "scattercarpet": [
           {
            "marker": {
             "colorbar": {
              "outlinewidth": 1,
              "tickcolor": "rgb(36,36,36)",
              "ticks": "outside"
             }
            },
            "type": "scattercarpet"
           }
          ],
          "scattergeo": [
           {
            "marker": {
             "colorbar": {
              "outlinewidth": 1,
              "tickcolor": "rgb(36,36,36)",
              "ticks": "outside"
             }
            },
            "type": "scattergeo"
           }
          ],
          "scattergl": [
           {
            "marker": {
             "colorbar": {
              "outlinewidth": 1,
              "tickcolor": "rgb(36,36,36)",
              "ticks": "outside"
             }
            },
            "type": "scattergl"
           }
          ],
          "scattermapbox": [
           {
            "marker": {
             "colorbar": {
              "outlinewidth": 1,
              "tickcolor": "rgb(36,36,36)",
              "ticks": "outside"
             }
            },
            "type": "scattermapbox"
           }
          ],
          "scatterpolar": [
           {
            "marker": {
             "colorbar": {
              "outlinewidth": 1,
              "tickcolor": "rgb(36,36,36)",
              "ticks": "outside"
             }
            },
            "type": "scatterpolar"
           }
          ],
          "scatterpolargl": [
           {
            "marker": {
             "colorbar": {
              "outlinewidth": 1,
              "tickcolor": "rgb(36,36,36)",
              "ticks": "outside"
             }
            },
            "type": "scatterpolargl"
           }
          ],
          "scatterternary": [
           {
            "marker": {
             "colorbar": {
              "outlinewidth": 1,
              "tickcolor": "rgb(36,36,36)",
              "ticks": "outside"
             }
            },
            "type": "scatterternary"
           }
          ],
          "surface": [
           {
            "colorbar": {
             "outlinewidth": 1,
             "tickcolor": "rgb(36,36,36)",
             "ticks": "outside"
            },
            "colorscale": [
             [
              0,
              "#440154"
             ],
             [
              0.1111111111111111,
              "#482878"
             ],
             [
              0.2222222222222222,
              "#3e4989"
             ],
             [
              0.3333333333333333,
              "#31688e"
             ],
             [
              0.4444444444444444,
              "#26828e"
             ],
             [
              0.5555555555555556,
              "#1f9e89"
             ],
             [
              0.6666666666666666,
              "#35b779"
             ],
             [
              0.7777777777777778,
              "#6ece58"
             ],
             [
              0.8888888888888888,
              "#b5de2b"
             ],
             [
              1,
              "#fde725"
             ]
            ],
            "type": "surface"
           }
          ],
          "table": [
           {
            "cells": {
             "fill": {
              "color": "rgb(237,237,237)"
             },
             "line": {
              "color": "white"
             }
            },
            "header": {
             "fill": {
              "color": "rgb(217,217,217)"
             },
             "line": {
              "color": "white"
             }
            },
            "type": "table"
           }
          ]
         },
         "layout": {
          "annotationdefaults": {
           "arrowhead": 0,
           "arrowwidth": 1
          },
          "autotypenumbers": "strict",
          "coloraxis": {
           "colorbar": {
            "outlinewidth": 1,
            "tickcolor": "rgb(36,36,36)",
            "ticks": "outside"
           }
          },
          "colorscale": {
           "diverging": [
            [
             0,
             "rgb(103,0,31)"
            ],
            [
             0.1,
             "rgb(178,24,43)"
            ],
            [
             0.2,
             "rgb(214,96,77)"
            ],
            [
             0.3,
             "rgb(244,165,130)"
            ],
            [
             0.4,
             "rgb(253,219,199)"
            ],
            [
             0.5,
             "rgb(247,247,247)"
            ],
            [
             0.6,
             "rgb(209,229,240)"
            ],
            [
             0.7,
             "rgb(146,197,222)"
            ],
            [
             0.8,
             "rgb(67,147,195)"
            ],
            [
             0.9,
             "rgb(33,102,172)"
            ],
            [
             1,
             "rgb(5,48,97)"
            ]
           ],
           "sequential": [
            [
             0,
             "#440154"
            ],
            [
             0.1111111111111111,
             "#482878"
            ],
            [
             0.2222222222222222,
             "#3e4989"
            ],
            [
             0.3333333333333333,
             "#31688e"
            ],
            [
             0.4444444444444444,
             "#26828e"
            ],
            [
             0.5555555555555556,
             "#1f9e89"
            ],
            [
             0.6666666666666666,
             "#35b779"
            ],
            [
             0.7777777777777778,
             "#6ece58"
            ],
            [
             0.8888888888888888,
             "#b5de2b"
            ],
            [
             1,
             "#fde725"
            ]
           ],
           "sequentialminus": [
            [
             0,
             "#440154"
            ],
            [
             0.1111111111111111,
             "#482878"
            ],
            [
             0.2222222222222222,
             "#3e4989"
            ],
            [
             0.3333333333333333,
             "#31688e"
            ],
            [
             0.4444444444444444,
             "#26828e"
            ],
            [
             0.5555555555555556,
             "#1f9e89"
            ],
            [
             0.6666666666666666,
             "#35b779"
            ],
            [
             0.7777777777777778,
             "#6ece58"
            ],
            [
             0.8888888888888888,
             "#b5de2b"
            ],
            [
             1,
             "#fde725"
            ]
           ]
          },
          "colorway": [
           "#1F77B4",
           "#FF7F0E",
           "#2CA02C",
           "#D62728",
           "#9467BD",
           "#8C564B",
           "#E377C2",
           "#7F7F7F",
           "#BCBD22",
           "#17BECF"
          ],
          "font": {
           "color": "rgb(36,36,36)"
          },
          "geo": {
           "bgcolor": "white",
           "lakecolor": "white",
           "landcolor": "white",
           "showlakes": true,
           "showland": true,
           "subunitcolor": "white"
          },
          "hoverlabel": {
           "align": "left"
          },
          "hovermode": "closest",
          "mapbox": {
           "style": "light"
          },
          "paper_bgcolor": "white",
          "plot_bgcolor": "white",
          "polar": {
           "angularaxis": {
            "gridcolor": "rgb(232,232,232)",
            "linecolor": "rgb(36,36,36)",
            "showgrid": false,
            "showline": true,
            "ticks": "outside"
           },
           "bgcolor": "white",
           "radialaxis": {
            "gridcolor": "rgb(232,232,232)",
            "linecolor": "rgb(36,36,36)",
            "showgrid": false,
            "showline": true,
            "ticks": "outside"
           }
          },
          "scene": {
           "xaxis": {
            "backgroundcolor": "white",
            "gridcolor": "rgb(232,232,232)",
            "gridwidth": 2,
            "linecolor": "rgb(36,36,36)",
            "showbackground": true,
            "showgrid": false,
            "showline": true,
            "ticks": "outside",
            "zeroline": false,
            "zerolinecolor": "rgb(36,36,36)"
           },
           "yaxis": {
            "backgroundcolor": "white",
            "gridcolor": "rgb(232,232,232)",
            "gridwidth": 2,
            "linecolor": "rgb(36,36,36)",
            "showbackground": true,
            "showgrid": false,
            "showline": true,
            "ticks": "outside",
            "zeroline": false,
            "zerolinecolor": "rgb(36,36,36)"
           },
           "zaxis": {
            "backgroundcolor": "white",
            "gridcolor": "rgb(232,232,232)",
            "gridwidth": 2,
            "linecolor": "rgb(36,36,36)",
            "showbackground": true,
            "showgrid": false,
            "showline": true,
            "ticks": "outside",
            "zeroline": false,
            "zerolinecolor": "rgb(36,36,36)"
           }
          },
          "shapedefaults": {
           "fillcolor": "black",
           "line": {
            "width": 0
           },
           "opacity": 0.3
          },
          "ternary": {
           "aaxis": {
            "gridcolor": "rgb(232,232,232)",
            "linecolor": "rgb(36,36,36)",
            "showgrid": false,
            "showline": true,
            "ticks": "outside"
           },
           "baxis": {
            "gridcolor": "rgb(232,232,232)",
            "linecolor": "rgb(36,36,36)",
            "showgrid": false,
            "showline": true,
            "ticks": "outside"
           },
           "bgcolor": "white",
           "caxis": {
            "gridcolor": "rgb(232,232,232)",
            "linecolor": "rgb(36,36,36)",
            "showgrid": false,
            "showline": true,
            "ticks": "outside"
           }
          },
          "title": {
           "x": 0.05
          },
          "xaxis": {
           "automargin": true,
           "gridcolor": "rgb(232,232,232)",
           "linecolor": "rgb(36,36,36)",
           "showgrid": false,
           "showline": true,
           "ticks": "outside",
           "title": {
            "standoff": 15
           },
           "zeroline": false,
           "zerolinecolor": "rgb(36,36,36)"
          },
          "yaxis": {
           "automargin": true,
           "gridcolor": "rgb(232,232,232)",
           "linecolor": "rgb(36,36,36)",
           "showgrid": true,
           "showline": true,
           "ticks": "outside",
           "title": {
            "standoff": 15
           },
           "zeroline": false,
           "zerolinecolor": "rgb(36,36,36)"
          }
         }
        },
        "width": 600,
        "xaxis": {
         "anchor": "y",
         "autorange": true,
         "domain": [
          0,
          0.49
         ],
         "range": [
          -0.5,
          5.5
         ],
         "title": {
          "text": "RT_and_DMS"
         },
         "type": "category"
        },
        "xaxis2": {
         "anchor": "y2",
         "autorange": true,
         "domain": [
          0.51,
          1
         ],
         "matches": "x",
         "range": [
          -0.5,
          5.5
         ],
         "title": {
          "text": "RT_and_DMS"
         },
         "type": "category"
        },
        "yaxis": {
         "anchor": "x",
         "autorange": true,
         "domain": [
          0,
          1
         ],
         "range": [
          0,
          105.26315789473686
         ],
         "title": {
          "text": "sum of count (normalized as percent)"
         },
         "type": "linear"
        },
        "yaxis2": {
         "anchor": "x2",
         "autorange": true,
         "domain": [
          0,
          1
         ],
         "matches": "y",
         "range": [
          0,
          105.26315789473686
         ],
         "showticklabels": false,
         "type": "linear"
        }
       }
      },
      "image/png": "[encoded data removed]"
     },
     "metadata": {},
     "output_type": "display_data"
    }
   ],
   "source": [
    "fig = px.histogram(isoform_count_df, x=\"RT_and_DMS\", facet_col=\"replicate\", y=\"count\", color=\"isoform_id\", barnorm=\"percent\", category_orders = order_dict, color_discrete_map = isoform_colors_RT3)\n",
    "fig.update_layout(width=600, height=400)\n",
    "fig.update_traces(marker_line_width=0.5, marker_line_color=\"black\")\n",
    "fig.write_image(f\"{figure_dir}/isoquant_isoform_percent.svg\")\n",
    "fig.show(renderer=\"jupyterlab\")"
   ]
  },
  {
   "cell_type": "markdown",
   "id": "98ef4dcd-6154-420c-9c88-a368adc66902",
   "metadata": {},
   "source": [
    "# Isoform expression correlation between replicates"
   ]
  },
  {
   "cell_type": "code",
   "execution_count": 119,
   "id": "8da8503a-c20d-4ba3-9279-394a31265e63",
   "metadata": {},
   "outputs": [
    {
     "data": {
      "text/plain": [
       "'/vol/projects/pbohn/AnSo_DMS_MaP/_for_publication/_protocol_example_run'"
      ]
     },
     "execution_count": 119,
     "metadata": {},
     "output_type": "execute_result"
    }
   ],
   "source": [
    "import os\n",
    "import pandas as pd\n",
    "import scipy.stats as stats\n",
    "import numpy as np\n",
    "os.getcwd()"
   ]
  },
  {
   "cell_type": "code",
   "execution_count": 121,
   "id": "2841c2af-18cc-4aef-997e-d95c80af487b",
   "metadata": {},
   "outputs": [
    {
     "data": {
      "text/plain": [
       "{'Nanopore_HIV1_Rep1_RT-FS_0mM_cell': 122604,\n",
       " 'Nanopore_HIV1_Rep1_RT-FS_57mM_cell': 167638,\n",
       " 'Nanopore_HIV1_Rep1_RT-FS_85mM_cell': 182156,\n",
       " 'Nanopore_HIV1_Rep1_RT-US_0mM_cell': 34346,\n",
       " 'Nanopore_HIV1_Rep1_RT-US_57mM_cell': 46426,\n",
       " 'Nanopore_HIV1_Rep1_RT-US_85mM_cell': 71399,\n",
       " 'Nanopore_HIV1_Rep2_RT-FS_0mM_cell': 93618,\n",
       " 'Nanopore_HIV1_Rep2_RT-FS_57mM_cell': 164837,\n",
       " 'Nanopore_HIV1_Rep2_RT-FS_85mM_cell': 192813,\n",
       " 'Nanopore_HIV1_Rep2_RT-US_0mM_cell': 93885,\n",
       " 'Nanopore_HIV1_Rep2_RT-US_57mM_cell': 63779,\n",
       " 'Nanopore_HIV1_Rep2_RT-US_85mM_cell': 88001}"
      ]
     },
     "execution_count": 121,
     "metadata": {},
     "output_type": "execute_result"
    }
   ],
   "source": [
    "per_sample_counts = isoform_count_df.groupby(\"sample\").agg({\"count\":\"sum\"}).to_dict()[\"count\"]\n",
    "\n",
    "isoform_count_df[\"percent\"] = 100* isoform_count_df.apply(lambda x: x[\"count\"] / per_sample_counts[x[\"sample\"]], axis=1)\n",
    "\n",
    "pivot_df = pd.pivot(isoform_count_df, index = [\"RT_and_DMS\", \"isoform_id\"], columns = \"replicate\", values = \"percent\").reset_index()"
   ]
  },
  {
   "cell_type": "code",
   "execution_count": 126,
   "id": "8c91d571-cda4-4b33-a1c9-2df09da1efc9",
   "metadata": {},
   "outputs": [
    {
     "data": {
      "image/svg+xml": [
       "<svg class=\"main-svg\" xmlns=\"http://www.w3.org/2000/svg\" xmlns:xlink=\"http://www.w3.org/1999/xlink\" width=\"500\" height=\"400\" style=\"\" viewBox=\"0 0 500 400\"><rect x=\"0\" y=\"0\" width=\"500\" height=\"400\" style=\"fill: rgb(255, 255, 255); fill-opacity: 1;\"/><defs id=\"defs-5c3bca\"><g class=\"clips\"><clipPath id=\"clip5c3bcaxyplot\" class=\"plotclip\"><rect width=\"340\" height=\"260\"/></clipPath><clipPath class=\"axesclip\" id=\"clip5c3bcax\"><rect x=\"80\" y=\"0\" width=\"340\" height=\"400\"/></clipPath><clipPath class=\"axesclip\" id=\"clip5c3bcay\"><rect x=\"0\" y=\"60\" width=\"500\" height=\"260\"/></clipPath><clipPath class=\"axesclip\" id=\"clip5c3bcaxy\"><rect x=\"80\" y=\"60\" width=\"340\" height=\"260\"/></clipPath></g><g class=\"gradients\"/><g class=\"patterns\"/></defs><g class=\"bglayer\"/><g class=\"layer-below\"><g class=\"imagelayer\"/><g class=\"shapelayer\"/></g><g class=\"cartesianlayer\"><g class=\"subplot xy\"><g class=\"layer-subplot\"><g class=\"shapelayer\"/><g class=\"imagelayer\"/></g><g class=\"minor-gridlayer\"><g class=\"x\"/><g class=\"y\"/></g><g class=\"gridlayer\"><g class=\"x\"/><g class=\"y\"><path class=\"ygrid crisp\" transform=\"translate(0,303.25)\" d=\"M80,0h340\" style=\"stroke: rgb(232, 232, 232); stroke-opacity: 1; stroke-width: 1px;\"/><path class=\"ygrid crisp\" transform=\"translate(0,257.57)\" d=\"M80,0h340\" style=\"stroke: rgb(232, 232, 232); stroke-opacity: 1; stroke-width: 1px;\"/><path class=\"ygrid crisp\" transform=\"translate(0,211.88)\" d=\"M80,0h340\" style=\"stroke: rgb(232, 232, 232); stroke-opacity: 1; stroke-width: 1px;\"/><path class=\"ygrid crisp\" transform=\"translate(0,166.2)\" d=\"M80,0h340\" style=\"stroke: rgb(232, 232, 232); stroke-opacity: 1; stroke-width: 1px;\"/><path class=\"ygrid crisp\" transform=\"translate(0,120.52000000000001)\" d=\"M80,0h340\" style=\"stroke: rgb(232, 232, 232); stroke-opacity: 1; stroke-width: 1px;\"/><path class=\"ygrid crisp\" transform=\"translate(0,74.83)\" d=\"M80,0h340\" style=\"stroke: rgb(232, 232, 232); stroke-opacity: 1; stroke-width: 1px;\"/></g></g><g class=\"zerolinelayer\"/><path class=\"xlines-below\"/><path class=\"ylines-below\"/><g class=\"overlines-below\"/><g class=\"xaxislayer-below\"/><g class=\"yaxislayer-below\"/><g class=\"overaxes-below\"/><g class=\"plot\" transform=\"translate(80,60)\" clip-path=\"url(#clip5c3bcaxyplot)\"><g class=\"scatterlayer mlayer\"><g class=\"trace scatter trace7e4784\" style=\"stroke-miterlimit: 2; opacity: 1;\"><g class=\"fills\"/><g class=\"errorbars\"/><g class=\"lines\"/><g class=\"points\"><path class=\"point\" transform=\"translate(21.49,242.94)\" d=\"M3,0A3,3 0 1,1 0,-3A3,3 0 0,1 3,0Z\" style=\"opacity: 1; stroke-width: 0px; fill: rgb(100, 100, 100); fill-opacity: 1;\"/><path class=\"point\" transform=\"translate(30.54,235.71)\" d=\"M3,0A3,3 0 1,1 0,-3A3,3 0 0,1 3,0Z\" style=\"opacity: 1; stroke-width: 0px; fill: rgb(100, 100, 100); fill-opacity: 1;\"/><path class=\"point\" transform=\"translate(28.19,236.88)\" d=\"M3,0A3,3 0 1,1 0,-3A3,3 0 0,1 3,0Z\" style=\"opacity: 1; stroke-width: 0px; fill: rgb(100, 100, 100); fill-opacity: 1;\"/><path class=\"point\" transform=\"translate(22.19,242.05)\" d=\"M3,0A3,3 0 1,1 0,-3A3,3 0 0,1 3,0Z\" style=\"opacity: 1; stroke-width: 0px; fill: rgb(100, 100, 100); fill-opacity: 1;\"/><path class=\"point\" transform=\"translate(58.47,212.39)\" d=\"M3,0A3,3 0 1,1 0,-3A3,3 0 0,1 3,0Z\" style=\"opacity: 1; stroke-width: 0px; fill: rgb(100, 100, 100); fill-opacity: 1;\"/><path class=\"point\" transform=\"translate(26.67,238.22)\" d=\"M3,0A3,3 0 1,1 0,-3A3,3 0 0,1 3,0Z\" style=\"opacity: 1; stroke-width: 0px; fill: rgb(100, 100, 100); fill-opacity: 1;\"/><path class=\"point\" transform=\"translate(25.77,237.81)\" d=\"M3,0A3,3 0 1,1 0,-3A3,3 0 0,1 3,0Z\" style=\"opacity: 1; stroke-width: 0px; fill: rgb(100, 100, 100); fill-opacity: 1;\"/><path class=\"point\" transform=\"translate(21.97,242.58)\" d=\"M3,0A3,3 0 1,1 0,-3A3,3 0 0,1 3,0Z\" style=\"opacity: 1; stroke-width: 0px; fill: rgb(100, 100, 100); fill-opacity: 1;\"/><path class=\"point\" transform=\"translate(20.83,243.21)\" d=\"M3,0A3,3 0 1,1 0,-3A3,3 0 0,1 3,0Z\" style=\"opacity: 1; stroke-width: 0px; fill: rgb(100, 100, 100); fill-opacity: 1;\"/><path class=\"point\" transform=\"translate(20.88,243.18)\" d=\"M3,0A3,3 0 1,1 0,-3A3,3 0 0,1 3,0Z\" style=\"opacity: 1; stroke-width: 0px; fill: rgb(100, 100, 100); fill-opacity: 1;\"/><path class=\"point\" transform=\"translate(67.25,219.34)\" d=\"M3,0A3,3 0 1,1 0,-3A3,3 0 0,1 3,0Z\" style=\"opacity: 1; stroke-width: 0px; fill: rgb(100, 100, 100); fill-opacity: 1;\"/><path class=\"point\" transform=\"translate(21.61,242.99)\" d=\"M3,0A3,3 0 1,1 0,-3A3,3 0 0,1 3,0Z\" style=\"opacity: 1; stroke-width: 0px; fill: rgb(100, 100, 100); fill-opacity: 1;\"/><path class=\"point\" transform=\"translate(33.67,236.3)\" d=\"M3,0A3,3 0 1,1 0,-3A3,3 0 0,1 3,0Z\" style=\"opacity: 1; stroke-width: 0px; fill: rgb(100, 100, 100); fill-opacity: 1;\"/><path class=\"point\" transform=\"translate(35.24,233.92)\" d=\"M3,0A3,3 0 1,1 0,-3A3,3 0 0,1 3,0Z\" style=\"opacity: 1; stroke-width: 0px; fill: rgb(100, 100, 100); fill-opacity: 1;\"/><path class=\"point\" transform=\"translate(23.51,241.59)\" d=\"M3,0A3,3 0 1,1 0,-3A3,3 0 0,1 3,0Z\" style=\"opacity: 1; stroke-width: 0px; fill: rgb(100, 100, 100); fill-opacity: 1;\"/><path class=\"point\" transform=\"translate(54.38,223.1)\" d=\"M3,0A3,3 0 1,1 0,-3A3,3 0 0,1 3,0Z\" style=\"opacity: 1; stroke-width: 0px; fill: rgb(100, 100, 100); fill-opacity: 1;\"/><path class=\"point\" transform=\"translate(22.72,242.27)\" d=\"M3,0A3,3 0 1,1 0,-3A3,3 0 0,1 3,0Z\" style=\"opacity: 1; stroke-width: 0px; fill: rgb(100, 100, 100); fill-opacity: 1;\"/><path class=\"point\" transform=\"translate(22.4,242.25)\" d=\"M3,0A3,3 0 1,1 0,-3A3,3 0 0,1 3,0Z\" style=\"opacity: 1; stroke-width: 0px; fill: rgb(100, 100, 100); fill-opacity: 1;\"/><path class=\"point\" transform=\"translate(21.04,243.09)\" d=\"M3,0A3,3 0 1,1 0,-3A3,3 0 0,1 3,0Z\" style=\"opacity: 1; stroke-width: 0px; fill: rgb(100, 100, 100); fill-opacity: 1;\"/><path class=\"point\" transform=\"translate(71.47,207.09)\" d=\"M3,0A3,3 0 1,1 0,-3A3,3 0 0,1 3,0Z\" style=\"opacity: 1; stroke-width: 0px; fill: rgb(100, 100, 100); fill-opacity: 1;\"/><path class=\"point\" transform=\"translate(20.84,243.19)\" d=\"M3,0A3,3 0 1,1 0,-3A3,3 0 0,1 3,0Z\" style=\"opacity: 1; stroke-width: 0px; fill: rgb(100, 100, 100); fill-opacity: 1;\"/><path class=\"point\" transform=\"translate(36.11,230.76)\" d=\"M3,0A3,3 0 1,1 0,-3A3,3 0 0,1 3,0Z\" style=\"opacity: 1; stroke-width: 0px; fill: rgb(100, 100, 100); fill-opacity: 1;\"/><path class=\"point\" transform=\"translate(42.05,220.56)\" d=\"M3,0A3,3 0 1,1 0,-3A3,3 0 0,1 3,0Z\" style=\"opacity: 1; stroke-width: 0px; fill: rgb(100, 100, 100); fill-opacity: 1;\"/><path class=\"point\" transform=\"translate(27.67,234.27)\" d=\"M3,0A3,3 0 1,1 0,-3A3,3 0 0,1 3,0Z\" style=\"opacity: 1; stroke-width: 0px; fill: rgb(100, 100, 100); fill-opacity: 1;\"/><path class=\"point\" transform=\"translate(27.3,234.27)\" d=\"M3,0A3,3 0 1,1 0,-3A3,3 0 0,1 3,0Z\" style=\"opacity: 1; stroke-width: 0px; fill: rgb(100, 100, 100); fill-opacity: 1;\"/><path class=\"point\" transform=\"translate(21.8,240.85)\" d=\"M3,0A3,3 0 1,1 0,-3A3,3 0 0,1 3,0Z\" style=\"opacity: 1; stroke-width: 0px; fill: rgb(100, 100, 100); fill-opacity: 1;\"/><path class=\"point\" transform=\"translate(20.76,243.24)\" d=\"M3,0A3,3 0 1,1 0,-3A3,3 0 0,1 3,0Z\" style=\"opacity: 1; stroke-width: 0px; fill: rgb(100, 100, 100); fill-opacity: 1;\"/><path class=\"point\" transform=\"translate(20.75,243.23)\" d=\"M3,0A3,3 0 1,1 0,-3A3,3 0 0,1 3,0Z\" style=\"opacity: 1; stroke-width: 0px; fill: rgb(100, 100, 100); fill-opacity: 1;\"/><path class=\"point\" transform=\"translate(20.76,243.24)\" d=\"M3,0A3,3 0 1,1 0,-3A3,3 0 0,1 3,0Z\" style=\"opacity: 1; stroke-width: 0px; fill: rgb(100, 100, 100); fill-opacity: 1;\"/><path class=\"point\" transform=\"translate(27.19,237.76)\" d=\"M3,0A3,3 0 1,1 0,-3A3,3 0 0,1 3,0Z\" style=\"opacity: 1; stroke-width: 0px; fill: rgb(100, 100, 100); fill-opacity: 1;\"/><path class=\"point\" transform=\"translate(23.74,240.45)\" d=\"M3,0A3,3 0 1,1 0,-3A3,3 0 0,1 3,0Z\" style=\"opacity: 1; stroke-width: 0px; fill: rgb(100, 100, 100); fill-opacity: 1;\"/><path class=\"point\" transform=\"translate(20.88,242.65)\" d=\"M3,0A3,3 0 1,1 0,-3A3,3 0 0,1 3,0Z\" style=\"opacity: 1; stroke-width: 0px; fill: rgb(100, 100, 100); fill-opacity: 1;\"/><path class=\"point\" transform=\"translate(20.92,243.18)\" d=\"M3,0A3,3 0 1,1 0,-3A3,3 0 0,1 3,0Z\" style=\"opacity: 1; stroke-width: 0px; fill: rgb(100, 100, 100); fill-opacity: 1;\"/><path class=\"point\" transform=\"translate(20.75,243.25)\" d=\"M3,0A3,3 0 1,1 0,-3A3,3 0 0,1 3,0Z\" style=\"opacity: 1; stroke-width: 0px; fill: rgb(100, 100, 100); fill-opacity: 1;\"/><path class=\"point\" transform=\"translate(21.17,243.12)\" d=\"M3,0A3,3 0 1,1 0,-3A3,3 0 0,1 3,0Z\" style=\"opacity: 1; stroke-width: 0px; fill: rgb(100, 100, 100); fill-opacity: 1;\"/><path class=\"point\" transform=\"translate(20.91,243.17)\" d=\"M3,0A3,3 0 1,1 0,-3A3,3 0 0,1 3,0Z\" style=\"opacity: 1; stroke-width: 0px; fill: rgb(100, 100, 100); fill-opacity: 1;\"/><path class=\"point\" transform=\"translate(20.88,243.17)\" d=\"M3,0A3,3 0 1,1 0,-3A3,3 0 0,1 3,0Z\" style=\"opacity: 1; stroke-width: 0px; fill: rgb(100, 100, 100); fill-opacity: 1;\"/><path class=\"point\" transform=\"translate(21.95,242.01)\" d=\"M3,0A3,3 0 1,1 0,-3A3,3 0 0,1 3,0Z\" style=\"opacity: 1; stroke-width: 0px; fill: rgb(100, 100, 100); fill-opacity: 1;\"/><path class=\"point\" transform=\"translate(20.84,243.18)\" d=\"M3,0A3,3 0 1,1 0,-3A3,3 0 0,1 3,0Z\" style=\"opacity: 1; stroke-width: 0px; fill: rgb(100, 100, 100); fill-opacity: 1;\"/><path class=\"point\" transform=\"translate(20.87,243.1)\" d=\"M3,0A3,3 0 1,1 0,-3A3,3 0 0,1 3,0Z\" style=\"opacity: 1; stroke-width: 0px; fill: rgb(100, 100, 100); fill-opacity: 1;\"/><path class=\"point\" transform=\"translate(20.84,243.18)\" d=\"M3,0A3,3 0 1,1 0,-3A3,3 0 0,1 3,0Z\" style=\"opacity: 1; stroke-width: 0px; fill: rgb(100, 100, 100); fill-opacity: 1;\"/><path class=\"point\" transform=\"translate(20.85,243.19)\" d=\"M3,0A3,3 0 1,1 0,-3A3,3 0 0,1 3,0Z\" style=\"opacity: 1; stroke-width: 0px; fill: rgb(100, 100, 100); fill-opacity: 1;\"/><path class=\"point\" transform=\"translate(20.79,243.22)\" d=\"M3,0A3,3 0 1,1 0,-3A3,3 0 0,1 3,0Z\" style=\"opacity: 1; stroke-width: 0px; fill: rgb(100, 100, 100); fill-opacity: 1;\"/><path class=\"point\" transform=\"translate(21.56,242.41)\" d=\"M3,0A3,3 0 1,1 0,-3A3,3 0 0,1 3,0Z\" style=\"opacity: 1; stroke-width: 0px; fill: rgb(100, 100, 100); fill-opacity: 1;\"/><path class=\"point\" transform=\"translate(21.63,240.34)\" d=\"M3,0A3,3 0 1,1 0,-3A3,3 0 0,1 3,0Z\" style=\"opacity: 1; stroke-width: 0px; fill: rgb(100, 100, 100); fill-opacity: 1;\"/><path class=\"point\" transform=\"translate(21.64,242.79)\" d=\"M3,0A3,3 0 1,1 0,-3A3,3 0 0,1 3,0Z\" style=\"opacity: 1; stroke-width: 0px; fill: rgb(100, 100, 100); fill-opacity: 1;\"/><path class=\"point\" transform=\"translate(31.33,234.07)\" d=\"M3,0A3,3 0 1,1 0,-3A3,3 0 0,1 3,0Z\" style=\"opacity: 1; stroke-width: 0px; fill: rgb(100, 100, 100); fill-opacity: 1;\"/><path class=\"point\" transform=\"translate(28.85,236.45)\" d=\"M3,0A3,3 0 1,1 0,-3A3,3 0 0,1 3,0Z\" style=\"opacity: 1; stroke-width: 0px; fill: rgb(100, 100, 100); fill-opacity: 1;\"/><path class=\"point\" transform=\"translate(22.36,241.67)\" d=\"M3,0A3,3 0 1,1 0,-3A3,3 0 0,1 3,0Z\" style=\"opacity: 1; stroke-width: 0px; fill: rgb(100, 100, 100); fill-opacity: 1;\"/><path class=\"point\" transform=\"translate(61.97,208.58)\" d=\"M3,0A3,3 0 1,1 0,-3A3,3 0 0,1 3,0Z\" style=\"opacity: 1; stroke-width: 0px; fill: rgb(100, 100, 100); fill-opacity: 1;\"/><path class=\"point\" transform=\"translate(27.52,236.34)\" d=\"M3,0A3,3 0 1,1 0,-3A3,3 0 0,1 3,0Z\" style=\"opacity: 1; stroke-width: 0px; fill: rgb(100, 100, 100); fill-opacity: 1;\"/><path class=\"point\" transform=\"translate(26.29,237.71)\" d=\"M3,0A3,3 0 1,1 0,-3A3,3 0 0,1 3,0Z\" style=\"opacity: 1; stroke-width: 0px; fill: rgb(100, 100, 100); fill-opacity: 1;\"/><path class=\"point\" transform=\"translate(21.9,242.62)\" d=\"M3,0A3,3 0 1,1 0,-3A3,3 0 0,1 3,0Z\" style=\"opacity: 1; stroke-width: 0px; fill: rgb(100, 100, 100); fill-opacity: 1;\"/><path class=\"point\" transform=\"translate(20.87,243.18)\" d=\"M3,0A3,3 0 1,1 0,-3A3,3 0 0,1 3,0Z\" style=\"opacity: 1; stroke-width: 0px; fill: rgb(100, 100, 100); fill-opacity: 1;\"/><path class=\"point\" transform=\"translate(20.9,243.17)\" d=\"M3,0A3,3 0 1,1 0,-3A3,3 0 0,1 3,0Z\" style=\"opacity: 1; stroke-width: 0px; fill: rgb(100, 100, 100); fill-opacity: 1;\"/><path class=\"point\" transform=\"translate(65.14,216.85)\" d=\"M3,0A3,3 0 1,1 0,-3A3,3 0 0,1 3,0Z\" style=\"opacity: 1; stroke-width: 0px; fill: rgb(100, 100, 100); fill-opacity: 1;\"/><path class=\"point\" transform=\"translate(21.66,242.59)\" d=\"M3,0A3,3 0 1,1 0,-3A3,3 0 0,1 3,0Z\" style=\"opacity: 1; stroke-width: 0px; fill: rgb(100, 100, 100); fill-opacity: 1;\"/><path class=\"point\" transform=\"translate(34.47,233.87)\" d=\"M3,0A3,3 0 1,1 0,-3A3,3 0 0,1 3,0Z\" style=\"opacity: 1; stroke-width: 0px; fill: rgb(100, 100, 100); fill-opacity: 1;\"/><path class=\"point\" transform=\"translate(34.75,233.67)\" d=\"M3,0A3,3 0 1,1 0,-3A3,3 0 0,1 3,0Z\" style=\"opacity: 1; stroke-width: 0px; fill: rgb(100, 100, 100); fill-opacity: 1;\"/><path class=\"point\" transform=\"translate(23.72,241.43)\" d=\"M3,0A3,3 0 1,1 0,-3A3,3 0 0,1 3,0Z\" style=\"opacity: 1; stroke-width: 0px; fill: rgb(100, 100, 100); fill-opacity: 1;\"/><path class=\"point\" transform=\"translate(56.07,218.75)\" d=\"M3,0A3,3 0 1,1 0,-3A3,3 0 0,1 3,0Z\" style=\"opacity: 1; stroke-width: 0px; fill: rgb(100, 100, 100); fill-opacity: 1;\"/><path class=\"point\" transform=\"translate(23.11,241.31)\" d=\"M3,0A3,3 0 1,1 0,-3A3,3 0 0,1 3,0Z\" style=\"opacity: 1; stroke-width: 0px; fill: rgb(100, 100, 100); fill-opacity: 1;\"/><path class=\"point\" transform=\"translate(22.58,241.76)\" d=\"M3,0A3,3 0 1,1 0,-3A3,3 0 0,1 3,0Z\" style=\"opacity: 1; stroke-width: 0px; fill: rgb(100, 100, 100); fill-opacity: 1;\"/><path class=\"point\" transform=\"translate(21.09,242.99)\" d=\"M3,0A3,3 0 1,1 0,-3A3,3 0 0,1 3,0Z\" style=\"opacity: 1; stroke-width: 0px; fill: rgb(100, 100, 100); fill-opacity: 1;\"/><path class=\"point\" transform=\"translate(73.47,204.99)\" d=\"M3,0A3,3 0 1,1 0,-3A3,3 0 0,1 3,0Z\" style=\"opacity: 1; stroke-width: 0px; fill: rgb(100, 100, 100); fill-opacity: 1;\"/><path class=\"point\" transform=\"translate(20.87,243.18)\" d=\"M3,0A3,3 0 1,1 0,-3A3,3 0 0,1 3,0Z\" style=\"opacity: 1; stroke-width: 0px; fill: rgb(100, 100, 100); fill-opacity: 1;\"/><path class=\"point\" transform=\"translate(34.63,234.83)\" d=\"M3,0A3,3 0 1,1 0,-3A3,3 0 0,1 3,0Z\" style=\"opacity: 1; stroke-width: 0px; fill: rgb(100, 100, 100); fill-opacity: 1;\"/><path class=\"point\" transform=\"translate(40.37,225.99)\" d=\"M3,0A3,3 0 1,1 0,-3A3,3 0 0,1 3,0Z\" style=\"opacity: 1; stroke-width: 0px; fill: rgb(100, 100, 100); fill-opacity: 1;\"/><path class=\"point\" transform=\"translate(27.19,236.3)\" d=\"M3,0A3,3 0 1,1 0,-3A3,3 0 0,1 3,0Z\" style=\"opacity: 1; stroke-width: 0px; fill: rgb(100, 100, 100); fill-opacity: 1;\"/><path class=\"point\" transform=\"translate(27.13,235.28)\" d=\"M3,0A3,3 0 1,1 0,-3A3,3 0 0,1 3,0Z\" style=\"opacity: 1; stroke-width: 0px; fill: rgb(100, 100, 100); fill-opacity: 1;\"/><path class=\"point\" transform=\"translate(20.99,243.09)\" d=\"M3,0A3,3 0 1,1 0,-3A3,3 0 0,1 3,0Z\" style=\"opacity: 1; stroke-width: 0px; fill: rgb(100, 100, 100); fill-opacity: 1;\"/><path class=\"point\" transform=\"translate(20.75,243.25)\" d=\"M3,0A3,3 0 1,1 0,-3A3,3 0 0,1 3,0Z\" style=\"opacity: 1; stroke-width: 0px; fill: rgb(100, 100, 100); fill-opacity: 1;\"/><path class=\"point\" transform=\"translate(20.75,243.25)\" d=\"M3,0A3,3 0 1,1 0,-3A3,3 0 0,1 3,0Z\" style=\"opacity: 1; stroke-width: 0px; fill: rgb(100, 100, 100); fill-opacity: 1;\"/><path class=\"point\" transform=\"translate(20.76,243.25)\" d=\"M3,0A3,3 0 1,1 0,-3A3,3 0 0,1 3,0Z\" style=\"opacity: 1; stroke-width: 0px; fill: rgb(100, 100, 100); fill-opacity: 1;\"/><path class=\"point\" transform=\"translate(20.76,243.24)\" d=\"M3,0A3,3 0 1,1 0,-3A3,3 0 0,1 3,0Z\" style=\"opacity: 1; stroke-width: 0px; fill: rgb(100, 100, 100); fill-opacity: 1;\"/><path class=\"point\" transform=\"translate(23.63,241.79)\" d=\"M3,0A3,3 0 1,1 0,-3A3,3 0 0,1 3,0Z\" style=\"opacity: 1; stroke-width: 0px; fill: rgb(100, 100, 100); fill-opacity: 1;\"/><path class=\"point\" transform=\"translate(22.24,242.13)\" d=\"M3,0A3,3 0 1,1 0,-3A3,3 0 0,1 3,0Z\" style=\"opacity: 1; stroke-width: 0px; fill: rgb(100, 100, 100); fill-opacity: 1;\"/><path class=\"point\" transform=\"translate(20.8,243.22)\" d=\"M3,0A3,3 0 1,1 0,-3A3,3 0 0,1 3,0Z\" style=\"opacity: 1; stroke-width: 0px; fill: rgb(100, 100, 100); fill-opacity: 1;\"/><path class=\"point\" transform=\"translate(21.02,243.12)\" d=\"M3,0A3,3 0 1,1 0,-3A3,3 0 0,1 3,0Z\" style=\"opacity: 1; stroke-width: 0px; fill: rgb(100, 100, 100); fill-opacity: 1;\"/><path class=\"point\" transform=\"translate(21.24,242.98)\" d=\"M3,0A3,3 0 1,1 0,-3A3,3 0 0,1 3,0Z\" style=\"opacity: 1; stroke-width: 0px; fill: rgb(100, 100, 100); fill-opacity: 1;\"/><path class=\"point\" transform=\"translate(20.97,243.15)\" d=\"M3,0A3,3 0 1,1 0,-3A3,3 0 0,1 3,0Z\" style=\"opacity: 1; stroke-width: 0px; fill: rgb(100, 100, 100); fill-opacity: 1;\"/><path class=\"point\" transform=\"translate(20.88,243.16)\" d=\"M3,0A3,3 0 1,1 0,-3A3,3 0 0,1 3,0Z\" style=\"opacity: 1; stroke-width: 0px; fill: rgb(100, 100, 100); fill-opacity: 1;\"/><path class=\"point\" transform=\"translate(20.76,243.24)\" d=\"M3,0A3,3 0 1,1 0,-3A3,3 0 0,1 3,0Z\" style=\"opacity: 1; stroke-width: 0px; fill: rgb(100, 100, 100); fill-opacity: 1;\"/><path class=\"point\" transform=\"translate(22.11,241.57)\" d=\"M3,0A3,3 0 1,1 0,-3A3,3 0 0,1 3,0Z\" style=\"opacity: 1; stroke-width: 0px; fill: rgb(100, 100, 100); fill-opacity: 1;\"/><path class=\"point\" transform=\"translate(20.86,243.15)\" d=\"M3,0A3,3 0 1,1 0,-3A3,3 0 0,1 3,0Z\" style=\"opacity: 1; stroke-width: 0px; fill: rgb(100, 100, 100); fill-opacity: 1;\"/><path class=\"point\" transform=\"translate(20.86,243.13)\" d=\"M3,0A3,3 0 1,1 0,-3A3,3 0 0,1 3,0Z\" style=\"opacity: 1; stroke-width: 0px; fill: rgb(100, 100, 100); fill-opacity: 1;\"/><path class=\"point\" transform=\"translate(20.83,243.17)\" d=\"M3,0A3,3 0 1,1 0,-3A3,3 0 0,1 3,0Z\" style=\"opacity: 1; stroke-width: 0px; fill: rgb(100, 100, 100); fill-opacity: 1;\"/><path class=\"point\" transform=\"translate(20.88,243.12)\" d=\"M3,0A3,3 0 1,1 0,-3A3,3 0 0,1 3,0Z\" style=\"opacity: 1; stroke-width: 0px; fill: rgb(100, 100, 100); fill-opacity: 1;\"/><path class=\"point\" transform=\"translate(20.78,243.23)\" d=\"M3,0A3,3 0 1,1 0,-3A3,3 0 0,1 3,0Z\" style=\"opacity: 1; stroke-width: 0px; fill: rgb(100, 100, 100); fill-opacity: 1;\"/><path class=\"point\" transform=\"translate(21.47,242.59)\" d=\"M3,0A3,3 0 1,1 0,-3A3,3 0 0,1 3,0Z\" style=\"opacity: 1; stroke-width: 0px; fill: rgb(100, 100, 100); fill-opacity: 1;\"/><path class=\"point\" transform=\"translate(21.65,241.97)\" d=\"M3,0A3,3 0 1,1 0,-3A3,3 0 0,1 3,0Z\" style=\"opacity: 1; stroke-width: 0px; fill: rgb(100, 100, 100); fill-opacity: 1;\"/><path class=\"point\" transform=\"translate(21.58,242.85)\" d=\"M3,0A3,3 0 1,1 0,-3A3,3 0 0,1 3,0Z\" style=\"opacity: 1; stroke-width: 0px; fill: rgb(100, 100, 100); fill-opacity: 1;\"/><path class=\"point\" transform=\"translate(31.32,233.63)\" d=\"M3,0A3,3 0 1,1 0,-3A3,3 0 0,1 3,0Z\" style=\"opacity: 1; stroke-width: 0px; fill: rgb(100, 100, 100); fill-opacity: 1;\"/><path class=\"point\" transform=\"translate(28.41,236.22)\" d=\"M3,0A3,3 0 1,1 0,-3A3,3 0 0,1 3,0Z\" style=\"opacity: 1; stroke-width: 0px; fill: rgb(100, 100, 100); fill-opacity: 1;\"/><path class=\"point\" transform=\"translate(22.2,241.66)\" d=\"M3,0A3,3 0 1,1 0,-3A3,3 0 0,1 3,0Z\" style=\"opacity: 1; stroke-width: 0px; fill: rgb(100, 100, 100); fill-opacity: 1;\"/><path class=\"point\" transform=\"translate(61.49,208.34)\" d=\"M3,0A3,3 0 1,1 0,-3A3,3 0 0,1 3,0Z\" style=\"opacity: 1; stroke-width: 0px; fill: rgb(100, 100, 100); fill-opacity: 1;\"/><path class=\"point\" transform=\"translate(27.48,236.31)\" d=\"M3,0A3,3 0 1,1 0,-3A3,3 0 0,1 3,0Z\" style=\"opacity: 1; stroke-width: 0px; fill: rgb(100, 100, 100); fill-opacity: 1;\"/><path class=\"point\" transform=\"translate(25.89,237.48)\" d=\"M3,0A3,3 0 1,1 0,-3A3,3 0 0,1 3,0Z\" style=\"opacity: 1; stroke-width: 0px; fill: rgb(100, 100, 100); fill-opacity: 1;\"/><path class=\"point\" transform=\"translate(21.98,242.66)\" d=\"M3,0A3,3 0 1,1 0,-3A3,3 0 0,1 3,0Z\" style=\"opacity: 1; stroke-width: 0px; fill: rgb(100, 100, 100); fill-opacity: 1;\"/><path class=\"point\" transform=\"translate(20.84,243.17)\" d=\"M3,0A3,3 0 1,1 0,-3A3,3 0 0,1 3,0Z\" style=\"opacity: 1; stroke-width: 0px; fill: rgb(100, 100, 100); fill-opacity: 1;\"/><path class=\"point\" transform=\"translate(20.92,243.16)\" d=\"M3,0A3,3 0 1,1 0,-3A3,3 0 0,1 3,0Z\" style=\"opacity: 1; stroke-width: 0px; fill: rgb(100, 100, 100); fill-opacity: 1;\"/><path class=\"point\" transform=\"translate(66.97,217.63)\" d=\"M3,0A3,3 0 1,1 0,-3A3,3 0 0,1 3,0Z\" style=\"opacity: 1; stroke-width: 0px; fill: rgb(100, 100, 100); fill-opacity: 1;\"/><path class=\"point\" transform=\"translate(21.74,242.62)\" d=\"M3,0A3,3 0 1,1 0,-3A3,3 0 0,1 3,0Z\" style=\"opacity: 1; stroke-width: 0px; fill: rgb(100, 100, 100); fill-opacity: 1;\"/><path class=\"point\" transform=\"translate(34.98,233.7)\" d=\"M3,0A3,3 0 1,1 0,-3A3,3 0 0,1 3,0Z\" style=\"opacity: 1; stroke-width: 0px; fill: rgb(100, 100, 100); fill-opacity: 1;\"/><path class=\"point\" transform=\"translate(35.33,234.13)\" d=\"M3,0A3,3 0 1,1 0,-3A3,3 0 0,1 3,0Z\" style=\"opacity: 1; stroke-width: 0px; fill: rgb(100, 100, 100); fill-opacity: 1;\"/><path class=\"point\" transform=\"translate(23.88,241.34)\" d=\"M3,0A3,3 0 1,1 0,-3A3,3 0 0,1 3,0Z\" style=\"opacity: 1; stroke-width: 0px; fill: rgb(100, 100, 100); fill-opacity: 1;\"/><path class=\"point\" transform=\"translate(57.49,217.93)\" d=\"M3,0A3,3 0 1,1 0,-3A3,3 0 0,1 3,0Z\" style=\"opacity: 1; stroke-width: 0px; fill: rgb(100, 100, 100); fill-opacity: 1;\"/><path class=\"point\" transform=\"translate(23.12,241.34)\" d=\"M3,0A3,3 0 1,1 0,-3A3,3 0 0,1 3,0Z\" style=\"opacity: 1; stroke-width: 0px; fill: rgb(100, 100, 100); fill-opacity: 1;\"/><path class=\"point\" transform=\"translate(22.77,241.76)\" d=\"M3,0A3,3 0 1,1 0,-3A3,3 0 0,1 3,0Z\" style=\"opacity: 1; stroke-width: 0px; fill: rgb(100, 100, 100); fill-opacity: 1;\"/><path class=\"point\" transform=\"translate(21.11,243)\" d=\"M3,0A3,3 0 1,1 0,-3A3,3 0 0,1 3,0Z\" style=\"opacity: 1; stroke-width: 0px; fill: rgb(100, 100, 100); fill-opacity: 1;\"/><path class=\"point\" transform=\"translate(74.01,203.71)\" d=\"M3,0A3,3 0 1,1 0,-3A3,3 0 0,1 3,0Z\" style=\"opacity: 1; stroke-width: 0px; fill: rgb(100, 100, 100); fill-opacity: 1;\"/><path class=\"point\" transform=\"translate(20.85,243.18)\" d=\"M3,0A3,3 0 1,1 0,-3A3,3 0 0,1 3,0Z\" style=\"opacity: 1; stroke-width: 0px; fill: rgb(100, 100, 100); fill-opacity: 1;\"/><path class=\"point\" transform=\"translate(34.39,235.52)\" d=\"M3,0A3,3 0 1,1 0,-3A3,3 0 0,1 3,0Z\" style=\"opacity: 1; stroke-width: 0px; fill: rgb(100, 100, 100); fill-opacity: 1;\"/><path class=\"point\" transform=\"translate(39.26,226.34)\" d=\"M3,0A3,3 0 1,1 0,-3A3,3 0 0,1 3,0Z\" style=\"opacity: 1; stroke-width: 0px; fill: rgb(100, 100, 100); fill-opacity: 1;\"/><path class=\"point\" transform=\"translate(26.66,236.01)\" d=\"M3,0A3,3 0 1,1 0,-3A3,3 0 0,1 3,0Z\" style=\"opacity: 1; stroke-width: 0px; fill: rgb(100, 100, 100); fill-opacity: 1;\"/><path class=\"point\" transform=\"translate(26.59,235.45)\" d=\"M3,0A3,3 0 1,1 0,-3A3,3 0 0,1 3,0Z\" style=\"opacity: 1; stroke-width: 0px; fill: rgb(100, 100, 100); fill-opacity: 1;\"/><path class=\"point\" transform=\"translate(20.86,243.18)\" d=\"M3,0A3,3 0 1,1 0,-3A3,3 0 0,1 3,0Z\" style=\"opacity: 1; stroke-width: 0px; fill: rgb(100, 100, 100); fill-opacity: 1;\"/><path class=\"point\" transform=\"translate(20.75,243.25)\" d=\"M3,0A3,3 0 1,1 0,-3A3,3 0 0,1 3,0Z\" style=\"opacity: 1; stroke-width: 0px; fill: rgb(100, 100, 100); fill-opacity: 1;\"/><path class=\"point\" transform=\"translate(20.75,243.25)\" d=\"M3,0A3,3 0 1,1 0,-3A3,3 0 0,1 3,0Z\" style=\"opacity: 1; stroke-width: 0px; fill: rgb(100, 100, 100); fill-opacity: 1;\"/><path class=\"point\" transform=\"translate(20.75,243.25)\" d=\"M3,0A3,3 0 1,1 0,-3A3,3 0 0,1 3,0Z\" style=\"opacity: 1; stroke-width: 0px; fill: rgb(100, 100, 100); fill-opacity: 1;\"/><path class=\"point\" transform=\"translate(20.75,243.25)\" d=\"M3,0A3,3 0 1,1 0,-3A3,3 0 0,1 3,0Z\" style=\"opacity: 1; stroke-width: 0px; fill: rgb(100, 100, 100); fill-opacity: 1;\"/><path class=\"point\" transform=\"translate(22.75,242.28)\" d=\"M3,0A3,3 0 1,1 0,-3A3,3 0 0,1 3,0Z\" style=\"opacity: 1; stroke-width: 0px; fill: rgb(100, 100, 100); fill-opacity: 1;\"/><path class=\"point\" transform=\"translate(21.98,242.49)\" d=\"M3,0A3,3 0 1,1 0,-3A3,3 0 0,1 3,0Z\" style=\"opacity: 1; stroke-width: 0px; fill: rgb(100, 100, 100); fill-opacity: 1;\"/><path class=\"point\" transform=\"translate(20.82,243.19)\" d=\"M3,0A3,3 0 1,1 0,-3A3,3 0 0,1 3,0Z\" style=\"opacity: 1; stroke-width: 0px; fill: rgb(100, 100, 100); fill-opacity: 1;\"/><path class=\"point\" transform=\"translate(21.03,243.12)\" d=\"M3,0A3,3 0 1,1 0,-3A3,3 0 0,1 3,0Z\" style=\"opacity: 1; stroke-width: 0px; fill: rgb(100, 100, 100); fill-opacity: 1;\"/><path class=\"point\" transform=\"translate(20.75,243.25)\" d=\"M3,0A3,3 0 1,1 0,-3A3,3 0 0,1 3,0Z\" style=\"opacity: 1; stroke-width: 0px; fill: rgb(100, 100, 100); fill-opacity: 1;\"/><path class=\"point\" transform=\"translate(21.25,242.92)\" d=\"M3,0A3,3 0 1,1 0,-3A3,3 0 0,1 3,0Z\" style=\"opacity: 1; stroke-width: 0px; fill: rgb(100, 100, 100); fill-opacity: 1;\"/><path class=\"point\" transform=\"translate(20.95,243.13)\" d=\"M3,0A3,3 0 1,1 0,-3A3,3 0 0,1 3,0Z\" style=\"opacity: 1; stroke-width: 0px; fill: rgb(100, 100, 100); fill-opacity: 1;\"/><path class=\"point\" transform=\"translate(20.93,243.16)\" d=\"M3,0A3,3 0 1,1 0,-3A3,3 0 0,1 3,0Z\" style=\"opacity: 1; stroke-width: 0px; fill: rgb(100, 100, 100); fill-opacity: 1;\"/><path class=\"point\" transform=\"translate(20.77,243.24)\" d=\"M3,0A3,3 0 1,1 0,-3A3,3 0 0,1 3,0Z\" style=\"opacity: 1; stroke-width: 0px; fill: rgb(100, 100, 100); fill-opacity: 1;\"/><path class=\"point\" transform=\"translate(22.05,241.5)\" d=\"M3,0A3,3 0 1,1 0,-3A3,3 0 0,1 3,0Z\" style=\"opacity: 1; stroke-width: 0px; fill: rgb(100, 100, 100); fill-opacity: 1;\"/><path class=\"point\" transform=\"translate(20.85,243.14)\" d=\"M3,0A3,3 0 1,1 0,-3A3,3 0 0,1 3,0Z\" style=\"opacity: 1; stroke-width: 0px; fill: rgb(100, 100, 100); fill-opacity: 1;\"/><path class=\"point\" transform=\"translate(20.9,243.12)\" d=\"M3,0A3,3 0 1,1 0,-3A3,3 0 0,1 3,0Z\" style=\"opacity: 1; stroke-width: 0px; fill: rgb(100, 100, 100); fill-opacity: 1;\"/><path class=\"point\" transform=\"translate(20.82,243.18)\" d=\"M3,0A3,3 0 1,1 0,-3A3,3 0 0,1 3,0Z\" style=\"opacity: 1; stroke-width: 0px; fill: rgb(100, 100, 100); fill-opacity: 1;\"/><path class=\"point\" transform=\"translate(20.88,243.15)\" d=\"M3,0A3,3 0 1,1 0,-3A3,3 0 0,1 3,0Z\" style=\"opacity: 1; stroke-width: 0px; fill: rgb(100, 100, 100); fill-opacity: 1;\"/><path class=\"point\" transform=\"translate(20.78,243.22)\" d=\"M3,0A3,3 0 1,1 0,-3A3,3 0 0,1 3,0Z\" style=\"opacity: 1; stroke-width: 0px; fill: rgb(100, 100, 100); fill-opacity: 1;\"/><path class=\"point\" transform=\"translate(21.42,242.76)\" d=\"M3,0A3,3 0 1,1 0,-3A3,3 0 0,1 3,0Z\" style=\"opacity: 1; stroke-width: 0px; fill: rgb(100, 100, 100); fill-opacity: 1;\"/><path class=\"point\" transform=\"translate(21.54,242.2)\" d=\"M3,0A3,3 0 1,1 0,-3A3,3 0 0,1 3,0Z\" style=\"opacity: 1; stroke-width: 0px; fill: rgb(100, 100, 100); fill-opacity: 1;\"/><path class=\"point\" transform=\"translate(315.31,19.19)\" d=\"M3,0A3,3 0 1,1 0,-3A3,3 0 0,1 3,0Z\" style=\"opacity: 1; stroke-width: 0px; fill: rgb(100, 100, 100); fill-opacity: 1;\"/><path class=\"point\" transform=\"translate(20.77,243.25)\" d=\"M3,0A3,3 0 1,1 0,-3A3,3 0 0,1 3,0Z\" style=\"opacity: 1; stroke-width: 0px; fill: rgb(100, 100, 100); fill-opacity: 1;\"/><path class=\"point\" transform=\"translate(20.78,243.23)\" d=\"M3,0A3,3 0 1,1 0,-3A3,3 0 0,1 3,0Z\" style=\"opacity: 1; stroke-width: 0px; fill: rgb(100, 100, 100); fill-opacity: 1;\"/><path class=\"point\" transform=\"translate(20.77,243.25)\" d=\"M3,0A3,3 0 1,1 0,-3A3,3 0 0,1 3,0Z\" style=\"opacity: 1; stroke-width: 0px; fill: rgb(100, 100, 100); fill-opacity: 1;\"/><path class=\"point\" transform=\"translate(21.54,242.9)\" d=\"M3,0A3,3 0 1,1 0,-3A3,3 0 0,1 3,0Z\" style=\"opacity: 1; stroke-width: 0px; fill: rgb(100, 100, 100); fill-opacity: 1;\"/><path class=\"point\" transform=\"translate(20.77,243.24)\" d=\"M3,0A3,3 0 1,1 0,-3A3,3 0 0,1 3,0Z\" style=\"opacity: 1; stroke-width: 0px; fill: rgb(100, 100, 100); fill-opacity: 1;\"/><path class=\"point\" transform=\"translate(20.8,243.23)\" d=\"M3,0A3,3 0 1,1 0,-3A3,3 0 0,1 3,0Z\" style=\"opacity: 1; stroke-width: 0px; fill: rgb(100, 100, 100); fill-opacity: 1;\"/><path class=\"point\" transform=\"translate(20.82,243.23)\" d=\"M3,0A3,3 0 1,1 0,-3A3,3 0 0,1 3,0Z\" style=\"opacity: 1; stroke-width: 0px; fill: rgb(100, 100, 100); fill-opacity: 1;\"/><path class=\"point\" transform=\"translate(20.82,243.25)\" d=\"M3,0A3,3 0 1,1 0,-3A3,3 0 0,1 3,0Z\" style=\"opacity: 1; stroke-width: 0px; fill: rgb(100, 100, 100); fill-opacity: 1;\"/><path class=\"point\" transform=\"translate(20.78,243.25)\" d=\"M3,0A3,3 0 1,1 0,-3A3,3 0 0,1 3,0Z\" style=\"opacity: 1; stroke-width: 0px; fill: rgb(100, 100, 100); fill-opacity: 1;\"/><path class=\"point\" transform=\"translate(20.78,243.23)\" d=\"M3,0A3,3 0 1,1 0,-3A3,3 0 0,1 3,0Z\" style=\"opacity: 1; stroke-width: 0px; fill: rgb(100, 100, 100); fill-opacity: 1;\"/><path class=\"point\" transform=\"translate(20.77,243.25)\" d=\"M3,0A3,3 0 1,1 0,-3A3,3 0 0,1 3,0Z\" style=\"opacity: 1; stroke-width: 0px; fill: rgb(100, 100, 100); fill-opacity: 1;\"/><path class=\"point\" transform=\"translate(20.9,243.23)\" d=\"M3,0A3,3 0 1,1 0,-3A3,3 0 0,1 3,0Z\" style=\"opacity: 1; stroke-width: 0px; fill: rgb(100, 100, 100); fill-opacity: 1;\"/><path class=\"point\" transform=\"translate(20.88,243.22)\" d=\"M3,0A3,3 0 1,1 0,-3A3,3 0 0,1 3,0Z\" style=\"opacity: 1; stroke-width: 0px; fill: rgb(100, 100, 100); fill-opacity: 1;\"/><path class=\"point\" transform=\"translate(20.91,243.18)\" d=\"M3,0A3,3 0 1,1 0,-3A3,3 0 0,1 3,0Z\" style=\"opacity: 1; stroke-width: 0px; fill: rgb(100, 100, 100); fill-opacity: 1;\"/><path class=\"point\" transform=\"translate(20.86,243.21)\" d=\"M3,0A3,3 0 1,1 0,-3A3,3 0 0,1 3,0Z\" style=\"opacity: 1; stroke-width: 0px; fill: rgb(100, 100, 100); fill-opacity: 1;\"/><path class=\"point\" transform=\"translate(20.83,243.2)\" d=\"M3,0A3,3 0 1,1 0,-3A3,3 0 0,1 3,0Z\" style=\"opacity: 1; stroke-width: 0px; fill: rgb(100, 100, 100); fill-opacity: 1;\"/><path class=\"point\" transform=\"translate(21.73,242.21)\" d=\"M3,0A3,3 0 1,1 0,-3A3,3 0 0,1 3,0Z\" style=\"opacity: 1; stroke-width: 0px; fill: rgb(100, 100, 100); fill-opacity: 1;\"/><path class=\"point\" transform=\"translate(20.76,243.25)\" d=\"M3,0A3,3 0 1,1 0,-3A3,3 0 0,1 3,0Z\" style=\"opacity: 1; stroke-width: 0px; fill: rgb(100, 100, 100); fill-opacity: 1;\"/><path class=\"point\" transform=\"translate(20.76,243.25)\" d=\"M3,0A3,3 0 1,1 0,-3A3,3 0 0,1 3,0Z\" style=\"opacity: 1; stroke-width: 0px; fill: rgb(100, 100, 100); fill-opacity: 1;\"/><path class=\"point\" transform=\"translate(21.53,242.77)\" d=\"M3,0A3,3 0 1,1 0,-3A3,3 0 0,1 3,0Z\" style=\"opacity: 1; stroke-width: 0px; fill: rgb(100, 100, 100); fill-opacity: 1;\"/><path class=\"point\" transform=\"translate(21.02,243.06)\" d=\"M3,0A3,3 0 1,1 0,-3A3,3 0 0,1 3,0Z\" style=\"opacity: 1; stroke-width: 0px; fill: rgb(100, 100, 100); fill-opacity: 1;\"/><path class=\"point\" transform=\"translate(22.38,241.49)\" d=\"M3,0A3,3 0 1,1 0,-3A3,3 0 0,1 3,0Z\" style=\"opacity: 1; stroke-width: 0px; fill: rgb(100, 100, 100); fill-opacity: 1;\"/><path class=\"point\" transform=\"translate(20.78,243.22)\" d=\"M3,0A3,3 0 1,1 0,-3A3,3 0 0,1 3,0Z\" style=\"opacity: 1; stroke-width: 0px; fill: rgb(100, 100, 100); fill-opacity: 1;\"/><path class=\"point\" transform=\"translate(20.77,243.24)\" d=\"M3,0A3,3 0 1,1 0,-3A3,3 0 0,1 3,0Z\" style=\"opacity: 1; stroke-width: 0px; fill: rgb(100, 100, 100); fill-opacity: 1;\"/><path class=\"point\" transform=\"translate(21.05,243.12)\" d=\"M3,0A3,3 0 1,1 0,-3A3,3 0 0,1 3,0Z\" style=\"opacity: 1; stroke-width: 0px; fill: rgb(100, 100, 100); fill-opacity: 1;\"/><path class=\"point\" transform=\"translate(318.78,18.41)\" d=\"M3,0A3,3 0 1,1 0,-3A3,3 0 0,1 3,0Z\" style=\"opacity: 1; stroke-width: 0px; fill: rgb(100, 100, 100); fill-opacity: 1;\"/><path class=\"point\" transform=\"translate(20.81,243.25)\" d=\"M3,0A3,3 0 1,1 0,-3A3,3 0 0,1 3,0Z\" style=\"opacity: 1; stroke-width: 0px; fill: rgb(100, 100, 100); fill-opacity: 1;\"/><path class=\"point\" transform=\"translate(20.75,243.25)\" d=\"M3,0A3,3 0 1,1 0,-3A3,3 0 0,1 3,0Z\" style=\"opacity: 1; stroke-width: 0px; fill: rgb(100, 100, 100); fill-opacity: 1;\"/><path class=\"point\" transform=\"translate(21.12,242.28)\" d=\"M3,0A3,3 0 1,1 0,-3A3,3 0 0,1 3,0Z\" style=\"opacity: 1; stroke-width: 0px; fill: rgb(100, 100, 100); fill-opacity: 1;\"/><path class=\"point\" transform=\"translate(20.76,243.2)\" d=\"M3,0A3,3 0 1,1 0,-3A3,3 0 0,1 3,0Z\" style=\"opacity: 1; stroke-width: 0px; fill: rgb(100, 100, 100); fill-opacity: 1;\"/><path class=\"point\" transform=\"translate(20.77,243.17)\" d=\"M3,0A3,3 0 1,1 0,-3A3,3 0 0,1 3,0Z\" style=\"opacity: 1; stroke-width: 0px; fill: rgb(100, 100, 100); fill-opacity: 1;\"/><path class=\"point\" transform=\"translate(20.81,243.23)\" d=\"M3,0A3,3 0 1,1 0,-3A3,3 0 0,1 3,0Z\" style=\"opacity: 1; stroke-width: 0px; fill: rgb(100, 100, 100); fill-opacity: 1;\"/><path class=\"point\" transform=\"translate(20.79,243.24)\" d=\"M3,0A3,3 0 1,1 0,-3A3,3 0 0,1 3,0Z\" style=\"opacity: 1; stroke-width: 0px; fill: rgb(100, 100, 100); fill-opacity: 1;\"/><path class=\"point\" transform=\"translate(20.77,243.24)\" d=\"M3,0A3,3 0 1,1 0,-3A3,3 0 0,1 3,0Z\" style=\"opacity: 1; stroke-width: 0px; fill: rgb(100, 100, 100); fill-opacity: 1;\"/><path class=\"point\" transform=\"translate(20.75,243.23)\" d=\"M3,0A3,3 0 1,1 0,-3A3,3 0 0,1 3,0Z\" style=\"opacity: 1; stroke-width: 0px; fill: rgb(100, 100, 100); fill-opacity: 1;\"/><path class=\"point\" transform=\"translate(20.75,243.24)\" d=\"M3,0A3,3 0 1,1 0,-3A3,3 0 0,1 3,0Z\" style=\"opacity: 1; stroke-width: 0px; fill: rgb(100, 100, 100); fill-opacity: 1;\"/><path class=\"point\" transform=\"translate(20.84,243.2)\" d=\"M3,0A3,3 0 1,1 0,-3A3,3 0 0,1 3,0Z\" style=\"opacity: 1; stroke-width: 0px; fill: rgb(100, 100, 100); fill-opacity: 1;\"/><path class=\"point\" transform=\"translate(20.81,243.2)\" d=\"M3,0A3,3 0 1,1 0,-3A3,3 0 0,1 3,0Z\" style=\"opacity: 1; stroke-width: 0px; fill: rgb(100, 100, 100); fill-opacity: 1;\"/><path class=\"point\" transform=\"translate(20.87,243.08)\" d=\"M3,0A3,3 0 1,1 0,-3A3,3 0 0,1 3,0Z\" style=\"opacity: 1; stroke-width: 0px; fill: rgb(100, 100, 100); fill-opacity: 1;\"/><path class=\"point\" transform=\"translate(20.82,243.2)\" d=\"M3,0A3,3 0 1,1 0,-3A3,3 0 0,1 3,0Z\" style=\"opacity: 1; stroke-width: 0px; fill: rgb(100, 100, 100); fill-opacity: 1;\"/><path class=\"point\" transform=\"translate(20.81,243.18)\" d=\"M3,0A3,3 0 1,1 0,-3A3,3 0 0,1 3,0Z\" style=\"opacity: 1; stroke-width: 0px; fill: rgb(100, 100, 100); fill-opacity: 1;\"/><path class=\"point\" transform=\"translate(21.01,242.77)\" d=\"M3,0A3,3 0 1,1 0,-3A3,3 0 0,1 3,0Z\" style=\"opacity: 1; stroke-width: 0px; fill: rgb(100, 100, 100); fill-opacity: 1;\"/><path class=\"point\" transform=\"translate(20.75,243.24)\" d=\"M3,0A3,3 0 1,1 0,-3A3,3 0 0,1 3,0Z\" style=\"opacity: 1; stroke-width: 0px; fill: rgb(100, 100, 100); fill-opacity: 1;\"/><path class=\"point\" transform=\"translate(21.18,242.65)\" d=\"M3,0A3,3 0 1,1 0,-3A3,3 0 0,1 3,0Z\" style=\"opacity: 1; stroke-width: 0px; fill: rgb(100, 100, 100); fill-opacity: 1;\"/><path class=\"point\" transform=\"translate(20.92,242.9)\" d=\"M3,0A3,3 0 1,1 0,-3A3,3 0 0,1 3,0Z\" style=\"opacity: 1; stroke-width: 0px; fill: rgb(100, 100, 100); fill-opacity: 1;\"/><path class=\"point\" transform=\"translate(21.1,243.03)\" d=\"M3,0A3,3 0 1,1 0,-3A3,3 0 0,1 3,0Z\" style=\"opacity: 1; stroke-width: 0px; fill: rgb(100, 100, 100); fill-opacity: 1;\"/><path class=\"point\" transform=\"translate(20.76,243.22)\" d=\"M3,0A3,3 0 1,1 0,-3A3,3 0 0,1 3,0Z\" style=\"opacity: 1; stroke-width: 0px; fill: rgb(100, 100, 100); fill-opacity: 1;\"/><path class=\"point\" transform=\"translate(20.75,243.2)\" d=\"M3,0A3,3 0 1,1 0,-3A3,3 0 0,1 3,0Z\" style=\"opacity: 1; stroke-width: 0px; fill: rgb(100, 100, 100); fill-opacity: 1;\"/><path class=\"point\" transform=\"translate(20.77,243.24)\" d=\"M3,0A3,3 0 1,1 0,-3A3,3 0 0,1 3,0Z\" style=\"opacity: 1; stroke-width: 0px; fill: rgb(100, 100, 100); fill-opacity: 1;\"/><path class=\"point\" transform=\"translate(20.79,243.05)\" d=\"M3,0A3,3 0 1,1 0,-3A3,3 0 0,1 3,0Z\" style=\"opacity: 1; stroke-width: 0px; fill: rgb(100, 100, 100); fill-opacity: 1;\"/><path class=\"point\" transform=\"translate(319.25,16.75)\" d=\"M3,0A3,3 0 1,1 0,-3A3,3 0 0,1 3,0Z\" style=\"opacity: 1; stroke-width: 0px; fill: rgb(100, 100, 100); fill-opacity: 1;\"/><path class=\"point\" transform=\"translate(20.77,243.25)\" d=\"M3,0A3,3 0 1,1 0,-3A3,3 0 0,1 3,0Z\" style=\"opacity: 1; stroke-width: 0px; fill: rgb(100, 100, 100); fill-opacity: 1;\"/><path class=\"point\" transform=\"translate(20.79,243.25)\" d=\"M3,0A3,3 0 1,1 0,-3A3,3 0 0,1 3,0Z\" style=\"opacity: 1; stroke-width: 0px; fill: rgb(100, 100, 100); fill-opacity: 1;\"/><path class=\"point\" transform=\"translate(20.76,243.25)\" d=\"M3,0A3,3 0 1,1 0,-3A3,3 0 0,1 3,0Z\" style=\"opacity: 1; stroke-width: 0px; fill: rgb(100, 100, 100); fill-opacity: 1;\"/><path class=\"point\" transform=\"translate(21.08,242.76)\" d=\"M3,0A3,3 0 1,1 0,-3A3,3 0 0,1 3,0Z\" style=\"opacity: 1; stroke-width: 0px; fill: rgb(100, 100, 100); fill-opacity: 1;\"/><path class=\"point\" transform=\"translate(20.77,243.17)\" d=\"M3,0A3,3 0 1,1 0,-3A3,3 0 0,1 3,0Z\" style=\"opacity: 1; stroke-width: 0px; fill: rgb(100, 100, 100); fill-opacity: 1;\"/><path class=\"point\" transform=\"translate(20.77,243.2)\" d=\"M3,0A3,3 0 1,1 0,-3A3,3 0 0,1 3,0Z\" style=\"opacity: 1; stroke-width: 0px; fill: rgb(100, 100, 100); fill-opacity: 1;\"/><path class=\"point\" transform=\"translate(20.8,243.25)\" d=\"M3,0A3,3 0 1,1 0,-3A3,3 0 0,1 3,0Z\" style=\"opacity: 1; stroke-width: 0px; fill: rgb(100, 100, 100); fill-opacity: 1;\"/><path class=\"point\" transform=\"translate(20.77,243.25)\" d=\"M3,0A3,3 0 1,1 0,-3A3,3 0 0,1 3,0Z\" style=\"opacity: 1; stroke-width: 0px; fill: rgb(100, 100, 100); fill-opacity: 1;\"/><path class=\"point\" transform=\"translate(20.78,243.23)\" d=\"M3,0A3,3 0 1,1 0,-3A3,3 0 0,1 3,0Z\" style=\"opacity: 1; stroke-width: 0px; fill: rgb(100, 100, 100); fill-opacity: 1;\"/><path class=\"point\" transform=\"translate(20.77,243.19)\" d=\"M3,0A3,3 0 1,1 0,-3A3,3 0 0,1 3,0Z\" style=\"opacity: 1; stroke-width: 0px; fill: rgb(100, 100, 100); fill-opacity: 1;\"/><path class=\"point\" transform=\"translate(20.77,243.25)\" d=\"M3,0A3,3 0 1,1 0,-3A3,3 0 0,1 3,0Z\" style=\"opacity: 1; stroke-width: 0px; fill: rgb(100, 100, 100); fill-opacity: 1;\"/><path class=\"point\" transform=\"translate(20.76,243.25)\" d=\"M3,0A3,3 0 1,1 0,-3A3,3 0 0,1 3,0Z\" style=\"opacity: 1; stroke-width: 0px; fill: rgb(100, 100, 100); fill-opacity: 1;\"/><path class=\"point\" transform=\"translate(20.85,243.22)\" d=\"M3,0A3,3 0 1,1 0,-3A3,3 0 0,1 3,0Z\" style=\"opacity: 1; stroke-width: 0px; fill: rgb(100, 100, 100); fill-opacity: 1;\"/><path class=\"point\" transform=\"translate(20.8,243.23)\" d=\"M3,0A3,3 0 1,1 0,-3A3,3 0 0,1 3,0Z\" style=\"opacity: 1; stroke-width: 0px; fill: rgb(100, 100, 100); fill-opacity: 1;\"/><path class=\"point\" transform=\"translate(20.83,243.19)\" d=\"M3,0A3,3 0 1,1 0,-3A3,3 0 0,1 3,0Z\" style=\"opacity: 1; stroke-width: 0px; fill: rgb(100, 100, 100); fill-opacity: 1;\"/><path class=\"point\" transform=\"translate(20.8,243.19)\" d=\"M3,0A3,3 0 1,1 0,-3A3,3 0 0,1 3,0Z\" style=\"opacity: 1; stroke-width: 0px; fill: rgb(100, 100, 100); fill-opacity: 1;\"/><path class=\"point\" transform=\"translate(20.81,243.14)\" d=\"M3,0A3,3 0 1,1 0,-3A3,3 0 0,1 3,0Z\" style=\"opacity: 1; stroke-width: 0px; fill: rgb(100, 100, 100); fill-opacity: 1;\"/><path class=\"point\" transform=\"translate(20.93,243.14)\" d=\"M3,0A3,3 0 1,1 0,-3A3,3 0 0,1 3,0Z\" style=\"opacity: 1; stroke-width: 0px; fill: rgb(100, 100, 100); fill-opacity: 1;\"/><path class=\"point\" transform=\"translate(21.05,242.87)\" d=\"M3,0A3,3 0 1,1 0,-3A3,3 0 0,1 3,0Z\" style=\"opacity: 1; stroke-width: 0px; fill: rgb(100, 100, 100); fill-opacity: 1;\"/><path class=\"point\" transform=\"translate(20.88,243.14)\" d=\"M3,0A3,3 0 1,1 0,-3A3,3 0 0,1 3,0Z\" style=\"opacity: 1; stroke-width: 0px; fill: rgb(100, 100, 100); fill-opacity: 1;\"/><path class=\"point\" transform=\"translate(20.98,243.1)\" d=\"M3,0A3,3 0 1,1 0,-3A3,3 0 0,1 3,0Z\" style=\"opacity: 1; stroke-width: 0px; fill: rgb(100, 100, 100); fill-opacity: 1;\"/><path class=\"point\" transform=\"translate(20.77,243.25)\" d=\"M3,0A3,3 0 1,1 0,-3A3,3 0 0,1 3,0Z\" style=\"opacity: 1; stroke-width: 0px; fill: rgb(100, 100, 100); fill-opacity: 1;\"/><path class=\"point\" transform=\"translate(20.77,243.22)\" d=\"M3,0A3,3 0 1,1 0,-3A3,3 0 0,1 3,0Z\" style=\"opacity: 1; stroke-width: 0px; fill: rgb(100, 100, 100); fill-opacity: 1;\"/><path class=\"point\" transform=\"translate(20.76,243.24)\" d=\"M3,0A3,3 0 1,1 0,-3A3,3 0 0,1 3,0Z\" style=\"opacity: 1; stroke-width: 0px; fill: rgb(100, 100, 100); fill-opacity: 1;\"/><path class=\"point\" transform=\"translate(20.81,243.16)\" d=\"M3,0A3,3 0 1,1 0,-3A3,3 0 0,1 3,0Z\" style=\"opacity: 1; stroke-width: 0px; fill: rgb(100, 100, 100); fill-opacity: 1;\"/></g><g class=\"text\"/></g><g class=\"trace scatter trace470a8c\" style=\"stroke-miterlimit: 2; opacity: 1;\"><g class=\"fills\"/><g class=\"errorbars\"/><g class=\"lines\"><path class=\"js-line\" d=\"M20.75,243.19L74.01,203.07L315.31,21.26L319.25,18.29\" style=\"vector-effect: non-scaling-stroke; fill: none; stroke: rgb(100, 100, 100); stroke-opacity: 1; stroke-width: 2px; opacity: 1;\"/></g><g class=\"points\"/><g class=\"text\"/></g></g></g><g class=\"overplot\"/><path class=\"xlines-above crisp\" d=\"M79,320.5H420\" style=\"fill: none; stroke-width: 1px; stroke: rgb(36, 36, 36); stroke-opacity: 1;\"/><path class=\"ylines-above crisp\" d=\"M79.5,60V320\" style=\"fill: none; stroke-width: 1px; stroke: rgb(36, 36, 36); stroke-opacity: 1;\"/><g class=\"overlines-above\"/><g class=\"xaxislayer-above\"><path class=\"xtick ticks crisp\" d=\"M0,321v5\" transform=\"translate(100.75,0)\" style=\"stroke: rgb(68, 68, 68); stroke-opacity: 1; stroke-width: 1px;\"/><path class=\"xtick ticks crisp\" d=\"M0,321v5\" transform=\"translate(130.79,0)\" style=\"stroke: rgb(68, 68, 68); stroke-opacity: 1; stroke-width: 1px;\"/><path class=\"xtick ticks crisp\" d=\"M0,321v5\" transform=\"translate(160.82999999999998,0)\" style=\"stroke: rgb(68, 68, 68); stroke-opacity: 1; stroke-width: 1px;\"/><path class=\"xtick ticks crisp\" d=\"M0,321v5\" transform=\"translate(190.88,0)\" style=\"stroke: rgb(68, 68, 68); stroke-opacity: 1; stroke-width: 1px;\"/><path class=\"xtick ticks crisp\" d=\"M0,321v5\" transform=\"translate(220.92,0)\" style=\"stroke: rgb(68, 68, 68); stroke-opacity: 1; stroke-width: 1px;\"/><path class=\"xtick ticks crisp\" d=\"M0,321v5\" transform=\"translate(250.96,0)\" style=\"stroke: rgb(68, 68, 68); stroke-opacity: 1; stroke-width: 1px;\"/><path class=\"xtick ticks crisp\" d=\"M0,321v5\" transform=\"translate(281.01,0)\" style=\"stroke: rgb(68, 68, 68); stroke-opacity: 1; stroke-width: 1px;\"/><path class=\"xtick ticks crisp\" d=\"M0,321v5\" transform=\"translate(311.05,0)\" style=\"stroke: rgb(68, 68, 68); stroke-opacity: 1; stroke-width: 1px;\"/><path class=\"xtick ticks crisp\" d=\"M0,321v5\" transform=\"translate(341.09,0)\" style=\"stroke: rgb(68, 68, 68); stroke-opacity: 1; stroke-width: 1px;\"/><path class=\"xtick ticks crisp\" d=\"M0,321v5\" transform=\"translate(371.13,0)\" style=\"stroke: rgb(68, 68, 68); stroke-opacity: 1; stroke-width: 1px;\"/><path class=\"xtick ticks crisp\" d=\"M0,321v5\" transform=\"translate(401.18,0)\" style=\"stroke: rgb(68, 68, 68); stroke-opacity: 1; stroke-width: 1px;\"/><g class=\"xtick\"><text text-anchor=\"middle\" x=\"0\" y=\"340.4\" transform=\"translate(100.75,0)\" style=\"font-family: 'Open Sans', verdana, arial, sans-serif; font-size: 12px; fill: rgb(36, 36, 36); fill-opacity: 1; white-space: pre; opacity: 1;\">0</text></g><g class=\"xtick\"><text text-anchor=\"middle\" x=\"0\" y=\"340.4\" style=\"font-family: 'Open Sans', verdana, arial, sans-serif; font-size: 12px; fill: rgb(36, 36, 36); fill-opacity: 1; white-space: pre; opacity: 1;\" transform=\"translate(130.79,0)\">10</text></g><g class=\"xtick\"><text text-anchor=\"middle\" x=\"0\" y=\"340.4\" style=\"font-family: 'Open Sans', verdana, arial, sans-serif; font-size: 12px; fill: rgb(36, 36, 36); fill-opacity: 1; white-space: pre; opacity: 1;\" transform=\"translate(160.82999999999998,0)\">20</text></g><g class=\"xtick\"><text text-anchor=\"middle\" x=\"0\" y=\"340.4\" style=\"font-family: 'Open Sans', verdana, arial, sans-serif; font-size: 12px; fill: rgb(36, 36, 36); fill-opacity: 1; white-space: pre; opacity: 1;\" transform=\"translate(190.88,0)\">30</text></g><g class=\"xtick\"><text text-anchor=\"middle\" x=\"0\" y=\"340.4\" style=\"font-family: 'Open Sans', verdana, arial, sans-serif; font-size: 12px; fill: rgb(36, 36, 36); fill-opacity: 1; white-space: pre; opacity: 1;\" transform=\"translate(220.92,0)\">40</text></g><g class=\"xtick\"><text text-anchor=\"middle\" x=\"0\" y=\"340.4\" style=\"font-family: 'Open Sans', verdana, arial, sans-serif; font-size: 12px; fill: rgb(36, 36, 36); fill-opacity: 1; white-space: pre; opacity: 1;\" transform=\"translate(250.96,0)\">50</text></g><g class=\"xtick\"><text text-anchor=\"middle\" x=\"0\" y=\"340.4\" style=\"font-family: 'Open Sans', verdana, arial, sans-serif; font-size: 12px; fill: rgb(36, 36, 36); fill-opacity: 1; white-space: pre; opacity: 1;\" transform=\"translate(281.01,0)\">60</text></g><g class=\"xtick\"><text text-anchor=\"middle\" x=\"0\" y=\"340.4\" style=\"font-family: 'Open Sans', verdana, arial, sans-serif; font-size: 12px; fill: rgb(36, 36, 36); fill-opacity: 1; white-space: pre; opacity: 1;\" transform=\"translate(311.05,0)\">70</text></g><g class=\"xtick\"><text text-anchor=\"middle\" x=\"0\" y=\"340.4\" style=\"font-family: 'Open Sans', verdana, arial, sans-serif; font-size: 12px; fill: rgb(36, 36, 36); fill-opacity: 1; white-space: pre; opacity: 1;\" transform=\"translate(341.09,0)\">80</text></g><g class=\"xtick\"><text text-anchor=\"middle\" x=\"0\" y=\"340.4\" style=\"font-family: 'Open Sans', verdana, arial, sans-serif; font-size: 12px; fill: rgb(36, 36, 36); fill-opacity: 1; white-space: pre; opacity: 1;\" transform=\"translate(371.13,0)\">90</text></g><g class=\"xtick\"><text text-anchor=\"middle\" x=\"0\" y=\"340.4\" style=\"font-family: 'Open Sans', verdana, arial, sans-serif; font-size: 12px; fill: rgb(36, 36, 36); fill-opacity: 1; white-space: pre; opacity: 1;\" transform=\"translate(401.18,0)\">100</text></g></g><g class=\"yaxislayer-above\"><path class=\"ytick ticks crisp\" d=\"M79,0h-5\" transform=\"translate(0,303.25)\" style=\"stroke: rgb(68, 68, 68); stroke-opacity: 1; stroke-width: 1px;\"/><path class=\"ytick ticks crisp\" d=\"M79,0h-5\" transform=\"translate(0,257.57)\" style=\"stroke: rgb(68, 68, 68); stroke-opacity: 1; stroke-width: 1px;\"/><path class=\"ytick ticks crisp\" d=\"M79,0h-5\" transform=\"translate(0,211.88)\" style=\"stroke: rgb(68, 68, 68); stroke-opacity: 1; stroke-width: 1px;\"/><path class=\"ytick ticks crisp\" d=\"M79,0h-5\" transform=\"translate(0,166.2)\" style=\"stroke: rgb(68, 68, 68); stroke-opacity: 1; stroke-width: 1px;\"/><path class=\"ytick ticks crisp\" d=\"M79,0h-5\" transform=\"translate(0,120.52000000000001)\" style=\"stroke: rgb(68, 68, 68); stroke-opacity: 1; stroke-width: 1px;\"/><path class=\"ytick ticks crisp\" d=\"M79,0h-5\" transform=\"translate(0,74.83)\" style=\"stroke: rgb(68, 68, 68); stroke-opacity: 1; stroke-width: 1px;\"/><g class=\"ytick\"><text text-anchor=\"end\" x=\"71.6\" y=\"4.199999999999999\" transform=\"translate(0,303.25)\" style=\"font-family: 'Open Sans', verdana, arial, sans-serif; font-size: 12px; fill: rgb(36, 36, 36); fill-opacity: 1; white-space: pre; opacity: 1;\">0</text></g><g class=\"ytick\"><text text-anchor=\"end\" x=\"71.6\" y=\"4.199999999999999\" style=\"font-family: 'Open Sans', verdana, arial, sans-serif; font-size: 12px; fill: rgb(36, 36, 36); fill-opacity: 1; white-space: pre; opacity: 1;\" transform=\"translate(0,257.57)\">20</text></g><g class=\"ytick\"><text text-anchor=\"end\" x=\"71.6\" y=\"4.199999999999999\" style=\"font-family: 'Open Sans', verdana, arial, sans-serif; font-size: 12px; fill: rgb(36, 36, 36); fill-opacity: 1; white-space: pre; opacity: 1;\" transform=\"translate(0,211.88)\">40</text></g><g class=\"ytick\"><text text-anchor=\"end\" x=\"71.6\" y=\"4.199999999999999\" style=\"font-family: 'Open Sans', verdana, arial, sans-serif; font-size: 12px; fill: rgb(36, 36, 36); fill-opacity: 1; white-space: pre; opacity: 1;\" transform=\"translate(0,166.2)\">60</text></g><g class=\"ytick\"><text text-anchor=\"end\" x=\"71.6\" y=\"4.199999999999999\" style=\"font-family: 'Open Sans', verdana, arial, sans-serif; font-size: 12px; fill: rgb(36, 36, 36); fill-opacity: 1; white-space: pre; opacity: 1;\" transform=\"translate(0,120.52000000000001)\">80</text></g><g class=\"ytick\"><text text-anchor=\"end\" x=\"71.6\" y=\"4.199999999999999\" style=\"font-family: 'Open Sans', verdana, arial, sans-serif; font-size: 12px; fill: rgb(36, 36, 36); fill-opacity: 1; white-space: pre; opacity: 1;\" transform=\"translate(0,74.83)\">100</text></g></g><g class=\"overaxes-above\"/></g></g><g class=\"polarlayer\"/><g class=\"smithlayer\"/><g class=\"ternarylayer\"/><g class=\"geolayer\"/><g class=\"funnelarealayer\"/><g class=\"pielayer\"/><g class=\"iciclelayer\"/><g class=\"treemaplayer\"/><g class=\"sunburstlayer\"/><g class=\"glimages\"/><defs id=\"topdefs-5c3bca\"><g class=\"clips\"/></defs><g class=\"layer-above\"><g class=\"imagelayer\"/><g class=\"shapelayer\"/></g><g class=\"infolayer\"><g class=\"g-gtitle\"/><g class=\"g-xtitle\"><text class=\"xtitle\" x=\"250\" y=\"368.20625\" text-anchor=\"middle\" style=\"font-family: 'Open Sans', verdana, arial, sans-serif; font-size: 14px; fill: rgb(36, 36, 36); opacity: 1; font-weight: normal; white-space: pre;\">Rep1</text></g><g class=\"g-ytitle\"><text class=\"ytitle\" transform=\"rotate(-90,26.778125000000003,190)\" x=\"26.778125000000003\" y=\"190\" text-anchor=\"middle\" style=\"font-family: 'Open Sans', verdana, arial, sans-serif; font-size: 14px; fill: rgb(36, 36, 36); opacity: 1; font-weight: normal; white-space: pre;\">Rep2</text></g></g></svg>"
      ]
     },
     "metadata": {},
     "output_type": "display_data"
    }
   ],
   "source": [
    "fig = px.scatter(pivot_df, x=\"Rep1\", y=\"Rep2\", trendline=\"ols\")\n",
    "fig.update_layout(width=500, height=400)\n",
    "fig.update_xaxes(dtick=10)\n",
    "fig.show()"
   ]
  },
  {
   "cell_type": "code",
   "execution_count": 127,
   "id": "8d035484-daa7-4e34-80a7-4b3788556ec0",
   "metadata": {},
   "outputs": [
    {
     "name": "stdout",
     "output_type": "stream",
     "text": [
      "0.9966137165677839\n"
     ]
    }
   ],
   "source": [
    "results = px.get_trendline_results(fig)\n",
    "\n",
    "print(results.iloc[0][\"px_fit_results\"].rsquared)"
   ]
  },
  {
   "cell_type": "code",
   "execution_count": 128,
   "id": "8ace89f6-0481-41f7-beff-a8e9c09c0511",
   "metadata": {},
   "outputs": [
    {
     "data": {
      "image/svg+xml": [
       "<svg class=\"main-svg\" xmlns=\"http://www.w3.org/2000/svg\" xmlns:xlink=\"http://www.w3.org/1999/xlink\" width=\"500\" height=\"400\" style=\"\" viewBox=\"0 0 500 400\"><rect x=\"0\" y=\"0\" width=\"500\" height=\"400\" style=\"fill: rgb(255, 255, 255); fill-opacity: 1;\"/><defs id=\"defs-6feab1\"><g class=\"clips\"><clipPath id=\"clip6feab1xyplot\" class=\"plotclip\"><rect width=\"281\" height=\"260\"/></clipPath><clipPath class=\"axesclip\" id=\"clip6feab1x\"><rect x=\"80\" y=\"0\" width=\"281\" height=\"400\"/></clipPath><clipPath class=\"axesclip\" id=\"clip6feab1y\"><rect x=\"0\" y=\"60\" width=\"500\" height=\"260\"/></clipPath><clipPath class=\"axesclip\" id=\"clip6feab1xy\"><rect x=\"80\" y=\"60\" width=\"281\" height=\"260\"/></clipPath></g><g class=\"gradients\"/><g class=\"patterns\"/></defs><g class=\"bglayer\"/><g class=\"layer-below\"><g class=\"imagelayer\"/><g class=\"shapelayer\"/></g><g class=\"cartesianlayer\"><g class=\"subplot xy\"><g class=\"layer-subplot\"><g class=\"shapelayer\"/><g class=\"imagelayer\"/></g><g class=\"minor-gridlayer\"><g class=\"x\"/><g class=\"y\"/></g><g class=\"gridlayer\"><g class=\"x\"/><g class=\"y\"><path class=\"ygrid crisp\" transform=\"translate(0,303.25)\" d=\"M80,0h281\" style=\"stroke: rgb(232, 232, 232); stroke-opacity: 1; stroke-width: 1px;\"/><path class=\"ygrid crisp\" transform=\"translate(0,257.57)\" d=\"M80,0h281\" style=\"stroke: rgb(232, 232, 232); stroke-opacity: 1; stroke-width: 1px;\"/><path class=\"ygrid crisp\" transform=\"translate(0,211.88)\" d=\"M80,0h281\" style=\"stroke: rgb(232, 232, 232); stroke-opacity: 1; stroke-width: 1px;\"/><path class=\"ygrid crisp\" transform=\"translate(0,166.2)\" d=\"M80,0h281\" style=\"stroke: rgb(232, 232, 232); stroke-opacity: 1; stroke-width: 1px;\"/><path class=\"ygrid crisp\" transform=\"translate(0,120.52000000000001)\" d=\"M80,0h281\" style=\"stroke: rgb(232, 232, 232); stroke-opacity: 1; stroke-width: 1px;\"/><path class=\"ygrid crisp\" transform=\"translate(0,74.83)\" d=\"M80,0h281\" style=\"stroke: rgb(232, 232, 232); stroke-opacity: 1; stroke-width: 1px;\"/></g></g><g class=\"zerolinelayer\"/><path class=\"xlines-below\"/><path class=\"ylines-below\"/><g class=\"overlines-below\"/><g class=\"xaxislayer-below\"/><g class=\"yaxislayer-below\"/><g class=\"overaxes-below\"/><g class=\"plot\" transform=\"translate(80,60)\" clip-path=\"url(#clip6feab1xyplot)\"><g class=\"scatterlayer mlayer\"><g class=\"trace scatter trace614104\" style=\"stroke-miterlimit: 2; opacity: 1;\"><g class=\"fills\"/><g class=\"errorbars\"/><g class=\"lines\"/><g class=\"points\"><path class=\"point\" transform=\"translate(18.41,242.94)\" d=\"M3,0A3,3 0 1,1 0,-3A3,3 0 0,1 3,0Z\" style=\"opacity: 1; stroke-width: 0px; fill: rgb(100, 100, 100); fill-opacity: 1;\"/><path class=\"point\" transform=\"translate(25.85,235.71)\" d=\"M3,0A3,3 0 1,1 0,-3A3,3 0 0,1 3,0Z\" style=\"opacity: 1; stroke-width: 0px; fill: rgb(100, 100, 100); fill-opacity: 1;\"/><path class=\"point\" transform=\"translate(23.91,236.88)\" d=\"M3,0A3,3 0 1,1 0,-3A3,3 0 0,1 3,0Z\" style=\"opacity: 1; stroke-width: 0px; fill: rgb(100, 100, 100); fill-opacity: 1;\"/><path class=\"point\" transform=\"translate(18.98,242.05)\" d=\"M3,0A3,3 0 1,1 0,-3A3,3 0 0,1 3,0Z\" style=\"opacity: 1; stroke-width: 0px; fill: rgb(100, 100, 100); fill-opacity: 1;\"/><path class=\"point\" transform=\"translate(48.81,212.39)\" d=\"M3,0A3,3 0 1,1 0,-3A3,3 0 0,1 3,0Z\" style=\"opacity: 1; stroke-width: 0px; fill: rgb(100, 100, 100); fill-opacity: 1;\"/><path class=\"point\" transform=\"translate(22.67,238.22)\" d=\"M3,0A3,3 0 1,1 0,-3A3,3 0 0,1 3,0Z\" style=\"opacity: 1; stroke-width: 0px; fill: rgb(100, 100, 100); fill-opacity: 1;\"/><path class=\"point\" transform=\"translate(21.93,237.81)\" d=\"M3,0A3,3 0 1,1 0,-3A3,3 0 0,1 3,0Z\" style=\"opacity: 1; stroke-width: 0px; fill: rgb(100, 100, 100); fill-opacity: 1;\"/><path class=\"point\" transform=\"translate(18.8,242.58)\" d=\"M3,0A3,3 0 1,1 0,-3A3,3 0 0,1 3,0Z\" style=\"opacity: 1; stroke-width: 0px; fill: rgb(100, 100, 100); fill-opacity: 1;\"/><path class=\"point\" transform=\"translate(17.86,243.21)\" d=\"M3,0A3,3 0 1,1 0,-3A3,3 0 0,1 3,0Z\" style=\"opacity: 1; stroke-width: 0px; fill: rgb(100, 100, 100); fill-opacity: 1;\"/><path class=\"point\" transform=\"translate(17.9,243.18)\" d=\"M3,0A3,3 0 1,1 0,-3A3,3 0 0,1 3,0Z\" style=\"opacity: 1; stroke-width: 0px; fill: rgb(100, 100, 100); fill-opacity: 1;\"/><path class=\"point\" transform=\"translate(56.03,219.34)\" d=\"M3,0A3,3 0 1,1 0,-3A3,3 0 0,1 3,0Z\" style=\"opacity: 1; stroke-width: 0px; fill: rgb(100, 100, 100); fill-opacity: 1;\"/><path class=\"point\" transform=\"translate(18.51,242.99)\" d=\"M3,0A3,3 0 1,1 0,-3A3,3 0 0,1 3,0Z\" style=\"opacity: 1; stroke-width: 0px; fill: rgb(100, 100, 100); fill-opacity: 1;\"/><path class=\"point\" transform=\"translate(28.43,236.3)\" d=\"M3,0A3,3 0 1,1 0,-3A3,3 0 0,1 3,0Z\" style=\"opacity: 1; stroke-width: 0px; fill: rgb(100, 100, 100); fill-opacity: 1;\"/><path class=\"point\" transform=\"translate(29.71,233.92)\" d=\"M3,0A3,3 0 1,1 0,-3A3,3 0 0,1 3,0Z\" style=\"opacity: 1; stroke-width: 0px; fill: rgb(100, 100, 100); fill-opacity: 1;\"/><path class=\"point\" transform=\"translate(20.07,241.59)\" d=\"M3,0A3,3 0 1,1 0,-3A3,3 0 0,1 3,0Z\" style=\"opacity: 1; stroke-width: 0px; fill: rgb(100, 100, 100); fill-opacity: 1;\"/><path class=\"point\" transform=\"translate(45.45,223.1)\" d=\"M3,0A3,3 0 1,1 0,-3A3,3 0 0,1 3,0Z\" style=\"opacity: 1; stroke-width: 0px; fill: rgb(100, 100, 100); fill-opacity: 1;\"/><path class=\"point\" transform=\"translate(19.42,242.27)\" d=\"M3,0A3,3 0 1,1 0,-3A3,3 0 0,1 3,0Z\" style=\"opacity: 1; stroke-width: 0px; fill: rgb(100, 100, 100); fill-opacity: 1;\"/><path class=\"point\" transform=\"translate(19.15,242.25)\" d=\"M3,0A3,3 0 1,1 0,-3A3,3 0 0,1 3,0Z\" style=\"opacity: 1; stroke-width: 0px; fill: rgb(100, 100, 100); fill-opacity: 1;\"/><path class=\"point\" transform=\"translate(18.04,243.09)\" d=\"M3,0A3,3 0 1,1 0,-3A3,3 0 0,1 3,0Z\" style=\"opacity: 1; stroke-width: 0px; fill: rgb(100, 100, 100); fill-opacity: 1;\"/><path class=\"point\" transform=\"translate(59.5,207.09)\" d=\"M3,0A3,3 0 1,1 0,-3A3,3 0 0,1 3,0Z\" style=\"opacity: 1; stroke-width: 0px; fill: rgb(100, 100, 100); fill-opacity: 1;\"/><path class=\"point\" transform=\"translate(17.88,243.19)\" d=\"M3,0A3,3 0 1,1 0,-3A3,3 0 0,1 3,0Z\" style=\"opacity: 1; stroke-width: 0px; fill: rgb(100, 100, 100); fill-opacity: 1;\"/><path class=\"point\" transform=\"translate(30.43,230.76)\" d=\"M3,0A3,3 0 1,1 0,-3A3,3 0 0,1 3,0Z\" style=\"opacity: 1; stroke-width: 0px; fill: rgb(100, 100, 100); fill-opacity: 1;\"/><path class=\"point\" transform=\"translate(35.31,220.56)\" d=\"M3,0A3,3 0 1,1 0,-3A3,3 0 0,1 3,0Z\" style=\"opacity: 1; stroke-width: 0px; fill: rgb(100, 100, 100); fill-opacity: 1;\"/><path class=\"point\" transform=\"translate(23.49,234.27)\" d=\"M3,0A3,3 0 1,1 0,-3A3,3 0 0,1 3,0Z\" style=\"opacity: 1; stroke-width: 0px; fill: rgb(100, 100, 100); fill-opacity: 1;\"/><path class=\"point\" transform=\"translate(23.19,234.27)\" d=\"M3,0A3,3 0 1,1 0,-3A3,3 0 0,1 3,0Z\" style=\"opacity: 1; stroke-width: 0px; fill: rgb(100, 100, 100); fill-opacity: 1;\"/><path class=\"point\" transform=\"translate(18.66,240.85)\" d=\"M3,0A3,3 0 1,1 0,-3A3,3 0 0,1 3,0Z\" style=\"opacity: 1; stroke-width: 0px; fill: rgb(100, 100, 100); fill-opacity: 1;\"/><path class=\"point\" transform=\"translate(17.8,243.24)\" d=\"M3,0A3,3 0 1,1 0,-3A3,3 0 0,1 3,0Z\" style=\"opacity: 1; stroke-width: 0px; fill: rgb(100, 100, 100); fill-opacity: 1;\"/><path class=\"point\" transform=\"translate(17.8,243.23)\" d=\"M3,0A3,3 0 1,1 0,-3A3,3 0 0,1 3,0Z\" style=\"opacity: 1; stroke-width: 0px; fill: rgb(100, 100, 100); fill-opacity: 1;\"/><path class=\"point\" transform=\"translate(17.81,243.24)\" d=\"M3,0A3,3 0 1,1 0,-3A3,3 0 0,1 3,0Z\" style=\"opacity: 1; stroke-width: 0px; fill: rgb(100, 100, 100); fill-opacity: 1;\"/><path class=\"point\" transform=\"translate(23.09,237.76)\" d=\"M3,0A3,3 0 1,1 0,-3A3,3 0 0,1 3,0Z\" style=\"opacity: 1; stroke-width: 0px; fill: rgb(100, 100, 100); fill-opacity: 1;\"/><path class=\"point\" transform=\"translate(20.25,240.45)\" d=\"M3,0A3,3 0 1,1 0,-3A3,3 0 0,1 3,0Z\" style=\"opacity: 1; stroke-width: 0px; fill: rgb(100, 100, 100); fill-opacity: 1;\"/><path class=\"point\" transform=\"translate(17.91,242.65)\" d=\"M3,0A3,3 0 1,1 0,-3A3,3 0 0,1 3,0Z\" style=\"opacity: 1; stroke-width: 0px; fill: rgb(100, 100, 100); fill-opacity: 1;\"/><path class=\"point\" transform=\"translate(17.94,243.18)\" d=\"M3,0A3,3 0 1,1 0,-3A3,3 0 0,1 3,0Z\" style=\"opacity: 1; stroke-width: 0px; fill: rgb(100, 100, 100); fill-opacity: 1;\"/><path class=\"point\" transform=\"translate(17.8,243.25)\" d=\"M3,0A3,3 0 1,1 0,-3A3,3 0 0,1 3,0Z\" style=\"opacity: 1; stroke-width: 0px; fill: rgb(100, 100, 100); fill-opacity: 1;\"/><path class=\"point\" transform=\"translate(18.14,243.12)\" d=\"M3,0A3,3 0 1,1 0,-3A3,3 0 0,1 3,0Z\" style=\"opacity: 1; stroke-width: 0px; fill: rgb(100, 100, 100); fill-opacity: 1;\"/><path class=\"point\" transform=\"translate(17.93,243.17)\" d=\"M3,0A3,3 0 1,1 0,-3A3,3 0 0,1 3,0Z\" style=\"opacity: 1; stroke-width: 0px; fill: rgb(100, 100, 100); fill-opacity: 1;\"/><path class=\"point\" transform=\"translate(17.91,243.17)\" d=\"M3,0A3,3 0 1,1 0,-3A3,3 0 0,1 3,0Z\" style=\"opacity: 1; stroke-width: 0px; fill: rgb(100, 100, 100); fill-opacity: 1;\"/><path class=\"point\" transform=\"translate(18.79,242.01)\" d=\"M3,0A3,3 0 1,1 0,-3A3,3 0 0,1 3,0Z\" style=\"opacity: 1; stroke-width: 0px; fill: rgb(100, 100, 100); fill-opacity: 1;\"/><path class=\"point\" transform=\"translate(17.88,243.18)\" d=\"M3,0A3,3 0 1,1 0,-3A3,3 0 0,1 3,0Z\" style=\"opacity: 1; stroke-width: 0px; fill: rgb(100, 100, 100); fill-opacity: 1;\"/><path class=\"point\" transform=\"translate(17.9,243.1)\" d=\"M3,0A3,3 0 1,1 0,-3A3,3 0 0,1 3,0Z\" style=\"opacity: 1; stroke-width: 0px; fill: rgb(100, 100, 100); fill-opacity: 1;\"/><path class=\"point\" transform=\"translate(17.87,243.18)\" d=\"M3,0A3,3 0 1,1 0,-3A3,3 0 0,1 3,0Z\" style=\"opacity: 1; stroke-width: 0px; fill: rgb(100, 100, 100); fill-opacity: 1;\"/><path class=\"point\" transform=\"translate(17.88,243.19)\" d=\"M3,0A3,3 0 1,1 0,-3A3,3 0 0,1 3,0Z\" style=\"opacity: 1; stroke-width: 0px; fill: rgb(100, 100, 100); fill-opacity: 1;\"/><path class=\"point\" transform=\"translate(17.83,243.22)\" d=\"M3,0A3,3 0 1,1 0,-3A3,3 0 0,1 3,0Z\" style=\"opacity: 1; stroke-width: 0px; fill: rgb(100, 100, 100); fill-opacity: 1;\"/><path class=\"point\" transform=\"translate(18.47,242.41)\" d=\"M3,0A3,3 0 1,1 0,-3A3,3 0 0,1 3,0Z\" style=\"opacity: 1; stroke-width: 0px; fill: rgb(100, 100, 100); fill-opacity: 1;\"/><path class=\"point\" transform=\"translate(18.53,240.34)\" d=\"M3,0A3,3 0 1,1 0,-3A3,3 0 0,1 3,0Z\" style=\"opacity: 1; stroke-width: 0px; fill: rgb(100, 100, 100); fill-opacity: 1;\"/></g><g class=\"text\"/></g><g class=\"trace scatter trace647d00\" style=\"stroke-miterlimit: 2; opacity: 1;\"><g class=\"fills\"/><g class=\"errorbars\"/><g class=\"lines\"><path class=\"js-line\" d=\"M17.8,242.67L48.81,217.29L56.03,211.38L59.5,208.54\" style=\"vector-effect: non-scaling-stroke; fill: none; stroke: rgb(100, 100, 100); stroke-opacity: 1; stroke-width: 2px; opacity: 1;\"/></g><g class=\"points\"/><g class=\"text\"/></g><g class=\"trace scatter trace48de09\" style=\"stroke-miterlimit: 2; opacity: 1;\"><g class=\"fills\"/><g class=\"errorbars\"/><g class=\"lines\"/><g class=\"points\"><path class=\"point\" transform=\"translate(18.53,242.79)\" d=\"M3,0A3,3 0 1,1 0,-3A3,3 0 0,1 3,0Z\" style=\"opacity: 1; stroke-width: 0px; fill: rgb(31, 119, 180); fill-opacity: 1;\"/><path class=\"point\" transform=\"translate(26.5,234.07)\" d=\"M3,0A3,3 0 1,1 0,-3A3,3 0 0,1 3,0Z\" style=\"opacity: 1; stroke-width: 0px; fill: rgb(31, 119, 180); fill-opacity: 1;\"/><path class=\"point\" transform=\"translate(24.46,236.45)\" d=\"M3,0A3,3 0 1,1 0,-3A3,3 0 0,1 3,0Z\" style=\"opacity: 1; stroke-width: 0px; fill: rgb(31, 119, 180); fill-opacity: 1;\"/><path class=\"point\" transform=\"translate(19.12,241.67)\" d=\"M3,0A3,3 0 1,1 0,-3A3,3 0 0,1 3,0Z\" style=\"opacity: 1; stroke-width: 0px; fill: rgb(31, 119, 180); fill-opacity: 1;\"/><path class=\"point\" transform=\"translate(51.69,208.58)\" d=\"M3,0A3,3 0 1,1 0,-3A3,3 0 0,1 3,0Z\" style=\"opacity: 1; stroke-width: 0px; fill: rgb(31, 119, 180); fill-opacity: 1;\"/><path class=\"point\" transform=\"translate(23.36,236.34)\" d=\"M3,0A3,3 0 1,1 0,-3A3,3 0 0,1 3,0Z\" style=\"opacity: 1; stroke-width: 0px; fill: rgb(31, 119, 180); fill-opacity: 1;\"/><path class=\"point\" transform=\"translate(22.36,237.71)\" d=\"M3,0A3,3 0 1,1 0,-3A3,3 0 0,1 3,0Z\" style=\"opacity: 1; stroke-width: 0px; fill: rgb(31, 119, 180); fill-opacity: 1;\"/><path class=\"point\" transform=\"translate(18.75,242.62)\" d=\"M3,0A3,3 0 1,1 0,-3A3,3 0 0,1 3,0Z\" style=\"opacity: 1; stroke-width: 0px; fill: rgb(31, 119, 180); fill-opacity: 1;\"/><path class=\"point\" transform=\"translate(17.9,243.18)\" d=\"M3,0A3,3 0 1,1 0,-3A3,3 0 0,1 3,0Z\" style=\"opacity: 1; stroke-width: 0px; fill: rgb(31, 119, 180); fill-opacity: 1;\"/><path class=\"point\" transform=\"translate(17.92,243.17)\" d=\"M3,0A3,3 0 1,1 0,-3A3,3 0 0,1 3,0Z\" style=\"opacity: 1; stroke-width: 0px; fill: rgb(31, 119, 180); fill-opacity: 1;\"/><path class=\"point\" transform=\"translate(54.29,216.85)\" d=\"M3,0A3,3 0 1,1 0,-3A3,3 0 0,1 3,0Z\" style=\"opacity: 1; stroke-width: 0px; fill: rgb(31, 119, 180); fill-opacity: 1;\"/><path class=\"point\" transform=\"translate(18.55,242.59)\" d=\"M3,0A3,3 0 1,1 0,-3A3,3 0 0,1 3,0Z\" style=\"opacity: 1; stroke-width: 0px; fill: rgb(31, 119, 180); fill-opacity: 1;\"/><path class=\"point\" transform=\"translate(29.08,233.87)\" d=\"M3,0A3,3 0 1,1 0,-3A3,3 0 0,1 3,0Z\" style=\"opacity: 1; stroke-width: 0px; fill: rgb(31, 119, 180); fill-opacity: 1;\"/><path class=\"point\" transform=\"translate(29.31,233.67)\" d=\"M3,0A3,3 0 1,1 0,-3A3,3 0 0,1 3,0Z\" style=\"opacity: 1; stroke-width: 0px; fill: rgb(31, 119, 180); fill-opacity: 1;\"/><path class=\"point\" transform=\"translate(20.24,241.43)\" d=\"M3,0A3,3 0 1,1 0,-3A3,3 0 0,1 3,0Z\" style=\"opacity: 1; stroke-width: 0px; fill: rgb(31, 119, 180); fill-opacity: 1;\"/><path class=\"point\" transform=\"translate(46.83,218.75)\" d=\"M3,0A3,3 0 1,1 0,-3A3,3 0 0,1 3,0Z\" style=\"opacity: 1; stroke-width: 0px; fill: rgb(31, 119, 180); fill-opacity: 1;\"/><path class=\"point\" transform=\"translate(19.74,241.31)\" d=\"M3,0A3,3 0 1,1 0,-3A3,3 0 0,1 3,0Z\" style=\"opacity: 1; stroke-width: 0px; fill: rgb(31, 119, 180); fill-opacity: 1;\"/><path class=\"point\" transform=\"translate(19.31,241.76)\" d=\"M3,0A3,3 0 1,1 0,-3A3,3 0 0,1 3,0Z\" style=\"opacity: 1; stroke-width: 0px; fill: rgb(31, 119, 180); fill-opacity: 1;\"/><path class=\"point\" transform=\"translate(18.08,242.99)\" d=\"M3,0A3,3 0 1,1 0,-3A3,3 0 0,1 3,0Z\" style=\"opacity: 1; stroke-width: 0px; fill: rgb(31, 119, 180); fill-opacity: 1;\"/><path class=\"point\" transform=\"translate(61.14,204.99)\" d=\"M3,0A3,3 0 1,1 0,-3A3,3 0 0,1 3,0Z\" style=\"opacity: 1; stroke-width: 0px; fill: rgb(31, 119, 180); fill-opacity: 1;\"/><path class=\"point\" transform=\"translate(17.9,243.18)\" d=\"M3,0A3,3 0 1,1 0,-3A3,3 0 0,1 3,0Z\" style=\"opacity: 1; stroke-width: 0px; fill: rgb(31, 119, 180); fill-opacity: 1;\"/><path class=\"point\" transform=\"translate(29.21,234.83)\" d=\"M3,0A3,3 0 1,1 0,-3A3,3 0 0,1 3,0Z\" style=\"opacity: 1; stroke-width: 0px; fill: rgb(31, 119, 180); fill-opacity: 1;\"/><path class=\"point\" transform=\"translate(33.93,225.99)\" d=\"M3,0A3,3 0 1,1 0,-3A3,3 0 0,1 3,0Z\" style=\"opacity: 1; stroke-width: 0px; fill: rgb(31, 119, 180); fill-opacity: 1;\"/><path class=\"point\" transform=\"translate(23.1,236.3)\" d=\"M3,0A3,3 0 1,1 0,-3A3,3 0 0,1 3,0Z\" style=\"opacity: 1; stroke-width: 0px; fill: rgb(31, 119, 180); fill-opacity: 1;\"/><path class=\"point\" transform=\"translate(23.04,235.28)\" d=\"M3,0A3,3 0 1,1 0,-3A3,3 0 0,1 3,0Z\" style=\"opacity: 1; stroke-width: 0px; fill: rgb(31, 119, 180); fill-opacity: 1;\"/><path class=\"point\" transform=\"translate(18,243.09)\" d=\"M3,0A3,3 0 1,1 0,-3A3,3 0 0,1 3,0Z\" style=\"opacity: 1; stroke-width: 0px; fill: rgb(31, 119, 180); fill-opacity: 1;\"/><path class=\"point\" transform=\"translate(17.8,243.25)\" d=\"M3,0A3,3 0 1,1 0,-3A3,3 0 0,1 3,0Z\" style=\"opacity: 1; stroke-width: 0px; fill: rgb(31, 119, 180); fill-opacity: 1;\"/><path class=\"point\" transform=\"translate(17.8,243.25)\" d=\"M3,0A3,3 0 1,1 0,-3A3,3 0 0,1 3,0Z\" style=\"opacity: 1; stroke-width: 0px; fill: rgb(31, 119, 180); fill-opacity: 1;\"/><path class=\"point\" transform=\"translate(17.81,243.25)\" d=\"M3,0A3,3 0 1,1 0,-3A3,3 0 0,1 3,0Z\" style=\"opacity: 1; stroke-width: 0px; fill: rgb(31, 119, 180); fill-opacity: 1;\"/><path class=\"point\" transform=\"translate(17.8,243.24)\" d=\"M3,0A3,3 0 1,1 0,-3A3,3 0 0,1 3,0Z\" style=\"opacity: 1; stroke-width: 0px; fill: rgb(31, 119, 180); fill-opacity: 1;\"/><path class=\"point\" transform=\"translate(20.17,241.79)\" d=\"M3,0A3,3 0 1,1 0,-3A3,3 0 0,1 3,0Z\" style=\"opacity: 1; stroke-width: 0px; fill: rgb(31, 119, 180); fill-opacity: 1;\"/><path class=\"point\" transform=\"translate(19.02,242.13)\" d=\"M3,0A3,3 0 1,1 0,-3A3,3 0 0,1 3,0Z\" style=\"opacity: 1; stroke-width: 0px; fill: rgb(31, 119, 180); fill-opacity: 1;\"/><path class=\"point\" transform=\"translate(17.84,243.22)\" d=\"M3,0A3,3 0 1,1 0,-3A3,3 0 0,1 3,0Z\" style=\"opacity: 1; stroke-width: 0px; fill: rgb(31, 119, 180); fill-opacity: 1;\"/><path class=\"point\" transform=\"translate(18.02,243.12)\" d=\"M3,0A3,3 0 1,1 0,-3A3,3 0 0,1 3,0Z\" style=\"opacity: 1; stroke-width: 0px; fill: rgb(31, 119, 180); fill-opacity: 1;\"/><path class=\"point\" transform=\"translate(18.2,242.98)\" d=\"M3,0A3,3 0 1,1 0,-3A3,3 0 0,1 3,0Z\" style=\"opacity: 1; stroke-width: 0px; fill: rgb(31, 119, 180); fill-opacity: 1;\"/><path class=\"point\" transform=\"translate(17.98,243.15)\" d=\"M3,0A3,3 0 1,1 0,-3A3,3 0 0,1 3,0Z\" style=\"opacity: 1; stroke-width: 0px; fill: rgb(31, 119, 180); fill-opacity: 1;\"/><path class=\"point\" transform=\"translate(17.91,243.16)\" d=\"M3,0A3,3 0 1,1 0,-3A3,3 0 0,1 3,0Z\" style=\"opacity: 1; stroke-width: 0px; fill: rgb(31, 119, 180); fill-opacity: 1;\"/><path class=\"point\" transform=\"translate(17.81,243.24)\" d=\"M3,0A3,3 0 1,1 0,-3A3,3 0 0,1 3,0Z\" style=\"opacity: 1; stroke-width: 0px; fill: rgb(31, 119, 180); fill-opacity: 1;\"/><path class=\"point\" transform=\"translate(18.92,241.57)\" d=\"M3,0A3,3 0 1,1 0,-3A3,3 0 0,1 3,0Z\" style=\"opacity: 1; stroke-width: 0px; fill: rgb(31, 119, 180); fill-opacity: 1;\"/><path class=\"point\" transform=\"translate(17.89,243.15)\" d=\"M3,0A3,3 0 1,1 0,-3A3,3 0 0,1 3,0Z\" style=\"opacity: 1; stroke-width: 0px; fill: rgb(31, 119, 180); fill-opacity: 1;\"/><path class=\"point\" transform=\"translate(17.89,243.13)\" d=\"M3,0A3,3 0 1,1 0,-3A3,3 0 0,1 3,0Z\" style=\"opacity: 1; stroke-width: 0px; fill: rgb(31, 119, 180); fill-opacity: 1;\"/><path class=\"point\" transform=\"translate(17.87,243.17)\" d=\"M3,0A3,3 0 1,1 0,-3A3,3 0 0,1 3,0Z\" style=\"opacity: 1; stroke-width: 0px; fill: rgb(31, 119, 180); fill-opacity: 1;\"/><path class=\"point\" transform=\"translate(17.91,243.12)\" d=\"M3,0A3,3 0 1,1 0,-3A3,3 0 0,1 3,0Z\" style=\"opacity: 1; stroke-width: 0px; fill: rgb(31, 119, 180); fill-opacity: 1;\"/><path class=\"point\" transform=\"translate(17.83,243.23)\" d=\"M3,0A3,3 0 1,1 0,-3A3,3 0 0,1 3,0Z\" style=\"opacity: 1; stroke-width: 0px; fill: rgb(31, 119, 180); fill-opacity: 1;\"/><path class=\"point\" transform=\"translate(18.39,242.59)\" d=\"M3,0A3,3 0 1,1 0,-3A3,3 0 0,1 3,0Z\" style=\"opacity: 1; stroke-width: 0px; fill: rgb(31, 119, 180); fill-opacity: 1;\"/><path class=\"point\" transform=\"translate(18.54,241.97)\" d=\"M3,0A3,3 0 1,1 0,-3A3,3 0 0,1 3,0Z\" style=\"opacity: 1; stroke-width: 0px; fill: rgb(31, 119, 180); fill-opacity: 1;\"/></g><g class=\"text\"/></g><g class=\"trace scatter trace64458a\" style=\"stroke-miterlimit: 2; opacity: 1;\"><g class=\"fills\"/><g class=\"errorbars\"/><g class=\"lines\"><path class=\"js-line\" d=\"M17.8,242.96L33.93,228.91L46.83,217.67L61.14,205.21\" style=\"vector-effect: non-scaling-stroke; fill: none; stroke: rgb(31, 119, 180); stroke-opacity: 1; stroke-width: 2px; opacity: 1;\"/></g><g class=\"points\"/><g class=\"text\"/></g><g class=\"trace scatter tracec05c3b\" style=\"stroke-miterlimit: 2; opacity: 1;\"><g class=\"fills\"/><g class=\"errorbars\"/><g class=\"lines\"/><g class=\"points\"><path class=\"point\" transform=\"translate(18.48,242.85)\" d=\"M3,0A3,3 0 1,1 0,-3A3,3 0 0,1 3,0Z\" style=\"opacity: 1; stroke-width: 0px; fill: rgb(255, 127, 14); fill-opacity: 1;\"/><path class=\"point\" transform=\"translate(26.49,233.63)\" d=\"M3,0A3,3 0 1,1 0,-3A3,3 0 0,1 3,0Z\" style=\"opacity: 1; stroke-width: 0px; fill: rgb(255, 127, 14); fill-opacity: 1;\"/><path class=\"point\" transform=\"translate(24.1,236.22)\" d=\"M3,0A3,3 0 1,1 0,-3A3,3 0 0,1 3,0Z\" style=\"opacity: 1; stroke-width: 0px; fill: rgb(255, 127, 14); fill-opacity: 1;\"/><path class=\"point\" transform=\"translate(18.99,241.66)\" d=\"M3,0A3,3 0 1,1 0,-3A3,3 0 0,1 3,0Z\" style=\"opacity: 1; stroke-width: 0px; fill: rgb(255, 127, 14); fill-opacity: 1;\"/><path class=\"point\" transform=\"translate(51.29,208.34)\" d=\"M3,0A3,3 0 1,1 0,-3A3,3 0 0,1 3,0Z\" style=\"opacity: 1; stroke-width: 0px; fill: rgb(255, 127, 14); fill-opacity: 1;\"/><path class=\"point\" transform=\"translate(23.33,236.31)\" d=\"M3,0A3,3 0 1,1 0,-3A3,3 0 0,1 3,0Z\" style=\"opacity: 1; stroke-width: 0px; fill: rgb(255, 127, 14); fill-opacity: 1;\"/><path class=\"point\" transform=\"translate(22.02,237.48)\" d=\"M3,0A3,3 0 1,1 0,-3A3,3 0 0,1 3,0Z\" style=\"opacity: 1; stroke-width: 0px; fill: rgb(255, 127, 14); fill-opacity: 1;\"/><path class=\"point\" transform=\"translate(18.81,242.66)\" d=\"M3,0A3,3 0 1,1 0,-3A3,3 0 0,1 3,0Z\" style=\"opacity: 1; stroke-width: 0px; fill: rgb(255, 127, 14); fill-opacity: 1;\"/><path class=\"point\" transform=\"translate(17.88,243.17)\" d=\"M3,0A3,3 0 1,1 0,-3A3,3 0 0,1 3,0Z\" style=\"opacity: 1; stroke-width: 0px; fill: rgb(255, 127, 14); fill-opacity: 1;\"/><path class=\"point\" transform=\"translate(17.94,243.16)\" d=\"M3,0A3,3 0 1,1 0,-3A3,3 0 0,1 3,0Z\" style=\"opacity: 1; stroke-width: 0px; fill: rgb(255, 127, 14); fill-opacity: 1;\"/><path class=\"point\" transform=\"translate(55.8,217.63)\" d=\"M3,0A3,3 0 1,1 0,-3A3,3 0 0,1 3,0Z\" style=\"opacity: 1; stroke-width: 0px; fill: rgb(255, 127, 14); fill-opacity: 1;\"/><path class=\"point\" transform=\"translate(18.62,242.62)\" d=\"M3,0A3,3 0 1,1 0,-3A3,3 0 0,1 3,0Z\" style=\"opacity: 1; stroke-width: 0px; fill: rgb(255, 127, 14); fill-opacity: 1;\"/><path class=\"point\" transform=\"translate(29.5,233.7)\" d=\"M3,0A3,3 0 1,1 0,-3A3,3 0 0,1 3,0Z\" style=\"opacity: 1; stroke-width: 0px; fill: rgb(255, 127, 14); fill-opacity: 1;\"/><path class=\"point\" transform=\"translate(29.79,234.13)\" d=\"M3,0A3,3 0 1,1 0,-3A3,3 0 0,1 3,0Z\" style=\"opacity: 1; stroke-width: 0px; fill: rgb(255, 127, 14); fill-opacity: 1;\"/><path class=\"point\" transform=\"translate(20.37,241.34)\" d=\"M3,0A3,3 0 1,1 0,-3A3,3 0 0,1 3,0Z\" style=\"opacity: 1; stroke-width: 0px; fill: rgb(255, 127, 14); fill-opacity: 1;\"/><path class=\"point\" transform=\"translate(48.01,217.93)\" d=\"M3,0A3,3 0 1,1 0,-3A3,3 0 0,1 3,0Z\" style=\"opacity: 1; stroke-width: 0px; fill: rgb(255, 127, 14); fill-opacity: 1;\"/><path class=\"point\" transform=\"translate(19.75,241.34)\" d=\"M3,0A3,3 0 1,1 0,-3A3,3 0 0,1 3,0Z\" style=\"opacity: 1; stroke-width: 0px; fill: rgb(255, 127, 14); fill-opacity: 1;\"/><path class=\"point\" transform=\"translate(19.46,241.76)\" d=\"M3,0A3,3 0 1,1 0,-3A3,3 0 0,1 3,0Z\" style=\"opacity: 1; stroke-width: 0px; fill: rgb(255, 127, 14); fill-opacity: 1;\"/><path class=\"point\" transform=\"translate(18.09,243)\" d=\"M3,0A3,3 0 1,1 0,-3A3,3 0 0,1 3,0Z\" style=\"opacity: 1; stroke-width: 0px; fill: rgb(255, 127, 14); fill-opacity: 1;\"/><path class=\"point\" transform=\"translate(61.58,203.71)\" d=\"M3,0A3,3 0 1,1 0,-3A3,3 0 0,1 3,0Z\" style=\"opacity: 1; stroke-width: 0px; fill: rgb(255, 127, 14); fill-opacity: 1;\"/><path class=\"point\" transform=\"translate(17.88,243.18)\" d=\"M3,0A3,3 0 1,1 0,-3A3,3 0 0,1 3,0Z\" style=\"opacity: 1; stroke-width: 0px; fill: rgb(255, 127, 14); fill-opacity: 1;\"/><path class=\"point\" transform=\"translate(29.01,235.52)\" d=\"M3,0A3,3 0 1,1 0,-3A3,3 0 0,1 3,0Z\" style=\"opacity: 1; stroke-width: 0px; fill: rgb(255, 127, 14); fill-opacity: 1;\"/><path class=\"point\" transform=\"translate(33.02,226.34)\" d=\"M3,0A3,3 0 1,1 0,-3A3,3 0 0,1 3,0Z\" style=\"opacity: 1; stroke-width: 0px; fill: rgb(255, 127, 14); fill-opacity: 1;\"/><path class=\"point\" transform=\"translate(22.66,236.01)\" d=\"M3,0A3,3 0 1,1 0,-3A3,3 0 0,1 3,0Z\" style=\"opacity: 1; stroke-width: 0px; fill: rgb(255, 127, 14); fill-opacity: 1;\"/><path class=\"point\" transform=\"translate(22.6,235.45)\" d=\"M3,0A3,3 0 1,1 0,-3A3,3 0 0,1 3,0Z\" style=\"opacity: 1; stroke-width: 0px; fill: rgb(255, 127, 14); fill-opacity: 1;\"/><path class=\"point\" transform=\"translate(17.89,243.18)\" d=\"M3,0A3,3 0 1,1 0,-3A3,3 0 0,1 3,0Z\" style=\"opacity: 1; stroke-width: 0px; fill: rgb(255, 127, 14); fill-opacity: 1;\"/><path class=\"point\" transform=\"translate(17.8,243.25)\" d=\"M3,0A3,3 0 1,1 0,-3A3,3 0 0,1 3,0Z\" style=\"opacity: 1; stroke-width: 0px; fill: rgb(255, 127, 14); fill-opacity: 1;\"/><path class=\"point\" transform=\"translate(17.8,243.25)\" d=\"M3,0A3,3 0 1,1 0,-3A3,3 0 0,1 3,0Z\" style=\"opacity: 1; stroke-width: 0px; fill: rgb(255, 127, 14); fill-opacity: 1;\"/><path class=\"point\" transform=\"translate(17.8,243.25)\" d=\"M3,0A3,3 0 1,1 0,-3A3,3 0 0,1 3,0Z\" style=\"opacity: 1; stroke-width: 0px; fill: rgb(255, 127, 14); fill-opacity: 1;\"/><path class=\"point\" transform=\"translate(17.8,243.25)\" d=\"M3,0A3,3 0 1,1 0,-3A3,3 0 0,1 3,0Z\" style=\"opacity: 1; stroke-width: 0px; fill: rgb(255, 127, 14); fill-opacity: 1;\"/><path class=\"point\" transform=\"translate(19.45,242.28)\" d=\"M3,0A3,3 0 1,1 0,-3A3,3 0 0,1 3,0Z\" style=\"opacity: 1; stroke-width: 0px; fill: rgb(255, 127, 14); fill-opacity: 1;\"/><path class=\"point\" transform=\"translate(18.81,242.49)\" d=\"M3,0A3,3 0 1,1 0,-3A3,3 0 0,1 3,0Z\" style=\"opacity: 1; stroke-width: 0px; fill: rgb(255, 127, 14); fill-opacity: 1;\"/><path class=\"point\" transform=\"translate(17.86,243.19)\" d=\"M3,0A3,3 0 1,1 0,-3A3,3 0 0,1 3,0Z\" style=\"opacity: 1; stroke-width: 0px; fill: rgb(255, 127, 14); fill-opacity: 1;\"/><path class=\"point\" transform=\"translate(18.03,243.12)\" d=\"M3,0A3,3 0 1,1 0,-3A3,3 0 0,1 3,0Z\" style=\"opacity: 1; stroke-width: 0px; fill: rgb(255, 127, 14); fill-opacity: 1;\"/><path class=\"point\" transform=\"translate(17.8,243.25)\" d=\"M3,0A3,3 0 1,1 0,-3A3,3 0 0,1 3,0Z\" style=\"opacity: 1; stroke-width: 0px; fill: rgb(255, 127, 14); fill-opacity: 1;\"/><path class=\"point\" transform=\"translate(18.21,242.92)\" d=\"M3,0A3,3 0 1,1 0,-3A3,3 0 0,1 3,0Z\" style=\"opacity: 1; stroke-width: 0px; fill: rgb(255, 127, 14); fill-opacity: 1;\"/><path class=\"point\" transform=\"translate(17.96,243.13)\" d=\"M3,0A3,3 0 1,1 0,-3A3,3 0 0,1 3,0Z\" style=\"opacity: 1; stroke-width: 0px; fill: rgb(255, 127, 14); fill-opacity: 1;\"/><path class=\"point\" transform=\"translate(17.95,243.16)\" d=\"M3,0A3,3 0 1,1 0,-3A3,3 0 0,1 3,0Z\" style=\"opacity: 1; stroke-width: 0px; fill: rgb(255, 127, 14); fill-opacity: 1;\"/><path class=\"point\" transform=\"translate(17.82,243.24)\" d=\"M3,0A3,3 0 1,1 0,-3A3,3 0 0,1 3,0Z\" style=\"opacity: 1; stroke-width: 0px; fill: rgb(255, 127, 14); fill-opacity: 1;\"/><path class=\"point\" transform=\"translate(18.87,241.5)\" d=\"M3,0A3,3 0 1,1 0,-3A3,3 0 0,1 3,0Z\" style=\"opacity: 1; stroke-width: 0px; fill: rgb(255, 127, 14); fill-opacity: 1;\"/><path class=\"point\" transform=\"translate(17.88,243.14)\" d=\"M3,0A3,3 0 1,1 0,-3A3,3 0 0,1 3,0Z\" style=\"opacity: 1; stroke-width: 0px; fill: rgb(255, 127, 14); fill-opacity: 1;\"/><path class=\"point\" transform=\"translate(17.92,243.12)\" d=\"M3,0A3,3 0 1,1 0,-3A3,3 0 0,1 3,0Z\" style=\"opacity: 1; stroke-width: 0px; fill: rgb(255, 127, 14); fill-opacity: 1;\"/><path class=\"point\" transform=\"translate(17.86,243.18)\" d=\"M3,0A3,3 0 1,1 0,-3A3,3 0 0,1 3,0Z\" style=\"opacity: 1; stroke-width: 0px; fill: rgb(255, 127, 14); fill-opacity: 1;\"/><path class=\"point\" transform=\"translate(17.9,243.15)\" d=\"M3,0A3,3 0 1,1 0,-3A3,3 0 0,1 3,0Z\" style=\"opacity: 1; stroke-width: 0px; fill: rgb(255, 127, 14); fill-opacity: 1;\"/><path class=\"point\" transform=\"translate(17.83,243.22)\" d=\"M3,0A3,3 0 1,1 0,-3A3,3 0 0,1 3,0Z\" style=\"opacity: 1; stroke-width: 0px; fill: rgb(255, 127, 14); fill-opacity: 1;\"/><path class=\"point\" transform=\"translate(18.35,242.76)\" d=\"M3,0A3,3 0 1,1 0,-3A3,3 0 0,1 3,0Z\" style=\"opacity: 1; stroke-width: 0px; fill: rgb(255, 127, 14); fill-opacity: 1;\"/><path class=\"point\" transform=\"translate(18.45,242.2)\" d=\"M3,0A3,3 0 1,1 0,-3A3,3 0 0,1 3,0Z\" style=\"opacity: 1; stroke-width: 0px; fill: rgb(255, 127, 14); fill-opacity: 1;\"/></g><g class=\"text\"/></g><g class=\"trace scatter traced54c95\" style=\"stroke-miterlimit: 2; opacity: 1;\"><g class=\"fills\"/><g class=\"errorbars\"/><g class=\"lines\"><path class=\"js-line\" d=\"M17.8,242.92L48.01,216.86L51.29,214.03L61.58,205.15\" style=\"vector-effect: non-scaling-stroke; fill: none; stroke: rgb(255, 127, 14); stroke-opacity: 1; stroke-width: 2px; opacity: 1;\"/></g><g class=\"points\"/><g class=\"text\"/></g><g class=\"trace scatter trace3015d7\" style=\"stroke-miterlimit: 2; opacity: 1;\"><g class=\"fills\"/><g class=\"errorbars\"/><g class=\"lines\"/><g class=\"points\"><path class=\"point\" transform=\"translate(259.96,19.19)\" d=\"M3,0A3,3 0 1,1 0,-3A3,3 0 0,1 3,0Z\" style=\"opacity: 1; stroke-width: 0px; fill: rgb(44, 160, 44); fill-opacity: 1;\"/><path class=\"point\" transform=\"translate(17.82,243.25)\" d=\"M3,0A3,3 0 1,1 0,-3A3,3 0 0,1 3,0Z\" style=\"opacity: 1; stroke-width: 0px; fill: rgb(44, 160, 44); fill-opacity: 1;\"/><path class=\"point\" transform=\"translate(17.83,243.23)\" d=\"M3,0A3,3 0 1,1 0,-3A3,3 0 0,1 3,0Z\" style=\"opacity: 1; stroke-width: 0px; fill: rgb(44, 160, 44); fill-opacity: 1;\"/><path class=\"point\" transform=\"translate(17.81,243.25)\" d=\"M3,0A3,3 0 1,1 0,-3A3,3 0 0,1 3,0Z\" style=\"opacity: 1; stroke-width: 0px; fill: rgb(44, 160, 44); fill-opacity: 1;\"/><path class=\"point\" transform=\"translate(18.45,242.9)\" d=\"M3,0A3,3 0 1,1 0,-3A3,3 0 0,1 3,0Z\" style=\"opacity: 1; stroke-width: 0px; fill: rgb(44, 160, 44); fill-opacity: 1;\"/><path class=\"point\" transform=\"translate(17.81,243.24)\" d=\"M3,0A3,3 0 1,1 0,-3A3,3 0 0,1 3,0Z\" style=\"opacity: 1; stroke-width: 0px; fill: rgb(44, 160, 44); fill-opacity: 1;\"/><path class=\"point\" transform=\"translate(17.84,243.23)\" d=\"M3,0A3,3 0 1,1 0,-3A3,3 0 0,1 3,0Z\" style=\"opacity: 1; stroke-width: 0px; fill: rgb(44, 160, 44); fill-opacity: 1;\"/><path class=\"point\" transform=\"translate(17.86,243.23)\" d=\"M3,0A3,3 0 1,1 0,-3A3,3 0 0,1 3,0Z\" style=\"opacity: 1; stroke-width: 0px; fill: rgb(44, 160, 44); fill-opacity: 1;\"/><path class=\"point\" transform=\"translate(17.86,243.25)\" d=\"M3,0A3,3 0 1,1 0,-3A3,3 0 0,1 3,0Z\" style=\"opacity: 1; stroke-width: 0px; fill: rgb(44, 160, 44); fill-opacity: 1;\"/><path class=\"point\" transform=\"translate(17.83,243.25)\" d=\"M3,0A3,3 0 1,1 0,-3A3,3 0 0,1 3,0Z\" style=\"opacity: 1; stroke-width: 0px; fill: rgb(44, 160, 44); fill-opacity: 1;\"/><path class=\"point\" transform=\"translate(17.83,243.23)\" d=\"M3,0A3,3 0 1,1 0,-3A3,3 0 0,1 3,0Z\" style=\"opacity: 1; stroke-width: 0px; fill: rgb(44, 160, 44); fill-opacity: 1;\"/><path class=\"point\" transform=\"translate(17.82,243.25)\" d=\"M3,0A3,3 0 1,1 0,-3A3,3 0 0,1 3,0Z\" style=\"opacity: 1; stroke-width: 0px; fill: rgb(44, 160, 44); fill-opacity: 1;\"/><path class=\"point\" transform=\"translate(17.92,243.23)\" d=\"M3,0A3,3 0 1,1 0,-3A3,3 0 0,1 3,0Z\" style=\"opacity: 1; stroke-width: 0px; fill: rgb(44, 160, 44); fill-opacity: 1;\"/><path class=\"point\" transform=\"translate(17.91,243.22)\" d=\"M3,0A3,3 0 1,1 0,-3A3,3 0 0,1 3,0Z\" style=\"opacity: 1; stroke-width: 0px; fill: rgb(44, 160, 44); fill-opacity: 1;\"/><path class=\"point\" transform=\"translate(17.93,243.18)\" d=\"M3,0A3,3 0 1,1 0,-3A3,3 0 0,1 3,0Z\" style=\"opacity: 1; stroke-width: 0px; fill: rgb(44, 160, 44); fill-opacity: 1;\"/><path class=\"point\" transform=\"translate(17.89,243.21)\" d=\"M3,0A3,3 0 1,1 0,-3A3,3 0 0,1 3,0Z\" style=\"opacity: 1; stroke-width: 0px; fill: rgb(44, 160, 44); fill-opacity: 1;\"/><path class=\"point\" transform=\"translate(17.86,243.2)\" d=\"M3,0A3,3 0 1,1 0,-3A3,3 0 0,1 3,0Z\" style=\"opacity: 1; stroke-width: 0px; fill: rgb(44, 160, 44); fill-opacity: 1;\"/><path class=\"point\" transform=\"translate(18.6,242.21)\" d=\"M3,0A3,3 0 1,1 0,-3A3,3 0 0,1 3,0Z\" style=\"opacity: 1; stroke-width: 0px; fill: rgb(44, 160, 44); fill-opacity: 1;\"/><path class=\"point\" transform=\"translate(17.81,243.25)\" d=\"M3,0A3,3 0 1,1 0,-3A3,3 0 0,1 3,0Z\" style=\"opacity: 1; stroke-width: 0px; fill: rgb(44, 160, 44); fill-opacity: 1;\"/><path class=\"point\" transform=\"translate(17.81,243.25)\" d=\"M3,0A3,3 0 1,1 0,-3A3,3 0 0,1 3,0Z\" style=\"opacity: 1; stroke-width: 0px; fill: rgb(44, 160, 44); fill-opacity: 1;\"/><path class=\"point\" transform=\"translate(18.44,242.77)\" d=\"M3,0A3,3 0 1,1 0,-3A3,3 0 0,1 3,0Z\" style=\"opacity: 1; stroke-width: 0px; fill: rgb(44, 160, 44); fill-opacity: 1;\"/><path class=\"point\" transform=\"translate(18.02,243.06)\" d=\"M3,0A3,3 0 1,1 0,-3A3,3 0 0,1 3,0Z\" style=\"opacity: 1; stroke-width: 0px; fill: rgb(44, 160, 44); fill-opacity: 1;\"/><path class=\"point\" transform=\"translate(19.14,241.49)\" d=\"M3,0A3,3 0 1,1 0,-3A3,3 0 0,1 3,0Z\" style=\"opacity: 1; stroke-width: 0px; fill: rgb(44, 160, 44); fill-opacity: 1;\"/><path class=\"point\" transform=\"translate(17.83,243.22)\" d=\"M3,0A3,3 0 1,1 0,-3A3,3 0 0,1 3,0Z\" style=\"opacity: 1; stroke-width: 0px; fill: rgb(44, 160, 44); fill-opacity: 1;\"/><path class=\"point\" transform=\"translate(17.81,243.24)\" d=\"M3,0A3,3 0 1,1 0,-3A3,3 0 0,1 3,0Z\" style=\"opacity: 1; stroke-width: 0px; fill: rgb(44, 160, 44); fill-opacity: 1;\"/><path class=\"point\" transform=\"translate(18.05,243.12)\" d=\"M3,0A3,3 0 1,1 0,-3A3,3 0 0,1 3,0Z\" style=\"opacity: 1; stroke-width: 0px; fill: rgb(44, 160, 44); fill-opacity: 1;\"/></g><g class=\"text\"/></g><g class=\"trace scatter trace57df04\" style=\"stroke-miterlimit: 2; opacity: 1;\"><g class=\"fills\"/><g class=\"errorbars\"/><g class=\"lines\"><path class=\"js-line\" d=\"M17.81,243.25L19.14,242.02L259.96,19.19\" style=\"vector-effect: non-scaling-stroke; fill: none; stroke: rgb(44, 160, 44); stroke-opacity: 1; stroke-width: 2px; opacity: 1;\"/></g><g class=\"points\"/><g class=\"text\"/></g><g class=\"trace scatter tracead0d0e\" style=\"stroke-miterlimit: 2; opacity: 1;\"><g class=\"fills\"/><g class=\"errorbars\"/><g class=\"lines\"/><g class=\"points\"><path class=\"point\" transform=\"translate(262.81,18.41)\" d=\"M3,0A3,3 0 1,1 0,-3A3,3 0 0,1 3,0Z\" style=\"opacity: 1; stroke-width: 0px; fill: rgb(214, 39, 40); fill-opacity: 1;\"/><path class=\"point\" transform=\"translate(17.85,243.25)\" d=\"M3,0A3,3 0 1,1 0,-3A3,3 0 0,1 3,0Z\" style=\"opacity: 1; stroke-width: 0px; fill: rgb(214, 39, 40); fill-opacity: 1;\"/><path class=\"point\" transform=\"translate(17.8,243.25)\" d=\"M3,0A3,3 0 1,1 0,-3A3,3 0 0,1 3,0Z\" style=\"opacity: 1; stroke-width: 0px; fill: rgb(214, 39, 40); fill-opacity: 1;\"/><path class=\"point\" transform=\"translate(18.1,242.28)\" d=\"M3,0A3,3 0 1,1 0,-3A3,3 0 0,1 3,0Z\" style=\"opacity: 1; stroke-width: 0px; fill: rgb(214, 39, 40); fill-opacity: 1;\"/><path class=\"point\" transform=\"translate(17.81,243.2)\" d=\"M3,0A3,3 0 1,1 0,-3A3,3 0 0,1 3,0Z\" style=\"opacity: 1; stroke-width: 0px; fill: rgb(214, 39, 40); fill-opacity: 1;\"/><path class=\"point\" transform=\"translate(17.82,243.17)\" d=\"M3,0A3,3 0 1,1 0,-3A3,3 0 0,1 3,0Z\" style=\"opacity: 1; stroke-width: 0px; fill: rgb(214, 39, 40); fill-opacity: 1;\"/><path class=\"point\" transform=\"translate(17.85,243.23)\" d=\"M3,0A3,3 0 1,1 0,-3A3,3 0 0,1 3,0Z\" style=\"opacity: 1; stroke-width: 0px; fill: rgb(214, 39, 40); fill-opacity: 1;\"/><path class=\"point\" transform=\"translate(17.84,243.24)\" d=\"M3,0A3,3 0 1,1 0,-3A3,3 0 0,1 3,0Z\" style=\"opacity: 1; stroke-width: 0px; fill: rgb(214, 39, 40); fill-opacity: 1;\"/><path class=\"point\" transform=\"translate(17.81,243.24)\" d=\"M3,0A3,3 0 1,1 0,-3A3,3 0 0,1 3,0Z\" style=\"opacity: 1; stroke-width: 0px; fill: rgb(214, 39, 40); fill-opacity: 1;\"/><path class=\"point\" transform=\"translate(17.8,243.23)\" d=\"M3,0A3,3 0 1,1 0,-3A3,3 0 0,1 3,0Z\" style=\"opacity: 1; stroke-width: 0px; fill: rgb(214, 39, 40); fill-opacity: 1;\"/><path class=\"point\" transform=\"translate(17.8,243.24)\" d=\"M3,0A3,3 0 1,1 0,-3A3,3 0 0,1 3,0Z\" style=\"opacity: 1; stroke-width: 0px; fill: rgb(214, 39, 40); fill-opacity: 1;\"/><path class=\"point\" transform=\"translate(17.87,243.2)\" d=\"M3,0A3,3 0 1,1 0,-3A3,3 0 0,1 3,0Z\" style=\"opacity: 1; stroke-width: 0px; fill: rgb(214, 39, 40); fill-opacity: 1;\"/><path class=\"point\" transform=\"translate(17.85,243.2)\" d=\"M3,0A3,3 0 1,1 0,-3A3,3 0 0,1 3,0Z\" style=\"opacity: 1; stroke-width: 0px; fill: rgb(214, 39, 40); fill-opacity: 1;\"/><path class=\"point\" transform=\"translate(17.9,243.08)\" d=\"M3,0A3,3 0 1,1 0,-3A3,3 0 0,1 3,0Z\" style=\"opacity: 1; stroke-width: 0px; fill: rgb(214, 39, 40); fill-opacity: 1;\"/><path class=\"point\" transform=\"translate(17.86,243.2)\" d=\"M3,0A3,3 0 1,1 0,-3A3,3 0 0,1 3,0Z\" style=\"opacity: 1; stroke-width: 0px; fill: rgb(214, 39, 40); fill-opacity: 1;\"/><path class=\"point\" transform=\"translate(17.85,243.18)\" d=\"M3,0A3,3 0 1,1 0,-3A3,3 0 0,1 3,0Z\" style=\"opacity: 1; stroke-width: 0px; fill: rgb(214, 39, 40); fill-opacity: 1;\"/><path class=\"point\" transform=\"translate(18.02,242.77)\" d=\"M3,0A3,3 0 1,1 0,-3A3,3 0 0,1 3,0Z\" style=\"opacity: 1; stroke-width: 0px; fill: rgb(214, 39, 40); fill-opacity: 1;\"/><path class=\"point\" transform=\"translate(17.8,243.24)\" d=\"M3,0A3,3 0 1,1 0,-3A3,3 0 0,1 3,0Z\" style=\"opacity: 1; stroke-width: 0px; fill: rgb(214, 39, 40); fill-opacity: 1;\"/><path class=\"point\" transform=\"translate(18.15,242.65)\" d=\"M3,0A3,3 0 1,1 0,-3A3,3 0 0,1 3,0Z\" style=\"opacity: 1; stroke-width: 0px; fill: rgb(214, 39, 40); fill-opacity: 1;\"/><path class=\"point\" transform=\"translate(17.94,242.9)\" d=\"M3,0A3,3 0 1,1 0,-3A3,3 0 0,1 3,0Z\" style=\"opacity: 1; stroke-width: 0px; fill: rgb(214, 39, 40); fill-opacity: 1;\"/><path class=\"point\" transform=\"translate(18.09,243.03)\" d=\"M3,0A3,3 0 1,1 0,-3A3,3 0 0,1 3,0Z\" style=\"opacity: 1; stroke-width: 0px; fill: rgb(214, 39, 40); fill-opacity: 1;\"/><path class=\"point\" transform=\"translate(17.81,243.22)\" d=\"M3,0A3,3 0 1,1 0,-3A3,3 0 0,1 3,0Z\" style=\"opacity: 1; stroke-width: 0px; fill: rgb(214, 39, 40); fill-opacity: 1;\"/><path class=\"point\" transform=\"translate(17.8,243.2)\" d=\"M3,0A3,3 0 1,1 0,-3A3,3 0 0,1 3,0Z\" style=\"opacity: 1; stroke-width: 0px; fill: rgb(214, 39, 40); fill-opacity: 1;\"/><path class=\"point\" transform=\"translate(17.81,243.24)\" d=\"M3,0A3,3 0 1,1 0,-3A3,3 0 0,1 3,0Z\" style=\"opacity: 1; stroke-width: 0px; fill: rgb(214, 39, 40); fill-opacity: 1;\"/><path class=\"point\" transform=\"translate(17.84,243.05)\" d=\"M3,0A3,3 0 1,1 0,-3A3,3 0 0,1 3,0Z\" style=\"opacity: 1; stroke-width: 0px; fill: rgb(214, 39, 40); fill-opacity: 1;\"/></g><g class=\"text\"/></g><g class=\"trace scatter trace23c887\" style=\"stroke-miterlimit: 2; opacity: 1;\"><g class=\"fills\"/><g class=\"errorbars\"/><g class=\"lines\"><path class=\"js-line\" d=\"M17.8,243.17L18.15,242.85L262.81,18.41\" style=\"vector-effect: non-scaling-stroke; fill: none; stroke: rgb(214, 39, 40); stroke-opacity: 1; stroke-width: 2px; opacity: 1;\"/></g><g class=\"points\"/><g class=\"text\"/></g><g class=\"trace scatter trace1717a5\" style=\"stroke-miterlimit: 2; opacity: 1;\"><g class=\"fills\"/><g class=\"errorbars\"/><g class=\"lines\"/><g class=\"points\"><path class=\"point\" transform=\"translate(263.2,16.75)\" d=\"M3,0A3,3 0 1,1 0,-3A3,3 0 0,1 3,0Z\" style=\"opacity: 1; stroke-width: 0px; fill: rgb(148, 103, 189); fill-opacity: 1;\"/><path class=\"point\" transform=\"translate(17.82,243.25)\" d=\"M3,0A3,3 0 1,1 0,-3A3,3 0 0,1 3,0Z\" style=\"opacity: 1; stroke-width: 0px; fill: rgb(148, 103, 189); fill-opacity: 1;\"/><path class=\"point\" transform=\"translate(17.84,243.25)\" d=\"M3,0A3,3 0 1,1 0,-3A3,3 0 0,1 3,0Z\" style=\"opacity: 1; stroke-width: 0px; fill: rgb(148, 103, 189); fill-opacity: 1;\"/><path class=\"point\" transform=\"translate(17.81,243.25)\" d=\"M3,0A3,3 0 1,1 0,-3A3,3 0 0,1 3,0Z\" style=\"opacity: 1; stroke-width: 0px; fill: rgb(148, 103, 189); fill-opacity: 1;\"/><path class=\"point\" transform=\"translate(18.08,242.76)\" d=\"M3,0A3,3 0 1,1 0,-3A3,3 0 0,1 3,0Z\" style=\"opacity: 1; stroke-width: 0px; fill: rgb(148, 103, 189); fill-opacity: 1;\"/><path class=\"point\" transform=\"translate(17.82,243.17)\" d=\"M3,0A3,3 0 1,1 0,-3A3,3 0 0,1 3,0Z\" style=\"opacity: 1; stroke-width: 0px; fill: rgb(148, 103, 189); fill-opacity: 1;\"/><path class=\"point\" transform=\"translate(17.81,243.2)\" d=\"M3,0A3,3 0 1,1 0,-3A3,3 0 0,1 3,0Z\" style=\"opacity: 1; stroke-width: 0px; fill: rgb(148, 103, 189); fill-opacity: 1;\"/><path class=\"point\" transform=\"translate(17.84,243.25)\" d=\"M3,0A3,3 0 1,1 0,-3A3,3 0 0,1 3,0Z\" style=\"opacity: 1; stroke-width: 0px; fill: rgb(148, 103, 189); fill-opacity: 1;\"/><path class=\"point\" transform=\"translate(17.82,243.25)\" d=\"M3,0A3,3 0 1,1 0,-3A3,3 0 0,1 3,0Z\" style=\"opacity: 1; stroke-width: 0px; fill: rgb(148, 103, 189); fill-opacity: 1;\"/><path class=\"point\" transform=\"translate(17.82,243.23)\" d=\"M3,0A3,3 0 1,1 0,-3A3,3 0 0,1 3,0Z\" style=\"opacity: 1; stroke-width: 0px; fill: rgb(148, 103, 189); fill-opacity: 1;\"/><path class=\"point\" transform=\"translate(17.81,243.19)\" d=\"M3,0A3,3 0 1,1 0,-3A3,3 0 0,1 3,0Z\" style=\"opacity: 1; stroke-width: 0px; fill: rgb(148, 103, 189); fill-opacity: 1;\"/><path class=\"point\" transform=\"translate(17.82,243.25)\" d=\"M3,0A3,3 0 1,1 0,-3A3,3 0 0,1 3,0Z\" style=\"opacity: 1; stroke-width: 0px; fill: rgb(148, 103, 189); fill-opacity: 1;\"/><path class=\"point\" transform=\"translate(17.81,243.25)\" d=\"M3,0A3,3 0 1,1 0,-3A3,3 0 0,1 3,0Z\" style=\"opacity: 1; stroke-width: 0px; fill: rgb(148, 103, 189); fill-opacity: 1;\"/><path class=\"point\" transform=\"translate(17.88,243.22)\" d=\"M3,0A3,3 0 1,1 0,-3A3,3 0 0,1 3,0Z\" style=\"opacity: 1; stroke-width: 0px; fill: rgb(148, 103, 189); fill-opacity: 1;\"/><path class=\"point\" transform=\"translate(17.84,243.23)\" d=\"M3,0A3,3 0 1,1 0,-3A3,3 0 0,1 3,0Z\" style=\"opacity: 1; stroke-width: 0px; fill: rgb(148, 103, 189); fill-opacity: 1;\"/><path class=\"point\" transform=\"translate(17.86,243.19)\" d=\"M3,0A3,3 0 1,1 0,-3A3,3 0 0,1 3,0Z\" style=\"opacity: 1; stroke-width: 0px; fill: rgb(148, 103, 189); fill-opacity: 1;\"/><path class=\"point\" transform=\"translate(17.84,243.19)\" d=\"M3,0A3,3 0 1,1 0,-3A3,3 0 0,1 3,0Z\" style=\"opacity: 1; stroke-width: 0px; fill: rgb(148, 103, 189); fill-opacity: 1;\"/><path class=\"point\" transform=\"translate(17.85,243.14)\" d=\"M3,0A3,3 0 1,1 0,-3A3,3 0 0,1 3,0Z\" style=\"opacity: 1; stroke-width: 0px; fill: rgb(148, 103, 189); fill-opacity: 1;\"/><path class=\"point\" transform=\"translate(17.94,243.14)\" d=\"M3,0A3,3 0 1,1 0,-3A3,3 0 0,1 3,0Z\" style=\"opacity: 1; stroke-width: 0px; fill: rgb(148, 103, 189); fill-opacity: 1;\"/><path class=\"point\" transform=\"translate(18.05,242.87)\" d=\"M3,0A3,3 0 1,1 0,-3A3,3 0 0,1 3,0Z\" style=\"opacity: 1; stroke-width: 0px; fill: rgb(148, 103, 189); fill-opacity: 1;\"/><path class=\"point\" transform=\"translate(17.91,243.14)\" d=\"M3,0A3,3 0 1,1 0,-3A3,3 0 0,1 3,0Z\" style=\"opacity: 1; stroke-width: 0px; fill: rgb(148, 103, 189); fill-opacity: 1;\"/><path class=\"point\" transform=\"translate(17.99,243.1)\" d=\"M3,0A3,3 0 1,1 0,-3A3,3 0 0,1 3,0Z\" style=\"opacity: 1; stroke-width: 0px; fill: rgb(148, 103, 189); fill-opacity: 1;\"/><path class=\"point\" transform=\"translate(17.81,243.25)\" d=\"M3,0A3,3 0 1,1 0,-3A3,3 0 0,1 3,0Z\" style=\"opacity: 1; stroke-width: 0px; fill: rgb(148, 103, 189); fill-opacity: 1;\"/><path class=\"point\" transform=\"translate(17.82,243.22)\" d=\"M3,0A3,3 0 1,1 0,-3A3,3 0 0,1 3,0Z\" style=\"opacity: 1; stroke-width: 0px; fill: rgb(148, 103, 189); fill-opacity: 1;\"/><path class=\"point\" transform=\"translate(17.81,243.24)\" d=\"M3,0A3,3 0 1,1 0,-3A3,3 0 0,1 3,0Z\" style=\"opacity: 1; stroke-width: 0px; fill: rgb(148, 103, 189); fill-opacity: 1;\"/><path class=\"point\" transform=\"translate(17.85,243.16)\" d=\"M3,0A3,3 0 1,1 0,-3A3,3 0 0,1 3,0Z\" style=\"opacity: 1; stroke-width: 0px; fill: rgb(148, 103, 189); fill-opacity: 1;\"/></g><g class=\"text\"/></g><g class=\"trace scatter trace763ba9\" style=\"stroke-miterlimit: 2; opacity: 1;\"><g class=\"fills\"/><g class=\"errorbars\"/><g class=\"lines\"><path class=\"js-line\" d=\"M17.81,243.23L18.08,242.98L263.2,16.75\" style=\"vector-effect: non-scaling-stroke; fill: none; stroke: rgb(148, 103, 189); stroke-opacity: 1; stroke-width: 2px; opacity: 1;\"/></g><g class=\"points\"/><g class=\"text\"/></g></g></g><g class=\"overplot\"/><path class=\"xlines-above crisp\" d=\"M79,320.5H361\" style=\"fill: none; stroke-width: 1px; stroke: rgb(36, 36, 36); stroke-opacity: 1;\"/><path class=\"ylines-above crisp\" d=\"M79.5,60V320\" style=\"fill: none; stroke-width: 1px; stroke: rgb(36, 36, 36); stroke-opacity: 1;\"/><g class=\"overlines-above\"/><g class=\"xaxislayer-above\"><path class=\"xtick ticks crisp\" d=\"M0,321v5\" transform=\"translate(97.8,0)\" style=\"stroke: rgb(68, 68, 68); stroke-opacity: 1; stroke-width: 1px;\"/><path class=\"xtick ticks crisp\" d=\"M0,321v5\" transform=\"translate(122.5,0)\" style=\"stroke: rgb(68, 68, 68); stroke-opacity: 1; stroke-width: 1px;\"/><path class=\"xtick ticks crisp\" d=\"M0,321v5\" transform=\"translate(147.2,0)\" style=\"stroke: rgb(68, 68, 68); stroke-opacity: 1; stroke-width: 1px;\"/><path class=\"xtick ticks crisp\" d=\"M0,321v5\" transform=\"translate(171.89,0)\" style=\"stroke: rgb(68, 68, 68); stroke-opacity: 1; stroke-width: 1px;\"/><path class=\"xtick ticks crisp\" d=\"M0,321v5\" transform=\"translate(196.59,0)\" style=\"stroke: rgb(68, 68, 68); stroke-opacity: 1; stroke-width: 1px;\"/><path class=\"xtick ticks crisp\" d=\"M0,321v5\" transform=\"translate(221.29,0)\" style=\"stroke: rgb(68, 68, 68); stroke-opacity: 1; stroke-width: 1px;\"/><path class=\"xtick ticks crisp\" d=\"M0,321v5\" transform=\"translate(245.99,0)\" style=\"stroke: rgb(68, 68, 68); stroke-opacity: 1; stroke-width: 1px;\"/><path class=\"xtick ticks crisp\" d=\"M0,321v5\" transform=\"translate(270.69,0)\" style=\"stroke: rgb(68, 68, 68); stroke-opacity: 1; stroke-width: 1px;\"/><path class=\"xtick ticks crisp\" d=\"M0,321v5\" transform=\"translate(295.39,0)\" style=\"stroke: rgb(68, 68, 68); stroke-opacity: 1; stroke-width: 1px;\"/><path class=\"xtick ticks crisp\" d=\"M0,321v5\" transform=\"translate(320.09000000000003,0)\" style=\"stroke: rgb(68, 68, 68); stroke-opacity: 1; stroke-width: 1px;\"/><path class=\"xtick ticks crisp\" d=\"M0,321v5\" transform=\"translate(344.78,0)\" style=\"stroke: rgb(68, 68, 68); stroke-opacity: 1; stroke-width: 1px;\"/><g class=\"xtick\"><text text-anchor=\"middle\" x=\"0\" y=\"340.4\" transform=\"translate(97.8,0)\" style=\"font-family: 'Open Sans', verdana, arial, sans-serif; font-size: 12px; fill: rgb(36, 36, 36); fill-opacity: 1; white-space: pre; opacity: 1;\">0</text></g><g class=\"xtick\"><text text-anchor=\"middle\" x=\"0\" y=\"340.4\" style=\"font-family: 'Open Sans', verdana, arial, sans-serif; font-size: 12px; fill: rgb(36, 36, 36); fill-opacity: 1; white-space: pre; opacity: 1;\" transform=\"translate(122.5,0)\">10</text></g><g class=\"xtick\"><text text-anchor=\"middle\" x=\"0\" y=\"340.4\" style=\"font-family: 'Open Sans', verdana, arial, sans-serif; font-size: 12px; fill: rgb(36, 36, 36); fill-opacity: 1; white-space: pre; opacity: 1;\" transform=\"translate(147.2,0)\">20</text></g><g class=\"xtick\"><text text-anchor=\"middle\" x=\"0\" y=\"340.4\" style=\"font-family: 'Open Sans', verdana, arial, sans-serif; font-size: 12px; fill: rgb(36, 36, 36); fill-opacity: 1; white-space: pre; opacity: 1;\" transform=\"translate(171.89,0)\">30</text></g><g class=\"xtick\"><text text-anchor=\"middle\" x=\"0\" y=\"340.4\" style=\"font-family: 'Open Sans', verdana, arial, sans-serif; font-size: 12px; fill: rgb(36, 36, 36); fill-opacity: 1; white-space: pre; opacity: 1;\" transform=\"translate(196.59,0)\">40</text></g><g class=\"xtick\"><text text-anchor=\"middle\" x=\"0\" y=\"340.4\" style=\"font-family: 'Open Sans', verdana, arial, sans-serif; font-size: 12px; fill: rgb(36, 36, 36); fill-opacity: 1; white-space: pre; opacity: 1;\" transform=\"translate(221.29,0)\">50</text></g><g class=\"xtick\"><text text-anchor=\"middle\" x=\"0\" y=\"340.4\" style=\"font-family: 'Open Sans', verdana, arial, sans-serif; font-size: 12px; fill: rgb(36, 36, 36); fill-opacity: 1; white-space: pre; opacity: 1;\" transform=\"translate(245.99,0)\">60</text></g><g class=\"xtick\"><text text-anchor=\"middle\" x=\"0\" y=\"340.4\" style=\"font-family: 'Open Sans', verdana, arial, sans-serif; font-size: 12px; fill: rgb(36, 36, 36); fill-opacity: 1; white-space: pre; opacity: 1;\" transform=\"translate(270.69,0)\">70</text></g><g class=\"xtick\"><text text-anchor=\"middle\" x=\"0\" y=\"340.4\" style=\"font-family: 'Open Sans', verdana, arial, sans-serif; font-size: 12px; fill: rgb(36, 36, 36); fill-opacity: 1; white-space: pre; opacity: 1;\" transform=\"translate(295.39,0)\">80</text></g><g class=\"xtick\"><text text-anchor=\"middle\" x=\"0\" y=\"340.4\" style=\"font-family: 'Open Sans', verdana, arial, sans-serif; font-size: 12px; fill: rgb(36, 36, 36); fill-opacity: 1; white-space: pre; opacity: 1;\" transform=\"translate(320.09000000000003,0)\">90</text></g><g class=\"xtick\"><text text-anchor=\"middle\" x=\"0\" y=\"340.4\" style=\"font-family: 'Open Sans', verdana, arial, sans-serif; font-size: 12px; fill: rgb(36, 36, 36); fill-opacity: 1; white-space: pre; opacity: 1;\" transform=\"translate(344.78,0)\">100</text></g></g><g class=\"yaxislayer-above\"><path class=\"ytick ticks crisp\" d=\"M79,0h-5\" transform=\"translate(0,303.25)\" style=\"stroke: rgb(68, 68, 68); stroke-opacity: 1; stroke-width: 1px;\"/><path class=\"ytick ticks crisp\" d=\"M79,0h-5\" transform=\"translate(0,257.57)\" style=\"stroke: rgb(68, 68, 68); stroke-opacity: 1; stroke-width: 1px;\"/><path class=\"ytick ticks crisp\" d=\"M79,0h-5\" transform=\"translate(0,211.88)\" style=\"stroke: rgb(68, 68, 68); stroke-opacity: 1; stroke-width: 1px;\"/><path class=\"ytick ticks crisp\" d=\"M79,0h-5\" transform=\"translate(0,166.2)\" style=\"stroke: rgb(68, 68, 68); stroke-opacity: 1; stroke-width: 1px;\"/><path class=\"ytick ticks crisp\" d=\"M79,0h-5\" transform=\"translate(0,120.52000000000001)\" style=\"stroke: rgb(68, 68, 68); stroke-opacity: 1; stroke-width: 1px;\"/><path class=\"ytick ticks crisp\" d=\"M79,0h-5\" transform=\"translate(0,74.83)\" style=\"stroke: rgb(68, 68, 68); stroke-opacity: 1; stroke-width: 1px;\"/><g class=\"ytick\"><text text-anchor=\"end\" x=\"71.6\" y=\"4.199999999999999\" transform=\"translate(0,303.25)\" style=\"font-family: 'Open Sans', verdana, arial, sans-serif; font-size: 12px; fill: rgb(36, 36, 36); fill-opacity: 1; white-space: pre; opacity: 1;\">0</text></g><g class=\"ytick\"><text text-anchor=\"end\" x=\"71.6\" y=\"4.199999999999999\" style=\"font-family: 'Open Sans', verdana, arial, sans-serif; font-size: 12px; fill: rgb(36, 36, 36); fill-opacity: 1; white-space: pre; opacity: 1;\" transform=\"translate(0,257.57)\">20</text></g><g class=\"ytick\"><text text-anchor=\"end\" x=\"71.6\" y=\"4.199999999999999\" style=\"font-family: 'Open Sans', verdana, arial, sans-serif; font-size: 12px; fill: rgb(36, 36, 36); fill-opacity: 1; white-space: pre; opacity: 1;\" transform=\"translate(0,211.88)\">40</text></g><g class=\"ytick\"><text text-anchor=\"end\" x=\"71.6\" y=\"4.199999999999999\" style=\"font-family: 'Open Sans', verdana, arial, sans-serif; font-size: 12px; fill: rgb(36, 36, 36); fill-opacity: 1; white-space: pre; opacity: 1;\" transform=\"translate(0,166.2)\">60</text></g><g class=\"ytick\"><text text-anchor=\"end\" x=\"71.6\" y=\"4.199999999999999\" style=\"font-family: 'Open Sans', verdana, arial, sans-serif; font-size: 12px; fill: rgb(36, 36, 36); fill-opacity: 1; white-space: pre; opacity: 1;\" transform=\"translate(0,120.52000000000001)\">80</text></g><g class=\"ytick\"><text text-anchor=\"end\" x=\"71.6\" y=\"4.199999999999999\" style=\"font-family: 'Open Sans', verdana, arial, sans-serif; font-size: 12px; fill: rgb(36, 36, 36); fill-opacity: 1; white-space: pre; opacity: 1;\" transform=\"translate(0,74.83)\">100</text></g></g><g class=\"overaxes-above\"/></g></g><g class=\"polarlayer\"/><g class=\"smithlayer\"/><g class=\"ternarylayer\"/><g class=\"geolayer\"/><g class=\"funnelarealayer\"/><g class=\"pielayer\"/><g class=\"iciclelayer\"/><g class=\"treemaplayer\"/><g class=\"sunburstlayer\"/><g class=\"glimages\"/><defs id=\"topdefs-6feab1\"><g class=\"clips\"/><clipPath id=\"legend6feab1\"><rect width=\"121\" height=\"143\" x=\"0\" y=\"0\"/></clipPath></defs><g class=\"layer-above\"><g class=\"imagelayer\"/><g class=\"shapelayer\"/></g><g class=\"infolayer\"><g class=\"legend\" pointer-events=\"all\" transform=\"translate(366.62,60)\"><rect class=\"bg\" shape-rendering=\"crispEdges\" style=\"stroke: rgb(68, 68, 68); stroke-opacity: 1; fill: rgb(255, 255, 255); fill-opacity: 1; stroke-width: 0px;\" width=\"121\" height=\"143\" x=\"0\" y=\"0\"/><g class=\"scrollbox\" transform=\"\" clip-path=\"url(#legend6feab1)\"><text class=\"legendtitletext\" text-anchor=\"start\" x=\"2\" y=\"18.2\" style=\"font-family: 'Open Sans', verdana, arial, sans-serif; font-size: 14px; fill: rgb(36, 36, 36); fill-opacity: 1; white-space: pre;\">RT_and_DMS</text><g class=\"groups\" transform=\"\"><g class=\"traces\" transform=\"translate(0,32.7)\" style=\"opacity: 1;\"><text class=\"legendtext\" text-anchor=\"start\" x=\"40\" y=\"4.680000000000001\" style=\"font-family: 'Open Sans', verdana, arial, sans-serif; font-size: 12px; fill: rgb(36, 36, 36); fill-opacity: 1; white-space: pre;\">RT-FS_0mM</text><g class=\"layers\" style=\"opacity: 1;\"><g class=\"legendfill\"/><g class=\"legendlines\"/><g class=\"legendsymbols\"><g class=\"legendpoints\"><path class=\"scatterpts\" transform=\"translate(20,0)\" d=\"M3,0A3,3 0 1,1 0,-3A3,3 0 0,1 3,0Z\" style=\"opacity: 1; stroke-width: 0px; fill: rgb(100, 100, 100); fill-opacity: 1;\"/></g></g></g><rect class=\"legendtoggle\" x=\"0\" y=\"-9.5\" width=\"115.8125\" height=\"19\" style=\"fill: rgb(0, 0, 0); fill-opacity: 0;\"/></g></g><g class=\"groups\" transform=\"\"><g class=\"traces\" transform=\"translate(0,51.7)\" style=\"opacity: 1;\"><text class=\"legendtext\" text-anchor=\"start\" x=\"40\" y=\"4.680000000000001\" style=\"font-family: 'Open Sans', verdana, arial, sans-serif; font-size: 12px; fill: rgb(36, 36, 36); fill-opacity: 1; white-space: pre;\">RT-FS_57mM</text><g class=\"layers\" style=\"opacity: 1;\"><g class=\"legendfill\"/><g class=\"legendlines\"/><g class=\"legendsymbols\"><g class=\"legendpoints\"><path class=\"scatterpts\" transform=\"translate(20,0)\" d=\"M3,0A3,3 0 1,1 0,-3A3,3 0 0,1 3,0Z\" style=\"opacity: 1; stroke-width: 0px; fill: rgb(31, 119, 180); fill-opacity: 1;\"/></g></g></g><rect class=\"legendtoggle\" x=\"0\" y=\"-9.5\" width=\"115.8125\" height=\"19\" style=\"fill: rgb(0, 0, 0); fill-opacity: 0;\"/></g></g><g class=\"groups\" transform=\"\"><g class=\"traces\" transform=\"translate(0,70.7)\" style=\"opacity: 1;\"><text class=\"legendtext\" text-anchor=\"start\" x=\"40\" y=\"4.680000000000001\" style=\"font-family: 'Open Sans', verdana, arial, sans-serif; font-size: 12px; fill: rgb(36, 36, 36); fill-opacity: 1; white-space: pre;\">RT-FS_85mM</text><g class=\"layers\" style=\"opacity: 1;\"><g class=\"legendfill\"/><g class=\"legendlines\"/><g class=\"legendsymbols\"><g class=\"legendpoints\"><path class=\"scatterpts\" transform=\"translate(20,0)\" d=\"M3,0A3,3 0 1,1 0,-3A3,3 0 0,1 3,0Z\" style=\"opacity: 1; stroke-width: 0px; fill: rgb(255, 127, 14); fill-opacity: 1;\"/></g></g></g><rect class=\"legendtoggle\" x=\"0\" y=\"-9.5\" width=\"115.8125\" height=\"19\" style=\"fill: rgb(0, 0, 0); fill-opacity: 0;\"/></g></g><g class=\"groups\" transform=\"\"><g class=\"traces\" transform=\"translate(0,89.7)\" style=\"opacity: 1;\"><text class=\"legendtext\" text-anchor=\"start\" x=\"40\" y=\"4.680000000000001\" style=\"font-family: 'Open Sans', verdana, arial, sans-serif; font-size: 12px; fill: rgb(36, 36, 36); fill-opacity: 1; white-space: pre;\">RT-US_0mM</text><g class=\"layers\" style=\"opacity: 1;\"><g class=\"legendfill\"/><g class=\"legendlines\"/><g class=\"legendsymbols\"><g class=\"legendpoints\"><path class=\"scatterpts\" transform=\"translate(20,0)\" d=\"M3,0A3,3 0 1,1 0,-3A3,3 0 0,1 3,0Z\" style=\"opacity: 1; stroke-width: 0px; fill: rgb(44, 160, 44); fill-opacity: 1;\"/></g></g></g><rect class=\"legendtoggle\" x=\"0\" y=\"-9.5\" width=\"115.8125\" height=\"19\" style=\"fill: rgb(0, 0, 0); fill-opacity: 0;\"/></g></g><g class=\"groups\" transform=\"\"><g class=\"traces\" transform=\"translate(0,108.7)\" style=\"opacity: 1;\"><text class=\"legendtext\" text-anchor=\"start\" x=\"40\" y=\"4.680000000000001\" style=\"font-family: 'Open Sans', verdana, arial, sans-serif; font-size: 12px; fill: rgb(36, 36, 36); fill-opacity: 1; white-space: pre;\">RT-US_57mM</text><g class=\"layers\" style=\"opacity: 1;\"><g class=\"legendfill\"/><g class=\"legendlines\"/><g class=\"legendsymbols\"><g class=\"legendpoints\"><path class=\"scatterpts\" transform=\"translate(20,0)\" d=\"M3,0A3,3 0 1,1 0,-3A3,3 0 0,1 3,0Z\" style=\"opacity: 1; stroke-width: 0px; fill: rgb(214, 39, 40); fill-opacity: 1;\"/></g></g></g><rect class=\"legendtoggle\" x=\"0\" y=\"-9.5\" width=\"115.8125\" height=\"19\" style=\"fill: rgb(0, 0, 0); fill-opacity: 0;\"/></g></g><g class=\"groups\" transform=\"\"><g class=\"traces\" transform=\"translate(0,127.7)\" style=\"opacity: 1;\"><text class=\"legendtext\" text-anchor=\"start\" x=\"40\" y=\"4.680000000000001\" style=\"font-family: 'Open Sans', verdana, arial, sans-serif; font-size: 12px; fill: rgb(36, 36, 36); fill-opacity: 1; white-space: pre;\">RT-US_85mM</text><g class=\"layers\" style=\"opacity: 1;\"><g class=\"legendfill\"/><g class=\"legendlines\"/><g class=\"legendsymbols\"><g class=\"legendpoints\"><path class=\"scatterpts\" transform=\"translate(20,0)\" d=\"M3,0A3,3 0 1,1 0,-3A3,3 0 0,1 3,0Z\" style=\"opacity: 1; stroke-width: 0px; fill: rgb(148, 103, 189); fill-opacity: 1;\"/></g></g></g><rect class=\"legendtoggle\" x=\"0\" y=\"-9.5\" width=\"115.8125\" height=\"19\" style=\"fill: rgb(0, 0, 0); fill-opacity: 0;\"/></g></g></g><rect class=\"scrollbar\" rx=\"20\" ry=\"3\" width=\"0\" height=\"0\" style=\"fill: rgb(128, 139, 164); fill-opacity: 1;\" x=\"0\" y=\"0\"/></g><g class=\"g-gtitle\"/><g class=\"g-xtitle\"><text class=\"xtitle\" x=\"220.5\" y=\"368.20625\" text-anchor=\"middle\" style=\"font-family: 'Open Sans', verdana, arial, sans-serif; font-size: 14px; fill: rgb(36, 36, 36); opacity: 1; font-weight: normal; white-space: pre;\">Rep1</text></g><g class=\"g-ytitle\"><text class=\"ytitle\" transform=\"rotate(-90,26.778125000000003,190)\" x=\"26.778125000000003\" y=\"190\" text-anchor=\"middle\" style=\"font-family: 'Open Sans', verdana, arial, sans-serif; font-size: 14px; fill: rgb(36, 36, 36); opacity: 1; font-weight: normal; white-space: pre;\">Rep2</text></g></g></svg>"
      ]
     },
     "metadata": {},
     "output_type": "display_data"
    }
   ],
   "source": [
    "fig = px.scatter(pivot_df, x=\"Rep1\", y=\"Rep2\", color=\"RT_and_DMS\", trendline=\"ols\")\n",
    "fig.update_layout(width=500, height=400)\n",
    "fig.update_xaxes(dtick=10)\n",
    "fig.show()"
   ]
  },
  {
   "cell_type": "code",
   "execution_count": 129,
   "id": "8e54d808-392e-4033-869c-665e83f6100c",
   "metadata": {},
   "outputs": [
    {
     "name": "stdout",
     "output_type": "stream",
     "text": [
      "RT-FS_0mM\n",
      "0.933714990672154\n",
      "RT-FS_57mM\n",
      "0.9745246537999859\n",
      "RT-FS_85mM\n",
      "0.9618634860276496\n",
      "RT-US_0mM\n",
      "0.9999903427297899\n",
      "RT-US_57mM\n",
      "0.9999876518365786\n",
      "RT-US_85mM\n",
      "0.9999981618659899\n"
     ]
    }
   ],
   "source": [
    "results = px.get_trendline_results(fig)\n",
    "for _, row in results.iterrows():\n",
    "    print(row[\"RT_and_DMS\"])\n",
    "    print(row[\"px_fit_results\"].rsquared)"
   ]
  },
  {
   "cell_type": "code",
   "execution_count": 130,
   "id": "e787702f-c435-41c0-b22e-51f6293bba93",
   "metadata": {},
   "outputs": [
    {
     "data": {
      "image/svg+xml": [
       "<svg class=\"main-svg\" xmlns=\"http://www.w3.org/2000/svg\" xmlns:xlink=\"http://www.w3.org/1999/xlink\" width=\"500\" height=\"400\" style=\"\" viewBox=\"0 0 500 400\"><rect x=\"0\" y=\"0\" width=\"500\" height=\"400\" style=\"fill: rgb(255, 255, 255); fill-opacity: 1;\"/><defs id=\"defs-3bb11f\"><g class=\"clips\"><clipPath id=\"clip3bb11fxyplot\" class=\"plotclip\"><rect width=\"281\" height=\"260\"/></clipPath><clipPath class=\"axesclip\" id=\"clip3bb11fx\"><rect x=\"80\" y=\"0\" width=\"281\" height=\"400\"/></clipPath><clipPath class=\"axesclip\" id=\"clip3bb11fy\"><rect x=\"0\" y=\"60\" width=\"500\" height=\"260\"/></clipPath><clipPath class=\"axesclip\" id=\"clip3bb11fxy\"><rect x=\"80\" y=\"60\" width=\"281\" height=\"260\"/></clipPath></g><g class=\"gradients\"/><g class=\"patterns\"/></defs><g class=\"bglayer\"/><g class=\"layer-below\"><g class=\"imagelayer\"/><g class=\"shapelayer\"/></g><g class=\"cartesianlayer\"><g class=\"subplot xy\"><g class=\"layer-subplot\"><g class=\"shapelayer\"/><g class=\"imagelayer\"/></g><g class=\"minor-gridlayer\"><g class=\"x\"/><g class=\"y\"/></g><g class=\"gridlayer\"><g class=\"x\"/><g class=\"y\"><path class=\"ygrid crisp\" transform=\"translate(0,269.02)\" d=\"M80,0h281\" style=\"stroke: rgb(232, 232, 232); stroke-opacity: 1; stroke-width: 1px;\"/><path class=\"ygrid crisp\" transform=\"translate(0,218.04)\" d=\"M80,0h281\" style=\"stroke: rgb(232, 232, 232); stroke-opacity: 1; stroke-width: 1px;\"/><path class=\"ygrid crisp\" transform=\"translate(0,167.06)\" d=\"M80,0h281\" style=\"stroke: rgb(232, 232, 232); stroke-opacity: 1; stroke-width: 1px;\"/><path class=\"ygrid crisp\" transform=\"translate(0,116.08)\" d=\"M80,0h281\" style=\"stroke: rgb(232, 232, 232); stroke-opacity: 1; stroke-width: 1px;\"/><path class=\"ygrid crisp\" transform=\"translate(0,65.1)\" d=\"M80,0h281\" style=\"stroke: rgb(232, 232, 232); stroke-opacity: 1; stroke-width: 1px;\"/></g></g><g class=\"zerolinelayer\"/><path class=\"xlines-below\"/><path class=\"ylines-below\"/><g class=\"overlines-below\"/><g class=\"xaxislayer-below\"/><g class=\"yaxislayer-below\"/><g class=\"overaxes-below\"/><g class=\"plot\" transform=\"translate(80,60)\" clip-path=\"url(#clip3bb11fxyplot)\"><g class=\"scatterlayer mlayer\"><g class=\"trace scatter trace0de670\" style=\"stroke-miterlimit: 2; opacity: 1;\"><g class=\"fills\"/><g class=\"errorbars\"/><g class=\"lines\"/><g class=\"points\"><path class=\"point\" transform=\"translate(131.77,151.46)\" d=\"M3,0A3,3 0 1,1 0,-3A3,3 0 0,1 3,0Z\" style=\"opacity: 1; stroke-width: 0px; fill: rgb(100, 100, 100); fill-opacity: 1;\"/><path class=\"point\" transform=\"translate(193.56,80.61)\" d=\"M3,0A3,3 0 1,1 0,-3A3,3 0 0,1 3,0Z\" style=\"opacity: 1; stroke-width: 0px; fill: rgb(100, 100, 100); fill-opacity: 1;\"/><path class=\"point\" transform=\"translate(186.99,84.34)\" d=\"M3,0A3,3 0 1,1 0,-3A3,3 0 0,1 3,0Z\" style=\"opacity: 1; stroke-width: 0px; fill: rgb(100, 100, 100); fill-opacity: 1;\"/><path class=\"point\" transform=\"translate(147.71,121.35)\" d=\"M3,0A3,3 0 1,1 0,-3A3,3 0 0,1 3,0Z\" style=\"opacity: 1; stroke-width: 0px; fill: rgb(100, 100, 100); fill-opacity: 1;\"/><path class=\"point\" transform=\"translate(225.84,49.42)\" d=\"M3,0A3,3 0 1,1 0,-3A3,3 0 0,1 3,0Z\" style=\"opacity: 1; stroke-width: 0px; fill: rgb(100, 100, 100); fill-opacity: 1;\"/><path class=\"point\" transform=\"translate(181.53,89.6)\" d=\"M3,0A3,3 0 1,1 0,-3A3,3 0 0,1 3,0Z\" style=\"opacity: 1; stroke-width: 0px; fill: rgb(100, 100, 100); fill-opacity: 1;\"/><path class=\"point\" transform=\"translate(177.59,87.83)\" d=\"M3,0A3,3 0 1,1 0,-3A3,3 0 0,1 3,0Z\" style=\"opacity: 1; stroke-width: 0px; fill: rgb(100, 100, 100); fill-opacity: 1;\"/><path class=\"point\" transform=\"translate(143.69,134.1)\" d=\"M3,0A3,3 0 1,1 0,-3A3,3 0 0,1 3,0Z\" style=\"opacity: 1; stroke-width: 0px; fill: rgb(100, 100, 100); fill-opacity: 1;\"/><path class=\"point\" transform=\"translate(78.05,194.55)\" d=\"M3,0A3,3 0 1,1 0,-3A3,3 0 0,1 3,0Z\" style=\"opacity: 1; stroke-width: 0px; fill: rgb(100, 100, 100); fill-opacity: 1;\"/><path class=\"point\" transform=\"translate(89.67,183.99)\" d=\"M3,0A3,3 0 1,1 0,-3A3,3 0 0,1 3,0Z\" style=\"opacity: 1; stroke-width: 0px; fill: rgb(100, 100, 100); fill-opacity: 1;\"/><path class=\"point\" transform=\"translate(230.85,55.07)\" d=\"M3,0A3,3 0 1,1 0,-3A3,3 0 0,1 3,0Z\" style=\"opacity: 1; stroke-width: 0px; fill: rgb(100, 100, 100); fill-opacity: 1;\"/><path class=\"point\" transform=\"translate(135.36,155.29)\" d=\"M3,0A3,3 0 1,1 0,-3A3,3 0 0,1 3,0Z\" style=\"opacity: 1; stroke-width: 0px; fill: rgb(100, 100, 100); fill-opacity: 1;\"/><path class=\"point\" transform=\"translate(200.21,82.42)\" d=\"M3,0A3,3 0 1,1 0,-3A3,3 0 0,1 3,0Z\" style=\"opacity: 1; stroke-width: 0px; fill: rgb(100, 100, 100); fill-opacity: 1;\"/><path class=\"point\" transform=\"translate(202.95,75.9)\" d=\"M3,0A3,3 0 1,1 0,-3A3,3 0 0,1 3,0Z\" style=\"opacity: 1; stroke-width: 0px; fill: rgb(100, 100, 100); fill-opacity: 1;\"/><path class=\"point\" transform=\"translate(163.32,114.14)\" d=\"M3,0A3,3 0 1,1 0,-3A3,3 0 0,1 3,0Z\" style=\"opacity: 1; stroke-width: 0px; fill: rgb(100, 100, 100); fill-opacity: 1;\"/><path class=\"point\" transform=\"translate(223.09,58.86)\" d=\"M3,0A3,3 0 1,1 0,-3A3,3 0 0,1 3,0Z\" style=\"opacity: 1; stroke-width: 0px; fill: rgb(100, 100, 100); fill-opacity: 1;\"/><path class=\"point\" transform=\"translate(155.23,125.67)\" d=\"M3,0A3,3 0 1,1 0,-3A3,3 0 0,1 3,0Z\" style=\"opacity: 1; stroke-width: 0px; fill: rgb(100, 100, 100); fill-opacity: 1;\"/><path class=\"point\" transform=\"translate(150.91,125.39)\" d=\"M3,0A3,3 0 1,1 0,-3A3,3 0 0,1 3,0Z\" style=\"opacity: 1; stroke-width: 0px; fill: rgb(100, 100, 100); fill-opacity: 1;\"/><path class=\"point\" transform=\"translate(109.28,165.12)\" d=\"M3,0A3,3 0 1,1 0,-3A3,3 0 0,1 3,0Z\" style=\"opacity: 1; stroke-width: 0px; fill: rgb(100, 100, 100); fill-opacity: 1;\"/><path class=\"point\" transform=\"translate(232.93,45.91)\" d=\"M3,0A3,3 0 1,1 0,-3A3,3 0 0,1 3,0Z\" style=\"opacity: 1; stroke-width: 0px; fill: rgb(100, 100, 100); fill-opacity: 1;\"/><path class=\"point\" transform=\"translate(82.17,187.27)\" d=\"M3,0A3,3 0 1,1 0,-3A3,3 0 0,1 3,0Z\" style=\"opacity: 1; stroke-width: 0px; fill: rgb(100, 100, 100); fill-opacity: 1;\"/><path class=\"point\" transform=\"translate(204.35,69.44)\" d=\"M3,0A3,3 0 1,1 0,-3A3,3 0 0,1 3,0Z\" style=\"opacity: 1; stroke-width: 0px; fill: rgb(100, 100, 100); fill-opacity: 1;\"/><path class=\"point\" transform=\"translate(212.16,56.23)\" d=\"M3,0A3,3 0 1,1 0,-3A3,3 0 0,1 3,0Z\" style=\"opacity: 1; stroke-width: 0px; fill: rgb(100, 100, 100); fill-opacity: 1;\"/><path class=\"point\" transform=\"translate(185.28,76.76)\" d=\"M3,0A3,3 0 1,1 0,-3A3,3 0 0,1 3,0Z\" style=\"opacity: 1; stroke-width: 0px; fill: rgb(100, 100, 100); fill-opacity: 1;\"/><path class=\"point\" transform=\"translate(183.95,76.74)\" d=\"M3,0A3,3 0 1,1 0,-3A3,3 0 0,1 3,0Z\" style=\"opacity: 1; stroke-width: 0px; fill: rgb(100, 100, 100); fill-opacity: 1;\"/><path class=\"point\" transform=\"translate(140.17,105.91)\" d=\"M3,0A3,3 0 1,1 0,-3A3,3 0 0,1 3,0Z\" style=\"opacity: 1; stroke-width: 0px; fill: rgb(100, 100, 100); fill-opacity: 1;\"/><path class=\"point\" transform=\"translate(21.41,218.87)\" d=\"M3,0A3,3 0 1,1 0,-3A3,3 0 0,1 3,0Z\" style=\"opacity: 1; stroke-width: 0px; fill: rgb(100, 100, 100); fill-opacity: 1;\"/><path class=\"point\" transform=\"translate(-4.88,212.5)\" d=\"M3,0A3,3 0 1,1 0,-3A3,3 0 0,1 3,0Z\" style=\"opacity: 1; stroke-width: 0px; fill: rgb(100, 100, 100); fill-opacity: 1;\"/><path class=\"point\" transform=\"translate(33.64,234.22)\" d=\"M3,0A3,3 0 1,1 0,-3A3,3 0 0,1 3,0Z\" style=\"opacity: 1; stroke-width: 0px; fill: rgb(100, 100, 100); fill-opacity: 1;\"/><path class=\"point\" transform=\"translate(183.54,87.62)\" d=\"M3,0A3,3 0 1,1 0,-3A3,3 0 0,1 3,0Z\" style=\"opacity: 1; stroke-width: 0px; fill: rgb(100, 100, 100); fill-opacity: 1;\"/><path class=\"point\" transform=\"translate(165.16,102.5)\" d=\"M3,0A3,3 0 1,1 0,-3A3,3 0 0,1 3,0Z\" style=\"opacity: 1; stroke-width: 0px; fill: rgb(100, 100, 100); fill-opacity: 1;\"/><path class=\"point\" transform=\"translate(90.13,136.65)\" d=\"M3,0A3,3 0 1,1 0,-3A3,3 0 0,1 3,0Z\" style=\"opacity: 1; stroke-width: 0px; fill: rgb(100, 100, 100); fill-opacity: 1;\"/><path class=\"point\" transform=\"translate(96.78,182.51)\" d=\"M3,0A3,3 0 1,1 0,-3A3,3 0 0,1 3,0Z\" style=\"opacity: 1; stroke-width: 0px; fill: rgb(100, 100, 100); fill-opacity: 1;\"/><path class=\"point\" transform=\"translate(-4.88,258.54)\" d=\"M3,0A3,3 0 1,1 0,-3A3,3 0 0,1 3,0Z\" style=\"opacity: 1; stroke-width: 0px; fill: rgb(100, 100, 100); fill-opacity: 1;\"/><path class=\"point\" transform=\"translate(118.16,170.22)\" d=\"M3,0A3,3 0 1,1 0,-3A3,3 0 0,1 3,0Z\" style=\"opacity: 1; stroke-width: 0px; fill: rgb(100, 100, 100); fill-opacity: 1;\"/><path class=\"point\" transform=\"translate(95.38,181.81)\" d=\"M3,0A3,3 0 1,1 0,-3A3,3 0 0,1 3,0Z\" style=\"opacity: 1; stroke-width: 0px; fill: rgb(100, 100, 100); fill-opacity: 1;\"/><path class=\"point\" transform=\"translate(90.58,179.82)\" d=\"M3,0A3,3 0 1,1 0,-3A3,3 0 0,1 3,0Z\" style=\"opacity: 1; stroke-width: 0px; fill: rgb(100, 100, 100); fill-opacity: 1;\"/><path class=\"point\" transform=\"translate(143.45,120.55)\" d=\"M3,0A3,3 0 1,1 0,-3A3,3 0 0,1 3,0Z\" style=\"opacity: 1; stroke-width: 0px; fill: rgb(100, 100, 100); fill-opacity: 1;\"/><path class=\"point\" transform=\"translate(82.79,183.99)\" d=\"M3,0A3,3 0 1,1 0,-3A3,3 0 0,1 3,0Z\" style=\"opacity: 1; stroke-width: 0px; fill: rgb(100, 100, 100); fill-opacity: 1;\"/><path class=\"point\" transform=\"translate(89.21,167.52)\" d=\"M3,0A3,3 0 1,1 0,-3A3,3 0 0,1 3,0Z\" style=\"opacity: 1; stroke-width: 0px; fill: rgb(100, 100, 100); fill-opacity: 1;\"/><path class=\"point\" transform=\"translate(80.87,184.76)\" d=\"M3,0A3,3 0 1,1 0,-3A3,3 0 0,1 3,0Z\" style=\"opacity: 1; stroke-width: 0px; fill: rgb(100, 100, 100); fill-opacity: 1;\"/><path class=\"point\" transform=\"translate(84.56,187.27)\" d=\"M3,0A3,3 0 1,1 0,-3A3,3 0 0,1 3,0Z\" style=\"opacity: 1; stroke-width: 0px; fill: rgb(100, 100, 100); fill-opacity: 1;\"/><path class=\"point\" transform=\"translate(61.47,205.45)\" d=\"M3,0A3,3 0 1,1 0,-3A3,3 0 0,1 3,0Z\" style=\"opacity: 1; stroke-width: 0px; fill: rgb(100, 100, 100); fill-opacity: 1;\"/><path class=\"point\" transform=\"translate(134.11,129.29)\" d=\"M3,0A3,3 0 1,1 0,-3A3,3 0 0,1 3,0Z\" style=\"opacity: 1; stroke-width: 0px; fill: rgb(100, 100, 100); fill-opacity: 1;\"/><path class=\"point\" transform=\"translate(136.04,101.69)\" d=\"M3,0A3,3 0 1,1 0,-3A3,3 0 0,1 3,0Z\" style=\"opacity: 1; stroke-width: 0px; fill: rgb(100, 100, 100); fill-opacity: 1;\"/></g><g class=\"text\"/></g><g class=\"trace scatter trace6bee4c\" style=\"stroke-miterlimit: 2; opacity: 1;\"><g class=\"fills\"/><g class=\"errorbars\"/><g class=\"lines\"/><g class=\"points\"><path class=\"point\" transform=\"translate(136.1,142.34)\" d=\"M3,0A3,3 0 1,1 0,-3A3,3 0 0,1 3,0Z\" style=\"opacity: 1; stroke-width: 0px; fill: rgb(31, 119, 180); fill-opacity: 1;\"/><path class=\"point\" transform=\"translate(195.43,76.25)\" d=\"M3,0A3,3 0 1,1 0,-3A3,3 0 0,1 3,0Z\" style=\"opacity: 1; stroke-width: 0px; fill: rgb(31, 119, 180); fill-opacity: 1;\"/><path class=\"point\" transform=\"translate(189.02,82.89)\" d=\"M3,0A3,3 0 1,1 0,-3A3,3 0 0,1 3,0Z\" style=\"opacity: 1; stroke-width: 0px; fill: rgb(31, 119, 180); fill-opacity: 1;\"/><path class=\"point\" transform=\"translate(150.33,115.26)\" d=\"M3,0A3,3 0 1,1 0,-3A3,3 0 0,1 3,0Z\" style=\"opacity: 1; stroke-width: 0px; fill: rgb(31, 119, 180); fill-opacity: 1;\"/><path class=\"point\" transform=\"translate(227.96,46.84)\" d=\"M3,0A3,3 0 1,1 0,-3A3,3 0 0,1 3,0Z\" style=\"opacity: 1; stroke-width: 0px; fill: rgb(31, 119, 180); fill-opacity: 1;\"/><path class=\"point\" transform=\"translate(184.72,82.56)\" d=\"M3,0A3,3 0 1,1 0,-3A3,3 0 0,1 3,0Z\" style=\"opacity: 1; stroke-width: 0px; fill: rgb(31, 119, 180); fill-opacity: 1;\"/><path class=\"point\" transform=\"translate(179.96,87.42)\" d=\"M3,0A3,3 0 1,1 0,-3A3,3 0 0,1 3,0Z\" style=\"opacity: 1; stroke-width: 0px; fill: rgb(31, 119, 180); fill-opacity: 1;\"/><path class=\"point\" transform=\"translate(142.44,135.37)\" d=\"M3,0A3,3 0 1,1 0,-3A3,3 0 0,1 3,0Z\" style=\"opacity: 1; stroke-width: 0px; fill: rgb(31, 119, 180); fill-opacity: 1;\"/><path class=\"point\" transform=\"translate(88.61,183.16)\" d=\"M3,0A3,3 0 1,1 0,-3A3,3 0 0,1 3,0Z\" style=\"opacity: 1; stroke-width: 0px; fill: rgb(31, 119, 180); fill-opacity: 1;\"/><path class=\"point\" transform=\"translate(93.66,181.55)\" d=\"M3,0A3,3 0 1,1 0,-3A3,3 0 0,1 3,0Z\" style=\"opacity: 1; stroke-width: 0px; fill: rgb(31, 119, 180); fill-opacity: 1;\"/><path class=\"point\" transform=\"translate(229.73,52.87)\" d=\"M3,0A3,3 0 1,1 0,-3A3,3 0 0,1 3,0Z\" style=\"opacity: 1; stroke-width: 0px; fill: rgb(31, 119, 180); fill-opacity: 1;\"/><path class=\"point\" transform=\"translate(136.73,134.47)\" d=\"M3,0A3,3 0 1,1 0,-3A3,3 0 0,1 3,0Z\" style=\"opacity: 1; stroke-width: 0px; fill: rgb(31, 119, 180); fill-opacity: 1;\"/><path class=\"point\" transform=\"translate(201.64,75.77)\" d=\"M3,0A3,3 0 1,1 0,-3A3,3 0 0,1 3,0Z\" style=\"opacity: 1; stroke-width: 0px; fill: rgb(31, 119, 180); fill-opacity: 1;\"/><path class=\"point\" transform=\"translate(202.12,75.32)\" d=\"M3,0A3,3 0 1,1 0,-3A3,3 0 0,1 3,0Z\" style=\"opacity: 1; stroke-width: 0px; fill: rgb(31, 119, 180); fill-opacity: 1;\"/><path class=\"point\" transform=\"translate(165.04,112.11)\" d=\"M3,0A3,3 0 1,1 0,-3A3,3 0 0,1 3,0Z\" style=\"opacity: 1; stroke-width: 0px; fill: rgb(31, 119, 180); fill-opacity: 1;\"/><path class=\"point\" transform=\"translate(224.26,54.52)\" d=\"M3,0A3,3 0 1,1 0,-3A3,3 0 0,1 3,0Z\" style=\"opacity: 1; stroke-width: 0px; fill: rgb(31, 119, 180); fill-opacity: 1;\"/><path class=\"point\" transform=\"translate(159.56,110.61)\" d=\"M3,0A3,3 0 1,1 0,-3A3,3 0 0,1 3,0Z\" style=\"opacity: 1; stroke-width: 0px; fill: rgb(31, 119, 180); fill-opacity: 1;\"/><path class=\"point\" transform=\"translate(153.48,116.54)\" d=\"M3,0A3,3 0 1,1 0,-3A3,3 0 0,1 3,0Z\" style=\"opacity: 1; stroke-width: 0px; fill: rgb(31, 119, 180); fill-opacity: 1;\"/><path class=\"point\" transform=\"translate(113.19,154.89)\" d=\"M3,0A3,3 0 1,1 0,-3A3,3 0 0,1 3,0Z\" style=\"opacity: 1; stroke-width: 0px; fill: rgb(31, 119, 180); fill-opacity: 1;\"/><path class=\"point\" transform=\"translate(233.85,44.66)\" d=\"M3,0A3,3 0 1,1 0,-3A3,3 0 0,1 3,0Z\" style=\"opacity: 1; stroke-width: 0px; fill: rgb(31, 119, 180); fill-opacity: 1;\"/><path class=\"point\" transform=\"translate(87.89,185.36)\" d=\"M3,0A3,3 0 1,1 0,-3A3,3 0 0,1 3,0Z\" style=\"opacity: 1; stroke-width: 0px; fill: rgb(31, 119, 180); fill-opacity: 1;\"/><path class=\"point\" transform=\"translate(201.92,78.16)\" d=\"M3,0A3,3 0 1,1 0,-3A3,3 0 0,1 3,0Z\" style=\"opacity: 1; stroke-width: 0px; fill: rgb(31, 119, 180); fill-opacity: 1;\"/><path class=\"point\" transform=\"translate(210.2,62.28)\" d=\"M3,0A3,3 0 1,1 0,-3A3,3 0 0,1 3,0Z\" style=\"opacity: 1; stroke-width: 0px; fill: rgb(31, 119, 180); fill-opacity: 1;\"/><path class=\"point\" transform=\"translate(183.56,82.41)\" d=\"M3,0A3,3 0 1,1 0,-3A3,3 0 0,1 3,0Z\" style=\"opacity: 1; stroke-width: 0px; fill: rgb(31, 119, 180); fill-opacity: 1;\"/><path class=\"point\" transform=\"translate(183.32,79.38)\" d=\"M3,0A3,3 0 1,1 0,-3A3,3 0 0,1 3,0Z\" style=\"opacity: 1; stroke-width: 0px; fill: rgb(31, 119, 180); fill-opacity: 1;\"/><path class=\"point\" transform=\"translate(105.37,166.01)\" d=\"M3,0A3,3 0 1,1 0,-3A3,3 0 0,1 3,0Z\" style=\"opacity: 1; stroke-width: 0px; fill: rgb(31, 119, 180); fill-opacity: 1;\"/><path class=\"point\" transform=\"translate(-12.36,255.72)\" d=\"M3,0A3,3 0 1,1 0,-3A3,3 0 0,1 3,0Z\" style=\"opacity: 1; stroke-width: 0px; fill: rgb(31, 119, 180); fill-opacity: 1;\"/><path class=\"point\" transform=\"translate(13.93,246.74)\" d=\"M3,0A3,3 0 1,1 0,-3A3,3 0 0,1 3,0Z\" style=\"opacity: 1; stroke-width: 0px; fill: rgb(31, 119, 180); fill-opacity: 1;\"/><path class=\"point\" transform=\"translate(26.15,246.74)\" d=\"M3,0A3,3 0 1,1 0,-3A3,3 0 0,1 3,0Z\" style=\"opacity: 1; stroke-width: 0px; fill: rgb(31, 119, 180); fill-opacity: 1;\"/><path class=\"point\" transform=\"translate(20.81,231.4)\" d=\"M3,0A3,3 0 1,1 0,-3A3,3 0 0,1 3,0Z\" style=\"opacity: 1; stroke-width: 0px; fill: rgb(31, 119, 180); fill-opacity: 1;\"/><path class=\"point\" transform=\"translate(164.31,116.9)\" d=\"M3,0A3,3 0 1,1 0,-3A3,3 0 0,1 3,0Z\" style=\"opacity: 1; stroke-width: 0px; fill: rgb(31, 119, 180); fill-opacity: 1;\"/><path class=\"point\" transform=\"translate(148.47,122.9)\" d=\"M3,0A3,3 0 1,1 0,-3A3,3 0 0,1 3,0Z\" style=\"opacity: 1; stroke-width: 0px; fill: rgb(31, 119, 180); fill-opacity: 1;\"/><path class=\"point\" transform=\"translate(66.5,200.7)\" d=\"M3,0A3,3 0 1,1 0,-3A3,3 0 0,1 3,0Z\" style=\"opacity: 1; stroke-width: 0px; fill: rgb(31, 119, 180); fill-opacity: 1;\"/><path class=\"point\" transform=\"translate(107.85,170.01)\" d=\"M3,0A3,3 0 1,1 0,-3A3,3 0 0,1 3,0Z\" style=\"opacity: 1; stroke-width: 0px; fill: rgb(31, 119, 180); fill-opacity: 1;\"/><path class=\"point\" transform=\"translate(121.78,153.98)\" d=\"M3,0A3,3 0 1,1 0,-3A3,3 0 0,1 3,0Z\" style=\"opacity: 1; stroke-width: 0px; fill: rgb(31, 119, 180); fill-opacity: 1;\"/><path class=\"point\" transform=\"translate(103.17,175.77)\" d=\"M3,0A3,3 0 1,1 0,-3A3,3 0 0,1 3,0Z\" style=\"opacity: 1; stroke-width: 0px; fill: rgb(31, 119, 180); fill-opacity: 1;\"/><path class=\"point\" transform=\"translate(91.27,177.64)\" d=\"M3,0A3,3 0 1,1 0,-3A3,3 0 0,1 3,0Z\" style=\"opacity: 1; stroke-width: 0px; fill: rgb(31, 119, 180); fill-opacity: 1;\"/><path class=\"point\" transform=\"translate(30.51,227.98)\" d=\"M3,0A3,3 0 1,1 0,-3A3,3 0 0,1 3,0Z\" style=\"opacity: 1; stroke-width: 0px; fill: rgb(31, 119, 180); fill-opacity: 1;\"/><path class=\"point\" transform=\"translate(146.33,113.89)\" d=\"M3,0A3,3 0 1,1 0,-3A3,3 0 0,1 3,0Z\" style=\"opacity: 1; stroke-width: 0px; fill: rgb(31, 119, 180); fill-opacity: 1;\"/><path class=\"point\" transform=\"translate(85.61,175.77)\" d=\"M3,0A3,3 0 1,1 0,-3A3,3 0 0,1 3,0Z\" style=\"opacity: 1; stroke-width: 0px; fill: rgb(31, 119, 180); fill-opacity: 1;\"/><path class=\"point\" transform=\"translate(86.01,171.68)\" d=\"M3,0A3,3 0 1,1 0,-3A3,3 0 0,1 3,0Z\" style=\"opacity: 1; stroke-width: 0px; fill: rgb(31, 119, 180); fill-opacity: 1;\"/><path class=\"point\" transform=\"translate(80.27,181.55)\" d=\"M3,0A3,3 0 1,1 0,-3A3,3 0 0,1 3,0Z\" style=\"opacity: 1; stroke-width: 0px; fill: rgb(31, 119, 180); fill-opacity: 1;\"/><path class=\"point\" transform=\"translate(90.63,170.01)\" d=\"M3,0A3,3 0 1,1 0,-3A3,3 0 0,1 3,0Z\" style=\"opacity: 1; stroke-width: 0px; fill: rgb(31, 119, 180); fill-opacity: 1;\"/><path class=\"point\" transform=\"translate(56.8,207.07)\" d=\"M3,0A3,3 0 1,1 0,-3A3,3 0 0,1 3,0Z\" style=\"opacity: 1; stroke-width: 0px; fill: rgb(31, 119, 180); fill-opacity: 1;\"/><path class=\"point\" transform=\"translate(131.18,134.47)\" d=\"M3,0A3,3 0 1,1 0,-3A3,3 0 0,1 3,0Z\" style=\"opacity: 1; stroke-width: 0px; fill: rgb(31, 119, 180); fill-opacity: 1;\"/><path class=\"point\" transform=\"translate(136.44,119.87)\" d=\"M3,0A3,3 0 1,1 0,-3A3,3 0 0,1 3,0Z\" style=\"opacity: 1; stroke-width: 0px; fill: rgb(31, 119, 180); fill-opacity: 1;\"/></g><g class=\"text\"/></g><g class=\"trace scatter trace62eb48\" style=\"stroke-miterlimit: 2; opacity: 1;\"><g class=\"fills\"/><g class=\"errorbars\"/><g class=\"lines\"/><g class=\"points\"><path class=\"point\" transform=\"translate(134.6,145.68)\" d=\"M3,0A3,3 0 1,1 0,-3A3,3 0 0,1 3,0Z\" style=\"opacity: 1; stroke-width: 0px; fill: rgb(255, 127, 14); fill-opacity: 1;\"/><path class=\"point\" transform=\"translate(195.4,75.23)\" d=\"M3,0A3,3 0 1,1 0,-3A3,3 0 0,1 3,0Z\" style=\"opacity: 1; stroke-width: 0px; fill: rgb(255, 127, 14); fill-opacity: 1;\"/><path class=\"point\" transform=\"translate(187.71,82.17)\" d=\"M3,0A3,3 0 1,1 0,-3A3,3 0 0,1 3,0Z\" style=\"opacity: 1; stroke-width: 0px; fill: rgb(255, 127, 14); fill-opacity: 1;\"/><path class=\"point\" transform=\"translate(147.86,115.13)\" d=\"M3,0A3,3 0 1,1 0,-3A3,3 0 0,1 3,0Z\" style=\"opacity: 1; stroke-width: 0px; fill: rgb(255, 127, 14); fill-opacity: 1;\"/><path class=\"point\" transform=\"translate(227.68,46.69)\" d=\"M3,0A3,3 0 1,1 0,-3A3,3 0 0,1 3,0Z\" style=\"opacity: 1; stroke-width: 0px; fill: rgb(255, 127, 14); fill-opacity: 1;\"/><path class=\"point\" transform=\"translate(184.6,82.45)\" d=\"M3,0A3,3 0 1,1 0,-3A3,3 0 0,1 3,0Z\" style=\"opacity: 1; stroke-width: 0px; fill: rgb(255, 127, 14); fill-opacity: 1;\"/><path class=\"point\" transform=\"translate(178.15,86.54)\" d=\"M3,0A3,3 0 1,1 0,-3A3,3 0 0,1 3,0Z\" style=\"opacity: 1; stroke-width: 0px; fill: rgb(255, 127, 14); fill-opacity: 1;\"/><path class=\"point\" transform=\"translate(143.96,136.99)\" d=\"M3,0A3,3 0 1,1 0,-3A3,3 0 0,1 3,0Z\" style=\"opacity: 1; stroke-width: 0px; fill: rgb(255, 127, 14); fill-opacity: 1;\"/><path class=\"point\" transform=\"translate(82.81,181.44)\" d=\"M3,0A3,3 0 1,1 0,-3A3,3 0 0,1 3,0Z\" style=\"opacity: 1; stroke-width: 0px; fill: rgb(255, 127, 14); fill-opacity: 1;\"/><path class=\"point\" transform=\"translate(96.32,177.79)\" d=\"M3,0A3,3 0 1,1 0,-3A3,3 0 0,1 3,0Z\" style=\"opacity: 1; stroke-width: 0px; fill: rgb(255, 127, 14); fill-opacity: 1;\"/><path class=\"point\" transform=\"translate(230.7,53.54)\" d=\"M3,0A3,3 0 1,1 0,-3A3,3 0 0,1 3,0Z\" style=\"opacity: 1; stroke-width: 0px; fill: rgb(255, 127, 14); fill-opacity: 1;\"/><path class=\"point\" transform=\"translate(138.84,135.49)\" d=\"M3,0A3,3 0 1,1 0,-3A3,3 0 0,1 3,0Z\" style=\"opacity: 1; stroke-width: 0px; fill: rgb(255, 127, 14); fill-opacity: 1;\"/><path class=\"point\" transform=\"translate(202.51,75.39)\" d=\"M3,0A3,3 0 1,1 0,-3A3,3 0 0,1 3,0Z\" style=\"opacity: 1; stroke-width: 0px; fill: rgb(255, 127, 14); fill-opacity: 1;\"/><path class=\"point\" transform=\"translate(203.1,76.39)\" d=\"M3,0A3,3 0 1,1 0,-3A3,3 0 0,1 3,0Z\" style=\"opacity: 1; stroke-width: 0px; fill: rgb(255, 127, 14); fill-opacity: 1;\"/><path class=\"point\" transform=\"translate(166.25,110.96)\" d=\"M3,0A3,3 0 1,1 0,-3A3,3 0 0,1 3,0Z\" style=\"opacity: 1; stroke-width: 0px; fill: rgb(255, 127, 14); fill-opacity: 1;\"/><path class=\"point\" transform=\"translate(225.21,53.8)\" d=\"M3,0A3,3 0 1,1 0,-3A3,3 0 0,1 3,0Z\" style=\"opacity: 1; stroke-width: 0px; fill: rgb(255, 127, 14); fill-opacity: 1;\"/><path class=\"point\" transform=\"translate(159.67,111.01)\" d=\"M3,0A3,3 0 1,1 0,-3A3,3 0 0,1 3,0Z\" style=\"opacity: 1; stroke-width: 0px; fill: rgb(255, 127, 14); fill-opacity: 1;\"/><path class=\"point\" transform=\"translate(155.82,116.51)\" d=\"M3,0A3,3 0 1,1 0,-3A3,3 0 0,1 3,0Z\" style=\"opacity: 1; stroke-width: 0px; fill: rgb(255, 127, 14); fill-opacity: 1;\"/><path class=\"point\" transform=\"translate(114.49,155.94)\" d=\"M3,0A3,3 0 1,1 0,-3A3,3 0 0,1 3,0Z\" style=\"opacity: 1; stroke-width: 0px; fill: rgb(255, 127, 14); fill-opacity: 1;\"/><path class=\"point\" transform=\"translate(234.09,43.93)\" d=\"M3,0A3,3 0 1,1 0,-3A3,3 0 0,1 3,0Z\" style=\"opacity: 1; stroke-width: 0px; fill: rgb(255, 127, 14); fill-opacity: 1;\"/><path class=\"point\" transform=\"translate(84.02,183.52)\" d=\"M3,0A3,3 0 1,1 0,-3A3,3 0 0,1 3,0Z\" style=\"opacity: 1; stroke-width: 0px; fill: rgb(255, 127, 14); fill-opacity: 1;\"/><path class=\"point\" transform=\"translate(201.5,80.07)\" d=\"M3,0A3,3 0 1,1 0,-3A3,3 0 0,1 3,0Z\" style=\"opacity: 1; stroke-width: 0px; fill: rgb(255, 127, 14); fill-opacity: 1;\"/><path class=\"point\" transform=\"translate(208.81,62.74)\" d=\"M3,0A3,3 0 1,1 0,-3A3,3 0 0,1 3,0Z\" style=\"opacity: 1; stroke-width: 0px; fill: rgb(255, 127, 14); fill-opacity: 1;\"/><path class=\"point\" transform=\"translate(181.5,81.52)\" d=\"M3,0A3,3 0 1,1 0,-3A3,3 0 0,1 3,0Z\" style=\"opacity: 1; stroke-width: 0px; fill: rgb(255, 127, 14); fill-opacity: 1;\"/><path class=\"point\" transform=\"translate(181.19,79.86)\" d=\"M3,0A3,3 0 1,1 0,-3A3,3 0 0,1 3,0Z\" style=\"opacity: 1; stroke-width: 0px; fill: rgb(255, 127, 14); fill-opacity: 1;\"/><path class=\"point\" transform=\"translate(86.62,185.02)\" d=\"M3,0A3,3 0 1,1 0,-3A3,3 0 0,1 3,0Z\" style=\"opacity: 1; stroke-width: 0px; fill: rgb(255, 127, 14); fill-opacity: 1;\"/><path class=\"point\" transform=\"translate(11.94,259.19)\" d=\"M3,0A3,3 0 1,1 0,-3A3,3 0 0,1 3,0Z\" style=\"opacity: 1; stroke-width: 0px; fill: rgb(255, 127, 14); fill-opacity: 1;\"/><path class=\"point\" transform=\"translate(18.82,274.54)\" d=\"M3,0A3,3 0 1,1 0,-3A3,3 0 0,1 3,0Z\" style=\"opacity: 1; stroke-width: 0px; fill: rgb(255, 127, 14); fill-opacity: 1;\"/><path class=\"point\" transform=\"translate(18.82,243.84)\" d=\"M3,0A3,3 0 1,1 0,-3A3,3 0 0,1 3,0Z\" style=\"opacity: 1; stroke-width: 0px; fill: rgb(255, 127, 14); fill-opacity: 1;\"/><path class=\"point\" transform=\"translate(11.94,238.9)\" d=\"M3,0A3,3 0 1,1 0,-3A3,3 0 0,1 3,0Z\" style=\"opacity: 1; stroke-width: 0px; fill: rgb(255, 127, 14); fill-opacity: 1;\"/><path class=\"point\" transform=\"translate(155.62,126.07)\" d=\"M3,0A3,3 0 1,1 0,-3A3,3 0 0,1 3,0Z\" style=\"opacity: 1; stroke-width: 0px; fill: rgb(255, 127, 14); fill-opacity: 1;\"/><path class=\"point\" transform=\"translate(143.9,131.41)\" d=\"M3,0A3,3 0 1,1 0,-3A3,3 0 0,1 3,0Z\" style=\"opacity: 1; stroke-width: 0px; fill: rgb(255, 127, 14); fill-opacity: 1;\"/><path class=\"point\" transform=\"translate(75.65,187.05)\" d=\"M3,0A3,3 0 1,1 0,-3A3,3 0 0,1 3,0Z\" style=\"opacity: 1; stroke-width: 0px; fill: rgb(255, 127, 14); fill-opacity: 1;\"/><path class=\"point\" transform=\"translate(108.26,170.26)\" d=\"M3,0A3,3 0 1,1 0,-3A3,3 0 0,1 3,0Z\" style=\"opacity: 1; stroke-width: 0px; fill: rgb(255, 127, 14); fill-opacity: 1;\"/><path class=\"point\" transform=\"translate(-14.35,274.54)\" d=\"M3,0A3,3 0 1,1 0,-3A3,3 0 0,1 3,0Z\" style=\"opacity: 1; stroke-width: 0px; fill: rgb(255, 127, 14); fill-opacity: 1;\"/><path class=\"point\" transform=\"translate(122.61,150.1)\" d=\"M3,0A3,3 0 1,1 0,-3A3,3 0 0,1 3,0Z\" style=\"opacity: 1; stroke-width: 0px; fill: rgb(255, 127, 14); fill-opacity: 1;\"/><path class=\"point\" transform=\"translate(100.6,172.14)\" d=\"M3,0A3,3 0 1,1 0,-3A3,3 0 0,1 3,0Z\" style=\"opacity: 1; stroke-width: 0px; fill: rgb(255, 127, 14); fill-opacity: 1;\"/><path class=\"point\" transform=\"translate(97.69,178.08)\" d=\"M3,0A3,3 0 1,1 0,-3A3,3 0 0,1 3,0Z\" style=\"opacity: 1; stroke-width: 0px; fill: rgb(255, 127, 14); fill-opacity: 1;\"/><path class=\"point\" transform=\"translate(47.03,221.45)\" d=\"M3,0A3,3 0 1,1 0,-3A3,3 0 0,1 3,0Z\" style=\"opacity: 1; stroke-width: 0px; fill: rgb(255, 127, 14); fill-opacity: 1;\"/><path class=\"point\" transform=\"translate(145.3,113.01)\" d=\"M3,0A3,3 0 1,1 0,-3A3,3 0 0,1 3,0Z\" style=\"opacity: 1; stroke-width: 0px; fill: rgb(255, 127, 14); fill-opacity: 1;\"/><path class=\"point\" transform=\"translate(84.41,173.25)\" d=\"M3,0A3,3 0 1,1 0,-3A3,3 0 0,1 3,0Z\" style=\"opacity: 1; stroke-width: 0px; fill: rgb(255, 127, 14); fill-opacity: 1;\"/><path class=\"point\" transform=\"translate(93.33,170.26)\" d=\"M3,0A3,3 0 1,1 0,-3A3,3 0 0,1 3,0Z\" style=\"opacity: 1; stroke-width: 0px; fill: rgb(255, 127, 14); fill-opacity: 1;\"/><path class=\"point\" transform=\"translate(77.26,183.16)\" d=\"M3,0A3,3 0 1,1 0,-3A3,3 0 0,1 3,0Z\" style=\"opacity: 1; stroke-width: 0px; fill: rgb(255, 127, 14); fill-opacity: 1;\"/><path class=\"point\" transform=\"translate(89.9,175.41)\" d=\"M3,0A3,3 0 1,1 0,-3A3,3 0 0,1 3,0Z\" style=\"opacity: 1; stroke-width: 0px; fill: rgb(255, 127, 14); fill-opacity: 1;\"/><path class=\"point\" transform=\"translate(59.61,205.11)\" d=\"M3,0A3,3 0 1,1 0,-3A3,3 0 0,1 3,0Z\" style=\"opacity: 1; stroke-width: 0px; fill: rgb(255, 127, 14); fill-opacity: 1;\"/><path class=\"point\" transform=\"translate(129.49,141.17)\" d=\"M3,0A3,3 0 1,1 0,-3A3,3 0 0,1 3,0Z\" style=\"opacity: 1; stroke-width: 0px; fill: rgb(255, 127, 14); fill-opacity: 1;\"/><path class=\"point\" transform=\"translate(133.23,124.28)\" d=\"M3,0A3,3 0 1,1 0,-3A3,3 0 0,1 3,0Z\" style=\"opacity: 1; stroke-width: 0px; fill: rgb(255, 127, 14); fill-opacity: 1;\"/></g><g class=\"text\"/></g><g class=\"trace scatter trace7ac682\" style=\"stroke-miterlimit: 2; opacity: 1;\"><g class=\"fills\"/><g class=\"errorbars\"/><g class=\"lines\"/><g class=\"points\"><path class=\"point\" transform=\"translate(275.02,5.52)\" d=\"M3,0A3,3 0 1,1 0,-3A3,3 0 0,1 3,0Z\" style=\"opacity: 1; stroke-width: 0px; fill: rgb(44, 160, 44); fill-opacity: 1;\"/><path class=\"point\" transform=\"translate(51.86,243.26)\" d=\"M3,0A3,3 0 1,1 0,-3A3,3 0 0,1 3,0Z\" style=\"opacity: 1; stroke-width: 0px; fill: rgb(44, 160, 44); fill-opacity: 1;\"/><path class=\"point\" transform=\"translate(58.74,212.56)\" d=\"M3,0A3,3 0 1,1 0,-3A3,3 0 0,1 3,0Z\" style=\"opacity: 1; stroke-width: 0px; fill: rgb(44, 160, 44); fill-opacity: 1;\"/><path class=\"point\" transform=\"translate(42.16,243.26)\" d=\"M3,0A3,3 0 1,1 0,-3A3,3 0 0,1 3,0Z\" style=\"opacity: 1; stroke-width: 0px; fill: rgb(44, 160, 44); fill-opacity: 1;\"/><path class=\"point\" transform=\"translate(133.25,148.42)\" d=\"M3,0A3,3 0 1,1 0,-3A3,3 0 0,1 3,0Z\" style=\"opacity: 1; stroke-width: 0px; fill: rgb(44, 160, 44); fill-opacity: 1;\"/><path class=\"point\" transform=\"translate(42.16,234.28)\" d=\"M3,0A3,3 0 1,1 0,-3A3,3 0 0,1 3,0Z\" style=\"opacity: 1; stroke-width: 0px; fill: rgb(44, 160, 44); fill-opacity: 1;\"/><path class=\"point\" transform=\"translate(68.45,215.52)\" d=\"M3,0A3,3 0 1,1 0,-3A3,3 0 0,1 3,0Z\" style=\"opacity: 1; stroke-width: 0px; fill: rgb(44, 160, 44); fill-opacity: 1;\"/><path class=\"point\" transform=\"translate(75.33,209.96)\" d=\"M3,0A3,3 0 1,1 0,-3A3,3 0 0,1 3,0Z\" style=\"opacity: 1; stroke-width: 0px; fill: rgb(44, 160, 44); fill-opacity: 1;\"/><path class=\"point\" transform=\"translate(75.33,243.26)\" d=\"M3,0A3,3 0 1,1 0,-3A3,3 0 0,1 3,0Z\" style=\"opacity: 1; stroke-width: 0px; fill: rgb(44, 160, 44); fill-opacity: 1;\"/><path class=\"point\" transform=\"translate(58.74,243.26)\" d=\"M3,0A3,3 0 1,1 0,-3A3,3 0 0,1 3,0Z\" style=\"opacity: 1; stroke-width: 0px; fill: rgb(44, 160, 44); fill-opacity: 1;\"/><path class=\"point\" transform=\"translate(58.74,207.62)\" d=\"M3,0A3,3 0 1,1 0,-3A3,3 0 0,1 3,0Z\" style=\"opacity: 1; stroke-width: 0px; fill: rgb(44, 160, 44); fill-opacity: 1;\"/><path class=\"point\" transform=\"translate(51.86,243.26)\" d=\"M3,0A3,3 0 1,1 0,-3A3,3 0 0,1 3,0Z\" style=\"opacity: 1; stroke-width: 0px; fill: rgb(44, 160, 44); fill-opacity: 1;\"/><path class=\"point\" transform=\"translate(93.37,212.56)\" d=\"M3,0A3,3 0 1,1 0,-3A3,3 0 0,1 3,0Z\" style=\"opacity: 1; stroke-width: 0px; fill: rgb(44, 160, 44); fill-opacity: 1;\"/><path class=\"point\" transform=\"translate(90.37,201.81)\" d=\"M3,0A3,3 0 1,1 0,-3A3,3 0 0,1 3,0Z\" style=\"opacity: 1; stroke-width: 0px; fill: rgb(44, 160, 44); fill-opacity: 1;\"/><path class=\"point\" transform=\"translate(94.74,184.83)\" d=\"M3,0A3,3 0 1,1 0,-3A3,3 0 0,1 3,0Z\" style=\"opacity: 1; stroke-width: 0px; fill: rgb(44, 160, 44); fill-opacity: 1;\"/><path class=\"point\" transform=\"translate(86.95,194.61)\" d=\"M3,0A3,3 0 1,1 0,-3A3,3 0 0,1 3,0Z\" style=\"opacity: 1; stroke-width: 0px; fill: rgb(44, 160, 44); fill-opacity: 1;\"/><path class=\"point\" transform=\"translate(78.15,190.17)\" d=\"M3,0A3,3 0 1,1 0,-3A3,3 0 0,1 3,0Z\" style=\"opacity: 1; stroke-width: 0px; fill: rgb(44, 160, 44); fill-opacity: 1;\"/><path class=\"point\" transform=\"translate(138.48,124.35)\" d=\"M3,0A3,3 0 1,1 0,-3A3,3 0 0,1 3,0Z\" style=\"opacity: 1; stroke-width: 0px; fill: rgb(44, 160, 44); fill-opacity: 1;\"/><path class=\"point\" transform=\"translate(25.57,243.26)\" d=\"M3,0A3,3 0 1,1 0,-3A3,3 0 0,1 3,0Z\" style=\"opacity: 1; stroke-width: 0px; fill: rgb(44, 160, 44); fill-opacity: 1;\"/><path class=\"point\" transform=\"translate(25.57,243.26)\" d=\"M3,0A3,3 0 1,1 0,-3A3,3 0 0,1 3,0Z\" style=\"opacity: 1; stroke-width: 0px; fill: rgb(44, 160, 44); fill-opacity: 1;\"/><path class=\"point\" transform=\"translate(132.98,141.52)\" d=\"M3,0A3,3 0 1,1 0,-3A3,3 0 0,1 3,0Z\" style=\"opacity: 1; stroke-width: 0px; fill: rgb(44, 160, 44); fill-opacity: 1;\"/><path class=\"point\" transform=\"translate(107.74,162.43)\" d=\"M3,0A3,3 0 1,1 0,-3A3,3 0 0,1 3,0Z\" style=\"opacity: 1; stroke-width: 0px; fill: rgb(44, 160, 44); fill-opacity: 1;\"/><path class=\"point\" transform=\"translate(150.62,112.87)\" d=\"M3,0A3,3 0 1,1 0,-3A3,3 0 0,1 3,0Z\" style=\"opacity: 1; stroke-width: 0px; fill: rgb(44, 160, 44); fill-opacity: 1;\"/><path class=\"point\" transform=\"translate(58.74,200.17)\" d=\"M3,0A3,3 0 1,1 0,-3A3,3 0 0,1 3,0Z\" style=\"opacity: 1; stroke-width: 0px; fill: rgb(44, 160, 44); fill-opacity: 1;\"/><path class=\"point\" transform=\"translate(42.16,234.28)\" d=\"M3,0A3,3 0 1,1 0,-3A3,3 0 0,1 3,0Z\" style=\"opacity: 1; stroke-width: 0px; fill: rgb(44, 160, 44); fill-opacity: 1;\"/><path class=\"point\" transform=\"translate(110.65,169.88)\" d=\"M3,0A3,3 0 1,1 0,-3A3,3 0 0,1 3,0Z\" style=\"opacity: 1; stroke-width: 0px; fill: rgb(44, 160, 44); fill-opacity: 1;\"/></g><g class=\"text\"/></g><g class=\"trace scatter trace86201c\" style=\"stroke-miterlimit: 2; opacity: 1;\"><g class=\"fills\"/><g class=\"errorbars\"/><g class=\"lines\"/><g class=\"points\"><path class=\"point\" transform=\"translate(275.3,5.45)\" d=\"M3,0A3,3 0 1,1 0,-3A3,3 0 0,1 3,0Z\" style=\"opacity: 1; stroke-width: 0px; fill: rgb(214, 39, 40); fill-opacity: 1;\"/><path class=\"point\" transform=\"translate(70.94,250.04)\" d=\"M3,0A3,3 0 1,1 0,-3A3,3 0 0,1 3,0Z\" style=\"opacity: 1; stroke-width: 0px; fill: rgb(214, 39, 40); fill-opacity: 1;\"/><path class=\"point\" transform=\"translate(18.36,250.04)\" d=\"M3,0A3,3 0 1,1 0,-3A3,3 0 0,1 3,0Z\" style=\"opacity: 1; stroke-width: 0px; fill: rgb(214, 39, 40); fill-opacity: 1;\"/><path class=\"point\" transform=\"translate(115.11,126.01)\" d=\"M3,0A3,3 0 1,1 0,-3A3,3 0 0,1 3,0Z\" style=\"opacity: 1; stroke-width: 0px; fill: rgb(214, 39, 40); fill-opacity: 1;\"/><path class=\"point\" transform=\"translate(34.95,193.25)\" d=\"M3,0A3,3 0 1,1 0,-3A3,3 0 0,1 3,0Z\" style=\"opacity: 1; stroke-width: 0px; fill: rgb(214, 39, 40); fill-opacity: 1;\"/><path class=\"point\" transform=\"translate(51.53,180.62)\" d=\"M3,0A3,3 0 1,1 0,-3A3,3 0 0,1 3,0Z\" style=\"opacity: 1; stroke-width: 0px; fill: rgb(214, 39, 40); fill-opacity: 1;\"/><path class=\"point\" transform=\"translate(70.94,210.37)\" d=\"M3,0A3,3 0 1,1 0,-3A3,3 0 0,1 3,0Z\" style=\"opacity: 1; stroke-width: 0px; fill: rgb(214, 39, 40); fill-opacity: 1;\"/><path class=\"point\" transform=\"translate(64.92,219.35)\" d=\"M3,0A3,3 0 1,1 0,-3A3,3 0 0,1 3,0Z\" style=\"opacity: 1; stroke-width: 0px; fill: rgb(214, 39, 40); fill-opacity: 1;\"/><path class=\"point\" transform=\"translate(44.65,219.35)\" d=\"M3,0A3,3 0 1,1 0,-3A3,3 0 0,1 3,0Z\" style=\"opacity: 1; stroke-width: 0px; fill: rgb(214, 39, 40); fill-opacity: 1;\"/><path class=\"point\" transform=\"translate(18.36,210.37)\" d=\"M3,0A3,3 0 1,1 0,-3A3,3 0 0,1 3,0Z\" style=\"opacity: 1; stroke-width: 0px; fill: rgb(214, 39, 40); fill-opacity: 1;\"/><path class=\"point\" transform=\"translate(18.36,234.7)\" d=\"M3,0A3,3 0 1,1 0,-3A3,3 0 0,1 3,0Z\" style=\"opacity: 1; stroke-width: 0px; fill: rgb(214, 39, 40); fill-opacity: 1;\"/><path class=\"point\" transform=\"translate(81.51,191.61)\" d=\"M3,0A3,3 0 1,1 0,-3A3,3 0 0,1 3,0Z\" style=\"opacity: 1; stroke-width: 0px; fill: rgb(214, 39, 40); fill-opacity: 1;\"/><path class=\"point\" transform=\"translate(73.46,190.08)\" d=\"M3,0A3,3 0 1,1 0,-3A3,3 0 0,1 3,0Z\" style=\"opacity: 1; stroke-width: 0px; fill: rgb(214, 39, 40); fill-opacity: 1;\"/><path class=\"point\" transform=\"translate(88.82,164.8)\" d=\"M3,0A3,3 0 1,1 0,-3A3,3 0 0,1 3,0Z\" style=\"opacity: 1; stroke-width: 0px; fill: rgb(214, 39, 40); fill-opacity: 1;\"/><path class=\"point\" transform=\"translate(75.74,193.25)\" d=\"M3,0A3,3 0 1,1 0,-3A3,3 0 0,1 3,0Z\" style=\"opacity: 1; stroke-width: 0px; fill: rgb(214, 39, 40); fill-opacity: 1;\"/><path class=\"point\" transform=\"translate(73.46,182.64)\" d=\"M3,0A3,3 0 1,1 0,-3A3,3 0 0,1 3,0Z\" style=\"opacity: 1; stroke-width: 0px; fill: rgb(214, 39, 40); fill-opacity: 1;\"/><path class=\"point\" transform=\"translate(107.22,141.6)\" d=\"M3,0A3,3 0 1,1 0,-3A3,3 0 0,1 3,0Z\" style=\"opacity: 1; stroke-width: 0px; fill: rgb(214, 39, 40); fill-opacity: 1;\"/><path class=\"point\" transform=\"translate(18.36,225.72)\" d=\"M3,0A3,3 0 1,1 0,-3A3,3 0 0,1 3,0Z\" style=\"opacity: 1; stroke-width: 0px; fill: rgb(214, 39, 40); fill-opacity: 1;\"/><path class=\"point\" transform=\"translate(118.61,136.6)\" d=\"M3,0A3,3 0 1,1 0,-3A3,3 0 0,1 3,0Z\" style=\"opacity: 1; stroke-width: 0px; fill: rgb(214, 39, 40); fill-opacity: 1;\"/><path class=\"point\" transform=\"translate(97.23,148.53)\" d=\"M3,0A3,3 0 1,1 0,-3A3,3 0 0,1 3,0Z\" style=\"opacity: 1; stroke-width: 0px; fill: rgb(214, 39, 40); fill-opacity: 1;\"/><path class=\"point\" transform=\"translate(113.81,158.67)\" d=\"M3,0A3,3 0 1,1 0,-3A3,3 0 0,1 3,0Z\" style=\"opacity: 1; stroke-width: 0px; fill: rgb(214, 39, 40); fill-opacity: 1;\"/><path class=\"point\" transform=\"translate(34.95,201.39)\" d=\"M3,0A3,3 0 1,1 0,-3A3,3 0 0,1 3,0Z\" style=\"opacity: 1; stroke-width: 0px; fill: rgb(214, 39, 40); fill-opacity: 1;\"/><path class=\"point\" transform=\"translate(18.36,190.08)\" d=\"M3,0A3,3 0 1,1 0,-3A3,3 0 0,1 3,0Z\" style=\"opacity: 1; stroke-width: 0px; fill: rgb(214, 39, 40); fill-opacity: 1;\"/><path class=\"point\" transform=\"translate(44.65,219.35)\" d=\"M3,0A3,3 0 1,1 0,-3A3,3 0 0,1 3,0Z\" style=\"opacity: 1; stroke-width: 0px; fill: rgb(214, 39, 40); fill-opacity: 1;\"/><path class=\"point\" transform=\"translate(64.92,160.53)\" d=\"M3,0A3,3 0 1,1 0,-3A3,3 0 0,1 3,0Z\" style=\"opacity: 1; stroke-width: 0px; fill: rgb(214, 39, 40); fill-opacity: 1;\"/></g><g class=\"text\"/></g><g class=\"trace scatter trace86ed4e\" style=\"stroke-miterlimit: 2; opacity: 1;\"><g class=\"fills\"/><g class=\"errorbars\"/><g class=\"lines\"/><g class=\"points\"><path class=\"point\" transform=\"translate(275.34,5.28)\" d=\"M3,0A3,3 0 1,1 0,-3A3,3 0 0,1 3,0Z\" style=\"opacity: 1; stroke-width: 0px; fill: rgb(148, 103, 189); fill-opacity: 1;\"/><path class=\"point\" transform=\"translate(50.94,257.17)\" d=\"M3,0A3,3 0 1,1 0,-3A3,3 0 0,1 3,0Z\" style=\"opacity: 1; stroke-width: 0px; fill: rgb(148, 103, 189); fill-opacity: 1;\"/><path class=\"point\" transform=\"translate(65.44,257.17)\" d=\"M3,0A3,3 0 1,1 0,-3A3,3 0 0,1 3,0Z\" style=\"opacity: 1; stroke-width: 0px; fill: rgb(148, 103, 189); fill-opacity: 1;\"/><path class=\"point\" transform=\"translate(24.65,257.17)\" d=\"M3,0A3,3 0 1,1 0,-3A3,3 0 0,1 3,0Z\" style=\"opacity: 1; stroke-width: 0px; fill: rgb(148, 103, 189); fill-opacity: 1;\"/><path class=\"point\" transform=\"translate(112.92,141.23)\" d=\"M3,0A3,3 0 1,1 0,-3A3,3 0 0,1 3,0Z\" style=\"opacity: 1; stroke-width: 0px; fill: rgb(148, 103, 189); fill-opacity: 1;\"/><path class=\"point\" transform=\"translate(50.94,181.14)\" d=\"M3,0A3,3 0 1,1 0,-3A3,3 0 0,1 3,0Z\" style=\"opacity: 1; stroke-width: 0px; fill: rgb(148, 103, 189); fill-opacity: 1;\"/><path class=\"point\" transform=\"translate(41.23,189.76)\" d=\"M3,0A3,3 0 1,1 0,-3A3,3 0 0,1 3,0Z\" style=\"opacity: 1; stroke-width: 0px; fill: rgb(148, 103, 189); fill-opacity: 1;\"/><path class=\"point\" transform=\"translate(67.52,241.82)\" d=\"M3,0A3,3 0 1,1 0,-3A3,3 0 0,1 3,0Z\" style=\"opacity: 1; stroke-width: 0px; fill: rgb(148, 103, 189); fill-opacity: 1;\"/><path class=\"point\" transform=\"translate(50.94,257.17)\" d=\"M3,0A3,3 0 1,1 0,-3A3,3 0 0,1 3,0Z\" style=\"opacity: 1; stroke-width: 0px; fill: rgb(148, 103, 189); fill-opacity: 1;\"/><path class=\"point\" transform=\"translate(54.62,214.09)\" d=\"M3,0A3,3 0 1,1 0,-3A3,3 0 0,1 3,0Z\" style=\"opacity: 1; stroke-width: 0px; fill: rgb(148, 103, 189); fill-opacity: 1;\"/><path class=\"point\" transform=\"translate(41.23,187.75)\" d=\"M3,0A3,3 0 1,1 0,-3A3,3 0 0,1 3,0Z\" style=\"opacity: 1; stroke-width: 0px; fill: rgb(148, 103, 189); fill-opacity: 1;\"/><path class=\"point\" transform=\"translate(50.94,241.82)\" d=\"M3,0A3,3 0 1,1 0,-3A3,3 0 0,1 3,0Z\" style=\"opacity: 1; stroke-width: 0px; fill: rgb(148, 103, 189); fill-opacity: 1;\"/><path class=\"point\" transform=\"translate(24.65,257.17)\" d=\"M3,0A3,3 0 1,1 0,-3A3,3 0 0,1 3,0Z\" style=\"opacity: 1; stroke-width: 0px; fill: rgb(148, 103, 189); fill-opacity: 1;\"/><path class=\"point\" transform=\"translate(84.11,202.15)\" d=\"M3,0A3,3 0 1,1 0,-3A3,3 0 0,1 3,0Z\" style=\"opacity: 1; stroke-width: 0px; fill: rgb(148, 103, 189); fill-opacity: 1;\"/><path class=\"point\" transform=\"translate(69.44,214.09)\" d=\"M3,0A3,3 0 1,1 0,-3A3,3 0 0,1 3,0Z\" style=\"opacity: 1; stroke-width: 0px; fill: rgb(148, 103, 189); fill-opacity: 1;\"/><path class=\"point\" transform=\"translate(78.52,188.73)\" d=\"M3,0A3,3 0 1,1 0,-3A3,3 0 0,1 3,0Z\" style=\"opacity: 1; stroke-width: 0px; fill: rgb(148, 103, 189); fill-opacity: 1;\"/><path class=\"point\" transform=\"translate(69.44,186.81)\" d=\"M3,0A3,3 0 1,1 0,-3A3,3 0 0,1 3,0Z\" style=\"opacity: 1; stroke-width: 0px; fill: rgb(148, 103, 189); fill-opacity: 1;\"/><path class=\"point\" transform=\"translate(71.21,174.95)\" d=\"M3,0A3,3 0 1,1 0,-3A3,3 0 0,1 3,0Z\" style=\"opacity: 1; stroke-width: 0px; fill: rgb(148, 103, 189); fill-opacity: 1;\"/><path class=\"point\" transform=\"translate(97.5,174.95)\" d=\"M3,0A3,3 0 1,1 0,-3A3,3 0 0,1 3,0Z\" style=\"opacity: 1; stroke-width: 0px; fill: rgb(148, 103, 189); fill-opacity: 1;\"/><path class=\"point\" transform=\"translate(110.4,146.68)\" d=\"M3,0A3,3 0 1,1 0,-3A3,3 0 0,1 3,0Z\" style=\"opacity: 1; stroke-width: 0px; fill: rgb(148, 103, 189); fill-opacity: 1;\"/><path class=\"point\" transform=\"translate(90.99,173.39)\" d=\"M3,0A3,3 0 1,1 0,-3A3,3 0 0,1 3,0Z\" style=\"opacity: 1; stroke-width: 0px; fill: rgb(148, 103, 189); fill-opacity: 1;\"/><path class=\"point\" transform=\"translate(103.51,166.52)\" d=\"M3,0A3,3 0 1,1 0,-3A3,3 0 0,1 3,0Z\" style=\"opacity: 1; stroke-width: 0px; fill: rgb(148, 103, 189); fill-opacity: 1;\"/><path class=\"point\" transform=\"translate(41.23,257.17)\" d=\"M3,0A3,3 0 1,1 0,-3A3,3 0 0,1 3,0Z\" style=\"opacity: 1; stroke-width: 0px; fill: rgb(148, 103, 189); fill-opacity: 1;\"/><path class=\"point\" transform=\"translate(46.57,202.15)\" d=\"M3,0A3,3 0 1,1 0,-3A3,3 0 0,1 3,0Z\" style=\"opacity: 1; stroke-width: 0px; fill: rgb(148, 103, 189); fill-opacity: 1;\"/><path class=\"point\" transform=\"translate(34.35,221.54)\" d=\"M3,0A3,3 0 1,1 0,-3A3,3 0 0,1 3,0Z\" style=\"opacity: 1; stroke-width: 0px; fill: rgb(148, 103, 189); fill-opacity: 1;\"/><path class=\"point\" transform=\"translate(71.21,177.83)\" d=\"M3,0A3,3 0 1,1 0,-3A3,3 0 0,1 3,0Z\" style=\"opacity: 1; stroke-width: 0px; fill: rgb(148, 103, 189); fill-opacity: 1;\"/></g><g class=\"text\"/></g></g></g><g class=\"overplot\"/><path class=\"xlines-above crisp\" d=\"M79,320.5H361\" style=\"fill: none; stroke-width: 1px; stroke: rgb(36, 36, 36); stroke-opacity: 1;\"/><path class=\"ylines-above crisp\" d=\"M79.5,60V320\" style=\"fill: none; stroke-width: 1px; stroke: rgb(36, 36, 36); stroke-opacity: 1;\"/><g class=\"overlines-above\"/><g class=\"xaxislayer-above\"><path class=\"xtick ticks crisp\" d=\"M0,321v5\" transform=\"translate(80,0)\" style=\"stroke: rgb(68, 68, 68); stroke-opacity: 1; stroke-width: 1px;\"/><path class=\"xtick ticks crisp\" d=\"M0,321v5\" transform=\"translate(135.1,0)\" style=\"stroke: rgb(68, 68, 68); stroke-opacity: 1; stroke-width: 1px;\"/><path class=\"xtick ticks crisp\" d=\"M0,321v5\" transform=\"translate(190.2,0)\" style=\"stroke: rgb(68, 68, 68); stroke-opacity: 1; stroke-width: 1px;\"/><path class=\"xtick ticks crisp\" d=\"M0,321v5\" transform=\"translate(245.29,0)\" style=\"stroke: rgb(68, 68, 68); stroke-opacity: 1; stroke-width: 1px;\"/><path class=\"xtick ticks crisp\" d=\"M0,321v5\" transform=\"translate(300.39,0)\" style=\"stroke: rgb(68, 68, 68); stroke-opacity: 1; stroke-width: 1px;\"/><path class=\"xtick ticks crisp\" d=\"M0,321v5\" transform=\"translate(355.49,0)\" style=\"stroke: rgb(68, 68, 68); stroke-opacity: 1; stroke-width: 1px;\"/><g class=\"xtick\"><text text-anchor=\"middle\" x=\"0\" y=\"340.4\" transform=\"translate(80,0)\" style=\"font-family: 'Open Sans', verdana, arial, sans-serif; font-size: 12px; fill: rgb(36, 36, 36); fill-opacity: 1; white-space: pre; opacity: 1;\">0.001</text></g><g class=\"xtick\"><text text-anchor=\"middle\" x=\"0\" y=\"340.4\" style=\"font-family: 'Open Sans', verdana, arial, sans-serif; font-size: 12px; fill: rgb(36, 36, 36); fill-opacity: 1; white-space: pre; opacity: 1;\" transform=\"translate(135.1,0)\">0.01</text></g><g class=\"xtick\"><text text-anchor=\"middle\" x=\"0\" y=\"340.4\" style=\"font-family: 'Open Sans', verdana, arial, sans-serif; font-size: 12px; fill: rgb(36, 36, 36); fill-opacity: 1; white-space: pre; opacity: 1;\" transform=\"translate(190.2,0)\">0.1</text></g><g class=\"xtick\"><text text-anchor=\"middle\" x=\"0\" y=\"340.4\" style=\"font-family: 'Open Sans', verdana, arial, sans-serif; font-size: 12px; fill: rgb(36, 36, 36); fill-opacity: 1; white-space: pre; opacity: 1;\" transform=\"translate(245.29,0)\">1</text></g><g class=\"xtick\"><text text-anchor=\"middle\" x=\"0\" y=\"340.4\" style=\"font-family: 'Open Sans', verdana, arial, sans-serif; font-size: 12px; fill: rgb(36, 36, 36); fill-opacity: 1; white-space: pre; opacity: 1;\" transform=\"translate(300.39,0)\">10</text></g><g class=\"xtick\"><text text-anchor=\"middle\" x=\"0\" y=\"340.4\" style=\"font-family: 'Open Sans', verdana, arial, sans-serif; font-size: 12px; fill: rgb(36, 36, 36); fill-opacity: 1; white-space: pre; opacity: 1;\" transform=\"translate(355.49,0)\">100</text></g></g><g class=\"yaxislayer-above\"><path class=\"ytick ticks crisp\" d=\"M79,0h-5\" transform=\"translate(0,320)\" style=\"stroke: rgb(68, 68, 68); stroke-opacity: 1; stroke-width: 1px;\"/><path class=\"ytick ticks crisp\" d=\"M79,0h-5\" transform=\"translate(0,269.02)\" style=\"stroke: rgb(68, 68, 68); stroke-opacity: 1; stroke-width: 1px;\"/><path class=\"ytick ticks crisp\" d=\"M79,0h-5\" transform=\"translate(0,218.04)\" style=\"stroke: rgb(68, 68, 68); stroke-opacity: 1; stroke-width: 1px;\"/><path class=\"ytick ticks crisp\" d=\"M79,0h-5\" transform=\"translate(0,167.06)\" style=\"stroke: rgb(68, 68, 68); stroke-opacity: 1; stroke-width: 1px;\"/><path class=\"ytick ticks crisp\" d=\"M79,0h-5\" transform=\"translate(0,116.08)\" style=\"stroke: rgb(68, 68, 68); stroke-opacity: 1; stroke-width: 1px;\"/><path class=\"ytick ticks crisp\" d=\"M79,0h-5\" transform=\"translate(0,65.1)\" style=\"stroke: rgb(68, 68, 68); stroke-opacity: 1; stroke-width: 1px;\"/><g class=\"ytick\"><text text-anchor=\"end\" x=\"71.6\" y=\"4.199999999999999\" transform=\"translate(0,320)\" style=\"font-family: 'Open Sans', verdana, arial, sans-serif; font-size: 12px; fill: rgb(36, 36, 36); fill-opacity: 1; white-space: pre; opacity: 1;\">0.001</text></g><g class=\"ytick\"><text text-anchor=\"end\" x=\"71.6\" y=\"4.199999999999999\" style=\"font-family: 'Open Sans', verdana, arial, sans-serif; font-size: 12px; fill: rgb(36, 36, 36); fill-opacity: 1; white-space: pre; opacity: 1;\" transform=\"translate(0,269.02)\">0.01</text></g><g class=\"ytick\"><text text-anchor=\"end\" x=\"71.6\" y=\"4.199999999999999\" style=\"font-family: 'Open Sans', verdana, arial, sans-serif; font-size: 12px; fill: rgb(36, 36, 36); fill-opacity: 1; white-space: pre; opacity: 1;\" transform=\"translate(0,218.04)\">0.1</text></g><g class=\"ytick\"><text text-anchor=\"end\" x=\"71.6\" y=\"4.199999999999999\" style=\"font-family: 'Open Sans', verdana, arial, sans-serif; font-size: 12px; fill: rgb(36, 36, 36); fill-opacity: 1; white-space: pre; opacity: 1;\" transform=\"translate(0,167.06)\">1</text></g><g class=\"ytick\"><text text-anchor=\"end\" x=\"71.6\" y=\"4.199999999999999\" style=\"font-family: 'Open Sans', verdana, arial, sans-serif; font-size: 12px; fill: rgb(36, 36, 36); fill-opacity: 1; white-space: pre; opacity: 1;\" transform=\"translate(0,116.08)\">10</text></g><g class=\"ytick\"><text text-anchor=\"end\" x=\"71.6\" y=\"4.199999999999999\" style=\"font-family: 'Open Sans', verdana, arial, sans-serif; font-size: 12px; fill: rgb(36, 36, 36); fill-opacity: 1; white-space: pre; opacity: 1;\" transform=\"translate(0,65.1)\">100</text></g></g><g class=\"overaxes-above\"/></g></g><g class=\"polarlayer\"/><g class=\"smithlayer\"/><g class=\"ternarylayer\"/><g class=\"geolayer\"/><g class=\"funnelarealayer\"/><g class=\"pielayer\"/><g class=\"iciclelayer\"/><g class=\"treemaplayer\"/><g class=\"sunburstlayer\"/><g class=\"glimages\"/><defs id=\"topdefs-3bb11f\"><g class=\"clips\"/><clipPath id=\"legend3bb11f\"><rect width=\"121\" height=\"143\" x=\"0\" y=\"0\"/></clipPath></defs><g class=\"layer-above\"><g class=\"imagelayer\"/><g class=\"shapelayer\"/></g><g class=\"infolayer\"><g class=\"legend\" pointer-events=\"all\" transform=\"translate(366.62,60)\"><rect class=\"bg\" shape-rendering=\"crispEdges\" width=\"121\" height=\"143\" x=\"0\" y=\"0\" style=\"stroke: rgb(68, 68, 68); stroke-opacity: 1; fill: rgb(255, 255, 255); fill-opacity: 1; stroke-width: 0px;\"/><g class=\"scrollbox\" transform=\"\" clip-path=\"url(#legend3bb11f)\"><text class=\"legendtitletext\" text-anchor=\"start\" x=\"2\" y=\"18.2\" style=\"font-family: 'Open Sans', verdana, arial, sans-serif; font-size: 14px; fill: rgb(36, 36, 36); fill-opacity: 1; white-space: pre;\">RT_and_DMS</text><g class=\"groups\" transform=\"\"><g class=\"traces\" transform=\"translate(0,32.7)\" style=\"opacity: 1;\"><text class=\"legendtext\" text-anchor=\"start\" x=\"40\" y=\"4.680000000000001\" style=\"font-family: 'Open Sans', verdana, arial, sans-serif; font-size: 12px; fill: rgb(36, 36, 36); fill-opacity: 1; white-space: pre;\">RT-FS_0mM</text><g class=\"layers\" style=\"opacity: 1;\"><g class=\"legendfill\"/><g class=\"legendlines\"/><g class=\"legendsymbols\"><g class=\"legendpoints\"><path class=\"scatterpts\" transform=\"translate(20,0)\" d=\"M3,0A3,3 0 1,1 0,-3A3,3 0 0,1 3,0Z\" style=\"opacity: 1; stroke-width: 0px; fill: rgb(100, 100, 100); fill-opacity: 1;\"/></g></g></g><rect class=\"legendtoggle\" x=\"0\" y=\"-9.5\" width=\"115.8125\" height=\"19\" style=\"fill: rgb(0, 0, 0); fill-opacity: 0;\"/></g></g><g class=\"groups\" transform=\"\"><g class=\"traces\" transform=\"translate(0,51.7)\" style=\"opacity: 1;\"><text class=\"legendtext\" text-anchor=\"start\" x=\"40\" y=\"4.680000000000001\" style=\"font-family: 'Open Sans', verdana, arial, sans-serif; font-size: 12px; fill: rgb(36, 36, 36); fill-opacity: 1; white-space: pre;\">RT-FS_57mM</text><g class=\"layers\" style=\"opacity: 1;\"><g class=\"legendfill\"/><g class=\"legendlines\"/><g class=\"legendsymbols\"><g class=\"legendpoints\"><path class=\"scatterpts\" transform=\"translate(20,0)\" d=\"M3,0A3,3 0 1,1 0,-3A3,3 0 0,1 3,0Z\" style=\"opacity: 1; stroke-width: 0px; fill: rgb(31, 119, 180); fill-opacity: 1;\"/></g></g></g><rect class=\"legendtoggle\" x=\"0\" y=\"-9.5\" width=\"115.8125\" height=\"19\" style=\"fill: rgb(0, 0, 0); fill-opacity: 0;\"/></g></g><g class=\"groups\" transform=\"\"><g class=\"traces\" transform=\"translate(0,70.7)\" style=\"opacity: 1;\"><text class=\"legendtext\" text-anchor=\"start\" x=\"40\" y=\"4.680000000000001\" style=\"font-family: 'Open Sans', verdana, arial, sans-serif; font-size: 12px; fill: rgb(36, 36, 36); fill-opacity: 1; white-space: pre;\">RT-FS_85mM</text><g class=\"layers\" style=\"opacity: 1;\"><g class=\"legendfill\"/><g class=\"legendlines\"/><g class=\"legendsymbols\"><g class=\"legendpoints\"><path class=\"scatterpts\" transform=\"translate(20,0)\" d=\"M3,0A3,3 0 1,1 0,-3A3,3 0 0,1 3,0Z\" style=\"opacity: 1; stroke-width: 0px; fill: rgb(255, 127, 14); fill-opacity: 1;\"/></g></g></g><rect class=\"legendtoggle\" x=\"0\" y=\"-9.5\" width=\"115.8125\" height=\"19\" style=\"fill: rgb(0, 0, 0); fill-opacity: 0;\"/></g></g><g class=\"groups\" transform=\"\"><g class=\"traces\" transform=\"translate(0,89.7)\" style=\"opacity: 1;\"><text class=\"legendtext\" text-anchor=\"start\" x=\"40\" y=\"4.680000000000001\" style=\"font-family: 'Open Sans', verdana, arial, sans-serif; font-size: 12px; fill: rgb(36, 36, 36); fill-opacity: 1; white-space: pre;\">RT-US_0mM</text><g class=\"layers\" style=\"opacity: 1;\"><g class=\"legendfill\"/><g class=\"legendlines\"/><g class=\"legendsymbols\"><g class=\"legendpoints\"><path class=\"scatterpts\" transform=\"translate(20,0)\" d=\"M3,0A3,3 0 1,1 0,-3A3,3 0 0,1 3,0Z\" style=\"opacity: 1; stroke-width: 0px; fill: rgb(44, 160, 44); fill-opacity: 1;\"/></g></g></g><rect class=\"legendtoggle\" x=\"0\" y=\"-9.5\" width=\"115.8125\" height=\"19\" style=\"fill: rgb(0, 0, 0); fill-opacity: 0;\"/></g></g><g class=\"groups\" transform=\"\"><g class=\"traces\" transform=\"translate(0,108.7)\" style=\"opacity: 1;\"><text class=\"legendtext\" text-anchor=\"start\" x=\"40\" y=\"4.680000000000001\" style=\"font-family: 'Open Sans', verdana, arial, sans-serif; font-size: 12px; fill: rgb(36, 36, 36); fill-opacity: 1; white-space: pre;\">RT-US_57mM</text><g class=\"layers\" style=\"opacity: 1;\"><g class=\"legendfill\"/><g class=\"legendlines\"/><g class=\"legendsymbols\"><g class=\"legendpoints\"><path class=\"scatterpts\" transform=\"translate(20,0)\" d=\"M3,0A3,3 0 1,1 0,-3A3,3 0 0,1 3,0Z\" style=\"opacity: 1; stroke-width: 0px; fill: rgb(214, 39, 40); fill-opacity: 1;\"/></g></g></g><rect class=\"legendtoggle\" x=\"0\" y=\"-9.5\" width=\"115.8125\" height=\"19\" style=\"fill: rgb(0, 0, 0); fill-opacity: 0;\"/></g></g><g class=\"groups\" transform=\"\"><g class=\"traces\" transform=\"translate(0,127.7)\" style=\"opacity: 1;\"><text class=\"legendtext\" text-anchor=\"start\" x=\"40\" y=\"4.680000000000001\" style=\"font-family: 'Open Sans', verdana, arial, sans-serif; font-size: 12px; fill: rgb(36, 36, 36); fill-opacity: 1; white-space: pre;\">RT-US_85mM</text><g class=\"layers\" style=\"opacity: 1;\"><g class=\"legendfill\"/><g class=\"legendlines\"/><g class=\"legendsymbols\"><g class=\"legendpoints\"><path class=\"scatterpts\" transform=\"translate(20,0)\" d=\"M3,0A3,3 0 1,1 0,-3A3,3 0 0,1 3,0Z\" style=\"opacity: 1; stroke-width: 0px; fill: rgb(148, 103, 189); fill-opacity: 1;\"/></g></g></g><rect class=\"legendtoggle\" x=\"0\" y=\"-9.5\" width=\"115.8125\" height=\"19\" style=\"fill: rgb(0, 0, 0); fill-opacity: 0;\"/></g></g></g><rect class=\"scrollbar\" rx=\"20\" ry=\"3\" width=\"0\" height=\"0\" x=\"0\" y=\"0\" style=\"fill: rgb(128, 139, 164); fill-opacity: 1;\"/></g><g class=\"g-gtitle\"/><g class=\"g-xtitle\"><text class=\"xtitle\" x=\"220.5\" y=\"368.20625\" text-anchor=\"middle\" style=\"font-family: 'Open Sans', verdana, arial, sans-serif; font-size: 14px; fill: rgb(36, 36, 36); opacity: 1; font-weight: normal; white-space: pre;\">Rep1</text></g><g class=\"g-ytitle\"><text class=\"ytitle\" transform=\"rotate(-90,16.762500000000003,190)\" x=\"16.762500000000003\" y=\"190\" text-anchor=\"middle\" style=\"font-family: 'Open Sans', verdana, arial, sans-serif; font-size: 14px; fill: rgb(36, 36, 36); opacity: 1; font-weight: normal; white-space: pre;\">Rep2</text></g></g></svg>"
      ]
     },
     "metadata": {},
     "output_type": "display_data"
    }
   ],
   "source": [
    "fig = px.scatter(pivot_df, x=\"Rep1\", y=\"Rep2\", color=\"RT_and_DMS\", log_x=True, log_y=True)\n",
    "fig.update_xaxes(range=[-3, 2.1], dtick=[-2,2])\n",
    "fig.update_yaxes(range=[-3, 2.1], dtick=[-2,2])\n",
    "\n",
    "fig.update_layout(width=500, height=400)\n",
    "fig.show()"
   ]
  }
 ],
 "metadata": {
  "kernelspec": {
   "display_name": "Python 3 (ipykernel)",
   "language": "python",
   "name": "python3"
  },
  "language_info": {
   "codemirror_mode": {
    "name": "ipython",
    "version": 3
   },
   "file_extension": ".py",
   "mimetype": "text/x-python",
   "name": "python",
   "nbconvert_exporter": "python",
   "pygments_lexer": "ipython3",
   "version": "3.10.12"
  }
 },
 "nbformat": 4,
 "nbformat_minor": 5
}
